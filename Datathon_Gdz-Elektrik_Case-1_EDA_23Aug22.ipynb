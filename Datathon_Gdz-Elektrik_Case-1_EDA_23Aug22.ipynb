{
 "cells": [
  {
   "cell_type": "markdown",
   "metadata": {},
   "source": [
    "# .<p style=\"background-color:#9d4f8c; font-family:newtimeroman; color:#FFF9ED; font-size:175%; text-align:center; border-radius:10px 10px;\">Exploratory Data Analysis - Gdz Elektrik Datathon (Aug 2022)</p>"
   ]
  },
  {
   "cell_type": "markdown",
   "metadata": {},
   "source": [
    "**Expectation**: Prediction of unplanned outage on a daily and power unit basis"
   ]
  },
  {
   "cell_type": "markdown",
   "metadata": {},
   "source": [
    "## Importing Libraries"
   ]
  },
  {
   "cell_type": "code",
   "execution_count": 2,
   "metadata": {},
   "outputs": [],
   "source": [
    "import numpy as np\n",
    "import pandas as pd\n",
    "import seaborn as sns\n",
    "import matplotlib.pyplot as plt\n",
    "from matplotlib import style\n",
    "%matplotlib inline\n",
    "\n",
    "from skimpy import clean_columns\n",
    "from skimpy import skim\n",
    "import scipy.stats as stats\n",
    "import re\n",
    "\n",
    "# import warnings\n",
    "# warnings.filterwarnings(\"ignore\")\n",
    "# warnings.warn(\"this will not show\")\n",
    "\n",
    "plt.rcParams[\"figure.figsize\"] = (10,6)\n",
    "\n",
    "sns.set_style(\"whitegrid\")\n",
    "pd.set_option('display.float_format', lambda x: '%.3f' % x)\n",
    "\n",
    "# Set it None to display all rows in the dataframe\n",
    "# pd.set_option('display.max_rows', None)\n",
    "\n",
    "# Set it to None to display all columns in the dataframe\n",
    "pd.set_option('display.max_columns', None)"
   ]
  },
  {
   "cell_type": "markdown",
   "metadata": {},
   "source": [
    "## Reading the **Train** Data"
   ]
  },
  {
   "cell_type": "code",
   "execution_count": 3,
   "metadata": {},
   "outputs": [],
   "source": [
    "df0 = pd.read_csv(\"train.csv\")\n",
    "df = df0.copy()"
   ]
  },
  {
   "cell_type": "code",
   "execution_count": 9,
   "metadata": {},
   "outputs": [
    {
     "data": {
      "text/html": [
       "<div>\n",
       "<style scoped>\n",
       "    .dataframe tbody tr th:only-of-type {\n",
       "        vertical-align: middle;\n",
       "    }\n",
       "\n",
       "    .dataframe tbody tr th {\n",
       "        vertical-align: top;\n",
       "    }\n",
       "\n",
       "    .dataframe thead th {\n",
       "        text-align: right;\n",
       "    }\n",
       "</style>\n",
       "<table border=\"1\" class=\"dataframe\">\n",
       "  <thead>\n",
       "    <tr style=\"text-align: right;\">\n",
       "      <th></th>\n",
       "      <th>0</th>\n",
       "      <th>1</th>\n",
       "    </tr>\n",
       "  </thead>\n",
       "  <tbody>\n",
       "    <tr>\n",
       "      <th>KESİNTİ_NO</th>\n",
       "      <td>2228825</td>\n",
       "      <td>2228866</td>\n",
       "    </tr>\n",
       "    <tr>\n",
       "      <th>İL</th>\n",
       "      <td>İZMİR</td>\n",
       "      <td>İZMİR</td>\n",
       "    </tr>\n",
       "    <tr>\n",
       "      <th>İLÇE</th>\n",
       "      <td>BORNOVA</td>\n",
       "      <td>BORNOVA</td>\n",
       "    </tr>\n",
       "    <tr>\n",
       "      <th>ŞEBEKE_UNSURU</th>\n",
       "      <td>OG Fideri</td>\n",
       "      <td>OG Fideri</td>\n",
       "    </tr>\n",
       "    <tr>\n",
       "      <th>ŞEBEKE_UNSURU_KODU</th>\n",
       "      <td>K-633 35-02-K00633_K-259 K01_2034347</td>\n",
       "      <td>K-633 35-02-K00633_K-259 K01_2034347</td>\n",
       "    </tr>\n",
       "    <tr>\n",
       "      <th>KESİNTİ_NEDENİNE_İLİŞKİN_AÇIKLAMA</th>\n",
       "      <td>OG Fider Açması</td>\n",
       "      <td>OG Fider Açması</td>\n",
       "    </tr>\n",
       "    <tr>\n",
       "      <th>KAYNAĞA_GÖRE</th>\n",
       "      <td>Dağıtım-OG</td>\n",
       "      <td>Dağıtım-OG</td>\n",
       "    </tr>\n",
       "    <tr>\n",
       "      <th>SÜREYE_GÖRE</th>\n",
       "      <td>Uzun</td>\n",
       "      <td>Uzun</td>\n",
       "    </tr>\n",
       "    <tr>\n",
       "      <th>SEBEBE_GÖRE</th>\n",
       "      <td>Şebeke işletmecisi</td>\n",
       "      <td>Şebeke işletmecisi</td>\n",
       "    </tr>\n",
       "    <tr>\n",
       "      <th>BİLDİRİME_GÖRE</th>\n",
       "      <td>Bildirimsiz</td>\n",
       "      <td>Bildirimsiz</td>\n",
       "    </tr>\n",
       "    <tr>\n",
       "      <th>BAŞLAMA_TARİHİ_VE_ZAMANI</th>\n",
       "      <td>30.01.2022 20:27:00</td>\n",
       "      <td>31.01.2022 03:47:00</td>\n",
       "    </tr>\n",
       "    <tr>\n",
       "      <th>SONA_ERME_TARİHİ_VE_ZAMANI</th>\n",
       "      <td>31.01.2022 01:32:04</td>\n",
       "      <td>31.01.2022 05:30:45</td>\n",
       "    </tr>\n",
       "    <tr>\n",
       "      <th>KESİNTİ_SÜRESİ</th>\n",
       "      <td>5.084</td>\n",
       "      <td>1.729</td>\n",
       "    </tr>\n",
       "    <tr>\n",
       "      <th>KENTSEL_OG</th>\n",
       "      <td>3</td>\n",
       "      <td>3</td>\n",
       "    </tr>\n",
       "    <tr>\n",
       "      <th>KENTSEL_AG</th>\n",
       "      <td>1613</td>\n",
       "      <td>1613</td>\n",
       "    </tr>\n",
       "    <tr>\n",
       "      <th>KENTALTI_OG</th>\n",
       "      <td>0</td>\n",
       "      <td>0</td>\n",
       "    </tr>\n",
       "    <tr>\n",
       "      <th>KENTALTI_AG</th>\n",
       "      <td>0</td>\n",
       "      <td>0</td>\n",
       "    </tr>\n",
       "    <tr>\n",
       "      <th>KIRSAL_OG</th>\n",
       "      <td>0</td>\n",
       "      <td>0</td>\n",
       "    </tr>\n",
       "    <tr>\n",
       "      <th>KIRSAL_AG</th>\n",
       "      <td>0</td>\n",
       "      <td>0</td>\n",
       "    </tr>\n",
       "    <tr>\n",
       "      <th>TOPLAM_KENTSEL_OG</th>\n",
       "      <td>15.253</td>\n",
       "      <td>5.188</td>\n",
       "    </tr>\n",
       "    <tr>\n",
       "      <th>TOPLAM_KENTSEL_AG</th>\n",
       "      <td>8201.209</td>\n",
       "      <td>2789.146</td>\n",
       "    </tr>\n",
       "    <tr>\n",
       "      <th>TOPLAM_KENTALTI_OG</th>\n",
       "      <td>0.000</td>\n",
       "      <td>0.000</td>\n",
       "    </tr>\n",
       "    <tr>\n",
       "      <th>TOPLAM_KENTALTI_AG</th>\n",
       "      <td>0.000</td>\n",
       "      <td>0.000</td>\n",
       "    </tr>\n",
       "    <tr>\n",
       "      <th>TOPLAM_KIRSAL_OG</th>\n",
       "      <td>0.000</td>\n",
       "      <td>0.000</td>\n",
       "    </tr>\n",
       "    <tr>\n",
       "      <th>TOPLAM_KIRSAL_AG</th>\n",
       "      <td>0.000</td>\n",
       "      <td>0.000</td>\n",
       "    </tr>\n",
       "  </tbody>\n",
       "</table>\n",
       "</div>"
      ],
      "text/plain": [
       "                                                                      0  \\\n",
       "KESİNTİ_NO                                                      2228825   \n",
       "İL                                                                İZMİR   \n",
       "İLÇE                                                            BORNOVA   \n",
       "ŞEBEKE_UNSURU                                                 OG Fideri   \n",
       "ŞEBEKE_UNSURU_KODU                 K-633 35-02-K00633_K-259 K01_2034347   \n",
       "KESİNTİ_NEDENİNE_İLİŞKİN_AÇIKLAMA                       OG Fider Açması   \n",
       "KAYNAĞA_GÖRE                                                 Dağıtım-OG   \n",
       "SÜREYE_GÖRE                                                        Uzun   \n",
       "SEBEBE_GÖRE                                          Şebeke işletmecisi   \n",
       "BİLDİRİME_GÖRE                                              Bildirimsiz   \n",
       "BAŞLAMA_TARİHİ_VE_ZAMANI                            30.01.2022 20:27:00   \n",
       "SONA_ERME_TARİHİ_VE_ZAMANI                          31.01.2022 01:32:04   \n",
       "KESİNTİ_SÜRESİ                                                    5.084   \n",
       "KENTSEL_OG                                                            3   \n",
       "KENTSEL_AG                                                         1613   \n",
       "KENTALTI_OG                                                           0   \n",
       "KENTALTI_AG                                                           0   \n",
       "KIRSAL_OG                                                             0   \n",
       "KIRSAL_AG                                                             0   \n",
       "TOPLAM_KENTSEL_OG                                                15.253   \n",
       "TOPLAM_KENTSEL_AG                                              8201.209   \n",
       "TOPLAM_KENTALTI_OG                                                0.000   \n",
       "TOPLAM_KENTALTI_AG                                                0.000   \n",
       "TOPLAM_KIRSAL_OG                                                  0.000   \n",
       "TOPLAM_KIRSAL_AG                                                  0.000   \n",
       "\n",
       "                                                                      1  \n",
       "KESİNTİ_NO                                                      2228866  \n",
       "İL                                                                İZMİR  \n",
       "İLÇE                                                            BORNOVA  \n",
       "ŞEBEKE_UNSURU                                                 OG Fideri  \n",
       "ŞEBEKE_UNSURU_KODU                 K-633 35-02-K00633_K-259 K01_2034347  \n",
       "KESİNTİ_NEDENİNE_İLİŞKİN_AÇIKLAMA                       OG Fider Açması  \n",
       "KAYNAĞA_GÖRE                                                 Dağıtım-OG  \n",
       "SÜREYE_GÖRE                                                        Uzun  \n",
       "SEBEBE_GÖRE                                          Şebeke işletmecisi  \n",
       "BİLDİRİME_GÖRE                                              Bildirimsiz  \n",
       "BAŞLAMA_TARİHİ_VE_ZAMANI                            31.01.2022 03:47:00  \n",
       "SONA_ERME_TARİHİ_VE_ZAMANI                          31.01.2022 05:30:45  \n",
       "KESİNTİ_SÜRESİ                                                    1.729  \n",
       "KENTSEL_OG                                                            3  \n",
       "KENTSEL_AG                                                         1613  \n",
       "KENTALTI_OG                                                           0  \n",
       "KENTALTI_AG                                                           0  \n",
       "KIRSAL_OG                                                             0  \n",
       "KIRSAL_AG                                                             0  \n",
       "TOPLAM_KENTSEL_OG                                                 5.188  \n",
       "TOPLAM_KENTSEL_AG                                              2789.146  \n",
       "TOPLAM_KENTALTI_OG                                                0.000  \n",
       "TOPLAM_KENTALTI_AG                                                0.000  \n",
       "TOPLAM_KIRSAL_OG                                                  0.000  \n",
       "TOPLAM_KIRSAL_AG                                                  0.000  "
      ]
     },
     "execution_count": 9,
     "metadata": {},
     "output_type": "execute_result"
    }
   ],
   "source": [
    "df.head(2).T"
   ]
  },
  {
   "cell_type": "code",
   "execution_count": 10,
   "metadata": {},
   "outputs": [
    {
     "data": {
      "text/html": [
       "<div>\n",
       "<style scoped>\n",
       "    .dataframe tbody tr th:only-of-type {\n",
       "        vertical-align: middle;\n",
       "    }\n",
       "\n",
       "    .dataframe tbody tr th {\n",
       "        vertical-align: top;\n",
       "    }\n",
       "\n",
       "    .dataframe thead th {\n",
       "        text-align: right;\n",
       "    }\n",
       "</style>\n",
       "<table border=\"1\" class=\"dataframe\">\n",
       "  <thead>\n",
       "    <tr style=\"text-align: right;\">\n",
       "      <th></th>\n",
       "      <th>100889</th>\n",
       "      <th>100890</th>\n",
       "    </tr>\n",
       "  </thead>\n",
       "  <tbody>\n",
       "    <tr>\n",
       "      <th>KESİNTİ_NO</th>\n",
       "      <td>2198627</td>\n",
       "      <td>2184288</td>\n",
       "    </tr>\n",
       "    <tr>\n",
       "      <th>İL</th>\n",
       "      <td>İZMİR</td>\n",
       "      <td>İZMİR</td>\n",
       "    </tr>\n",
       "    <tr>\n",
       "      <th>İLÇE</th>\n",
       "      <td>BORNOVA</td>\n",
       "      <td>KARŞIYAKA</td>\n",
       "    </tr>\n",
       "    <tr>\n",
       "      <th>ŞEBEKE_UNSURU</th>\n",
       "      <td>Abone Tesisi</td>\n",
       "      <td>Abone Tesisi</td>\n",
       "    </tr>\n",
       "    <tr>\n",
       "      <th>ŞEBEKE_UNSURU_KODU</th>\n",
       "      <td>M-1785 35-02-M01785_95001315178_95001315178</td>\n",
       "      <td>M-2423 35-04-M02423_95001349833_95001349833</td>\n",
       "    </tr>\n",
       "    <tr>\n",
       "      <th>KESİNTİ_NEDENİNE_İLİŞKİN_AÇIKLAMA</th>\n",
       "      <td>AG Pano Kol Sigorta Atığı</td>\n",
       "      <td>AG Branşman Yeraltı Kablo Arızası</td>\n",
       "    </tr>\n",
       "    <tr>\n",
       "      <th>KAYNAĞA_GÖRE</th>\n",
       "      <td>Dağıtım-AG</td>\n",
       "      <td>Dağıtım-AG</td>\n",
       "    </tr>\n",
       "    <tr>\n",
       "      <th>SÜREYE_GÖRE</th>\n",
       "      <td>Uzun</td>\n",
       "      <td>Uzun</td>\n",
       "    </tr>\n",
       "    <tr>\n",
       "      <th>SEBEBE_GÖRE</th>\n",
       "      <td>Şebeke işletmecisi</td>\n",
       "      <td>Şebeke işletmecisi</td>\n",
       "    </tr>\n",
       "    <tr>\n",
       "      <th>BİLDİRİME_GÖRE</th>\n",
       "      <td>Bildirimsiz</td>\n",
       "      <td>Bildirimsiz</td>\n",
       "    </tr>\n",
       "    <tr>\n",
       "      <th>BAŞLAMA_TARİHİ_VE_ZAMANI</th>\n",
       "      <td>24.12.2021 11:37:03</td>\n",
       "      <td>18.12.2021 08:17:55</td>\n",
       "    </tr>\n",
       "    <tr>\n",
       "      <th>SONA_ERME_TARİHİ_VE_ZAMANI</th>\n",
       "      <td>24.12.2021 12:24:08</td>\n",
       "      <td>18.12.2021 09:40:55</td>\n",
       "    </tr>\n",
       "    <tr>\n",
       "      <th>KESİNTİ_SÜRESİ</th>\n",
       "      <td>0.785</td>\n",
       "      <td>1.383</td>\n",
       "    </tr>\n",
       "    <tr>\n",
       "      <th>KENTSEL_OG</th>\n",
       "      <td>0</td>\n",
       "      <td>0</td>\n",
       "    </tr>\n",
       "    <tr>\n",
       "      <th>KENTSEL_AG</th>\n",
       "      <td>1</td>\n",
       "      <td>17</td>\n",
       "    </tr>\n",
       "    <tr>\n",
       "      <th>KENTALTI_OG</th>\n",
       "      <td>0</td>\n",
       "      <td>0</td>\n",
       "    </tr>\n",
       "    <tr>\n",
       "      <th>KENTALTI_AG</th>\n",
       "      <td>0</td>\n",
       "      <td>0</td>\n",
       "    </tr>\n",
       "    <tr>\n",
       "      <th>KIRSAL_OG</th>\n",
       "      <td>0</td>\n",
       "      <td>0</td>\n",
       "    </tr>\n",
       "    <tr>\n",
       "      <th>KIRSAL_AG</th>\n",
       "      <td>0</td>\n",
       "      <td>0</td>\n",
       "    </tr>\n",
       "    <tr>\n",
       "      <th>TOPLAM_KENTSEL_OG</th>\n",
       "      <td>0.000</td>\n",
       "      <td>0.000</td>\n",
       "    </tr>\n",
       "    <tr>\n",
       "      <th>TOPLAM_KENTSEL_AG</th>\n",
       "      <td>0.785</td>\n",
       "      <td>23.517</td>\n",
       "    </tr>\n",
       "    <tr>\n",
       "      <th>TOPLAM_KENTALTI_OG</th>\n",
       "      <td>0.000</td>\n",
       "      <td>0.000</td>\n",
       "    </tr>\n",
       "    <tr>\n",
       "      <th>TOPLAM_KENTALTI_AG</th>\n",
       "      <td>0.000</td>\n",
       "      <td>0.000</td>\n",
       "    </tr>\n",
       "    <tr>\n",
       "      <th>TOPLAM_KIRSAL_OG</th>\n",
       "      <td>0.000</td>\n",
       "      <td>0.000</td>\n",
       "    </tr>\n",
       "    <tr>\n",
       "      <th>TOPLAM_KIRSAL_AG</th>\n",
       "      <td>0.000</td>\n",
       "      <td>0.000</td>\n",
       "    </tr>\n",
       "  </tbody>\n",
       "</table>\n",
       "</div>"
      ],
      "text/plain": [
       "                                                                        100889  \\\n",
       "KESİNTİ_NO                                                             2198627   \n",
       "İL                                                                       İZMİR   \n",
       "İLÇE                                                                   BORNOVA   \n",
       "ŞEBEKE_UNSURU                                                     Abone Tesisi   \n",
       "ŞEBEKE_UNSURU_KODU                 M-1785 35-02-M01785_95001315178_95001315178   \n",
       "KESİNTİ_NEDENİNE_İLİŞKİN_AÇIKLAMA                    AG Pano Kol Sigorta Atığı   \n",
       "KAYNAĞA_GÖRE                                                        Dağıtım-AG   \n",
       "SÜREYE_GÖRE                                                               Uzun   \n",
       "SEBEBE_GÖRE                                                 Şebeke işletmecisi   \n",
       "BİLDİRİME_GÖRE                                                     Bildirimsiz   \n",
       "BAŞLAMA_TARİHİ_VE_ZAMANI                                   24.12.2021 11:37:03   \n",
       "SONA_ERME_TARİHİ_VE_ZAMANI                                 24.12.2021 12:24:08   \n",
       "KESİNTİ_SÜRESİ                                                           0.785   \n",
       "KENTSEL_OG                                                                   0   \n",
       "KENTSEL_AG                                                                   1   \n",
       "KENTALTI_OG                                                                  0   \n",
       "KENTALTI_AG                                                                  0   \n",
       "KIRSAL_OG                                                                    0   \n",
       "KIRSAL_AG                                                                    0   \n",
       "TOPLAM_KENTSEL_OG                                                        0.000   \n",
       "TOPLAM_KENTSEL_AG                                                        0.785   \n",
       "TOPLAM_KENTALTI_OG                                                       0.000   \n",
       "TOPLAM_KENTALTI_AG                                                       0.000   \n",
       "TOPLAM_KIRSAL_OG                                                         0.000   \n",
       "TOPLAM_KIRSAL_AG                                                         0.000   \n",
       "\n",
       "                                                                        100890  \n",
       "KESİNTİ_NO                                                             2184288  \n",
       "İL                                                                       İZMİR  \n",
       "İLÇE                                                                 KARŞIYAKA  \n",
       "ŞEBEKE_UNSURU                                                     Abone Tesisi  \n",
       "ŞEBEKE_UNSURU_KODU                 M-2423 35-04-M02423_95001349833_95001349833  \n",
       "KESİNTİ_NEDENİNE_İLİŞKİN_AÇIKLAMA            AG Branşman Yeraltı Kablo Arızası  \n",
       "KAYNAĞA_GÖRE                                                        Dağıtım-AG  \n",
       "SÜREYE_GÖRE                                                               Uzun  \n",
       "SEBEBE_GÖRE                                                 Şebeke işletmecisi  \n",
       "BİLDİRİME_GÖRE                                                     Bildirimsiz  \n",
       "BAŞLAMA_TARİHİ_VE_ZAMANI                                   18.12.2021 08:17:55  \n",
       "SONA_ERME_TARİHİ_VE_ZAMANI                                 18.12.2021 09:40:55  \n",
       "KESİNTİ_SÜRESİ                                                           1.383  \n",
       "KENTSEL_OG                                                                   0  \n",
       "KENTSEL_AG                                                                  17  \n",
       "KENTALTI_OG                                                                  0  \n",
       "KENTALTI_AG                                                                  0  \n",
       "KIRSAL_OG                                                                    0  \n",
       "KIRSAL_AG                                                                    0  \n",
       "TOPLAM_KENTSEL_OG                                                        0.000  \n",
       "TOPLAM_KENTSEL_AG                                                       23.517  \n",
       "TOPLAM_KENTALTI_OG                                                       0.000  \n",
       "TOPLAM_KENTALTI_AG                                                       0.000  \n",
       "TOPLAM_KIRSAL_OG                                                         0.000  \n",
       "TOPLAM_KIRSAL_AG                                                         0.000  "
      ]
     },
     "execution_count": 10,
     "metadata": {},
     "output_type": "execute_result"
    }
   ],
   "source": [
    "df.tail(2).T"
   ]
  },
  {
   "cell_type": "code",
   "execution_count": 6,
   "metadata": {},
   "outputs": [
    {
     "data": {
      "text/plain": [
       "(100891, 25)"
      ]
     },
     "execution_count": 6,
     "metadata": {},
     "output_type": "execute_result"
    }
   ],
   "source": [
    "df.shape"
   ]
  },
  {
   "cell_type": "code",
   "execution_count": 7,
   "metadata": {},
   "outputs": [
    {
     "name": "stdout",
     "output_type": "stream",
     "text": [
      "<class 'pandas.core.frame.DataFrame'>\n",
      "RangeIndex: 100891 entries, 0 to 100890\n",
      "Data columns (total 25 columns):\n",
      " #   Column                             Non-Null Count   Dtype  \n",
      "---  ------                             --------------   -----  \n",
      " 0   KESİNTİ_NO                         100891 non-null  int64  \n",
      " 1   İL                                 100891 non-null  object \n",
      " 2   İLÇE                               100891 non-null  object \n",
      " 3   ŞEBEKE_UNSURU                      100891 non-null  object \n",
      " 4   ŞEBEKE_UNSURU_KODU                 100891 non-null  object \n",
      " 5   KESİNTİ_NEDENİNE_İLİŞKİN_AÇIKLAMA  100891 non-null  object \n",
      " 6   KAYNAĞA_GÖRE                       100891 non-null  object \n",
      " 7   SÜREYE_GÖRE                        100891 non-null  object \n",
      " 8   SEBEBE_GÖRE                        100890 non-null  object \n",
      " 9   BİLDİRİME_GÖRE                     100891 non-null  object \n",
      " 10  BAŞLAMA_TARİHİ_VE_ZAMANI           100891 non-null  object \n",
      " 11  SONA_ERME_TARİHİ_VE_ZAMANI         100891 non-null  object \n",
      " 12  KESİNTİ_SÜRESİ                     100891 non-null  float64\n",
      " 13  KENTSEL_OG                         100891 non-null  int64  \n",
      " 14  KENTSEL_AG                         100891 non-null  int64  \n",
      " 15  KENTALTI_OG                        100891 non-null  int64  \n",
      " 16  KENTALTI_AG                        100891 non-null  int64  \n",
      " 17  KIRSAL_OG                          100891 non-null  int64  \n",
      " 18  KIRSAL_AG                          100891 non-null  int64  \n",
      " 19  TOPLAM_KENTSEL_OG                  100751 non-null  float64\n",
      " 20  TOPLAM_KENTSEL_AG                  100751 non-null  float64\n",
      " 21  TOPLAM_KENTALTI_OG                 100751 non-null  float64\n",
      " 22  TOPLAM_KENTALTI_AG                 100751 non-null  float64\n",
      " 23  TOPLAM_KIRSAL_OG                   100751 non-null  float64\n",
      " 24  TOPLAM_KIRSAL_AG                   100751 non-null  float64\n",
      "dtypes: float64(7), int64(7), object(11)\n",
      "memory usage: 19.2+ MB\n"
     ]
    }
   ],
   "source": [
    "df.info()"
   ]
  },
  {
   "cell_type": "code",
   "execution_count": 11,
   "metadata": {},
   "outputs": [
    {
     "data": {
      "text/plain": [
       "Index(['KESİNTİ_NO', 'İL', 'İLÇE', 'ŞEBEKE_UNSURU', 'ŞEBEKE_UNSURU_KODU',\n",
       "       'KESİNTİ_NEDENİNE_İLİŞKİN_AÇIKLAMA', 'KAYNAĞA_GÖRE', 'SÜREYE_GÖRE',\n",
       "       'SEBEBE_GÖRE', 'BİLDİRİME_GÖRE', 'BAŞLAMA_TARİHİ_VE_ZAMANI',\n",
       "       'SONA_ERME_TARİHİ_VE_ZAMANI', 'KESİNTİ_SÜRESİ', 'KENTSEL_OG',\n",
       "       'KENTSEL_AG', 'KENTALTI_OG', 'KENTALTI_AG', 'KIRSAL_OG', 'KIRSAL_AG',\n",
       "       'TOPLAM_KENTSEL_OG', 'TOPLAM_KENTSEL_AG', 'TOPLAM_KENTALTI_OG',\n",
       "       'TOPLAM_KENTALTI_AG', 'TOPLAM_KIRSAL_OG', 'TOPLAM_KIRSAL_AG'],\n",
       "      dtype='object')"
      ]
     },
     "execution_count": 11,
     "metadata": {},
     "output_type": "execute_result"
    }
   ],
   "source": [
    "df.columns"
   ]
  },
  {
   "cell_type": "code",
   "execution_count": 19,
   "metadata": {},
   "outputs": [
    {
     "data": {
      "text/html": [
       "<div>\n",
       "<style scoped>\n",
       "    .dataframe tbody tr th:only-of-type {\n",
       "        vertical-align: middle;\n",
       "    }\n",
       "\n",
       "    .dataframe tbody tr th {\n",
       "        vertical-align: top;\n",
       "    }\n",
       "\n",
       "    .dataframe thead th {\n",
       "        text-align: right;\n",
       "    }\n",
       "</style>\n",
       "<table border=\"1\" class=\"dataframe\">\n",
       "  <thead>\n",
       "    <tr style=\"text-align: right;\">\n",
       "      <th></th>\n",
       "      <th>count</th>\n",
       "      <th>mean</th>\n",
       "      <th>std</th>\n",
       "      <th>min</th>\n",
       "      <th>25%</th>\n",
       "      <th>50%</th>\n",
       "      <th>75%</th>\n",
       "      <th>max</th>\n",
       "    </tr>\n",
       "  </thead>\n",
       "  <tbody>\n",
       "    <tr>\n",
       "      <th>kesinti_no</th>\n",
       "      <td>100891.000</td>\n",
       "      <td>2078226.208</td>\n",
       "      <td>173353.864</td>\n",
       "      <td>1805939.000</td>\n",
       "      <td>1893845.000</td>\n",
       "      <td>2135841.000</td>\n",
       "      <td>2232883.500</td>\n",
       "      <td>2316008.000</td>\n",
       "    </tr>\n",
       "    <tr>\n",
       "      <th>kesinti_suresi</th>\n",
       "      <td>100891.000</td>\n",
       "      <td>2.380</td>\n",
       "      <td>2.642</td>\n",
       "      <td>-2.963</td>\n",
       "      <td>0.932</td>\n",
       "      <td>1.729</td>\n",
       "      <td>3.053</td>\n",
       "      <td>289.323</td>\n",
       "    </tr>\n",
       "    <tr>\n",
       "      <th>kentsel_og</th>\n",
       "      <td>100891.000</td>\n",
       "      <td>7.779</td>\n",
       "      <td>36.657</td>\n",
       "      <td>0.000</td>\n",
       "      <td>0.000</td>\n",
       "      <td>0.000</td>\n",
       "      <td>0.000</td>\n",
       "      <td>1160.000</td>\n",
       "    </tr>\n",
       "    <tr>\n",
       "      <th>kentsel_ag</th>\n",
       "      <td>100891.000</td>\n",
       "      <td>357.187</td>\n",
       "      <td>1658.876</td>\n",
       "      <td>0.000</td>\n",
       "      <td>0.000</td>\n",
       "      <td>4.000</td>\n",
       "      <td>87.000</td>\n",
       "      <td>70961.000</td>\n",
       "    </tr>\n",
       "    <tr>\n",
       "      <th>kentalti_og</th>\n",
       "      <td>100891.000</td>\n",
       "      <td>1.234</td>\n",
       "      <td>12.338</td>\n",
       "      <td>0.000</td>\n",
       "      <td>0.000</td>\n",
       "      <td>0.000</td>\n",
       "      <td>0.000</td>\n",
       "      <td>728.000</td>\n",
       "    </tr>\n",
       "    <tr>\n",
       "      <th>kentalti_ag</th>\n",
       "      <td>100891.000</td>\n",
       "      <td>59.599</td>\n",
       "      <td>582.433</td>\n",
       "      <td>0.000</td>\n",
       "      <td>0.000</td>\n",
       "      <td>0.000</td>\n",
       "      <td>0.000</td>\n",
       "      <td>44781.000</td>\n",
       "    </tr>\n",
       "    <tr>\n",
       "      <th>kirsal_og</th>\n",
       "      <td>100891.000</td>\n",
       "      <td>2.358</td>\n",
       "      <td>16.121</td>\n",
       "      <td>0.000</td>\n",
       "      <td>0.000</td>\n",
       "      <td>0.000</td>\n",
       "      <td>0.000</td>\n",
       "      <td>482.000</td>\n",
       "    </tr>\n",
       "    <tr>\n",
       "      <th>kirsal_ag</th>\n",
       "      <td>100891.000</td>\n",
       "      <td>63.001</td>\n",
       "      <td>381.360</td>\n",
       "      <td>0.000</td>\n",
       "      <td>0.000</td>\n",
       "      <td>0.000</td>\n",
       "      <td>0.000</td>\n",
       "      <td>11673.000</td>\n",
       "    </tr>\n",
       "    <tr>\n",
       "      <th>toplam_kentsel_og</th>\n",
       "      <td>100751.000</td>\n",
       "      <td>7.675</td>\n",
       "      <td>57.584</td>\n",
       "      <td>-7.414</td>\n",
       "      <td>0.000</td>\n",
       "      <td>0.000</td>\n",
       "      <td>0.000</td>\n",
       "      <td>6042.792</td>\n",
       "    </tr>\n",
       "    <tr>\n",
       "      <th>toplam_kentsel_ag</th>\n",
       "      <td>100751.000</td>\n",
       "      <td>302.453</td>\n",
       "      <td>1466.112</td>\n",
       "      <td>-2233.601</td>\n",
       "      <td>0.000</td>\n",
       "      <td>7.232</td>\n",
       "      <td>119.663</td>\n",
       "      <td>129419.169</td>\n",
       "    </tr>\n",
       "    <tr>\n",
       "      <th>toplam_kentalti_og</th>\n",
       "      <td>100751.000</td>\n",
       "      <td>0.942</td>\n",
       "      <td>14.776</td>\n",
       "      <td>0.000</td>\n",
       "      <td>0.000</td>\n",
       "      <td>0.000</td>\n",
       "      <td>0.000</td>\n",
       "      <td>1711.691</td>\n",
       "    </tr>\n",
       "    <tr>\n",
       "      <th>toplam_kentalti_ag</th>\n",
       "      <td>100751.000</td>\n",
       "      <td>40.516</td>\n",
       "      <td>460.849</td>\n",
       "      <td>0.000</td>\n",
       "      <td>0.000</td>\n",
       "      <td>0.000</td>\n",
       "      <td>0.000</td>\n",
       "      <td>56916.000</td>\n",
       "    </tr>\n",
       "    <tr>\n",
       "      <th>toplam_kirsal_og</th>\n",
       "      <td>100751.000</td>\n",
       "      <td>1.772</td>\n",
       "      <td>19.978</td>\n",
       "      <td>0.000</td>\n",
       "      <td>0.000</td>\n",
       "      <td>0.000</td>\n",
       "      <td>0.000</td>\n",
       "      <td>2090.578</td>\n",
       "    </tr>\n",
       "    <tr>\n",
       "      <th>toplam_kirsal_ag</th>\n",
       "      <td>100751.000</td>\n",
       "      <td>45.717</td>\n",
       "      <td>357.212</td>\n",
       "      <td>0.000</td>\n",
       "      <td>0.000</td>\n",
       "      <td>0.000</td>\n",
       "      <td>0.000</td>\n",
       "      <td>31752.000</td>\n",
       "    </tr>\n",
       "  </tbody>\n",
       "</table>\n",
       "</div>"
      ],
      "text/plain": [
       "                        count        mean        std         min         25%  \\\n",
       "kesinti_no         100891.000 2078226.208 173353.864 1805939.000 1893845.000   \n",
       "kesinti_suresi     100891.000       2.380      2.642      -2.963       0.932   \n",
       "kentsel_og         100891.000       7.779     36.657       0.000       0.000   \n",
       "kentsel_ag         100891.000     357.187   1658.876       0.000       0.000   \n",
       "kentalti_og        100891.000       1.234     12.338       0.000       0.000   \n",
       "kentalti_ag        100891.000      59.599    582.433       0.000       0.000   \n",
       "kirsal_og          100891.000       2.358     16.121       0.000       0.000   \n",
       "kirsal_ag          100891.000      63.001    381.360       0.000       0.000   \n",
       "toplam_kentsel_og  100751.000       7.675     57.584      -7.414       0.000   \n",
       "toplam_kentsel_ag  100751.000     302.453   1466.112   -2233.601       0.000   \n",
       "toplam_kentalti_og 100751.000       0.942     14.776       0.000       0.000   \n",
       "toplam_kentalti_ag 100751.000      40.516    460.849       0.000       0.000   \n",
       "toplam_kirsal_og   100751.000       1.772     19.978       0.000       0.000   \n",
       "toplam_kirsal_ag   100751.000      45.717    357.212       0.000       0.000   \n",
       "\n",
       "                           50%         75%         max  \n",
       "kesinti_no         2135841.000 2232883.500 2316008.000  \n",
       "kesinti_suresi           1.729       3.053     289.323  \n",
       "kentsel_og               0.000       0.000    1160.000  \n",
       "kentsel_ag               4.000      87.000   70961.000  \n",
       "kentalti_og              0.000       0.000     728.000  \n",
       "kentalti_ag              0.000       0.000   44781.000  \n",
       "kirsal_og                0.000       0.000     482.000  \n",
       "kirsal_ag                0.000       0.000   11673.000  \n",
       "toplam_kentsel_og        0.000       0.000    6042.792  \n",
       "toplam_kentsel_ag        7.232     119.663  129419.169  \n",
       "toplam_kentalti_og       0.000       0.000    1711.691  \n",
       "toplam_kentalti_ag       0.000       0.000   56916.000  \n",
       "toplam_kirsal_og         0.000       0.000    2090.578  \n",
       "toplam_kirsal_ag         0.000       0.000   31752.000  "
      ]
     },
     "execution_count": 19,
     "metadata": {},
     "output_type": "execute_result"
    }
   ],
   "source": [
    "df.describe().T"
   ]
  },
  {
   "cell_type": "markdown",
   "metadata": {},
   "source": [
    "> usually standard deviations are higher than means. Expect extreme values."
   ]
  },
  {
   "cell_type": "code",
   "execution_count": 18,
   "metadata": {},
   "outputs": [
    {
     "data": {
      "text/html": [
       "<div>\n",
       "<style scoped>\n",
       "    .dataframe tbody tr th:only-of-type {\n",
       "        vertical-align: middle;\n",
       "    }\n",
       "\n",
       "    .dataframe tbody tr th {\n",
       "        vertical-align: top;\n",
       "    }\n",
       "\n",
       "    .dataframe thead th {\n",
       "        text-align: right;\n",
       "    }\n",
       "</style>\n",
       "<table border=\"1\" class=\"dataframe\">\n",
       "  <thead>\n",
       "    <tr style=\"text-align: right;\">\n",
       "      <th></th>\n",
       "      <th>count</th>\n",
       "      <th>unique</th>\n",
       "      <th>top</th>\n",
       "      <th>freq</th>\n",
       "    </tr>\n",
       "  </thead>\n",
       "  <tbody>\n",
       "    <tr>\n",
       "      <th>il</th>\n",
       "      <td>100891</td>\n",
       "      <td>2</td>\n",
       "      <td>İZMİR</td>\n",
       "      <td>68870</td>\n",
       "    </tr>\n",
       "    <tr>\n",
       "      <th>ilce</th>\n",
       "      <td>100891</td>\n",
       "      <td>47</td>\n",
       "      <td>ÇEŞME</td>\n",
       "      <td>5547</td>\n",
       "    </tr>\n",
       "    <tr>\n",
       "      <th>sebeke_unsuru</th>\n",
       "      <td>100891</td>\n",
       "      <td>8</td>\n",
       "      <td>Abone Tesisi</td>\n",
       "      <td>34227</td>\n",
       "    </tr>\n",
       "    <tr>\n",
       "      <th>sebeke_unsuru_kodu</th>\n",
       "      <td>100891</td>\n",
       "      <td>61480</td>\n",
       "      <td>TIRAZLI KÖK 45-79-M00079_BAHARLAR M01_72036244</td>\n",
       "      <td>67</td>\n",
       "    </tr>\n",
       "    <tr>\n",
       "      <th>kesinti_nedenine_iliskin_aciklama</th>\n",
       "      <td>100891</td>\n",
       "      <td>65</td>\n",
       "      <td>OG Fider Açması</td>\n",
       "      <td>19968</td>\n",
       "    </tr>\n",
       "    <tr>\n",
       "      <th>kaynaga_gore</th>\n",
       "      <td>100891</td>\n",
       "      <td>3</td>\n",
       "      <td>Dağıtım-AG</td>\n",
       "      <td>70107</td>\n",
       "    </tr>\n",
       "    <tr>\n",
       "      <th>sureye_gore</th>\n",
       "      <td>100891</td>\n",
       "      <td>2</td>\n",
       "      <td>Uzun</td>\n",
       "      <td>98033</td>\n",
       "    </tr>\n",
       "    <tr>\n",
       "      <th>sebebe_gore</th>\n",
       "      <td>100890</td>\n",
       "      <td>3</td>\n",
       "      <td>Şebeke işletmecisi</td>\n",
       "      <td>98807</td>\n",
       "    </tr>\n",
       "    <tr>\n",
       "      <th>bildirime_gore</th>\n",
       "      <td>100891</td>\n",
       "      <td>1</td>\n",
       "      <td>Bildirimsiz</td>\n",
       "      <td>100891</td>\n",
       "    </tr>\n",
       "    <tr>\n",
       "      <th>baslama_tarihi_ve_zamani</th>\n",
       "      <td>100891</td>\n",
       "      <td>100298</td>\n",
       "      <td>08.08.2021 07:35:52</td>\n",
       "      <td>4</td>\n",
       "    </tr>\n",
       "    <tr>\n",
       "      <th>sona_erme_tarihi_ve_zamani</th>\n",
       "      <td>100891</td>\n",
       "      <td>100507</td>\n",
       "      <td>02.08.2021 09:36:00</td>\n",
       "      <td>3</td>\n",
       "    </tr>\n",
       "  </tbody>\n",
       "</table>\n",
       "</div>"
      ],
      "text/plain": [
       "                                    count  unique  \\\n",
       "il                                 100891       2   \n",
       "ilce                               100891      47   \n",
       "sebeke_unsuru                      100891       8   \n",
       "sebeke_unsuru_kodu                 100891   61480   \n",
       "kesinti_nedenine_iliskin_aciklama  100891      65   \n",
       "kaynaga_gore                       100891       3   \n",
       "sureye_gore                        100891       2   \n",
       "sebebe_gore                        100890       3   \n",
       "bildirime_gore                     100891       1   \n",
       "baslama_tarihi_ve_zamani           100891  100298   \n",
       "sona_erme_tarihi_ve_zamani         100891  100507   \n",
       "\n",
       "                                                                              top  \\\n",
       "il                                                                          İZMİR   \n",
       "ilce                                                                        ÇEŞME   \n",
       "sebeke_unsuru                                                        Abone Tesisi   \n",
       "sebeke_unsuru_kodu                 TIRAZLI KÖK 45-79-M00079_BAHARLAR M01_72036244   \n",
       "kesinti_nedenine_iliskin_aciklama                                 OG Fider Açması   \n",
       "kaynaga_gore                                                           Dağıtım-AG   \n",
       "sureye_gore                                                                  Uzun   \n",
       "sebebe_gore                                                    Şebeke işletmecisi   \n",
       "bildirime_gore                                                        Bildirimsiz   \n",
       "baslama_tarihi_ve_zamani                                      08.08.2021 07:35:52   \n",
       "sona_erme_tarihi_ve_zamani                                    02.08.2021 09:36:00   \n",
       "\n",
       "                                     freq  \n",
       "il                                  68870  \n",
       "ilce                                 5547  \n",
       "sebeke_unsuru                       34227  \n",
       "sebeke_unsuru_kodu                     67  \n",
       "kesinti_nedenine_iliskin_aciklama   19968  \n",
       "kaynaga_gore                        70107  \n",
       "sureye_gore                         98033  \n",
       "sebebe_gore                         98807  \n",
       "bildirime_gore                     100891  \n",
       "baslama_tarihi_ve_zamani                4  \n",
       "sona_erme_tarihi_ve_zamani              3  "
      ]
     },
     "execution_count": 18,
     "metadata": {},
     "output_type": "execute_result"
    }
   ],
   "source": [
    "df.describe(include=\"O\").T"
   ]
  },
  {
   "cell_type": "code",
   "execution_count": 15,
   "metadata": {},
   "outputs": [
    {
     "data": {
      "text/plain": [
       "kesinti_no                             0\n",
       "il                                     0\n",
       "ilce                                   0\n",
       "sebeke_unsuru                          0\n",
       "sebeke_unsuru_kodu                     0\n",
       "kesinti_nedenine_iliskin_aciklama      0\n",
       "kaynaga_gore                           0\n",
       "sureye_gore                            0\n",
       "sebebe_gore                            1\n",
       "bildirime_gore                         0\n",
       "baslama_tarihi_ve_zamani               0\n",
       "sona_erme_tarihi_ve_zamani             0\n",
       "kesinti_suresi                         0\n",
       "kentsel_og                             0\n",
       "kentsel_ag                             0\n",
       "kentalti_og                            0\n",
       "kentalti_ag                            0\n",
       "kirsal_og                              0\n",
       "kirsal_ag                              0\n",
       "toplam_kentsel_og                    140\n",
       "toplam_kentsel_ag                    140\n",
       "toplam_kentalti_og                   140\n",
       "toplam_kentalti_ag                   140\n",
       "toplam_kirsal_og                     140\n",
       "toplam_kirsal_ag                     140\n",
       "dtype: int64"
      ]
     },
     "execution_count": 15,
     "metadata": {},
     "output_type": "execute_result"
    }
   ],
   "source": [
    "df.isnull().sum()"
   ]
  },
  {
   "cell_type": "code",
   "execution_count": 16,
   "metadata": {},
   "outputs": [
    {
     "data": {
      "text/plain": [
       "kesinti_no                          0.000\n",
       "il                                  0.000\n",
       "ilce                                0.000\n",
       "sebeke_unsuru                       0.000\n",
       "sebeke_unsuru_kodu                  0.000\n",
       "kesinti_nedenine_iliskin_aciklama   0.000\n",
       "kaynaga_gore                        0.000\n",
       "sureye_gore                         0.000\n",
       "sebebe_gore                         0.001\n",
       "bildirime_gore                      0.000\n",
       "baslama_tarihi_ve_zamani            0.000\n",
       "sona_erme_tarihi_ve_zamani          0.000\n",
       "kesinti_suresi                      0.000\n",
       "kentsel_og                          0.000\n",
       "kentsel_ag                          0.000\n",
       "kentalti_og                         0.000\n",
       "kentalti_ag                         0.000\n",
       "kirsal_og                           0.000\n",
       "kirsal_ag                           0.000\n",
       "toplam_kentsel_og                   0.139\n",
       "toplam_kentsel_ag                   0.139\n",
       "toplam_kentalti_og                  0.139\n",
       "toplam_kentalti_ag                  0.139\n",
       "toplam_kirsal_og                    0.139\n",
       "toplam_kirsal_ag                    0.139\n",
       "dtype: float64"
      ]
     },
     "execution_count": 16,
     "metadata": {},
     "output_type": "execute_result"
    }
   ],
   "source": [
    "df.isnull().sum() / df.shape[0] * 100"
   ]
  },
  {
   "cell_type": "code",
   "execution_count": 17,
   "metadata": {},
   "outputs": [
    {
     "data": {
      "image/png": "[encoded data removed]",
      "text/plain": [
       "<Figure size 720x432 with 1 Axes>"
      ]
     },
     "metadata": {},
     "output_type": "display_data"
    }
   ],
   "source": [
    "sns.heatmap(df.isnull(), yticklabels=False, cbar=False, cmap='viridis');"
   ]
  },
  {
   "cell_type": "code",
   "execution_count": 22,
   "metadata": {},
   "outputs": [
    {
     "data": {
      "text/html": [
       "<div>\n",
       "<style scoped>\n",
       "    .dataframe tbody tr th:only-of-type {\n",
       "        vertical-align: middle;\n",
       "    }\n",
       "\n",
       "    .dataframe tbody tr th {\n",
       "        vertical-align: top;\n",
       "    }\n",
       "\n",
       "    .dataframe thead th {\n",
       "        text-align: right;\n",
       "    }\n",
       "</style>\n",
       "<table border=\"1\" class=\"dataframe\">\n",
       "  <thead>\n",
       "    <tr style=\"text-align: right;\">\n",
       "      <th></th>\n",
       "      <th>isnull</th>\n",
       "    </tr>\n",
       "  </thead>\n",
       "  <tbody>\n",
       "    <tr>\n",
       "      <th>kesinti_no</th>\n",
       "      <td>0</td>\n",
       "    </tr>\n",
       "    <tr>\n",
       "      <th>il</th>\n",
       "      <td>0</td>\n",
       "    </tr>\n",
       "    <tr>\n",
       "      <th>ilce</th>\n",
       "      <td>0</td>\n",
       "    </tr>\n",
       "    <tr>\n",
       "      <th>sebeke_unsuru</th>\n",
       "      <td>0</td>\n",
       "    </tr>\n",
       "    <tr>\n",
       "      <th>sebeke_unsuru_kodu</th>\n",
       "      <td>0</td>\n",
       "    </tr>\n",
       "    <tr>\n",
       "      <th>kesinti_nedenine_iliskin_aciklama</th>\n",
       "      <td>0</td>\n",
       "    </tr>\n",
       "    <tr>\n",
       "      <th>kaynaga_gore</th>\n",
       "      <td>0</td>\n",
       "    </tr>\n",
       "    <tr>\n",
       "      <th>sureye_gore</th>\n",
       "      <td>0</td>\n",
       "    </tr>\n",
       "    <tr>\n",
       "      <th>sebebe_gore</th>\n",
       "      <td>1</td>\n",
       "    </tr>\n",
       "    <tr>\n",
       "      <th>bildirime_gore</th>\n",
       "      <td>0</td>\n",
       "    </tr>\n",
       "    <tr>\n",
       "      <th>baslama_tarihi_ve_zamani</th>\n",
       "      <td>0</td>\n",
       "    </tr>\n",
       "    <tr>\n",
       "      <th>sona_erme_tarihi_ve_zamani</th>\n",
       "      <td>0</td>\n",
       "    </tr>\n",
       "    <tr>\n",
       "      <th>kesinti_suresi</th>\n",
       "      <td>0</td>\n",
       "    </tr>\n",
       "    <tr>\n",
       "      <th>kentsel_og</th>\n",
       "      <td>0</td>\n",
       "    </tr>\n",
       "    <tr>\n",
       "      <th>kentsel_ag</th>\n",
       "      <td>0</td>\n",
       "    </tr>\n",
       "    <tr>\n",
       "      <th>kentalti_og</th>\n",
       "      <td>0</td>\n",
       "    </tr>\n",
       "    <tr>\n",
       "      <th>kentalti_ag</th>\n",
       "      <td>0</td>\n",
       "    </tr>\n",
       "    <tr>\n",
       "      <th>kirsal_og</th>\n",
       "      <td>0</td>\n",
       "    </tr>\n",
       "    <tr>\n",
       "      <th>kirsal_ag</th>\n",
       "      <td>0</td>\n",
       "    </tr>\n",
       "    <tr>\n",
       "      <th>toplam_kentsel_og</th>\n",
       "      <td>140</td>\n",
       "    </tr>\n",
       "    <tr>\n",
       "      <th>toplam_kentsel_ag</th>\n",
       "      <td>140</td>\n",
       "    </tr>\n",
       "    <tr>\n",
       "      <th>toplam_kentalti_og</th>\n",
       "      <td>140</td>\n",
       "    </tr>\n",
       "    <tr>\n",
       "      <th>toplam_kentalti_ag</th>\n",
       "      <td>140</td>\n",
       "    </tr>\n",
       "    <tr>\n",
       "      <th>toplam_kirsal_og</th>\n",
       "      <td>140</td>\n",
       "    </tr>\n",
       "    <tr>\n",
       "      <th>toplam_kirsal_ag</th>\n",
       "      <td>140</td>\n",
       "    </tr>\n",
       "  </tbody>\n",
       "</table>\n",
       "</div>"
      ],
      "text/plain": [
       "                                   isnull\n",
       "kesinti_no                              0\n",
       "il                                      0\n",
       "ilce                                    0\n",
       "sebeke_unsuru                           0\n",
       "sebeke_unsuru_kodu                      0\n",
       "kesinti_nedenine_iliskin_aciklama       0\n",
       "kaynaga_gore                            0\n",
       "sureye_gore                             0\n",
       "sebebe_gore                             1\n",
       "bildirime_gore                          0\n",
       "baslama_tarihi_ve_zamani                0\n",
       "sona_erme_tarihi_ve_zamani              0\n",
       "kesinti_suresi                          0\n",
       "kentsel_og                              0\n",
       "kentsel_ag                              0\n",
       "kentalti_og                             0\n",
       "kentalti_ag                             0\n",
       "kirsal_og                               0\n",
       "kirsal_ag                               0\n",
       "toplam_kentsel_og                     140\n",
       "toplam_kentsel_ag                     140\n",
       "toplam_kentalti_og                    140\n",
       "toplam_kentalti_ag                    140\n",
       "toplam_kirsal_og                      140\n",
       "toplam_kirsal_ag                      140"
      ]
     },
     "execution_count": 22,
     "metadata": {},
     "output_type": "execute_result"
    }
   ],
   "source": [
    "# df.isnull().sum()\n",
    "\n",
    "isnull = pd.DataFrame(df.isnull().sum(), columns = ['isnull'])\n",
    "isnull"
   ]
  },
  {
   "cell_type": "code",
   "execution_count": 23,
   "metadata": {},
   "outputs": [
    {
     "data": {
      "text/html": [
       "<div>\n",
       "<style scoped>\n",
       "    .dataframe tbody tr th:only-of-type {\n",
       "        vertical-align: middle;\n",
       "    }\n",
       "\n",
       "    .dataframe tbody tr th {\n",
       "        vertical-align: top;\n",
       "    }\n",
       "\n",
       "    .dataframe thead th {\n",
       "        text-align: right;\n",
       "    }\n",
       "</style>\n",
       "<table border=\"1\" class=\"dataframe\">\n",
       "  <thead>\n",
       "    <tr style=\"text-align: right;\">\n",
       "      <th></th>\n",
       "      <th>percentage_null</th>\n",
       "    </tr>\n",
       "  </thead>\n",
       "  <tbody>\n",
       "    <tr>\n",
       "      <th>kesinti_no</th>\n",
       "      <td>0.000</td>\n",
       "    </tr>\n",
       "    <tr>\n",
       "      <th>il</th>\n",
       "      <td>0.000</td>\n",
       "    </tr>\n",
       "    <tr>\n",
       "      <th>ilce</th>\n",
       "      <td>0.000</td>\n",
       "    </tr>\n",
       "    <tr>\n",
       "      <th>sebeke_unsuru</th>\n",
       "      <td>0.000</td>\n",
       "    </tr>\n",
       "    <tr>\n",
       "      <th>sebeke_unsuru_kodu</th>\n",
       "      <td>0.000</td>\n",
       "    </tr>\n",
       "    <tr>\n",
       "      <th>kesinti_nedenine_iliskin_aciklama</th>\n",
       "      <td>0.000</td>\n",
       "    </tr>\n",
       "    <tr>\n",
       "      <th>kaynaga_gore</th>\n",
       "      <td>0.000</td>\n",
       "    </tr>\n",
       "    <tr>\n",
       "      <th>sureye_gore</th>\n",
       "      <td>0.000</td>\n",
       "    </tr>\n",
       "    <tr>\n",
       "      <th>sebebe_gore</th>\n",
       "      <td>0.000</td>\n",
       "    </tr>\n",
       "    <tr>\n",
       "      <th>bildirime_gore</th>\n",
       "      <td>0.000</td>\n",
       "    </tr>\n",
       "    <tr>\n",
       "      <th>baslama_tarihi_ve_zamani</th>\n",
       "      <td>0.000</td>\n",
       "    </tr>\n",
       "    <tr>\n",
       "      <th>sona_erme_tarihi_ve_zamani</th>\n",
       "      <td>0.000</td>\n",
       "    </tr>\n",
       "    <tr>\n",
       "      <th>kesinti_suresi</th>\n",
       "      <td>0.000</td>\n",
       "    </tr>\n",
       "    <tr>\n",
       "      <th>kentsel_og</th>\n",
       "      <td>0.000</td>\n",
       "    </tr>\n",
       "    <tr>\n",
       "      <th>kentsel_ag</th>\n",
       "      <td>0.000</td>\n",
       "    </tr>\n",
       "    <tr>\n",
       "      <th>kentalti_og</th>\n",
       "      <td>0.000</td>\n",
       "    </tr>\n",
       "    <tr>\n",
       "      <th>kentalti_ag</th>\n",
       "      <td>0.000</td>\n",
       "    </tr>\n",
       "    <tr>\n",
       "      <th>kirsal_og</th>\n",
       "      <td>0.000</td>\n",
       "    </tr>\n",
       "    <tr>\n",
       "      <th>kirsal_ag</th>\n",
       "      <td>0.000</td>\n",
       "    </tr>\n",
       "    <tr>\n",
       "      <th>toplam_kentsel_og</th>\n",
       "      <td>0.140</td>\n",
       "    </tr>\n",
       "    <tr>\n",
       "      <th>toplam_kentsel_ag</th>\n",
       "      <td>0.140</td>\n",
       "    </tr>\n",
       "    <tr>\n",
       "      <th>toplam_kentalti_og</th>\n",
       "      <td>0.140</td>\n",
       "    </tr>\n",
       "    <tr>\n",
       "      <th>toplam_kentalti_ag</th>\n",
       "      <td>0.140</td>\n",
       "    </tr>\n",
       "    <tr>\n",
       "      <th>toplam_kirsal_og</th>\n",
       "      <td>0.140</td>\n",
       "    </tr>\n",
       "    <tr>\n",
       "      <th>toplam_kirsal_ag</th>\n",
       "      <td>0.140</td>\n",
       "    </tr>\n",
       "  </tbody>\n",
       "</table>\n",
       "</div>"
      ],
      "text/plain": [
       "                                   percentage_null\n",
       "kesinti_no                                   0.000\n",
       "il                                           0.000\n",
       "ilce                                         0.000\n",
       "sebeke_unsuru                                0.000\n",
       "sebeke_unsuru_kodu                           0.000\n",
       "kesinti_nedenine_iliskin_aciklama            0.000\n",
       "kaynaga_gore                                 0.000\n",
       "sureye_gore                                  0.000\n",
       "sebebe_gore                                  0.000\n",
       "bildirime_gore                               0.000\n",
       "baslama_tarihi_ve_zamani                     0.000\n",
       "sona_erme_tarihi_ve_zamani                   0.000\n",
       "kesinti_suresi                               0.000\n",
       "kentsel_og                                   0.000\n",
       "kentsel_ag                                   0.000\n",
       "kentalti_og                                  0.000\n",
       "kentalti_ag                                  0.000\n",
       "kirsal_og                                    0.000\n",
       "kirsal_ag                                    0.000\n",
       "toplam_kentsel_og                            0.140\n",
       "toplam_kentsel_ag                            0.140\n",
       "toplam_kentalti_og                           0.140\n",
       "toplam_kentalti_ag                           0.140\n",
       "toplam_kirsal_og                             0.140\n",
       "toplam_kirsal_ag                             0.140"
      ]
     },
     "execution_count": 23,
     "metadata": {},
     "output_type": "execute_result"
    }
   ],
   "source": [
    "# df.isnull().sum()*100 / df.shape[0]\n",
    "\n",
    "percentage_null = round(pd.DataFrame(df.isnull().sum()/df.shape[0]*100, columns = ['percentage_null']),2)\n",
    "percentage_null"
   ]
  },
  {
   "cell_type": "code",
   "execution_count": 24,
   "metadata": {},
   "outputs": [
    {
     "data": {
      "text/html": [
       "<div>\n",
       "<style scoped>\n",
       "    .dataframe tbody tr th:only-of-type {\n",
       "        vertical-align: middle;\n",
       "    }\n",
       "\n",
       "    .dataframe tbody tr th {\n",
       "        vertical-align: top;\n",
       "    }\n",
       "\n",
       "    .dataframe thead th {\n",
       "        text-align: right;\n",
       "    }\n",
       "</style>\n",
       "<table border=\"1\" class=\"dataframe\">\n",
       "  <thead>\n",
       "    <tr style=\"text-align: right;\">\n",
       "      <th></th>\n",
       "      <th>Columns</th>\n",
       "      <th>isnull</th>\n",
       "      <th>percentage_null</th>\n",
       "    </tr>\n",
       "  </thead>\n",
       "  <tbody>\n",
       "    <tr>\n",
       "      <th>0</th>\n",
       "      <td>kesinti_no</td>\n",
       "      <td>0</td>\n",
       "      <td>0.000</td>\n",
       "    </tr>\n",
       "    <tr>\n",
       "      <th>1</th>\n",
       "      <td>il</td>\n",
       "      <td>0</td>\n",
       "      <td>0.000</td>\n",
       "    </tr>\n",
       "    <tr>\n",
       "      <th>2</th>\n",
       "      <td>ilce</td>\n",
       "      <td>0</td>\n",
       "      <td>0.000</td>\n",
       "    </tr>\n",
       "    <tr>\n",
       "      <th>3</th>\n",
       "      <td>sebeke_unsuru</td>\n",
       "      <td>0</td>\n",
       "      <td>0.000</td>\n",
       "    </tr>\n",
       "    <tr>\n",
       "      <th>4</th>\n",
       "      <td>sebeke_unsuru_kodu</td>\n",
       "      <td>0</td>\n",
       "      <td>0.000</td>\n",
       "    </tr>\n",
       "    <tr>\n",
       "      <th>5</th>\n",
       "      <td>kesinti_nedenine_iliskin_aciklama</td>\n",
       "      <td>0</td>\n",
       "      <td>0.000</td>\n",
       "    </tr>\n",
       "    <tr>\n",
       "      <th>6</th>\n",
       "      <td>kaynaga_gore</td>\n",
       "      <td>0</td>\n",
       "      <td>0.000</td>\n",
       "    </tr>\n",
       "    <tr>\n",
       "      <th>7</th>\n",
       "      <td>sureye_gore</td>\n",
       "      <td>0</td>\n",
       "      <td>0.000</td>\n",
       "    </tr>\n",
       "    <tr>\n",
       "      <th>8</th>\n",
       "      <td>sebebe_gore</td>\n",
       "      <td>1</td>\n",
       "      <td>0.000</td>\n",
       "    </tr>\n",
       "    <tr>\n",
       "      <th>9</th>\n",
       "      <td>bildirime_gore</td>\n",
       "      <td>0</td>\n",
       "      <td>0.000</td>\n",
       "    </tr>\n",
       "    <tr>\n",
       "      <th>10</th>\n",
       "      <td>baslama_tarihi_ve_zamani</td>\n",
       "      <td>0</td>\n",
       "      <td>0.000</td>\n",
       "    </tr>\n",
       "    <tr>\n",
       "      <th>11</th>\n",
       "      <td>sona_erme_tarihi_ve_zamani</td>\n",
       "      <td>0</td>\n",
       "      <td>0.000</td>\n",
       "    </tr>\n",
       "    <tr>\n",
       "      <th>12</th>\n",
       "      <td>kesinti_suresi</td>\n",
       "      <td>0</td>\n",
       "      <td>0.000</td>\n",
       "    </tr>\n",
       "    <tr>\n",
       "      <th>13</th>\n",
       "      <td>kentsel_og</td>\n",
       "      <td>0</td>\n",
       "      <td>0.000</td>\n",
       "    </tr>\n",
       "    <tr>\n",
       "      <th>14</th>\n",
       "      <td>kentsel_ag</td>\n",
       "      <td>0</td>\n",
       "      <td>0.000</td>\n",
       "    </tr>\n",
       "    <tr>\n",
       "      <th>15</th>\n",
       "      <td>kentalti_og</td>\n",
       "      <td>0</td>\n",
       "      <td>0.000</td>\n",
       "    </tr>\n",
       "    <tr>\n",
       "      <th>16</th>\n",
       "      <td>kentalti_ag</td>\n",
       "      <td>0</td>\n",
       "      <td>0.000</td>\n",
       "    </tr>\n",
       "    <tr>\n",
       "      <th>17</th>\n",
       "      <td>kirsal_og</td>\n",
       "      <td>0</td>\n",
       "      <td>0.000</td>\n",
       "    </tr>\n",
       "    <tr>\n",
       "      <th>18</th>\n",
       "      <td>kirsal_ag</td>\n",
       "      <td>0</td>\n",
       "      <td>0.000</td>\n",
       "    </tr>\n",
       "    <tr>\n",
       "      <th>19</th>\n",
       "      <td>toplam_kentsel_og</td>\n",
       "      <td>140</td>\n",
       "      <td>0.140</td>\n",
       "    </tr>\n",
       "    <tr>\n",
       "      <th>20</th>\n",
       "      <td>toplam_kentsel_ag</td>\n",
       "      <td>140</td>\n",
       "      <td>0.140</td>\n",
       "    </tr>\n",
       "    <tr>\n",
       "      <th>21</th>\n",
       "      <td>toplam_kentalti_og</td>\n",
       "      <td>140</td>\n",
       "      <td>0.140</td>\n",
       "    </tr>\n",
       "    <tr>\n",
       "      <th>22</th>\n",
       "      <td>toplam_kentalti_ag</td>\n",
       "      <td>140</td>\n",
       "      <td>0.140</td>\n",
       "    </tr>\n",
       "    <tr>\n",
       "      <th>23</th>\n",
       "      <td>toplam_kirsal_og</td>\n",
       "      <td>140</td>\n",
       "      <td>0.140</td>\n",
       "    </tr>\n",
       "    <tr>\n",
       "      <th>24</th>\n",
       "      <td>toplam_kirsal_ag</td>\n",
       "      <td>140</td>\n",
       "      <td>0.140</td>\n",
       "    </tr>\n",
       "  </tbody>\n",
       "</table>\n",
       "</div>"
      ],
      "text/plain": [
       "                              Columns  isnull  percentage_null\n",
       "0                          kesinti_no       0            0.000\n",
       "1                                  il       0            0.000\n",
       "2                                ilce       0            0.000\n",
       "3                       sebeke_unsuru       0            0.000\n",
       "4                  sebeke_unsuru_kodu       0            0.000\n",
       "5   kesinti_nedenine_iliskin_aciklama       0            0.000\n",
       "6                        kaynaga_gore       0            0.000\n",
       "7                         sureye_gore       0            0.000\n",
       "8                         sebebe_gore       1            0.000\n",
       "9                      bildirime_gore       0            0.000\n",
       "10           baslama_tarihi_ve_zamani       0            0.000\n",
       "11         sona_erme_tarihi_ve_zamani       0            0.000\n",
       "12                     kesinti_suresi       0            0.000\n",
       "13                         kentsel_og       0            0.000\n",
       "14                         kentsel_ag       0            0.000\n",
       "15                        kentalti_og       0            0.000\n",
       "16                        kentalti_ag       0            0.000\n",
       "17                          kirsal_og       0            0.000\n",
       "18                          kirsal_ag       0            0.000\n",
       "19                  toplam_kentsel_og     140            0.140\n",
       "20                  toplam_kentsel_ag     140            0.140\n",
       "21                 toplam_kentalti_og     140            0.140\n",
       "22                 toplam_kentalti_ag     140            0.140\n",
       "23                   toplam_kirsal_og     140            0.140\n",
       "24                   toplam_kirsal_ag     140            0.140"
      ]
     },
     "execution_count": 24,
     "metadata": {},
     "output_type": "execute_result"
    }
   ],
   "source": [
    "# summary_null = pd.concat([df.isnull().sum().to_frame(), (df.isnull().sum()*100 / df.shape[0]).to_frame()], axis = 1).reset_index().rename({'index':'Columns'},axis = 1)\n",
    "# summary_null\n",
    "\n",
    "summary_null = pd.concat([isnull, percentage_null], axis = 1).reset_index().rename({'index':'Columns'},axis = 1)\n",
    "summary_null"
   ]
  },
  {
   "cell_type": "markdown",
   "metadata": {},
   "source": [
    "> minimal null values"
   ]
  },
  {
   "cell_type": "code",
   "execution_count": 20,
   "metadata": {},
   "outputs": [
    {
     "data": {
      "text/plain": [
       "Index(['il', 'ilce', 'sebeke_unsuru', 'sebeke_unsuru_kodu',\n",
       "       'kesinti_nedenine_iliskin_aciklama', 'kaynaga_gore', 'sureye_gore',\n",
       "       'sebebe_gore', 'bildirime_gore', 'baslama_tarihi_ve_zamani',\n",
       "       'sona_erme_tarihi_ve_zamani'],\n",
       "      dtype='object')"
      ]
     },
     "execution_count": 20,
     "metadata": {},
     "output_type": "execute_result"
    }
   ],
   "source": [
    "object_col = df.select_dtypes(include='object').columns\n",
    "object_col"
   ]
  },
  {
   "cell_type": "code",
   "execution_count": 21,
   "metadata": {},
   "outputs": [
    {
     "name": "stdout",
     "output_type": "stream",
     "text": [
      "il\n",
      "----------------\n",
      "İZMİR     68870\n",
      "MANİSA    32021\n",
      "Name: il, dtype: int64\n",
      "////////////////////////////////////////\n",
      "ilce\n",
      "----------------\n",
      "ÇEŞME          5547\n",
      "ÖDEMİŞ         4524\n",
      "YUNUSEMRE      4385\n",
      "URLA           3676\n",
      "AKHİSAR        3662\n",
      "BORNOVA        3595\n",
      "TORBALI        3589\n",
      "MENDERES       3578\n",
      "SALİHLİ        3547\n",
      "KONAK          3370\n",
      "TURGUTLU       2985\n",
      "ŞEHZADELER     2959\n",
      "ALAŞEHİR       2905\n",
      "KEMALPAŞA      2875\n",
      "MENEMEN        2740\n",
      "BERGAMA        2669\n",
      "BUCA           2655\n",
      "TİRE           2631\n",
      "DİKİLİ         2509\n",
      "SEFERİHİSAR    2440\n",
      "KİRAZ          2407\n",
      "KARABAĞLAR     2354\n",
      "BAYINDIR       2240\n",
      "KARABURUN      2175\n",
      "KARŞIYAKA      2155\n",
      "SARUHANLI      2033\n",
      "ALİAĞA         1864\n",
      "SOMA           1775\n",
      "BAYRAKLI       1727\n",
      "ÇİĞLİ          1716\n",
      "GÖRDES         1485\n",
      "FOÇA           1324\n",
      "KULA           1286\n",
      "SARIGÖL        1224\n",
      "SELENDİ        1067\n",
      "GAZİEMİR        909\n",
      "KIRKAĞAÇ        874\n",
      "KINIK           752\n",
      "DEMİRCİ         721\n",
      "GÜZELBAHÇE      676\n",
      "SELÇUK          658\n",
      "BEYDAĞ          566\n",
      "NARLIDERE       516\n",
      "KÖPRÜBAŞI       460\n",
      "BALÇOVA         433\n",
      "AHMETLİ         364\n",
      "GÖLMARMARA      289\n",
      "Name: ilce, dtype: int64\n",
      "////////////////////////////////////////\n",
      "sebeke_unsuru\n",
      "----------------\n",
      "Abone Tesisi                 34227\n",
      "AG Fideri                    24389\n",
      "OG Fideri                    11183\n",
      "DM                            9736\n",
      "Dağıtım Transformatörü        7804\n",
      "KÖK                           7632\n",
      "Saha Dağıtım Kutusu (SDK)     3665\n",
      "TM Fideri                     2255\n",
      "Name: sebeke_unsuru, dtype: int64\n",
      "////////////////////////////////////////\n",
      "sebeke_unsuru_kodu\n",
      "----------------\n",
      "TIRAZLI KÖK 45-79-M00079_BAHARLAR M01_72036244                         67\n",
      "SELÇUK İM/DM 35-13-A00004_SELÇUK ZİRAİ SULAMA L05_65986069             67\n",
      "MENDERES DM-2/TR-1 35-22-M00300_KÖYLER-1 M15_2095712                   66\n",
      "SİYEKLİ KÖK 45-71-M00185_OSMANCALI M04_72256923                        66\n",
      "SİYEKLİ KÖK 45-71-M00185_MALDAN M05_72256924                           62\n",
      "                                                                       ..\n",
      "ÖRENCİK TR-3 45-73-M00553_DIREK TIPI TRAFO HUCRESI H01_2039992          1\n",
      "TR-119 35-16-L00119_DIREK TIPI TRAFO HUCRESI H01_2040026                1\n",
      "KÜÇÜKBÖLCEK TR-23 35-24-M00019_DIREK TIPI TRAFO HUCRESI H01_2040059     1\n",
      "IŞIKLAR TR-1 45-73-M00789_DIREK TIPI TRAFO HUCRESI H01_2040154          1\n",
      "M-2423 35-04-M02423_95001349833_95001349833                             1\n",
      "Name: sebeke_unsuru_kodu, Length: 61480, dtype: int64\n",
      "////////////////////////////////////////\n",
      "kesinti_nedenine_iliskin_aciklama\n",
      "----------------\n",
      "OG Fider Açması                           19968\n",
      "AG Havai Branşman Arızası                 18144\n",
      "AG Pano Kol Sigorta Atığı                 16932\n",
      "AG Box / Sdk Abone Çıkış Sigorta Atığı     6108\n",
      "AG Branşman Yeraltı Kablo Arızası          5936\n",
      "                                          ...  \n",
      "OG Travers Arızası                           11\n",
      "Şebeke Bakım Çalışması                        3\n",
      "Trafo Bakım Çalışması                         3\n",
      "Yangın Sonucu Şebeke Hasarı                   2\n",
      "TEİAŞ Hat Bakım Çalışması                     1\n",
      "Name: kesinti_nedenine_iliskin_aciklama, Length: 65, dtype: int64\n",
      "////////////////////////////////////////\n",
      "kaynaga_gore\n",
      "----------------\n",
      "Dağıtım-AG    70107\n",
      "Dağıtım-OG    30248\n",
      "İletim          536\n",
      "Name: kaynaga_gore, dtype: int64\n",
      "////////////////////////////////////////\n",
      "sureye_gore\n",
      "----------------\n",
      "Uzun    98033\n",
      "Kısa     2858\n",
      "Name: sureye_gore, dtype: int64\n",
      "////////////////////////////////////////\n",
      "sebebe_gore\n",
      "----------------\n",
      "Şebeke işletmecisi    98807\n",
      "Dışsal                 1978\n",
      "Güvenlik                105\n",
      "NaN                       1\n",
      "Name: sebebe_gore, dtype: int64\n",
      "////////////////////////////////////////\n",
      "bildirime_gore\n",
      "----------------\n",
      "Bildirimsiz    100891\n",
      "Name: bildirime_gore, dtype: int64\n",
      "////////////////////////////////////////\n",
      "baslama_tarihi_ve_zamani\n",
      "----------------\n",
      "08.08.2021 07:35:52    4\n",
      "14.08.2021 16:06:00    3\n",
      "28.07.2021 16:21:16    3\n",
      "22.05.2021 12:11:00    3\n",
      "21.01.2022 12:07:00    3\n",
      "                      ..\n",
      "07.12.2021 08:45:04    1\n",
      "06.12.2021 20:01:33    1\n",
      "25.09.2021 19:01:40    1\n",
      "06.05.2021 08:55:29    1\n",
      "24.12.2021 11:37:03    1\n",
      "Name: baslama_tarihi_ve_zamani, Length: 100298, dtype: int64\n",
      "////////////////////////////////////////\n",
      "sona_erme_tarihi_ve_zamani\n",
      "----------------\n",
      "02.08.2021 09:36:00    3\n",
      "05.03.2022 20:21:00    3\n",
      "22.03.2022 15:12:00    3\n",
      "25.06.2021 03:13:49    3\n",
      "16.09.2021 18:52:00    3\n",
      "                      ..\n",
      "27.06.2021 00:54:31    1\n",
      "24.08.2021 01:19:37    1\n",
      "07.12.2021 10:09:41    1\n",
      "06.12.2021 21:35:09    1\n",
      "18.12.2021 09:40:55    1\n",
      "Name: sona_erme_tarihi_ve_zamani, Length: 100507, dtype: int64\n",
      "////////////////////////////////////////\n"
     ]
    }
   ],
   "source": [
    "for col in object_col:\n",
    "    print(col)\n",
    "    print(\"--\"*8)\n",
    "    print(df[col].value_counts(dropna=False))\n",
    "    print(\"//\"*20)"
   ]
  },
  {
   "cell_type": "code",
   "execution_count": 26,
   "metadata": {},
   "outputs": [
    {
     "data": {
      "text/html": [
       "<pre style=\"white-space:pre;overflow-x:auto;line-height:normal;font-family:Menlo,'DejaVu Sans Mono',consolas,'Courier New',monospace\">╭──────────────────────────────────────────────── skimpy summary ─────────────────────────────────────────────────╮\n",
       "│ <span style=\"font-style: italic\">         Data Summary         </span> <span style=\"font-style: italic\">      Data Types       </span>                                                          │\n",
       "│ ┏━━━━━━━━━━━━━━━━━━━┳━━━━━━━━┓ ┏━━━━━━━━━━━━━┳━━━━━━━┓                                                          │\n",
       "│ ┃<span style=\"color: #008080; text-decoration-color: #008080; font-weight: bold\"> dataframe         </span>┃<span style=\"color: #008080; text-decoration-color: #008080; font-weight: bold\"> Values </span>┃ ┃<span style=\"color: #008080; text-decoration-color: #008080; font-weight: bold\"> Column Type </span>┃<span style=\"color: #008080; text-decoration-color: #008080; font-weight: bold\"> Count </span>┃                                                          │\n",
       "│ ┡━━━━━━━━━━━━━━━━━━━╇━━━━━━━━┩ ┡━━━━━━━━━━━━━╇━━━━━━━┩                                                          │\n",
       "│ │ Number of rows    │ 100891 │ │ string      │ 11    │                                                          │\n",
       "│ │ Number of columns │ 25     │ │ int32       │ 7     │                                                          │\n",
       "│ └───────────────────┴────────┘ │ float64     │ 7     │                                                          │\n",
       "│                                └─────────────┴───────┘                                                          │\n",
       "│ <span style=\"font-style: italic\">                                                    number                                                    </span>  │\n",
       "│ ┏━━━━━━━━━━━━━━━━━━━━━━┳━━━━━━┳━━━━━━━┳━━━━━━━━━━┳━━━━━━━━━┳━━━━━━━━━━┳━━━━━━━━━┳━━━━━━━━━┳━━━━━━━━━┳━━━━━━━━┓  │\n",
       "│ ┃<span style=\"font-weight: bold\"> column_name          </span>┃<span style=\"font-weight: bold\"> NA   </span>┃<span style=\"font-weight: bold\"> NA %  </span>┃<span style=\"font-weight: bold\"> mean     </span>┃<span style=\"font-weight: bold\"> sd      </span>┃<span style=\"font-weight: bold\"> p0       </span>┃<span style=\"font-weight: bold\"> p25     </span>┃<span style=\"font-weight: bold\"> p75     </span>┃<span style=\"font-weight: bold\"> p100    </span>┃<span style=\"font-weight: bold\"> hist   </span>┃  │\n",
       "│ ┡━━━━━━━━━━━━━━━━━━━━━━╇━━━━━━╇━━━━━━━╇━━━━━━━━━━╇━━━━━━━━━╇━━━━━━━━━━╇━━━━━━━━━╇━━━━━━━━━╇━━━━━━━━━╇━━━━━━━━┩  │\n",
       "│ │ <span style=\"color: #af87ff; text-decoration-color: #af87ff\">kesinti_no          </span> │ <span style=\"color: #008080; text-decoration-color: #008080\">   0</span> │ <span style=\"color: #008080; text-decoration-color: #008080\">    0</span> │ <span style=\"color: #008080; text-decoration-color: #008080\"> 2100000</span> │ <span style=\"color: #008080; text-decoration-color: #008080\"> 170000</span> │ <span style=\"color: #008080; text-decoration-color: #008080\"> 1800000</span> │ <span style=\"color: #008080; text-decoration-color: #008080\">1900000</span> │ <span style=\"color: #008080; text-decoration-color: #008080\">2200000</span> │ <span style=\"color: #008080; text-decoration-color: #008080\">2300000</span> │ <span style=\"color: #008000; text-decoration-color: #008000\">▇▄▂▃▆█</span> │  │\n",
       "│ │ <span style=\"color: #af87ff; text-decoration-color: #af87ff\">kesinti_suresi      </span> │ <span style=\"color: #008080; text-decoration-color: #008080\">   0</span> │ <span style=\"color: #008080; text-decoration-color: #008080\">    0</span> │ <span style=\"color: #008080; text-decoration-color: #008080\">     2.4</span> │ <span style=\"color: #008080; text-decoration-color: #008080\">    2.6</span> │ <span style=\"color: #008080; text-decoration-color: #008080\">      -3</span> │ <span style=\"color: #008080; text-decoration-color: #008080\">   0.93</span> │ <span style=\"color: #008080; text-decoration-color: #008080\">    3.1</span> │ <span style=\"color: #008080; text-decoration-color: #008080\">    290</span> │ <span style=\"color: #008000; text-decoration-color: #008000\">  █   </span> │  │\n",
       "│ │ <span style=\"color: #af87ff; text-decoration-color: #af87ff\">kentsel_og          </span> │ <span style=\"color: #008080; text-decoration-color: #008080\">   0</span> │ <span style=\"color: #008080; text-decoration-color: #008080\">    0</span> │ <span style=\"color: #008080; text-decoration-color: #008080\">     7.8</span> │ <span style=\"color: #008080; text-decoration-color: #008080\">     37</span> │ <span style=\"color: #008080; text-decoration-color: #008080\">       0</span> │ <span style=\"color: #008080; text-decoration-color: #008080\">      0</span> │ <span style=\"color: #008080; text-decoration-color: #008080\">      0</span> │ <span style=\"color: #008080; text-decoration-color: #008080\">   1200</span> │ <span style=\"color: #008000; text-decoration-color: #008000\">  █   </span> │  │\n",
       "│ │ <span style=\"color: #af87ff; text-decoration-color: #af87ff\">kentsel_ag          </span> │ <span style=\"color: #008080; text-decoration-color: #008080\">   0</span> │ <span style=\"color: #008080; text-decoration-color: #008080\">    0</span> │ <span style=\"color: #008080; text-decoration-color: #008080\">     360</span> │ <span style=\"color: #008080; text-decoration-color: #008080\">   1700</span> │ <span style=\"color: #008080; text-decoration-color: #008080\">       0</span> │ <span style=\"color: #008080; text-decoration-color: #008080\">      0</span> │ <span style=\"color: #008080; text-decoration-color: #008080\">     87</span> │ <span style=\"color: #008080; text-decoration-color: #008080\">  71000</span> │ <span style=\"color: #008000; text-decoration-color: #008000\">  █   </span> │  │\n",
       "│ │ <span style=\"color: #af87ff; text-decoration-color: #af87ff\">kentalti_og         </span> │ <span style=\"color: #008080; text-decoration-color: #008080\">   0</span> │ <span style=\"color: #008080; text-decoration-color: #008080\">    0</span> │ <span style=\"color: #008080; text-decoration-color: #008080\">     1.2</span> │ <span style=\"color: #008080; text-decoration-color: #008080\">     12</span> │ <span style=\"color: #008080; text-decoration-color: #008080\">       0</span> │ <span style=\"color: #008080; text-decoration-color: #008080\">      0</span> │ <span style=\"color: #008080; text-decoration-color: #008080\">      0</span> │ <span style=\"color: #008080; text-decoration-color: #008080\">    730</span> │ <span style=\"color: #008000; text-decoration-color: #008000\">  █   </span> │  │\n",
       "│ │ <span style=\"color: #af87ff; text-decoration-color: #af87ff\">kentalti_ag         </span> │ <span style=\"color: #008080; text-decoration-color: #008080\">   0</span> │ <span style=\"color: #008080; text-decoration-color: #008080\">    0</span> │ <span style=\"color: #008080; text-decoration-color: #008080\">      60</span> │ <span style=\"color: #008080; text-decoration-color: #008080\">    580</span> │ <span style=\"color: #008080; text-decoration-color: #008080\">       0</span> │ <span style=\"color: #008080; text-decoration-color: #008080\">      0</span> │ <span style=\"color: #008080; text-decoration-color: #008080\">      0</span> │ <span style=\"color: #008080; text-decoration-color: #008080\">  45000</span> │ <span style=\"color: #008000; text-decoration-color: #008000\">  █   </span> │  │\n",
       "│ │ <span style=\"color: #af87ff; text-decoration-color: #af87ff\">kirsal_og           </span> │ <span style=\"color: #008080; text-decoration-color: #008080\">   0</span> │ <span style=\"color: #008080; text-decoration-color: #008080\">    0</span> │ <span style=\"color: #008080; text-decoration-color: #008080\">     2.4</span> │ <span style=\"color: #008080; text-decoration-color: #008080\">     16</span> │ <span style=\"color: #008080; text-decoration-color: #008080\">       0</span> │ <span style=\"color: #008080; text-decoration-color: #008080\">      0</span> │ <span style=\"color: #008080; text-decoration-color: #008080\">      0</span> │ <span style=\"color: #008080; text-decoration-color: #008080\">    480</span> │ <span style=\"color: #008000; text-decoration-color: #008000\">  █   </span> │  │\n",
       "│ │ <span style=\"color: #af87ff; text-decoration-color: #af87ff\">kirsal_ag           </span> │ <span style=\"color: #008080; text-decoration-color: #008080\">   0</span> │ <span style=\"color: #008080; text-decoration-color: #008080\">    0</span> │ <span style=\"color: #008080; text-decoration-color: #008080\">      63</span> │ <span style=\"color: #008080; text-decoration-color: #008080\">    380</span> │ <span style=\"color: #008080; text-decoration-color: #008080\">       0</span> │ <span style=\"color: #008080; text-decoration-color: #008080\">      0</span> │ <span style=\"color: #008080; text-decoration-color: #008080\">      0</span> │ <span style=\"color: #008080; text-decoration-color: #008080\">  12000</span> │ <span style=\"color: #008000; text-decoration-color: #008000\">  █   </span> │  │\n",
       "│ │ <span style=\"color: #af87ff; text-decoration-color: #af87ff\">toplam_kentsel_og   </span> │ <span style=\"color: #008080; text-decoration-color: #008080\"> 140</span> │ <span style=\"color: #008080; text-decoration-color: #008080\"> 0.14</span> │ <span style=\"color: #008080; text-decoration-color: #008080\">     7.7</span> │ <span style=\"color: #008080; text-decoration-color: #008080\">     58</span> │ <span style=\"color: #008080; text-decoration-color: #008080\">    -7.4</span> │ <span style=\"color: #008080; text-decoration-color: #008080\">      0</span> │ <span style=\"color: #008080; text-decoration-color: #008080\">      0</span> │ <span style=\"color: #008080; text-decoration-color: #008080\">   6000</span> │ <span style=\"color: #008000; text-decoration-color: #008000\">  █   </span> │  │\n",
       "│ │ <span style=\"color: #af87ff; text-decoration-color: #af87ff\">toplam_kentsel_ag   </span> │ <span style=\"color: #008080; text-decoration-color: #008080\"> 140</span> │ <span style=\"color: #008080; text-decoration-color: #008080\"> 0.14</span> │ <span style=\"color: #008080; text-decoration-color: #008080\">     300</span> │ <span style=\"color: #008080; text-decoration-color: #008080\">   1500</span> │ <span style=\"color: #008080; text-decoration-color: #008080\">   -2200</span> │ <span style=\"color: #008080; text-decoration-color: #008080\">      0</span> │ <span style=\"color: #008080; text-decoration-color: #008080\">    120</span> │ <span style=\"color: #008080; text-decoration-color: #008080\"> 130000</span> │ <span style=\"color: #008000; text-decoration-color: #008000\">  █   </span> │  │\n",
       "│ │ <span style=\"color: #af87ff; text-decoration-color: #af87ff\">toplam_kentalti_og  </span> │ <span style=\"color: #008080; text-decoration-color: #008080\"> 140</span> │ <span style=\"color: #008080; text-decoration-color: #008080\"> 0.14</span> │ <span style=\"color: #008080; text-decoration-color: #008080\">    0.94</span> │ <span style=\"color: #008080; text-decoration-color: #008080\">     15</span> │ <span style=\"color: #008080; text-decoration-color: #008080\">       0</span> │ <span style=\"color: #008080; text-decoration-color: #008080\">      0</span> │ <span style=\"color: #008080; text-decoration-color: #008080\">      0</span> │ <span style=\"color: #008080; text-decoration-color: #008080\">   1700</span> │ <span style=\"color: #008000; text-decoration-color: #008000\">  █   </span> │  │\n",
       "│ │ <span style=\"color: #af87ff; text-decoration-color: #af87ff\">toplam_kentalti_ag  </span> │ <span style=\"color: #008080; text-decoration-color: #008080\"> 140</span> │ <span style=\"color: #008080; text-decoration-color: #008080\"> 0.14</span> │ <span style=\"color: #008080; text-decoration-color: #008080\">      41</span> │ <span style=\"color: #008080; text-decoration-color: #008080\">    460</span> │ <span style=\"color: #008080; text-decoration-color: #008080\">       0</span> │ <span style=\"color: #008080; text-decoration-color: #008080\">      0</span> │ <span style=\"color: #008080; text-decoration-color: #008080\">      0</span> │ <span style=\"color: #008080; text-decoration-color: #008080\">  57000</span> │ <span style=\"color: #008000; text-decoration-color: #008000\">  █   </span> │  │\n",
       "│ │ <span style=\"color: #af87ff; text-decoration-color: #af87ff\">toplam_kirsal_og    </span> │ <span style=\"color: #008080; text-decoration-color: #008080\"> 140</span> │ <span style=\"color: #008080; text-decoration-color: #008080\"> 0.14</span> │ <span style=\"color: #008080; text-decoration-color: #008080\">     1.8</span> │ <span style=\"color: #008080; text-decoration-color: #008080\">     20</span> │ <span style=\"color: #008080; text-decoration-color: #008080\">       0</span> │ <span style=\"color: #008080; text-decoration-color: #008080\">      0</span> │ <span style=\"color: #008080; text-decoration-color: #008080\">      0</span> │ <span style=\"color: #008080; text-decoration-color: #008080\">   2100</span> │ <span style=\"color: #008000; text-decoration-color: #008000\">  █   </span> │  │\n",
       "│ │ <span style=\"color: #af87ff; text-decoration-color: #af87ff\">toplam_kirsal_ag    </span> │ <span style=\"color: #008080; text-decoration-color: #008080\"> 140</span> │ <span style=\"color: #008080; text-decoration-color: #008080\"> 0.14</span> │ <span style=\"color: #008080; text-decoration-color: #008080\">      46</span> │ <span style=\"color: #008080; text-decoration-color: #008080\">    360</span> │ <span style=\"color: #008080; text-decoration-color: #008080\">       0</span> │ <span style=\"color: #008080; text-decoration-color: #008080\">      0</span> │ <span style=\"color: #008080; text-decoration-color: #008080\">      0</span> │ <span style=\"color: #008080; text-decoration-color: #008080\">  32000</span> │ <span style=\"color: #008000; text-decoration-color: #008000\">  █   </span> │  │\n",
       "│ └──────────────────────┴──────┴───────┴──────────┴─────────┴──────────┴─────────┴─────────┴─────────┴────────┘  │\n",
       "│ <span style=\"font-style: italic\">                                                    string                                                    </span>  │\n",
       "│ ┏━━━━━━━━━━━━━━━━━━━━━━━━━━━━━━━━━━━━━┳━━━━━━━┳━━━━━━━━━━━━━━━┳━━━━━━━━━━━━━━━━━━━━━━━━━┳━━━━━━━━━━━━━━━━━━━━┓  │\n",
       "│ ┃<span style=\"font-weight: bold\"> column_name                         </span>┃<span style=\"font-weight: bold\"> NA    </span>┃<span style=\"font-weight: bold\"> NA %          </span>┃<span style=\"font-weight: bold\"> words per row           </span>┃<span style=\"font-weight: bold\"> total words        </span>┃  │\n",
       "│ ┡━━━━━━━━━━━━━━━━━━━━━━━━━━━━━━━━━━━━━╇━━━━━━━╇━━━━━━━━━━━━━━━╇━━━━━━━━━━━━━━━━━━━━━━━━━╇━━━━━━━━━━━━━━━━━━━━┩  │\n",
       "│ │ <span style=\"color: #af87ff; text-decoration-color: #af87ff\">il                                 </span> │ <span style=\"color: #008080; text-decoration-color: #008080\">    0</span> │ <span style=\"color: #008080; text-decoration-color: #008080\">            0</span> │ <span style=\"color: #008080; text-decoration-color: #008080\">                      1</span> │ <span style=\"color: #008080; text-decoration-color: #008080\">            100000</span> │  │\n",
       "│ │ <span style=\"color: #af87ff; text-decoration-color: #af87ff\">ilce                               </span> │ <span style=\"color: #008080; text-decoration-color: #008080\">    0</span> │ <span style=\"color: #008080; text-decoration-color: #008080\">            0</span> │ <span style=\"color: #008080; text-decoration-color: #008080\">                      1</span> │ <span style=\"color: #008080; text-decoration-color: #008080\">            100000</span> │  │\n",
       "│ │ <span style=\"color: #af87ff; text-decoration-color: #af87ff\">sebeke_unsuru                      </span> │ <span style=\"color: #008080; text-decoration-color: #008080\">    0</span> │ <span style=\"color: #008080; text-decoration-color: #008080\">            0</span> │ <span style=\"color: #008080; text-decoration-color: #008080\">                      1</span> │ <span style=\"color: #008080; text-decoration-color: #008080\">            100000</span> │  │\n",
       "│ │ <span style=\"color: #af87ff; text-decoration-color: #af87ff\">sebeke_unsuru_kodu                 </span> │ <span style=\"color: #008080; text-decoration-color: #008080\">    0</span> │ <span style=\"color: #008080; text-decoration-color: #008080\">            0</span> │ <span style=\"color: #008080; text-decoration-color: #008080\">                      1</span> │ <span style=\"color: #008080; text-decoration-color: #008080\">            100000</span> │  │\n",
       "│ │ <span style=\"color: #af87ff; text-decoration-color: #af87ff\">kesinti_nedenine_ili               </span> │ <span style=\"color: #008080; text-decoration-color: #008080\">    0</span> │ <span style=\"color: #008080; text-decoration-color: #008080\">            0</span> │ <span style=\"color: #008080; text-decoration-color: #008080\">                      1</span> │ <span style=\"color: #008080; text-decoration-color: #008080\">            100000</span> │  │\n",
       "│ │ <span style=\"color: #af87ff; text-decoration-color: #af87ff\">kaynaga_gore                       </span> │ <span style=\"color: #008080; text-decoration-color: #008080\">    0</span> │ <span style=\"color: #008080; text-decoration-color: #008080\">            0</span> │ <span style=\"color: #008080; text-decoration-color: #008080\">                      1</span> │ <span style=\"color: #008080; text-decoration-color: #008080\">            100000</span> │  │\n",
       "│ │ <span style=\"color: #af87ff; text-decoration-color: #af87ff\">sureye_gore                        </span> │ <span style=\"color: #008080; text-decoration-color: #008080\">    0</span> │ <span style=\"color: #008080; text-decoration-color: #008080\">            0</span> │ <span style=\"color: #008080; text-decoration-color: #008080\">                      1</span> │ <span style=\"color: #008080; text-decoration-color: #008080\">            100000</span> │  │\n",
       "│ │ <span style=\"color: #af87ff; text-decoration-color: #af87ff\">sebebe_gore                        </span> │ <span style=\"color: #008080; text-decoration-color: #008080\">    1</span> │ <span style=\"color: #008080; text-decoration-color: #008080\">      0.00099</span> │ <span style=\"color: #008080; text-decoration-color: #008080\">                      1</span> │ <span style=\"color: #008080; text-decoration-color: #008080\">            100000</span> │  │\n",
       "│ │ <span style=\"color: #af87ff; text-decoration-color: #af87ff\">bildirime_gore                     </span> │ <span style=\"color: #008080; text-decoration-color: #008080\">    0</span> │ <span style=\"color: #008080; text-decoration-color: #008080\">            0</span> │ <span style=\"color: #008080; text-decoration-color: #008080\">                      1</span> │ <span style=\"color: #008080; text-decoration-color: #008080\">            100000</span> │  │\n",
       "│ │ <span style=\"color: #af87ff; text-decoration-color: #af87ff\">baslama_tarihi_ve_za               </span> │ <span style=\"color: #008080; text-decoration-color: #008080\">    0</span> │ <span style=\"color: #008080; text-decoration-color: #008080\">            0</span> │ <span style=\"color: #008080; text-decoration-color: #008080\">                      1</span> │ <span style=\"color: #008080; text-decoration-color: #008080\">            100000</span> │  │\n",
       "│ │ <span style=\"color: #af87ff; text-decoration-color: #af87ff\">sona_erme_tarihi_ve_               </span> │ <span style=\"color: #008080; text-decoration-color: #008080\">    0</span> │ <span style=\"color: #008080; text-decoration-color: #008080\">            0</span> │ <span style=\"color: #008080; text-decoration-color: #008080\">                      1</span> │ <span style=\"color: #008080; text-decoration-color: #008080\">            100000</span> │  │\n",
       "│ └─────────────────────────────────────┴───────┴───────────────┴─────────────────────────┴────────────────────┘  │\n",
       "╰────────────────────────────────────────────────────── End ──────────────────────────────────────────────────────╯\n",
       "</pre>\n"
      ],
      "text/plain": [
       "╭──────────────────────────────────────────────── skimpy summary ─────────────────────────────────────────────────╮\n",
       "│ \u001b[3m         Data Summary         \u001b[0m \u001b[3m      Data Types       \u001b[0m                                                          │\n",
       "│ ┏━━━━━━━━━━━━━━━━━━━┳━━━━━━━━┓ ┏━━━━━━━━━━━━━┳━━━━━━━┓                                                          │\n",
       "│ ┃\u001b[1;36m \u001b[0m\u001b[1;36mdataframe        \u001b[0m\u001b[1;36m \u001b[0m┃\u001b[1;36m \u001b[0m\u001b[1;36mValues\u001b[0m\u001b[1;36m \u001b[0m┃ ┃\u001b[1;36m \u001b[0m\u001b[1;36mColumn Type\u001b[0m\u001b[1;36m \u001b[0m┃\u001b[1;36m \u001b[0m\u001b[1;36mCount\u001b[0m\u001b[1;36m \u001b[0m┃                                                          │\n",
       "│ ┡━━━━━━━━━━━━━━━━━━━╇━━━━━━━━┩ ┡━━━━━━━━━━━━━╇━━━━━━━┩                                                          │\n",
       "│ │ Number of rows    │ 100891 │ │ string      │ 11    │                                                          │\n",
       "│ │ Number of columns │ 25     │ │ int32       │ 7     │                                                          │\n",
       "│ └───────────────────┴────────┘ │ float64     │ 7     │                                                          │\n",
       "│                                └─────────────┴───────┘                                                          │\n",
       "│ \u001b[3m                                                    number                                                    \u001b[0m  │\n",
       "│ ┏━━━━━━━━━━━━━━━━━━━━━━┳━━━━━━┳━━━━━━━┳━━━━━━━━━━┳━━━━━━━━━┳━━━━━━━━━━┳━━━━━━━━━┳━━━━━━━━━┳━━━━━━━━━┳━━━━━━━━┓  │\n",
       "│ ┃\u001b[1m \u001b[0m\u001b[1mcolumn_name         \u001b[0m\u001b[1m \u001b[0m┃\u001b[1m \u001b[0m\u001b[1mNA  \u001b[0m\u001b[1m \u001b[0m┃\u001b[1m \u001b[0m\u001b[1mNA % \u001b[0m\u001b[1m \u001b[0m┃\u001b[1m \u001b[0m\u001b[1mmean    \u001b[0m\u001b[1m \u001b[0m┃\u001b[1m \u001b[0m\u001b[1msd     \u001b[0m\u001b[1m \u001b[0m┃\u001b[1m \u001b[0m\u001b[1mp0      \u001b[0m\u001b[1m \u001b[0m┃\u001b[1m \u001b[0m\u001b[1mp25    \u001b[0m\u001b[1m \u001b[0m┃\u001b[1m \u001b[0m\u001b[1mp75    \u001b[0m\u001b[1m \u001b[0m┃\u001b[1m \u001b[0m\u001b[1mp100   \u001b[0m\u001b[1m \u001b[0m┃\u001b[1m \u001b[0m\u001b[1mhist  \u001b[0m\u001b[1m \u001b[0m┃  │\n",
       "│ ┡━━━━━━━━━━━━━━━━━━━━━━╇━━━━━━╇━━━━━━━╇━━━━━━━━━━╇━━━━━━━━━╇━━━━━━━━━━╇━━━━━━━━━╇━━━━━━━━━╇━━━━━━━━━╇━━━━━━━━┩  │\n",
       "│ │ \u001b[38;5;141mkesinti_no          \u001b[0m │ \u001b[36m   0\u001b[0m │ \u001b[36m    0\u001b[0m │ \u001b[36m 2100000\u001b[0m │ \u001b[36m 170000\u001b[0m │ \u001b[36m 1800000\u001b[0m │ \u001b[36m1900000\u001b[0m │ \u001b[36m2200000\u001b[0m │ \u001b[36m2300000\u001b[0m │ \u001b[32m▇▄▂▃▆█\u001b[0m │  │\n",
       "│ │ \u001b[38;5;141mkesinti_suresi      \u001b[0m │ \u001b[36m   0\u001b[0m │ \u001b[36m    0\u001b[0m │ \u001b[36m     2.4\u001b[0m │ \u001b[36m    2.6\u001b[0m │ \u001b[36m      -3\u001b[0m │ \u001b[36m   0.93\u001b[0m │ \u001b[36m    3.1\u001b[0m │ \u001b[36m    290\u001b[0m │ \u001b[32m  █   \u001b[0m │  │\n",
       "│ │ \u001b[38;5;141mkentsel_og          \u001b[0m │ \u001b[36m   0\u001b[0m │ \u001b[36m    0\u001b[0m │ \u001b[36m     7.8\u001b[0m │ \u001b[36m     37\u001b[0m │ \u001b[36m       0\u001b[0m │ \u001b[36m      0\u001b[0m │ \u001b[36m      0\u001b[0m │ \u001b[36m   1200\u001b[0m │ \u001b[32m  █   \u001b[0m │  │\n",
       "│ │ \u001b[38;5;141mkentsel_ag          \u001b[0m │ \u001b[36m   0\u001b[0m │ \u001b[36m    0\u001b[0m │ \u001b[36m     360\u001b[0m │ \u001b[36m   1700\u001b[0m │ \u001b[36m       0\u001b[0m │ \u001b[36m      0\u001b[0m │ \u001b[36m     87\u001b[0m │ \u001b[36m  71000\u001b[0m │ \u001b[32m  █   \u001b[0m │  │\n",
       "│ │ \u001b[38;5;141mkentalti_og         \u001b[0m │ \u001b[36m   0\u001b[0m │ \u001b[36m    0\u001b[0m │ \u001b[36m     1.2\u001b[0m │ \u001b[36m     12\u001b[0m │ \u001b[36m       0\u001b[0m │ \u001b[36m      0\u001b[0m │ \u001b[36m      0\u001b[0m │ \u001b[36m    730\u001b[0m │ \u001b[32m  █   \u001b[0m │  │\n",
       "│ │ \u001b[38;5;141mkentalti_ag         \u001b[0m │ \u001b[36m   0\u001b[0m │ \u001b[36m    0\u001b[0m │ \u001b[36m      60\u001b[0m │ \u001b[36m    580\u001b[0m │ \u001b[36m       0\u001b[0m │ \u001b[36m      0\u001b[0m │ \u001b[36m      0\u001b[0m │ \u001b[36m  45000\u001b[0m │ \u001b[32m  █   \u001b[0m │  │\n",
       "│ │ \u001b[38;5;141mkirsal_og           \u001b[0m │ \u001b[36m   0\u001b[0m │ \u001b[36m    0\u001b[0m │ \u001b[36m     2.4\u001b[0m │ \u001b[36m     16\u001b[0m │ \u001b[36m       0\u001b[0m │ \u001b[36m      0\u001b[0m │ \u001b[36m      0\u001b[0m │ \u001b[36m    480\u001b[0m │ \u001b[32m  █   \u001b[0m │  │\n",
       "│ │ \u001b[38;5;141mkirsal_ag           \u001b[0m │ \u001b[36m   0\u001b[0m │ \u001b[36m    0\u001b[0m │ \u001b[36m      63\u001b[0m │ \u001b[36m    380\u001b[0m │ \u001b[36m       0\u001b[0m │ \u001b[36m      0\u001b[0m │ \u001b[36m      0\u001b[0m │ \u001b[36m  12000\u001b[0m │ \u001b[32m  █   \u001b[0m │  │\n",
       "│ │ \u001b[38;5;141mtoplam_kentsel_og   \u001b[0m │ \u001b[36m 140\u001b[0m │ \u001b[36m 0.14\u001b[0m │ \u001b[36m     7.7\u001b[0m │ \u001b[36m     58\u001b[0m │ \u001b[36m    -7.4\u001b[0m │ \u001b[36m      0\u001b[0m │ \u001b[36m      0\u001b[0m │ \u001b[36m   6000\u001b[0m │ \u001b[32m  █   \u001b[0m │  │\n",
       "│ │ \u001b[38;5;141mtoplam_kentsel_ag   \u001b[0m │ \u001b[36m 140\u001b[0m │ \u001b[36m 0.14\u001b[0m │ \u001b[36m     300\u001b[0m │ \u001b[36m   1500\u001b[0m │ \u001b[36m   -2200\u001b[0m │ \u001b[36m      0\u001b[0m │ \u001b[36m    120\u001b[0m │ \u001b[36m 130000\u001b[0m │ \u001b[32m  █   \u001b[0m │  │\n",
       "│ │ \u001b[38;5;141mtoplam_kentalti_og  \u001b[0m │ \u001b[36m 140\u001b[0m │ \u001b[36m 0.14\u001b[0m │ \u001b[36m    0.94\u001b[0m │ \u001b[36m     15\u001b[0m │ \u001b[36m       0\u001b[0m │ \u001b[36m      0\u001b[0m │ \u001b[36m      0\u001b[0m │ \u001b[36m   1700\u001b[0m │ \u001b[32m  █   \u001b[0m │  │\n",
       "│ │ \u001b[38;5;141mtoplam_kentalti_ag  \u001b[0m │ \u001b[36m 140\u001b[0m │ \u001b[36m 0.14\u001b[0m │ \u001b[36m      41\u001b[0m │ \u001b[36m    460\u001b[0m │ \u001b[36m       0\u001b[0m │ \u001b[36m      0\u001b[0m │ \u001b[36m      0\u001b[0m │ \u001b[36m  57000\u001b[0m │ \u001b[32m  █   \u001b[0m │  │\n",
       "│ │ \u001b[38;5;141mtoplam_kirsal_og    \u001b[0m │ \u001b[36m 140\u001b[0m │ \u001b[36m 0.14\u001b[0m │ \u001b[36m     1.8\u001b[0m │ \u001b[36m     20\u001b[0m │ \u001b[36m       0\u001b[0m │ \u001b[36m      0\u001b[0m │ \u001b[36m      0\u001b[0m │ \u001b[36m   2100\u001b[0m │ \u001b[32m  █   \u001b[0m │  │\n",
       "│ │ \u001b[38;5;141mtoplam_kirsal_ag    \u001b[0m │ \u001b[36m 140\u001b[0m │ \u001b[36m 0.14\u001b[0m │ \u001b[36m      46\u001b[0m │ \u001b[36m    360\u001b[0m │ \u001b[36m       0\u001b[0m │ \u001b[36m      0\u001b[0m │ \u001b[36m      0\u001b[0m │ \u001b[36m  32000\u001b[0m │ \u001b[32m  █   \u001b[0m │  │\n",
       "│ └──────────────────────┴──────┴───────┴──────────┴─────────┴──────────┴─────────┴─────────┴─────────┴────────┘  │\n",
       "│ \u001b[3m                                                    string                                                    \u001b[0m  │\n",
       "│ ┏━━━━━━━━━━━━━━━━━━━━━━━━━━━━━━━━━━━━━┳━━━━━━━┳━━━━━━━━━━━━━━━┳━━━━━━━━━━━━━━━━━━━━━━━━━┳━━━━━━━━━━━━━━━━━━━━┓  │\n",
       "│ ┃\u001b[1m \u001b[0m\u001b[1mcolumn_name                        \u001b[0m\u001b[1m \u001b[0m┃\u001b[1m \u001b[0m\u001b[1mNA   \u001b[0m\u001b[1m \u001b[0m┃\u001b[1m \u001b[0m\u001b[1mNA %         \u001b[0m\u001b[1m \u001b[0m┃\u001b[1m \u001b[0m\u001b[1mwords per row          \u001b[0m\u001b[1m \u001b[0m┃\u001b[1m \u001b[0m\u001b[1mtotal words       \u001b[0m\u001b[1m \u001b[0m┃  │\n",
       "│ ┡━━━━━━━━━━━━━━━━━━━━━━━━━━━━━━━━━━━━━╇━━━━━━━╇━━━━━━━━━━━━━━━╇━━━━━━━━━━━━━━━━━━━━━━━━━╇━━━━━━━━━━━━━━━━━━━━┩  │\n",
       "│ │ \u001b[38;5;141mil                                 \u001b[0m │ \u001b[36m    0\u001b[0m │ \u001b[36m            0\u001b[0m │ \u001b[36m                      1\u001b[0m │ \u001b[36m            100000\u001b[0m │  │\n",
       "│ │ \u001b[38;5;141milce                               \u001b[0m │ \u001b[36m    0\u001b[0m │ \u001b[36m            0\u001b[0m │ \u001b[36m                      1\u001b[0m │ \u001b[36m            100000\u001b[0m │  │\n",
       "│ │ \u001b[38;5;141msebeke_unsuru                      \u001b[0m │ \u001b[36m    0\u001b[0m │ \u001b[36m            0\u001b[0m │ \u001b[36m                      1\u001b[0m │ \u001b[36m            100000\u001b[0m │  │\n",
       "│ │ \u001b[38;5;141msebeke_unsuru_kodu                 \u001b[0m │ \u001b[36m    0\u001b[0m │ \u001b[36m            0\u001b[0m │ \u001b[36m                      1\u001b[0m │ \u001b[36m            100000\u001b[0m │  │\n",
       "│ │ \u001b[38;5;141mkesinti_nedenine_ili               \u001b[0m │ \u001b[36m    0\u001b[0m │ \u001b[36m            0\u001b[0m │ \u001b[36m                      1\u001b[0m │ \u001b[36m            100000\u001b[0m │  │\n",
       "│ │ \u001b[38;5;141mkaynaga_gore                       \u001b[0m │ \u001b[36m    0\u001b[0m │ \u001b[36m            0\u001b[0m │ \u001b[36m                      1\u001b[0m │ \u001b[36m            100000\u001b[0m │  │\n",
       "│ │ \u001b[38;5;141msureye_gore                        \u001b[0m │ \u001b[36m    0\u001b[0m │ \u001b[36m            0\u001b[0m │ \u001b[36m                      1\u001b[0m │ \u001b[36m            100000\u001b[0m │  │\n",
       "│ │ \u001b[38;5;141msebebe_gore                        \u001b[0m │ \u001b[36m    1\u001b[0m │ \u001b[36m      0.00099\u001b[0m │ \u001b[36m                      1\u001b[0m │ \u001b[36m            100000\u001b[0m │  │\n",
       "│ │ \u001b[38;5;141mbildirime_gore                     \u001b[0m │ \u001b[36m    0\u001b[0m │ \u001b[36m            0\u001b[0m │ \u001b[36m                      1\u001b[0m │ \u001b[36m            100000\u001b[0m │  │\n",
       "│ │ \u001b[38;5;141mbaslama_tarihi_ve_za               \u001b[0m │ \u001b[36m    0\u001b[0m │ \u001b[36m            0\u001b[0m │ \u001b[36m                      1\u001b[0m │ \u001b[36m            100000\u001b[0m │  │\n",
       "│ │ \u001b[38;5;141msona_erme_tarihi_ve_               \u001b[0m │ \u001b[36m    0\u001b[0m │ \u001b[36m            0\u001b[0m │ \u001b[36m                      1\u001b[0m │ \u001b[36m            100000\u001b[0m │  │\n",
       "│ └─────────────────────────────────────┴───────┴───────────────┴─────────────────────────┴────────────────────┘  │\n",
       "╰────────────────────────────────────────────────────── End ──────────────────────────────────────────────────────╯\n"
      ]
     },
     "metadata": {},
     "output_type": "display_data"
    }
   ],
   "source": [
    "skim(df)"
   ]
  },
  {
   "cell_type": "markdown",
   "metadata": {},
   "source": [
    "Cleaning column names with `skimpy.clean_columns`"
   ]
  },
  {
   "cell_type": "code",
   "execution_count": 14,
   "metadata": {},
   "outputs": [
    {
     "data": {
      "text/html": [
       "<pre style=\"white-space:pre;overflow-x:auto;line-height:normal;font-family:Menlo,'DejaVu Sans Mono',consolas,'Courier New',monospace\"><span style=\"color: #008080; text-decoration-color: #008080; font-weight: bold\">25</span> column names have been cleaned\n",
       "</pre>\n"
      ],
      "text/plain": [
       "\u001b[1;36m25\u001b[0m column names have been cleaned\n"
      ]
     },
     "metadata": {},
     "output_type": "display_data"
    },
    {
     "name": "stdout",
     "output_type": "stream",
     "text": [
      "Index(['kesinti_no', 'il', 'ilce', 'sebeke_unsuru', 'sebeke_unsuru_kodu',\n",
      "       'kesinti_nedenine_iliskin_aciklama', 'kaynaga_gore', 'sureye_gore',\n",
      "       'sebebe_gore', 'bildirime_gore', 'baslama_tarihi_ve_zamani',\n",
      "       'sona_erme_tarihi_ve_zamani', 'kesinti_suresi', 'kentsel_og',\n",
      "       'kentsel_ag', 'kentalti_og', 'kentalti_ag', 'kirsal_og', 'kirsal_ag',\n",
      "       'toplam_kentsel_og', 'toplam_kentsel_ag', 'toplam_kentalti_og',\n",
      "       'toplam_kentalti_ag', 'toplam_kirsal_og', 'toplam_kirsal_ag'],\n",
      "      dtype='object')\n"
     ]
    }
   ],
   "source": [
    "df = clean_columns(df)\n",
    "print(df.columns)"
   ]
  },
  {
   "cell_type": "markdown",
   "metadata": {},
   "source": [
    "## .<p style=\"background-color:#9d4f8c; font-family:newtimeroman; color:#FFF9ED; font-size:175%; text-align:center; border-radius:10px 10px;\">The Examination of Columns</p>"
   ]
  },
  {
   "cell_type": "markdown",
   "metadata": {},
   "source": [
    "### **<span style='color:coral'> kesinti_no </span>** "
   ]
  },
  {
   "cell_type": "markdown",
   "metadata": {},
   "source": [
    "KOD_NO(Outage ID): CRM - Müşteri/abonenin aramalarını karşılayan sorumlu tarafından alınan çağrıya istinaden TSKS sisteminde açılan kesinti kaydına atanan benzersiz(unique) numaradır."
   ]
  },
  {
   "cell_type": "code",
   "execution_count": 27,
   "metadata": {},
   "outputs": [
    {
     "data": {
      "text/plain": [
       "2228825    1\n",
       "2170552    1\n",
       "2059220    1\n",
       "1828696    1\n",
       "2058998    1\n",
       "          ..\n",
       "1836905    1\n",
       "1875155    1\n",
       "1808450    1\n",
       "2026753    1\n",
       "2184288    1\n",
       "Name: kesinti_no, Length: 100891, dtype: int64"
      ]
     },
     "execution_count": 27,
     "metadata": {},
     "output_type": "execute_result"
    }
   ],
   "source": [
    "df.kesinti_no.value_counts(dropna=False)"
   ]
  },
  {
   "cell_type": "code",
   "execution_count": 28,
   "metadata": {},
   "outputs": [
    {
     "data": {
      "text/plain": [
       "100891"
      ]
     },
     "execution_count": 28,
     "metadata": {},
     "output_type": "execute_result"
    }
   ],
   "source": [
    "df['kesinti_no'].nunique()"
   ]
  },
  {
   "cell_type": "markdown",
   "metadata": {},
   "source": [
    "> all unique values, ID for outage occurances"
   ]
  },
  {
   "cell_type": "markdown",
   "metadata": {},
   "source": [
    "### **<span style='color:coral'> il </span>** "
   ]
  },
  {
   "cell_type": "markdown",
   "metadata": {},
   "source": [
    "Kesinti kaydının açıldığı şehri belirtir."
   ]
  },
  {
   "cell_type": "code",
   "execution_count": 29,
   "metadata": {},
   "outputs": [
    {
     "data": {
      "text/plain": [
       "İZMİR     68870\n",
       "MANİSA    32021\n",
       "Name: il, dtype: Int64"
      ]
     },
     "execution_count": 29,
     "metadata": {},
     "output_type": "execute_result"
    }
   ],
   "source": [
    "df.il.value_counts(dropna=False)"
   ]
  },
  {
   "cell_type": "code",
   "execution_count": 30,
   "metadata": {},
   "outputs": [
    {
     "data": {
      "text/plain": [
       "0"
      ]
     },
     "execution_count": 30,
     "metadata": {},
     "output_type": "execute_result"
    }
   ],
   "source": [
    "df.il.isnull().sum()"
   ]
  },
  {
   "cell_type": "markdown",
   "metadata": {},
   "source": [
    "> no missing values, City of outage occurances"
   ]
  },
  {
   "cell_type": "code",
   "execution_count": 47,
   "metadata": {},
   "outputs": [
    {
     "data": {
      "image/png": "[encoded data removed]",
      "text/plain": [
       "<Figure size 720x432 with 1 Axes>"
      ]
     },
     "metadata": {},
     "output_type": "display_data"
    }
   ],
   "source": [
    "ax = sns.countplot(data=df, x=\"il\")\n",
    "\n",
    "plt.xticks(rotation = 90)\n",
    "\n",
    "for container in ax.containers:\n",
    "    ax.bar_label(container);"
   ]
  },
  {
   "cell_type": "markdown",
   "metadata": {},
   "source": [
    "> **Izmir** has the highest number of outages, more than two times higher than **Manisa**."
   ]
  },
  {
   "cell_type": "markdown",
   "metadata": {},
   "source": [
    "### **<span style='color:coral'> ilce </span>** "
   ]
  },
  {
   "cell_type": "markdown",
   "metadata": {},
   "source": [
    "Kesinti kaydının açıldığı ilçeyi belirtir."
   ]
  },
  {
   "cell_type": "code",
   "execution_count": 31,
   "metadata": {},
   "outputs": [
    {
     "data": {
      "text/plain": [
       "ÇEŞME          5547\n",
       "ÖDEMİŞ         4524\n",
       "YUNUSEMRE      4385\n",
       "URLA           3676\n",
       "AKHİSAR        3662\n",
       "BORNOVA        3595\n",
       "TORBALI        3589\n",
       "MENDERES       3578\n",
       "SALİHLİ        3547\n",
       "KONAK          3370\n",
       "TURGUTLU       2985\n",
       "ŞEHZADELER     2959\n",
       "ALAŞEHİR       2905\n",
       "KEMALPAŞA      2875\n",
       "MENEMEN        2740\n",
       "BERGAMA        2669\n",
       "BUCA           2655\n",
       "TİRE           2631\n",
       "DİKİLİ         2509\n",
       "SEFERİHİSAR    2440\n",
       "KİRAZ          2407\n",
       "KARABAĞLAR     2354\n",
       "BAYINDIR       2240\n",
       "KARABURUN      2175\n",
       "KARŞIYAKA      2155\n",
       "SARUHANLI      2033\n",
       "ALİAĞA         1864\n",
       "SOMA           1775\n",
       "BAYRAKLI       1727\n",
       "ÇİĞLİ          1716\n",
       "GÖRDES         1485\n",
       "FOÇA           1324\n",
       "KULA           1286\n",
       "SARIGÖL        1224\n",
       "SELENDİ        1067\n",
       "GAZİEMİR        909\n",
       "KIRKAĞAÇ        874\n",
       "KINIK           752\n",
       "DEMİRCİ         721\n",
       "GÜZELBAHÇE      676\n",
       "SELÇUK          658\n",
       "BEYDAĞ          566\n",
       "NARLIDERE       516\n",
       "KÖPRÜBAŞI       460\n",
       "BALÇOVA         433\n",
       "AHMETLİ         364\n",
       "GÖLMARMARA      289\n",
       "Name: ilce, dtype: Int64"
      ]
     },
     "execution_count": 31,
     "metadata": {},
     "output_type": "execute_result"
    }
   ],
   "source": [
    "df.ilce.value_counts(dropna=False)"
   ]
  },
  {
   "cell_type": "code",
   "execution_count": 33,
   "metadata": {},
   "outputs": [
    {
     "data": {
      "text/plain": [
       "47"
      ]
     },
     "execution_count": 33,
     "metadata": {},
     "output_type": "execute_result"
    }
   ],
   "source": [
    "df.ilce.nunique()"
   ]
  },
  {
   "cell_type": "code",
   "execution_count": 32,
   "metadata": {},
   "outputs": [
    {
     "data": {
      "text/plain": [
       "0"
      ]
     },
     "execution_count": 32,
     "metadata": {},
     "output_type": "execute_result"
    }
   ],
   "source": [
    "df.ilce.isnull().sum()"
   ]
  },
  {
   "cell_type": "markdown",
   "metadata": {},
   "source": [
    "> no missing values, District of outage occurances"
   ]
  },
  {
   "cell_type": "code",
   "execution_count": 42,
   "metadata": {},
   "outputs": [
    {
     "data": {
      "image/png": "[encoded data removed]",
      "text/plain": [
       "<Figure size 720x432 with 1 Axes>"
      ]
     },
     "metadata": {},
     "output_type": "display_data"
    }
   ],
   "source": [
    "large_to_small = df.groupby('ilce').size().sort_values().index[::-1]\n",
    "ax = sns.countplot(data=df, x=\"ilce\", order=large_to_small)\n",
    "\n",
    "plt.xticks(rotation = 90)\n",
    "\n",
    "for container in ax.containers:\n",
    "    ax.bar_label(container, rotation = 90);"
   ]
  },
  {
   "cell_type": "markdown",
   "metadata": {},
   "source": [
    "> **Cesme**, **Odemis** and **Yunusemre** districts have higher number of outages"
   ]
  },
  {
   "cell_type": "markdown",
   "metadata": {},
   "source": [
    "### **<span style='color:coral'> sebeke_unsuru </span>** "
   ]
  },
  {
   "cell_type": "markdown",
   "metadata": {},
   "source": [
    "Kesinti kaydı açılırken kesintinin olduğu şebeke unsurunu belirtir."
   ]
  },
  {
   "cell_type": "code",
   "execution_count": 48,
   "metadata": {},
   "outputs": [
    {
     "data": {
      "text/plain": [
       "Abone Tesisi                 34227\n",
       "AG Fideri                    24389\n",
       "OG Fideri                    11183\n",
       "DM                            9736\n",
       "Dağıtım Transformatörü        7804\n",
       "KÖK                           7632\n",
       "Saha Dağıtım Kutusu (SDK)     3665\n",
       "TM Fideri                     2255\n",
       "Name: sebeke_unsuru, dtype: Int64"
      ]
     },
     "execution_count": 48,
     "metadata": {},
     "output_type": "execute_result"
    }
   ],
   "source": [
    "df.sebeke_unsuru.value_counts(dropna=False)"
   ]
  },
  {
   "cell_type": "code",
   "execution_count": 49,
   "metadata": {},
   "outputs": [
    {
     "data": {
      "text/plain": [
       "0"
      ]
     },
     "execution_count": 49,
     "metadata": {},
     "output_type": "execute_result"
    }
   ],
   "source": [
    "df.sebeke_unsuru.isnull().sum()"
   ]
  },
  {
   "cell_type": "markdown",
   "metadata": {},
   "source": [
    "> no missing values"
   ]
  },
  {
   "cell_type": "code",
   "execution_count": 50,
   "metadata": {},
   "outputs": [
    {
     "data": {
      "image/png": "[encoded data removed]",
      "text/plain": [
       "<Figure size 720x432 with 1 Axes>"
      ]
     },
     "metadata": {},
     "output_type": "display_data"
    }
   ],
   "source": [
    "large_to_small = df.groupby('sebeke_unsuru').size().sort_values().index[::-1]\n",
    "ax = sns.countplot(data=df, x=\"sebeke_unsuru\", order=large_to_small)\n",
    "\n",
    "plt.xticks(rotation = 90)\n",
    "\n",
    "for container in ax.containers:\n",
    "    ax.bar_label(container, rotation = 90);"
   ]
  },
  {
   "cell_type": "markdown",
   "metadata": {},
   "source": [
    "### **<span style='color:coral'> sebeke_unsuru_kodu </span>** "
   ]
  },
  {
   "cell_type": "markdown",
   "metadata": {},
   "source": [
    "Kesinti kaydı açılırken kesintinin olduğu şebeke unsuru kodudur."
   ]
  },
  {
   "cell_type": "code",
   "execution_count": 51,
   "metadata": {},
   "outputs": [
    {
     "data": {
      "text/plain": [
       "TIRAZLI KÖK 45-79-M00079_BAHARLAR M01_72036244                67\n",
       "SELÇUK İM/DM 35-13-A00004_SELÇUK ZİRAİ SULAMA L05_65986069    67\n",
       "MENDERES DM-2/TR-1 35-22-M00300_KÖYLER-1 M15_2095712          66\n",
       "SİYEKLİ KÖK 45-71-M00185_OSMANCALI M04_72256923               66\n",
       "SİYEKLİ KÖK 45-71-M00185_MALDAN M05_72256924                  62\n",
       "                                                              ..\n",
       "DM06/TR08 45-73-M00036_945672137_945672137                     1\n",
       "DM02/TR18 BELEDİYE ÖNÜ 45-73-M00012_945672452_945672452        1\n",
       "PİYADELER TR-1 45-73-M00165_945672651_945672651                1\n",
       "PİYADELER TR-1 45-73-M00165_945672730_945672730                1\n",
       "M-2423 35-04-M02423_95001349833_95001349833                    1\n",
       "Name: sebeke_unsuru_kodu, Length: 61480, dtype: Int64"
      ]
     },
     "execution_count": 51,
     "metadata": {},
     "output_type": "execute_result"
    }
   ],
   "source": [
    "df.sebeke_unsuru_kodu.value_counts(dropna=False)"
   ]
  },
  {
   "cell_type": "code",
   "execution_count": 53,
   "metadata": {},
   "outputs": [
    {
     "data": {
      "text/plain": [
       "61480"
      ]
     },
     "execution_count": 53,
     "metadata": {},
     "output_type": "execute_result"
    }
   ],
   "source": [
    "df.sebeke_unsuru_kodu.nunique()"
   ]
  },
  {
   "cell_type": "code",
   "execution_count": 52,
   "metadata": {},
   "outputs": [
    {
     "data": {
      "text/plain": [
       "0"
      ]
     },
     "execution_count": 52,
     "metadata": {},
     "output_type": "execute_result"
    }
   ],
   "source": [
    "df.sebeke_unsuru_kodu.isnull().sum()"
   ]
  },
  {
   "cell_type": "markdown",
   "metadata": {},
   "source": [
    "> no missing values"
   ]
  },
  {
   "cell_type": "code",
   "execution_count": 54,
   "metadata": {},
   "outputs": [
    {
     "data": {
      "text/plain": [
       "sebeke_unsuru  sebeke_unsuru_kodu                                 \n",
       "AG Fideri      GÜZELKÖY TR 45-71-M00984_44426475_56395521_56395521    24\n",
       "               M-212(DM-3/10) 35-09-M00212_D_56382280_56382280        21\n",
       "               K-290 35-01-K00290_A_60984145_60984145                 20\n",
       "               MURADİYE TR-4 45-71-M01417_A_56384528_56384528         20\n",
       "               M-2112 35-03-M02112_A_56365376_56365376                19\n",
       "                                                                      ..\n",
       "TM Fideri      ŞEMİKLER TM 35-04-A00003_ŞEMİKLER-2 K26_2311170         1\n",
       "               ŞEMİKLER TM 35-04-A00003_ŞEMİKLER-3 K27_2311171         1\n",
       "               ŞEMİKLER TM 35-04-A00003_ŞEMİKLER-8 K33_2055846         1\n",
       "               ŞEMİKLER TM 35-04-A00003_ŞEMİKLER-8 K33_2312123         1\n",
       "               ŞEMİKLER TM 35-04-A00003_ŞEMİKLER-9 K38_2312126         1\n",
       "Name: sebeke_unsuru_kodu, Length: 61480, dtype: int64"
      ]
     },
     "execution_count": 54,
     "metadata": {},
     "output_type": "execute_result"
    }
   ],
   "source": [
    "df.groupby(\"sebeke_unsuru\")[\"sebeke_unsuru_kodu\"].value_counts(dropna=False)"
   ]
  },
  {
   "cell_type": "markdown",
   "metadata": {},
   "source": [
    "> this column serves as equipment ID of outage node?"
   ]
  },
  {
   "cell_type": "markdown",
   "metadata": {},
   "source": [
    "### **<span style='color:coral'> kesinti_nedenine_iliskin_aciklama </span>** "
   ]
  },
  {
   "cell_type": "markdown",
   "metadata": {},
   "source": [
    "Açılan kesinti kaydında liste içerisinden CRM sorumlusu tarafından seçilen kesinti nedenidir."
   ]
  },
  {
   "cell_type": "code",
   "execution_count": 55,
   "metadata": {},
   "outputs": [
    {
     "data": {
      "text/plain": [
       "OG Fider Açması                           19968\n",
       "AG Havai Branşman Arızası                 18144\n",
       "AG Pano Kol Sigorta Atığı                 16932\n",
       "AG Box / Sdk Abone Çıkış Sigorta Atığı     6108\n",
       "AG Branşman Yeraltı Kablo Arızası          5936\n",
       "                                          ...  \n",
       "OG Travers Arızası                           11\n",
       "Şebeke Bakım Çalışması                        3\n",
       "Trafo Bakım Çalışması                         3\n",
       "Yangın Sonucu Şebeke Hasarı                   2\n",
       "TEİAŞ Hat Bakım Çalışması                     1\n",
       "Name: kesinti_nedenine_iliskin_aciklama, Length: 65, dtype: Int64"
      ]
     },
     "execution_count": 55,
     "metadata": {},
     "output_type": "execute_result"
    }
   ],
   "source": [
    "df.kesinti_nedenine_iliskin_aciklama.value_counts(dropna=False)"
   ]
  },
  {
   "cell_type": "code",
   "execution_count": 56,
   "metadata": {},
   "outputs": [
    {
     "data": {
      "text/plain": [
       "0"
      ]
     },
     "execution_count": 56,
     "metadata": {},
     "output_type": "execute_result"
    }
   ],
   "source": [
    "df.kesinti_nedenine_iliskin_aciklama.isnull().sum()"
   ]
  },
  {
   "cell_type": "markdown",
   "metadata": {},
   "source": [
    "> no missing values"
   ]
  },
  {
   "cell_type": "code",
   "execution_count": 57,
   "metadata": {},
   "outputs": [
    {
     "data": {
      "text/plain": [
       "65"
      ]
     },
     "execution_count": 57,
     "metadata": {},
     "output_type": "execute_result"
    }
   ],
   "source": [
    "df.kesinti_nedenine_iliskin_aciklama.nunique()"
   ]
  },
  {
   "cell_type": "code",
   "execution_count": 58,
   "metadata": {},
   "outputs": [
    {
     "data": {
      "image/png": "[encoded data removed]",
      "text/plain": [
       "<Figure size 720x432 with 1 Axes>"
      ]
     },
     "metadata": {},
     "output_type": "display_data"
    }
   ],
   "source": [
    "large_to_small = df.groupby('kesinti_nedenine_iliskin_aciklama').size().sort_values().index[::-1]\n",
    "ax = sns.countplot(data=df, x=\"kesinti_nedenine_iliskin_aciklama\", order=large_to_small)\n",
    "\n",
    "plt.xticks(rotation = 90)\n",
    "\n",
    "for container in ax.containers:\n",
    "    ax.bar_label(container, rotation = 90);"
   ]
  },
  {
   "cell_type": "markdown",
   "metadata": {},
   "source": [
    "> details of outage cause. Top 3 values constitute almost 50% of all"
   ]
  },
  {
   "cell_type": "markdown",
   "metadata": {},
   "source": [
    "### **<span style='color:coral'> kaynaga_gore </span>** "
   ]
  },
  {
   "cell_type": "markdown",
   "metadata": {},
   "source": [
    "Kesintinin yaşandığı hattın tipini belirtir. Dağıtım-OG / Dağıtım-AG / İletim seçenekleri arasından seçilir."
   ]
  },
  {
   "cell_type": "code",
   "execution_count": 59,
   "metadata": {},
   "outputs": [
    {
     "data": {
      "text/plain": [
       "Dağıtım-AG    70107\n",
       "Dağıtım-OG    30248\n",
       "İletim          536\n",
       "Name: kaynaga_gore, dtype: Int64"
      ]
     },
     "execution_count": 59,
     "metadata": {},
     "output_type": "execute_result"
    }
   ],
   "source": [
    "df.kaynaga_gore.value_counts(dropna=False)"
   ]
  },
  {
   "cell_type": "code",
   "execution_count": 60,
   "metadata": {},
   "outputs": [
    {
     "data": {
      "text/plain": [
       "0"
      ]
     },
     "execution_count": 60,
     "metadata": {},
     "output_type": "execute_result"
    }
   ],
   "source": [
    "df.kaynaga_gore.isnull().sum()"
   ]
  },
  {
   "cell_type": "markdown",
   "metadata": {},
   "source": [
    "> no missing values"
   ]
  },
  {
   "cell_type": "code",
   "execution_count": 61,
   "metadata": {},
   "outputs": [
    {
     "data": {
      "image/png": "[encoded data removed]",
      "text/plain": [
       "<Figure size 720x432 with 1 Axes>"
      ]
     },
     "metadata": {},
     "output_type": "display_data"
    }
   ],
   "source": [
    "ax = sns.countplot(data=df, x=\"kaynaga_gore\")\n",
    "\n",
    "plt.xticks(rotation = 90)\n",
    "\n",
    "for container in ax.containers:\n",
    "    ax.bar_label(container);"
   ]
  },
  {
   "cell_type": "code",
   "execution_count": 100,
   "metadata": {},
   "outputs": [
    {
     "data": {
      "image/png": "[encoded data removed]",
      "text/plain": [
       "<Figure size 720x432 with 1 Axes>"
      ]
     },
     "metadata": {},
     "output_type": "display_data"
    }
   ],
   "source": [
    "# plotting kesinti_suresi by kaynaga_gore to see extreme values\n",
    "ax = sns.boxplot(data=df, \n",
    "            y=\"kesinti_suresi\",\n",
    "            x=\"kaynaga_gore\",\n",
    "            showmeans=True,\n",
    "            meanprops={\"marker\":\"o\",\n",
    "                       \"markerfacecolor\":\"white\", \n",
    "                       \"markeredgecolor\":\"black\",\n",
    "                       \"markersize\":\"10\"})\n",
    "\n",
    "plt.xticks(rotation = 90);"
   ]
  },
  {
   "cell_type": "markdown",
   "metadata": {},
   "source": [
    "### **<span style='color:coral'> sureye_gore </span>** "
   ]
  },
  {
   "cell_type": "markdown",
   "metadata": {},
   "source": [
    "Belirlenmiş kısıta istinaden, kesinti süresinin uzun/kısa olduğunu belirtir."
   ]
  },
  {
   "cell_type": "code",
   "execution_count": 62,
   "metadata": {},
   "outputs": [
    {
     "data": {
      "text/plain": [
       "Uzun    98033\n",
       "Kısa     2858\n",
       "Name: sureye_gore, dtype: Int64"
      ]
     },
     "execution_count": 62,
     "metadata": {},
     "output_type": "execute_result"
    }
   ],
   "source": [
    "df.sureye_gore.value_counts(dropna=False)"
   ]
  },
  {
   "cell_type": "code",
   "execution_count": 63,
   "metadata": {},
   "outputs": [
    {
     "data": {
      "text/plain": [
       "0"
      ]
     },
     "execution_count": 63,
     "metadata": {},
     "output_type": "execute_result"
    }
   ],
   "source": [
    "df.sureye_gore.isnull().sum()"
   ]
  },
  {
   "cell_type": "markdown",
   "metadata": {},
   "source": [
    "> no missing values"
   ]
  },
  {
   "cell_type": "code",
   "execution_count": 64,
   "metadata": {},
   "outputs": [
    {
     "data": {
      "image/png": "[encoded data removed]",
      "text/plain": [
       "<Figure size 720x432 with 1 Axes>"
      ]
     },
     "metadata": {},
     "output_type": "display_data"
    }
   ],
   "source": [
    "ax = sns.countplot(data=df, x=\"sureye_gore\")\n",
    "\n",
    "plt.xticks(rotation = 90)\n",
    "\n",
    "for container in ax.containers:\n",
    "    ax.bar_label(container);"
   ]
  },
  {
   "cell_type": "markdown",
   "metadata": {},
   "source": [
    "> **Long duration** of outage is dominant"
   ]
  },
  {
   "cell_type": "markdown",
   "metadata": {},
   "source": [
    "### **<span style='color:coral'> sebebe_gore </span>** "
   ]
  },
  {
   "cell_type": "markdown",
   "metadata": {},
   "source": [
    "Dışsal / Güvenlik / Şebeke İşletmecisi seçeneklerinden seçilir."
   ]
  },
  {
   "cell_type": "code",
   "execution_count": 65,
   "metadata": {},
   "outputs": [
    {
     "data": {
      "text/plain": [
       "Şebeke işletmecisi    98807\n",
       "Dışsal                 1978\n",
       "Güvenlik                105\n",
       "NaN                       1\n",
       "Name: sebebe_gore, dtype: Int64"
      ]
     },
     "execution_count": 65,
     "metadata": {},
     "output_type": "execute_result"
    }
   ],
   "source": [
    "df.sebebe_gore.value_counts(dropna=False)"
   ]
  },
  {
   "cell_type": "markdown",
   "metadata": {},
   "source": [
    "> one missing value"
   ]
  },
  {
   "cell_type": "code",
   "execution_count": 69,
   "metadata": {},
   "outputs": [
    {
     "data": {
      "text/plain": [
       "kaynaga_gore  sureye_gore  sebebe_gore       \n",
       "Dağıtım-AG    Kısa         Şebeke işletmecisi        5\n",
       "              Uzun         Şebeke işletmecisi    68805\n",
       "                           Dışsal                 1275\n",
       "                           Güvenlik                 22\n",
       "Dağıtım-OG    Kısa         Şebeke işletmecisi     2833\n",
       "                           Dışsal                    2\n",
       "              Uzun         Şebeke işletmecisi    26634\n",
       "                           Dışsal                  696\n",
       "                           Güvenlik                 82\n",
       "                           NaN                       1\n",
       "İletim        Kısa         Şebeke işletmecisi       18\n",
       "              Uzun         Şebeke işletmecisi      512\n",
       "                           Dışsal                    5\n",
       "                           Güvenlik                  1\n",
       "Name: sebebe_gore, dtype: int64"
      ]
     },
     "execution_count": 69,
     "metadata": {},
     "output_type": "execute_result"
    }
   ],
   "source": [
    "df.groupby([\"kaynaga_gore\", \"sureye_gore\"])[\"sebebe_gore\"].value_counts(dropna=False)"
   ]
  },
  {
   "cell_type": "code",
   "execution_count": 70,
   "metadata": {},
   "outputs": [
    {
     "data": {
      "text/plain": [
       "kaynaga_gore  sureye_gore\n",
       "Dağıtım-AG    Kısa           Şebeke işletmecisi\n",
       "              Uzun           Şebeke işletmecisi\n",
       "Dağıtım-OG    Kısa           Şebeke işletmecisi\n",
       "              Uzun           Şebeke işletmecisi\n",
       "İletim        Kısa           Şebeke işletmecisi\n",
       "              Uzun           Şebeke işletmecisi\n",
       "Name: sebebe_gore, dtype: object"
      ]
     },
     "execution_count": 70,
     "metadata": {},
     "output_type": "execute_result"
    }
   ],
   "source": [
    "# show group mode values\n",
    "df.groupby([\"kaynaga_gore\", \"sureye_gore\"])['sebebe_gore'].apply(lambda x: x.mode()[0])"
   ]
  },
  {
   "cell_type": "code",
   "execution_count": 72,
   "metadata": {},
   "outputs": [
    {
     "data": {
      "text/plain": [
       "0         Şebeke işletmecisi\n",
       "1         Şebeke işletmecisi\n",
       "2         Şebeke işletmecisi\n",
       "3         Şebeke işletmecisi\n",
       "4         Şebeke işletmecisi\n",
       "                 ...        \n",
       "100886    Şebeke işletmecisi\n",
       "100887    Şebeke işletmecisi\n",
       "100888    Şebeke işletmecisi\n",
       "100889    Şebeke işletmecisi\n",
       "100890    Şebeke işletmecisi\n",
       "Name: sebebe_gore, Length: 100891, dtype: string"
      ]
     },
     "execution_count": 72,
     "metadata": {},
     "output_type": "execute_result"
    }
   ],
   "source": [
    "# select group mode values with fillna\n",
    "df[\"sebebe_gore\"] = df.groupby([\"kaynaga_gore\", \"sureye_gore\"])['sebebe_gore'].apply(lambda x: x.fillna(x.mode()[0]))\n",
    "df[\"sebebe_gore\"]"
   ]
  },
  {
   "cell_type": "code",
   "execution_count": 73,
   "metadata": {},
   "outputs": [
    {
     "data": {
      "text/plain": [
       "0"
      ]
     },
     "execution_count": 73,
     "metadata": {},
     "output_type": "execute_result"
    }
   ],
   "source": [
    "df.sebebe_gore.isnull().sum()"
   ]
  },
  {
   "cell_type": "markdown",
   "metadata": {},
   "source": [
    "> no missing value"
   ]
  },
  {
   "cell_type": "code",
   "execution_count": 66,
   "metadata": {},
   "outputs": [
    {
     "data": {
      "image/png": "[encoded data removed]",
      "text/plain": [
       "<Figure size 720x432 with 1 Axes>"
      ]
     },
     "metadata": {},
     "output_type": "display_data"
    }
   ],
   "source": [
    "ax = sns.countplot(data=df, x=\"sebebe_gore\")\n",
    "\n",
    "plt.xticks(rotation = 90)\n",
    "\n",
    "for container in ax.containers:\n",
    "    ax.bar_label(container);"
   ]
  },
  {
   "cell_type": "markdown",
   "metadata": {},
   "source": [
    "### **<span style='color:coral'> bildirime_gore </span>** "
   ]
  },
  {
   "cell_type": "markdown",
   "metadata": {},
   "source": [
    "Kesinti kaydının oluşturulurken çağrı ile bildirilerek veya bildirilmeden kaydının açıldığını belirtir."
   ]
  },
  {
   "cell_type": "code",
   "execution_count": 71,
   "metadata": {},
   "outputs": [
    {
     "data": {
      "text/plain": [
       "Bildirimsiz    100891\n",
       "Name: bildirime_gore, dtype: Int64"
      ]
     },
     "execution_count": 71,
     "metadata": {},
     "output_type": "execute_result"
    }
   ],
   "source": [
    "df.bildirime_gore.value_counts(dropna=False)"
   ]
  },
  {
   "cell_type": "markdown",
   "metadata": {},
   "source": [
    "> no outage has been notified via customer call, good to drop this column since it has only one value"
   ]
  },
  {
   "cell_type": "markdown",
   "metadata": {},
   "source": [
    "### **<span style='color:coral'> baslama_tarihi_ve_zamani </span>** "
   ]
  },
  {
   "cell_type": "markdown",
   "metadata": {},
   "source": [
    "Kesinti kaydının Tedarik Sürekliliği Kayıt Sistemi (TSKS) sisteminde kaydının açıldığı ve kesintinin başladığını belirten tarih/saattir."
   ]
  },
  {
   "cell_type": "code",
   "execution_count": 75,
   "metadata": {},
   "outputs": [
    {
     "data": {
      "text/plain": [
       "08.08.2021 07:35:52    4\n",
       "25.05.2022 10:03:56    3\n",
       "14.08.2021 16:06:00    3\n",
       "05.03.2022 19:37:00    3\n",
       "12.10.2021 09:43:46    3\n",
       "                      ..\n",
       "15.10.2021 22:16:31    1\n",
       "31.07.2021 18:32:57    1\n",
       "16.07.2021 08:40:47    1\n",
       "25.11.2021 11:43:43    1\n",
       "24.12.2021 11:37:03    1\n",
       "Name: baslama_tarihi_ve_zamani, Length: 100298, dtype: Int64"
      ]
     },
     "execution_count": 75,
     "metadata": {},
     "output_type": "execute_result"
    }
   ],
   "source": [
    "df.baslama_tarihi_ve_zamani.value_counts(dropna=False)"
   ]
  },
  {
   "cell_type": "code",
   "execution_count": 76,
   "metadata": {},
   "outputs": [
    {
     "data": {
      "text/plain": [
       "string[python]"
      ]
     },
     "execution_count": 76,
     "metadata": {},
     "output_type": "execute_result"
    }
   ],
   "source": [
    "df.baslama_tarihi_ve_zamani.dtype"
   ]
  },
  {
   "cell_type": "markdown",
   "metadata": {},
   "source": [
    "> need conversion from str to datetime"
   ]
  },
  {
   "cell_type": "code",
   "execution_count": 79,
   "metadata": {},
   "outputs": [
    {
     "data": {
      "text/plain": [
       "0        2022-01-30 20:27:00\n",
       "1        2022-01-31 03:47:00\n",
       "2        2022-03-31 16:34:23\n",
       "3        2022-03-06 21:11:27\n",
       "4        2022-04-15 09:17:22\n",
       "                 ...        \n",
       "100886   2021-12-28 14:53:59\n",
       "100887   2021-12-26 15:47:27\n",
       "100888   2021-12-23 20:36:03\n",
       "100889   2021-12-24 11:37:03\n",
       "100890   2021-12-18 08:17:55\n",
       "Name: baslama_tarihi_ve_zamani, Length: 100891, dtype: datetime64[ns]"
      ]
     },
     "execution_count": 79,
     "metadata": {},
     "output_type": "execute_result"
    }
   ],
   "source": [
    "# converting from string to datetime format\n",
    "df.baslama_tarihi_ve_zamani = pd.to_datetime(df.baslama_tarihi_ve_zamani)\n",
    "df.baslama_tarihi_ve_zamani"
   ]
  },
  {
   "cell_type": "code",
   "execution_count": 80,
   "metadata": {},
   "outputs": [
    {
     "data": {
      "text/plain": [
       "dtype('<M8[ns]')"
      ]
     },
     "execution_count": 80,
     "metadata": {},
     "output_type": "execute_result"
    }
   ],
   "source": [
    "df.baslama_tarihi_ve_zamani.dtype"
   ]
  },
  {
   "cell_type": "code",
   "execution_count": 81,
   "metadata": {},
   "outputs": [
    {
     "data": {
      "text/plain": [
       "0"
      ]
     },
     "execution_count": 81,
     "metadata": {},
     "output_type": "execute_result"
    }
   ],
   "source": [
    "df.baslama_tarihi_ve_zamani.isnull().sum()"
   ]
  },
  {
   "cell_type": "code",
   "execution_count": 82,
   "metadata": {},
   "outputs": [
    {
     "data": {
      "text/plain": [
       "52062   2021-01-05 00:33:23\n",
       "50644   2021-01-05 00:33:39\n",
       "50645   2021-01-05 00:48:17\n",
       "72042   2021-01-05 01:03:31\n",
       "73964   2021-01-05 02:20:13\n",
       "                ...        \n",
       "18615   2022-09-06 23:07:21\n",
       "22496   2022-09-06 23:09:00\n",
       "1482    2022-09-06 23:19:21\n",
       "18416   2022-09-06 23:26:45\n",
       "12546   2022-09-06 23:40:57\n",
       "Name: baslama_tarihi_ve_zamani, Length: 100891, dtype: datetime64[ns]"
      ]
     },
     "execution_count": 82,
     "metadata": {},
     "output_type": "execute_result"
    }
   ],
   "source": [
    "df.baslama_tarihi_ve_zamani.sort_values()"
   ]
  },
  {
   "cell_type": "markdown",
   "metadata": {},
   "source": [
    "> outages from Jan 2021 to Sep 2022"
   ]
  },
  {
   "cell_type": "markdown",
   "metadata": {},
   "source": [
    "### **<span style='color:coral'> sona_erme_tarihi_ve_zamani </span>** "
   ]
  },
  {
   "cell_type": "markdown",
   "metadata": {},
   "source": [
    "Kesinti kaydı adına açılan iş emrinin INFOR EAM (Kurumsal Varlık Yönetim Sistemi)'de atanan saha ekibi tarafından kapatıldığı tarih/saati belirtir."
   ]
  },
  {
   "cell_type": "code",
   "execution_count": 83,
   "metadata": {},
   "outputs": [
    {
     "data": {
      "text/plain": [
       "02.08.2021 09:36:00    3\n",
       "23.09.2021 22:28:00    3\n",
       "05.03.2022 20:21:00    3\n",
       "14.03.2022 13:31:00    3\n",
       "02.08.2021 10:06:46    3\n",
       "                      ..\n",
       "20.08.2021 14:29:13    1\n",
       "23.08.2021 10:28:59    1\n",
       "04.10.2021 21:14:53    1\n",
       "26.05.2021 20:13:09    1\n",
       "18.12.2021 09:40:55    1\n",
       "Name: sona_erme_tarihi_ve_zamani, Length: 100507, dtype: Int64"
      ]
     },
     "execution_count": 83,
     "metadata": {},
     "output_type": "execute_result"
    }
   ],
   "source": [
    "df.sona_erme_tarihi_ve_zamani.value_counts(dropna=False)"
   ]
  },
  {
   "cell_type": "code",
   "execution_count": 84,
   "metadata": {},
   "outputs": [
    {
     "data": {
      "text/plain": [
       "string[python]"
      ]
     },
     "execution_count": 84,
     "metadata": {},
     "output_type": "execute_result"
    }
   ],
   "source": [
    "df.sona_erme_tarihi_ve_zamani.dtype"
   ]
  },
  {
   "cell_type": "markdown",
   "metadata": {},
   "source": [
    "> need conversion from str to datetime"
   ]
  },
  {
   "cell_type": "code",
   "execution_count": 88,
   "metadata": {},
   "outputs": [
    {
     "data": {
      "text/plain": [
       "0        2022-01-31 01:32:04\n",
       "1        2022-01-31 05:30:45\n",
       "2        2022-03-31 17:21:07\n",
       "3        2022-03-06 22:44:57\n",
       "4        2022-04-15 10:29:18\n",
       "                 ...        \n",
       "100886   2021-12-28 18:10:05\n",
       "100887   2021-12-26 16:50:52\n",
       "100888   2021-12-23 21:35:39\n",
       "100889   2021-12-24 12:24:08\n",
       "100890   2021-12-18 09:40:55\n",
       "Name: sona_erme_tarihi_ve_zamani, Length: 100891, dtype: datetime64[ns]"
      ]
     },
     "execution_count": 88,
     "metadata": {},
     "output_type": "execute_result"
    }
   ],
   "source": [
    "# converting from string to datetime format\n",
    "df.sona_erme_tarihi_ve_zamani = pd.to_datetime(df.sona_erme_tarihi_ve_zamani)\n",
    "df.sona_erme_tarihi_ve_zamani"
   ]
  },
  {
   "cell_type": "code",
   "execution_count": 89,
   "metadata": {},
   "outputs": [
    {
     "data": {
      "text/plain": [
       "dtype('<M8[ns]')"
      ]
     },
     "execution_count": 89,
     "metadata": {},
     "output_type": "execute_result"
    }
   ],
   "source": [
    "df.sona_erme_tarihi_ve_zamani.dtype"
   ]
  },
  {
   "cell_type": "code",
   "execution_count": 90,
   "metadata": {},
   "outputs": [
    {
     "data": {
      "text/plain": [
       "0"
      ]
     },
     "execution_count": 90,
     "metadata": {},
     "output_type": "execute_result"
    }
   ],
   "source": [
    "df.sona_erme_tarihi_ve_zamani.isnull().sum()"
   ]
  },
  {
   "cell_type": "code",
   "execution_count": 91,
   "metadata": {},
   "outputs": [
    {
     "data": {
      "text/plain": [
       "52062   2021-01-05 00:34:20\n",
       "50644   2021-01-05 00:48:11\n",
       "50645   2021-01-05 01:08:42\n",
       "72042   2021-01-05 01:47:40\n",
       "39373   2021-01-05 02:56:09\n",
       "                ...        \n",
       "18416   2022-10-06 00:14:29\n",
       "22496   2022-10-06 00:24:43\n",
       "9519    2022-10-06 01:19:16\n",
       "12546   2022-10-06 01:26:40\n",
       "33068   2022-10-06 03:06:31\n",
       "Name: sona_erme_tarihi_ve_zamani, Length: 100891, dtype: datetime64[ns]"
      ]
     },
     "execution_count": 91,
     "metadata": {},
     "output_type": "execute_result"
    }
   ],
   "source": [
    "df.sona_erme_tarihi_ve_zamani.sort_values()"
   ]
  },
  {
   "cell_type": "markdown",
   "metadata": {},
   "source": [
    "> outages from Jan 2021 to Oct 2022"
   ]
  },
  {
   "cell_type": "markdown",
   "metadata": {},
   "source": [
    "### **<span style='color:coral'> kesinti_suresi </span>** "
   ]
  },
  {
   "cell_type": "markdown",
   "metadata": {},
   "source": [
    "Matematiksel olarak \"SONA_ERME_TARİHİ_VE_ZAMANI\" - \"BAŞLAMA_TARİHİ_VE_ZAMANI\"'dır. Kesintinin açıldıktan sonra ilgili kesinti adına INFOR EAM'de açılan iş emrinin kapatıldığı an arasında geçen süreyi `saat` cinsinden belirten değerdir."
   ]
  },
  {
   "cell_type": "markdown",
   "metadata": {},
   "source": [
    "Duration of outage (hours)"
   ]
  },
  {
   "cell_type": "code",
   "execution_count": 92,
   "metadata": {},
   "outputs": [
    {
     "data": {
      "text/plain": [
       "0.008    350\n",
       "0.011    257\n",
       "0.006    198\n",
       "0.014    145\n",
       "0.017    112\n",
       "        ... \n",
       "0.850      1\n",
       "0.598      1\n",
       "8.430      1\n",
       "8.550      1\n",
       "8.430      1\n",
       "Name: kesinti_suresi, Length: 25531, dtype: int64"
      ]
     },
     "execution_count": 92,
     "metadata": {},
     "output_type": "execute_result"
    }
   ],
   "source": [
    "df.kesinti_suresi.value_counts(dropna=False)"
   ]
  },
  {
   "cell_type": "code",
   "execution_count": 93,
   "metadata": {},
   "outputs": [
    {
     "data": {
      "text/plain": [
       "0"
      ]
     },
     "execution_count": 93,
     "metadata": {},
     "output_type": "execute_result"
    }
   ],
   "source": [
    "df.kesinti_suresi.isnull().sum()"
   ]
  },
  {
   "cell_type": "code",
   "execution_count": 94,
   "metadata": {},
   "outputs": [
    {
     "data": {
      "text/plain": [
       "count   100891.000\n",
       "mean         2.380\n",
       "std          2.642\n",
       "min         -2.963\n",
       "25%          0.932\n",
       "50%          1.729\n",
       "75%          3.053\n",
       "max        289.323\n",
       "Name: kesinti_suresi, dtype: float64"
      ]
     },
     "execution_count": 94,
     "metadata": {},
     "output_type": "execute_result"
    }
   ],
   "source": [
    "#Checking the statistical values\n",
    "df.kesinti_suresi.describe()"
   ]
  },
  {
   "cell_type": "code",
   "execution_count": 95,
   "metadata": {},
   "outputs": [
    {
     "data": {
      "image/png": "[encoded data removed]",
      "text/plain": [
       "<Figure size 720x432 with 1 Axes>"
      ]
     },
     "metadata": {},
     "output_type": "display_data"
    }
   ],
   "source": [
    "# Checking the boxplot to see extreme values\n",
    "sns.boxplot(data=df, \n",
    "            x=\"kesinti_suresi\",\n",
    "            showmeans=True,\n",
    "            meanprops={\"marker\":\"o\",\n",
    "                       \"markerfacecolor\":\"white\", \n",
    "                       \"markeredgecolor\":\"black\",\n",
    "                       \"markersize\":\"10\"});"
   ]
  },
  {
   "cell_type": "markdown",
   "metadata": {},
   "source": [
    "> so many extreme values"
   ]
  },
  {
   "cell_type": "code",
   "execution_count": 96,
   "metadata": {},
   "outputs": [
    {
     "data": {
      "image/png": "[encoded data removed]",
      "text/plain": [
       "<Figure size 720x432 with 1 Axes>"
      ]
     },
     "metadata": {},
     "output_type": "display_data"
    }
   ],
   "source": [
    "# Checking the histplot/kdeplot to see distribution of feature\n",
    "sns.histplot(data=df, x=\"kesinti_suresi\", bins=20, kde=True);"
   ]
  },
  {
   "cell_type": "markdown",
   "metadata": {},
   "source": [
    ">Positively-skewed distribution, right-tail."
   ]
  },
  {
   "cell_type": "markdown",
   "metadata": {},
   "source": [
    "### **<span style='color:coral'> kentsel_og </span>** "
   ]
  },
  {
   "cell_type": "markdown",
   "metadata": {},
   "source": [
    "Tüm illerin merkez mahalleleri ile 2020 yılı TÜİK tarafından açıklanan nüfus verilerine göre `nüfusu 50 000 (elli bin) ve üzerinde` olan ilçelerin merkez mahallelerinin `orta gerilim kesinti hat sayısı`."
   ]
  },
  {
   "cell_type": "code",
   "execution_count": 97,
   "metadata": {},
   "outputs": [
    {
     "data": {
      "text/plain": [
       "0      80493\n",
       "1       3927\n",
       "2        967\n",
       "3        701\n",
       "4        685\n",
       "       ...  \n",
       "297        1\n",
       "170        1\n",
       "313        1\n",
       "213        1\n",
       "897        1\n",
       "Name: kentsel_og, Length: 375, dtype: int64"
      ]
     },
     "execution_count": 97,
     "metadata": {},
     "output_type": "execute_result"
    }
   ],
   "source": [
    "df.kentsel_og.value_counts(dropna=False)"
   ]
  },
  {
   "cell_type": "markdown",
   "metadata": {},
   "source": [
    "> 80493 count for '0' "
   ]
  },
  {
   "cell_type": "code",
   "execution_count": 98,
   "metadata": {},
   "outputs": [
    {
     "data": {
      "text/plain": [
       "0"
      ]
     },
     "execution_count": 98,
     "metadata": {},
     "output_type": "execute_result"
    }
   ],
   "source": [
    "df.kentsel_og.isnull().sum()"
   ]
  },
  {
   "cell_type": "code",
   "execution_count": 99,
   "metadata": {},
   "outputs": [
    {
     "data": {
      "text/plain": [
       "375"
      ]
     },
     "execution_count": 99,
     "metadata": {},
     "output_type": "execute_result"
    }
   ],
   "source": [
    "df.kentsel_og.nunique()"
   ]
  },
  {
   "cell_type": "markdown",
   "metadata": {},
   "source": [
    "> high number of unique values"
   ]
  },
  {
   "cell_type": "markdown",
   "metadata": {},
   "source": [
    "### **<span style='color:coral'> kentsel_ag </span>** "
   ]
  },
  {
   "cell_type": "markdown",
   "metadata": {},
   "source": [
    "Tüm illerin merkez mahalleleri ile 2020 yılı TÜİK tarafından açıklanan nüfus verilerine göre `nüfusu 50 000 (elli bin) ve üzerinde` olan ilçelerin merkez mahallelerinin `alçak gerilim kesinti hat sayısı`."
   ]
  },
  {
   "cell_type": "code",
   "execution_count": 102,
   "metadata": {},
   "outputs": [
    {
     "data": {
      "text/plain": [
       "0        29403\n",
       "1        14233\n",
       "2         3864\n",
       "3         2411\n",
       "4         1788\n",
       "         ...  \n",
       "11601        1\n",
       "11386        1\n",
       "6496         1\n",
       "3254         1\n",
       "7073         1\n",
       "Name: kentsel_ag, Length: 4223, dtype: int64"
      ]
     },
     "execution_count": 102,
     "metadata": {},
     "output_type": "execute_result"
    }
   ],
   "source": [
    "df.kentsel_ag.value_counts(dropna=False)"
   ]
  },
  {
   "cell_type": "code",
   "execution_count": 103,
   "metadata": {},
   "outputs": [
    {
     "data": {
      "text/plain": [
       "0"
      ]
     },
     "execution_count": 103,
     "metadata": {},
     "output_type": "execute_result"
    }
   ],
   "source": [
    "df.kentsel_ag.isnull().sum()"
   ]
  },
  {
   "cell_type": "code",
   "execution_count": 104,
   "metadata": {},
   "outputs": [
    {
     "data": {
      "text/plain": [
       "4223"
      ]
     },
     "execution_count": 104,
     "metadata": {},
     "output_type": "execute_result"
    }
   ],
   "source": [
    "df.kentsel_ag.nunique()"
   ]
  },
  {
   "cell_type": "markdown",
   "metadata": {},
   "source": [
    "> high number of unique values"
   ]
  },
  {
   "cell_type": "markdown",
   "metadata": {},
   "source": [
    "### **<span style='color:coral'> kentalti_og </span>** "
   ]
  },
  {
   "cell_type": "markdown",
   "metadata": {},
   "source": [
    "Kentsel olmayan ilçelerin merkez mahalleleri ile 2020 yılı TÜİK tarafından açıklanan nüfus verilerine göre `nüfusu 2 000 (iki bin) ve üzerinde` olan mahallelerinin `orta gerilim kesinti hat sayısı`."
   ]
  },
  {
   "cell_type": "code",
   "execution_count": 105,
   "metadata": {},
   "outputs": [
    {
     "data": {
      "text/plain": [
       "0      95244\n",
       "1       1022\n",
       "2        534\n",
       "3        388\n",
       "4        346\n",
       "       ...  \n",
       "308        1\n",
       "218        1\n",
       "103        1\n",
       "163        1\n",
       "197        1\n",
       "Name: kentalti_og, Length: 170, dtype: int64"
      ]
     },
     "execution_count": 105,
     "metadata": {},
     "output_type": "execute_result"
    }
   ],
   "source": [
    "df.kentalti_og.value_counts(dropna=False)"
   ]
  },
  {
   "cell_type": "code",
   "execution_count": 106,
   "metadata": {},
   "outputs": [
    {
     "data": {
      "text/plain": [
       "0"
      ]
     },
     "execution_count": 106,
     "metadata": {},
     "output_type": "execute_result"
    }
   ],
   "source": [
    "df.kentalti_og.isnull().sum()"
   ]
  },
  {
   "cell_type": "code",
   "execution_count": 107,
   "metadata": {},
   "outputs": [
    {
     "data": {
      "text/plain": [
       "170"
      ]
     },
     "execution_count": 107,
     "metadata": {},
     "output_type": "execute_result"
    }
   ],
   "source": [
    "df.kentalti_og.nunique()"
   ]
  },
  {
   "cell_type": "markdown",
   "metadata": {},
   "source": [
    "> high number of unique values"
   ]
  },
  {
   "cell_type": "markdown",
   "metadata": {},
   "source": [
    "### **<span style='color:coral'> kentalti_ag </span>** "
   ]
  },
  {
   "cell_type": "markdown",
   "metadata": {},
   "source": [
    "Kentsel olmayan ilçelerin merkez mahalleleri ile 2020 yılı TÜİK tarafından açıklanan nüfus verilerine göre `nüfusu 2 000 (iki bin) ve üzerinde` olan mahallelerinin `alçak gerilim kesinti hat sayısı`."
   ]
  },
  {
   "cell_type": "code",
   "execution_count": 108,
   "metadata": {},
   "outputs": [
    {
     "data": {
      "text/plain": [
       "0       83513\n",
       "1        4436\n",
       "2         993\n",
       "3         392\n",
       "5         329\n",
       "        ...  \n",
       "3927        1\n",
       "432         1\n",
       "467         1\n",
       "1898        1\n",
       "6100        1\n",
       "Name: kentalti_ag, Length: 1318, dtype: int64"
      ]
     },
     "execution_count": 108,
     "metadata": {},
     "output_type": "execute_result"
    }
   ],
   "source": [
    "df.kentalti_ag.value_counts(dropna=False)"
   ]
  },
  {
   "cell_type": "code",
   "execution_count": 109,
   "metadata": {},
   "outputs": [
    {
     "data": {
      "text/plain": [
       "0"
      ]
     },
     "execution_count": 109,
     "metadata": {},
     "output_type": "execute_result"
    }
   ],
   "source": [
    "df.kentalti_ag.isnull().sum()"
   ]
  },
  {
   "cell_type": "code",
   "execution_count": 110,
   "metadata": {},
   "outputs": [
    {
     "data": {
      "text/plain": [
       "1318"
      ]
     },
     "execution_count": 110,
     "metadata": {},
     "output_type": "execute_result"
    }
   ],
   "source": [
    "df.kentalti_ag.nunique()"
   ]
  },
  {
   "cell_type": "markdown",
   "metadata": {},
   "source": [
    "> high number of unique values"
   ]
  },
  {
   "cell_type": "markdown",
   "metadata": {},
   "source": [
    "### **<span style='color:coral'> kirsal_og </span>** "
   ]
  },
  {
   "cell_type": "markdown",
   "metadata": {},
   "source": [
    "Kentsel olmayan ilçelerin merkez mahalleleri ile 2020 yılı TÜİK tarafından açıklanan nüfus verilerine göre n`üfusu 2 000 (iki bin)in altında` olan mahallelerinin `orta gerilim hat sayısı`."
   ]
  },
  {
   "cell_type": "code",
   "execution_count": 111,
   "metadata": {},
   "outputs": [
    {
     "data": {
      "text/plain": [
       "0      92806\n",
       "1       1498\n",
       "2        556\n",
       "3        462\n",
       "5        301\n",
       "       ...  \n",
       "268        1\n",
       "74         1\n",
       "130        1\n",
       "245        1\n",
       "132        1\n",
       "Name: kirsal_og, Length: 231, dtype: int64"
      ]
     },
     "execution_count": 111,
     "metadata": {},
     "output_type": "execute_result"
    }
   ],
   "source": [
    "df.kirsal_og.value_counts(dropna=False)"
   ]
  },
  {
   "cell_type": "code",
   "execution_count": 112,
   "metadata": {},
   "outputs": [
    {
     "data": {
      "text/plain": [
       "0"
      ]
     },
     "execution_count": 112,
     "metadata": {},
     "output_type": "execute_result"
    }
   ],
   "source": [
    "df.kirsal_og.isnull().sum()"
   ]
  },
  {
   "cell_type": "code",
   "execution_count": 113,
   "metadata": {},
   "outputs": [
    {
     "data": {
      "text/plain": [
       "231"
      ]
     },
     "execution_count": 113,
     "metadata": {},
     "output_type": "execute_result"
    }
   ],
   "source": [
    "df.kirsal_og.nunique()"
   ]
  },
  {
   "cell_type": "markdown",
   "metadata": {},
   "source": [
    "> high number of unique values"
   ]
  },
  {
   "cell_type": "markdown",
   "metadata": {},
   "source": [
    "### **<span style='color:coral'> kirsal_ag </span>** "
   ]
  },
  {
   "cell_type": "markdown",
   "metadata": {},
   "source": [
    "Kentsel olmayan ilçelerin merkez mahallleri ile 2020 yılı TÜİK tarafından açıklanan nüfus verilerine göre `nüfusu 2 000 (iki bin)in altında` olan mahallelerinin `alçak gerilim hat sayısı`."
   ]
  },
  {
   "cell_type": "code",
   "execution_count": 114,
   "metadata": {},
   "outputs": [
    {
     "data": {
      "text/plain": [
       "0       83216\n",
       "1        2920\n",
       "2         559\n",
       "4         305\n",
       "3         285\n",
       "        ...  \n",
       "3228        1\n",
       "4556        1\n",
       "4131        1\n",
       "4560        1\n",
       "4547        1\n",
       "Name: kirsal_ag, Length: 1396, dtype: int64"
      ]
     },
     "execution_count": 114,
     "metadata": {},
     "output_type": "execute_result"
    }
   ],
   "source": [
    "df.kirsal_ag.value_counts(dropna=False)"
   ]
  },
  {
   "cell_type": "code",
   "execution_count": 115,
   "metadata": {},
   "outputs": [
    {
     "data": {
      "text/plain": [
       "0"
      ]
     },
     "execution_count": 115,
     "metadata": {},
     "output_type": "execute_result"
    }
   ],
   "source": [
    "df.kirsal_ag.isnull().sum()"
   ]
  },
  {
   "cell_type": "code",
   "execution_count": 116,
   "metadata": {},
   "outputs": [
    {
     "data": {
      "text/plain": [
       "1396"
      ]
     },
     "execution_count": 116,
     "metadata": {},
     "output_type": "execute_result"
    }
   ],
   "source": [
    "df.kirsal_ag.nunique()"
   ]
  },
  {
   "cell_type": "markdown",
   "metadata": {},
   "source": [
    "> high number of unique values"
   ]
  },
  {
   "cell_type": "markdown",
   "metadata": {},
   "source": [
    "### **<span style='color:coral'> toplam_kentsel_og </span>** "
   ]
  },
  {
   "cell_type": "markdown",
   "metadata": {},
   "source": [
    "Birimi `saat`tir.Tüm illerin merkez mahalleleri ile 2020 yılı TÜİK tarafından açıklanan nüfus verilerine göre `nüfusu 50 000 (elli bin) ve üzerinde` olan ilçelerin merkez mahallelerinin `orta gerilim` kesinti hatlarındaki `toplam kesinti süresi`."
   ]
  },
  {
   "cell_type": "code",
   "execution_count": 117,
   "metadata": {},
   "outputs": [
    {
     "data": {
      "text/plain": [
       "0.000      80353\n",
       "NaN          140\n",
       "0.033         20\n",
       "0.067         18\n",
       "0.275         14\n",
       "           ...  \n",
       "111.507        1\n",
       "13.054         1\n",
       "205.364        1\n",
       "28.918         1\n",
       "2.871          1\n",
       "Name: toplam_kentsel_og, Length: 17183, dtype: int64"
      ]
     },
     "execution_count": 117,
     "metadata": {},
     "output_type": "execute_result"
    }
   ],
   "source": [
    "df.toplam_kentsel_og.value_counts(dropna=False)"
   ]
  },
  {
   "cell_type": "code",
   "execution_count": 118,
   "metadata": {},
   "outputs": [
    {
     "data": {
      "text/plain": [
       "140"
      ]
     },
     "execution_count": 118,
     "metadata": {},
     "output_type": "execute_result"
    }
   ],
   "source": [
    "df.toplam_kentsel_og.isnull().sum()"
   ]
  },
  {
   "cell_type": "code",
   "execution_count": 119,
   "metadata": {},
   "outputs": [
    {
     "data": {
      "text/plain": [
       "17182"
      ]
     },
     "execution_count": 119,
     "metadata": {},
     "output_type": "execute_result"
    }
   ],
   "source": [
    "df.toplam_kentsel_og.nunique()"
   ]
  },
  {
   "cell_type": "markdown",
   "metadata": {},
   "source": [
    "> high number of unique values"
   ]
  },
  {
   "cell_type": "code",
   "execution_count": 121,
   "metadata": {},
   "outputs": [
    {
     "data": {
      "text/plain": [
       "Index(['kesinti_no', 'il', 'ilce', 'sebeke_unsuru', 'sebeke_unsuru_kodu',\n",
       "       'kesinti_nedenine_iliskin_aciklama', 'kaynaga_gore', 'sureye_gore',\n",
       "       'sebebe_gore', 'bildirime_gore', 'baslama_tarihi_ve_zamani',\n",
       "       'sona_erme_tarihi_ve_zamani', 'kesinti_suresi', 'kentsel_og',\n",
       "       'kentsel_ag', 'kentalti_og', 'kentalti_ag', 'kirsal_og', 'kirsal_ag',\n",
       "       'toplam_kentsel_og', 'toplam_kentsel_ag', 'toplam_kentalti_og',\n",
       "       'toplam_kentalti_ag', 'toplam_kirsal_og', 'toplam_kirsal_ag'],\n",
       "      dtype='object')"
      ]
     },
     "execution_count": 121,
     "metadata": {},
     "output_type": "execute_result"
    }
   ],
   "source": [
    "df.columns"
   ]
  },
  {
   "cell_type": "code",
   "execution_count": 124,
   "metadata": {},
   "outputs": [
    {
     "data": {
      "text/html": [
       "<div>\n",
       "<style scoped>\n",
       "    .dataframe tbody tr th:only-of-type {\n",
       "        vertical-align: middle;\n",
       "    }\n",
       "\n",
       "    .dataframe tbody tr th {\n",
       "        vertical-align: top;\n",
       "    }\n",
       "\n",
       "    .dataframe thead th {\n",
       "        text-align: right;\n",
       "    }\n",
       "</style>\n",
       "<table border=\"1\" class=\"dataframe\">\n",
       "  <thead>\n",
       "    <tr style=\"text-align: right;\">\n",
       "      <th></th>\n",
       "      <th>toplam_kentsel_og</th>\n",
       "      <th>toplam_kentsel_ag</th>\n",
       "      <th>toplam_kentalti_og</th>\n",
       "      <th>toplam_kentalti_ag</th>\n",
       "      <th>toplam_kirsal_og</th>\n",
       "      <th>toplam_kirsal_ag</th>\n",
       "    </tr>\n",
       "  </thead>\n",
       "  <tbody>\n",
       "    <tr>\n",
       "      <th>97</th>\n",
       "      <td>NaN</td>\n",
       "      <td>NaN</td>\n",
       "      <td>NaN</td>\n",
       "      <td>NaN</td>\n",
       "      <td>NaN</td>\n",
       "      <td>NaN</td>\n",
       "    </tr>\n",
       "    <tr>\n",
       "      <th>275</th>\n",
       "      <td>NaN</td>\n",
       "      <td>NaN</td>\n",
       "      <td>NaN</td>\n",
       "      <td>NaN</td>\n",
       "      <td>NaN</td>\n",
       "      <td>NaN</td>\n",
       "    </tr>\n",
       "    <tr>\n",
       "      <th>325</th>\n",
       "      <td>NaN</td>\n",
       "      <td>NaN</td>\n",
       "      <td>NaN</td>\n",
       "      <td>NaN</td>\n",
       "      <td>NaN</td>\n",
       "      <td>NaN</td>\n",
       "    </tr>\n",
       "    <tr>\n",
       "      <th>443</th>\n",
       "      <td>NaN</td>\n",
       "      <td>NaN</td>\n",
       "      <td>NaN</td>\n",
       "      <td>NaN</td>\n",
       "      <td>NaN</td>\n",
       "      <td>NaN</td>\n",
       "    </tr>\n",
       "    <tr>\n",
       "      <th>447</th>\n",
       "      <td>NaN</td>\n",
       "      <td>NaN</td>\n",
       "      <td>NaN</td>\n",
       "      <td>NaN</td>\n",
       "      <td>NaN</td>\n",
       "      <td>NaN</td>\n",
       "    </tr>\n",
       "    <tr>\n",
       "      <th>...</th>\n",
       "      <td>...</td>\n",
       "      <td>...</td>\n",
       "      <td>...</td>\n",
       "      <td>...</td>\n",
       "      <td>...</td>\n",
       "      <td>...</td>\n",
       "    </tr>\n",
       "    <tr>\n",
       "      <th>20607</th>\n",
       "      <td>NaN</td>\n",
       "      <td>NaN</td>\n",
       "      <td>NaN</td>\n",
       "      <td>NaN</td>\n",
       "      <td>NaN</td>\n",
       "      <td>NaN</td>\n",
       "    </tr>\n",
       "    <tr>\n",
       "      <th>20831</th>\n",
       "      <td>NaN</td>\n",
       "      <td>NaN</td>\n",
       "      <td>NaN</td>\n",
       "      <td>NaN</td>\n",
       "      <td>NaN</td>\n",
       "      <td>NaN</td>\n",
       "    </tr>\n",
       "    <tr>\n",
       "      <th>20858</th>\n",
       "      <td>NaN</td>\n",
       "      <td>NaN</td>\n",
       "      <td>NaN</td>\n",
       "      <td>NaN</td>\n",
       "      <td>NaN</td>\n",
       "      <td>NaN</td>\n",
       "    </tr>\n",
       "    <tr>\n",
       "      <th>20867</th>\n",
       "      <td>NaN</td>\n",
       "      <td>NaN</td>\n",
       "      <td>NaN</td>\n",
       "      <td>NaN</td>\n",
       "      <td>NaN</td>\n",
       "      <td>NaN</td>\n",
       "    </tr>\n",
       "    <tr>\n",
       "      <th>20889</th>\n",
       "      <td>NaN</td>\n",
       "      <td>NaN</td>\n",
       "      <td>NaN</td>\n",
       "      <td>NaN</td>\n",
       "      <td>NaN</td>\n",
       "      <td>NaN</td>\n",
       "    </tr>\n",
       "  </tbody>\n",
       "</table>\n",
       "<p>140 rows × 6 columns</p>\n",
       "</div>"
      ],
      "text/plain": [
       "       toplam_kentsel_og  toplam_kentsel_ag  toplam_kentalti_og  \\\n",
       "97                   NaN                NaN                 NaN   \n",
       "275                  NaN                NaN                 NaN   \n",
       "325                  NaN                NaN                 NaN   \n",
       "443                  NaN                NaN                 NaN   \n",
       "447                  NaN                NaN                 NaN   \n",
       "...                  ...                ...                 ...   \n",
       "20607                NaN                NaN                 NaN   \n",
       "20831                NaN                NaN                 NaN   \n",
       "20858                NaN                NaN                 NaN   \n",
       "20867                NaN                NaN                 NaN   \n",
       "20889                NaN                NaN                 NaN   \n",
       "\n",
       "       toplam_kentalti_ag  toplam_kirsal_og  toplam_kirsal_ag  \n",
       "97                    NaN               NaN               NaN  \n",
       "275                   NaN               NaN               NaN  \n",
       "325                   NaN               NaN               NaN  \n",
       "443                   NaN               NaN               NaN  \n",
       "447                   NaN               NaN               NaN  \n",
       "...                   ...               ...               ...  \n",
       "20607                 NaN               NaN               NaN  \n",
       "20831                 NaN               NaN               NaN  \n",
       "20858                 NaN               NaN               NaN  \n",
       "20867                 NaN               NaN               NaN  \n",
       "20889                 NaN               NaN               NaN  \n",
       "\n",
       "[140 rows x 6 columns]"
      ]
     },
     "execution_count": 124,
     "metadata": {},
     "output_type": "execute_result"
    }
   ],
   "source": [
    "#checking if all null values gather on the same rows\n",
    "df[df[\"toplam_kentsel_og\"].isnull()][[  \"toplam_kentsel_og\", \n",
    "                                        \"toplam_kentsel_ag\", \n",
    "                                        \"toplam_kentalti_og\", \n",
    "                                        \"toplam_kentalti_ag\", \n",
    "                                        \"toplam_kirsal_og\", \n",
    "                                        \"toplam_kirsal_ag\"]]"
   ]
  },
  {
   "cell_type": "code",
   "execution_count": 125,
   "metadata": {},
   "outputs": [
    {
     "data": {
      "text/plain": [
       "toplam_kentsel_og     140\n",
       "toplam_kentsel_ag     140\n",
       "toplam_kentalti_og    140\n",
       "toplam_kentalti_ag    140\n",
       "toplam_kirsal_og      140\n",
       "toplam_kirsal_ag      140\n",
       "dtype: int64"
      ]
     },
     "execution_count": 125,
     "metadata": {},
     "output_type": "execute_result"
    }
   ],
   "source": [
    "df[df[\"toplam_kentsel_og\"].isnull()][[  \"toplam_kentsel_og\", \n",
    "                                        \"toplam_kentsel_ag\", \n",
    "                                        \"toplam_kentalti_og\", \n",
    "                                        \"toplam_kentalti_ag\", \n",
    "                                        \"toplam_kirsal_og\", \n",
    "                                        \"toplam_kirsal_ag\"]].isnull().sum()"
   ]
  },
  {
   "cell_type": "code",
   "execution_count": 126,
   "metadata": {},
   "outputs": [
    {
     "data": {
      "text/plain": [
       "Int64Index([   97,   275,   325,   443,   447,   521,   605,   640,   737,\n",
       "              740,\n",
       "            ...\n",
       "            19936, 20235, 20259, 20440, 20560, 20607, 20831, 20858, 20867,\n",
       "            20889],\n",
       "           dtype='int64', length=140)"
      ]
     },
     "execution_count": 126,
     "metadata": {},
     "output_type": "execute_result"
    }
   ],
   "source": [
    "df[df[\"toplam_kentsel_og\"].isnull()][[  \"toplam_kentsel_og\", \n",
    "                                        \"toplam_kentsel_ag\", \n",
    "                                        \"toplam_kentalti_og\", \n",
    "                                        \"toplam_kentalti_ag\", \n",
    "                                        \"toplam_kirsal_og\", \n",
    "                                        \"toplam_kirsal_ag\"]].index"
   ]
  },
  {
   "cell_type": "code",
   "execution_count": 127,
   "metadata": {},
   "outputs": [
    {
     "data": {
      "text/plain": [
       "Int64Index([   97,   275,   325,   443,   447,   521,   605,   640,   737,\n",
       "              740,\n",
       "            ...\n",
       "            19936, 20235, 20259, 20440, 20560, 20607, 20831, 20858, 20867,\n",
       "            20889],\n",
       "           dtype='int64', length=140)"
      ]
     },
     "execution_count": 127,
     "metadata": {},
     "output_type": "execute_result"
    }
   ],
   "source": [
    "check_index = df[df[\"toplam_kentsel_og\"].isnull()][[  \"toplam_kentsel_og\", \n",
    "                                        \"toplam_kentsel_ag\", \n",
    "                                        \"toplam_kentalti_og\", \n",
    "                                        \"toplam_kentalti_ag\", \n",
    "                                        \"toplam_kirsal_og\", \n",
    "                                        \"toplam_kirsal_ag\"]].index\n",
    "\n",
    "check_index"
   ]
  },
  {
   "cell_type": "code",
   "execution_count": 131,
   "metadata": {},
   "outputs": [
    {
     "data": {
      "text/html": [
       "<div>\n",
       "<style scoped>\n",
       "    .dataframe tbody tr th:only-of-type {\n",
       "        vertical-align: middle;\n",
       "    }\n",
       "\n",
       "    .dataframe tbody tr th {\n",
       "        vertical-align: top;\n",
       "    }\n",
       "\n",
       "    .dataframe thead th {\n",
       "        text-align: right;\n",
       "    }\n",
       "</style>\n",
       "<table border=\"1\" class=\"dataframe\">\n",
       "  <thead>\n",
       "    <tr style=\"text-align: right;\">\n",
       "      <th></th>\n",
       "      <th>97</th>\n",
       "      <th>275</th>\n",
       "      <th>325</th>\n",
       "      <th>443</th>\n",
       "      <th>447</th>\n",
       "      <th>521</th>\n",
       "      <th>605</th>\n",
       "      <th>640</th>\n",
       "      <th>737</th>\n",
       "      <th>740</th>\n",
       "      <th>741</th>\n",
       "      <th>743</th>\n",
       "      <th>945</th>\n",
       "      <th>1009</th>\n",
       "      <th>1010</th>\n",
       "      <th>1143</th>\n",
       "      <th>1144</th>\n",
       "      <th>1230</th>\n",
       "      <th>1317</th>\n",
       "      <th>1350</th>\n",
       "      <th>1448</th>\n",
       "      <th>1528</th>\n",
       "      <th>1573</th>\n",
       "      <th>1618</th>\n",
       "      <th>1627</th>\n",
       "      <th>1629</th>\n",
       "      <th>1778</th>\n",
       "      <th>1779</th>\n",
       "      <th>2002</th>\n",
       "      <th>2020</th>\n",
       "      <th>2116</th>\n",
       "      <th>2124</th>\n",
       "      <th>2125</th>\n",
       "      <th>2126</th>\n",
       "      <th>2207</th>\n",
       "      <th>2240</th>\n",
       "      <th>2295</th>\n",
       "      <th>2340</th>\n",
       "      <th>2370</th>\n",
       "      <th>2454</th>\n",
       "      <th>2493</th>\n",
       "      <th>2514</th>\n",
       "      <th>2570</th>\n",
       "      <th>2602</th>\n",
       "      <th>2613</th>\n",
       "      <th>2639</th>\n",
       "      <th>2762</th>\n",
       "      <th>2767</th>\n",
       "      <th>2834</th>\n",
       "      <th>2845</th>\n",
       "      <th>2981</th>\n",
       "      <th>2982</th>\n",
       "      <th>3110</th>\n",
       "      <th>3178</th>\n",
       "      <th>3364</th>\n",
       "      <th>3397</th>\n",
       "      <th>3407</th>\n",
       "      <th>3425</th>\n",
       "      <th>3429</th>\n",
       "      <th>3468</th>\n",
       "      <th>3490</th>\n",
       "      <th>3672</th>\n",
       "      <th>3694</th>\n",
       "      <th>3801</th>\n",
       "      <th>3913</th>\n",
       "      <th>3959</th>\n",
       "      <th>3960</th>\n",
       "      <th>4162</th>\n",
       "      <th>4247</th>\n",
       "      <th>4249</th>\n",
       "      <th>4285</th>\n",
       "      <th>4289</th>\n",
       "      <th>4389</th>\n",
       "      <th>4397</th>\n",
       "      <th>4413</th>\n",
       "      <th>4444</th>\n",
       "      <th>7152</th>\n",
       "      <th>7153</th>\n",
       "      <th>7154</th>\n",
       "      <th>7155</th>\n",
       "      <th>7156</th>\n",
       "      <th>7157</th>\n",
       "      <th>7158</th>\n",
       "      <th>7159</th>\n",
       "      <th>7219</th>\n",
       "      <th>7430</th>\n",
       "      <th>7464</th>\n",
       "      <th>7536</th>\n",
       "      <th>7562</th>\n",
       "      <th>7708</th>\n",
       "      <th>7858</th>\n",
       "      <th>8058</th>\n",
       "      <th>8516</th>\n",
       "      <th>8594</th>\n",
       "      <th>15468</th>\n",
       "      <th>15469</th>\n",
       "      <th>15472</th>\n",
       "      <th>15744</th>\n",
       "      <th>15823</th>\n",
       "      <th>16339</th>\n",
       "      <th>16384</th>\n",
       "      <th>16597</th>\n",
       "      <th>16624</th>\n",
       "      <th>16776</th>\n",
       "      <th>16784</th>\n",
       "      <th>16785</th>\n",
       "      <th>17070</th>\n",
       "      <th>17312</th>\n",
       "      <th>17357</th>\n",
       "      <th>17421</th>\n",
       "      <th>17444</th>\n",
       "      <th>17584</th>\n",
       "      <th>17589</th>\n",
       "      <th>17669</th>\n",
       "      <th>17689</th>\n",
       "      <th>17744</th>\n",
       "      <th>18253</th>\n",
       "      <th>18304</th>\n",
       "      <th>18337</th>\n",
       "      <th>18988</th>\n",
       "      <th>18995</th>\n",
       "      <th>19034</th>\n",
       "      <th>19035</th>\n",
       "      <th>19036</th>\n",
       "      <th>19318</th>\n",
       "      <th>19486</th>\n",
       "      <th>19609</th>\n",
       "      <th>19615</th>\n",
       "      <th>19676</th>\n",
       "      <th>19782</th>\n",
       "      <th>19936</th>\n",
       "      <th>20235</th>\n",
       "      <th>20259</th>\n",
       "      <th>20440</th>\n",
       "      <th>20560</th>\n",
       "      <th>20607</th>\n",
       "      <th>20831</th>\n",
       "      <th>20858</th>\n",
       "      <th>20867</th>\n",
       "      <th>20889</th>\n",
       "    </tr>\n",
       "  </thead>\n",
       "  <tbody>\n",
       "    <tr>\n",
       "      <th>toplam_kentsel_og</th>\n",
       "      <td>NaN</td>\n",
       "      <td>NaN</td>\n",
       "      <td>NaN</td>\n",
       "      <td>NaN</td>\n",
       "      <td>NaN</td>\n",
       "      <td>NaN</td>\n",
       "      <td>NaN</td>\n",
       "      <td>NaN</td>\n",
       "      <td>NaN</td>\n",
       "      <td>NaN</td>\n",
       "      <td>NaN</td>\n",
       "      <td>NaN</td>\n",
       "      <td>NaN</td>\n",
       "      <td>NaN</td>\n",
       "      <td>NaN</td>\n",
       "      <td>NaN</td>\n",
       "      <td>NaN</td>\n",
       "      <td>NaN</td>\n",
       "      <td>NaN</td>\n",
       "      <td>NaN</td>\n",
       "      <td>NaN</td>\n",
       "      <td>NaN</td>\n",
       "      <td>NaN</td>\n",
       "      <td>NaN</td>\n",
       "      <td>NaN</td>\n",
       "      <td>NaN</td>\n",
       "      <td>NaN</td>\n",
       "      <td>NaN</td>\n",
       "      <td>NaN</td>\n",
       "      <td>NaN</td>\n",
       "      <td>NaN</td>\n",
       "      <td>NaN</td>\n",
       "      <td>NaN</td>\n",
       "      <td>NaN</td>\n",
       "      <td>NaN</td>\n",
       "      <td>NaN</td>\n",
       "      <td>NaN</td>\n",
       "      <td>NaN</td>\n",
       "      <td>NaN</td>\n",
       "      <td>NaN</td>\n",
       "      <td>NaN</td>\n",
       "      <td>NaN</td>\n",
       "      <td>NaN</td>\n",
       "      <td>NaN</td>\n",
       "      <td>NaN</td>\n",
       "      <td>NaN</td>\n",
       "      <td>NaN</td>\n",
       "      <td>NaN</td>\n",
       "      <td>NaN</td>\n",
       "      <td>NaN</td>\n",
       "      <td>NaN</td>\n",
       "      <td>NaN</td>\n",
       "      <td>NaN</td>\n",
       "      <td>NaN</td>\n",
       "      <td>NaN</td>\n",
       "      <td>NaN</td>\n",
       "      <td>NaN</td>\n",
       "      <td>NaN</td>\n",
       "      <td>NaN</td>\n",
       "      <td>NaN</td>\n",
       "      <td>NaN</td>\n",
       "      <td>NaN</td>\n",
       "      <td>NaN</td>\n",
       "      <td>NaN</td>\n",
       "      <td>NaN</td>\n",
       "      <td>NaN</td>\n",
       "      <td>NaN</td>\n",
       "      <td>NaN</td>\n",
       "      <td>NaN</td>\n",
       "      <td>NaN</td>\n",
       "      <td>NaN</td>\n",
       "      <td>NaN</td>\n",
       "      <td>NaN</td>\n",
       "      <td>NaN</td>\n",
       "      <td>NaN</td>\n",
       "      <td>NaN</td>\n",
       "      <td>NaN</td>\n",
       "      <td>NaN</td>\n",
       "      <td>NaN</td>\n",
       "      <td>NaN</td>\n",
       "      <td>NaN</td>\n",
       "      <td>NaN</td>\n",
       "      <td>NaN</td>\n",
       "      <td>NaN</td>\n",
       "      <td>NaN</td>\n",
       "      <td>NaN</td>\n",
       "      <td>NaN</td>\n",
       "      <td>NaN</td>\n",
       "      <td>NaN</td>\n",
       "      <td>NaN</td>\n",
       "      <td>NaN</td>\n",
       "      <td>NaN</td>\n",
       "      <td>NaN</td>\n",
       "      <td>NaN</td>\n",
       "      <td>NaN</td>\n",
       "      <td>NaN</td>\n",
       "      <td>NaN</td>\n",
       "      <td>NaN</td>\n",
       "      <td>NaN</td>\n",
       "      <td>NaN</td>\n",
       "      <td>NaN</td>\n",
       "      <td>NaN</td>\n",
       "      <td>NaN</td>\n",
       "      <td>NaN</td>\n",
       "      <td>NaN</td>\n",
       "      <td>NaN</td>\n",
       "      <td>NaN</td>\n",
       "      <td>NaN</td>\n",
       "      <td>NaN</td>\n",
       "      <td>NaN</td>\n",
       "      <td>NaN</td>\n",
       "      <td>NaN</td>\n",
       "      <td>NaN</td>\n",
       "      <td>NaN</td>\n",
       "      <td>NaN</td>\n",
       "      <td>NaN</td>\n",
       "      <td>NaN</td>\n",
       "      <td>NaN</td>\n",
       "      <td>NaN</td>\n",
       "      <td>NaN</td>\n",
       "      <td>NaN</td>\n",
       "      <td>NaN</td>\n",
       "      <td>NaN</td>\n",
       "      <td>NaN</td>\n",
       "      <td>NaN</td>\n",
       "      <td>NaN</td>\n",
       "      <td>NaN</td>\n",
       "      <td>NaN</td>\n",
       "      <td>NaN</td>\n",
       "      <td>NaN</td>\n",
       "      <td>NaN</td>\n",
       "      <td>NaN</td>\n",
       "      <td>NaN</td>\n",
       "      <td>NaN</td>\n",
       "      <td>NaN</td>\n",
       "      <td>NaN</td>\n",
       "      <td>NaN</td>\n",
       "      <td>NaN</td>\n",
       "      <td>NaN</td>\n",
       "      <td>NaN</td>\n",
       "    </tr>\n",
       "    <tr>\n",
       "      <th>toplam_kentsel_ag</th>\n",
       "      <td>NaN</td>\n",
       "      <td>NaN</td>\n",
       "      <td>NaN</td>\n",
       "      <td>NaN</td>\n",
       "      <td>NaN</td>\n",
       "      <td>NaN</td>\n",
       "      <td>NaN</td>\n",
       "      <td>NaN</td>\n",
       "      <td>NaN</td>\n",
       "      <td>NaN</td>\n",
       "      <td>NaN</td>\n",
       "      <td>NaN</td>\n",
       "      <td>NaN</td>\n",
       "      <td>NaN</td>\n",
       "      <td>NaN</td>\n",
       "      <td>NaN</td>\n",
       "      <td>NaN</td>\n",
       "      <td>NaN</td>\n",
       "      <td>NaN</td>\n",
       "      <td>NaN</td>\n",
       "      <td>NaN</td>\n",
       "      <td>NaN</td>\n",
       "      <td>NaN</td>\n",
       "      <td>NaN</td>\n",
       "      <td>NaN</td>\n",
       "      <td>NaN</td>\n",
       "      <td>NaN</td>\n",
       "      <td>NaN</td>\n",
       "      <td>NaN</td>\n",
       "      <td>NaN</td>\n",
       "      <td>NaN</td>\n",
       "      <td>NaN</td>\n",
       "      <td>NaN</td>\n",
       "      <td>NaN</td>\n",
       "      <td>NaN</td>\n",
       "      <td>NaN</td>\n",
       "      <td>NaN</td>\n",
       "      <td>NaN</td>\n",
       "      <td>NaN</td>\n",
       "      <td>NaN</td>\n",
       "      <td>NaN</td>\n",
       "      <td>NaN</td>\n",
       "      <td>NaN</td>\n",
       "      <td>NaN</td>\n",
       "      <td>NaN</td>\n",
       "      <td>NaN</td>\n",
       "      <td>NaN</td>\n",
       "      <td>NaN</td>\n",
       "      <td>NaN</td>\n",
       "      <td>NaN</td>\n",
       "      <td>NaN</td>\n",
       "      <td>NaN</td>\n",
       "      <td>NaN</td>\n",
       "      <td>NaN</td>\n",
       "      <td>NaN</td>\n",
       "      <td>NaN</td>\n",
       "      <td>NaN</td>\n",
       "      <td>NaN</td>\n",
       "      <td>NaN</td>\n",
       "      <td>NaN</td>\n",
       "      <td>NaN</td>\n",
       "      <td>NaN</td>\n",
       "      <td>NaN</td>\n",
       "      <td>NaN</td>\n",
       "      <td>NaN</td>\n",
       "      <td>NaN</td>\n",
       "      <td>NaN</td>\n",
       "      <td>NaN</td>\n",
       "      <td>NaN</td>\n",
       "      <td>NaN</td>\n",
       "      <td>NaN</td>\n",
       "      <td>NaN</td>\n",
       "      <td>NaN</td>\n",
       "      <td>NaN</td>\n",
       "      <td>NaN</td>\n",
       "      <td>NaN</td>\n",
       "      <td>NaN</td>\n",
       "      <td>NaN</td>\n",
       "      <td>NaN</td>\n",
       "      <td>NaN</td>\n",
       "      <td>NaN</td>\n",
       "      <td>NaN</td>\n",
       "      <td>NaN</td>\n",
       "      <td>NaN</td>\n",
       "      <td>NaN</td>\n",
       "      <td>NaN</td>\n",
       "      <td>NaN</td>\n",
       "      <td>NaN</td>\n",
       "      <td>NaN</td>\n",
       "      <td>NaN</td>\n",
       "      <td>NaN</td>\n",
       "      <td>NaN</td>\n",
       "      <td>NaN</td>\n",
       "      <td>NaN</td>\n",
       "      <td>NaN</td>\n",
       "      <td>NaN</td>\n",
       "      <td>NaN</td>\n",
       "      <td>NaN</td>\n",
       "      <td>NaN</td>\n",
       "      <td>NaN</td>\n",
       "      <td>NaN</td>\n",
       "      <td>NaN</td>\n",
       "      <td>NaN</td>\n",
       "      <td>NaN</td>\n",
       "      <td>NaN</td>\n",
       "      <td>NaN</td>\n",
       "      <td>NaN</td>\n",
       "      <td>NaN</td>\n",
       "      <td>NaN</td>\n",
       "      <td>NaN</td>\n",
       "      <td>NaN</td>\n",
       "      <td>NaN</td>\n",
       "      <td>NaN</td>\n",
       "      <td>NaN</td>\n",
       "      <td>NaN</td>\n",
       "      <td>NaN</td>\n",
       "      <td>NaN</td>\n",
       "      <td>NaN</td>\n",
       "      <td>NaN</td>\n",
       "      <td>NaN</td>\n",
       "      <td>NaN</td>\n",
       "      <td>NaN</td>\n",
       "      <td>NaN</td>\n",
       "      <td>NaN</td>\n",
       "      <td>NaN</td>\n",
       "      <td>NaN</td>\n",
       "      <td>NaN</td>\n",
       "      <td>NaN</td>\n",
       "      <td>NaN</td>\n",
       "      <td>NaN</td>\n",
       "      <td>NaN</td>\n",
       "      <td>NaN</td>\n",
       "      <td>NaN</td>\n",
       "      <td>NaN</td>\n",
       "      <td>NaN</td>\n",
       "      <td>NaN</td>\n",
       "      <td>NaN</td>\n",
       "      <td>NaN</td>\n",
       "      <td>NaN</td>\n",
       "      <td>NaN</td>\n",
       "    </tr>\n",
       "    <tr>\n",
       "      <th>toplam_kentalti_og</th>\n",
       "      <td>NaN</td>\n",
       "      <td>NaN</td>\n",
       "      <td>NaN</td>\n",
       "      <td>NaN</td>\n",
       "      <td>NaN</td>\n",
       "      <td>NaN</td>\n",
       "      <td>NaN</td>\n",
       "      <td>NaN</td>\n",
       "      <td>NaN</td>\n",
       "      <td>NaN</td>\n",
       "      <td>NaN</td>\n",
       "      <td>NaN</td>\n",
       "      <td>NaN</td>\n",
       "      <td>NaN</td>\n",
       "      <td>NaN</td>\n",
       "      <td>NaN</td>\n",
       "      <td>NaN</td>\n",
       "      <td>NaN</td>\n",
       "      <td>NaN</td>\n",
       "      <td>NaN</td>\n",
       "      <td>NaN</td>\n",
       "      <td>NaN</td>\n",
       "      <td>NaN</td>\n",
       "      <td>NaN</td>\n",
       "      <td>NaN</td>\n",
       "      <td>NaN</td>\n",
       "      <td>NaN</td>\n",
       "      <td>NaN</td>\n",
       "      <td>NaN</td>\n",
       "      <td>NaN</td>\n",
       "      <td>NaN</td>\n",
       "      <td>NaN</td>\n",
       "      <td>NaN</td>\n",
       "      <td>NaN</td>\n",
       "      <td>NaN</td>\n",
       "      <td>NaN</td>\n",
       "      <td>NaN</td>\n",
       "      <td>NaN</td>\n",
       "      <td>NaN</td>\n",
       "      <td>NaN</td>\n",
       "      <td>NaN</td>\n",
       "      <td>NaN</td>\n",
       "      <td>NaN</td>\n",
       "      <td>NaN</td>\n",
       "      <td>NaN</td>\n",
       "      <td>NaN</td>\n",
       "      <td>NaN</td>\n",
       "      <td>NaN</td>\n",
       "      <td>NaN</td>\n",
       "      <td>NaN</td>\n",
       "      <td>NaN</td>\n",
       "      <td>NaN</td>\n",
       "      <td>NaN</td>\n",
       "      <td>NaN</td>\n",
       "      <td>NaN</td>\n",
       "      <td>NaN</td>\n",
       "      <td>NaN</td>\n",
       "      <td>NaN</td>\n",
       "      <td>NaN</td>\n",
       "      <td>NaN</td>\n",
       "      <td>NaN</td>\n",
       "      <td>NaN</td>\n",
       "      <td>NaN</td>\n",
       "      <td>NaN</td>\n",
       "      <td>NaN</td>\n",
       "      <td>NaN</td>\n",
       "      <td>NaN</td>\n",
       "      <td>NaN</td>\n",
       "      <td>NaN</td>\n",
       "      <td>NaN</td>\n",
       "      <td>NaN</td>\n",
       "      <td>NaN</td>\n",
       "      <td>NaN</td>\n",
       "      <td>NaN</td>\n",
       "      <td>NaN</td>\n",
       "      <td>NaN</td>\n",
       "      <td>NaN</td>\n",
       "      <td>NaN</td>\n",
       "      <td>NaN</td>\n",
       "      <td>NaN</td>\n",
       "      <td>NaN</td>\n",
       "      <td>NaN</td>\n",
       "      <td>NaN</td>\n",
       "      <td>NaN</td>\n",
       "      <td>NaN</td>\n",
       "      <td>NaN</td>\n",
       "      <td>NaN</td>\n",
       "      <td>NaN</td>\n",
       "      <td>NaN</td>\n",
       "      <td>NaN</td>\n",
       "      <td>NaN</td>\n",
       "      <td>NaN</td>\n",
       "      <td>NaN</td>\n",
       "      <td>NaN</td>\n",
       "      <td>NaN</td>\n",
       "      <td>NaN</td>\n",
       "      <td>NaN</td>\n",
       "      <td>NaN</td>\n",
       "      <td>NaN</td>\n",
       "      <td>NaN</td>\n",
       "      <td>NaN</td>\n",
       "      <td>NaN</td>\n",
       "      <td>NaN</td>\n",
       "      <td>NaN</td>\n",
       "      <td>NaN</td>\n",
       "      <td>NaN</td>\n",
       "      <td>NaN</td>\n",
       "      <td>NaN</td>\n",
       "      <td>NaN</td>\n",
       "      <td>NaN</td>\n",
       "      <td>NaN</td>\n",
       "      <td>NaN</td>\n",
       "      <td>NaN</td>\n",
       "      <td>NaN</td>\n",
       "      <td>NaN</td>\n",
       "      <td>NaN</td>\n",
       "      <td>NaN</td>\n",
       "      <td>NaN</td>\n",
       "      <td>NaN</td>\n",
       "      <td>NaN</td>\n",
       "      <td>NaN</td>\n",
       "      <td>NaN</td>\n",
       "      <td>NaN</td>\n",
       "      <td>NaN</td>\n",
       "      <td>NaN</td>\n",
       "      <td>NaN</td>\n",
       "      <td>NaN</td>\n",
       "      <td>NaN</td>\n",
       "      <td>NaN</td>\n",
       "      <td>NaN</td>\n",
       "      <td>NaN</td>\n",
       "      <td>NaN</td>\n",
       "      <td>NaN</td>\n",
       "      <td>NaN</td>\n",
       "      <td>NaN</td>\n",
       "      <td>NaN</td>\n",
       "      <td>NaN</td>\n",
       "      <td>NaN</td>\n",
       "      <td>NaN</td>\n",
       "      <td>NaN</td>\n",
       "    </tr>\n",
       "    <tr>\n",
       "      <th>toplam_kentalti_ag</th>\n",
       "      <td>NaN</td>\n",
       "      <td>NaN</td>\n",
       "      <td>NaN</td>\n",
       "      <td>NaN</td>\n",
       "      <td>NaN</td>\n",
       "      <td>NaN</td>\n",
       "      <td>NaN</td>\n",
       "      <td>NaN</td>\n",
       "      <td>NaN</td>\n",
       "      <td>NaN</td>\n",
       "      <td>NaN</td>\n",
       "      <td>NaN</td>\n",
       "      <td>NaN</td>\n",
       "      <td>NaN</td>\n",
       "      <td>NaN</td>\n",
       "      <td>NaN</td>\n",
       "      <td>NaN</td>\n",
       "      <td>NaN</td>\n",
       "      <td>NaN</td>\n",
       "      <td>NaN</td>\n",
       "      <td>NaN</td>\n",
       "      <td>NaN</td>\n",
       "      <td>NaN</td>\n",
       "      <td>NaN</td>\n",
       "      <td>NaN</td>\n",
       "      <td>NaN</td>\n",
       "      <td>NaN</td>\n",
       "      <td>NaN</td>\n",
       "      <td>NaN</td>\n",
       "      <td>NaN</td>\n",
       "      <td>NaN</td>\n",
       "      <td>NaN</td>\n",
       "      <td>NaN</td>\n",
       "      <td>NaN</td>\n",
       "      <td>NaN</td>\n",
       "      <td>NaN</td>\n",
       "      <td>NaN</td>\n",
       "      <td>NaN</td>\n",
       "      <td>NaN</td>\n",
       "      <td>NaN</td>\n",
       "      <td>NaN</td>\n",
       "      <td>NaN</td>\n",
       "      <td>NaN</td>\n",
       "      <td>NaN</td>\n",
       "      <td>NaN</td>\n",
       "      <td>NaN</td>\n",
       "      <td>NaN</td>\n",
       "      <td>NaN</td>\n",
       "      <td>NaN</td>\n",
       "      <td>NaN</td>\n",
       "      <td>NaN</td>\n",
       "      <td>NaN</td>\n",
       "      <td>NaN</td>\n",
       "      <td>NaN</td>\n",
       "      <td>NaN</td>\n",
       "      <td>NaN</td>\n",
       "      <td>NaN</td>\n",
       "      <td>NaN</td>\n",
       "      <td>NaN</td>\n",
       "      <td>NaN</td>\n",
       "      <td>NaN</td>\n",
       "      <td>NaN</td>\n",
       "      <td>NaN</td>\n",
       "      <td>NaN</td>\n",
       "      <td>NaN</td>\n",
       "      <td>NaN</td>\n",
       "      <td>NaN</td>\n",
       "      <td>NaN</td>\n",
       "      <td>NaN</td>\n",
       "      <td>NaN</td>\n",
       "      <td>NaN</td>\n",
       "      <td>NaN</td>\n",
       "      <td>NaN</td>\n",
       "      <td>NaN</td>\n",
       "      <td>NaN</td>\n",
       "      <td>NaN</td>\n",
       "      <td>NaN</td>\n",
       "      <td>NaN</td>\n",
       "      <td>NaN</td>\n",
       "      <td>NaN</td>\n",
       "      <td>NaN</td>\n",
       "      <td>NaN</td>\n",
       "      <td>NaN</td>\n",
       "      <td>NaN</td>\n",
       "      <td>NaN</td>\n",
       "      <td>NaN</td>\n",
       "      <td>NaN</td>\n",
       "      <td>NaN</td>\n",
       "      <td>NaN</td>\n",
       "      <td>NaN</td>\n",
       "      <td>NaN</td>\n",
       "      <td>NaN</td>\n",
       "      <td>NaN</td>\n",
       "      <td>NaN</td>\n",
       "      <td>NaN</td>\n",
       "      <td>NaN</td>\n",
       "      <td>NaN</td>\n",
       "      <td>NaN</td>\n",
       "      <td>NaN</td>\n",
       "      <td>NaN</td>\n",
       "      <td>NaN</td>\n",
       "      <td>NaN</td>\n",
       "      <td>NaN</td>\n",
       "      <td>NaN</td>\n",
       "      <td>NaN</td>\n",
       "      <td>NaN</td>\n",
       "      <td>NaN</td>\n",
       "      <td>NaN</td>\n",
       "      <td>NaN</td>\n",
       "      <td>NaN</td>\n",
       "      <td>NaN</td>\n",
       "      <td>NaN</td>\n",
       "      <td>NaN</td>\n",
       "      <td>NaN</td>\n",
       "      <td>NaN</td>\n",
       "      <td>NaN</td>\n",
       "      <td>NaN</td>\n",
       "      <td>NaN</td>\n",
       "      <td>NaN</td>\n",
       "      <td>NaN</td>\n",
       "      <td>NaN</td>\n",
       "      <td>NaN</td>\n",
       "      <td>NaN</td>\n",
       "      <td>NaN</td>\n",
       "      <td>NaN</td>\n",
       "      <td>NaN</td>\n",
       "      <td>NaN</td>\n",
       "      <td>NaN</td>\n",
       "      <td>NaN</td>\n",
       "      <td>NaN</td>\n",
       "      <td>NaN</td>\n",
       "      <td>NaN</td>\n",
       "      <td>NaN</td>\n",
       "      <td>NaN</td>\n",
       "      <td>NaN</td>\n",
       "      <td>NaN</td>\n",
       "      <td>NaN</td>\n",
       "      <td>NaN</td>\n",
       "      <td>NaN</td>\n",
       "      <td>NaN</td>\n",
       "    </tr>\n",
       "    <tr>\n",
       "      <th>toplam_kirsal_og</th>\n",
       "      <td>NaN</td>\n",
       "      <td>NaN</td>\n",
       "      <td>NaN</td>\n",
       "      <td>NaN</td>\n",
       "      <td>NaN</td>\n",
       "      <td>NaN</td>\n",
       "      <td>NaN</td>\n",
       "      <td>NaN</td>\n",
       "      <td>NaN</td>\n",
       "      <td>NaN</td>\n",
       "      <td>NaN</td>\n",
       "      <td>NaN</td>\n",
       "      <td>NaN</td>\n",
       "      <td>NaN</td>\n",
       "      <td>NaN</td>\n",
       "      <td>NaN</td>\n",
       "      <td>NaN</td>\n",
       "      <td>NaN</td>\n",
       "      <td>NaN</td>\n",
       "      <td>NaN</td>\n",
       "      <td>NaN</td>\n",
       "      <td>NaN</td>\n",
       "      <td>NaN</td>\n",
       "      <td>NaN</td>\n",
       "      <td>NaN</td>\n",
       "      <td>NaN</td>\n",
       "      <td>NaN</td>\n",
       "      <td>NaN</td>\n",
       "      <td>NaN</td>\n",
       "      <td>NaN</td>\n",
       "      <td>NaN</td>\n",
       "      <td>NaN</td>\n",
       "      <td>NaN</td>\n",
       "      <td>NaN</td>\n",
       "      <td>NaN</td>\n",
       "      <td>NaN</td>\n",
       "      <td>NaN</td>\n",
       "      <td>NaN</td>\n",
       "      <td>NaN</td>\n",
       "      <td>NaN</td>\n",
       "      <td>NaN</td>\n",
       "      <td>NaN</td>\n",
       "      <td>NaN</td>\n",
       "      <td>NaN</td>\n",
       "      <td>NaN</td>\n",
       "      <td>NaN</td>\n",
       "      <td>NaN</td>\n",
       "      <td>NaN</td>\n",
       "      <td>NaN</td>\n",
       "      <td>NaN</td>\n",
       "      <td>NaN</td>\n",
       "      <td>NaN</td>\n",
       "      <td>NaN</td>\n",
       "      <td>NaN</td>\n",
       "      <td>NaN</td>\n",
       "      <td>NaN</td>\n",
       "      <td>NaN</td>\n",
       "      <td>NaN</td>\n",
       "      <td>NaN</td>\n",
       "      <td>NaN</td>\n",
       "      <td>NaN</td>\n",
       "      <td>NaN</td>\n",
       "      <td>NaN</td>\n",
       "      <td>NaN</td>\n",
       "      <td>NaN</td>\n",
       "      <td>NaN</td>\n",
       "      <td>NaN</td>\n",
       "      <td>NaN</td>\n",
       "      <td>NaN</td>\n",
       "      <td>NaN</td>\n",
       "      <td>NaN</td>\n",
       "      <td>NaN</td>\n",
       "      <td>NaN</td>\n",
       "      <td>NaN</td>\n",
       "      <td>NaN</td>\n",
       "      <td>NaN</td>\n",
       "      <td>NaN</td>\n",
       "      <td>NaN</td>\n",
       "      <td>NaN</td>\n",
       "      <td>NaN</td>\n",
       "      <td>NaN</td>\n",
       "      <td>NaN</td>\n",
       "      <td>NaN</td>\n",
       "      <td>NaN</td>\n",
       "      <td>NaN</td>\n",
       "      <td>NaN</td>\n",
       "      <td>NaN</td>\n",
       "      <td>NaN</td>\n",
       "      <td>NaN</td>\n",
       "      <td>NaN</td>\n",
       "      <td>NaN</td>\n",
       "      <td>NaN</td>\n",
       "      <td>NaN</td>\n",
       "      <td>NaN</td>\n",
       "      <td>NaN</td>\n",
       "      <td>NaN</td>\n",
       "      <td>NaN</td>\n",
       "      <td>NaN</td>\n",
       "      <td>NaN</td>\n",
       "      <td>NaN</td>\n",
       "      <td>NaN</td>\n",
       "      <td>NaN</td>\n",
       "      <td>NaN</td>\n",
       "      <td>NaN</td>\n",
       "      <td>NaN</td>\n",
       "      <td>NaN</td>\n",
       "      <td>NaN</td>\n",
       "      <td>NaN</td>\n",
       "      <td>NaN</td>\n",
       "      <td>NaN</td>\n",
       "      <td>NaN</td>\n",
       "      <td>NaN</td>\n",
       "      <td>NaN</td>\n",
       "      <td>NaN</td>\n",
       "      <td>NaN</td>\n",
       "      <td>NaN</td>\n",
       "      <td>NaN</td>\n",
       "      <td>NaN</td>\n",
       "      <td>NaN</td>\n",
       "      <td>NaN</td>\n",
       "      <td>NaN</td>\n",
       "      <td>NaN</td>\n",
       "      <td>NaN</td>\n",
       "      <td>NaN</td>\n",
       "      <td>NaN</td>\n",
       "      <td>NaN</td>\n",
       "      <td>NaN</td>\n",
       "      <td>NaN</td>\n",
       "      <td>NaN</td>\n",
       "      <td>NaN</td>\n",
       "      <td>NaN</td>\n",
       "      <td>NaN</td>\n",
       "      <td>NaN</td>\n",
       "      <td>NaN</td>\n",
       "      <td>NaN</td>\n",
       "      <td>NaN</td>\n",
       "      <td>NaN</td>\n",
       "      <td>NaN</td>\n",
       "      <td>NaN</td>\n",
       "      <td>NaN</td>\n",
       "    </tr>\n",
       "    <tr>\n",
       "      <th>toplam_kirsal_ag</th>\n",
       "      <td>NaN</td>\n",
       "      <td>NaN</td>\n",
       "      <td>NaN</td>\n",
       "      <td>NaN</td>\n",
       "      <td>NaN</td>\n",
       "      <td>NaN</td>\n",
       "      <td>NaN</td>\n",
       "      <td>NaN</td>\n",
       "      <td>NaN</td>\n",
       "      <td>NaN</td>\n",
       "      <td>NaN</td>\n",
       "      <td>NaN</td>\n",
       "      <td>NaN</td>\n",
       "      <td>NaN</td>\n",
       "      <td>NaN</td>\n",
       "      <td>NaN</td>\n",
       "      <td>NaN</td>\n",
       "      <td>NaN</td>\n",
       "      <td>NaN</td>\n",
       "      <td>NaN</td>\n",
       "      <td>NaN</td>\n",
       "      <td>NaN</td>\n",
       "      <td>NaN</td>\n",
       "      <td>NaN</td>\n",
       "      <td>NaN</td>\n",
       "      <td>NaN</td>\n",
       "      <td>NaN</td>\n",
       "      <td>NaN</td>\n",
       "      <td>NaN</td>\n",
       "      <td>NaN</td>\n",
       "      <td>NaN</td>\n",
       "      <td>NaN</td>\n",
       "      <td>NaN</td>\n",
       "      <td>NaN</td>\n",
       "      <td>NaN</td>\n",
       "      <td>NaN</td>\n",
       "      <td>NaN</td>\n",
       "      <td>NaN</td>\n",
       "      <td>NaN</td>\n",
       "      <td>NaN</td>\n",
       "      <td>NaN</td>\n",
       "      <td>NaN</td>\n",
       "      <td>NaN</td>\n",
       "      <td>NaN</td>\n",
       "      <td>NaN</td>\n",
       "      <td>NaN</td>\n",
       "      <td>NaN</td>\n",
       "      <td>NaN</td>\n",
       "      <td>NaN</td>\n",
       "      <td>NaN</td>\n",
       "      <td>NaN</td>\n",
       "      <td>NaN</td>\n",
       "      <td>NaN</td>\n",
       "      <td>NaN</td>\n",
       "      <td>NaN</td>\n",
       "      <td>NaN</td>\n",
       "      <td>NaN</td>\n",
       "      <td>NaN</td>\n",
       "      <td>NaN</td>\n",
       "      <td>NaN</td>\n",
       "      <td>NaN</td>\n",
       "      <td>NaN</td>\n",
       "      <td>NaN</td>\n",
       "      <td>NaN</td>\n",
       "      <td>NaN</td>\n",
       "      <td>NaN</td>\n",
       "      <td>NaN</td>\n",
       "      <td>NaN</td>\n",
       "      <td>NaN</td>\n",
       "      <td>NaN</td>\n",
       "      <td>NaN</td>\n",
       "      <td>NaN</td>\n",
       "      <td>NaN</td>\n",
       "      <td>NaN</td>\n",
       "      <td>NaN</td>\n",
       "      <td>NaN</td>\n",
       "      <td>NaN</td>\n",
       "      <td>NaN</td>\n",
       "      <td>NaN</td>\n",
       "      <td>NaN</td>\n",
       "      <td>NaN</td>\n",
       "      <td>NaN</td>\n",
       "      <td>NaN</td>\n",
       "      <td>NaN</td>\n",
       "      <td>NaN</td>\n",
       "      <td>NaN</td>\n",
       "      <td>NaN</td>\n",
       "      <td>NaN</td>\n",
       "      <td>NaN</td>\n",
       "      <td>NaN</td>\n",
       "      <td>NaN</td>\n",
       "      <td>NaN</td>\n",
       "      <td>NaN</td>\n",
       "      <td>NaN</td>\n",
       "      <td>NaN</td>\n",
       "      <td>NaN</td>\n",
       "      <td>NaN</td>\n",
       "      <td>NaN</td>\n",
       "      <td>NaN</td>\n",
       "      <td>NaN</td>\n",
       "      <td>NaN</td>\n",
       "      <td>NaN</td>\n",
       "      <td>NaN</td>\n",
       "      <td>NaN</td>\n",
       "      <td>NaN</td>\n",
       "      <td>NaN</td>\n",
       "      <td>NaN</td>\n",
       "      <td>NaN</td>\n",
       "      <td>NaN</td>\n",
       "      <td>NaN</td>\n",
       "      <td>NaN</td>\n",
       "      <td>NaN</td>\n",
       "      <td>NaN</td>\n",
       "      <td>NaN</td>\n",
       "      <td>NaN</td>\n",
       "      <td>NaN</td>\n",
       "      <td>NaN</td>\n",
       "      <td>NaN</td>\n",
       "      <td>NaN</td>\n",
       "      <td>NaN</td>\n",
       "      <td>NaN</td>\n",
       "      <td>NaN</td>\n",
       "      <td>NaN</td>\n",
       "      <td>NaN</td>\n",
       "      <td>NaN</td>\n",
       "      <td>NaN</td>\n",
       "      <td>NaN</td>\n",
       "      <td>NaN</td>\n",
       "      <td>NaN</td>\n",
       "      <td>NaN</td>\n",
       "      <td>NaN</td>\n",
       "      <td>NaN</td>\n",
       "      <td>NaN</td>\n",
       "      <td>NaN</td>\n",
       "      <td>NaN</td>\n",
       "      <td>NaN</td>\n",
       "      <td>NaN</td>\n",
       "      <td>NaN</td>\n",
       "      <td>NaN</td>\n",
       "      <td>NaN</td>\n",
       "    </tr>\n",
       "  </tbody>\n",
       "</table>\n",
       "</div>"
      ],
      "text/plain": [
       "                    97     275    325    443    447    521    605    640    \\\n",
       "toplam_kentsel_og     NaN    NaN    NaN    NaN    NaN    NaN    NaN    NaN   \n",
       "toplam_kentsel_ag     NaN    NaN    NaN    NaN    NaN    NaN    NaN    NaN   \n",
       "toplam_kentalti_og    NaN    NaN    NaN    NaN    NaN    NaN    NaN    NaN   \n",
       "toplam_kentalti_ag    NaN    NaN    NaN    NaN    NaN    NaN    NaN    NaN   \n",
       "toplam_kirsal_og      NaN    NaN    NaN    NaN    NaN    NaN    NaN    NaN   \n",
       "toplam_kirsal_ag      NaN    NaN    NaN    NaN    NaN    NaN    NaN    NaN   \n",
       "\n",
       "                    737    740    741    743    945    1009   1010   1143   \\\n",
       "toplam_kentsel_og     NaN    NaN    NaN    NaN    NaN    NaN    NaN    NaN   \n",
       "toplam_kentsel_ag     NaN    NaN    NaN    NaN    NaN    NaN    NaN    NaN   \n",
       "toplam_kentalti_og    NaN    NaN    NaN    NaN    NaN    NaN    NaN    NaN   \n",
       "toplam_kentalti_ag    NaN    NaN    NaN    NaN    NaN    NaN    NaN    NaN   \n",
       "toplam_kirsal_og      NaN    NaN    NaN    NaN    NaN    NaN    NaN    NaN   \n",
       "toplam_kirsal_ag      NaN    NaN    NaN    NaN    NaN    NaN    NaN    NaN   \n",
       "\n",
       "                    1144   1230   1317   1350   1448   1528   1573   1618   \\\n",
       "toplam_kentsel_og     NaN    NaN    NaN    NaN    NaN    NaN    NaN    NaN   \n",
       "toplam_kentsel_ag     NaN    NaN    NaN    NaN    NaN    NaN    NaN    NaN   \n",
       "toplam_kentalti_og    NaN    NaN    NaN    NaN    NaN    NaN    NaN    NaN   \n",
       "toplam_kentalti_ag    NaN    NaN    NaN    NaN    NaN    NaN    NaN    NaN   \n",
       "toplam_kirsal_og      NaN    NaN    NaN    NaN    NaN    NaN    NaN    NaN   \n",
       "toplam_kirsal_ag      NaN    NaN    NaN    NaN    NaN    NaN    NaN    NaN   \n",
       "\n",
       "                    1627   1629   1778   1779   2002   2020   2116   2124   \\\n",
       "toplam_kentsel_og     NaN    NaN    NaN    NaN    NaN    NaN    NaN    NaN   \n",
       "toplam_kentsel_ag     NaN    NaN    NaN    NaN    NaN    NaN    NaN    NaN   \n",
       "toplam_kentalti_og    NaN    NaN    NaN    NaN    NaN    NaN    NaN    NaN   \n",
       "toplam_kentalti_ag    NaN    NaN    NaN    NaN    NaN    NaN    NaN    NaN   \n",
       "toplam_kirsal_og      NaN    NaN    NaN    NaN    NaN    NaN    NaN    NaN   \n",
       "toplam_kirsal_ag      NaN    NaN    NaN    NaN    NaN    NaN    NaN    NaN   \n",
       "\n",
       "                    2125   2126   2207   2240   2295   2340   2370   2454   \\\n",
       "toplam_kentsel_og     NaN    NaN    NaN    NaN    NaN    NaN    NaN    NaN   \n",
       "toplam_kentsel_ag     NaN    NaN    NaN    NaN    NaN    NaN    NaN    NaN   \n",
       "toplam_kentalti_og    NaN    NaN    NaN    NaN    NaN    NaN    NaN    NaN   \n",
       "toplam_kentalti_ag    NaN    NaN    NaN    NaN    NaN    NaN    NaN    NaN   \n",
       "toplam_kirsal_og      NaN    NaN    NaN    NaN    NaN    NaN    NaN    NaN   \n",
       "toplam_kirsal_ag      NaN    NaN    NaN    NaN    NaN    NaN    NaN    NaN   \n",
       "\n",
       "                    2493   2514   2570   2602   2613   2639   2762   2767   \\\n",
       "toplam_kentsel_og     NaN    NaN    NaN    NaN    NaN    NaN    NaN    NaN   \n",
       "toplam_kentsel_ag     NaN    NaN    NaN    NaN    NaN    NaN    NaN    NaN   \n",
       "toplam_kentalti_og    NaN    NaN    NaN    NaN    NaN    NaN    NaN    NaN   \n",
       "toplam_kentalti_ag    NaN    NaN    NaN    NaN    NaN    NaN    NaN    NaN   \n",
       "toplam_kirsal_og      NaN    NaN    NaN    NaN    NaN    NaN    NaN    NaN   \n",
       "toplam_kirsal_ag      NaN    NaN    NaN    NaN    NaN    NaN    NaN    NaN   \n",
       "\n",
       "                    2834   2845   2981   2982   3110   3178   3364   3397   \\\n",
       "toplam_kentsel_og     NaN    NaN    NaN    NaN    NaN    NaN    NaN    NaN   \n",
       "toplam_kentsel_ag     NaN    NaN    NaN    NaN    NaN    NaN    NaN    NaN   \n",
       "toplam_kentalti_og    NaN    NaN    NaN    NaN    NaN    NaN    NaN    NaN   \n",
       "toplam_kentalti_ag    NaN    NaN    NaN    NaN    NaN    NaN    NaN    NaN   \n",
       "toplam_kirsal_og      NaN    NaN    NaN    NaN    NaN    NaN    NaN    NaN   \n",
       "toplam_kirsal_ag      NaN    NaN    NaN    NaN    NaN    NaN    NaN    NaN   \n",
       "\n",
       "                    3407   3425   3429   3468   3490   3672   3694   3801   \\\n",
       "toplam_kentsel_og     NaN    NaN    NaN    NaN    NaN    NaN    NaN    NaN   \n",
       "toplam_kentsel_ag     NaN    NaN    NaN    NaN    NaN    NaN    NaN    NaN   \n",
       "toplam_kentalti_og    NaN    NaN    NaN    NaN    NaN    NaN    NaN    NaN   \n",
       "toplam_kentalti_ag    NaN    NaN    NaN    NaN    NaN    NaN    NaN    NaN   \n",
       "toplam_kirsal_og      NaN    NaN    NaN    NaN    NaN    NaN    NaN    NaN   \n",
       "toplam_kirsal_ag      NaN    NaN    NaN    NaN    NaN    NaN    NaN    NaN   \n",
       "\n",
       "                    3913   3959   3960   4162   4247   4249   4285   4289   \\\n",
       "toplam_kentsel_og     NaN    NaN    NaN    NaN    NaN    NaN    NaN    NaN   \n",
       "toplam_kentsel_ag     NaN    NaN    NaN    NaN    NaN    NaN    NaN    NaN   \n",
       "toplam_kentalti_og    NaN    NaN    NaN    NaN    NaN    NaN    NaN    NaN   \n",
       "toplam_kentalti_ag    NaN    NaN    NaN    NaN    NaN    NaN    NaN    NaN   \n",
       "toplam_kirsal_og      NaN    NaN    NaN    NaN    NaN    NaN    NaN    NaN   \n",
       "toplam_kirsal_ag      NaN    NaN    NaN    NaN    NaN    NaN    NaN    NaN   \n",
       "\n",
       "                    4389   4397   4413   4444   7152   7153   7154   7155   \\\n",
       "toplam_kentsel_og     NaN    NaN    NaN    NaN    NaN    NaN    NaN    NaN   \n",
       "toplam_kentsel_ag     NaN    NaN    NaN    NaN    NaN    NaN    NaN    NaN   \n",
       "toplam_kentalti_og    NaN    NaN    NaN    NaN    NaN    NaN    NaN    NaN   \n",
       "toplam_kentalti_ag    NaN    NaN    NaN    NaN    NaN    NaN    NaN    NaN   \n",
       "toplam_kirsal_og      NaN    NaN    NaN    NaN    NaN    NaN    NaN    NaN   \n",
       "toplam_kirsal_ag      NaN    NaN    NaN    NaN    NaN    NaN    NaN    NaN   \n",
       "\n",
       "                    7156   7157   7158   7159   7219   7430   7464   7536   \\\n",
       "toplam_kentsel_og     NaN    NaN    NaN    NaN    NaN    NaN    NaN    NaN   \n",
       "toplam_kentsel_ag     NaN    NaN    NaN    NaN    NaN    NaN    NaN    NaN   \n",
       "toplam_kentalti_og    NaN    NaN    NaN    NaN    NaN    NaN    NaN    NaN   \n",
       "toplam_kentalti_ag    NaN    NaN    NaN    NaN    NaN    NaN    NaN    NaN   \n",
       "toplam_kirsal_og      NaN    NaN    NaN    NaN    NaN    NaN    NaN    NaN   \n",
       "toplam_kirsal_ag      NaN    NaN    NaN    NaN    NaN    NaN    NaN    NaN   \n",
       "\n",
       "                    7562   7708   7858   8058   8516   8594   15468  15469  \\\n",
       "toplam_kentsel_og     NaN    NaN    NaN    NaN    NaN    NaN    NaN    NaN   \n",
       "toplam_kentsel_ag     NaN    NaN    NaN    NaN    NaN    NaN    NaN    NaN   \n",
       "toplam_kentalti_og    NaN    NaN    NaN    NaN    NaN    NaN    NaN    NaN   \n",
       "toplam_kentalti_ag    NaN    NaN    NaN    NaN    NaN    NaN    NaN    NaN   \n",
       "toplam_kirsal_og      NaN    NaN    NaN    NaN    NaN    NaN    NaN    NaN   \n",
       "toplam_kirsal_ag      NaN    NaN    NaN    NaN    NaN    NaN    NaN    NaN   \n",
       "\n",
       "                    15472  15744  15823  16339  16384  16597  16624  16776  \\\n",
       "toplam_kentsel_og     NaN    NaN    NaN    NaN    NaN    NaN    NaN    NaN   \n",
       "toplam_kentsel_ag     NaN    NaN    NaN    NaN    NaN    NaN    NaN    NaN   \n",
       "toplam_kentalti_og    NaN    NaN    NaN    NaN    NaN    NaN    NaN    NaN   \n",
       "toplam_kentalti_ag    NaN    NaN    NaN    NaN    NaN    NaN    NaN    NaN   \n",
       "toplam_kirsal_og      NaN    NaN    NaN    NaN    NaN    NaN    NaN    NaN   \n",
       "toplam_kirsal_ag      NaN    NaN    NaN    NaN    NaN    NaN    NaN    NaN   \n",
       "\n",
       "                    16784  16785  17070  17312  17357  17421  17444  17584  \\\n",
       "toplam_kentsel_og     NaN    NaN    NaN    NaN    NaN    NaN    NaN    NaN   \n",
       "toplam_kentsel_ag     NaN    NaN    NaN    NaN    NaN    NaN    NaN    NaN   \n",
       "toplam_kentalti_og    NaN    NaN    NaN    NaN    NaN    NaN    NaN    NaN   \n",
       "toplam_kentalti_ag    NaN    NaN    NaN    NaN    NaN    NaN    NaN    NaN   \n",
       "toplam_kirsal_og      NaN    NaN    NaN    NaN    NaN    NaN    NaN    NaN   \n",
       "toplam_kirsal_ag      NaN    NaN    NaN    NaN    NaN    NaN    NaN    NaN   \n",
       "\n",
       "                    17589  17669  17689  17744  18253  18304  18337  18988  \\\n",
       "toplam_kentsel_og     NaN    NaN    NaN    NaN    NaN    NaN    NaN    NaN   \n",
       "toplam_kentsel_ag     NaN    NaN    NaN    NaN    NaN    NaN    NaN    NaN   \n",
       "toplam_kentalti_og    NaN    NaN    NaN    NaN    NaN    NaN    NaN    NaN   \n",
       "toplam_kentalti_ag    NaN    NaN    NaN    NaN    NaN    NaN    NaN    NaN   \n",
       "toplam_kirsal_og      NaN    NaN    NaN    NaN    NaN    NaN    NaN    NaN   \n",
       "toplam_kirsal_ag      NaN    NaN    NaN    NaN    NaN    NaN    NaN    NaN   \n",
       "\n",
       "                    18995  19034  19035  19036  19318  19486  19609  19615  \\\n",
       "toplam_kentsel_og     NaN    NaN    NaN    NaN    NaN    NaN    NaN    NaN   \n",
       "toplam_kentsel_ag     NaN    NaN    NaN    NaN    NaN    NaN    NaN    NaN   \n",
       "toplam_kentalti_og    NaN    NaN    NaN    NaN    NaN    NaN    NaN    NaN   \n",
       "toplam_kentalti_ag    NaN    NaN    NaN    NaN    NaN    NaN    NaN    NaN   \n",
       "toplam_kirsal_og      NaN    NaN    NaN    NaN    NaN    NaN    NaN    NaN   \n",
       "toplam_kirsal_ag      NaN    NaN    NaN    NaN    NaN    NaN    NaN    NaN   \n",
       "\n",
       "                    19676  19782  19936  20235  20259  20440  20560  20607  \\\n",
       "toplam_kentsel_og     NaN    NaN    NaN    NaN    NaN    NaN    NaN    NaN   \n",
       "toplam_kentsel_ag     NaN    NaN    NaN    NaN    NaN    NaN    NaN    NaN   \n",
       "toplam_kentalti_og    NaN    NaN    NaN    NaN    NaN    NaN    NaN    NaN   \n",
       "toplam_kentalti_ag    NaN    NaN    NaN    NaN    NaN    NaN    NaN    NaN   \n",
       "toplam_kirsal_og      NaN    NaN    NaN    NaN    NaN    NaN    NaN    NaN   \n",
       "toplam_kirsal_ag      NaN    NaN    NaN    NaN    NaN    NaN    NaN    NaN   \n",
       "\n",
       "                    20831  20858  20867  20889  \n",
       "toplam_kentsel_og     NaN    NaN    NaN    NaN  \n",
       "toplam_kentsel_ag     NaN    NaN    NaN    NaN  \n",
       "toplam_kentalti_og    NaN    NaN    NaN    NaN  \n",
       "toplam_kentalti_ag    NaN    NaN    NaN    NaN  \n",
       "toplam_kirsal_og      NaN    NaN    NaN    NaN  \n",
       "toplam_kirsal_ag      NaN    NaN    NaN    NaN  "
      ]
     },
     "execution_count": 131,
     "metadata": {},
     "output_type": "execute_result"
    }
   ],
   "source": [
    "df.iloc[check_index, 19:].T"
   ]
  },
  {
   "cell_type": "markdown",
   "metadata": {},
   "source": [
    "> rows with multiple null values could be dropped"
   ]
  },
  {
   "cell_type": "markdown",
   "metadata": {},
   "source": [
    "### **<span style='color:coral'> toplam_kentsel_ag </span>** "
   ]
  },
  {
   "cell_type": "markdown",
   "metadata": {},
   "source": [
    "Birimi `saat`tir.Tüm illerin merkez mahalleleri ile 2020 yılı TÜİK tarafından açıklanan nüfus verilerine göre `nüfusu 50 000 (elli bin) ve üzerinde` olan ilçelerin merkez mahallelerinin `alçak gerilim` kesinti hatlarındaki `toplam kesinti süresi`."
   ]
  },
  {
   "cell_type": "code",
   "execution_count": 133,
   "metadata": {},
   "outputs": [
    {
     "data": {
      "text/plain": [
       "0.000       29263\n",
       "NaN           140\n",
       "0.017          33\n",
       "0.011          24\n",
       "0.033          18\n",
       "            ...  \n",
       "67.317          1\n",
       "646.575         1\n",
       "6956.833        1\n",
       "3250.900        1\n",
       "0.785           1\n",
       "Name: toplam_kentsel_ag, Length: 60679, dtype: int64"
      ]
     },
     "execution_count": 133,
     "metadata": {},
     "output_type": "execute_result"
    }
   ],
   "source": [
    "df.toplam_kentsel_ag.value_counts(dropna=False)"
   ]
  },
  {
   "cell_type": "code",
   "execution_count": 134,
   "metadata": {},
   "outputs": [
    {
     "data": {
      "text/plain": [
       "60678"
      ]
     },
     "execution_count": 134,
     "metadata": {},
     "output_type": "execute_result"
    }
   ],
   "source": [
    "df.toplam_kentsel_ag.nunique()"
   ]
  },
  {
   "cell_type": "markdown",
   "metadata": {},
   "source": [
    "> high number of unique values"
   ]
  },
  {
   "cell_type": "markdown",
   "metadata": {},
   "source": [
    "### **<span style='color:coral'> toplam_kentalti_og </span>** "
   ]
  },
  {
   "cell_type": "markdown",
   "metadata": {},
   "source": [
    "Birimi `saat`tir.Kentsel olmayan ilçelerin merkez mahallleri ile 2020 yılı TÜİK tarafından açıklanan nüfus verilerine göre `nüfusu 2 000 (iki bin) ve üzerinde` olan mahallelerinin `orta gerilim` kesinti hatlarındaki `toplam kesinti süresi`."
   ]
  },
  {
   "cell_type": "code",
   "execution_count": 135,
   "metadata": {},
   "outputs": [
    {
     "data": {
      "text/plain": [
       "0.000       95104\n",
       "NaN           140\n",
       "0.011          32\n",
       "0.025          27\n",
       "0.017          25\n",
       "            ...  \n",
       "246.583         1\n",
       "22.780          1\n",
       "1122.697        1\n",
       "1.272           1\n",
       "4.205           1\n",
       "Name: toplam_kentalti_og, Length: 4697, dtype: int64"
      ]
     },
     "execution_count": 135,
     "metadata": {},
     "output_type": "execute_result"
    }
   ],
   "source": [
    "df.toplam_kentalti_og.value_counts(dropna=False)"
   ]
  },
  {
   "cell_type": "code",
   "execution_count": 136,
   "metadata": {},
   "outputs": [
    {
     "data": {
      "text/plain": [
       "4696"
      ]
     },
     "execution_count": 136,
     "metadata": {},
     "output_type": "execute_result"
    }
   ],
   "source": [
    "df.toplam_kentalti_og.nunique()"
   ]
  },
  {
   "cell_type": "markdown",
   "metadata": {},
   "source": [
    "> high number of unique values"
   ]
  },
  {
   "cell_type": "markdown",
   "metadata": {},
   "source": [
    "### **<span style='color:coral'> toplam_kentalti_ag </span>** "
   ]
  },
  {
   "cell_type": "markdown",
   "metadata": {},
   "source": [
    "Birimi `saat`tir.Kentsel olmayan ilçelerin merkez mahallleri ile 2020 yılı TÜİK tarafından açıklanan nüfus verilerine göre `nüfusu 2 000 (iki bin) ve üzerinde` olan mahallelerinin `alçak gerilim` kesinti hatlarındaki `toplam kesinti süresi`."
   ]
  },
  {
   "cell_type": "code",
   "execution_count": 137,
   "metadata": {},
   "outputs": [
    {
     "data": {
      "text/plain": [
       "0.000      83373\n",
       "NaN          140\n",
       "3.489         18\n",
       "0.050         15\n",
       "0.017          9\n",
       "           ...  \n",
       "40.854         1\n",
       "21.018         1\n",
       "241.939        1\n",
       "60.228         1\n",
       "10.074         1\n",
       "Name: toplam_kentalti_ag, Length: 16052, dtype: int64"
      ]
     },
     "execution_count": 137,
     "metadata": {},
     "output_type": "execute_result"
    }
   ],
   "source": [
    "df.toplam_kentalti_ag.value_counts(dropna=False)"
   ]
  },
  {
   "cell_type": "code",
   "execution_count": 138,
   "metadata": {},
   "outputs": [
    {
     "data": {
      "text/plain": [
       "16051"
      ]
     },
     "execution_count": 138,
     "metadata": {},
     "output_type": "execute_result"
    }
   ],
   "source": [
    "df.toplam_kentalti_ag.nunique()"
   ]
  },
  {
   "cell_type": "markdown",
   "metadata": {},
   "source": [
    "> high number of unique values"
   ]
  },
  {
   "cell_type": "markdown",
   "metadata": {},
   "source": [
    "### **<span style='color:coral'> toplam_kirsal_og </span>** "
   ]
  },
  {
   "cell_type": "markdown",
   "metadata": {},
   "source": [
    "Birimi `saat`tir.Kentsel olmayan ilçelerin merkez mahallleri ile 2020 yılı TÜİK tarafından açıklanan nüfus verilerine göre `nüfusu 2 000 (iki bin)in altında` olan mahallelerinin `orta gerilim` kesinti hatlarındaki `toplam kesinti süresi`."
   ]
  },
  {
   "cell_type": "code",
   "execution_count": 139,
   "metadata": {},
   "outputs": [
    {
     "data": {
      "text/plain": [
       "0.000     92666\n",
       "NaN         140\n",
       "0.067        36\n",
       "0.017        34\n",
       "0.050        24\n",
       "          ...  \n",
       "20.044        1\n",
       "64.208        1\n",
       "6.512         1\n",
       "3.825         1\n",
       "1.695         1\n",
       "Name: toplam_kirsal_og, Length: 6650, dtype: int64"
      ]
     },
     "execution_count": 139,
     "metadata": {},
     "output_type": "execute_result"
    }
   ],
   "source": [
    "df.toplam_kirsal_og.value_counts(dropna=False)"
   ]
  },
  {
   "cell_type": "code",
   "execution_count": 140,
   "metadata": {},
   "outputs": [
    {
     "data": {
      "text/plain": [
       "6649"
      ]
     },
     "execution_count": 140,
     "metadata": {},
     "output_type": "execute_result"
    }
   ],
   "source": [
    "df.toplam_kirsal_og.nunique()"
   ]
  },
  {
   "cell_type": "markdown",
   "metadata": {},
   "source": [
    "> high number of unique values"
   ]
  },
  {
   "cell_type": "markdown",
   "metadata": {},
   "source": [
    "### **<span style='color:coral'> toplam_kirsal_ag </span>** "
   ]
  },
  {
   "cell_type": "markdown",
   "metadata": {},
   "source": [
    "Birimi `saat`tir.Kentsel olmayan ilçelerin merkez mahallleri ile 2020 yılı TÜİK tarafından açıklanan nüfus verilerine göre `nüfusu 2 000 (iki bin)in altında` olan mahallelerinin alçak gerilim kesinti hatlarındaki `toplam kesinti süresi`."
   ]
  },
  {
   "cell_type": "code",
   "execution_count": 141,
   "metadata": {},
   "outputs": [
    {
     "data": {
      "text/plain": [
       "0.000       83076\n",
       "NaN           140\n",
       "12.525         16\n",
       "8.242          10\n",
       "7.056           7\n",
       "            ...  \n",
       "5027.123        1\n",
       "4.051           1\n",
       "77.568          1\n",
       "126.500         1\n",
       "4.224           1\n",
       "Name: toplam_kirsal_ag, Length: 16724, dtype: int64"
      ]
     },
     "execution_count": 141,
     "metadata": {},
     "output_type": "execute_result"
    }
   ],
   "source": [
    "df.toplam_kirsal_ag.value_counts(dropna=False)"
   ]
  },
  {
   "cell_type": "code",
   "execution_count": 142,
   "metadata": {},
   "outputs": [
    {
     "data": {
      "text/plain": [
       "16723"
      ]
     },
     "execution_count": 142,
     "metadata": {},
     "output_type": "execute_result"
    }
   ],
   "source": [
    "df.toplam_kirsal_ag.nunique()"
   ]
  },
  {
   "cell_type": "markdown",
   "metadata": {},
   "source": [
    "> high number of unique values"
   ]
  },
  {
   "cell_type": "markdown",
   "metadata": {},
   "source": [
    "## Reading the **Trafo** Data"
   ]
  },
  {
   "cell_type": "code",
   "execution_count": 143,
   "metadata": {},
   "outputs": [],
   "source": [
    "df1 = pd.read_csv(\"trafo.csv\")\n",
    "df_trafo = df1.copy()"
   ]
  },
  {
   "cell_type": "code",
   "execution_count": 145,
   "metadata": {},
   "outputs": [
    {
     "data": {
      "text/html": [
       "<div>\n",
       "<style scoped>\n",
       "    .dataframe tbody tr th:only-of-type {\n",
       "        vertical-align: middle;\n",
       "    }\n",
       "\n",
       "    .dataframe tbody tr th {\n",
       "        vertical-align: top;\n",
       "    }\n",
       "\n",
       "    .dataframe thead th {\n",
       "        text-align: right;\n",
       "    }\n",
       "</style>\n",
       "<table border=\"1\" class=\"dataframe\">\n",
       "  <thead>\n",
       "    <tr style=\"text-align: right;\">\n",
       "      <th></th>\n",
       "      <th>trafo_id</th>\n",
       "      <th>ŞEBEKE_UNSURU_KODU</th>\n",
       "    </tr>\n",
       "  </thead>\n",
       "  <tbody>\n",
       "    <tr>\n",
       "      <th>0</th>\n",
       "      <td>0</td>\n",
       "      <td>TR-129 35-19-L00129_DIREK TIPI TRAFO HUCRESI H...</td>\n",
       "    </tr>\n",
       "    <tr>\n",
       "      <th>1</th>\n",
       "      <td>1</td>\n",
       "      <td>K-633 35-02-K00633_K-259 K01_2034347</td>\n",
       "    </tr>\n",
       "    <tr>\n",
       "      <th>2</th>\n",
       "      <td>2</td>\n",
       "      <td>UZUNDERE TM 35-01-A00013_İKİZTEPE M10_2034358</td>\n",
       "    </tr>\n",
       "    <tr>\n",
       "      <th>3</th>\n",
       "      <td>3</td>\n",
       "      <td>SİNDEL TR-1 35-16-M00029_DIREK TIPI TRAFO HUCR...</td>\n",
       "    </tr>\n",
       "    <tr>\n",
       "      <th>4</th>\n",
       "      <td>4</td>\n",
       "      <td>M-1433 35-02-M01433_M-1611 M03_2034635</td>\n",
       "    </tr>\n",
       "  </tbody>\n",
       "</table>\n",
       "</div>"
      ],
      "text/plain": [
       "   trafo_id                                 ŞEBEKE_UNSURU_KODU\n",
       "0         0  TR-129 35-19-L00129_DIREK TIPI TRAFO HUCRESI H...\n",
       "1         1               K-633 35-02-K00633_K-259 K01_2034347\n",
       "2         2      UZUNDERE TM 35-01-A00013_İKİZTEPE M10_2034358\n",
       "3         3  SİNDEL TR-1 35-16-M00029_DIREK TIPI TRAFO HUCR...\n",
       "4         4             M-1433 35-02-M01433_M-1611 M03_2034635"
      ]
     },
     "execution_count": 145,
     "metadata": {},
     "output_type": "execute_result"
    }
   ],
   "source": [
    "df_trafo.head()"
   ]
  },
  {
   "cell_type": "code",
   "execution_count": 148,
   "metadata": {},
   "outputs": [
    {
     "data": {
      "text/html": [
       "<div>\n",
       "<style scoped>\n",
       "    .dataframe tbody tr th:only-of-type {\n",
       "        vertical-align: middle;\n",
       "    }\n",
       "\n",
       "    .dataframe tbody tr th {\n",
       "        vertical-align: top;\n",
       "    }\n",
       "\n",
       "    .dataframe thead th {\n",
       "        text-align: right;\n",
       "    }\n",
       "</style>\n",
       "<table border=\"1\" class=\"dataframe\">\n",
       "  <thead>\n",
       "    <tr style=\"text-align: right;\">\n",
       "      <th></th>\n",
       "      <th>trafo_id</th>\n",
       "      <th>ŞEBEKE_UNSURU_KODU</th>\n",
       "    </tr>\n",
       "  </thead>\n",
       "  <tbody>\n",
       "    <tr>\n",
       "      <th>63797</th>\n",
       "      <td>63797</td>\n",
       "      <td>L-68 EROL UĞUR SİTESİ 35-14-L00068_95001267660...</td>\n",
       "    </tr>\n",
       "    <tr>\n",
       "      <th>63798</th>\n",
       "      <td>63798</td>\n",
       "      <td>İM-1/TR-8 35-14-M00301_95001294481_95001294481</td>\n",
       "    </tr>\n",
       "    <tr>\n",
       "      <th>63799</th>\n",
       "      <td>63799</td>\n",
       "      <td>KAMUKENT TR-3 35-21-M00041_95001296977_9500129...</td>\n",
       "    </tr>\n",
       "    <tr>\n",
       "      <th>63800</th>\n",
       "      <td>63800</td>\n",
       "      <td>TR-2/27 45-72-L00027_95001300684_95001300684</td>\n",
       "    </tr>\n",
       "    <tr>\n",
       "      <th>63801</th>\n",
       "      <td>63801</td>\n",
       "      <td>M-2423 35-04-M02423_95001349833_95001349833</td>\n",
       "    </tr>\n",
       "  </tbody>\n",
       "</table>\n",
       "</div>"
      ],
      "text/plain": [
       "       trafo_id                                 ŞEBEKE_UNSURU_KODU\n",
       "63797     63797  L-68 EROL UĞUR SİTESİ 35-14-L00068_95001267660...\n",
       "63798     63798     İM-1/TR-8 35-14-M00301_95001294481_95001294481\n",
       "63799     63799  KAMUKENT TR-3 35-21-M00041_95001296977_9500129...\n",
       "63800     63800       TR-2/27 45-72-L00027_95001300684_95001300684\n",
       "63801     63801        M-2423 35-04-M02423_95001349833_95001349833"
      ]
     },
     "execution_count": 148,
     "metadata": {},
     "output_type": "execute_result"
    }
   ],
   "source": [
    "df_trafo.tail()"
   ]
  },
  {
   "cell_type": "code",
   "execution_count": 149,
   "metadata": {},
   "outputs": [
    {
     "data": {
      "text/plain": [
       "(63802, 2)"
      ]
     },
     "execution_count": 149,
     "metadata": {},
     "output_type": "execute_result"
    }
   ],
   "source": [
    "df_trafo.shape"
   ]
  },
  {
   "cell_type": "markdown",
   "metadata": {},
   "source": [
    "Cleaning column names with `skimpy.clean_columns`"
   ]
  },
  {
   "cell_type": "code",
   "execution_count": 150,
   "metadata": {},
   "outputs": [
    {
     "data": {
      "text/html": [
       "<pre style=\"white-space:pre;overflow-x:auto;line-height:normal;font-family:Menlo,'DejaVu Sans Mono',consolas,'Courier New',monospace\"><span style=\"color: #008080; text-decoration-color: #008080; font-weight: bold\">1</span> column names have been cleaned\n",
       "</pre>\n"
      ],
      "text/plain": [
       "\u001b[1;36m1\u001b[0m column names have been cleaned\n"
      ]
     },
     "metadata": {},
     "output_type": "display_data"
    },
    {
     "name": "stdout",
     "output_type": "stream",
     "text": [
      "Index(['trafo_id', 'sebeke_unsuru_kodu'], dtype='object')\n"
     ]
    }
   ],
   "source": [
    "df_trafo = clean_columns(df_trafo)\n",
    "print(df_trafo.columns)"
   ]
  },
  {
   "cell_type": "code",
   "execution_count": 151,
   "metadata": {},
   "outputs": [
    {
     "data": {
      "text/plain": [
       "TR-129 35-19-L00129_DIREK TIPI TRAFO HUCRESI H01_2034310                 1\n",
       "TR-34 35-15-M00034_DM-3 (TR-16) M02_66565466                             1\n",
       "ÇIRPI TR-1/1 35-20-M00001_DAĞITIM TRAFO ÇIRPI TR-1/1 M02_66559964        1\n",
       "ÇIRPI TR-1/1 35-20-M00001_ÇIRPI İM M01_66559969                          1\n",
       "MECİDİYE TR-1 KÖK 45-72-L00078_GÖKÇEKÖY (KÖYLER ÇIKIŞI) L010_66560801    1\n",
       "                                                                        ..\n",
       "L-301 ÇARK 35-18-L00301_950453388_950453388                              1\n",
       "L-440 35-18-L00440_950453409_950453409                                   1\n",
       "L-96 35-18-L00096_950453432_950453432                                    1\n",
       "L-96 35-18-L00096_950453445_950453445                                    1\n",
       "M-2423 35-04-M02423_95001349833_95001349833                              1\n",
       "Name: sebeke_unsuru_kodu, Length: 63802, dtype: int64"
      ]
     },
     "execution_count": 151,
     "metadata": {},
     "output_type": "execute_result"
    }
   ],
   "source": [
    "df_trafo.sebeke_unsuru_kodu.value_counts(dropna=False)"
   ]
  },
  {
   "cell_type": "code",
   "execution_count": 152,
   "metadata": {},
   "outputs": [
    {
     "data": {
      "text/plain": [
       "0"
      ]
     },
     "execution_count": 152,
     "metadata": {},
     "output_type": "execute_result"
    }
   ],
   "source": [
    "df_trafo.sebeke_unsuru_kodu.isnull().sum()"
   ]
  },
  {
   "cell_type": "code",
   "execution_count": 153,
   "metadata": {},
   "outputs": [
    {
     "data": {
      "text/plain": [
       "63802"
      ]
     },
     "execution_count": 153,
     "metadata": {},
     "output_type": "execute_result"
    }
   ],
   "source": [
    "df_trafo.sebeke_unsuru_kodu.nunique()"
   ]
  },
  {
   "cell_type": "code",
   "execution_count": 154,
   "metadata": {},
   "outputs": [
    {
     "data": {
      "text/plain": [
       "61480"
      ]
     },
     "execution_count": 154,
     "metadata": {},
     "output_type": "execute_result"
    }
   ],
   "source": [
    "#compare train dataset 'sebeke_unsuru_kodu' with trafo dataset 'sebeke_unsuru_kodu'\n",
    "df.sebeke_unsuru_kodu.nunique()"
   ]
  },
  {
   "cell_type": "markdown",
   "metadata": {},
   "source": [
    "## Reading the **Submission** Data"
   ]
  },
  {
   "cell_type": "code",
   "execution_count": 146,
   "metadata": {},
   "outputs": [],
   "source": [
    "df2 = pd.read_csv(\"submission.csv\")\n",
    "df_sub = df2.copy()"
   ]
  },
  {
   "cell_type": "code",
   "execution_count": 147,
   "metadata": {},
   "outputs": [
    {
     "data": {
      "text/html": [
       "<div>\n",
       "<style scoped>\n",
       "    .dataframe tbody tr th:only-of-type {\n",
       "        vertical-align: middle;\n",
       "    }\n",
       "\n",
       "    .dataframe tbody tr th {\n",
       "        vertical-align: top;\n",
       "    }\n",
       "\n",
       "    .dataframe thead th {\n",
       "        text-align: right;\n",
       "    }\n",
       "</style>\n",
       "<table border=\"1\" class=\"dataframe\">\n",
       "  <thead>\n",
       "    <tr style=\"text-align: right;\">\n",
       "      <th></th>\n",
       "      <th>trafo_id_date</th>\n",
       "      <th>KESİNTİ</th>\n",
       "    </tr>\n",
       "  </thead>\n",
       "  <tbody>\n",
       "    <tr>\n",
       "      <th>0</th>\n",
       "      <td>0__2022-10-01</td>\n",
       "      <td>NaN</td>\n",
       "    </tr>\n",
       "    <tr>\n",
       "      <th>1</th>\n",
       "      <td>0__2022-10-02</td>\n",
       "      <td>NaN</td>\n",
       "    </tr>\n",
       "    <tr>\n",
       "      <th>2</th>\n",
       "      <td>0__2022-10-03</td>\n",
       "      <td>NaN</td>\n",
       "    </tr>\n",
       "    <tr>\n",
       "      <th>3</th>\n",
       "      <td>0__2022-10-04</td>\n",
       "      <td>NaN</td>\n",
       "    </tr>\n",
       "    <tr>\n",
       "      <th>4</th>\n",
       "      <td>0__2022-10-05</td>\n",
       "      <td>NaN</td>\n",
       "    </tr>\n",
       "  </tbody>\n",
       "</table>\n",
       "</div>"
      ],
      "text/plain": [
       "   trafo_id_date  KESİNTİ\n",
       "0  0__2022-10-01      NaN\n",
       "1  0__2022-10-02      NaN\n",
       "2  0__2022-10-03      NaN\n",
       "3  0__2022-10-04      NaN\n",
       "4  0__2022-10-05      NaN"
      ]
     },
     "execution_count": 147,
     "metadata": {},
     "output_type": "execute_result"
    }
   ],
   "source": [
    "df_sub.head()"
   ]
  },
  {
   "cell_type": "markdown",
   "metadata": {},
   "source": [
    "Cleaning column names with `skimpy.clean_columns`"
   ]
  },
  {
   "cell_type": "code",
   "execution_count": 157,
   "metadata": {},
   "outputs": [
    {
     "data": {
      "text/html": [
       "<pre style=\"white-space:pre;overflow-x:auto;line-height:normal;font-family:Menlo,'DejaVu Sans Mono',consolas,'Courier New',monospace\"><span style=\"color: #008080; text-decoration-color: #008080; font-weight: bold\">1</span> column names have been cleaned\n",
       "</pre>\n"
      ],
      "text/plain": [
       "\u001b[1;36m1\u001b[0m column names have been cleaned\n"
      ]
     },
     "metadata": {},
     "output_type": "display_data"
    },
    {
     "name": "stdout",
     "output_type": "stream",
     "text": [
      "Index(['trafo_id_date', 'kesinti'], dtype='object')\n"
     ]
    }
   ],
   "source": [
    "df_sub = clean_columns(df_sub)\n",
    "print(df_sub.columns)"
   ]
  },
  {
   "cell_type": "code",
   "execution_count": 155,
   "metadata": {},
   "outputs": [
    {
     "data": {
      "text/plain": [
       "(4274734, 2)"
      ]
     },
     "execution_count": 155,
     "metadata": {},
     "output_type": "execute_result"
    }
   ],
   "source": [
    "df_sub.shape"
   ]
  },
  {
   "cell_type": "code",
   "execution_count": 156,
   "metadata": {},
   "outputs": [
    {
     "name": "stdout",
     "output_type": "stream",
     "text": [
      "<class 'pandas.core.frame.DataFrame'>\n",
      "RangeIndex: 4274734 entries, 0 to 4274733\n",
      "Data columns (total 2 columns):\n",
      " #   Column         Dtype  \n",
      "---  ------         -----  \n",
      " 0   trafo_id_date  object \n",
      " 1   KESİNTİ        float64\n",
      "dtypes: float64(1), object(1)\n",
      "memory usage: 65.2+ MB\n"
     ]
    }
   ],
   "source": [
    "df_sub.info()"
   ]
  },
  {
   "cell_type": "code",
   "execution_count": null,
   "metadata": {},
   "outputs": [],
   "source": []
  },
  {
   "cell_type": "markdown",
   "metadata": {},
   "source": [
    "## Reading the **Weather** Data"
   ]
  },
  {
   "cell_type": "markdown",
   "metadata": {},
   "source": [
    "### **<span style='color:turquoise'> Humidity </span>** "
   ]
  },
  {
   "cell_type": "markdown",
   "metadata": {},
   "source": [
    "unit = `[0:1]`"
   ]
  },
  {
   "cell_type": "code",
   "execution_count": 165,
   "metadata": {},
   "outputs": [],
   "source": [
    "df3 = pd.read_csv(\"Weather_Bagil-Nem.csv\")\n",
    "df_hum = df3.copy()"
   ]
  },
  {
   "cell_type": "code",
   "execution_count": 166,
   "metadata": {},
   "outputs": [
    {
     "data": {
      "text/html": [
       "<div>\n",
       "<style scoped>\n",
       "    .dataframe tbody tr th:only-of-type {\n",
       "        vertical-align: middle;\n",
       "    }\n",
       "\n",
       "    .dataframe tbody tr th {\n",
       "        vertical-align: top;\n",
       "    }\n",
       "\n",
       "    .dataframe thead th {\n",
       "        text-align: right;\n",
       "    }\n",
       "</style>\n",
       "<table border=\"1\" class=\"dataframe\">\n",
       "  <thead>\n",
       "    <tr style=\"text-align: right;\">\n",
       "      <th></th>\n",
       "      <th>Tarih</th>\n",
       "      <th>İzmir</th>\n",
       "      <th>Aliağa</th>\n",
       "      <th>Çeşme</th>\n",
       "      <th>Bergama</th>\n",
       "      <th>Manisa</th>\n",
       "      <th>Akhisar</th>\n",
       "      <th>Salihli</th>\n",
       "      <th>Çiğli</th>\n",
       "      <th>Menderes</th>\n",
       "      <th>Alaşehir</th>\n",
       "      <th>Demirci</th>\n",
       "      <th>Güzelyalı</th>\n",
       "      <th>Kula</th>\n",
       "      <th>Ödemiş</th>\n",
       "      <th>Soma</th>\n",
       "      <th>Urla</th>\n",
       "    </tr>\n",
       "  </thead>\n",
       "  <tbody>\n",
       "    <tr>\n",
       "      <th>0</th>\n",
       "      <td>2021-02-01 00:00:00</td>\n",
       "      <td>0.000</td>\n",
       "      <td>0.000</td>\n",
       "      <td>0.000</td>\n",
       "      <td>0.000</td>\n",
       "      <td>0.000</td>\n",
       "      <td>0.000</td>\n",
       "      <td>0.000</td>\n",
       "      <td>0.000</td>\n",
       "      <td>0.000</td>\n",
       "      <td>NaN</td>\n",
       "      <td>NaN</td>\n",
       "      <td>NaN</td>\n",
       "      <td>NaN</td>\n",
       "      <td>NaN</td>\n",
       "      <td>NaN</td>\n",
       "      <td>NaN</td>\n",
       "    </tr>\n",
       "    <tr>\n",
       "      <th>1</th>\n",
       "      <td>2021-02-01 01:00:00</td>\n",
       "      <td>0.000</td>\n",
       "      <td>0.000</td>\n",
       "      <td>0.000</td>\n",
       "      <td>0.000</td>\n",
       "      <td>0.000</td>\n",
       "      <td>0.000</td>\n",
       "      <td>0.000</td>\n",
       "      <td>0.000</td>\n",
       "      <td>0.000</td>\n",
       "      <td>NaN</td>\n",
       "      <td>NaN</td>\n",
       "      <td>NaN</td>\n",
       "      <td>NaN</td>\n",
       "      <td>NaN</td>\n",
       "      <td>NaN</td>\n",
       "      <td>NaN</td>\n",
       "    </tr>\n",
       "    <tr>\n",
       "      <th>2</th>\n",
       "      <td>2021-02-01 02:00:00</td>\n",
       "      <td>0.000</td>\n",
       "      <td>0.000</td>\n",
       "      <td>0.000</td>\n",
       "      <td>0.000</td>\n",
       "      <td>0.000</td>\n",
       "      <td>0.000</td>\n",
       "      <td>0.000</td>\n",
       "      <td>0.000</td>\n",
       "      <td>0.000</td>\n",
       "      <td>NaN</td>\n",
       "      <td>NaN</td>\n",
       "      <td>NaN</td>\n",
       "      <td>NaN</td>\n",
       "      <td>NaN</td>\n",
       "      <td>NaN</td>\n",
       "      <td>NaN</td>\n",
       "    </tr>\n",
       "    <tr>\n",
       "      <th>3</th>\n",
       "      <td>2021-02-01 03:00:00</td>\n",
       "      <td>0.000</td>\n",
       "      <td>0.000</td>\n",
       "      <td>0.000</td>\n",
       "      <td>0.000</td>\n",
       "      <td>0.000</td>\n",
       "      <td>0.000</td>\n",
       "      <td>0.000</td>\n",
       "      <td>0.000</td>\n",
       "      <td>0.000</td>\n",
       "      <td>NaN</td>\n",
       "      <td>NaN</td>\n",
       "      <td>NaN</td>\n",
       "      <td>NaN</td>\n",
       "      <td>NaN</td>\n",
       "      <td>NaN</td>\n",
       "      <td>NaN</td>\n",
       "    </tr>\n",
       "    <tr>\n",
       "      <th>4</th>\n",
       "      <td>2021-02-01 04:00:00</td>\n",
       "      <td>0.000</td>\n",
       "      <td>0.000</td>\n",
       "      <td>0.000</td>\n",
       "      <td>0.000</td>\n",
       "      <td>0.000</td>\n",
       "      <td>0.000</td>\n",
       "      <td>0.000</td>\n",
       "      <td>0.000</td>\n",
       "      <td>0.000</td>\n",
       "      <td>NaN</td>\n",
       "      <td>NaN</td>\n",
       "      <td>NaN</td>\n",
       "      <td>NaN</td>\n",
       "      <td>NaN</td>\n",
       "      <td>NaN</td>\n",
       "      <td>NaN</td>\n",
       "    </tr>\n",
       "  </tbody>\n",
       "</table>\n",
       "</div>"
      ],
      "text/plain": [
       "                 Tarih  İzmir  Aliağa  Çeşme  Bergama  Manisa  Akhisar  \\\n",
       "0  2021-02-01 00:00:00  0.000   0.000  0.000    0.000   0.000    0.000   \n",
       "1  2021-02-01 01:00:00  0.000   0.000  0.000    0.000   0.000    0.000   \n",
       "2  2021-02-01 02:00:00  0.000   0.000  0.000    0.000   0.000    0.000   \n",
       "3  2021-02-01 03:00:00  0.000   0.000  0.000    0.000   0.000    0.000   \n",
       "4  2021-02-01 04:00:00  0.000   0.000  0.000    0.000   0.000    0.000   \n",
       "\n",
       "   Salihli  Çiğli  Menderes  Alaşehir  Demirci  Güzelyalı  Kula  Ödemiş  Soma  \\\n",
       "0    0.000  0.000     0.000       NaN      NaN        NaN   NaN     NaN   NaN   \n",
       "1    0.000  0.000     0.000       NaN      NaN        NaN   NaN     NaN   NaN   \n",
       "2    0.000  0.000     0.000       NaN      NaN        NaN   NaN     NaN   NaN   \n",
       "3    0.000  0.000     0.000       NaN      NaN        NaN   NaN     NaN   NaN   \n",
       "4    0.000  0.000     0.000       NaN      NaN        NaN   NaN     NaN   NaN   \n",
       "\n",
       "   Urla  \n",
       "0   NaN  \n",
       "1   NaN  \n",
       "2   NaN  \n",
       "3   NaN  \n",
       "4   NaN  "
      ]
     },
     "execution_count": 166,
     "metadata": {},
     "output_type": "execute_result"
    }
   ],
   "source": [
    "df_hum.head()"
   ]
  },
  {
   "cell_type": "code",
   "execution_count": 167,
   "metadata": {},
   "outputs": [
    {
     "data": {
      "text/plain": [
       "(38832, 17)"
      ]
     },
     "execution_count": 167,
     "metadata": {},
     "output_type": "execute_result"
    }
   ],
   "source": [
    "df_hum.shape"
   ]
  },
  {
   "cell_type": "code",
   "execution_count": 168,
   "metadata": {},
   "outputs": [
    {
     "name": "stdout",
     "output_type": "stream",
     "text": [
      "<class 'pandas.core.frame.DataFrame'>\n",
      "RangeIndex: 38832 entries, 0 to 38831\n",
      "Data columns (total 17 columns):\n",
      " #   Column     Non-Null Count  Dtype  \n",
      "---  ------     --------------  -----  \n",
      " 0   Tarih      38832 non-null  object \n",
      " 1   İzmir      11784 non-null  float64\n",
      " 2   Aliağa     11784 non-null  float64\n",
      " 3   Çeşme      38832 non-null  float64\n",
      " 4   Bergama    11784 non-null  float64\n",
      " 5   Manisa     38832 non-null  float64\n",
      " 6   Akhisar    38832 non-null  float64\n",
      " 7   Salihli    11784 non-null  float64\n",
      " 8   Çiğli      11784 non-null  float64\n",
      " 9   Menderes   11784 non-null  float64\n",
      " 10  Alaşehir   11472 non-null  float64\n",
      " 11  Demirci    11472 non-null  float64\n",
      " 12  Güzelyalı  38520 non-null  float64\n",
      " 13  Kula       11472 non-null  float64\n",
      " 14  Ödemiş     11472 non-null  float64\n",
      " 15  Soma       11472 non-null  float64\n",
      " 16  Urla       11472 non-null  float64\n",
      "dtypes: float64(16), object(1)\n",
      "memory usage: 5.0+ MB\n"
     ]
    }
   ],
   "source": [
    "df_hum.info()"
   ]
  },
  {
   "cell_type": "code",
   "execution_count": 174,
   "metadata": {},
   "outputs": [
    {
     "data": {
      "text/html": [
       "<pre style=\"white-space:pre;overflow-x:auto;line-height:normal;font-family:Menlo,'DejaVu Sans Mono',consolas,'Courier New',monospace\">╭──────────────────────────────────────────────── skimpy summary ─────────────────────────────────────────────────╮\n",
       "│ <span style=\"font-style: italic\">         Data Summary         </span> <span style=\"font-style: italic\">      Data Types       </span>                                                          │\n",
       "│ ┏━━━━━━━━━━━━━━━━━━━┳━━━━━━━━┓ ┏━━━━━━━━━━━━━┳━━━━━━━┓                                                          │\n",
       "│ ┃<span style=\"color: #008080; text-decoration-color: #008080; font-weight: bold\"> dataframe         </span>┃<span style=\"color: #008080; text-decoration-color: #008080; font-weight: bold\"> Values </span>┃ ┃<span style=\"color: #008080; text-decoration-color: #008080; font-weight: bold\"> Column Type </span>┃<span style=\"color: #008080; text-decoration-color: #008080; font-weight: bold\"> Count </span>┃                                                          │\n",
       "│ ┡━━━━━━━━━━━━━━━━━━━╇━━━━━━━━┩ ┡━━━━━━━━━━━━━╇━━━━━━━┩                                                          │\n",
       "│ │ Number of rows    │ 38832  │ │ float64     │ 16    │                                                          │\n",
       "│ │ Number of columns │ 17     │ │ string      │ 1     │                                                          │\n",
       "│ └───────────────────┴────────┘ └─────────────┴───────┘                                                          │\n",
       "│ <span style=\"font-style: italic\">                                                    number                                                    </span>  │\n",
       "│ ┏━━━━━━━━━━━━━━━━━━┳━━━━━━━━━━┳━━━━━━━━┳━━━━━━━━━━━┳━━━━━━━━━━━┳━━━━━┳━━━━━━━━━┳━━━━━━━━━┳━━━━━━━━━┳━━━━━━━━━┓  │\n",
       "│ ┃<span style=\"font-weight: bold\"> column_name      </span>┃<span style=\"font-weight: bold\"> NA       </span>┃<span style=\"font-weight: bold\"> NA %   </span>┃<span style=\"font-weight: bold\"> mean      </span>┃<span style=\"font-weight: bold\"> sd        </span>┃<span style=\"font-weight: bold\"> p0  </span>┃<span style=\"font-weight: bold\"> p25     </span>┃<span style=\"font-weight: bold\"> p75     </span>┃<span style=\"font-weight: bold\"> p100    </span>┃<span style=\"font-weight: bold\"> hist    </span>┃  │\n",
       "│ ┡━━━━━━━━━━━━━━━━━━╇━━━━━━━━━━╇━━━━━━━━╇━━━━━━━━━━━╇━━━━━━━━━━━╇━━━━━╇━━━━━━━━━╇━━━━━━━━━╇━━━━━━━━━╇━━━━━━━━━┩  │\n",
       "│ │ <span style=\"color: #af87ff; text-decoration-color: #af87ff\">İzmir           </span> │ <span style=\"color: #008080; text-decoration-color: #008080\">   27000</span> │ <span style=\"color: #008080; text-decoration-color: #008080\">    70</span> │ <span style=\"color: #008080; text-decoration-color: #008080\">   0.0067</span> │ <span style=\"color: #008080; text-decoration-color: #008080\">   0.0027</span> │ <span style=\"color: #008080; text-decoration-color: #008080\">  0</span> │ <span style=\"color: #008080; text-decoration-color: #008080\">  0.005</span> │ <span style=\"color: #008080; text-decoration-color: #008080\">  0.009</span> │ <span style=\"color: #008080; text-decoration-color: #008080\">  0.015</span> │ <span style=\"color: #008000; text-decoration-color: #008000\"> ▁▄█▅▃ </span> │  │\n",
       "│ │ <span style=\"color: #af87ff; text-decoration-color: #af87ff\">Aliağa          </span> │ <span style=\"color: #008080; text-decoration-color: #008080\">   27000</span> │ <span style=\"color: #008080; text-decoration-color: #008080\">    70</span> │ <span style=\"color: #008080; text-decoration-color: #008080\">   0.0084</span> │ <span style=\"color: #008080; text-decoration-color: #008080\">   0.0036</span> │ <span style=\"color: #008080; text-decoration-color: #008080\">  0</span> │ <span style=\"color: #008080; text-decoration-color: #008080\">  0.006</span> │ <span style=\"color: #008080; text-decoration-color: #008080\">   0.01</span> │ <span style=\"color: #008080; text-decoration-color: #008080\">  0.017</span> │ <span style=\"color: #008000; text-decoration-color: #008000\">▁▄█▆▃▂ </span> │  │\n",
       "│ │ <span style=\"color: #af87ff; text-decoration-color: #af87ff\">Çeşme           </span> │ <span style=\"color: #008080; text-decoration-color: #008080\">       0</span> │ <span style=\"color: #008080; text-decoration-color: #008080\">     0</span> │ <span style=\"color: #008080; text-decoration-color: #008080\">     0.48</span> │ <span style=\"color: #008080; text-decoration-color: #008080\">     0.34</span> │ <span style=\"color: #008080; text-decoration-color: #008080\">  0</span> │ <span style=\"color: #008080; text-decoration-color: #008080\">  0.014</span> │ <span style=\"color: #008080; text-decoration-color: #008080\">   0.75</span> │ <span style=\"color: #008080; text-decoration-color: #008080\">      1</span> │ <span style=\"color: #008000; text-decoration-color: #008000\">█ ▂▆▇▂ </span> │  │\n",
       "│ │ <span style=\"color: #af87ff; text-decoration-color: #af87ff\">Bergama         </span> │ <span style=\"color: #008080; text-decoration-color: #008080\">   27000</span> │ <span style=\"color: #008080; text-decoration-color: #008080\">    70</span> │ <span style=\"color: #008080; text-decoration-color: #008080\">   0.0067</span> │ <span style=\"color: #008080; text-decoration-color: #008080\">   0.0028</span> │ <span style=\"color: #008080; text-decoration-color: #008080\">  0</span> │ <span style=\"color: #008080; text-decoration-color: #008080\">  0.005</span> │ <span style=\"color: #008080; text-decoration-color: #008080\">  0.009</span> │ <span style=\"color: #008080; text-decoration-color: #008080\">  0.018</span> │ <span style=\"color: #008000; text-decoration-color: #008000\"> ▁▆█▅▁ </span> │  │\n",
       "│ │ <span style=\"color: #af87ff; text-decoration-color: #af87ff\">Manisa          </span> │ <span style=\"color: #008080; text-decoration-color: #008080\">       0</span> │ <span style=\"color: #008080; text-decoration-color: #008080\">     0</span> │ <span style=\"color: #008080; text-decoration-color: #008080\">     0.42</span> │ <span style=\"color: #008080; text-decoration-color: #008080\">     0.32</span> │ <span style=\"color: #008080; text-decoration-color: #008080\">  0</span> │ <span style=\"color: #008080; text-decoration-color: #008080\">  0.008</span> │ <span style=\"color: #008080; text-decoration-color: #008080\">    0.7</span> │ <span style=\"color: #008080; text-decoration-color: #008080\">      1</span> │ <span style=\"color: #008000; text-decoration-color: #008000\">█▁▄▅▅▂ </span> │  │\n",
       "│ │ <span style=\"color: #af87ff; text-decoration-color: #af87ff\">Akhisar         </span> │ <span style=\"color: #008080; text-decoration-color: #008080\">       0</span> │ <span style=\"color: #008080; text-decoration-color: #008080\">     0</span> │ <span style=\"color: #008080; text-decoration-color: #008080\">     0.43</span> │ <span style=\"color: #008080; text-decoration-color: #008080\">     0.33</span> │ <span style=\"color: #008080; text-decoration-color: #008080\">  0</span> │ <span style=\"color: #008080; text-decoration-color: #008080\">  0.008</span> │ <span style=\"color: #008080; text-decoration-color: #008080\">   0.71</span> │ <span style=\"color: #008080; text-decoration-color: #008080\">      1</span> │ <span style=\"color: #008000; text-decoration-color: #008000\">█▂▃▅▅▂ </span> │  │\n",
       "│ │ <span style=\"color: #af87ff; text-decoration-color: #af87ff\">Salihli         </span> │ <span style=\"color: #008080; text-decoration-color: #008080\">   27000</span> │ <span style=\"color: #008080; text-decoration-color: #008080\">    70</span> │ <span style=\"color: #008080; text-decoration-color: #008080\">   0.0066</span> │ <span style=\"color: #008080; text-decoration-color: #008080\">   0.0031</span> │ <span style=\"color: #008080; text-decoration-color: #008080\">  0</span> │ <span style=\"color: #008080; text-decoration-color: #008080\">  0.004</span> │ <span style=\"color: #008080; text-decoration-color: #008080\">  0.008</span> │ <span style=\"color: #008080; text-decoration-color: #008080\">  0.019</span> │ <span style=\"color: #008000; text-decoration-color: #008000\"> ▃█▇▃  </span> │  │\n",
       "│ │ <span style=\"color: #af87ff; text-decoration-color: #af87ff\">Çiğli           </span> │ <span style=\"color: #008080; text-decoration-color: #008080\">   27000</span> │ <span style=\"color: #008080; text-decoration-color: #008080\">    70</span> │ <span style=\"color: #008080; text-decoration-color: #008080\">   0.0083</span> │ <span style=\"color: #008080; text-decoration-color: #008080\">   0.0042</span> │ <span style=\"color: #008080; text-decoration-color: #008080\">  0</span> │ <span style=\"color: #008080; text-decoration-color: #008080\">  0.005</span> │ <span style=\"color: #008080; text-decoration-color: #008080\">   0.01</span> │ <span style=\"color: #008080; text-decoration-color: #008080\">  0.019</span> │ <span style=\"color: #008000; text-decoration-color: #008000\">▃▄█▃▂▂ </span> │  │\n",
       "│ │ <span style=\"color: #af87ff; text-decoration-color: #af87ff\">Menderes        </span> │ <span style=\"color: #008080; text-decoration-color: #008080\">   27000</span> │ <span style=\"color: #008080; text-decoration-color: #008080\">    70</span> │ <span style=\"color: #008080; text-decoration-color: #008080\">   0.0063</span> │ <span style=\"color: #008080; text-decoration-color: #008080\">   0.0027</span> │ <span style=\"color: #008080; text-decoration-color: #008080\">  0</span> │ <span style=\"color: #008080; text-decoration-color: #008080\">  0.004</span> │ <span style=\"color: #008080; text-decoration-color: #008080\">  0.008</span> │ <span style=\"color: #008080; text-decoration-color: #008080\">  0.014</span> │ <span style=\"color: #008000; text-decoration-color: #008000\"> ▂▄█▅▂ </span> │  │\n",
       "│ │ <span style=\"color: #af87ff; text-decoration-color: #af87ff\">Alaşehir        </span> │ <span style=\"color: #008080; text-decoration-color: #008080\">   27000</span> │ <span style=\"color: #008080; text-decoration-color: #008080\">    70</span> │ <span style=\"color: #008080; text-decoration-color: #008080\">   0.0062</span> │ <span style=\"color: #008080; text-decoration-color: #008080\">   0.0027</span> │ <span style=\"color: #008080; text-decoration-color: #008080\">  0</span> │ <span style=\"color: #008080; text-decoration-color: #008080\">  0.004</span> │ <span style=\"color: #008080; text-decoration-color: #008080\">  0.008</span> │ <span style=\"color: #008080; text-decoration-color: #008080\">  0.016</span> │ <span style=\"color: #008000; text-decoration-color: #008000\"> ▂█▆▅▂ </span> │  │\n",
       "│ │ <span style=\"color: #af87ff; text-decoration-color: #af87ff\">Demirci         </span> │ <span style=\"color: #008080; text-decoration-color: #008080\">   27000</span> │ <span style=\"color: #008080; text-decoration-color: #008080\">    70</span> │ <span style=\"color: #008080; text-decoration-color: #008080\">   0.0055</span> │ <span style=\"color: #008080; text-decoration-color: #008080\">   0.0024</span> │ <span style=\"color: #008080; text-decoration-color: #008080\">  0</span> │ <span style=\"color: #008080; text-decoration-color: #008080\">  0.004</span> │ <span style=\"color: #008080; text-decoration-color: #008080\">  0.007</span> │ <span style=\"color: #008080; text-decoration-color: #008080\">  0.013</span> │ <span style=\"color: #008000; text-decoration-color: #008000\"> ▃▇█▆▃ </span> │  │\n",
       "│ │ <span style=\"color: #af87ff; text-decoration-color: #af87ff\">Güzelyalı       </span> │ <span style=\"color: #008080; text-decoration-color: #008080\">     310</span> │ <span style=\"color: #008080; text-decoration-color: #008080\">   0.8</span> │ <span style=\"color: #008080; text-decoration-color: #008080\">     0.41</span> │ <span style=\"color: #008080; text-decoration-color: #008080\">      0.3</span> │ <span style=\"color: #008080; text-decoration-color: #008080\">  0</span> │ <span style=\"color: #008080; text-decoration-color: #008080\">  0.009</span> │ <span style=\"color: #008080; text-decoration-color: #008080\">   0.66</span> │ <span style=\"color: #008080; text-decoration-color: #008080\">      1</span> │ <span style=\"color: #008000; text-decoration-color: #008000\">█▁▅▆▅▁ </span> │  │\n",
       "│ │ <span style=\"color: #af87ff; text-decoration-color: #af87ff\">Kula            </span> │ <span style=\"color: #008080; text-decoration-color: #008080\">   27000</span> │ <span style=\"color: #008080; text-decoration-color: #008080\">    70</span> │ <span style=\"color: #008080; text-decoration-color: #008080\">    0.006</span> │ <span style=\"color: #008080; text-decoration-color: #008080\">   0.0025</span> │ <span style=\"color: #008080; text-decoration-color: #008080\">  0</span> │ <span style=\"color: #008080; text-decoration-color: #008080\">  0.004</span> │ <span style=\"color: #008080; text-decoration-color: #008080\">  0.008</span> │ <span style=\"color: #008080; text-decoration-color: #008080\">  0.016</span> │ <span style=\"color: #008000; text-decoration-color: #008000\"> ▂█▅▅▁ </span> │  │\n",
       "│ │ <span style=\"color: #af87ff; text-decoration-color: #af87ff\">Ödemiş          </span> │ <span style=\"color: #008080; text-decoration-color: #008080\">   27000</span> │ <span style=\"color: #008080; text-decoration-color: #008080\">    70</span> │ <span style=\"color: #008080; text-decoration-color: #008080\">    0.006</span> │ <span style=\"color: #008080; text-decoration-color: #008080\">   0.0025</span> │ <span style=\"color: #008080; text-decoration-color: #008080\">  0</span> │ <span style=\"color: #008080; text-decoration-color: #008080\">  0.004</span> │ <span style=\"color: #008080; text-decoration-color: #008080\">  0.008</span> │ <span style=\"color: #008080; text-decoration-color: #008080\">  0.015</span> │ <span style=\"color: #008000; text-decoration-color: #008000\"> ▁▄█▃▂ </span> │  │\n",
       "│ │ <span style=\"color: #af87ff; text-decoration-color: #af87ff\">Soma            </span> │ <span style=\"color: #008080; text-decoration-color: #008080\">   27000</span> │ <span style=\"color: #008080; text-decoration-color: #008080\">    70</span> │ <span style=\"color: #008080; text-decoration-color: #008080\">   0.0062</span> │ <span style=\"color: #008080; text-decoration-color: #008080\">   0.0026</span> │ <span style=\"color: #008080; text-decoration-color: #008080\">  0</span> │ <span style=\"color: #008080; text-decoration-color: #008080\">  0.004</span> │ <span style=\"color: #008080; text-decoration-color: #008080\">  0.008</span> │ <span style=\"color: #008080; text-decoration-color: #008080\">  0.015</span> │ <span style=\"color: #008000; text-decoration-color: #008000\"> ▁▅█▄▂ </span> │  │\n",
       "│ │ <span style=\"color: #af87ff; text-decoration-color: #af87ff\">Urla            </span> │ <span style=\"color: #008080; text-decoration-color: #008080\">   27000</span> │ <span style=\"color: #008080; text-decoration-color: #008080\">    70</span> │ <span style=\"color: #008080; text-decoration-color: #008080\">   0.0098</span> │ <span style=\"color: #008080; text-decoration-color: #008080\">   0.0034</span> │ <span style=\"color: #008080; text-decoration-color: #008080\">  0</span> │ <span style=\"color: #008080; text-decoration-color: #008080\">  0.008</span> │ <span style=\"color: #008080; text-decoration-color: #008080\">  0.012</span> │ <span style=\"color: #008080; text-decoration-color: #008080\">  0.019</span> │ <span style=\"color: #008000; text-decoration-color: #008000\"> ▃█▅▂▂ </span> │  │\n",
       "│ └──────────────────┴──────────┴────────┴───────────┴───────────┴─────┴─────────┴─────────┴─────────┴─────────┘  │\n",
       "│ <span style=\"font-style: italic\">                                                    string                                                    </span>  │\n",
       "│ ┏━━━━━━━━━━━━━━━━━━━━━━━━━━━┳━━━━━━━━━┳━━━━━━━━━━━━┳━━━━━━━━━━━━━━━━━━━━━━━━━━━━━━┳━━━━━━━━━━━━━━━━━━━━━━━━━━┓  │\n",
       "│ ┃<span style=\"font-weight: bold\"> column_name               </span>┃<span style=\"font-weight: bold\"> NA      </span>┃<span style=\"font-weight: bold\"> NA %       </span>┃<span style=\"font-weight: bold\"> words per row                </span>┃<span style=\"font-weight: bold\"> total words              </span>┃  │\n",
       "│ ┡━━━━━━━━━━━━━━━━━━━━━━━━━━━╇━━━━━━━━━╇━━━━━━━━━━━━╇━━━━━━━━━━━━━━━━━━━━━━━━━━━━━━╇━━━━━━━━━━━━━━━━━━━━━━━━━━┩  │\n",
       "│ │ <span style=\"color: #af87ff; text-decoration-color: #af87ff\">Tarih                    </span> │ <span style=\"color: #008080; text-decoration-color: #008080\">      0</span> │ <span style=\"color: #008080; text-decoration-color: #008080\">         0</span> │ <span style=\"color: #008080; text-decoration-color: #008080\">                           2</span> │ <span style=\"color: #008080; text-decoration-color: #008080\">                   78000</span> │  │\n",
       "│ └───────────────────────────┴─────────┴────────────┴──────────────────────────────┴──────────────────────────┘  │\n",
       "╰────────────────────────────────────────────────────── End ──────────────────────────────────────────────────────╯\n",
       "</pre>\n"
      ],
      "text/plain": [
       "╭──────────────────────────────────────────────── skimpy summary ─────────────────────────────────────────────────╮\n",
       "│ \u001b[3m         Data Summary         \u001b[0m \u001b[3m      Data Types       \u001b[0m                                                          │\n",
       "│ ┏━━━━━━━━━━━━━━━━━━━┳━━━━━━━━┓ ┏━━━━━━━━━━━━━┳━━━━━━━┓                                                          │\n",
       "│ ┃\u001b[1;36m \u001b[0m\u001b[1;36mdataframe        \u001b[0m\u001b[1;36m \u001b[0m┃\u001b[1;36m \u001b[0m\u001b[1;36mValues\u001b[0m\u001b[1;36m \u001b[0m┃ ┃\u001b[1;36m \u001b[0m\u001b[1;36mColumn Type\u001b[0m\u001b[1;36m \u001b[0m┃\u001b[1;36m \u001b[0m\u001b[1;36mCount\u001b[0m\u001b[1;36m \u001b[0m┃                                                          │\n",
       "│ ┡━━━━━━━━━━━━━━━━━━━╇━━━━━━━━┩ ┡━━━━━━━━━━━━━╇━━━━━━━┩                                                          │\n",
       "│ │ Number of rows    │ 38832  │ │ float64     │ 16    │                                                          │\n",
       "│ │ Number of columns │ 17     │ │ string      │ 1     │                                                          │\n",
       "│ └───────────────────┴────────┘ └─────────────┴───────┘                                                          │\n",
       "│ \u001b[3m                                                    number                                                    \u001b[0m  │\n",
       "│ ┏━━━━━━━━━━━━━━━━━━┳━━━━━━━━━━┳━━━━━━━━┳━━━━━━━━━━━┳━━━━━━━━━━━┳━━━━━┳━━━━━━━━━┳━━━━━━━━━┳━━━━━━━━━┳━━━━━━━━━┓  │\n",
       "│ ┃\u001b[1m \u001b[0m\u001b[1mcolumn_name     \u001b[0m\u001b[1m \u001b[0m┃\u001b[1m \u001b[0m\u001b[1mNA      \u001b[0m\u001b[1m \u001b[0m┃\u001b[1m \u001b[0m\u001b[1mNA %  \u001b[0m\u001b[1m \u001b[0m┃\u001b[1m \u001b[0m\u001b[1mmean     \u001b[0m\u001b[1m \u001b[0m┃\u001b[1m \u001b[0m\u001b[1msd       \u001b[0m\u001b[1m \u001b[0m┃\u001b[1m \u001b[0m\u001b[1mp0 \u001b[0m\u001b[1m \u001b[0m┃\u001b[1m \u001b[0m\u001b[1mp25    \u001b[0m\u001b[1m \u001b[0m┃\u001b[1m \u001b[0m\u001b[1mp75    \u001b[0m\u001b[1m \u001b[0m┃\u001b[1m \u001b[0m\u001b[1mp100   \u001b[0m\u001b[1m \u001b[0m┃\u001b[1m \u001b[0m\u001b[1mhist   \u001b[0m\u001b[1m \u001b[0m┃  │\n",
       "│ ┡━━━━━━━━━━━━━━━━━━╇━━━━━━━━━━╇━━━━━━━━╇━━━━━━━━━━━╇━━━━━━━━━━━╇━━━━━╇━━━━━━━━━╇━━━━━━━━━╇━━━━━━━━━╇━━━━━━━━━┩  │\n",
       "│ │ \u001b[38;5;141mİzmir           \u001b[0m │ \u001b[36m   27000\u001b[0m │ \u001b[36m    70\u001b[0m │ \u001b[36m   0.0067\u001b[0m │ \u001b[36m   0.0027\u001b[0m │ \u001b[36m  0\u001b[0m │ \u001b[36m  0.005\u001b[0m │ \u001b[36m  0.009\u001b[0m │ \u001b[36m  0.015\u001b[0m │ \u001b[32m ▁▄█▅▃ \u001b[0m │  │\n",
       "│ │ \u001b[38;5;141mAliağa          \u001b[0m │ \u001b[36m   27000\u001b[0m │ \u001b[36m    70\u001b[0m │ \u001b[36m   0.0084\u001b[0m │ \u001b[36m   0.0036\u001b[0m │ \u001b[36m  0\u001b[0m │ \u001b[36m  0.006\u001b[0m │ \u001b[36m   0.01\u001b[0m │ \u001b[36m  0.017\u001b[0m │ \u001b[32m▁▄█▆▃▂ \u001b[0m │  │\n",
       "│ │ \u001b[38;5;141mÇeşme           \u001b[0m │ \u001b[36m       0\u001b[0m │ \u001b[36m     0\u001b[0m │ \u001b[36m     0.48\u001b[0m │ \u001b[36m     0.34\u001b[0m │ \u001b[36m  0\u001b[0m │ \u001b[36m  0.014\u001b[0m │ \u001b[36m   0.75\u001b[0m │ \u001b[36m      1\u001b[0m │ \u001b[32m█ ▂▆▇▂ \u001b[0m │  │\n",
       "│ │ \u001b[38;5;141mBergama         \u001b[0m │ \u001b[36m   27000\u001b[0m │ \u001b[36m    70\u001b[0m │ \u001b[36m   0.0067\u001b[0m │ \u001b[36m   0.0028\u001b[0m │ \u001b[36m  0\u001b[0m │ \u001b[36m  0.005\u001b[0m │ \u001b[36m  0.009\u001b[0m │ \u001b[36m  0.018\u001b[0m │ \u001b[32m ▁▆█▅▁ \u001b[0m │  │\n",
       "│ │ \u001b[38;5;141mManisa          \u001b[0m │ \u001b[36m       0\u001b[0m │ \u001b[36m     0\u001b[0m │ \u001b[36m     0.42\u001b[0m │ \u001b[36m     0.32\u001b[0m │ \u001b[36m  0\u001b[0m │ \u001b[36m  0.008\u001b[0m │ \u001b[36m    0.7\u001b[0m │ \u001b[36m      1\u001b[0m │ \u001b[32m█▁▄▅▅▂ \u001b[0m │  │\n",
       "│ │ \u001b[38;5;141mAkhisar         \u001b[0m │ \u001b[36m       0\u001b[0m │ \u001b[36m     0\u001b[0m │ \u001b[36m     0.43\u001b[0m │ \u001b[36m     0.33\u001b[0m │ \u001b[36m  0\u001b[0m │ \u001b[36m  0.008\u001b[0m │ \u001b[36m   0.71\u001b[0m │ \u001b[36m      1\u001b[0m │ \u001b[32m█▂▃▅▅▂ \u001b[0m │  │\n",
       "│ │ \u001b[38;5;141mSalihli         \u001b[0m │ \u001b[36m   27000\u001b[0m │ \u001b[36m    70\u001b[0m │ \u001b[36m   0.0066\u001b[0m │ \u001b[36m   0.0031\u001b[0m │ \u001b[36m  0\u001b[0m │ \u001b[36m  0.004\u001b[0m │ \u001b[36m  0.008\u001b[0m │ \u001b[36m  0.019\u001b[0m │ \u001b[32m ▃█▇▃  \u001b[0m │  │\n",
       "│ │ \u001b[38;5;141mÇiğli           \u001b[0m │ \u001b[36m   27000\u001b[0m │ \u001b[36m    70\u001b[0m │ \u001b[36m   0.0083\u001b[0m │ \u001b[36m   0.0042\u001b[0m │ \u001b[36m  0\u001b[0m │ \u001b[36m  0.005\u001b[0m │ \u001b[36m   0.01\u001b[0m │ \u001b[36m  0.019\u001b[0m │ \u001b[32m▃▄█▃▂▂ \u001b[0m │  │\n",
       "│ │ \u001b[38;5;141mMenderes        \u001b[0m │ \u001b[36m   27000\u001b[0m │ \u001b[36m    70\u001b[0m │ \u001b[36m   0.0063\u001b[0m │ \u001b[36m   0.0027\u001b[0m │ \u001b[36m  0\u001b[0m │ \u001b[36m  0.004\u001b[0m │ \u001b[36m  0.008\u001b[0m │ \u001b[36m  0.014\u001b[0m │ \u001b[32m ▂▄█▅▂ \u001b[0m │  │\n",
       "│ │ \u001b[38;5;141mAlaşehir        \u001b[0m │ \u001b[36m   27000\u001b[0m │ \u001b[36m    70\u001b[0m │ \u001b[36m   0.0062\u001b[0m │ \u001b[36m   0.0027\u001b[0m │ \u001b[36m  0\u001b[0m │ \u001b[36m  0.004\u001b[0m │ \u001b[36m  0.008\u001b[0m │ \u001b[36m  0.016\u001b[0m │ \u001b[32m ▂█▆▅▂ \u001b[0m │  │\n",
       "│ │ \u001b[38;5;141mDemirci         \u001b[0m │ \u001b[36m   27000\u001b[0m │ \u001b[36m    70\u001b[0m │ \u001b[36m   0.0055\u001b[0m │ \u001b[36m   0.0024\u001b[0m │ \u001b[36m  0\u001b[0m │ \u001b[36m  0.004\u001b[0m │ \u001b[36m  0.007\u001b[0m │ \u001b[36m  0.013\u001b[0m │ \u001b[32m ▃▇█▆▃ \u001b[0m │  │\n",
       "│ │ \u001b[38;5;141mGüzelyalı       \u001b[0m │ \u001b[36m     310\u001b[0m │ \u001b[36m   0.8\u001b[0m │ \u001b[36m     0.41\u001b[0m │ \u001b[36m      0.3\u001b[0m │ \u001b[36m  0\u001b[0m │ \u001b[36m  0.009\u001b[0m │ \u001b[36m   0.66\u001b[0m │ \u001b[36m      1\u001b[0m │ \u001b[32m█▁▅▆▅▁ \u001b[0m │  │\n",
       "│ │ \u001b[38;5;141mKula            \u001b[0m │ \u001b[36m   27000\u001b[0m │ \u001b[36m    70\u001b[0m │ \u001b[36m    0.006\u001b[0m │ \u001b[36m   0.0025\u001b[0m │ \u001b[36m  0\u001b[0m │ \u001b[36m  0.004\u001b[0m │ \u001b[36m  0.008\u001b[0m │ \u001b[36m  0.016\u001b[0m │ \u001b[32m ▂█▅▅▁ \u001b[0m │  │\n",
       "│ │ \u001b[38;5;141mÖdemiş          \u001b[0m │ \u001b[36m   27000\u001b[0m │ \u001b[36m    70\u001b[0m │ \u001b[36m    0.006\u001b[0m │ \u001b[36m   0.0025\u001b[0m │ \u001b[36m  0\u001b[0m │ \u001b[36m  0.004\u001b[0m │ \u001b[36m  0.008\u001b[0m │ \u001b[36m  0.015\u001b[0m │ \u001b[32m ▁▄█▃▂ \u001b[0m │  │\n",
       "│ │ \u001b[38;5;141mSoma            \u001b[0m │ \u001b[36m   27000\u001b[0m │ \u001b[36m    70\u001b[0m │ \u001b[36m   0.0062\u001b[0m │ \u001b[36m   0.0026\u001b[0m │ \u001b[36m  0\u001b[0m │ \u001b[36m  0.004\u001b[0m │ \u001b[36m  0.008\u001b[0m │ \u001b[36m  0.015\u001b[0m │ \u001b[32m ▁▅█▄▂ \u001b[0m │  │\n",
       "│ │ \u001b[38;5;141mUrla            \u001b[0m │ \u001b[36m   27000\u001b[0m │ \u001b[36m    70\u001b[0m │ \u001b[36m   0.0098\u001b[0m │ \u001b[36m   0.0034\u001b[0m │ \u001b[36m  0\u001b[0m │ \u001b[36m  0.008\u001b[0m │ \u001b[36m  0.012\u001b[0m │ \u001b[36m  0.019\u001b[0m │ \u001b[32m ▃█▅▂▂ \u001b[0m │  │\n",
       "│ └──────────────────┴──────────┴────────┴───────────┴───────────┴─────┴─────────┴─────────┴─────────┴─────────┘  │\n",
       "│ \u001b[3m                                                    string                                                    \u001b[0m  │\n",
       "│ ┏━━━━━━━━━━━━━━━━━━━━━━━━━━━┳━━━━━━━━━┳━━━━━━━━━━━━┳━━━━━━━━━━━━━━━━━━━━━━━━━━━━━━┳━━━━━━━━━━━━━━━━━━━━━━━━━━┓  │\n",
       "│ ┃\u001b[1m \u001b[0m\u001b[1mcolumn_name              \u001b[0m\u001b[1m \u001b[0m┃\u001b[1m \u001b[0m\u001b[1mNA     \u001b[0m\u001b[1m \u001b[0m┃\u001b[1m \u001b[0m\u001b[1mNA %      \u001b[0m\u001b[1m \u001b[0m┃\u001b[1m \u001b[0m\u001b[1mwords per row               \u001b[0m\u001b[1m \u001b[0m┃\u001b[1m \u001b[0m\u001b[1mtotal words             \u001b[0m\u001b[1m \u001b[0m┃  │\n",
       "│ ┡━━━━━━━━━━━━━━━━━━━━━━━━━━━╇━━━━━━━━━╇━━━━━━━━━━━━╇━━━━━━━━━━━━━━━━━━━━━━━━━━━━━━╇━━━━━━━━━━━━━━━━━━━━━━━━━━┩  │\n",
       "│ │ \u001b[38;5;141mTarih                    \u001b[0m │ \u001b[36m      0\u001b[0m │ \u001b[36m         0\u001b[0m │ \u001b[36m                           2\u001b[0m │ \u001b[36m                   78000\u001b[0m │  │\n",
       "│ └───────────────────────────┴─────────┴────────────┴──────────────────────────────┴──────────────────────────┘  │\n",
       "╰────────────────────────────────────────────────────── End ──────────────────────────────────────────────────────╯\n"
      ]
     },
     "metadata": {},
     "output_type": "display_data"
    }
   ],
   "source": [
    "skim(df_hum)"
   ]
  },
  {
   "cell_type": "markdown",
   "metadata": {},
   "source": [
    "### **<span style='color:turquoise'> Cloud </span>** "
   ]
  },
  {
   "cell_type": "markdown",
   "metadata": {},
   "source": [
    "unit = `[0:1]`"
   ]
  },
  {
   "cell_type": "code",
   "execution_count": 169,
   "metadata": {},
   "outputs": [],
   "source": [
    "df4 = pd.read_csv(\"Weather_Bulutluluk-Orani.csv\")\n",
    "df_cloud = df4.copy()"
   ]
  },
  {
   "cell_type": "code",
   "execution_count": 170,
   "metadata": {},
   "outputs": [
    {
     "data": {
      "text/html": [
       "<div>\n",
       "<style scoped>\n",
       "    .dataframe tbody tr th:only-of-type {\n",
       "        vertical-align: middle;\n",
       "    }\n",
       "\n",
       "    .dataframe tbody tr th {\n",
       "        vertical-align: top;\n",
       "    }\n",
       "\n",
       "    .dataframe thead th {\n",
       "        text-align: right;\n",
       "    }\n",
       "</style>\n",
       "<table border=\"1\" class=\"dataframe\">\n",
       "  <thead>\n",
       "    <tr style=\"text-align: right;\">\n",
       "      <th></th>\n",
       "      <th>Tarih</th>\n",
       "      <th>İzmir</th>\n",
       "      <th>Aliağa</th>\n",
       "      <th>Çeşme</th>\n",
       "      <th>Bergama</th>\n",
       "      <th>Manisa</th>\n",
       "      <th>Akhisar</th>\n",
       "      <th>Salihli</th>\n",
       "      <th>Çiğli</th>\n",
       "      <th>Menderes</th>\n",
       "      <th>Alaşehir</th>\n",
       "      <th>Demirci</th>\n",
       "      <th>Güzelyalı</th>\n",
       "      <th>Kula</th>\n",
       "      <th>Ödemiş</th>\n",
       "      <th>Soma</th>\n",
       "      <th>Urla</th>\n",
       "    </tr>\n",
       "  </thead>\n",
       "  <tbody>\n",
       "    <tr>\n",
       "      <th>0</th>\n",
       "      <td>2021-02-01 00:00:00</td>\n",
       "      <td>0.640</td>\n",
       "      <td>0.240</td>\n",
       "      <td>0.560</td>\n",
       "      <td>0.440</td>\n",
       "      <td>0.240</td>\n",
       "      <td>0.320</td>\n",
       "      <td>0.000</td>\n",
       "      <td>0.680</td>\n",
       "      <td>0.360</td>\n",
       "      <td>NaN</td>\n",
       "      <td>NaN</td>\n",
       "      <td>NaN</td>\n",
       "      <td>NaN</td>\n",
       "      <td>NaN</td>\n",
       "      <td>NaN</td>\n",
       "      <td>NaN</td>\n",
       "    </tr>\n",
       "    <tr>\n",
       "      <th>1</th>\n",
       "      <td>2021-02-01 01:00:00</td>\n",
       "      <td>0.680</td>\n",
       "      <td>0.320</td>\n",
       "      <td>0.533</td>\n",
       "      <td>0.320</td>\n",
       "      <td>0.307</td>\n",
       "      <td>0.360</td>\n",
       "      <td>0.160</td>\n",
       "      <td>0.707</td>\n",
       "      <td>0.427</td>\n",
       "      <td>NaN</td>\n",
       "      <td>NaN</td>\n",
       "      <td>NaN</td>\n",
       "      <td>NaN</td>\n",
       "      <td>NaN</td>\n",
       "      <td>NaN</td>\n",
       "      <td>NaN</td>\n",
       "    </tr>\n",
       "    <tr>\n",
       "      <th>2</th>\n",
       "      <td>2021-02-01 02:00:00</td>\n",
       "      <td>0.720</td>\n",
       "      <td>0.400</td>\n",
       "      <td>0.507</td>\n",
       "      <td>0.200</td>\n",
       "      <td>0.373</td>\n",
       "      <td>0.400</td>\n",
       "      <td>0.320</td>\n",
       "      <td>0.733</td>\n",
       "      <td>0.493</td>\n",
       "      <td>NaN</td>\n",
       "      <td>NaN</td>\n",
       "      <td>NaN</td>\n",
       "      <td>NaN</td>\n",
       "      <td>NaN</td>\n",
       "      <td>NaN</td>\n",
       "      <td>NaN</td>\n",
       "    </tr>\n",
       "    <tr>\n",
       "      <th>3</th>\n",
       "      <td>2021-02-01 03:00:00</td>\n",
       "      <td>0.560</td>\n",
       "      <td>0.640</td>\n",
       "      <td>0.320</td>\n",
       "      <td>0.240</td>\n",
       "      <td>0.480</td>\n",
       "      <td>0.320</td>\n",
       "      <td>0.360</td>\n",
       "      <td>0.560</td>\n",
       "      <td>0.200</td>\n",
       "      <td>NaN</td>\n",
       "      <td>NaN</td>\n",
       "      <td>NaN</td>\n",
       "      <td>NaN</td>\n",
       "      <td>NaN</td>\n",
       "      <td>NaN</td>\n",
       "      <td>NaN</td>\n",
       "    </tr>\n",
       "    <tr>\n",
       "      <th>4</th>\n",
       "      <td>2021-02-01 04:00:00</td>\n",
       "      <td>0.627</td>\n",
       "      <td>0.693</td>\n",
       "      <td>0.360</td>\n",
       "      <td>0.267</td>\n",
       "      <td>0.573</td>\n",
       "      <td>0.467</td>\n",
       "      <td>0.467</td>\n",
       "      <td>0.627</td>\n",
       "      <td>0.347</td>\n",
       "      <td>NaN</td>\n",
       "      <td>NaN</td>\n",
       "      <td>NaN</td>\n",
       "      <td>NaN</td>\n",
       "      <td>NaN</td>\n",
       "      <td>NaN</td>\n",
       "      <td>NaN</td>\n",
       "    </tr>\n",
       "  </tbody>\n",
       "</table>\n",
       "</div>"
      ],
      "text/plain": [
       "                 Tarih  İzmir  Aliağa  Çeşme  Bergama  Manisa  Akhisar  \\\n",
       "0  2021-02-01 00:00:00  0.640   0.240  0.560    0.440   0.240    0.320   \n",
       "1  2021-02-01 01:00:00  0.680   0.320  0.533    0.320   0.307    0.360   \n",
       "2  2021-02-01 02:00:00  0.720   0.400  0.507    0.200   0.373    0.400   \n",
       "3  2021-02-01 03:00:00  0.560   0.640  0.320    0.240   0.480    0.320   \n",
       "4  2021-02-01 04:00:00  0.627   0.693  0.360    0.267   0.573    0.467   \n",
       "\n",
       "   Salihli  Çiğli  Menderes  Alaşehir  Demirci  Güzelyalı  Kula  Ödemiş  Soma  \\\n",
       "0    0.000  0.680     0.360       NaN      NaN        NaN   NaN     NaN   NaN   \n",
       "1    0.160  0.707     0.427       NaN      NaN        NaN   NaN     NaN   NaN   \n",
       "2    0.320  0.733     0.493       NaN      NaN        NaN   NaN     NaN   NaN   \n",
       "3    0.360  0.560     0.200       NaN      NaN        NaN   NaN     NaN   NaN   \n",
       "4    0.467  0.627     0.347       NaN      NaN        NaN   NaN     NaN   NaN   \n",
       "\n",
       "   Urla  \n",
       "0   NaN  \n",
       "1   NaN  \n",
       "2   NaN  \n",
       "3   NaN  \n",
       "4   NaN  "
      ]
     },
     "execution_count": 170,
     "metadata": {},
     "output_type": "execute_result"
    }
   ],
   "source": [
    "df_cloud.head()"
   ]
  },
  {
   "cell_type": "code",
   "execution_count": 171,
   "metadata": {},
   "outputs": [
    {
     "data": {
      "text/plain": [
       "(38832, 17)"
      ]
     },
     "execution_count": 171,
     "metadata": {},
     "output_type": "execute_result"
    }
   ],
   "source": [
    "df_cloud.shape"
   ]
  },
  {
   "cell_type": "code",
   "execution_count": 172,
   "metadata": {},
   "outputs": [
    {
     "name": "stdout",
     "output_type": "stream",
     "text": [
      "<class 'pandas.core.frame.DataFrame'>\n",
      "RangeIndex: 38832 entries, 0 to 38831\n",
      "Data columns (total 17 columns):\n",
      " #   Column     Non-Null Count  Dtype  \n",
      "---  ------     --------------  -----  \n",
      " 0   Tarih      38832 non-null  object \n",
      " 1   İzmir      11784 non-null  float64\n",
      " 2   Aliağa     11784 non-null  float64\n",
      " 3   Çeşme      38832 non-null  float64\n",
      " 4   Bergama    11784 non-null  float64\n",
      " 5   Manisa     38832 non-null  float64\n",
      " 6   Akhisar    38832 non-null  float64\n",
      " 7   Salihli    11784 non-null  float64\n",
      " 8   Çiğli      11784 non-null  float64\n",
      " 9   Menderes   11784 non-null  float64\n",
      " 10  Alaşehir   11472 non-null  float64\n",
      " 11  Demirci    11472 non-null  float64\n",
      " 12  Güzelyalı  38520 non-null  float64\n",
      " 13  Kula       11472 non-null  float64\n",
      " 14  Ödemiş     11472 non-null  float64\n",
      " 15  Soma       11472 non-null  float64\n",
      " 16  Urla       11472 non-null  float64\n",
      "dtypes: float64(16), object(1)\n",
      "memory usage: 5.0+ MB\n"
     ]
    }
   ],
   "source": [
    "df_cloud.info()"
   ]
  },
  {
   "cell_type": "code",
   "execution_count": 173,
   "metadata": {},
   "outputs": [
    {
     "data": {
      "text/html": [
       "<pre style=\"white-space:pre;overflow-x:auto;line-height:normal;font-family:Menlo,'DejaVu Sans Mono',consolas,'Courier New',monospace\">╭──────────────────────────────────────────────── skimpy summary ─────────────────────────────────────────────────╮\n",
       "│ <span style=\"font-style: italic\">         Data Summary         </span> <span style=\"font-style: italic\">      Data Types       </span>                                                          │\n",
       "│ ┏━━━━━━━━━━━━━━━━━━━┳━━━━━━━━┓ ┏━━━━━━━━━━━━━┳━━━━━━━┓                                                          │\n",
       "│ ┃<span style=\"color: #008080; text-decoration-color: #008080; font-weight: bold\"> dataframe         </span>┃<span style=\"color: #008080; text-decoration-color: #008080; font-weight: bold\"> Values </span>┃ ┃<span style=\"color: #008080; text-decoration-color: #008080; font-weight: bold\"> Column Type </span>┃<span style=\"color: #008080; text-decoration-color: #008080; font-weight: bold\"> Count </span>┃                                                          │\n",
       "│ ┡━━━━━━━━━━━━━━━━━━━╇━━━━━━━━┩ ┡━━━━━━━━━━━━━╇━━━━━━━┩                                                          │\n",
       "│ │ Number of rows    │ 38832  │ │ float64     │ 16    │                                                          │\n",
       "│ │ Number of columns │ 17     │ │ string      │ 1     │                                                          │\n",
       "│ └───────────────────┴────────┘ └─────────────┴───────┘                                                          │\n",
       "│ <span style=\"font-style: italic\">                                                    number                                                    </span>  │\n",
       "│ ┏━━━━━━━━━━━━━━━━━━━━┳━━━━━━━━━━━┳━━━━━━━━━┳━━━━━━━━━┳━━━━━━━━━┳━━━━━━┳━━━━━━━┳━━━━━━━━━┳━━━━━━━━━┳━━━━━━━━━━┓  │\n",
       "│ ┃<span style=\"font-weight: bold\"> column_name        </span>┃<span style=\"font-weight: bold\"> NA        </span>┃<span style=\"font-weight: bold\"> NA %    </span>┃<span style=\"font-weight: bold\"> mean    </span>┃<span style=\"font-weight: bold\"> sd      </span>┃<span style=\"font-weight: bold\"> p0   </span>┃<span style=\"font-weight: bold\"> p25   </span>┃<span style=\"font-weight: bold\"> p75     </span>┃<span style=\"font-weight: bold\"> p100    </span>┃<span style=\"font-weight: bold\"> hist     </span>┃  │\n",
       "│ ┡━━━━━━━━━━━━━━━━━━━━╇━━━━━━━━━━━╇━━━━━━━━━╇━━━━━━━━━╇━━━━━━━━━╇━━━━━━╇━━━━━━━╇━━━━━━━━━╇━━━━━━━━━╇━━━━━━━━━━┩  │\n",
       "│ │ <span style=\"color: #af87ff; text-decoration-color: #af87ff\">İzmir             </span> │ <span style=\"color: #008080; text-decoration-color: #008080\">    27000</span> │ <span style=\"color: #008080; text-decoration-color: #008080\">     70</span> │ <span style=\"color: #008080; text-decoration-color: #008080\">   0.22</span> │ <span style=\"color: #008080; text-decoration-color: #008080\">   0.31</span> │ <span style=\"color: #008080; text-decoration-color: #008080\">   0</span> │ <span style=\"color: #008080; text-decoration-color: #008080\">    0</span> │ <span style=\"color: #008080; text-decoration-color: #008080\">   0.43</span> │ <span style=\"color: #008080; text-decoration-color: #008080\">   0.92</span> │ <span style=\"color: #008000; text-decoration-color: #008000\"> █▁▁▁▁▁ </span> │  │\n",
       "│ │ <span style=\"color: #af87ff; text-decoration-color: #af87ff\">Aliağa            </span> │ <span style=\"color: #008080; text-decoration-color: #008080\">    27000</span> │ <span style=\"color: #008080; text-decoration-color: #008080\">     70</span> │ <span style=\"color: #008080; text-decoration-color: #008080\">   0.18</span> │ <span style=\"color: #008080; text-decoration-color: #008080\">   0.29</span> │ <span style=\"color: #008080; text-decoration-color: #008080\">   0</span> │ <span style=\"color: #008080; text-decoration-color: #008080\">    0</span> │ <span style=\"color: #008080; text-decoration-color: #008080\">   0.28</span> │ <span style=\"color: #008080; text-decoration-color: #008080\">   0.92</span> │ <span style=\"color: #008000; text-decoration-color: #008000\"> █▁▁▁▁▁ </span> │  │\n",
       "│ │ <span style=\"color: #af87ff; text-decoration-color: #af87ff\">Çeşme             </span> │ <span style=\"color: #008080; text-decoration-color: #008080\">        0</span> │ <span style=\"color: #008080; text-decoration-color: #008080\">      0</span> │ <span style=\"color: #008080; text-decoration-color: #008080\">   0.25</span> │ <span style=\"color: #008080; text-decoration-color: #008080\">    0.3</span> │ <span style=\"color: #008080; text-decoration-color: #008080\">   0</span> │ <span style=\"color: #008080; text-decoration-color: #008080\">    0</span> │ <span style=\"color: #008080; text-decoration-color: #008080\">    0.4</span> │ <span style=\"color: #008080; text-decoration-color: #008080\">      1</span> │ <span style=\"color: #008000; text-decoration-color: #008000\"> █▂▁▁▁▁ </span> │  │\n",
       "│ │ <span style=\"color: #af87ff; text-decoration-color: #af87ff\">Bergama           </span> │ <span style=\"color: #008080; text-decoration-color: #008080\">    27000</span> │ <span style=\"color: #008080; text-decoration-color: #008080\">     70</span> │ <span style=\"color: #008080; text-decoration-color: #008080\">    0.2</span> │ <span style=\"color: #008080; text-decoration-color: #008080\">    0.3</span> │ <span style=\"color: #008080; text-decoration-color: #008080\">   0</span> │ <span style=\"color: #008080; text-decoration-color: #008080\">    0</span> │ <span style=\"color: #008080; text-decoration-color: #008080\">   0.36</span> │ <span style=\"color: #008080; text-decoration-color: #008080\">   0.92</span> │ <span style=\"color: #008000; text-decoration-color: #008000\"> █▁▁▁▁▁ </span> │  │\n",
       "│ │ <span style=\"color: #af87ff; text-decoration-color: #af87ff\">Manisa            </span> │ <span style=\"color: #008080; text-decoration-color: #008080\">        0</span> │ <span style=\"color: #008080; text-decoration-color: #008080\">      0</span> │ <span style=\"color: #008080; text-decoration-color: #008080\">    0.3</span> │ <span style=\"color: #008080; text-decoration-color: #008080\">   0.32</span> │ <span style=\"color: #008080; text-decoration-color: #008080\">   0</span> │ <span style=\"color: #008080; text-decoration-color: #008080\">    0</span> │ <span style=\"color: #008080; text-decoration-color: #008080\">   0.53</span> │ <span style=\"color: #008080; text-decoration-color: #008080\">      1</span> │ <span style=\"color: #008000; text-decoration-color: #008000\"> █▂▁▂▁▂ </span> │  │\n",
       "│ │ <span style=\"color: #af87ff; text-decoration-color: #af87ff\">Akhisar           </span> │ <span style=\"color: #008080; text-decoration-color: #008080\">        0</span> │ <span style=\"color: #008080; text-decoration-color: #008080\">      0</span> │ <span style=\"color: #008080; text-decoration-color: #008080\">   0.28</span> │ <span style=\"color: #008080; text-decoration-color: #008080\">   0.32</span> │ <span style=\"color: #008080; text-decoration-color: #008080\">   0</span> │ <span style=\"color: #008080; text-decoration-color: #008080\">    0</span> │ <span style=\"color: #008080; text-decoration-color: #008080\">    0.5</span> │ <span style=\"color: #008080; text-decoration-color: #008080\">      1</span> │ <span style=\"color: #008000; text-decoration-color: #008000\"> █▂▁▁▁▁ </span> │  │\n",
       "│ │ <span style=\"color: #af87ff; text-decoration-color: #af87ff\">Salihli           </span> │ <span style=\"color: #008080; text-decoration-color: #008080\">    27000</span> │ <span style=\"color: #008080; text-decoration-color: #008080\">     70</span> │ <span style=\"color: #008080; text-decoration-color: #008080\">   0.19</span> │ <span style=\"color: #008080; text-decoration-color: #008080\">   0.29</span> │ <span style=\"color: #008080; text-decoration-color: #008080\">   0</span> │ <span style=\"color: #008080; text-decoration-color: #008080\">    0</span> │ <span style=\"color: #008080; text-decoration-color: #008080\">   0.31</span> │ <span style=\"color: #008080; text-decoration-color: #008080\">   0.96</span> │ <span style=\"color: #008000; text-decoration-color: #008000\"> █▁▁▁▁▁ </span> │  │\n",
       "│ │ <span style=\"color: #af87ff; text-decoration-color: #af87ff\">Çiğli             </span> │ <span style=\"color: #008080; text-decoration-color: #008080\">    27000</span> │ <span style=\"color: #008080; text-decoration-color: #008080\">     70</span> │ <span style=\"color: #008080; text-decoration-color: #008080\">   0.19</span> │ <span style=\"color: #008080; text-decoration-color: #008080\">   0.31</span> │ <span style=\"color: #008080; text-decoration-color: #008080\">   0</span> │ <span style=\"color: #008080; text-decoration-color: #008080\">    0</span> │ <span style=\"color: #008080; text-decoration-color: #008080\">   0.32</span> │ <span style=\"color: #008080; text-decoration-color: #008080\">   0.92</span> │ <span style=\"color: #008000; text-decoration-color: #008000\"> █▁▁▁▁▁ </span> │  │\n",
       "│ │ <span style=\"color: #af87ff; text-decoration-color: #af87ff\">Menderes          </span> │ <span style=\"color: #008080; text-decoration-color: #008080\">    27000</span> │ <span style=\"color: #008080; text-decoration-color: #008080\">     70</span> │ <span style=\"color: #008080; text-decoration-color: #008080\">    0.2</span> │ <span style=\"color: #008080; text-decoration-color: #008080\">    0.3</span> │ <span style=\"color: #008080; text-decoration-color: #008080\">   0</span> │ <span style=\"color: #008080; text-decoration-color: #008080\">    0</span> │ <span style=\"color: #008080; text-decoration-color: #008080\">   0.32</span> │ <span style=\"color: #008080; text-decoration-color: #008080\">      1</span> │ <span style=\"color: #008000; text-decoration-color: #008000\"> █▁▁▁▁▁ </span> │  │\n",
       "│ │ <span style=\"color: #af87ff; text-decoration-color: #af87ff\">Alaşehir          </span> │ <span style=\"color: #008080; text-decoration-color: #008080\">    27000</span> │ <span style=\"color: #008080; text-decoration-color: #008080\">     70</span> │ <span style=\"color: #008080; text-decoration-color: #008080\">   0.16</span> │ <span style=\"color: #008080; text-decoration-color: #008080\">   0.27</span> │ <span style=\"color: #008080; text-decoration-color: #008080\">   0</span> │ <span style=\"color: #008080; text-decoration-color: #008080\">    0</span> │ <span style=\"color: #008080; text-decoration-color: #008080\">   0.24</span> │ <span style=\"color: #008080; text-decoration-color: #008080\">   0.92</span> │ <span style=\"color: #008000; text-decoration-color: #008000\"> █▁▁▁▁▁ </span> │  │\n",
       "│ │ <span style=\"color: #af87ff; text-decoration-color: #af87ff\">Demirci           </span> │ <span style=\"color: #008080; text-decoration-color: #008080\">    27000</span> │ <span style=\"color: #008080; text-decoration-color: #008080\">     70</span> │ <span style=\"color: #008080; text-decoration-color: #008080\">   0.23</span> │ <span style=\"color: #008080; text-decoration-color: #008080\">   0.32</span> │ <span style=\"color: #008080; text-decoration-color: #008080\">   0</span> │ <span style=\"color: #008080; text-decoration-color: #008080\">    0</span> │ <span style=\"color: #008080; text-decoration-color: #008080\">   0.44</span> │ <span style=\"color: #008080; text-decoration-color: #008080\">   0.96</span> │ <span style=\"color: #008000; text-decoration-color: #008000\"> █▁▁▁▁▂ </span> │  │\n",
       "│ │ <span style=\"color: #af87ff; text-decoration-color: #af87ff\">Güzelyalı         </span> │ <span style=\"color: #008080; text-decoration-color: #008080\">      310</span> │ <span style=\"color: #008080; text-decoration-color: #008080\">    0.8</span> │ <span style=\"color: #008080; text-decoration-color: #008080\">   0.26</span> │ <span style=\"color: #008080; text-decoration-color: #008080\">   0.32</span> │ <span style=\"color: #008080; text-decoration-color: #008080\">   0</span> │ <span style=\"color: #008080; text-decoration-color: #008080\">    0</span> │ <span style=\"color: #008080; text-decoration-color: #008080\">   0.48</span> │ <span style=\"color: #008080; text-decoration-color: #008080\">      1</span> │ <span style=\"color: #008000; text-decoration-color: #008000\"> █▂▁▁▁▁ </span> │  │\n",
       "│ │ <span style=\"color: #af87ff; text-decoration-color: #af87ff\">Kula              </span> │ <span style=\"color: #008080; text-decoration-color: #008080\">    27000</span> │ <span style=\"color: #008080; text-decoration-color: #008080\">     70</span> │ <span style=\"color: #008080; text-decoration-color: #008080\">   0.22</span> │ <span style=\"color: #008080; text-decoration-color: #008080\">   0.31</span> │ <span style=\"color: #008080; text-decoration-color: #008080\">   0</span> │ <span style=\"color: #008080; text-decoration-color: #008080\">    0</span> │ <span style=\"color: #008080; text-decoration-color: #008080\">   0.43</span> │ <span style=\"color: #008080; text-decoration-color: #008080\">   0.96</span> │ <span style=\"color: #008000; text-decoration-color: #008000\"> █▁▁▁▁▁ </span> │  │\n",
       "│ │ <span style=\"color: #af87ff; text-decoration-color: #af87ff\">Ödemiş            </span> │ <span style=\"color: #008080; text-decoration-color: #008080\">    27000</span> │ <span style=\"color: #008080; text-decoration-color: #008080\">     70</span> │ <span style=\"color: #008080; text-decoration-color: #008080\">    0.2</span> │ <span style=\"color: #008080; text-decoration-color: #008080\">    0.3</span> │ <span style=\"color: #008080; text-decoration-color: #008080\">   0</span> │ <span style=\"color: #008080; text-decoration-color: #008080\">    0</span> │ <span style=\"color: #008080; text-decoration-color: #008080\">   0.36</span> │ <span style=\"color: #008080; text-decoration-color: #008080\">   0.96</span> │ <span style=\"color: #008000; text-decoration-color: #008000\"> █▁▁▁▁▁ </span> │  │\n",
       "│ │ <span style=\"color: #af87ff; text-decoration-color: #af87ff\">Soma              </span> │ <span style=\"color: #008080; text-decoration-color: #008080\">    27000</span> │ <span style=\"color: #008080; text-decoration-color: #008080\">     70</span> │ <span style=\"color: #008080; text-decoration-color: #008080\">   0.24</span> │ <span style=\"color: #008080; text-decoration-color: #008080\">   0.33</span> │ <span style=\"color: #008080; text-decoration-color: #008080\">   0</span> │ <span style=\"color: #008080; text-decoration-color: #008080\">    0</span> │ <span style=\"color: #008080; text-decoration-color: #008080\">   0.48</span> │ <span style=\"color: #008080; text-decoration-color: #008080\">   0.96</span> │ <span style=\"color: #008000; text-decoration-color: #008000\"> █▁▁▁▁▂ </span> │  │\n",
       "│ │ <span style=\"color: #af87ff; text-decoration-color: #af87ff\">Urla              </span> │ <span style=\"color: #008080; text-decoration-color: #008080\">    27000</span> │ <span style=\"color: #008080; text-decoration-color: #008080\">     70</span> │ <span style=\"color: #008080; text-decoration-color: #008080\">   0.18</span> │ <span style=\"color: #008080; text-decoration-color: #008080\">   0.29</span> │ <span style=\"color: #008080; text-decoration-color: #008080\">   0</span> │ <span style=\"color: #008080; text-decoration-color: #008080\">    0</span> │ <span style=\"color: #008080; text-decoration-color: #008080\">   0.29</span> │ <span style=\"color: #008080; text-decoration-color: #008080\">   0.92</span> │ <span style=\"color: #008000; text-decoration-color: #008000\"> █▁▁▁▁▁ </span> │  │\n",
       "│ └────────────────────┴───────────┴─────────┴─────────┴─────────┴──────┴───────┴─────────┴─────────┴──────────┘  │\n",
       "│ <span style=\"font-style: italic\">                                                    string                                                    </span>  │\n",
       "│ ┏━━━━━━━━━━━━━━━━━━━━━━━━━━━┳━━━━━━━━━┳━━━━━━━━━━━━┳━━━━━━━━━━━━━━━━━━━━━━━━━━━━━━┳━━━━━━━━━━━━━━━━━━━━━━━━━━┓  │\n",
       "│ ┃<span style=\"font-weight: bold\"> column_name               </span>┃<span style=\"font-weight: bold\"> NA      </span>┃<span style=\"font-weight: bold\"> NA %       </span>┃<span style=\"font-weight: bold\"> words per row                </span>┃<span style=\"font-weight: bold\"> total words              </span>┃  │\n",
       "│ ┡━━━━━━━━━━━━━━━━━━━━━━━━━━━╇━━━━━━━━━╇━━━━━━━━━━━━╇━━━━━━━━━━━━━━━━━━━━━━━━━━━━━━╇━━━━━━━━━━━━━━━━━━━━━━━━━━┩  │\n",
       "│ │ <span style=\"color: #af87ff; text-decoration-color: #af87ff\">Tarih                    </span> │ <span style=\"color: #008080; text-decoration-color: #008080\">      0</span> │ <span style=\"color: #008080; text-decoration-color: #008080\">         0</span> │ <span style=\"color: #008080; text-decoration-color: #008080\">                           2</span> │ <span style=\"color: #008080; text-decoration-color: #008080\">                   78000</span> │  │\n",
       "│ └───────────────────────────┴─────────┴────────────┴──────────────────────────────┴──────────────────────────┘  │\n",
       "╰────────────────────────────────────────────────────── End ──────────────────────────────────────────────────────╯\n",
       "</pre>\n"
      ],
      "text/plain": [
       "╭──────────────────────────────────────────────── skimpy summary ─────────────────────────────────────────────────╮\n",
       "│ \u001b[3m         Data Summary         \u001b[0m \u001b[3m      Data Types       \u001b[0m                                                          │\n",
       "│ ┏━━━━━━━━━━━━━━━━━━━┳━━━━━━━━┓ ┏━━━━━━━━━━━━━┳━━━━━━━┓                                                          │\n",
       "│ ┃\u001b[1;36m \u001b[0m\u001b[1;36mdataframe        \u001b[0m\u001b[1;36m \u001b[0m┃\u001b[1;36m \u001b[0m\u001b[1;36mValues\u001b[0m\u001b[1;36m \u001b[0m┃ ┃\u001b[1;36m \u001b[0m\u001b[1;36mColumn Type\u001b[0m\u001b[1;36m \u001b[0m┃\u001b[1;36m \u001b[0m\u001b[1;36mCount\u001b[0m\u001b[1;36m \u001b[0m┃                                                          │\n",
       "│ ┡━━━━━━━━━━━━━━━━━━━╇━━━━━━━━┩ ┡━━━━━━━━━━━━━╇━━━━━━━┩                                                          │\n",
       "│ │ Number of rows    │ 38832  │ │ float64     │ 16    │                                                          │\n",
       "│ │ Number of columns │ 17     │ │ string      │ 1     │                                                          │\n",
       "│ └───────────────────┴────────┘ └─────────────┴───────┘                                                          │\n",
       "│ \u001b[3m                                                    number                                                    \u001b[0m  │\n",
       "│ ┏━━━━━━━━━━━━━━━━━━━━┳━━━━━━━━━━━┳━━━━━━━━━┳━━━━━━━━━┳━━━━━━━━━┳━━━━━━┳━━━━━━━┳━━━━━━━━━┳━━━━━━━━━┳━━━━━━━━━━┓  │\n",
       "│ ┃\u001b[1m \u001b[0m\u001b[1mcolumn_name       \u001b[0m\u001b[1m \u001b[0m┃\u001b[1m \u001b[0m\u001b[1mNA       \u001b[0m\u001b[1m \u001b[0m┃\u001b[1m \u001b[0m\u001b[1mNA %   \u001b[0m\u001b[1m \u001b[0m┃\u001b[1m \u001b[0m\u001b[1mmean   \u001b[0m\u001b[1m \u001b[0m┃\u001b[1m \u001b[0m\u001b[1msd     \u001b[0m\u001b[1m \u001b[0m┃\u001b[1m \u001b[0m\u001b[1mp0  \u001b[0m\u001b[1m \u001b[0m┃\u001b[1m \u001b[0m\u001b[1mp25  \u001b[0m\u001b[1m \u001b[0m┃\u001b[1m \u001b[0m\u001b[1mp75    \u001b[0m\u001b[1m \u001b[0m┃\u001b[1m \u001b[0m\u001b[1mp100   \u001b[0m\u001b[1m \u001b[0m┃\u001b[1m \u001b[0m\u001b[1mhist    \u001b[0m\u001b[1m \u001b[0m┃  │\n",
       "│ ┡━━━━━━━━━━━━━━━━━━━━╇━━━━━━━━━━━╇━━━━━━━━━╇━━━━━━━━━╇━━━━━━━━━╇━━━━━━╇━━━━━━━╇━━━━━━━━━╇━━━━━━━━━╇━━━━━━━━━━┩  │\n",
       "│ │ \u001b[38;5;141mİzmir             \u001b[0m │ \u001b[36m    27000\u001b[0m │ \u001b[36m     70\u001b[0m │ \u001b[36m   0.22\u001b[0m │ \u001b[36m   0.31\u001b[0m │ \u001b[36m   0\u001b[0m │ \u001b[36m    0\u001b[0m │ \u001b[36m   0.43\u001b[0m │ \u001b[36m   0.92\u001b[0m │ \u001b[32m █▁▁▁▁▁ \u001b[0m │  │\n",
       "│ │ \u001b[38;5;141mAliağa            \u001b[0m │ \u001b[36m    27000\u001b[0m │ \u001b[36m     70\u001b[0m │ \u001b[36m   0.18\u001b[0m │ \u001b[36m   0.29\u001b[0m │ \u001b[36m   0\u001b[0m │ \u001b[36m    0\u001b[0m │ \u001b[36m   0.28\u001b[0m │ \u001b[36m   0.92\u001b[0m │ \u001b[32m █▁▁▁▁▁ \u001b[0m │  │\n",
       "│ │ \u001b[38;5;141mÇeşme             \u001b[0m │ \u001b[36m        0\u001b[0m │ \u001b[36m      0\u001b[0m │ \u001b[36m   0.25\u001b[0m │ \u001b[36m    0.3\u001b[0m │ \u001b[36m   0\u001b[0m │ \u001b[36m    0\u001b[0m │ \u001b[36m    0.4\u001b[0m │ \u001b[36m      1\u001b[0m │ \u001b[32m █▂▁▁▁▁ \u001b[0m │  │\n",
       "│ │ \u001b[38;5;141mBergama           \u001b[0m │ \u001b[36m    27000\u001b[0m │ \u001b[36m     70\u001b[0m │ \u001b[36m    0.2\u001b[0m │ \u001b[36m    0.3\u001b[0m │ \u001b[36m   0\u001b[0m │ \u001b[36m    0\u001b[0m │ \u001b[36m   0.36\u001b[0m │ \u001b[36m   0.92\u001b[0m │ \u001b[32m █▁▁▁▁▁ \u001b[0m │  │\n",
       "│ │ \u001b[38;5;141mManisa            \u001b[0m │ \u001b[36m        0\u001b[0m │ \u001b[36m      0\u001b[0m │ \u001b[36m    0.3\u001b[0m │ \u001b[36m   0.32\u001b[0m │ \u001b[36m   0\u001b[0m │ \u001b[36m    0\u001b[0m │ \u001b[36m   0.53\u001b[0m │ \u001b[36m      1\u001b[0m │ \u001b[32m █▂▁▂▁▂ \u001b[0m │  │\n",
       "│ │ \u001b[38;5;141mAkhisar           \u001b[0m │ \u001b[36m        0\u001b[0m │ \u001b[36m      0\u001b[0m │ \u001b[36m   0.28\u001b[0m │ \u001b[36m   0.32\u001b[0m │ \u001b[36m   0\u001b[0m │ \u001b[36m    0\u001b[0m │ \u001b[36m    0.5\u001b[0m │ \u001b[36m      1\u001b[0m │ \u001b[32m █▂▁▁▁▁ \u001b[0m │  │\n",
       "│ │ \u001b[38;5;141mSalihli           \u001b[0m │ \u001b[36m    27000\u001b[0m │ \u001b[36m     70\u001b[0m │ \u001b[36m   0.19\u001b[0m │ \u001b[36m   0.29\u001b[0m │ \u001b[36m   0\u001b[0m │ \u001b[36m    0\u001b[0m │ \u001b[36m   0.31\u001b[0m │ \u001b[36m   0.96\u001b[0m │ \u001b[32m █▁▁▁▁▁ \u001b[0m │  │\n",
       "│ │ \u001b[38;5;141mÇiğli             \u001b[0m │ \u001b[36m    27000\u001b[0m │ \u001b[36m     70\u001b[0m │ \u001b[36m   0.19\u001b[0m │ \u001b[36m   0.31\u001b[0m │ \u001b[36m   0\u001b[0m │ \u001b[36m    0\u001b[0m │ \u001b[36m   0.32\u001b[0m │ \u001b[36m   0.92\u001b[0m │ \u001b[32m █▁▁▁▁▁ \u001b[0m │  │\n",
       "│ │ \u001b[38;5;141mMenderes          \u001b[0m │ \u001b[36m    27000\u001b[0m │ \u001b[36m     70\u001b[0m │ \u001b[36m    0.2\u001b[0m │ \u001b[36m    0.3\u001b[0m │ \u001b[36m   0\u001b[0m │ \u001b[36m    0\u001b[0m │ \u001b[36m   0.32\u001b[0m │ \u001b[36m      1\u001b[0m │ \u001b[32m █▁▁▁▁▁ \u001b[0m │  │\n",
       "│ │ \u001b[38;5;141mAlaşehir          \u001b[0m │ \u001b[36m    27000\u001b[0m │ \u001b[36m     70\u001b[0m │ \u001b[36m   0.16\u001b[0m │ \u001b[36m   0.27\u001b[0m │ \u001b[36m   0\u001b[0m │ \u001b[36m    0\u001b[0m │ \u001b[36m   0.24\u001b[0m │ \u001b[36m   0.92\u001b[0m │ \u001b[32m █▁▁▁▁▁ \u001b[0m │  │\n",
       "│ │ \u001b[38;5;141mDemirci           \u001b[0m │ \u001b[36m    27000\u001b[0m │ \u001b[36m     70\u001b[0m │ \u001b[36m   0.23\u001b[0m │ \u001b[36m   0.32\u001b[0m │ \u001b[36m   0\u001b[0m │ \u001b[36m    0\u001b[0m │ \u001b[36m   0.44\u001b[0m │ \u001b[36m   0.96\u001b[0m │ \u001b[32m █▁▁▁▁▂ \u001b[0m │  │\n",
       "│ │ \u001b[38;5;141mGüzelyalı         \u001b[0m │ \u001b[36m      310\u001b[0m │ \u001b[36m    0.8\u001b[0m │ \u001b[36m   0.26\u001b[0m │ \u001b[36m   0.32\u001b[0m │ \u001b[36m   0\u001b[0m │ \u001b[36m    0\u001b[0m │ \u001b[36m   0.48\u001b[0m │ \u001b[36m      1\u001b[0m │ \u001b[32m █▂▁▁▁▁ \u001b[0m │  │\n",
       "│ │ \u001b[38;5;141mKula              \u001b[0m │ \u001b[36m    27000\u001b[0m │ \u001b[36m     70\u001b[0m │ \u001b[36m   0.22\u001b[0m │ \u001b[36m   0.31\u001b[0m │ \u001b[36m   0\u001b[0m │ \u001b[36m    0\u001b[0m │ \u001b[36m   0.43\u001b[0m │ \u001b[36m   0.96\u001b[0m │ \u001b[32m █▁▁▁▁▁ \u001b[0m │  │\n",
       "│ │ \u001b[38;5;141mÖdemiş            \u001b[0m │ \u001b[36m    27000\u001b[0m │ \u001b[36m     70\u001b[0m │ \u001b[36m    0.2\u001b[0m │ \u001b[36m    0.3\u001b[0m │ \u001b[36m   0\u001b[0m │ \u001b[36m    0\u001b[0m │ \u001b[36m   0.36\u001b[0m │ \u001b[36m   0.96\u001b[0m │ \u001b[32m █▁▁▁▁▁ \u001b[0m │  │\n",
       "│ │ \u001b[38;5;141mSoma              \u001b[0m │ \u001b[36m    27000\u001b[0m │ \u001b[36m     70\u001b[0m │ \u001b[36m   0.24\u001b[0m │ \u001b[36m   0.33\u001b[0m │ \u001b[36m   0\u001b[0m │ \u001b[36m    0\u001b[0m │ \u001b[36m   0.48\u001b[0m │ \u001b[36m   0.96\u001b[0m │ \u001b[32m █▁▁▁▁▂ \u001b[0m │  │\n",
       "│ │ \u001b[38;5;141mUrla              \u001b[0m │ \u001b[36m    27000\u001b[0m │ \u001b[36m     70\u001b[0m │ \u001b[36m   0.18\u001b[0m │ \u001b[36m   0.29\u001b[0m │ \u001b[36m   0\u001b[0m │ \u001b[36m    0\u001b[0m │ \u001b[36m   0.29\u001b[0m │ \u001b[36m   0.92\u001b[0m │ \u001b[32m █▁▁▁▁▁ \u001b[0m │  │\n",
       "│ └────────────────────┴───────────┴─────────┴─────────┴─────────┴──────┴───────┴─────────┴─────────┴──────────┘  │\n",
       "│ \u001b[3m                                                    string                                                    \u001b[0m  │\n",
       "│ ┏━━━━━━━━━━━━━━━━━━━━━━━━━━━┳━━━━━━━━━┳━━━━━━━━━━━━┳━━━━━━━━━━━━━━━━━━━━━━━━━━━━━━┳━━━━━━━━━━━━━━━━━━━━━━━━━━┓  │\n",
       "│ ┃\u001b[1m \u001b[0m\u001b[1mcolumn_name              \u001b[0m\u001b[1m \u001b[0m┃\u001b[1m \u001b[0m\u001b[1mNA     \u001b[0m\u001b[1m \u001b[0m┃\u001b[1m \u001b[0m\u001b[1mNA %      \u001b[0m\u001b[1m \u001b[0m┃\u001b[1m \u001b[0m\u001b[1mwords per row               \u001b[0m\u001b[1m \u001b[0m┃\u001b[1m \u001b[0m\u001b[1mtotal words             \u001b[0m\u001b[1m \u001b[0m┃  │\n",
       "│ ┡━━━━━━━━━━━━━━━━━━━━━━━━━━━╇━━━━━━━━━╇━━━━━━━━━━━━╇━━━━━━━━━━━━━━━━━━━━━━━━━━━━━━╇━━━━━━━━━━━━━━━━━━━━━━━━━━┩  │\n",
       "│ │ \u001b[38;5;141mTarih                    \u001b[0m │ \u001b[36m      0\u001b[0m │ \u001b[36m         0\u001b[0m │ \u001b[36m                           2\u001b[0m │ \u001b[36m                   78000\u001b[0m │  │\n",
       "│ └───────────────────────────┴─────────┴────────────┴──────────────────────────────┴──────────────────────────┘  │\n",
       "╰────────────────────────────────────────────────────── End ──────────────────────────────────────────────────────╯\n"
      ]
     },
     "metadata": {},
     "output_type": "display_data"
    }
   ],
   "source": [
    "skim(df_cloud)"
   ]
  },
  {
   "cell_type": "code",
   "execution_count": 175,
   "metadata": {},
   "outputs": [
    {
     "data": {
      "text/html": [
       "<div>\n",
       "<style scoped>\n",
       "    .dataframe tbody tr th:only-of-type {\n",
       "        vertical-align: middle;\n",
       "    }\n",
       "\n",
       "    .dataframe tbody tr th {\n",
       "        vertical-align: top;\n",
       "    }\n",
       "\n",
       "    .dataframe thead th {\n",
       "        text-align: right;\n",
       "    }\n",
       "</style>\n",
       "<table border=\"1\" class=\"dataframe\">\n",
       "  <thead>\n",
       "    <tr style=\"text-align: right;\">\n",
       "      <th></th>\n",
       "      <th>Tarih</th>\n",
       "      <th>İzmir</th>\n",
       "      <th>Aliağa</th>\n",
       "      <th>Çeşme</th>\n",
       "      <th>Bergama</th>\n",
       "      <th>Manisa</th>\n",
       "      <th>Akhisar</th>\n",
       "      <th>Salihli</th>\n",
       "      <th>Çiğli</th>\n",
       "      <th>Menderes</th>\n",
       "      <th>Alaşehir</th>\n",
       "      <th>Demirci</th>\n",
       "      <th>Güzelyalı</th>\n",
       "      <th>Kula</th>\n",
       "      <th>Ödemiş</th>\n",
       "      <th>Soma</th>\n",
       "      <th>Urla</th>\n",
       "      <th>Tarih</th>\n",
       "      <th>İzmir</th>\n",
       "      <th>Aliağa</th>\n",
       "      <th>Çeşme</th>\n",
       "      <th>Bergama</th>\n",
       "      <th>Manisa</th>\n",
       "      <th>Akhisar</th>\n",
       "      <th>Salihli</th>\n",
       "      <th>Çiğli</th>\n",
       "      <th>Menderes</th>\n",
       "      <th>Alaşehir</th>\n",
       "      <th>Demirci</th>\n",
       "      <th>Güzelyalı</th>\n",
       "      <th>Kula</th>\n",
       "      <th>Ödemiş</th>\n",
       "      <th>Soma</th>\n",
       "      <th>Urla</th>\n",
       "    </tr>\n",
       "  </thead>\n",
       "  <tbody>\n",
       "    <tr>\n",
       "      <th>0</th>\n",
       "      <td>2021-02-01 00:00:00</td>\n",
       "      <td>0.000</td>\n",
       "      <td>0.000</td>\n",
       "      <td>0.000</td>\n",
       "      <td>0.000</td>\n",
       "      <td>0.000</td>\n",
       "      <td>0.000</td>\n",
       "      <td>0.000</td>\n",
       "      <td>0.000</td>\n",
       "      <td>0.000</td>\n",
       "      <td>NaN</td>\n",
       "      <td>NaN</td>\n",
       "      <td>NaN</td>\n",
       "      <td>NaN</td>\n",
       "      <td>NaN</td>\n",
       "      <td>NaN</td>\n",
       "      <td>NaN</td>\n",
       "      <td>2021-02-01 00:00:00</td>\n",
       "      <td>0.640</td>\n",
       "      <td>0.240</td>\n",
       "      <td>0.560</td>\n",
       "      <td>0.440</td>\n",
       "      <td>0.240</td>\n",
       "      <td>0.320</td>\n",
       "      <td>0.000</td>\n",
       "      <td>0.680</td>\n",
       "      <td>0.360</td>\n",
       "      <td>NaN</td>\n",
       "      <td>NaN</td>\n",
       "      <td>NaN</td>\n",
       "      <td>NaN</td>\n",
       "      <td>NaN</td>\n",
       "      <td>NaN</td>\n",
       "      <td>NaN</td>\n",
       "    </tr>\n",
       "    <tr>\n",
       "      <th>1</th>\n",
       "      <td>2021-02-01 01:00:00</td>\n",
       "      <td>0.000</td>\n",
       "      <td>0.000</td>\n",
       "      <td>0.000</td>\n",
       "      <td>0.000</td>\n",
       "      <td>0.000</td>\n",
       "      <td>0.000</td>\n",
       "      <td>0.000</td>\n",
       "      <td>0.000</td>\n",
       "      <td>0.000</td>\n",
       "      <td>NaN</td>\n",
       "      <td>NaN</td>\n",
       "      <td>NaN</td>\n",
       "      <td>NaN</td>\n",
       "      <td>NaN</td>\n",
       "      <td>NaN</td>\n",
       "      <td>NaN</td>\n",
       "      <td>2021-02-01 01:00:00</td>\n",
       "      <td>0.680</td>\n",
       "      <td>0.320</td>\n",
       "      <td>0.533</td>\n",
       "      <td>0.320</td>\n",
       "      <td>0.307</td>\n",
       "      <td>0.360</td>\n",
       "      <td>0.160</td>\n",
       "      <td>0.707</td>\n",
       "      <td>0.427</td>\n",
       "      <td>NaN</td>\n",
       "      <td>NaN</td>\n",
       "      <td>NaN</td>\n",
       "      <td>NaN</td>\n",
       "      <td>NaN</td>\n",
       "      <td>NaN</td>\n",
       "      <td>NaN</td>\n",
       "    </tr>\n",
       "    <tr>\n",
       "      <th>2</th>\n",
       "      <td>2021-02-01 02:00:00</td>\n",
       "      <td>0.000</td>\n",
       "      <td>0.000</td>\n",
       "      <td>0.000</td>\n",
       "      <td>0.000</td>\n",
       "      <td>0.000</td>\n",
       "      <td>0.000</td>\n",
       "      <td>0.000</td>\n",
       "      <td>0.000</td>\n",
       "      <td>0.000</td>\n",
       "      <td>NaN</td>\n",
       "      <td>NaN</td>\n",
       "      <td>NaN</td>\n",
       "      <td>NaN</td>\n",
       "      <td>NaN</td>\n",
       "      <td>NaN</td>\n",
       "      <td>NaN</td>\n",
       "      <td>2021-02-01 02:00:00</td>\n",
       "      <td>0.720</td>\n",
       "      <td>0.400</td>\n",
       "      <td>0.507</td>\n",
       "      <td>0.200</td>\n",
       "      <td>0.373</td>\n",
       "      <td>0.400</td>\n",
       "      <td>0.320</td>\n",
       "      <td>0.733</td>\n",
       "      <td>0.493</td>\n",
       "      <td>NaN</td>\n",
       "      <td>NaN</td>\n",
       "      <td>NaN</td>\n",
       "      <td>NaN</td>\n",
       "      <td>NaN</td>\n",
       "      <td>NaN</td>\n",
       "      <td>NaN</td>\n",
       "    </tr>\n",
       "    <tr>\n",
       "      <th>3</th>\n",
       "      <td>2021-02-01 03:00:00</td>\n",
       "      <td>0.000</td>\n",
       "      <td>0.000</td>\n",
       "      <td>0.000</td>\n",
       "      <td>0.000</td>\n",
       "      <td>0.000</td>\n",
       "      <td>0.000</td>\n",
       "      <td>0.000</td>\n",
       "      <td>0.000</td>\n",
       "      <td>0.000</td>\n",
       "      <td>NaN</td>\n",
       "      <td>NaN</td>\n",
       "      <td>NaN</td>\n",
       "      <td>NaN</td>\n",
       "      <td>NaN</td>\n",
       "      <td>NaN</td>\n",
       "      <td>NaN</td>\n",
       "      <td>2021-02-01 03:00:00</td>\n",
       "      <td>0.560</td>\n",
       "      <td>0.640</td>\n",
       "      <td>0.320</td>\n",
       "      <td>0.240</td>\n",
       "      <td>0.480</td>\n",
       "      <td>0.320</td>\n",
       "      <td>0.360</td>\n",
       "      <td>0.560</td>\n",
       "      <td>0.200</td>\n",
       "      <td>NaN</td>\n",
       "      <td>NaN</td>\n",
       "      <td>NaN</td>\n",
       "      <td>NaN</td>\n",
       "      <td>NaN</td>\n",
       "      <td>NaN</td>\n",
       "      <td>NaN</td>\n",
       "    </tr>\n",
       "    <tr>\n",
       "      <th>4</th>\n",
       "      <td>2021-02-01 04:00:00</td>\n",
       "      <td>0.000</td>\n",
       "      <td>0.000</td>\n",
       "      <td>0.000</td>\n",
       "      <td>0.000</td>\n",
       "      <td>0.000</td>\n",
       "      <td>0.000</td>\n",
       "      <td>0.000</td>\n",
       "      <td>0.000</td>\n",
       "      <td>0.000</td>\n",
       "      <td>NaN</td>\n",
       "      <td>NaN</td>\n",
       "      <td>NaN</td>\n",
       "      <td>NaN</td>\n",
       "      <td>NaN</td>\n",
       "      <td>NaN</td>\n",
       "      <td>NaN</td>\n",
       "      <td>2021-02-01 04:00:00</td>\n",
       "      <td>0.627</td>\n",
       "      <td>0.693</td>\n",
       "      <td>0.360</td>\n",
       "      <td>0.267</td>\n",
       "      <td>0.573</td>\n",
       "      <td>0.467</td>\n",
       "      <td>0.467</td>\n",
       "      <td>0.627</td>\n",
       "      <td>0.347</td>\n",
       "      <td>NaN</td>\n",
       "      <td>NaN</td>\n",
       "      <td>NaN</td>\n",
       "      <td>NaN</td>\n",
       "      <td>NaN</td>\n",
       "      <td>NaN</td>\n",
       "      <td>NaN</td>\n",
       "    </tr>\n",
       "    <tr>\n",
       "      <th>...</th>\n",
       "      <td>...</td>\n",
       "      <td>...</td>\n",
       "      <td>...</td>\n",
       "      <td>...</td>\n",
       "      <td>...</td>\n",
       "      <td>...</td>\n",
       "      <td>...</td>\n",
       "      <td>...</td>\n",
       "      <td>...</td>\n",
       "      <td>...</td>\n",
       "      <td>...</td>\n",
       "      <td>...</td>\n",
       "      <td>...</td>\n",
       "      <td>...</td>\n",
       "      <td>...</td>\n",
       "      <td>...</td>\n",
       "      <td>...</td>\n",
       "      <td>...</td>\n",
       "      <td>...</td>\n",
       "      <td>...</td>\n",
       "      <td>...</td>\n",
       "      <td>...</td>\n",
       "      <td>...</td>\n",
       "      <td>...</td>\n",
       "      <td>...</td>\n",
       "      <td>...</td>\n",
       "      <td>...</td>\n",
       "      <td>...</td>\n",
       "      <td>...</td>\n",
       "      <td>...</td>\n",
       "      <td>...</td>\n",
       "      <td>...</td>\n",
       "      <td>...</td>\n",
       "      <td>...</td>\n",
       "    </tr>\n",
       "    <tr>\n",
       "      <th>38827</th>\n",
       "      <td>2021-01-31 19:00:00</td>\n",
       "      <td>NaN</td>\n",
       "      <td>NaN</td>\n",
       "      <td>0.000</td>\n",
       "      <td>NaN</td>\n",
       "      <td>0.000</td>\n",
       "      <td>0.000</td>\n",
       "      <td>NaN</td>\n",
       "      <td>NaN</td>\n",
       "      <td>NaN</td>\n",
       "      <td>NaN</td>\n",
       "      <td>NaN</td>\n",
       "      <td>0.000</td>\n",
       "      <td>NaN</td>\n",
       "      <td>NaN</td>\n",
       "      <td>NaN</td>\n",
       "      <td>NaN</td>\n",
       "      <td>2021-01-31 19:00:00</td>\n",
       "      <td>NaN</td>\n",
       "      <td>NaN</td>\n",
       "      <td>0.000</td>\n",
       "      <td>NaN</td>\n",
       "      <td>0.053</td>\n",
       "      <td>0.000</td>\n",
       "      <td>NaN</td>\n",
       "      <td>NaN</td>\n",
       "      <td>NaN</td>\n",
       "      <td>NaN</td>\n",
       "      <td>NaN</td>\n",
       "      <td>0.000</td>\n",
       "      <td>NaN</td>\n",
       "      <td>NaN</td>\n",
       "      <td>NaN</td>\n",
       "      <td>NaN</td>\n",
       "    </tr>\n",
       "    <tr>\n",
       "      <th>38828</th>\n",
       "      <td>2021-01-31 20:00:00</td>\n",
       "      <td>NaN</td>\n",
       "      <td>NaN</td>\n",
       "      <td>0.000</td>\n",
       "      <td>NaN</td>\n",
       "      <td>0.000</td>\n",
       "      <td>0.000</td>\n",
       "      <td>NaN</td>\n",
       "      <td>NaN</td>\n",
       "      <td>NaN</td>\n",
       "      <td>NaN</td>\n",
       "      <td>NaN</td>\n",
       "      <td>0.000</td>\n",
       "      <td>NaN</td>\n",
       "      <td>NaN</td>\n",
       "      <td>NaN</td>\n",
       "      <td>NaN</td>\n",
       "      <td>2021-01-31 20:00:00</td>\n",
       "      <td>NaN</td>\n",
       "      <td>NaN</td>\n",
       "      <td>0.000</td>\n",
       "      <td>NaN</td>\n",
       "      <td>0.027</td>\n",
       "      <td>0.000</td>\n",
       "      <td>NaN</td>\n",
       "      <td>NaN</td>\n",
       "      <td>NaN</td>\n",
       "      <td>NaN</td>\n",
       "      <td>NaN</td>\n",
       "      <td>0.000</td>\n",
       "      <td>NaN</td>\n",
       "      <td>NaN</td>\n",
       "      <td>NaN</td>\n",
       "      <td>NaN</td>\n",
       "    </tr>\n",
       "    <tr>\n",
       "      <th>38829</th>\n",
       "      <td>2021-01-31 21:00:00</td>\n",
       "      <td>NaN</td>\n",
       "      <td>NaN</td>\n",
       "      <td>0.000</td>\n",
       "      <td>NaN</td>\n",
       "      <td>0.000</td>\n",
       "      <td>0.000</td>\n",
       "      <td>NaN</td>\n",
       "      <td>NaN</td>\n",
       "      <td>NaN</td>\n",
       "      <td>NaN</td>\n",
       "      <td>NaN</td>\n",
       "      <td>0.000</td>\n",
       "      <td>NaN</td>\n",
       "      <td>NaN</td>\n",
       "      <td>NaN</td>\n",
       "      <td>NaN</td>\n",
       "      <td>2021-01-31 21:00:00</td>\n",
       "      <td>NaN</td>\n",
       "      <td>NaN</td>\n",
       "      <td>0.000</td>\n",
       "      <td>NaN</td>\n",
       "      <td>0.000</td>\n",
       "      <td>0.000</td>\n",
       "      <td>NaN</td>\n",
       "      <td>NaN</td>\n",
       "      <td>NaN</td>\n",
       "      <td>NaN</td>\n",
       "      <td>NaN</td>\n",
       "      <td>0.000</td>\n",
       "      <td>NaN</td>\n",
       "      <td>NaN</td>\n",
       "      <td>NaN</td>\n",
       "      <td>NaN</td>\n",
       "    </tr>\n",
       "    <tr>\n",
       "      <th>38830</th>\n",
       "      <td>2021-01-31 22:00:00</td>\n",
       "      <td>NaN</td>\n",
       "      <td>NaN</td>\n",
       "      <td>0.000</td>\n",
       "      <td>NaN</td>\n",
       "      <td>0.000</td>\n",
       "      <td>0.000</td>\n",
       "      <td>NaN</td>\n",
       "      <td>NaN</td>\n",
       "      <td>NaN</td>\n",
       "      <td>NaN</td>\n",
       "      <td>NaN</td>\n",
       "      <td>0.000</td>\n",
       "      <td>NaN</td>\n",
       "      <td>NaN</td>\n",
       "      <td>NaN</td>\n",
       "      <td>NaN</td>\n",
       "      <td>2021-01-31 22:00:00</td>\n",
       "      <td>NaN</td>\n",
       "      <td>NaN</td>\n",
       "      <td>0.147</td>\n",
       "      <td>NaN</td>\n",
       "      <td>0.040</td>\n",
       "      <td>0.080</td>\n",
       "      <td>NaN</td>\n",
       "      <td>NaN</td>\n",
       "      <td>NaN</td>\n",
       "      <td>NaN</td>\n",
       "      <td>NaN</td>\n",
       "      <td>0.107</td>\n",
       "      <td>NaN</td>\n",
       "      <td>NaN</td>\n",
       "      <td>NaN</td>\n",
       "      <td>NaN</td>\n",
       "    </tr>\n",
       "    <tr>\n",
       "      <th>38831</th>\n",
       "      <td>2021-01-31 23:00:00</td>\n",
       "      <td>NaN</td>\n",
       "      <td>NaN</td>\n",
       "      <td>0.000</td>\n",
       "      <td>NaN</td>\n",
       "      <td>0.000</td>\n",
       "      <td>0.000</td>\n",
       "      <td>NaN</td>\n",
       "      <td>NaN</td>\n",
       "      <td>NaN</td>\n",
       "      <td>NaN</td>\n",
       "      <td>NaN</td>\n",
       "      <td>0.000</td>\n",
       "      <td>NaN</td>\n",
       "      <td>NaN</td>\n",
       "      <td>NaN</td>\n",
       "      <td>NaN</td>\n",
       "      <td>2021-01-31 23:00:00</td>\n",
       "      <td>NaN</td>\n",
       "      <td>NaN</td>\n",
       "      <td>0.293</td>\n",
       "      <td>NaN</td>\n",
       "      <td>0.080</td>\n",
       "      <td>0.160</td>\n",
       "      <td>NaN</td>\n",
       "      <td>NaN</td>\n",
       "      <td>NaN</td>\n",
       "      <td>NaN</td>\n",
       "      <td>NaN</td>\n",
       "      <td>0.213</td>\n",
       "      <td>NaN</td>\n",
       "      <td>NaN</td>\n",
       "      <td>NaN</td>\n",
       "      <td>NaN</td>\n",
       "    </tr>\n",
       "  </tbody>\n",
       "</table>\n",
       "<p>38832 rows × 34 columns</p>\n",
       "</div>"
      ],
      "text/plain": [
       "                     Tarih  İzmir  Aliağa  Çeşme  Bergama  Manisa  Akhisar  \\\n",
       "0      2021-02-01 00:00:00  0.000   0.000  0.000    0.000   0.000    0.000   \n",
       "1      2021-02-01 01:00:00  0.000   0.000  0.000    0.000   0.000    0.000   \n",
       "2      2021-02-01 02:00:00  0.000   0.000  0.000    0.000   0.000    0.000   \n",
       "3      2021-02-01 03:00:00  0.000   0.000  0.000    0.000   0.000    0.000   \n",
       "4      2021-02-01 04:00:00  0.000   0.000  0.000    0.000   0.000    0.000   \n",
       "...                    ...    ...     ...    ...      ...     ...      ...   \n",
       "38827  2021-01-31 19:00:00    NaN     NaN  0.000      NaN   0.000    0.000   \n",
       "38828  2021-01-31 20:00:00    NaN     NaN  0.000      NaN   0.000    0.000   \n",
       "38829  2021-01-31 21:00:00    NaN     NaN  0.000      NaN   0.000    0.000   \n",
       "38830  2021-01-31 22:00:00    NaN     NaN  0.000      NaN   0.000    0.000   \n",
       "38831  2021-01-31 23:00:00    NaN     NaN  0.000      NaN   0.000    0.000   \n",
       "\n",
       "       Salihli  Çiğli  Menderes  Alaşehir  Demirci  Güzelyalı  Kula  Ödemiş  \\\n",
       "0        0.000  0.000     0.000       NaN      NaN        NaN   NaN     NaN   \n",
       "1        0.000  0.000     0.000       NaN      NaN        NaN   NaN     NaN   \n",
       "2        0.000  0.000     0.000       NaN      NaN        NaN   NaN     NaN   \n",
       "3        0.000  0.000     0.000       NaN      NaN        NaN   NaN     NaN   \n",
       "4        0.000  0.000     0.000       NaN      NaN        NaN   NaN     NaN   \n",
       "...        ...    ...       ...       ...      ...        ...   ...     ...   \n",
       "38827      NaN    NaN       NaN       NaN      NaN      0.000   NaN     NaN   \n",
       "38828      NaN    NaN       NaN       NaN      NaN      0.000   NaN     NaN   \n",
       "38829      NaN    NaN       NaN       NaN      NaN      0.000   NaN     NaN   \n",
       "38830      NaN    NaN       NaN       NaN      NaN      0.000   NaN     NaN   \n",
       "38831      NaN    NaN       NaN       NaN      NaN      0.000   NaN     NaN   \n",
       "\n",
       "       Soma  Urla                Tarih  İzmir  Aliağa  Çeşme  Bergama  Manisa  \\\n",
       "0       NaN   NaN  2021-02-01 00:00:00  0.640   0.240  0.560    0.440   0.240   \n",
       "1       NaN   NaN  2021-02-01 01:00:00  0.680   0.320  0.533    0.320   0.307   \n",
       "2       NaN   NaN  2021-02-01 02:00:00  0.720   0.400  0.507    0.200   0.373   \n",
       "3       NaN   NaN  2021-02-01 03:00:00  0.560   0.640  0.320    0.240   0.480   \n",
       "4       NaN   NaN  2021-02-01 04:00:00  0.627   0.693  0.360    0.267   0.573   \n",
       "...     ...   ...                  ...    ...     ...    ...      ...     ...   \n",
       "38827   NaN   NaN  2021-01-31 19:00:00    NaN     NaN  0.000      NaN   0.053   \n",
       "38828   NaN   NaN  2021-01-31 20:00:00    NaN     NaN  0.000      NaN   0.027   \n",
       "38829   NaN   NaN  2021-01-31 21:00:00    NaN     NaN  0.000      NaN   0.000   \n",
       "38830   NaN   NaN  2021-01-31 22:00:00    NaN     NaN  0.147      NaN   0.040   \n",
       "38831   NaN   NaN  2021-01-31 23:00:00    NaN     NaN  0.293      NaN   0.080   \n",
       "\n",
       "       Akhisar  Salihli  Çiğli  Menderes  Alaşehir  Demirci  Güzelyalı  Kula  \\\n",
       "0        0.320    0.000  0.680     0.360       NaN      NaN        NaN   NaN   \n",
       "1        0.360    0.160  0.707     0.427       NaN      NaN        NaN   NaN   \n",
       "2        0.400    0.320  0.733     0.493       NaN      NaN        NaN   NaN   \n",
       "3        0.320    0.360  0.560     0.200       NaN      NaN        NaN   NaN   \n",
       "4        0.467    0.467  0.627     0.347       NaN      NaN        NaN   NaN   \n",
       "...        ...      ...    ...       ...       ...      ...        ...   ...   \n",
       "38827    0.000      NaN    NaN       NaN       NaN      NaN      0.000   NaN   \n",
       "38828    0.000      NaN    NaN       NaN       NaN      NaN      0.000   NaN   \n",
       "38829    0.000      NaN    NaN       NaN       NaN      NaN      0.000   NaN   \n",
       "38830    0.080      NaN    NaN       NaN       NaN      NaN      0.107   NaN   \n",
       "38831    0.160      NaN    NaN       NaN       NaN      NaN      0.213   NaN   \n",
       "\n",
       "       Ödemiş  Soma  Urla  \n",
       "0         NaN   NaN   NaN  \n",
       "1         NaN   NaN   NaN  \n",
       "2         NaN   NaN   NaN  \n",
       "3         NaN   NaN   NaN  \n",
       "4         NaN   NaN   NaN  \n",
       "...       ...   ...   ...  \n",
       "38827     NaN   NaN   NaN  \n",
       "38828     NaN   NaN   NaN  \n",
       "38829     NaN   NaN   NaN  \n",
       "38830     NaN   NaN   NaN  \n",
       "38831     NaN   NaN   NaN  \n",
       "\n",
       "[38832 rows x 34 columns]"
      ]
     },
     "execution_count": 175,
     "metadata": {},
     "output_type": "execute_result"
    }
   ],
   "source": [
    "pd.concat([df_hum, df_cloud], axis=1)"
   ]
  },
  {
   "cell_type": "markdown",
   "metadata": {},
   "source": [
    "### **<span style='color:turquoise'> Radiation </span>** "
   ]
  },
  {
   "cell_type": "markdown",
   "metadata": {},
   "source": [
    "unit = `w/m²`"
   ]
  },
  {
   "cell_type": "code",
   "execution_count": 176,
   "metadata": {},
   "outputs": [],
   "source": [
    "df5 = pd.read_csv(\"Weather_Radyasyon.csv\")\n",
    "df_rad = df5.copy()"
   ]
  },
  {
   "cell_type": "code",
   "execution_count": 177,
   "metadata": {},
   "outputs": [
    {
     "data": {
      "text/html": [
       "<div>\n",
       "<style scoped>\n",
       "    .dataframe tbody tr th:only-of-type {\n",
       "        vertical-align: middle;\n",
       "    }\n",
       "\n",
       "    .dataframe tbody tr th {\n",
       "        vertical-align: top;\n",
       "    }\n",
       "\n",
       "    .dataframe thead th {\n",
       "        text-align: right;\n",
       "    }\n",
       "</style>\n",
       "<table border=\"1\" class=\"dataframe\">\n",
       "  <thead>\n",
       "    <tr style=\"text-align: right;\">\n",
       "      <th></th>\n",
       "      <th>Tarih</th>\n",
       "      <th>İzmir</th>\n",
       "      <th>Aliağa</th>\n",
       "      <th>Çeşme</th>\n",
       "      <th>Bergama</th>\n",
       "      <th>Manisa</th>\n",
       "      <th>Akhisar</th>\n",
       "      <th>Salihli</th>\n",
       "      <th>Çiğli</th>\n",
       "      <th>Menderes</th>\n",
       "      <th>Alaşehir</th>\n",
       "      <th>Demirci</th>\n",
       "      <th>Güzelyalı</th>\n",
       "      <th>Kula</th>\n",
       "      <th>Ödemiş</th>\n",
       "      <th>Soma</th>\n",
       "      <th>Urla</th>\n",
       "      <th>Unnamed: 17</th>\n",
       "    </tr>\n",
       "  </thead>\n",
       "  <tbody>\n",
       "    <tr>\n",
       "      <th>0</th>\n",
       "      <td>2021-02-01 00:00:00</td>\n",
       "      <td>0.000</td>\n",
       "      <td>0.000</td>\n",
       "      <td>0.000</td>\n",
       "      <td>0.000</td>\n",
       "      <td>0.000</td>\n",
       "      <td>0.000</td>\n",
       "      <td>0.000</td>\n",
       "      <td>0.000</td>\n",
       "      <td>0.000</td>\n",
       "      <td>NaN</td>\n",
       "      <td>NaN</td>\n",
       "      <td>NaN</td>\n",
       "      <td>NaN</td>\n",
       "      <td>NaN</td>\n",
       "      <td>NaN</td>\n",
       "      <td>NaN</td>\n",
       "      <td>NaN</td>\n",
       "    </tr>\n",
       "    <tr>\n",
       "      <th>1</th>\n",
       "      <td>2021-02-01 01:00:00</td>\n",
       "      <td>0.000</td>\n",
       "      <td>0.000</td>\n",
       "      <td>0.000</td>\n",
       "      <td>0.000</td>\n",
       "      <td>0.000</td>\n",
       "      <td>0.000</td>\n",
       "      <td>0.000</td>\n",
       "      <td>0.000</td>\n",
       "      <td>0.000</td>\n",
       "      <td>NaN</td>\n",
       "      <td>NaN</td>\n",
       "      <td>NaN</td>\n",
       "      <td>NaN</td>\n",
       "      <td>NaN</td>\n",
       "      <td>NaN</td>\n",
       "      <td>NaN</td>\n",
       "      <td>NaN</td>\n",
       "    </tr>\n",
       "    <tr>\n",
       "      <th>2</th>\n",
       "      <td>2021-02-01 02:00:00</td>\n",
       "      <td>0.000</td>\n",
       "      <td>0.000</td>\n",
       "      <td>0.000</td>\n",
       "      <td>0.000</td>\n",
       "      <td>0.000</td>\n",
       "      <td>0.000</td>\n",
       "      <td>0.000</td>\n",
       "      <td>0.000</td>\n",
       "      <td>0.000</td>\n",
       "      <td>NaN</td>\n",
       "      <td>NaN</td>\n",
       "      <td>NaN</td>\n",
       "      <td>NaN</td>\n",
       "      <td>NaN</td>\n",
       "      <td>NaN</td>\n",
       "      <td>NaN</td>\n",
       "      <td>NaN</td>\n",
       "    </tr>\n",
       "    <tr>\n",
       "      <th>3</th>\n",
       "      <td>2021-02-01 03:00:00</td>\n",
       "      <td>0.000</td>\n",
       "      <td>0.000</td>\n",
       "      <td>0.000</td>\n",
       "      <td>0.000</td>\n",
       "      <td>0.000</td>\n",
       "      <td>0.000</td>\n",
       "      <td>0.000</td>\n",
       "      <td>0.000</td>\n",
       "      <td>0.000</td>\n",
       "      <td>NaN</td>\n",
       "      <td>NaN</td>\n",
       "      <td>NaN</td>\n",
       "      <td>NaN</td>\n",
       "      <td>NaN</td>\n",
       "      <td>NaN</td>\n",
       "      <td>NaN</td>\n",
       "      <td>NaN</td>\n",
       "    </tr>\n",
       "    <tr>\n",
       "      <th>4</th>\n",
       "      <td>2021-02-01 04:00:00</td>\n",
       "      <td>0.000</td>\n",
       "      <td>0.000</td>\n",
       "      <td>0.000</td>\n",
       "      <td>0.000</td>\n",
       "      <td>0.000</td>\n",
       "      <td>0.000</td>\n",
       "      <td>0.000</td>\n",
       "      <td>0.000</td>\n",
       "      <td>0.000</td>\n",
       "      <td>NaN</td>\n",
       "      <td>NaN</td>\n",
       "      <td>NaN</td>\n",
       "      <td>NaN</td>\n",
       "      <td>NaN</td>\n",
       "      <td>NaN</td>\n",
       "      <td>NaN</td>\n",
       "      <td>NaN</td>\n",
       "    </tr>\n",
       "  </tbody>\n",
       "</table>\n",
       "</div>"
      ],
      "text/plain": [
       "                 Tarih  İzmir  Aliağa  Çeşme  Bergama  Manisa  Akhisar  \\\n",
       "0  2021-02-01 00:00:00  0.000   0.000  0.000    0.000   0.000    0.000   \n",
       "1  2021-02-01 01:00:00  0.000   0.000  0.000    0.000   0.000    0.000   \n",
       "2  2021-02-01 02:00:00  0.000   0.000  0.000    0.000   0.000    0.000   \n",
       "3  2021-02-01 03:00:00  0.000   0.000  0.000    0.000   0.000    0.000   \n",
       "4  2021-02-01 04:00:00  0.000   0.000  0.000    0.000   0.000    0.000   \n",
       "\n",
       "   Salihli  Çiğli  Menderes  Alaşehir  Demirci  Güzelyalı  Kula  Ödemiş  Soma  \\\n",
       "0    0.000  0.000     0.000       NaN      NaN        NaN   NaN     NaN   NaN   \n",
       "1    0.000  0.000     0.000       NaN      NaN        NaN   NaN     NaN   NaN   \n",
       "2    0.000  0.000     0.000       NaN      NaN        NaN   NaN     NaN   NaN   \n",
       "3    0.000  0.000     0.000       NaN      NaN        NaN   NaN     NaN   NaN   \n",
       "4    0.000  0.000     0.000       NaN      NaN        NaN   NaN     NaN   NaN   \n",
       "\n",
       "   Urla  Unnamed: 17  \n",
       "0   NaN          NaN  \n",
       "1   NaN          NaN  \n",
       "2   NaN          NaN  \n",
       "3   NaN          NaN  \n",
       "4   NaN          NaN  "
      ]
     },
     "execution_count": 177,
     "metadata": {},
     "output_type": "execute_result"
    }
   ],
   "source": [
    "df_rad.head()"
   ]
  },
  {
   "cell_type": "code",
   "execution_count": 178,
   "metadata": {},
   "outputs": [
    {
     "data": {
      "text/plain": [
       "(38832, 18)"
      ]
     },
     "execution_count": 178,
     "metadata": {},
     "output_type": "execute_result"
    }
   ],
   "source": [
    "df_rad.shape"
   ]
  },
  {
   "cell_type": "code",
   "execution_count": 179,
   "metadata": {},
   "outputs": [
    {
     "name": "stdout",
     "output_type": "stream",
     "text": [
      "<class 'pandas.core.frame.DataFrame'>\n",
      "RangeIndex: 38832 entries, 0 to 38831\n",
      "Data columns (total 18 columns):\n",
      " #   Column       Non-Null Count  Dtype  \n",
      "---  ------       --------------  -----  \n",
      " 0   Tarih        38832 non-null  object \n",
      " 1   İzmir        11784 non-null  float64\n",
      " 2   Aliağa       11784 non-null  float64\n",
      " 3   Çeşme        38832 non-null  float64\n",
      " 4   Bergama      11784 non-null  float64\n",
      " 5   Manisa       38832 non-null  float64\n",
      " 6   Akhisar      38832 non-null  float64\n",
      " 7   Salihli      11784 non-null  float64\n",
      " 8   Çiğli        11784 non-null  float64\n",
      " 9   Menderes     11784 non-null  float64\n",
      " 10  Alaşehir     11472 non-null  float64\n",
      " 11  Demirci      11472 non-null  float64\n",
      " 12  Güzelyalı    38520 non-null  float64\n",
      " 13  Kula         11472 non-null  float64\n",
      " 14  Ödemiş       11472 non-null  float64\n",
      " 15  Soma         11472 non-null  float64\n",
      " 16  Urla         11472 non-null  float64\n",
      " 17  Unnamed: 17  24 non-null     float64\n",
      "dtypes: float64(17), object(1)\n",
      "memory usage: 5.3+ MB\n"
     ]
    }
   ],
   "source": [
    "df_rad.info()"
   ]
  },
  {
   "cell_type": "code",
   "execution_count": 180,
   "metadata": {},
   "outputs": [
    {
     "data": {
      "text/html": [
       "<pre style=\"white-space:pre;overflow-x:auto;line-height:normal;font-family:Menlo,'DejaVu Sans Mono',consolas,'Courier New',monospace\">╭──────────────────────────────────────────────── skimpy summary ─────────────────────────────────────────────────╮\n",
       "│ <span style=\"font-style: italic\">         Data Summary         </span> <span style=\"font-style: italic\">      Data Types       </span>                                                          │\n",
       "│ ┏━━━━━━━━━━━━━━━━━━━┳━━━━━━━━┓ ┏━━━━━━━━━━━━━┳━━━━━━━┓                                                          │\n",
       "│ ┃<span style=\"color: #008080; text-decoration-color: #008080; font-weight: bold\"> dataframe         </span>┃<span style=\"color: #008080; text-decoration-color: #008080; font-weight: bold\"> Values </span>┃ ┃<span style=\"color: #008080; text-decoration-color: #008080; font-weight: bold\"> Column Type </span>┃<span style=\"color: #008080; text-decoration-color: #008080; font-weight: bold\"> Count </span>┃                                                          │\n",
       "│ ┡━━━━━━━━━━━━━━━━━━━╇━━━━━━━━┩ ┡━━━━━━━━━━━━━╇━━━━━━━┩                                                          │\n",
       "│ │ Number of rows    │ 38832  │ │ float64     │ 17    │                                                          │\n",
       "│ │ Number of columns │ 18     │ │ string      │ 1     │                                                          │\n",
       "│ └───────────────────┴────────┘ └─────────────┴───────┘                                                          │\n",
       "│ <span style=\"font-style: italic\">                                                    number                                                    </span>  │\n",
       "│ ┏━━━━━━━━━━━━━━━━━━━━┳━━━━━━━━━━━┳━━━━━━━━━━┳━━━━━━━━━┳━━━━━━━━┳━━━━━━┳━━━━━━━━┳━━━━━━━━┳━━━━━━━━━┳━━━━━━━━━━┓  │\n",
       "│ ┃<span style=\"font-weight: bold\"> column_name        </span>┃<span style=\"font-weight: bold\"> NA        </span>┃<span style=\"font-weight: bold\"> NA %     </span>┃<span style=\"font-weight: bold\"> mean    </span>┃<span style=\"font-weight: bold\"> sd     </span>┃<span style=\"font-weight: bold\"> p0   </span>┃<span style=\"font-weight: bold\"> p25    </span>┃<span style=\"font-weight: bold\"> p75    </span>┃<span style=\"font-weight: bold\"> p100    </span>┃<span style=\"font-weight: bold\"> hist     </span>┃  │\n",
       "│ ┡━━━━━━━━━━━━━━━━━━━━╇━━━━━━━━━━━╇━━━━━━━━━━╇━━━━━━━━━╇━━━━━━━━╇━━━━━━╇━━━━━━━━╇━━━━━━━━╇━━━━━━━━━╇━━━━━━━━━━┩  │\n",
       "│ │ <span style=\"color: #af87ff; text-decoration-color: #af87ff\">İzmir             </span> │ <span style=\"color: #008080; text-decoration-color: #008080\">    27000</span> │ <span style=\"color: #008080; text-decoration-color: #008080\">      70</span> │ <span style=\"color: #008080; text-decoration-color: #008080\">    210</span> │ <span style=\"color: #008080; text-decoration-color: #008080\">   280</span> │ <span style=\"color: #008080; text-decoration-color: #008080\">   0</span> │ <span style=\"color: #008080; text-decoration-color: #008080\">     0</span> │ <span style=\"color: #008080; text-decoration-color: #008080\">   400</span> │ <span style=\"color: #008080; text-decoration-color: #008080\">    970</span> │ <span style=\"color: #008000; text-decoration-color: #008000\"> █▁▁▁▁▁ </span> │  │\n",
       "│ │ <span style=\"color: #af87ff; text-decoration-color: #af87ff\">Aliağa            </span> │ <span style=\"color: #008080; text-decoration-color: #008080\">    27000</span> │ <span style=\"color: #008080; text-decoration-color: #008080\">      70</span> │ <span style=\"color: #008080; text-decoration-color: #008080\">    210</span> │ <span style=\"color: #008080; text-decoration-color: #008080\">   280</span> │ <span style=\"color: #008080; text-decoration-color: #008080\">   0</span> │ <span style=\"color: #008080; text-decoration-color: #008080\">     0</span> │ <span style=\"color: #008080; text-decoration-color: #008080\">   400</span> │ <span style=\"color: #008080; text-decoration-color: #008080\">    970</span> │ <span style=\"color: #008000; text-decoration-color: #008000\"> █▁▁▁▁▁ </span> │  │\n",
       "│ │ <span style=\"color: #af87ff; text-decoration-color: #af87ff\">Çeşme             </span> │ <span style=\"color: #008080; text-decoration-color: #008080\">        0</span> │ <span style=\"color: #008080; text-decoration-color: #008080\">       0</span> │ <span style=\"color: #008080; text-decoration-color: #008080\">    210</span> │ <span style=\"color: #008080; text-decoration-color: #008080\">   290</span> │ <span style=\"color: #008080; text-decoration-color: #008080\">   0</span> │ <span style=\"color: #008080; text-decoration-color: #008080\">     0</span> │ <span style=\"color: #008080; text-decoration-color: #008080\">   390</span> │ <span style=\"color: #008080; text-decoration-color: #008080\">   1200</span> │ <span style=\"color: #008000; text-decoration-color: #008000\"> █▁▁▁▁  </span> │  │\n",
       "│ │ <span style=\"color: #af87ff; text-decoration-color: #af87ff\">Bergama           </span> │ <span style=\"color: #008080; text-decoration-color: #008080\">    27000</span> │ <span style=\"color: #008080; text-decoration-color: #008080\">      70</span> │ <span style=\"color: #008080; text-decoration-color: #008080\">    200</span> │ <span style=\"color: #008080; text-decoration-color: #008080\">   280</span> │ <span style=\"color: #008080; text-decoration-color: #008080\">   0</span> │ <span style=\"color: #008080; text-decoration-color: #008080\">     0</span> │ <span style=\"color: #008080; text-decoration-color: #008080\">   390</span> │ <span style=\"color: #008080; text-decoration-color: #008080\">    970</span> │ <span style=\"color: #008000; text-decoration-color: #008000\"> █▁▁▁▁▁ </span> │  │\n",
       "│ │ <span style=\"color: #af87ff; text-decoration-color: #af87ff\">Manisa            </span> │ <span style=\"color: #008080; text-decoration-color: #008080\">        0</span> │ <span style=\"color: #008080; text-decoration-color: #008080\">       0</span> │ <span style=\"color: #008080; text-decoration-color: #008080\">    200</span> │ <span style=\"color: #008080; text-decoration-color: #008080\">   280</span> │ <span style=\"color: #008080; text-decoration-color: #008080\">   0</span> │ <span style=\"color: #008080; text-decoration-color: #008080\">     0</span> │ <span style=\"color: #008080; text-decoration-color: #008080\">   370</span> │ <span style=\"color: #008080; text-decoration-color: #008080\">   1000</span> │ <span style=\"color: #008000; text-decoration-color: #008000\"> █▁▁▁▁▁ </span> │  │\n",
       "│ │ <span style=\"color: #af87ff; text-decoration-color: #af87ff\">Akhisar           </span> │ <span style=\"color: #008080; text-decoration-color: #008080\">        0</span> │ <span style=\"color: #008080; text-decoration-color: #008080\">       0</span> │ <span style=\"color: #008080; text-decoration-color: #008080\">    200</span> │ <span style=\"color: #008080; text-decoration-color: #008080\">   280</span> │ <span style=\"color: #008080; text-decoration-color: #008080\">   0</span> │ <span style=\"color: #008080; text-decoration-color: #008080\">     0</span> │ <span style=\"color: #008080; text-decoration-color: #008080\">   380</span> │ <span style=\"color: #008080; text-decoration-color: #008080\">   1000</span> │ <span style=\"color: #008000; text-decoration-color: #008000\"> █▁▁▁▁▁ </span> │  │\n",
       "│ │ <span style=\"color: #af87ff; text-decoration-color: #af87ff\">Salihli           </span> │ <span style=\"color: #008080; text-decoration-color: #008080\">    27000</span> │ <span style=\"color: #008080; text-decoration-color: #008080\">      70</span> │ <span style=\"color: #008080; text-decoration-color: #008080\">    200</span> │ <span style=\"color: #008080; text-decoration-color: #008080\">   280</span> │ <span style=\"color: #008080; text-decoration-color: #008080\">   0</span> │ <span style=\"color: #008080; text-decoration-color: #008080\">     0</span> │ <span style=\"color: #008080; text-decoration-color: #008080\">   380</span> │ <span style=\"color: #008080; text-decoration-color: #008080\">    980</span> │ <span style=\"color: #008000; text-decoration-color: #008000\"> █▁▁▁▁▁ </span> │  │\n",
       "│ │ <span style=\"color: #af87ff; text-decoration-color: #af87ff\">Çiğli             </span> │ <span style=\"color: #008080; text-decoration-color: #008080\">    27000</span> │ <span style=\"color: #008080; text-decoration-color: #008080\">      70</span> │ <span style=\"color: #008080; text-decoration-color: #008080\">    210</span> │ <span style=\"color: #008080; text-decoration-color: #008080\">   280</span> │ <span style=\"color: #008080; text-decoration-color: #008080\">   0</span> │ <span style=\"color: #008080; text-decoration-color: #008080\">     0</span> │ <span style=\"color: #008080; text-decoration-color: #008080\">   390</span> │ <span style=\"color: #008080; text-decoration-color: #008080\">    970</span> │ <span style=\"color: #008000; text-decoration-color: #008000\"> █▁▁▁▁▁ </span> │  │\n",
       "│ │ <span style=\"color: #af87ff; text-decoration-color: #af87ff\">Menderes          </span> │ <span style=\"color: #008080; text-decoration-color: #008080\">    27000</span> │ <span style=\"color: #008080; text-decoration-color: #008080\">      70</span> │ <span style=\"color: #008080; text-decoration-color: #008080\">    210</span> │ <span style=\"color: #008080; text-decoration-color: #008080\">   290</span> │ <span style=\"color: #008080; text-decoration-color: #008080\">   0</span> │ <span style=\"color: #008080; text-decoration-color: #008080\">     0</span> │ <span style=\"color: #008080; text-decoration-color: #008080\">   400</span> │ <span style=\"color: #008080; text-decoration-color: #008080\">    980</span> │ <span style=\"color: #008000; text-decoration-color: #008000\"> █▁▁▁▁▁ </span> │  │\n",
       "│ │ <span style=\"color: #af87ff; text-decoration-color: #af87ff\">Alaşehir          </span> │ <span style=\"color: #008080; text-decoration-color: #008080\">    27000</span> │ <span style=\"color: #008080; text-decoration-color: #008080\">      70</span> │ <span style=\"color: #008080; text-decoration-color: #008080\">    210</span> │ <span style=\"color: #008080; text-decoration-color: #008080\">   280</span> │ <span style=\"color: #008080; text-decoration-color: #008080\">   0</span> │ <span style=\"color: #008080; text-decoration-color: #008080\">     0</span> │ <span style=\"color: #008080; text-decoration-color: #008080\">   400</span> │ <span style=\"color: #008080; text-decoration-color: #008080\">    990</span> │ <span style=\"color: #008000; text-decoration-color: #008000\"> █▁▁▁▁▁ </span> │  │\n",
       "│ │ <span style=\"color: #af87ff; text-decoration-color: #af87ff\">Demirci           </span> │ <span style=\"color: #008080; text-decoration-color: #008080\">    27000</span> │ <span style=\"color: #008080; text-decoration-color: #008080\">      70</span> │ <span style=\"color: #008080; text-decoration-color: #008080\">    210</span> │ <span style=\"color: #008080; text-decoration-color: #008080\">   280</span> │ <span style=\"color: #008080; text-decoration-color: #008080\">   0</span> │ <span style=\"color: #008080; text-decoration-color: #008080\">     0</span> │ <span style=\"color: #008080; text-decoration-color: #008080\">   390</span> │ <span style=\"color: #008080; text-decoration-color: #008080\">    990</span> │ <span style=\"color: #008000; text-decoration-color: #008000\"> █▁▁▁▁▁ </span> │  │\n",
       "│ │ <span style=\"color: #af87ff; text-decoration-color: #af87ff\">Güzelyalı         </span> │ <span style=\"color: #008080; text-decoration-color: #008080\">      310</span> │ <span style=\"color: #008080; text-decoration-color: #008080\">     0.8</span> │ <span style=\"color: #008080; text-decoration-color: #008080\">    210</span> │ <span style=\"color: #008080; text-decoration-color: #008080\">   290</span> │ <span style=\"color: #008080; text-decoration-color: #008080\">   0</span> │ <span style=\"color: #008080; text-decoration-color: #008080\">     0</span> │ <span style=\"color: #008080; text-decoration-color: #008080\">   390</span> │ <span style=\"color: #008080; text-decoration-color: #008080\">   1000</span> │ <span style=\"color: #008000; text-decoration-color: #008000\"> █▁▁▁▁▁ </span> │  │\n",
       "│ │ <span style=\"color: #af87ff; text-decoration-color: #af87ff\">Kula              </span> │ <span style=\"color: #008080; text-decoration-color: #008080\">    27000</span> │ <span style=\"color: #008080; text-decoration-color: #008080\">      70</span> │ <span style=\"color: #008080; text-decoration-color: #008080\">    210</span> │ <span style=\"color: #008080; text-decoration-color: #008080\">   280</span> │ <span style=\"color: #008080; text-decoration-color: #008080\">   0</span> │ <span style=\"color: #008080; text-decoration-color: #008080\">     0</span> │ <span style=\"color: #008080; text-decoration-color: #008080\">   400</span> │ <span style=\"color: #008080; text-decoration-color: #008080\">    990</span> │ <span style=\"color: #008000; text-decoration-color: #008000\"> █▁▁▁▁▁ </span> │  │\n",
       "│ │ <span style=\"color: #af87ff; text-decoration-color: #af87ff\">Ödemiş            </span> │ <span style=\"color: #008080; text-decoration-color: #008080\">    27000</span> │ <span style=\"color: #008080; text-decoration-color: #008080\">      70</span> │ <span style=\"color: #008080; text-decoration-color: #008080\">    210</span> │ <span style=\"color: #008080; text-decoration-color: #008080\">   290</span> │ <span style=\"color: #008080; text-decoration-color: #008080\">   0</span> │ <span style=\"color: #008080; text-decoration-color: #008080\">     0</span> │ <span style=\"color: #008080; text-decoration-color: #008080\">   400</span> │ <span style=\"color: #008080; text-decoration-color: #008080\">   1000</span> │ <span style=\"color: #008000; text-decoration-color: #008000\"> █▁▁▁▁▁ </span> │  │\n",
       "│ │ <span style=\"color: #af87ff; text-decoration-color: #af87ff\">Soma              </span> │ <span style=\"color: #008080; text-decoration-color: #008080\">    27000</span> │ <span style=\"color: #008080; text-decoration-color: #008080\">      70</span> │ <span style=\"color: #008080; text-decoration-color: #008080\">    200</span> │ <span style=\"color: #008080; text-decoration-color: #008080\">   280</span> │ <span style=\"color: #008080; text-decoration-color: #008080\">   0</span> │ <span style=\"color: #008080; text-decoration-color: #008080\">     0</span> │ <span style=\"color: #008080; text-decoration-color: #008080\">   380</span> │ <span style=\"color: #008080; text-decoration-color: #008080\">    970</span> │ <span style=\"color: #008000; text-decoration-color: #008000\"> █▁▁▁▁▁ </span> │  │\n",
       "│ │ <span style=\"color: #af87ff; text-decoration-color: #af87ff\">Urla              </span> │ <span style=\"color: #008080; text-decoration-color: #008080\">    27000</span> │ <span style=\"color: #008080; text-decoration-color: #008080\">      70</span> │ <span style=\"color: #008080; text-decoration-color: #008080\">    210</span> │ <span style=\"color: #008080; text-decoration-color: #008080\">   290</span> │ <span style=\"color: #008080; text-decoration-color: #008080\">   0</span> │ <span style=\"color: #008080; text-decoration-color: #008080\">     0</span> │ <span style=\"color: #008080; text-decoration-color: #008080\">   400</span> │ <span style=\"color: #008080; text-decoration-color: #008080\">    970</span> │ <span style=\"color: #008000; text-decoration-color: #008000\"> █▁▁▁▁▁ </span> │  │\n",
       "│ │ <span style=\"color: #af87ff; text-decoration-color: #af87ff\">Unnamed: 17       </span> │ <span style=\"color: #008080; text-decoration-color: #008080\">    39000</span> │ <span style=\"color: #008080; text-decoration-color: #008080\">     100</span> │ <span style=\"color: #008080; text-decoration-color: #008080\">      0</span> │ <span style=\"color: #008080; text-decoration-color: #008080\">     0</span> │ <span style=\"color: #008080; text-decoration-color: #008080\">   0</span> │ <span style=\"color: #008080; text-decoration-color: #008080\">     0</span> │ <span style=\"color: #008080; text-decoration-color: #008080\">     0</span> │ <span style=\"color: #008080; text-decoration-color: #008080\">      0</span> │ <span style=\"color: #008000; text-decoration-color: #008000\">     █  </span> │  │\n",
       "│ └────────────────────┴───────────┴──────────┴─────────┴────────┴──────┴────────┴────────┴─────────┴──────────┘  │\n",
       "│ <span style=\"font-style: italic\">                                                    string                                                    </span>  │\n",
       "│ ┏━━━━━━━━━━━━━━━━━━━━━━━━━━━┳━━━━━━━━━┳━━━━━━━━━━━━┳━━━━━━━━━━━━━━━━━━━━━━━━━━━━━━┳━━━━━━━━━━━━━━━━━━━━━━━━━━┓  │\n",
       "│ ┃<span style=\"font-weight: bold\"> column_name               </span>┃<span style=\"font-weight: bold\"> NA      </span>┃<span style=\"font-weight: bold\"> NA %       </span>┃<span style=\"font-weight: bold\"> words per row                </span>┃<span style=\"font-weight: bold\"> total words              </span>┃  │\n",
       "│ ┡━━━━━━━━━━━━━━━━━━━━━━━━━━━╇━━━━━━━━━╇━━━━━━━━━━━━╇━━━━━━━━━━━━━━━━━━━━━━━━━━━━━━╇━━━━━━━━━━━━━━━━━━━━━━━━━━┩  │\n",
       "│ │ <span style=\"color: #af87ff; text-decoration-color: #af87ff\">Tarih                    </span> │ <span style=\"color: #008080; text-decoration-color: #008080\">      0</span> │ <span style=\"color: #008080; text-decoration-color: #008080\">         0</span> │ <span style=\"color: #008080; text-decoration-color: #008080\">                           2</span> │ <span style=\"color: #008080; text-decoration-color: #008080\">                   78000</span> │  │\n",
       "│ └───────────────────────────┴─────────┴────────────┴──────────────────────────────┴──────────────────────────┘  │\n",
       "╰────────────────────────────────────────────────────── End ──────────────────────────────────────────────────────╯\n",
       "</pre>\n"
      ],
      "text/plain": [
       "╭──────────────────────────────────────────────── skimpy summary ─────────────────────────────────────────────────╮\n",
       "│ \u001b[3m         Data Summary         \u001b[0m \u001b[3m      Data Types       \u001b[0m                                                          │\n",
       "│ ┏━━━━━━━━━━━━━━━━━━━┳━━━━━━━━┓ ┏━━━━━━━━━━━━━┳━━━━━━━┓                                                          │\n",
       "│ ┃\u001b[1;36m \u001b[0m\u001b[1;36mdataframe        \u001b[0m\u001b[1;36m \u001b[0m┃\u001b[1;36m \u001b[0m\u001b[1;36mValues\u001b[0m\u001b[1;36m \u001b[0m┃ ┃\u001b[1;36m \u001b[0m\u001b[1;36mColumn Type\u001b[0m\u001b[1;36m \u001b[0m┃\u001b[1;36m \u001b[0m\u001b[1;36mCount\u001b[0m\u001b[1;36m \u001b[0m┃                                                          │\n",
       "│ ┡━━━━━━━━━━━━━━━━━━━╇━━━━━━━━┩ ┡━━━━━━━━━━━━━╇━━━━━━━┩                                                          │\n",
       "│ │ Number of rows    │ 38832  │ │ float64     │ 17    │                                                          │\n",
       "│ │ Number of columns │ 18     │ │ string      │ 1     │                                                          │\n",
       "│ └───────────────────┴────────┘ └─────────────┴───────┘                                                          │\n",
       "│ \u001b[3m                                                    number                                                    \u001b[0m  │\n",
       "│ ┏━━━━━━━━━━━━━━━━━━━━┳━━━━━━━━━━━┳━━━━━━━━━━┳━━━━━━━━━┳━━━━━━━━┳━━━━━━┳━━━━━━━━┳━━━━━━━━┳━━━━━━━━━┳━━━━━━━━━━┓  │\n",
       "│ ┃\u001b[1m \u001b[0m\u001b[1mcolumn_name       \u001b[0m\u001b[1m \u001b[0m┃\u001b[1m \u001b[0m\u001b[1mNA       \u001b[0m\u001b[1m \u001b[0m┃\u001b[1m \u001b[0m\u001b[1mNA %    \u001b[0m\u001b[1m \u001b[0m┃\u001b[1m \u001b[0m\u001b[1mmean   \u001b[0m\u001b[1m \u001b[0m┃\u001b[1m \u001b[0m\u001b[1msd    \u001b[0m\u001b[1m \u001b[0m┃\u001b[1m \u001b[0m\u001b[1mp0  \u001b[0m\u001b[1m \u001b[0m┃\u001b[1m \u001b[0m\u001b[1mp25   \u001b[0m\u001b[1m \u001b[0m┃\u001b[1m \u001b[0m\u001b[1mp75   \u001b[0m\u001b[1m \u001b[0m┃\u001b[1m \u001b[0m\u001b[1mp100   \u001b[0m\u001b[1m \u001b[0m┃\u001b[1m \u001b[0m\u001b[1mhist    \u001b[0m\u001b[1m \u001b[0m┃  │\n",
       "│ ┡━━━━━━━━━━━━━━━━━━━━╇━━━━━━━━━━━╇━━━━━━━━━━╇━━━━━━━━━╇━━━━━━━━╇━━━━━━╇━━━━━━━━╇━━━━━━━━╇━━━━━━━━━╇━━━━━━━━━━┩  │\n",
       "│ │ \u001b[38;5;141mİzmir             \u001b[0m │ \u001b[36m    27000\u001b[0m │ \u001b[36m      70\u001b[0m │ \u001b[36m    210\u001b[0m │ \u001b[36m   280\u001b[0m │ \u001b[36m   0\u001b[0m │ \u001b[36m     0\u001b[0m │ \u001b[36m   400\u001b[0m │ \u001b[36m    970\u001b[0m │ \u001b[32m █▁▁▁▁▁ \u001b[0m │  │\n",
       "│ │ \u001b[38;5;141mAliağa            \u001b[0m │ \u001b[36m    27000\u001b[0m │ \u001b[36m      70\u001b[0m │ \u001b[36m    210\u001b[0m │ \u001b[36m   280\u001b[0m │ \u001b[36m   0\u001b[0m │ \u001b[36m     0\u001b[0m │ \u001b[36m   400\u001b[0m │ \u001b[36m    970\u001b[0m │ \u001b[32m █▁▁▁▁▁ \u001b[0m │  │\n",
       "│ │ \u001b[38;5;141mÇeşme             \u001b[0m │ \u001b[36m        0\u001b[0m │ \u001b[36m       0\u001b[0m │ \u001b[36m    210\u001b[0m │ \u001b[36m   290\u001b[0m │ \u001b[36m   0\u001b[0m │ \u001b[36m     0\u001b[0m │ \u001b[36m   390\u001b[0m │ \u001b[36m   1200\u001b[0m │ \u001b[32m █▁▁▁▁  \u001b[0m │  │\n",
       "│ │ \u001b[38;5;141mBergama           \u001b[0m │ \u001b[36m    27000\u001b[0m │ \u001b[36m      70\u001b[0m │ \u001b[36m    200\u001b[0m │ \u001b[36m   280\u001b[0m │ \u001b[36m   0\u001b[0m │ \u001b[36m     0\u001b[0m │ \u001b[36m   390\u001b[0m │ \u001b[36m    970\u001b[0m │ \u001b[32m █▁▁▁▁▁ \u001b[0m │  │\n",
       "│ │ \u001b[38;5;141mManisa            \u001b[0m │ \u001b[36m        0\u001b[0m │ \u001b[36m       0\u001b[0m │ \u001b[36m    200\u001b[0m │ \u001b[36m   280\u001b[0m │ \u001b[36m   0\u001b[0m │ \u001b[36m     0\u001b[0m │ \u001b[36m   370\u001b[0m │ \u001b[36m   1000\u001b[0m │ \u001b[32m █▁▁▁▁▁ \u001b[0m │  │\n",
       "│ │ \u001b[38;5;141mAkhisar           \u001b[0m │ \u001b[36m        0\u001b[0m │ \u001b[36m       0\u001b[0m │ \u001b[36m    200\u001b[0m │ \u001b[36m   280\u001b[0m │ \u001b[36m   0\u001b[0m │ \u001b[36m     0\u001b[0m │ \u001b[36m   380\u001b[0m │ \u001b[36m   1000\u001b[0m │ \u001b[32m █▁▁▁▁▁ \u001b[0m │  │\n",
       "│ │ \u001b[38;5;141mSalihli           \u001b[0m │ \u001b[36m    27000\u001b[0m │ \u001b[36m      70\u001b[0m │ \u001b[36m    200\u001b[0m │ \u001b[36m   280\u001b[0m │ \u001b[36m   0\u001b[0m │ \u001b[36m     0\u001b[0m │ \u001b[36m   380\u001b[0m │ \u001b[36m    980\u001b[0m │ \u001b[32m █▁▁▁▁▁ \u001b[0m │  │\n",
       "│ │ \u001b[38;5;141mÇiğli             \u001b[0m │ \u001b[36m    27000\u001b[0m │ \u001b[36m      70\u001b[0m │ \u001b[36m    210\u001b[0m │ \u001b[36m   280\u001b[0m │ \u001b[36m   0\u001b[0m │ \u001b[36m     0\u001b[0m │ \u001b[36m   390\u001b[0m │ \u001b[36m    970\u001b[0m │ \u001b[32m █▁▁▁▁▁ \u001b[0m │  │\n",
       "│ │ \u001b[38;5;141mMenderes          \u001b[0m │ \u001b[36m    27000\u001b[0m │ \u001b[36m      70\u001b[0m │ \u001b[36m    210\u001b[0m │ \u001b[36m   290\u001b[0m │ \u001b[36m   0\u001b[0m │ \u001b[36m     0\u001b[0m │ \u001b[36m   400\u001b[0m │ \u001b[36m    980\u001b[0m │ \u001b[32m █▁▁▁▁▁ \u001b[0m │  │\n",
       "│ │ \u001b[38;5;141mAlaşehir          \u001b[0m │ \u001b[36m    27000\u001b[0m │ \u001b[36m      70\u001b[0m │ \u001b[36m    210\u001b[0m │ \u001b[36m   280\u001b[0m │ \u001b[36m   0\u001b[0m │ \u001b[36m     0\u001b[0m │ \u001b[36m   400\u001b[0m │ \u001b[36m    990\u001b[0m │ \u001b[32m █▁▁▁▁▁ \u001b[0m │  │\n",
       "│ │ \u001b[38;5;141mDemirci           \u001b[0m │ \u001b[36m    27000\u001b[0m │ \u001b[36m      70\u001b[0m │ \u001b[36m    210\u001b[0m │ \u001b[36m   280\u001b[0m │ \u001b[36m   0\u001b[0m │ \u001b[36m     0\u001b[0m │ \u001b[36m   390\u001b[0m │ \u001b[36m    990\u001b[0m │ \u001b[32m █▁▁▁▁▁ \u001b[0m │  │\n",
       "│ │ \u001b[38;5;141mGüzelyalı         \u001b[0m │ \u001b[36m      310\u001b[0m │ \u001b[36m     0.8\u001b[0m │ \u001b[36m    210\u001b[0m │ \u001b[36m   290\u001b[0m │ \u001b[36m   0\u001b[0m │ \u001b[36m     0\u001b[0m │ \u001b[36m   390\u001b[0m │ \u001b[36m   1000\u001b[0m │ \u001b[32m █▁▁▁▁▁ \u001b[0m │  │\n",
       "│ │ \u001b[38;5;141mKula              \u001b[0m │ \u001b[36m    27000\u001b[0m │ \u001b[36m      70\u001b[0m │ \u001b[36m    210\u001b[0m │ \u001b[36m   280\u001b[0m │ \u001b[36m   0\u001b[0m │ \u001b[36m     0\u001b[0m │ \u001b[36m   400\u001b[0m │ \u001b[36m    990\u001b[0m │ \u001b[32m █▁▁▁▁▁ \u001b[0m │  │\n",
       "│ │ \u001b[38;5;141mÖdemiş            \u001b[0m │ \u001b[36m    27000\u001b[0m │ \u001b[36m      70\u001b[0m │ \u001b[36m    210\u001b[0m │ \u001b[36m   290\u001b[0m │ \u001b[36m   0\u001b[0m │ \u001b[36m     0\u001b[0m │ \u001b[36m   400\u001b[0m │ \u001b[36m   1000\u001b[0m │ \u001b[32m █▁▁▁▁▁ \u001b[0m │  │\n",
       "│ │ \u001b[38;5;141mSoma              \u001b[0m │ \u001b[36m    27000\u001b[0m │ \u001b[36m      70\u001b[0m │ \u001b[36m    200\u001b[0m │ \u001b[36m   280\u001b[0m │ \u001b[36m   0\u001b[0m │ \u001b[36m     0\u001b[0m │ \u001b[36m   380\u001b[0m │ \u001b[36m    970\u001b[0m │ \u001b[32m █▁▁▁▁▁ \u001b[0m │  │\n",
       "│ │ \u001b[38;5;141mUrla              \u001b[0m │ \u001b[36m    27000\u001b[0m │ \u001b[36m      70\u001b[0m │ \u001b[36m    210\u001b[0m │ \u001b[36m   290\u001b[0m │ \u001b[36m   0\u001b[0m │ \u001b[36m     0\u001b[0m │ \u001b[36m   400\u001b[0m │ \u001b[36m    970\u001b[0m │ \u001b[32m █▁▁▁▁▁ \u001b[0m │  │\n",
       "│ │ \u001b[38;5;141mUnnamed: 17       \u001b[0m │ \u001b[36m    39000\u001b[0m │ \u001b[36m     100\u001b[0m │ \u001b[36m      0\u001b[0m │ \u001b[36m     0\u001b[0m │ \u001b[36m   0\u001b[0m │ \u001b[36m     0\u001b[0m │ \u001b[36m     0\u001b[0m │ \u001b[36m      0\u001b[0m │ \u001b[32m     █  \u001b[0m │  │\n",
       "│ └────────────────────┴───────────┴──────────┴─────────┴────────┴──────┴────────┴────────┴─────────┴──────────┘  │\n",
       "│ \u001b[3m                                                    string                                                    \u001b[0m  │\n",
       "│ ┏━━━━━━━━━━━━━━━━━━━━━━━━━━━┳━━━━━━━━━┳━━━━━━━━━━━━┳━━━━━━━━━━━━━━━━━━━━━━━━━━━━━━┳━━━━━━━━━━━━━━━━━━━━━━━━━━┓  │\n",
       "│ ┃\u001b[1m \u001b[0m\u001b[1mcolumn_name              \u001b[0m\u001b[1m \u001b[0m┃\u001b[1m \u001b[0m\u001b[1mNA     \u001b[0m\u001b[1m \u001b[0m┃\u001b[1m \u001b[0m\u001b[1mNA %      \u001b[0m\u001b[1m \u001b[0m┃\u001b[1m \u001b[0m\u001b[1mwords per row               \u001b[0m\u001b[1m \u001b[0m┃\u001b[1m \u001b[0m\u001b[1mtotal words             \u001b[0m\u001b[1m \u001b[0m┃  │\n",
       "│ ┡━━━━━━━━━━━━━━━━━━━━━━━━━━━╇━━━━━━━━━╇━━━━━━━━━━━━╇━━━━━━━━━━━━━━━━━━━━━━━━━━━━━━╇━━━━━━━━━━━━━━━━━━━━━━━━━━┩  │\n",
       "│ │ \u001b[38;5;141mTarih                    \u001b[0m │ \u001b[36m      0\u001b[0m │ \u001b[36m         0\u001b[0m │ \u001b[36m                           2\u001b[0m │ \u001b[36m                   78000\u001b[0m │  │\n",
       "│ └───────────────────────────┴─────────┴────────────┴──────────────────────────────┴──────────────────────────┘  │\n",
       "╰────────────────────────────────────────────────────── End ──────────────────────────────────────────────────────╯\n"
      ]
     },
     "metadata": {},
     "output_type": "display_data"
    }
   ],
   "source": [
    "skim(df_rad)"
   ]
  },
  {
   "cell_type": "markdown",
   "metadata": {},
   "source": [
    "### **<span style='color:turquoise'> Wind Speed </span>** "
   ]
  },
  {
   "cell_type": "markdown",
   "metadata": {},
   "source": [
    "unit = `m/s`"
   ]
  },
  {
   "cell_type": "code",
   "execution_count": 181,
   "metadata": {},
   "outputs": [],
   "source": [
    "df6 = pd.read_csv(\"Weather_Ruzgar-Hizi.csv\")\n",
    "df_ws = df6.copy()"
   ]
  },
  {
   "cell_type": "code",
   "execution_count": 182,
   "metadata": {},
   "outputs": [
    {
     "data": {
      "text/html": [
       "<div>\n",
       "<style scoped>\n",
       "    .dataframe tbody tr th:only-of-type {\n",
       "        vertical-align: middle;\n",
       "    }\n",
       "\n",
       "    .dataframe tbody tr th {\n",
       "        vertical-align: top;\n",
       "    }\n",
       "\n",
       "    .dataframe thead th {\n",
       "        text-align: right;\n",
       "    }\n",
       "</style>\n",
       "<table border=\"1\" class=\"dataframe\">\n",
       "  <thead>\n",
       "    <tr style=\"text-align: right;\">\n",
       "      <th></th>\n",
       "      <th>Tarih</th>\n",
       "      <th>İzmir</th>\n",
       "      <th>Aliağa</th>\n",
       "      <th>Çeşme</th>\n",
       "      <th>Bergama</th>\n",
       "      <th>Manisa</th>\n",
       "      <th>Akhisar</th>\n",
       "      <th>Salihli</th>\n",
       "      <th>Çiğli</th>\n",
       "      <th>Menderes</th>\n",
       "      <th>Alaşehir</th>\n",
       "      <th>Demirci</th>\n",
       "      <th>Güzelyalı</th>\n",
       "      <th>Kula</th>\n",
       "      <th>Ödemiş</th>\n",
       "      <th>Soma</th>\n",
       "      <th>Urla</th>\n",
       "    </tr>\n",
       "  </thead>\n",
       "  <tbody>\n",
       "    <tr>\n",
       "      <th>0</th>\n",
       "      <td>2021-02-01 00:00:00</td>\n",
       "      <td>5.171</td>\n",
       "      <td>8.368</td>\n",
       "      <td>12.943</td>\n",
       "      <td>0.905</td>\n",
       "      <td>0.921</td>\n",
       "      <td>1.905</td>\n",
       "      <td>3.142</td>\n",
       "      <td>9.162</td>\n",
       "      <td>2.894</td>\n",
       "      <td>NaN</td>\n",
       "      <td>NaN</td>\n",
       "      <td>NaN</td>\n",
       "      <td>NaN</td>\n",
       "      <td>NaN</td>\n",
       "      <td>NaN</td>\n",
       "      <td>NaN</td>\n",
       "    </tr>\n",
       "    <tr>\n",
       "      <th>1</th>\n",
       "      <td>2021-02-01 01:00:00</td>\n",
       "      <td>5.357</td>\n",
       "      <td>8.827</td>\n",
       "      <td>13.499</td>\n",
       "      <td>1.078</td>\n",
       "      <td>1.025</td>\n",
       "      <td>1.980</td>\n",
       "      <td>3.294</td>\n",
       "      <td>9.380</td>\n",
       "      <td>3.014</td>\n",
       "      <td>NaN</td>\n",
       "      <td>NaN</td>\n",
       "      <td>NaN</td>\n",
       "      <td>NaN</td>\n",
       "      <td>NaN</td>\n",
       "      <td>NaN</td>\n",
       "      <td>NaN</td>\n",
       "    </tr>\n",
       "    <tr>\n",
       "      <th>2</th>\n",
       "      <td>2021-02-01 02:00:00</td>\n",
       "      <td>5.545</td>\n",
       "      <td>9.287</td>\n",
       "      <td>14.057</td>\n",
       "      <td>1.253</td>\n",
       "      <td>1.140</td>\n",
       "      <td>2.055</td>\n",
       "      <td>3.447</td>\n",
       "      <td>9.606</td>\n",
       "      <td>3.141</td>\n",
       "      <td>NaN</td>\n",
       "      <td>NaN</td>\n",
       "      <td>NaN</td>\n",
       "      <td>NaN</td>\n",
       "      <td>NaN</td>\n",
       "      <td>NaN</td>\n",
       "      <td>NaN</td>\n",
       "    </tr>\n",
       "    <tr>\n",
       "      <th>3</th>\n",
       "      <td>2021-02-01 03:00:00</td>\n",
       "      <td>5.597</td>\n",
       "      <td>8.979</td>\n",
       "      <td>13.960</td>\n",
       "      <td>0.837</td>\n",
       "      <td>1.325</td>\n",
       "      <td>1.701</td>\n",
       "      <td>3.911</td>\n",
       "      <td>9.755</td>\n",
       "      <td>2.880</td>\n",
       "      <td>NaN</td>\n",
       "      <td>NaN</td>\n",
       "      <td>NaN</td>\n",
       "      <td>NaN</td>\n",
       "      <td>NaN</td>\n",
       "      <td>NaN</td>\n",
       "      <td>NaN</td>\n",
       "    </tr>\n",
       "    <tr>\n",
       "      <th>4</th>\n",
       "      <td>2021-02-01 04:00:00</td>\n",
       "      <td>5.442</td>\n",
       "      <td>9.777</td>\n",
       "      <td>14.307</td>\n",
       "      <td>0.725</td>\n",
       "      <td>1.297</td>\n",
       "      <td>1.807</td>\n",
       "      <td>3.848</td>\n",
       "      <td>9.759</td>\n",
       "      <td>2.971</td>\n",
       "      <td>NaN</td>\n",
       "      <td>NaN</td>\n",
       "      <td>NaN</td>\n",
       "      <td>NaN</td>\n",
       "      <td>NaN</td>\n",
       "      <td>NaN</td>\n",
       "      <td>NaN</td>\n",
       "    </tr>\n",
       "  </tbody>\n",
       "</table>\n",
       "</div>"
      ],
      "text/plain": [
       "                 Tarih  İzmir  Aliağa  Çeşme  Bergama  Manisa  Akhisar  \\\n",
       "0  2021-02-01 00:00:00  5.171   8.368 12.943    0.905   0.921    1.905   \n",
       "1  2021-02-01 01:00:00  5.357   8.827 13.499    1.078   1.025    1.980   \n",
       "2  2021-02-01 02:00:00  5.545   9.287 14.057    1.253   1.140    2.055   \n",
       "3  2021-02-01 03:00:00  5.597   8.979 13.960    0.837   1.325    1.701   \n",
       "4  2021-02-01 04:00:00  5.442   9.777 14.307    0.725   1.297    1.807   \n",
       "\n",
       "   Salihli  Çiğli  Menderes  Alaşehir  Demirci  Güzelyalı  Kula  Ödemiş  Soma  \\\n",
       "0    3.142  9.162     2.894       NaN      NaN        NaN   NaN     NaN   NaN   \n",
       "1    3.294  9.380     3.014       NaN      NaN        NaN   NaN     NaN   NaN   \n",
       "2    3.447  9.606     3.141       NaN      NaN        NaN   NaN     NaN   NaN   \n",
       "3    3.911  9.755     2.880       NaN      NaN        NaN   NaN     NaN   NaN   \n",
       "4    3.848  9.759     2.971       NaN      NaN        NaN   NaN     NaN   NaN   \n",
       "\n",
       "   Urla  \n",
       "0   NaN  \n",
       "1   NaN  \n",
       "2   NaN  \n",
       "3   NaN  \n",
       "4   NaN  "
      ]
     },
     "execution_count": 182,
     "metadata": {},
     "output_type": "execute_result"
    }
   ],
   "source": [
    "df_ws.head()"
   ]
  },
  {
   "cell_type": "code",
   "execution_count": 183,
   "metadata": {},
   "outputs": [
    {
     "data": {
      "text/plain": [
       "(38832, 17)"
      ]
     },
     "execution_count": 183,
     "metadata": {},
     "output_type": "execute_result"
    }
   ],
   "source": [
    "df_ws.shape"
   ]
  },
  {
   "cell_type": "code",
   "execution_count": 184,
   "metadata": {},
   "outputs": [
    {
     "name": "stdout",
     "output_type": "stream",
     "text": [
      "<class 'pandas.core.frame.DataFrame'>\n",
      "RangeIndex: 38832 entries, 0 to 38831\n",
      "Data columns (total 17 columns):\n",
      " #   Column     Non-Null Count  Dtype  \n",
      "---  ------     --------------  -----  \n",
      " 0   Tarih      38832 non-null  object \n",
      " 1   İzmir      11784 non-null  float64\n",
      " 2   Aliağa     11784 non-null  float64\n",
      " 3   Çeşme      38832 non-null  float64\n",
      " 4   Bergama    11784 non-null  float64\n",
      " 5   Manisa     38832 non-null  float64\n",
      " 6   Akhisar    38832 non-null  float64\n",
      " 7   Salihli    11784 non-null  float64\n",
      " 8   Çiğli      11784 non-null  float64\n",
      " 9   Menderes   11784 non-null  float64\n",
      " 10  Alaşehir   11472 non-null  float64\n",
      " 11  Demirci    11472 non-null  float64\n",
      " 12  Güzelyalı  38520 non-null  float64\n",
      " 13  Kula       11472 non-null  float64\n",
      " 14  Ödemiş     11472 non-null  float64\n",
      " 15  Soma       11472 non-null  float64\n",
      " 16  Urla       11472 non-null  float64\n",
      "dtypes: float64(16), object(1)\n",
      "memory usage: 5.0+ MB\n"
     ]
    }
   ],
   "source": [
    "df_ws.info()"
   ]
  },
  {
   "cell_type": "code",
   "execution_count": 185,
   "metadata": {},
   "outputs": [
    {
     "data": {
      "text/html": [
       "<pre style=\"white-space:pre;overflow-x:auto;line-height:normal;font-family:Menlo,'DejaVu Sans Mono',consolas,'Courier New',monospace\">╭──────────────────────────────────────────────── skimpy summary ─────────────────────────────────────────────────╮\n",
       "│ <span style=\"font-style: italic\">         Data Summary         </span> <span style=\"font-style: italic\">      Data Types       </span>                                                          │\n",
       "│ ┏━━━━━━━━━━━━━━━━━━━┳━━━━━━━━┓ ┏━━━━━━━━━━━━━┳━━━━━━━┓                                                          │\n",
       "│ ┃<span style=\"color: #008080; text-decoration-color: #008080; font-weight: bold\"> dataframe         </span>┃<span style=\"color: #008080; text-decoration-color: #008080; font-weight: bold\"> Values </span>┃ ┃<span style=\"color: #008080; text-decoration-color: #008080; font-weight: bold\"> Column Type </span>┃<span style=\"color: #008080; text-decoration-color: #008080; font-weight: bold\"> Count </span>┃                                                          │\n",
       "│ ┡━━━━━━━━━━━━━━━━━━━╇━━━━━━━━┩ ┡━━━━━━━━━━━━━╇━━━━━━━┩                                                          │\n",
       "│ │ Number of rows    │ 38832  │ │ float64     │ 16    │                                                          │\n",
       "│ │ Number of columns │ 17     │ │ string      │ 1     │                                                          │\n",
       "│ └───────────────────┴────────┘ └─────────────┴───────┘                                                          │\n",
       "│ <span style=\"font-style: italic\">                                                    number                                                    </span>  │\n",
       "│ ┏━━━━━━━━━━━━━━━━━━━┳━━━━━━━━━━┳━━━━━━━━━┳━━━━━━━━━┳━━━━━━━━━┳━━━━━━━━━━┳━━━━━━━━┳━━━━━━━┳━━━━━━━━┳━━━━━━━━━━┓  │\n",
       "│ ┃<span style=\"font-weight: bold\"> column_name       </span>┃<span style=\"font-weight: bold\"> NA       </span>┃<span style=\"font-weight: bold\"> NA %    </span>┃<span style=\"font-weight: bold\"> mean    </span>┃<span style=\"font-weight: bold\"> sd      </span>┃<span style=\"font-weight: bold\"> p0       </span>┃<span style=\"font-weight: bold\"> p25    </span>┃<span style=\"font-weight: bold\"> p75   </span>┃<span style=\"font-weight: bold\"> p100   </span>┃<span style=\"font-weight: bold\"> hist     </span>┃  │\n",
       "│ ┡━━━━━━━━━━━━━━━━━━━╇━━━━━━━━━━╇━━━━━━━━━╇━━━━━━━━━╇━━━━━━━━━╇━━━━━━━━━━╇━━━━━━━━╇━━━━━━━╇━━━━━━━━╇━━━━━━━━━━┩  │\n",
       "│ │ <span style=\"color: #af87ff; text-decoration-color: #af87ff\">İzmir            </span> │ <span style=\"color: #008080; text-decoration-color: #008080\">   27000</span> │ <span style=\"color: #008080; text-decoration-color: #008080\">     70</span> │ <span style=\"color: #008080; text-decoration-color: #008080\">    2.6</span> │ <span style=\"color: #008080; text-decoration-color: #008080\">    1.4</span> │ <span style=\"color: #008080; text-decoration-color: #008080\">   0.054</span> │ <span style=\"color: #008080; text-decoration-color: #008080\">   1.5</span> │ <span style=\"color: #008080; text-decoration-color: #008080\">  3.5</span> │ <span style=\"color: #008080; text-decoration-color: #008080\">    10</span> │ <span style=\"color: #008000; text-decoration-color: #008000\">  ▇█▄▁  </span> │  │\n",
       "│ │ <span style=\"color: #af87ff; text-decoration-color: #af87ff\">Aliağa           </span> │ <span style=\"color: #008080; text-decoration-color: #008080\">   27000</span> │ <span style=\"color: #008080; text-decoration-color: #008080\">     70</span> │ <span style=\"color: #008080; text-decoration-color: #008080\">    4.5</span> │ <span style=\"color: #008080; text-decoration-color: #008080\">    2.5</span> │ <span style=\"color: #008080; text-decoration-color: #008080\">   0.048</span> │ <span style=\"color: #008080; text-decoration-color: #008080\">   2.7</span> │ <span style=\"color: #008080; text-decoration-color: #008080\">  6.2</span> │ <span style=\"color: #008080; text-decoration-color: #008080\">    14</span> │ <span style=\"color: #008000; text-decoration-color: #008000\"> ▄█▅▃▁  </span> │  │\n",
       "│ │ <span style=\"color: #af87ff; text-decoration-color: #af87ff\">Çeşme            </span> │ <span style=\"color: #008080; text-decoration-color: #008080\">       0</span> │ <span style=\"color: #008080; text-decoration-color: #008080\">      0</span> │ <span style=\"color: #008080; text-decoration-color: #008080\">      5</span> │ <span style=\"color: #008080; text-decoration-color: #008080\">      3</span> │ <span style=\"color: #008080; text-decoration-color: #008080\">       0</span> │ <span style=\"color: #008080; text-decoration-color: #008080\">   2.6</span> │ <span style=\"color: #008080; text-decoration-color: #008080\">  6.9</span> │ <span style=\"color: #008080; text-decoration-color: #008080\">    18</span> │ <span style=\"color: #008000; text-decoration-color: #008000\">  ▆█▅▂  </span> │  │\n",
       "│ │ <span style=\"color: #af87ff; text-decoration-color: #af87ff\">Bergama          </span> │ <span style=\"color: #008080; text-decoration-color: #008080\">   27000</span> │ <span style=\"color: #008080; text-decoration-color: #008080\">     70</span> │ <span style=\"color: #008080; text-decoration-color: #008080\">    2.8</span> │ <span style=\"color: #008080; text-decoration-color: #008080\">    1.8</span> │ <span style=\"color: #008080; text-decoration-color: #008080\">   0.044</span> │ <span style=\"color: #008080; text-decoration-color: #008080\">   1.3</span> │ <span style=\"color: #008080; text-decoration-color: #008080\">  4.1</span> │ <span style=\"color: #008080; text-decoration-color: #008080\">    10</span> │ <span style=\"color: #008000; text-decoration-color: #008000\">  █▆▄▂  </span> │  │\n",
       "│ │ <span style=\"color: #af87ff; text-decoration-color: #af87ff\">Manisa           </span> │ <span style=\"color: #008080; text-decoration-color: #008080\">       0</span> │ <span style=\"color: #008080; text-decoration-color: #008080\">      0</span> │ <span style=\"color: #008080; text-decoration-color: #008080\">    1.6</span> │ <span style=\"color: #008080; text-decoration-color: #008080\">    1.1</span> │ <span style=\"color: #008080; text-decoration-color: #008080\">       0</span> │ <span style=\"color: #008080; text-decoration-color: #008080\">  0.81</span> │ <span style=\"color: #008080; text-decoration-color: #008080\">  2.2</span> │ <span style=\"color: #008080; text-decoration-color: #008080\">     8</span> │ <span style=\"color: #008000; text-decoration-color: #008000\">  █▆▂   </span> │  │\n",
       "│ │ <span style=\"color: #af87ff; text-decoration-color: #af87ff\">Akhisar          </span> │ <span style=\"color: #008080; text-decoration-color: #008080\">       0</span> │ <span style=\"color: #008080; text-decoration-color: #008080\">      0</span> │ <span style=\"color: #008080; text-decoration-color: #008080\">    2.4</span> │ <span style=\"color: #008080; text-decoration-color: #008080\">    1.7</span> │ <span style=\"color: #008080; text-decoration-color: #008080\">       0</span> │ <span style=\"color: #008080; text-decoration-color: #008080\">   1.1</span> │ <span style=\"color: #008080; text-decoration-color: #008080\">  3.3</span> │ <span style=\"color: #008080; text-decoration-color: #008080\">    14</span> │ <span style=\"color: #008000; text-decoration-color: #008000\">  █▄▁   </span> │  │\n",
       "│ │ <span style=\"color: #af87ff; text-decoration-color: #af87ff\">Salihli          </span> │ <span style=\"color: #008080; text-decoration-color: #008080\">   27000</span> │ <span style=\"color: #008080; text-decoration-color: #008080\">     70</span> │ <span style=\"color: #008080; text-decoration-color: #008080\">    1.7</span> │ <span style=\"color: #008080; text-decoration-color: #008080\">   0.97</span> │ <span style=\"color: #008080; text-decoration-color: #008080\">   0.004</span> │ <span style=\"color: #008080; text-decoration-color: #008080\">  0.99</span> │ <span style=\"color: #008080; text-decoration-color: #008080\">  2.3</span> │ <span style=\"color: #008080; text-decoration-color: #008080\">   6.9</span> │ <span style=\"color: #008000; text-decoration-color: #008000\">  ▆█▃▁  </span> │  │\n",
       "│ │ <span style=\"color: #af87ff; text-decoration-color: #af87ff\">Çiğli            </span> │ <span style=\"color: #008080; text-decoration-color: #008080\">   27000</span> │ <span style=\"color: #008080; text-decoration-color: #008080\">     70</span> │ <span style=\"color: #008080; text-decoration-color: #008080\">    3.6</span> │ <span style=\"color: #008080; text-decoration-color: #008080\">      2</span> │ <span style=\"color: #008080; text-decoration-color: #008080\">   0.043</span> │ <span style=\"color: #008080; text-decoration-color: #008080\">   2.1</span> │ <span style=\"color: #008080; text-decoration-color: #008080\">  4.8</span> │ <span style=\"color: #008080; text-decoration-color: #008080\">    14</span> │ <span style=\"color: #008000; text-decoration-color: #008000\">  ▆█▄▁  </span> │  │\n",
       "│ │ <span style=\"color: #af87ff; text-decoration-color: #af87ff\">Menderes         </span> │ <span style=\"color: #008080; text-decoration-color: #008080\">   27000</span> │ <span style=\"color: #008080; text-decoration-color: #008080\">     70</span> │ <span style=\"color: #008080; text-decoration-color: #008080\">    2.8</span> │ <span style=\"color: #008080; text-decoration-color: #008080\">    1.6</span> │ <span style=\"color: #008080; text-decoration-color: #008080\">    0.04</span> │ <span style=\"color: #008080; text-decoration-color: #008080\">   1.4</span> │ <span style=\"color: #008080; text-decoration-color: #008080\">  3.8</span> │ <span style=\"color: #008080; text-decoration-color: #008080\">    11</span> │ <span style=\"color: #008000; text-decoration-color: #008000\">  ██▅▁  </span> │  │\n",
       "│ │ <span style=\"color: #af87ff; text-decoration-color: #af87ff\">Alaşehir         </span> │ <span style=\"color: #008080; text-decoration-color: #008080\">   27000</span> │ <span style=\"color: #008080; text-decoration-color: #008080\">     70</span> │ <span style=\"color: #008080; text-decoration-color: #008080\">    1.4</span> │ <span style=\"color: #008080; text-decoration-color: #008080\">   0.92</span> │ <span style=\"color: #008080; text-decoration-color: #008080\">   0.003</span> │ <span style=\"color: #008080; text-decoration-color: #008080\">  0.65</span> │ <span style=\"color: #008080; text-decoration-color: #008080\">  1.9</span> │ <span style=\"color: #008080; text-decoration-color: #008080\">   6.1</span> │ <span style=\"color: #008000; text-decoration-color: #008000\">  █▆▃▁  </span> │  │\n",
       "│ │ <span style=\"color: #af87ff; text-decoration-color: #af87ff\">Demirci          </span> │ <span style=\"color: #008080; text-decoration-color: #008080\">   27000</span> │ <span style=\"color: #008080; text-decoration-color: #008080\">     70</span> │ <span style=\"color: #008080; text-decoration-color: #008080\">    1.7</span> │ <span style=\"color: #008080; text-decoration-color: #008080\">   0.87</span> │ <span style=\"color: #008080; text-decoration-color: #008080\">   0.015</span> │ <span style=\"color: #008080; text-decoration-color: #008080\">   1.1</span> │ <span style=\"color: #008080; text-decoration-color: #008080\">  2.2</span> │ <span style=\"color: #008080; text-decoration-color: #008080\">   7.3</span> │ <span style=\"color: #008000; text-decoration-color: #008000\">  ▅█▂   </span> │  │\n",
       "│ │ <span style=\"color: #af87ff; text-decoration-color: #af87ff\">Güzelyalı        </span> │ <span style=\"color: #008080; text-decoration-color: #008080\">     310</span> │ <span style=\"color: #008080; text-decoration-color: #008080\">    0.8</span> │ <span style=\"color: #008080; text-decoration-color: #008080\">    2.7</span> │ <span style=\"color: #008080; text-decoration-color: #008080\">    1.4</span> │ <span style=\"color: #008080; text-decoration-color: #008080\">       0</span> │ <span style=\"color: #008080; text-decoration-color: #008080\">   1.6</span> │ <span style=\"color: #008080; text-decoration-color: #008080\">  3.6</span> │ <span style=\"color: #008080; text-decoration-color: #008080\">    12</span> │ <span style=\"color: #008000; text-decoration-color: #008000\">  ▆█▃   </span> │  │\n",
       "│ │ <span style=\"color: #af87ff; text-decoration-color: #af87ff\">Kula             </span> │ <span style=\"color: #008080; text-decoration-color: #008080\">   27000</span> │ <span style=\"color: #008080; text-decoration-color: #008080\">     70</span> │ <span style=\"color: #008080; text-decoration-color: #008080\">    1.9</span> │ <span style=\"color: #008080; text-decoration-color: #008080\">    1.1</span> │ <span style=\"color: #008080; text-decoration-color: #008080\">    0.02</span> │ <span style=\"color: #008080; text-decoration-color: #008080\">   1.1</span> │ <span style=\"color: #008080; text-decoration-color: #008080\">  2.4</span> │ <span style=\"color: #008080; text-decoration-color: #008080\">   8.7</span> │ <span style=\"color: #008000; text-decoration-color: #008000\">  ▇█▂   </span> │  │\n",
       "│ │ <span style=\"color: #af87ff; text-decoration-color: #af87ff\">Ödemiş           </span> │ <span style=\"color: #008080; text-decoration-color: #008080\">   27000</span> │ <span style=\"color: #008080; text-decoration-color: #008080\">     70</span> │ <span style=\"color: #008080; text-decoration-color: #008080\">    1.4</span> │ <span style=\"color: #008080; text-decoration-color: #008080\">   0.73</span> │ <span style=\"color: #008080; text-decoration-color: #008080\">   0.028</span> │ <span style=\"color: #008080; text-decoration-color: #008080\">  0.88</span> │ <span style=\"color: #008080; text-decoration-color: #008080\">  1.8</span> │ <span style=\"color: #008080; text-decoration-color: #008080\">   5.8</span> │ <span style=\"color: #008000; text-decoration-color: #008000\">  ▅█▃▁  </span> │  │\n",
       "│ │ <span style=\"color: #af87ff; text-decoration-color: #af87ff\">Soma             </span> │ <span style=\"color: #008080; text-decoration-color: #008080\">   27000</span> │ <span style=\"color: #008080; text-decoration-color: #008080\">     70</span> │ <span style=\"color: #008080; text-decoration-color: #008080\">      2</span> │ <span style=\"color: #008080; text-decoration-color: #008080\">    1.2</span> │ <span style=\"color: #008080; text-decoration-color: #008080\">    0.02</span> │ <span style=\"color: #008080; text-decoration-color: #008080\">     1</span> │ <span style=\"color: #008080; text-decoration-color: #008080\">  2.9</span> │ <span style=\"color: #008080; text-decoration-color: #008080\">   7.7</span> │ <span style=\"color: #008000; text-decoration-color: #008000\">  █▇▅▂  </span> │  │\n",
       "│ │ <span style=\"color: #af87ff; text-decoration-color: #af87ff\">Urla             </span> │ <span style=\"color: #008080; text-decoration-color: #008080\">   27000</span> │ <span style=\"color: #008080; text-decoration-color: #008080\">     70</span> │ <span style=\"color: #008080; text-decoration-color: #008080\">      4</span> │ <span style=\"color: #008080; text-decoration-color: #008080\">    2.4</span> │ <span style=\"color: #008080; text-decoration-color: #008080\">   0.018</span> │ <span style=\"color: #008080; text-decoration-color: #008080\">   2.1</span> │ <span style=\"color: #008080; text-decoration-color: #008080\">  5.7</span> │ <span style=\"color: #008080; text-decoration-color: #008080\">    14</span> │ <span style=\"color: #008000; text-decoration-color: #008000\">  ▇█▆▂  </span> │  │\n",
       "│ └───────────────────┴──────────┴─────────┴─────────┴─────────┴──────────┴────────┴───────┴────────┴──────────┘  │\n",
       "│ <span style=\"font-style: italic\">                                                    string                                                    </span>  │\n",
       "│ ┏━━━━━━━━━━━━━━━━━━━━━━━━━━━┳━━━━━━━━━┳━━━━━━━━━━━━┳━━━━━━━━━━━━━━━━━━━━━━━━━━━━━━┳━━━━━━━━━━━━━━━━━━━━━━━━━━┓  │\n",
       "│ ┃<span style=\"font-weight: bold\"> column_name               </span>┃<span style=\"font-weight: bold\"> NA      </span>┃<span style=\"font-weight: bold\"> NA %       </span>┃<span style=\"font-weight: bold\"> words per row                </span>┃<span style=\"font-weight: bold\"> total words              </span>┃  │\n",
       "│ ┡━━━━━━━━━━━━━━━━━━━━━━━━━━━╇━━━━━━━━━╇━━━━━━━━━━━━╇━━━━━━━━━━━━━━━━━━━━━━━━━━━━━━╇━━━━━━━━━━━━━━━━━━━━━━━━━━┩  │\n",
       "│ │ <span style=\"color: #af87ff; text-decoration-color: #af87ff\">Tarih                    </span> │ <span style=\"color: #008080; text-decoration-color: #008080\">      0</span> │ <span style=\"color: #008080; text-decoration-color: #008080\">         0</span> │ <span style=\"color: #008080; text-decoration-color: #008080\">                           2</span> │ <span style=\"color: #008080; text-decoration-color: #008080\">                   78000</span> │  │\n",
       "│ └───────────────────────────┴─────────┴────────────┴──────────────────────────────┴──────────────────────────┘  │\n",
       "╰────────────────────────────────────────────────────── End ──────────────────────────────────────────────────────╯\n",
       "</pre>\n"
      ],
      "text/plain": [
       "╭──────────────────────────────────────────────── skimpy summary ─────────────────────────────────────────────────╮\n",
       "│ \u001b[3m         Data Summary         \u001b[0m \u001b[3m      Data Types       \u001b[0m                                                          │\n",
       "│ ┏━━━━━━━━━━━━━━━━━━━┳━━━━━━━━┓ ┏━━━━━━━━━━━━━┳━━━━━━━┓                                                          │\n",
       "│ ┃\u001b[1;36m \u001b[0m\u001b[1;36mdataframe        \u001b[0m\u001b[1;36m \u001b[0m┃\u001b[1;36m \u001b[0m\u001b[1;36mValues\u001b[0m\u001b[1;36m \u001b[0m┃ ┃\u001b[1;36m \u001b[0m\u001b[1;36mColumn Type\u001b[0m\u001b[1;36m \u001b[0m┃\u001b[1;36m \u001b[0m\u001b[1;36mCount\u001b[0m\u001b[1;36m \u001b[0m┃                                                          │\n",
       "│ ┡━━━━━━━━━━━━━━━━━━━╇━━━━━━━━┩ ┡━━━━━━━━━━━━━╇━━━━━━━┩                                                          │\n",
       "│ │ Number of rows    │ 38832  │ │ float64     │ 16    │                                                          │\n",
       "│ │ Number of columns │ 17     │ │ string      │ 1     │                                                          │\n",
       "│ └───────────────────┴────────┘ └─────────────┴───────┘                                                          │\n",
       "│ \u001b[3m                                                    number                                                    \u001b[0m  │\n",
       "│ ┏━━━━━━━━━━━━━━━━━━━┳━━━━━━━━━━┳━━━━━━━━━┳━━━━━━━━━┳━━━━━━━━━┳━━━━━━━━━━┳━━━━━━━━┳━━━━━━━┳━━━━━━━━┳━━━━━━━━━━┓  │\n",
       "│ ┃\u001b[1m \u001b[0m\u001b[1mcolumn_name      \u001b[0m\u001b[1m \u001b[0m┃\u001b[1m \u001b[0m\u001b[1mNA      \u001b[0m\u001b[1m \u001b[0m┃\u001b[1m \u001b[0m\u001b[1mNA %   \u001b[0m\u001b[1m \u001b[0m┃\u001b[1m \u001b[0m\u001b[1mmean   \u001b[0m\u001b[1m \u001b[0m┃\u001b[1m \u001b[0m\u001b[1msd     \u001b[0m\u001b[1m \u001b[0m┃\u001b[1m \u001b[0m\u001b[1mp0      \u001b[0m\u001b[1m \u001b[0m┃\u001b[1m \u001b[0m\u001b[1mp25   \u001b[0m\u001b[1m \u001b[0m┃\u001b[1m \u001b[0m\u001b[1mp75  \u001b[0m\u001b[1m \u001b[0m┃\u001b[1m \u001b[0m\u001b[1mp100  \u001b[0m\u001b[1m \u001b[0m┃\u001b[1m \u001b[0m\u001b[1mhist    \u001b[0m\u001b[1m \u001b[0m┃  │\n",
       "│ ┡━━━━━━━━━━━━━━━━━━━╇━━━━━━━━━━╇━━━━━━━━━╇━━━━━━━━━╇━━━━━━━━━╇━━━━━━━━━━╇━━━━━━━━╇━━━━━━━╇━━━━━━━━╇━━━━━━━━━━┩  │\n",
       "│ │ \u001b[38;5;141mİzmir            \u001b[0m │ \u001b[36m   27000\u001b[0m │ \u001b[36m     70\u001b[0m │ \u001b[36m    2.6\u001b[0m │ \u001b[36m    1.4\u001b[0m │ \u001b[36m   0.054\u001b[0m │ \u001b[36m   1.5\u001b[0m │ \u001b[36m  3.5\u001b[0m │ \u001b[36m    10\u001b[0m │ \u001b[32m  ▇█▄▁  \u001b[0m │  │\n",
       "│ │ \u001b[38;5;141mAliağa           \u001b[0m │ \u001b[36m   27000\u001b[0m │ \u001b[36m     70\u001b[0m │ \u001b[36m    4.5\u001b[0m │ \u001b[36m    2.5\u001b[0m │ \u001b[36m   0.048\u001b[0m │ \u001b[36m   2.7\u001b[0m │ \u001b[36m  6.2\u001b[0m │ \u001b[36m    14\u001b[0m │ \u001b[32m ▄█▅▃▁  \u001b[0m │  │\n",
       "│ │ \u001b[38;5;141mÇeşme            \u001b[0m │ \u001b[36m       0\u001b[0m │ \u001b[36m      0\u001b[0m │ \u001b[36m      5\u001b[0m │ \u001b[36m      3\u001b[0m │ \u001b[36m       0\u001b[0m │ \u001b[36m   2.6\u001b[0m │ \u001b[36m  6.9\u001b[0m │ \u001b[36m    18\u001b[0m │ \u001b[32m  ▆█▅▂  \u001b[0m │  │\n",
       "│ │ \u001b[38;5;141mBergama          \u001b[0m │ \u001b[36m   27000\u001b[0m │ \u001b[36m     70\u001b[0m │ \u001b[36m    2.8\u001b[0m │ \u001b[36m    1.8\u001b[0m │ \u001b[36m   0.044\u001b[0m │ \u001b[36m   1.3\u001b[0m │ \u001b[36m  4.1\u001b[0m │ \u001b[36m    10\u001b[0m │ \u001b[32m  █▆▄▂  \u001b[0m │  │\n",
       "│ │ \u001b[38;5;141mManisa           \u001b[0m │ \u001b[36m       0\u001b[0m │ \u001b[36m      0\u001b[0m │ \u001b[36m    1.6\u001b[0m │ \u001b[36m    1.1\u001b[0m │ \u001b[36m       0\u001b[0m │ \u001b[36m  0.81\u001b[0m │ \u001b[36m  2.2\u001b[0m │ \u001b[36m     8\u001b[0m │ \u001b[32m  █▆▂   \u001b[0m │  │\n",
       "│ │ \u001b[38;5;141mAkhisar          \u001b[0m │ \u001b[36m       0\u001b[0m │ \u001b[36m      0\u001b[0m │ \u001b[36m    2.4\u001b[0m │ \u001b[36m    1.7\u001b[0m │ \u001b[36m       0\u001b[0m │ \u001b[36m   1.1\u001b[0m │ \u001b[36m  3.3\u001b[0m │ \u001b[36m    14\u001b[0m │ \u001b[32m  █▄▁   \u001b[0m │  │\n",
       "│ │ \u001b[38;5;141mSalihli          \u001b[0m │ \u001b[36m   27000\u001b[0m │ \u001b[36m     70\u001b[0m │ \u001b[36m    1.7\u001b[0m │ \u001b[36m   0.97\u001b[0m │ \u001b[36m   0.004\u001b[0m │ \u001b[36m  0.99\u001b[0m │ \u001b[36m  2.3\u001b[0m │ \u001b[36m   6.9\u001b[0m │ \u001b[32m  ▆█▃▁  \u001b[0m │  │\n",
       "│ │ \u001b[38;5;141mÇiğli            \u001b[0m │ \u001b[36m   27000\u001b[0m │ \u001b[36m     70\u001b[0m │ \u001b[36m    3.6\u001b[0m │ \u001b[36m      2\u001b[0m │ \u001b[36m   0.043\u001b[0m │ \u001b[36m   2.1\u001b[0m │ \u001b[36m  4.8\u001b[0m │ \u001b[36m    14\u001b[0m │ \u001b[32m  ▆█▄▁  \u001b[0m │  │\n",
       "│ │ \u001b[38;5;141mMenderes         \u001b[0m │ \u001b[36m   27000\u001b[0m │ \u001b[36m     70\u001b[0m │ \u001b[36m    2.8\u001b[0m │ \u001b[36m    1.6\u001b[0m │ \u001b[36m    0.04\u001b[0m │ \u001b[36m   1.4\u001b[0m │ \u001b[36m  3.8\u001b[0m │ \u001b[36m    11\u001b[0m │ \u001b[32m  ██▅▁  \u001b[0m │  │\n",
       "│ │ \u001b[38;5;141mAlaşehir         \u001b[0m │ \u001b[36m   27000\u001b[0m │ \u001b[36m     70\u001b[0m │ \u001b[36m    1.4\u001b[0m │ \u001b[36m   0.92\u001b[0m │ \u001b[36m   0.003\u001b[0m │ \u001b[36m  0.65\u001b[0m │ \u001b[36m  1.9\u001b[0m │ \u001b[36m   6.1\u001b[0m │ \u001b[32m  █▆▃▁  \u001b[0m │  │\n",
       "│ │ \u001b[38;5;141mDemirci          \u001b[0m │ \u001b[36m   27000\u001b[0m │ \u001b[36m     70\u001b[0m │ \u001b[36m    1.7\u001b[0m │ \u001b[36m   0.87\u001b[0m │ \u001b[36m   0.015\u001b[0m │ \u001b[36m   1.1\u001b[0m │ \u001b[36m  2.2\u001b[0m │ \u001b[36m   7.3\u001b[0m │ \u001b[32m  ▅█▂   \u001b[0m │  │\n",
       "│ │ \u001b[38;5;141mGüzelyalı        \u001b[0m │ \u001b[36m     310\u001b[0m │ \u001b[36m    0.8\u001b[0m │ \u001b[36m    2.7\u001b[0m │ \u001b[36m    1.4\u001b[0m │ \u001b[36m       0\u001b[0m │ \u001b[36m   1.6\u001b[0m │ \u001b[36m  3.6\u001b[0m │ \u001b[36m    12\u001b[0m │ \u001b[32m  ▆█▃   \u001b[0m │  │\n",
       "│ │ \u001b[38;5;141mKula             \u001b[0m │ \u001b[36m   27000\u001b[0m │ \u001b[36m     70\u001b[0m │ \u001b[36m    1.9\u001b[0m │ \u001b[36m    1.1\u001b[0m │ \u001b[36m    0.02\u001b[0m │ \u001b[36m   1.1\u001b[0m │ \u001b[36m  2.4\u001b[0m │ \u001b[36m   8.7\u001b[0m │ \u001b[32m  ▇█▂   \u001b[0m │  │\n",
       "│ │ \u001b[38;5;141mÖdemiş           \u001b[0m │ \u001b[36m   27000\u001b[0m │ \u001b[36m     70\u001b[0m │ \u001b[36m    1.4\u001b[0m │ \u001b[36m   0.73\u001b[0m │ \u001b[36m   0.028\u001b[0m │ \u001b[36m  0.88\u001b[0m │ \u001b[36m  1.8\u001b[0m │ \u001b[36m   5.8\u001b[0m │ \u001b[32m  ▅█▃▁  \u001b[0m │  │\n",
       "│ │ \u001b[38;5;141mSoma             \u001b[0m │ \u001b[36m   27000\u001b[0m │ \u001b[36m     70\u001b[0m │ \u001b[36m      2\u001b[0m │ \u001b[36m    1.2\u001b[0m │ \u001b[36m    0.02\u001b[0m │ \u001b[36m     1\u001b[0m │ \u001b[36m  2.9\u001b[0m │ \u001b[36m   7.7\u001b[0m │ \u001b[32m  █▇▅▂  \u001b[0m │  │\n",
       "│ │ \u001b[38;5;141mUrla             \u001b[0m │ \u001b[36m   27000\u001b[0m │ \u001b[36m     70\u001b[0m │ \u001b[36m      4\u001b[0m │ \u001b[36m    2.4\u001b[0m │ \u001b[36m   0.018\u001b[0m │ \u001b[36m   2.1\u001b[0m │ \u001b[36m  5.7\u001b[0m │ \u001b[36m    14\u001b[0m │ \u001b[32m  ▇█▆▂  \u001b[0m │  │\n",
       "│ └───────────────────┴──────────┴─────────┴─────────┴─────────┴──────────┴────────┴───────┴────────┴──────────┘  │\n",
       "│ \u001b[3m                                                    string                                                    \u001b[0m  │\n",
       "│ ┏━━━━━━━━━━━━━━━━━━━━━━━━━━━┳━━━━━━━━━┳━━━━━━━━━━━━┳━━━━━━━━━━━━━━━━━━━━━━━━━━━━━━┳━━━━━━━━━━━━━━━━━━━━━━━━━━┓  │\n",
       "│ ┃\u001b[1m \u001b[0m\u001b[1mcolumn_name              \u001b[0m\u001b[1m \u001b[0m┃\u001b[1m \u001b[0m\u001b[1mNA     \u001b[0m\u001b[1m \u001b[0m┃\u001b[1m \u001b[0m\u001b[1mNA %      \u001b[0m\u001b[1m \u001b[0m┃\u001b[1m \u001b[0m\u001b[1mwords per row               \u001b[0m\u001b[1m \u001b[0m┃\u001b[1m \u001b[0m\u001b[1mtotal words             \u001b[0m\u001b[1m \u001b[0m┃  │\n",
       "│ ┡━━━━━━━━━━━━━━━━━━━━━━━━━━━╇━━━━━━━━━╇━━━━━━━━━━━━╇━━━━━━━━━━━━━━━━━━━━━━━━━━━━━━╇━━━━━━━━━━━━━━━━━━━━━━━━━━┩  │\n",
       "│ │ \u001b[38;5;141mTarih                    \u001b[0m │ \u001b[36m      0\u001b[0m │ \u001b[36m         0\u001b[0m │ \u001b[36m                           2\u001b[0m │ \u001b[36m                   78000\u001b[0m │  │\n",
       "│ └───────────────────────────┴─────────┴────────────┴──────────────────────────────┴──────────────────────────┘  │\n",
       "╰────────────────────────────────────────────────────── End ──────────────────────────────────────────────────────╯\n"
      ]
     },
     "metadata": {},
     "output_type": "display_data"
    }
   ],
   "source": [
    "skim(df_ws)"
   ]
  },
  {
   "cell_type": "markdown",
   "metadata": {},
   "source": [
    "### **<span style='color:turquoise'> Wind Direction </span>** "
   ]
  },
  {
   "cell_type": "markdown",
   "metadata": {},
   "source": [
    "unit = `rad`, clock-wise starting from north"
   ]
  },
  {
   "cell_type": "code",
   "execution_count": 186,
   "metadata": {},
   "outputs": [],
   "source": [
    "df7 = pd.read_csv(\"Weather_Ruzgar-Yonu.csv\")\n",
    "df_wd = df7.copy()"
   ]
  },
  {
   "cell_type": "code",
   "execution_count": 187,
   "metadata": {},
   "outputs": [
    {
     "data": {
      "text/html": [
       "<div>\n",
       "<style scoped>\n",
       "    .dataframe tbody tr th:only-of-type {\n",
       "        vertical-align: middle;\n",
       "    }\n",
       "\n",
       "    .dataframe tbody tr th {\n",
       "        vertical-align: top;\n",
       "    }\n",
       "\n",
       "    .dataframe thead th {\n",
       "        text-align: right;\n",
       "    }\n",
       "</style>\n",
       "<table border=\"1\" class=\"dataframe\">\n",
       "  <thead>\n",
       "    <tr style=\"text-align: right;\">\n",
       "      <th></th>\n",
       "      <th>Tarih</th>\n",
       "      <th>İzmir</th>\n",
       "      <th>Aliağa</th>\n",
       "      <th>Çeşme</th>\n",
       "      <th>Bergama</th>\n",
       "      <th>Manisa</th>\n",
       "      <th>Akhisar</th>\n",
       "      <th>Salihli</th>\n",
       "      <th>Çiğli</th>\n",
       "      <th>Menderes</th>\n",
       "      <th>Alaşehir</th>\n",
       "      <th>Demirci</th>\n",
       "      <th>Güzelyalı</th>\n",
       "      <th>Kula</th>\n",
       "      <th>Ödemiş</th>\n",
       "      <th>Soma</th>\n",
       "      <th>Urla</th>\n",
       "    </tr>\n",
       "  </thead>\n",
       "  <tbody>\n",
       "    <tr>\n",
       "      <th>0</th>\n",
       "      <td>2021-02-01 00:00:00</td>\n",
       "      <td>2.590</td>\n",
       "      <td>2.764</td>\n",
       "      <td>2.852</td>\n",
       "      <td>1.023</td>\n",
       "      <td>2.399</td>\n",
       "      <td>1.963</td>\n",
       "      <td>3.051</td>\n",
       "      <td>2.815</td>\n",
       "      <td>2.312</td>\n",
       "      <td>NaN</td>\n",
       "      <td>NaN</td>\n",
       "      <td>NaN</td>\n",
       "      <td>NaN</td>\n",
       "      <td>NaN</td>\n",
       "      <td>NaN</td>\n",
       "      <td>NaN</td>\n",
       "    </tr>\n",
       "    <tr>\n",
       "      <th>1</th>\n",
       "      <td>2021-02-01 01:00:00</td>\n",
       "      <td>2.570</td>\n",
       "      <td>2.749</td>\n",
       "      <td>2.839</td>\n",
       "      <td>0.967</td>\n",
       "      <td>2.285</td>\n",
       "      <td>1.980</td>\n",
       "      <td>3.047</td>\n",
       "      <td>2.787</td>\n",
       "      <td>2.258</td>\n",
       "      <td>NaN</td>\n",
       "      <td>NaN</td>\n",
       "      <td>NaN</td>\n",
       "      <td>NaN</td>\n",
       "      <td>NaN</td>\n",
       "      <td>NaN</td>\n",
       "      <td>NaN</td>\n",
       "    </tr>\n",
       "    <tr>\n",
       "      <th>2</th>\n",
       "      <td>2021-02-01 02:00:00</td>\n",
       "      <td>2.551</td>\n",
       "      <td>2.735</td>\n",
       "      <td>2.828</td>\n",
       "      <td>0.926</td>\n",
       "      <td>2.192</td>\n",
       "      <td>1.995</td>\n",
       "      <td>3.043</td>\n",
       "      <td>2.760</td>\n",
       "      <td>2.209</td>\n",
       "      <td>NaN</td>\n",
       "      <td>NaN</td>\n",
       "      <td>NaN</td>\n",
       "      <td>NaN</td>\n",
       "      <td>NaN</td>\n",
       "      <td>NaN</td>\n",
       "      <td>NaN</td>\n",
       "    </tr>\n",
       "    <tr>\n",
       "      <th>3</th>\n",
       "      <td>2021-02-01 03:00:00</td>\n",
       "      <td>2.709</td>\n",
       "      <td>2.834</td>\n",
       "      <td>2.829</td>\n",
       "      <td>0.979</td>\n",
       "      <td>2.888</td>\n",
       "      <td>2.403</td>\n",
       "      <td>3.185</td>\n",
       "      <td>2.855</td>\n",
       "      <td>2.458</td>\n",
       "      <td>NaN</td>\n",
       "      <td>NaN</td>\n",
       "      <td>NaN</td>\n",
       "      <td>NaN</td>\n",
       "      <td>NaN</td>\n",
       "      <td>NaN</td>\n",
       "      <td>NaN</td>\n",
       "    </tr>\n",
       "    <tr>\n",
       "      <th>4</th>\n",
       "      <td>2021-02-01 04:00:00</td>\n",
       "      <td>2.674</td>\n",
       "      <td>2.853</td>\n",
       "      <td>2.849</td>\n",
       "      <td>1.216</td>\n",
       "      <td>2.749</td>\n",
       "      <td>2.265</td>\n",
       "      <td>3.134</td>\n",
       "      <td>2.836</td>\n",
       "      <td>2.442</td>\n",
       "      <td>NaN</td>\n",
       "      <td>NaN</td>\n",
       "      <td>NaN</td>\n",
       "      <td>NaN</td>\n",
       "      <td>NaN</td>\n",
       "      <td>NaN</td>\n",
       "      <td>NaN</td>\n",
       "    </tr>\n",
       "  </tbody>\n",
       "</table>\n",
       "</div>"
      ],
      "text/plain": [
       "                 Tarih  İzmir  Aliağa  Çeşme  Bergama  Manisa  Akhisar  \\\n",
       "0  2021-02-01 00:00:00  2.590   2.764  2.852    1.023   2.399    1.963   \n",
       "1  2021-02-01 01:00:00  2.570   2.749  2.839    0.967   2.285    1.980   \n",
       "2  2021-02-01 02:00:00  2.551   2.735  2.828    0.926   2.192    1.995   \n",
       "3  2021-02-01 03:00:00  2.709   2.834  2.829    0.979   2.888    2.403   \n",
       "4  2021-02-01 04:00:00  2.674   2.853  2.849    1.216   2.749    2.265   \n",
       "\n",
       "   Salihli  Çiğli  Menderes  Alaşehir  Demirci  Güzelyalı  Kula  Ödemiş  Soma  \\\n",
       "0    3.051  2.815     2.312       NaN      NaN        NaN   NaN     NaN   NaN   \n",
       "1    3.047  2.787     2.258       NaN      NaN        NaN   NaN     NaN   NaN   \n",
       "2    3.043  2.760     2.209       NaN      NaN        NaN   NaN     NaN   NaN   \n",
       "3    3.185  2.855     2.458       NaN      NaN        NaN   NaN     NaN   NaN   \n",
       "4    3.134  2.836     2.442       NaN      NaN        NaN   NaN     NaN   NaN   \n",
       "\n",
       "   Urla  \n",
       "0   NaN  \n",
       "1   NaN  \n",
       "2   NaN  \n",
       "3   NaN  \n",
       "4   NaN  "
      ]
     },
     "execution_count": 187,
     "metadata": {},
     "output_type": "execute_result"
    }
   ],
   "source": [
    "df_wd.head()"
   ]
  },
  {
   "cell_type": "code",
   "execution_count": 188,
   "metadata": {},
   "outputs": [
    {
     "data": {
      "text/plain": [
       "(38832, 17)"
      ]
     },
     "execution_count": 188,
     "metadata": {},
     "output_type": "execute_result"
    }
   ],
   "source": [
    "df_wd.shape"
   ]
  },
  {
   "cell_type": "code",
   "execution_count": 189,
   "metadata": {},
   "outputs": [
    {
     "name": "stdout",
     "output_type": "stream",
     "text": [
      "<class 'pandas.core.frame.DataFrame'>\n",
      "RangeIndex: 38832 entries, 0 to 38831\n",
      "Data columns (total 17 columns):\n",
      " #   Column     Non-Null Count  Dtype  \n",
      "---  ------     --------------  -----  \n",
      " 0   Tarih      38832 non-null  object \n",
      " 1   İzmir      11784 non-null  float64\n",
      " 2   Aliağa     11784 non-null  float64\n",
      " 3   Çeşme      38832 non-null  float64\n",
      " 4   Bergama    11784 non-null  float64\n",
      " 5   Manisa     38832 non-null  float64\n",
      " 6   Akhisar    38832 non-null  float64\n",
      " 7   Salihli    11784 non-null  float64\n",
      " 8   Çiğli      11784 non-null  float64\n",
      " 9   Menderes   11784 non-null  float64\n",
      " 10  Alaşehir   11472 non-null  float64\n",
      " 11  Demirci    11472 non-null  float64\n",
      " 12  Güzelyalı  38520 non-null  float64\n",
      " 13  Kula       11472 non-null  float64\n",
      " 14  Ödemiş     11472 non-null  float64\n",
      " 15  Soma       11472 non-null  float64\n",
      " 16  Urla       11472 non-null  float64\n",
      "dtypes: float64(16), object(1)\n",
      "memory usage: 5.0+ MB\n"
     ]
    }
   ],
   "source": [
    "df_wd.info()"
   ]
  },
  {
   "cell_type": "code",
   "execution_count": 190,
   "metadata": {},
   "outputs": [
    {
     "data": {
      "text/html": [
       "<pre style=\"white-space:pre;overflow-x:auto;line-height:normal;font-family:Menlo,'DejaVu Sans Mono',consolas,'Courier New',monospace\">╭──────────────────────────────────────────────── skimpy summary ─────────────────────────────────────────────────╮\n",
       "│ <span style=\"font-style: italic\">         Data Summary         </span> <span style=\"font-style: italic\">      Data Types       </span>                                                          │\n",
       "│ ┏━━━━━━━━━━━━━━━━━━━┳━━━━━━━━┓ ┏━━━━━━━━━━━━━┳━━━━━━━┓                                                          │\n",
       "│ ┃<span style=\"color: #008080; text-decoration-color: #008080; font-weight: bold\"> dataframe         </span>┃<span style=\"color: #008080; text-decoration-color: #008080; font-weight: bold\"> Values </span>┃ ┃<span style=\"color: #008080; text-decoration-color: #008080; font-weight: bold\"> Column Type </span>┃<span style=\"color: #008080; text-decoration-color: #008080; font-weight: bold\"> Count </span>┃                                                          │\n",
       "│ ┡━━━━━━━━━━━━━━━━━━━╇━━━━━━━━┩ ┡━━━━━━━━━━━━━╇━━━━━━━┩                                                          │\n",
       "│ │ Number of rows    │ 38832  │ │ float64     │ 16    │                                                          │\n",
       "│ │ Number of columns │ 17     │ │ string      │ 1     │                                                          │\n",
       "│ └───────────────────┴────────┘ └─────────────┴───────┘                                                          │\n",
       "│ <span style=\"font-style: italic\">                                                    number                                                    </span>  │\n",
       "│ ┏━━━━━━━━━━━━━━━━━━━┳━━━━━━━━━━┳━━━━━━━━━┳━━━━━━━━━┳━━━━━━━━┳━━━━━━━━━━┳━━━━━━━━━┳━━━━━━━┳━━━━━━━━┳━━━━━━━━━━┓  │\n",
       "│ ┃<span style=\"font-weight: bold\"> column_name       </span>┃<span style=\"font-weight: bold\"> NA       </span>┃<span style=\"font-weight: bold\"> NA %    </span>┃<span style=\"font-weight: bold\"> mean    </span>┃<span style=\"font-weight: bold\"> sd     </span>┃<span style=\"font-weight: bold\"> p0       </span>┃<span style=\"font-weight: bold\"> p25     </span>┃<span style=\"font-weight: bold\"> p75   </span>┃<span style=\"font-weight: bold\"> p100   </span>┃<span style=\"font-weight: bold\"> hist     </span>┃  │\n",
       "│ ┡━━━━━━━━━━━━━━━━━━━╇━━━━━━━━━━╇━━━━━━━━━╇━━━━━━━━━╇━━━━━━━━╇━━━━━━━━━━╇━━━━━━━━━╇━━━━━━━╇━━━━━━━━╇━━━━━━━━━━┩  │\n",
       "│ │ <span style=\"color: #af87ff; text-decoration-color: #af87ff\">İzmir            </span> │ <span style=\"color: #008080; text-decoration-color: #008080\">   27000</span> │ <span style=\"color: #008080; text-decoration-color: #008080\">     70</span> │ <span style=\"color: #008080; text-decoration-color: #008080\">    2.4</span> │ <span style=\"color: #008080; text-decoration-color: #008080\">     2</span> │ <span style=\"color: #008080; text-decoration-color: #008080\">   0.001</span> │ <span style=\"color: #008080; text-decoration-color: #008080\">   0.52</span> │ <span style=\"color: #008080; text-decoration-color: #008080\">  3.7</span> │ <span style=\"color: #008080; text-decoration-color: #008080\">   6.3</span> │ <span style=\"color: #008000; text-decoration-color: #008000\"> █▃▃▂▁▃ </span> │  │\n",
       "│ │ <span style=\"color: #af87ff; text-decoration-color: #af87ff\">Aliağa           </span> │ <span style=\"color: #008080; text-decoration-color: #008080\">   27000</span> │ <span style=\"color: #008080; text-decoration-color: #008080\">     70</span> │ <span style=\"color: #008080; text-decoration-color: #008080\">    2.2</span> │ <span style=\"color: #008080; text-decoration-color: #008080\">   1.7</span> │ <span style=\"color: #008080; text-decoration-color: #008080\">       0</span> │ <span style=\"color: #008080; text-decoration-color: #008080\">   0.72</span> │ <span style=\"color: #008080; text-decoration-color: #008080\">  3.4</span> │ <span style=\"color: #008080; text-decoration-color: #008080\">   6.3</span> │ <span style=\"color: #008000; text-decoration-color: #008000\"> █▄▂▂▂▁ </span> │  │\n",
       "│ │ <span style=\"color: #af87ff; text-decoration-color: #af87ff\">Çeşme            </span> │ <span style=\"color: #008080; text-decoration-color: #008080\">       0</span> │ <span style=\"color: #008080; text-decoration-color: #008080\">      0</span> │ <span style=\"color: #008080; text-decoration-color: #008080\">    2.6</span> │ <span style=\"color: #008080; text-decoration-color: #008080\">   2.2</span> │ <span style=\"color: #008080; text-decoration-color: #008080\">       0</span> │ <span style=\"color: #008080; text-decoration-color: #008080\">   0.38</span> │ <span style=\"color: #008080; text-decoration-color: #008080\">  4.1</span> │ <span style=\"color: #008080; text-decoration-color: #008080\">   6.3</span> │ <span style=\"color: #008000; text-decoration-color: #008000\"> █▁▃▃▁▄ </span> │  │\n",
       "│ │ <span style=\"color: #af87ff; text-decoration-color: #af87ff\">Bergama          </span> │ <span style=\"color: #008080; text-decoration-color: #008080\">   27000</span> │ <span style=\"color: #008080; text-decoration-color: #008080\">     70</span> │ <span style=\"color: #008080; text-decoration-color: #008080\">    1.8</span> │ <span style=\"color: #008080; text-decoration-color: #008080\">   1.7</span> │ <span style=\"color: #008080; text-decoration-color: #008080\">   0.001</span> │ <span style=\"color: #008080; text-decoration-color: #008080\">   0.73</span> │ <span style=\"color: #008080; text-decoration-color: #008080\">  3.5</span> │ <span style=\"color: #008080; text-decoration-color: #008080\">   6.3</span> │ <span style=\"color: #008000; text-decoration-color: #008000\"> █▁ ▂▁▁ </span> │  │\n",
       "│ │ <span style=\"color: #af87ff; text-decoration-color: #af87ff\">Manisa           </span> │ <span style=\"color: #008080; text-decoration-color: #008080\">       0</span> │ <span style=\"color: #008080; text-decoration-color: #008080\">      0</span> │ <span style=\"color: #008080; text-decoration-color: #008080\">    2.4</span> │ <span style=\"color: #008080; text-decoration-color: #008080\">   1.7</span> │ <span style=\"color: #008080; text-decoration-color: #008080\">       0</span> │ <span style=\"color: #008080; text-decoration-color: #008080\">   0.86</span> │ <span style=\"color: #008080; text-decoration-color: #008080\">  3.8</span> │ <span style=\"color: #008080; text-decoration-color: #008080\">   6.3</span> │ <span style=\"color: #008000; text-decoration-color: #008000\"> █▅▃▄▃▂ </span> │  │\n",
       "│ │ <span style=\"color: #af87ff; text-decoration-color: #af87ff\">Akhisar          </span> │ <span style=\"color: #008080; text-decoration-color: #008080\">       0</span> │ <span style=\"color: #008080; text-decoration-color: #008080\">      0</span> │ <span style=\"color: #008080; text-decoration-color: #008080\">    2.7</span> │ <span style=\"color: #008080; text-decoration-color: #008080\">   2.2</span> │ <span style=\"color: #008080; text-decoration-color: #008080\">       0</span> │ <span style=\"color: #008080; text-decoration-color: #008080\">   0.46</span> │ <span style=\"color: #008080; text-decoration-color: #008080\">  4.9</span> │ <span style=\"color: #008080; text-decoration-color: #008080\">   6.3</span> │ <span style=\"color: #008000; text-decoration-color: #008000\"> █▃▂▂▂▅ </span> │  │\n",
       "│ │ <span style=\"color: #af87ff; text-decoration-color: #af87ff\">Salihli          </span> │ <span style=\"color: #008080; text-decoration-color: #008080\">   27000</span> │ <span style=\"color: #008080; text-decoration-color: #008080\">     70</span> │ <span style=\"color: #008080; text-decoration-color: #008080\">    3.2</span> │ <span style=\"color: #008080; text-decoration-color: #008080\">   1.8</span> │ <span style=\"color: #008080; text-decoration-color: #008080\">   0.001</span> │ <span style=\"color: #008080; text-decoration-color: #008080\">    1.4</span> │ <span style=\"color: #008080; text-decoration-color: #008080\">  4.8</span> │ <span style=\"color: #008080; text-decoration-color: #008080\">   6.3</span> │ <span style=\"color: #008000; text-decoration-color: #008000\"> ▄█▂▄▇▅ </span> │  │\n",
       "│ │ <span style=\"color: #af87ff; text-decoration-color: #af87ff\">Çiğli            </span> │ <span style=\"color: #008080; text-decoration-color: #008080\">   27000</span> │ <span style=\"color: #008080; text-decoration-color: #008080\">     70</span> │ <span style=\"color: #008080; text-decoration-color: #008080\">    2.5</span> │ <span style=\"color: #008080; text-decoration-color: #008080\">   2.1</span> │ <span style=\"color: #008080; text-decoration-color: #008080\">       0</span> │ <span style=\"color: #008080; text-decoration-color: #008080\">    0.6</span> │ <span style=\"color: #008080; text-decoration-color: #008080\">  4.3</span> │ <span style=\"color: #008080; text-decoration-color: #008080\">   6.3</span> │ <span style=\"color: #008000; text-decoration-color: #008000\"> █▃▃▂▁▄ </span> │  │\n",
       "│ │ <span style=\"color: #af87ff; text-decoration-color: #af87ff\">Menderes         </span> │ <span style=\"color: #008080; text-decoration-color: #008080\">   27000</span> │ <span style=\"color: #008080; text-decoration-color: #008080\">     70</span> │ <span style=\"color: #008080; text-decoration-color: #008080\">    2.4</span> │ <span style=\"color: #008080; text-decoration-color: #008080\">   2.2</span> │ <span style=\"color: #008080; text-decoration-color: #008080\">       0</span> │ <span style=\"color: #008080; text-decoration-color: #008080\">   0.33</span> │ <span style=\"color: #008080; text-decoration-color: #008080\">  4.3</span> │ <span style=\"color: #008080; text-decoration-color: #008080\">   6.3</span> │ <span style=\"color: #008000; text-decoration-color: #008000\"> █▂▂▂▁▄ </span> │  │\n",
       "│ │ <span style=\"color: #af87ff; text-decoration-color: #af87ff\">Alaşehir         </span> │ <span style=\"color: #008080; text-decoration-color: #008080\">   27000</span> │ <span style=\"color: #008080; text-decoration-color: #008080\">     70</span> │ <span style=\"color: #008080; text-decoration-color: #008080\">    3.5</span> │ <span style=\"color: #008080; text-decoration-color: #008080\">   1.8</span> │ <span style=\"color: #008080; text-decoration-color: #008080\">   0.001</span> │ <span style=\"color: #008080; text-decoration-color: #008080\">    2.1</span> │ <span style=\"color: #008080; text-decoration-color: #008080\">  5.3</span> │ <span style=\"color: #008080; text-decoration-color: #008080\">   6.3</span> │ <span style=\"color: #008000; text-decoration-color: #008000\"> ▃▄▇▂▄█ </span> │  │\n",
       "│ │ <span style=\"color: #af87ff; text-decoration-color: #af87ff\">Demirci          </span> │ <span style=\"color: #008080; text-decoration-color: #008080\">   27000</span> │ <span style=\"color: #008080; text-decoration-color: #008080\">     70</span> │ <span style=\"color: #008080; text-decoration-color: #008080\">    2.3</span> │ <span style=\"color: #008080; text-decoration-color: #008080\">     2</span> │ <span style=\"color: #008080; text-decoration-color: #008080\">       0</span> │ <span style=\"color: #008080; text-decoration-color: #008080\">   0.58</span> │ <span style=\"color: #008080; text-decoration-color: #008080\">    4</span> │ <span style=\"color: #008080; text-decoration-color: #008080\">   6.3</span> │ <span style=\"color: #008000; text-decoration-color: #008000\"> █▂▂▂▁▃ </span> │  │\n",
       "│ │ <span style=\"color: #af87ff; text-decoration-color: #af87ff\">Güzelyalı        </span> │ <span style=\"color: #008080; text-decoration-color: #008080\">     310</span> │ <span style=\"color: #008080; text-decoration-color: #008080\">    0.8</span> │ <span style=\"color: #008080; text-decoration-color: #008080\">    2.9</span> │ <span style=\"color: #008080; text-decoration-color: #008080\">     2</span> │ <span style=\"color: #008080; text-decoration-color: #008080\">       0</span> │ <span style=\"color: #008080; text-decoration-color: #008080\">   0.83</span> │ <span style=\"color: #008080; text-decoration-color: #008080\">  4.9</span> │ <span style=\"color: #008080; text-decoration-color: #008080\">   6.3</span> │ <span style=\"color: #008000; text-decoration-color: #008000\"> █▃▆▂▄▆ </span> │  │\n",
       "│ │ <span style=\"color: #af87ff; text-decoration-color: #af87ff\">Kula             </span> │ <span style=\"color: #008080; text-decoration-color: #008080\">   27000</span> │ <span style=\"color: #008080; text-decoration-color: #008080\">     70</span> │ <span style=\"color: #008080; text-decoration-color: #008080\">    2.8</span> │ <span style=\"color: #008080; text-decoration-color: #008080\">   1.8</span> │ <span style=\"color: #008080; text-decoration-color: #008080\">       0</span> │ <span style=\"color: #008080; text-decoration-color: #008080\">    1.4</span> │ <span style=\"color: #008080; text-decoration-color: #008080\">  4.7</span> │ <span style=\"color: #008080; text-decoration-color: #008080\">   6.3</span> │ <span style=\"color: #008000; text-decoration-color: #008000\"> ▃█▂▁▅▂ </span> │  │\n",
       "│ │ <span style=\"color: #af87ff; text-decoration-color: #af87ff\">Ödemiş           </span> │ <span style=\"color: #008080; text-decoration-color: #008080\">   27000</span> │ <span style=\"color: #008080; text-decoration-color: #008080\">     70</span> │ <span style=\"color: #008080; text-decoration-color: #008080\">    2.5</span> │ <span style=\"color: #008080; text-decoration-color: #008080\">   2.1</span> │ <span style=\"color: #008080; text-decoration-color: #008080\">       0</span> │ <span style=\"color: #008080; text-decoration-color: #008080\">   0.57</span> │ <span style=\"color: #008080; text-decoration-color: #008080\">  4.5</span> │ <span style=\"color: #008080; text-decoration-color: #008080\">   6.3</span> │ <span style=\"color: #008000; text-decoration-color: #008000\"> █▅▂▂▃▃ </span> │  │\n",
       "│ │ <span style=\"color: #af87ff; text-decoration-color: #af87ff\">Soma             </span> │ <span style=\"color: #008080; text-decoration-color: #008080\">   27000</span> │ <span style=\"color: #008080; text-decoration-color: #008080\">     70</span> │ <span style=\"color: #008080; text-decoration-color: #008080\">    1.7</span> │ <span style=\"color: #008080; text-decoration-color: #008080\">   1.8</span> │ <span style=\"color: #008080; text-decoration-color: #008080\">       0</span> │ <span style=\"color: #008080; text-decoration-color: #008080\">   0.38</span> │ <span style=\"color: #008080; text-decoration-color: #008080\">  2.7</span> │ <span style=\"color: #008080; text-decoration-color: #008080\">   6.3</span> │ <span style=\"color: #008000; text-decoration-color: #008000\"> █▂▂▁▁▁ </span> │  │\n",
       "│ │ <span style=\"color: #af87ff; text-decoration-color: #af87ff\">Urla             </span> │ <span style=\"color: #008080; text-decoration-color: #008080\">   27000</span> │ <span style=\"color: #008080; text-decoration-color: #008080\">     70</span> │ <span style=\"color: #008080; text-decoration-color: #008080\">    2.6</span> │ <span style=\"color: #008080; text-decoration-color: #008080\">   2.2</span> │ <span style=\"color: #008080; text-decoration-color: #008080\">       0</span> │ <span style=\"color: #008080; text-decoration-color: #008080\">   0.32</span> │ <span style=\"color: #008080; text-decoration-color: #008080\">  4.7</span> │ <span style=\"color: #008080; text-decoration-color: #008080\">   6.3</span> │ <span style=\"color: #008000; text-decoration-color: #008000\"> █▁▃▂▁▄ </span> │  │\n",
       "│ └───────────────────┴──────────┴─────────┴─────────┴────────┴──────────┴─────────┴───────┴────────┴──────────┘  │\n",
       "│ <span style=\"font-style: italic\">                                                    string                                                    </span>  │\n",
       "│ ┏━━━━━━━━━━━━━━━━━━━━━━━━━━━┳━━━━━━━━━┳━━━━━━━━━━━━┳━━━━━━━━━━━━━━━━━━━━━━━━━━━━━━┳━━━━━━━━━━━━━━━━━━━━━━━━━━┓  │\n",
       "│ ┃<span style=\"font-weight: bold\"> column_name               </span>┃<span style=\"font-weight: bold\"> NA      </span>┃<span style=\"font-weight: bold\"> NA %       </span>┃<span style=\"font-weight: bold\"> words per row                </span>┃<span style=\"font-weight: bold\"> total words              </span>┃  │\n",
       "│ ┡━━━━━━━━━━━━━━━━━━━━━━━━━━━╇━━━━━━━━━╇━━━━━━━━━━━━╇━━━━━━━━━━━━━━━━━━━━━━━━━━━━━━╇━━━━━━━━━━━━━━━━━━━━━━━━━━┩  │\n",
       "│ │ <span style=\"color: #af87ff; text-decoration-color: #af87ff\">Tarih                    </span> │ <span style=\"color: #008080; text-decoration-color: #008080\">      0</span> │ <span style=\"color: #008080; text-decoration-color: #008080\">         0</span> │ <span style=\"color: #008080; text-decoration-color: #008080\">                           2</span> │ <span style=\"color: #008080; text-decoration-color: #008080\">                   78000</span> │  │\n",
       "│ └───────────────────────────┴─────────┴────────────┴──────────────────────────────┴──────────────────────────┘  │\n",
       "╰────────────────────────────────────────────────────── End ──────────────────────────────────────────────────────╯\n",
       "</pre>\n"
      ],
      "text/plain": [
       "╭──────────────────────────────────────────────── skimpy summary ─────────────────────────────────────────────────╮\n",
       "│ \u001b[3m         Data Summary         \u001b[0m \u001b[3m      Data Types       \u001b[0m                                                          │\n",
       "│ ┏━━━━━━━━━━━━━━━━━━━┳━━━━━━━━┓ ┏━━━━━━━━━━━━━┳━━━━━━━┓                                                          │\n",
       "│ ┃\u001b[1;36m \u001b[0m\u001b[1;36mdataframe        \u001b[0m\u001b[1;36m \u001b[0m┃\u001b[1;36m \u001b[0m\u001b[1;36mValues\u001b[0m\u001b[1;36m \u001b[0m┃ ┃\u001b[1;36m \u001b[0m\u001b[1;36mColumn Type\u001b[0m\u001b[1;36m \u001b[0m┃\u001b[1;36m \u001b[0m\u001b[1;36mCount\u001b[0m\u001b[1;36m \u001b[0m┃                                                          │\n",
       "│ ┡━━━━━━━━━━━━━━━━━━━╇━━━━━━━━┩ ┡━━━━━━━━━━━━━╇━━━━━━━┩                                                          │\n",
       "│ │ Number of rows    │ 38832  │ │ float64     │ 16    │                                                          │\n",
       "│ │ Number of columns │ 17     │ │ string      │ 1     │                                                          │\n",
       "│ └───────────────────┴────────┘ └─────────────┴───────┘                                                          │\n",
       "│ \u001b[3m                                                    number                                                    \u001b[0m  │\n",
       "│ ┏━━━━━━━━━━━━━━━━━━━┳━━━━━━━━━━┳━━━━━━━━━┳━━━━━━━━━┳━━━━━━━━┳━━━━━━━━━━┳━━━━━━━━━┳━━━━━━━┳━━━━━━━━┳━━━━━━━━━━┓  │\n",
       "│ ┃\u001b[1m \u001b[0m\u001b[1mcolumn_name      \u001b[0m\u001b[1m \u001b[0m┃\u001b[1m \u001b[0m\u001b[1mNA      \u001b[0m\u001b[1m \u001b[0m┃\u001b[1m \u001b[0m\u001b[1mNA %   \u001b[0m\u001b[1m \u001b[0m┃\u001b[1m \u001b[0m\u001b[1mmean   \u001b[0m\u001b[1m \u001b[0m┃\u001b[1m \u001b[0m\u001b[1msd    \u001b[0m\u001b[1m \u001b[0m┃\u001b[1m \u001b[0m\u001b[1mp0      \u001b[0m\u001b[1m \u001b[0m┃\u001b[1m \u001b[0m\u001b[1mp25    \u001b[0m\u001b[1m \u001b[0m┃\u001b[1m \u001b[0m\u001b[1mp75  \u001b[0m\u001b[1m \u001b[0m┃\u001b[1m \u001b[0m\u001b[1mp100  \u001b[0m\u001b[1m \u001b[0m┃\u001b[1m \u001b[0m\u001b[1mhist    \u001b[0m\u001b[1m \u001b[0m┃  │\n",
       "│ ┡━━━━━━━━━━━━━━━━━━━╇━━━━━━━━━━╇━━━━━━━━━╇━━━━━━━━━╇━━━━━━━━╇━━━━━━━━━━╇━━━━━━━━━╇━━━━━━━╇━━━━━━━━╇━━━━━━━━━━┩  │\n",
       "│ │ \u001b[38;5;141mİzmir            \u001b[0m │ \u001b[36m   27000\u001b[0m │ \u001b[36m     70\u001b[0m │ \u001b[36m    2.4\u001b[0m │ \u001b[36m     2\u001b[0m │ \u001b[36m   0.001\u001b[0m │ \u001b[36m   0.52\u001b[0m │ \u001b[36m  3.7\u001b[0m │ \u001b[36m   6.3\u001b[0m │ \u001b[32m █▃▃▂▁▃ \u001b[0m │  │\n",
       "│ │ \u001b[38;5;141mAliağa           \u001b[0m │ \u001b[36m   27000\u001b[0m │ \u001b[36m     70\u001b[0m │ \u001b[36m    2.2\u001b[0m │ \u001b[36m   1.7\u001b[0m │ \u001b[36m       0\u001b[0m │ \u001b[36m   0.72\u001b[0m │ \u001b[36m  3.4\u001b[0m │ \u001b[36m   6.3\u001b[0m │ \u001b[32m █▄▂▂▂▁ \u001b[0m │  │\n",
       "│ │ \u001b[38;5;141mÇeşme            \u001b[0m │ \u001b[36m       0\u001b[0m │ \u001b[36m      0\u001b[0m │ \u001b[36m    2.6\u001b[0m │ \u001b[36m   2.2\u001b[0m │ \u001b[36m       0\u001b[0m │ \u001b[36m   0.38\u001b[0m │ \u001b[36m  4.1\u001b[0m │ \u001b[36m   6.3\u001b[0m │ \u001b[32m █▁▃▃▁▄ \u001b[0m │  │\n",
       "│ │ \u001b[38;5;141mBergama          \u001b[0m │ \u001b[36m   27000\u001b[0m │ \u001b[36m     70\u001b[0m │ \u001b[36m    1.8\u001b[0m │ \u001b[36m   1.7\u001b[0m │ \u001b[36m   0.001\u001b[0m │ \u001b[36m   0.73\u001b[0m │ \u001b[36m  3.5\u001b[0m │ \u001b[36m   6.3\u001b[0m │ \u001b[32m █▁ ▂▁▁ \u001b[0m │  │\n",
       "│ │ \u001b[38;5;141mManisa           \u001b[0m │ \u001b[36m       0\u001b[0m │ \u001b[36m      0\u001b[0m │ \u001b[36m    2.4\u001b[0m │ \u001b[36m   1.7\u001b[0m │ \u001b[36m       0\u001b[0m │ \u001b[36m   0.86\u001b[0m │ \u001b[36m  3.8\u001b[0m │ \u001b[36m   6.3\u001b[0m │ \u001b[32m █▅▃▄▃▂ \u001b[0m │  │\n",
       "│ │ \u001b[38;5;141mAkhisar          \u001b[0m │ \u001b[36m       0\u001b[0m │ \u001b[36m      0\u001b[0m │ \u001b[36m    2.7\u001b[0m │ \u001b[36m   2.2\u001b[0m │ \u001b[36m       0\u001b[0m │ \u001b[36m   0.46\u001b[0m │ \u001b[36m  4.9\u001b[0m │ \u001b[36m   6.3\u001b[0m │ \u001b[32m █▃▂▂▂▅ \u001b[0m │  │\n",
       "│ │ \u001b[38;5;141mSalihli          \u001b[0m │ \u001b[36m   27000\u001b[0m │ \u001b[36m     70\u001b[0m │ \u001b[36m    3.2\u001b[0m │ \u001b[36m   1.8\u001b[0m │ \u001b[36m   0.001\u001b[0m │ \u001b[36m    1.4\u001b[0m │ \u001b[36m  4.8\u001b[0m │ \u001b[36m   6.3\u001b[0m │ \u001b[32m ▄█▂▄▇▅ \u001b[0m │  │\n",
       "│ │ \u001b[38;5;141mÇiğli            \u001b[0m │ \u001b[36m   27000\u001b[0m │ \u001b[36m     70\u001b[0m │ \u001b[36m    2.5\u001b[0m │ \u001b[36m   2.1\u001b[0m │ \u001b[36m       0\u001b[0m │ \u001b[36m    0.6\u001b[0m │ \u001b[36m  4.3\u001b[0m │ \u001b[36m   6.3\u001b[0m │ \u001b[32m █▃▃▂▁▄ \u001b[0m │  │\n",
       "│ │ \u001b[38;5;141mMenderes         \u001b[0m │ \u001b[36m   27000\u001b[0m │ \u001b[36m     70\u001b[0m │ \u001b[36m    2.4\u001b[0m │ \u001b[36m   2.2\u001b[0m │ \u001b[36m       0\u001b[0m │ \u001b[36m   0.33\u001b[0m │ \u001b[36m  4.3\u001b[0m │ \u001b[36m   6.3\u001b[0m │ \u001b[32m █▂▂▂▁▄ \u001b[0m │  │\n",
       "│ │ \u001b[38;5;141mAlaşehir         \u001b[0m │ \u001b[36m   27000\u001b[0m │ \u001b[36m     70\u001b[0m │ \u001b[36m    3.5\u001b[0m │ \u001b[36m   1.8\u001b[0m │ \u001b[36m   0.001\u001b[0m │ \u001b[36m    2.1\u001b[0m │ \u001b[36m  5.3\u001b[0m │ \u001b[36m   6.3\u001b[0m │ \u001b[32m ▃▄▇▂▄█ \u001b[0m │  │\n",
       "│ │ \u001b[38;5;141mDemirci          \u001b[0m │ \u001b[36m   27000\u001b[0m │ \u001b[36m     70\u001b[0m │ \u001b[36m    2.3\u001b[0m │ \u001b[36m     2\u001b[0m │ \u001b[36m       0\u001b[0m │ \u001b[36m   0.58\u001b[0m │ \u001b[36m    4\u001b[0m │ \u001b[36m   6.3\u001b[0m │ \u001b[32m █▂▂▂▁▃ \u001b[0m │  │\n",
       "│ │ \u001b[38;5;141mGüzelyalı        \u001b[0m │ \u001b[36m     310\u001b[0m │ \u001b[36m    0.8\u001b[0m │ \u001b[36m    2.9\u001b[0m │ \u001b[36m     2\u001b[0m │ \u001b[36m       0\u001b[0m │ \u001b[36m   0.83\u001b[0m │ \u001b[36m  4.9\u001b[0m │ \u001b[36m   6.3\u001b[0m │ \u001b[32m █▃▆▂▄▆ \u001b[0m │  │\n",
       "│ │ \u001b[38;5;141mKula             \u001b[0m │ \u001b[36m   27000\u001b[0m │ \u001b[36m     70\u001b[0m │ \u001b[36m    2.8\u001b[0m │ \u001b[36m   1.8\u001b[0m │ \u001b[36m       0\u001b[0m │ \u001b[36m    1.4\u001b[0m │ \u001b[36m  4.7\u001b[0m │ \u001b[36m   6.3\u001b[0m │ \u001b[32m ▃█▂▁▅▂ \u001b[0m │  │\n",
       "│ │ \u001b[38;5;141mÖdemiş           \u001b[0m │ \u001b[36m   27000\u001b[0m │ \u001b[36m     70\u001b[0m │ \u001b[36m    2.5\u001b[0m │ \u001b[36m   2.1\u001b[0m │ \u001b[36m       0\u001b[0m │ \u001b[36m   0.57\u001b[0m │ \u001b[36m  4.5\u001b[0m │ \u001b[36m   6.3\u001b[0m │ \u001b[32m █▅▂▂▃▃ \u001b[0m │  │\n",
       "│ │ \u001b[38;5;141mSoma             \u001b[0m │ \u001b[36m   27000\u001b[0m │ \u001b[36m     70\u001b[0m │ \u001b[36m    1.7\u001b[0m │ \u001b[36m   1.8\u001b[0m │ \u001b[36m       0\u001b[0m │ \u001b[36m   0.38\u001b[0m │ \u001b[36m  2.7\u001b[0m │ \u001b[36m   6.3\u001b[0m │ \u001b[32m █▂▂▁▁▁ \u001b[0m │  │\n",
       "│ │ \u001b[38;5;141mUrla             \u001b[0m │ \u001b[36m   27000\u001b[0m │ \u001b[36m     70\u001b[0m │ \u001b[36m    2.6\u001b[0m │ \u001b[36m   2.2\u001b[0m │ \u001b[36m       0\u001b[0m │ \u001b[36m   0.32\u001b[0m │ \u001b[36m  4.7\u001b[0m │ \u001b[36m   6.3\u001b[0m │ \u001b[32m █▁▃▂▁▄ \u001b[0m │  │\n",
       "│ └───────────────────┴──────────┴─────────┴─────────┴────────┴──────────┴─────────┴───────┴────────┴──────────┘  │\n",
       "│ \u001b[3m                                                    string                                                    \u001b[0m  │\n",
       "│ ┏━━━━━━━━━━━━━━━━━━━━━━━━━━━┳━━━━━━━━━┳━━━━━━━━━━━━┳━━━━━━━━━━━━━━━━━━━━━━━━━━━━━━┳━━━━━━━━━━━━━━━━━━━━━━━━━━┓  │\n",
       "│ ┃\u001b[1m \u001b[0m\u001b[1mcolumn_name              \u001b[0m\u001b[1m \u001b[0m┃\u001b[1m \u001b[0m\u001b[1mNA     \u001b[0m\u001b[1m \u001b[0m┃\u001b[1m \u001b[0m\u001b[1mNA %      \u001b[0m\u001b[1m \u001b[0m┃\u001b[1m \u001b[0m\u001b[1mwords per row               \u001b[0m\u001b[1m \u001b[0m┃\u001b[1m \u001b[0m\u001b[1mtotal words             \u001b[0m\u001b[1m \u001b[0m┃  │\n",
       "│ ┡━━━━━━━━━━━━━━━━━━━━━━━━━━━╇━━━━━━━━━╇━━━━━━━━━━━━╇━━━━━━━━━━━━━━━━━━━━━━━━━━━━━━╇━━━━━━━━━━━━━━━━━━━━━━━━━━┩  │\n",
       "│ │ \u001b[38;5;141mTarih                    \u001b[0m │ \u001b[36m      0\u001b[0m │ \u001b[36m         0\u001b[0m │ \u001b[36m                           2\u001b[0m │ \u001b[36m                   78000\u001b[0m │  │\n",
       "│ └───────────────────────────┴─────────┴────────────┴──────────────────────────────┴──────────────────────────┘  │\n",
       "╰────────────────────────────────────────────────────── End ──────────────────────────────────────────────────────╯\n"
      ]
     },
     "metadata": {},
     "output_type": "display_data"
    }
   ],
   "source": [
    "skim(df_wd)"
   ]
  },
  {
   "cell_type": "markdown",
   "metadata": {},
   "source": [
    "### **<span style='color:turquoise'> Temperature </span>** "
   ]
  },
  {
   "cell_type": "markdown",
   "metadata": {},
   "source": [
    "unit = `Celcius`"
   ]
  },
  {
   "cell_type": "code",
   "execution_count": 191,
   "metadata": {},
   "outputs": [],
   "source": [
    "df8 = pd.read_csv(\"Weather_Sicaklik.csv\")\n",
    "df_temp = df8.copy()"
   ]
  },
  {
   "cell_type": "code",
   "execution_count": 192,
   "metadata": {},
   "outputs": [
    {
     "data": {
      "text/html": [
       "<div>\n",
       "<style scoped>\n",
       "    .dataframe tbody tr th:only-of-type {\n",
       "        vertical-align: middle;\n",
       "    }\n",
       "\n",
       "    .dataframe tbody tr th {\n",
       "        vertical-align: top;\n",
       "    }\n",
       "\n",
       "    .dataframe thead th {\n",
       "        text-align: right;\n",
       "    }\n",
       "</style>\n",
       "<table border=\"1\" class=\"dataframe\">\n",
       "  <thead>\n",
       "    <tr style=\"text-align: right;\">\n",
       "      <th></th>\n",
       "      <th>Tarih</th>\n",
       "      <th>İzmir</th>\n",
       "      <th>Aliağa</th>\n",
       "      <th>Çeşme</th>\n",
       "      <th>Bergama</th>\n",
       "      <th>Manisa</th>\n",
       "      <th>Akhisar</th>\n",
       "      <th>Salihli</th>\n",
       "      <th>Çiğli</th>\n",
       "      <th>Menderes</th>\n",
       "      <th>Alaşehir</th>\n",
       "      <th>Demirci</th>\n",
       "      <th>Güzelyalı</th>\n",
       "      <th>Kula</th>\n",
       "      <th>Ödemiş</th>\n",
       "      <th>Soma</th>\n",
       "      <th>Urla</th>\n",
       "    </tr>\n",
       "  </thead>\n",
       "  <tbody>\n",
       "    <tr>\n",
       "      <th>0</th>\n",
       "      <td>2021-02-01 00:00:00</td>\n",
       "      <td>10.357</td>\n",
       "      <td>13.682</td>\n",
       "      <td>16.307</td>\n",
       "      <td>6.082</td>\n",
       "      <td>5.957</td>\n",
       "      <td>5.007</td>\n",
       "      <td>5.907</td>\n",
       "      <td>13.857</td>\n",
       "      <td>7.682</td>\n",
       "      <td>NaN</td>\n",
       "      <td>NaN</td>\n",
       "      <td>NaN</td>\n",
       "      <td>NaN</td>\n",
       "      <td>NaN</td>\n",
       "      <td>NaN</td>\n",
       "      <td>NaN</td>\n",
       "    </tr>\n",
       "    <tr>\n",
       "      <th>1</th>\n",
       "      <td>2021-02-01 01:00:00</td>\n",
       "      <td>10.142</td>\n",
       "      <td>13.692</td>\n",
       "      <td>16.317</td>\n",
       "      <td>5.859</td>\n",
       "      <td>6.059</td>\n",
       "      <td>4.942</td>\n",
       "      <td>6.409</td>\n",
       "      <td>13.709</td>\n",
       "      <td>7.309</td>\n",
       "      <td>NaN</td>\n",
       "      <td>NaN</td>\n",
       "      <td>NaN</td>\n",
       "      <td>NaN</td>\n",
       "      <td>NaN</td>\n",
       "      <td>NaN</td>\n",
       "      <td>NaN</td>\n",
       "    </tr>\n",
       "    <tr>\n",
       "      <th>2</th>\n",
       "      <td>2021-02-01 02:00:00</td>\n",
       "      <td>9.928</td>\n",
       "      <td>13.703</td>\n",
       "      <td>16.328</td>\n",
       "      <td>5.636</td>\n",
       "      <td>6.161</td>\n",
       "      <td>4.878</td>\n",
       "      <td>6.911</td>\n",
       "      <td>13.561</td>\n",
       "      <td>6.936</td>\n",
       "      <td>NaN</td>\n",
       "      <td>NaN</td>\n",
       "      <td>NaN</td>\n",
       "      <td>NaN</td>\n",
       "      <td>NaN</td>\n",
       "      <td>NaN</td>\n",
       "      <td>NaN</td>\n",
       "    </tr>\n",
       "    <tr>\n",
       "      <th>3</th>\n",
       "      <td>2021-02-01 03:00:00</td>\n",
       "      <td>11.461</td>\n",
       "      <td>14.811</td>\n",
       "      <td>17.236</td>\n",
       "      <td>6.561</td>\n",
       "      <td>8.611</td>\n",
       "      <td>7.061</td>\n",
       "      <td>9.286</td>\n",
       "      <td>14.811</td>\n",
       "      <td>7.811</td>\n",
       "      <td>NaN</td>\n",
       "      <td>NaN</td>\n",
       "      <td>NaN</td>\n",
       "      <td>NaN</td>\n",
       "      <td>NaN</td>\n",
       "      <td>NaN</td>\n",
       "      <td>NaN</td>\n",
       "    </tr>\n",
       "    <tr>\n",
       "      <th>4</th>\n",
       "      <td>2021-02-01 04:00:00</td>\n",
       "      <td>10.800</td>\n",
       "      <td>14.816</td>\n",
       "      <td>16.999</td>\n",
       "      <td>6.583</td>\n",
       "      <td>8.199</td>\n",
       "      <td>6.150</td>\n",
       "      <td>9.150</td>\n",
       "      <td>14.516</td>\n",
       "      <td>7.433</td>\n",
       "      <td>NaN</td>\n",
       "      <td>NaN</td>\n",
       "      <td>NaN</td>\n",
       "      <td>NaN</td>\n",
       "      <td>NaN</td>\n",
       "      <td>NaN</td>\n",
       "      <td>NaN</td>\n",
       "    </tr>\n",
       "  </tbody>\n",
       "</table>\n",
       "</div>"
      ],
      "text/plain": [
       "                 Tarih  İzmir  Aliağa  Çeşme  Bergama  Manisa  Akhisar  \\\n",
       "0  2021-02-01 00:00:00 10.357  13.682 16.307    6.082   5.957    5.007   \n",
       "1  2021-02-01 01:00:00 10.142  13.692 16.317    5.859   6.059    4.942   \n",
       "2  2021-02-01 02:00:00  9.928  13.703 16.328    5.636   6.161    4.878   \n",
       "3  2021-02-01 03:00:00 11.461  14.811 17.236    6.561   8.611    7.061   \n",
       "4  2021-02-01 04:00:00 10.800  14.816 16.999    6.583   8.199    6.150   \n",
       "\n",
       "   Salihli  Çiğli  Menderes  Alaşehir  Demirci  Güzelyalı  Kula  Ödemiş  Soma  \\\n",
       "0    5.907 13.857     7.682       NaN      NaN        NaN   NaN     NaN   NaN   \n",
       "1    6.409 13.709     7.309       NaN      NaN        NaN   NaN     NaN   NaN   \n",
       "2    6.911 13.561     6.936       NaN      NaN        NaN   NaN     NaN   NaN   \n",
       "3    9.286 14.811     7.811       NaN      NaN        NaN   NaN     NaN   NaN   \n",
       "4    9.150 14.516     7.433       NaN      NaN        NaN   NaN     NaN   NaN   \n",
       "\n",
       "   Urla  \n",
       "0   NaN  \n",
       "1   NaN  \n",
       "2   NaN  \n",
       "3   NaN  \n",
       "4   NaN  "
      ]
     },
     "execution_count": 192,
     "metadata": {},
     "output_type": "execute_result"
    }
   ],
   "source": [
    "df_temp.head()"
   ]
  },
  {
   "cell_type": "code",
   "execution_count": 193,
   "metadata": {},
   "outputs": [
    {
     "data": {
      "text/plain": [
       "(12528, 17)"
      ]
     },
     "execution_count": 193,
     "metadata": {},
     "output_type": "execute_result"
    }
   ],
   "source": [
    "df_temp.shape"
   ]
  },
  {
   "cell_type": "code",
   "execution_count": 194,
   "metadata": {},
   "outputs": [
    {
     "name": "stdout",
     "output_type": "stream",
     "text": [
      "<class 'pandas.core.frame.DataFrame'>\n",
      "RangeIndex: 12528 entries, 0 to 12527\n",
      "Data columns (total 17 columns):\n",
      " #   Column     Non-Null Count  Dtype  \n",
      "---  ------     --------------  -----  \n",
      " 0   Tarih      12528 non-null  object \n",
      " 1   İzmir      12528 non-null  float64\n",
      " 2   Aliağa     11784 non-null  float64\n",
      " 3   Çeşme      12528 non-null  float64\n",
      " 4   Bergama    11784 non-null  float64\n",
      " 5   Manisa     12528 non-null  float64\n",
      " 6   Akhisar    12528 non-null  float64\n",
      " 7   Salihli    11784 non-null  float64\n",
      " 8   Çiğli      11784 non-null  float64\n",
      " 9   Menderes   11784 non-null  float64\n",
      " 10  Alaşehir   11088 non-null  float64\n",
      " 11  Demirci    11088 non-null  float64\n",
      " 12  Güzelyalı  11088 non-null  float64\n",
      " 13  Kula       11088 non-null  float64\n",
      " 14  Ödemiş     11088 non-null  float64\n",
      " 15  Soma       11088 non-null  float64\n",
      " 16  Urla       11088 non-null  float64\n",
      "dtypes: float64(16), object(1)\n",
      "memory usage: 1.6+ MB\n"
     ]
    }
   ],
   "source": [
    "df_temp.info()"
   ]
  },
  {
   "cell_type": "code",
   "execution_count": 195,
   "metadata": {},
   "outputs": [
    {
     "data": {
      "text/html": [
       "<pre style=\"white-space:pre;overflow-x:auto;line-height:normal;font-family:Menlo,'DejaVu Sans Mono',consolas,'Courier New',monospace\">╭──────────────────────────────────────────────── skimpy summary ─────────────────────────────────────────────────╮\n",
       "│ <span style=\"font-style: italic\">         Data Summary         </span> <span style=\"font-style: italic\">      Data Types       </span>                                                          │\n",
       "│ ┏━━━━━━━━━━━━━━━━━━━┳━━━━━━━━┓ ┏━━━━━━━━━━━━━┳━━━━━━━┓                                                          │\n",
       "│ ┃<span style=\"color: #008080; text-decoration-color: #008080; font-weight: bold\"> dataframe         </span>┃<span style=\"color: #008080; text-decoration-color: #008080; font-weight: bold\"> Values </span>┃ ┃<span style=\"color: #008080; text-decoration-color: #008080; font-weight: bold\"> Column Type </span>┃<span style=\"color: #008080; text-decoration-color: #008080; font-weight: bold\"> Count </span>┃                                                          │\n",
       "│ ┡━━━━━━━━━━━━━━━━━━━╇━━━━━━━━┩ ┡━━━━━━━━━━━━━╇━━━━━━━┩                                                          │\n",
       "│ │ Number of rows    │ 12528  │ │ float64     │ 16    │                                                          │\n",
       "│ │ Number of columns │ 17     │ │ string      │ 1     │                                                          │\n",
       "│ └───────────────────┴────────┘ └─────────────┴───────┘                                                          │\n",
       "│ <span style=\"font-style: italic\">                                                    number                                                    </span>  │\n",
       "│ ┏━━━━━━━━━━━━━━━━━━━━┳━━━━━━━━━┳━━━━━━━━━┳━━━━━━━━━┳━━━━━━━━┳━━━━━━━━━┳━━━━━━━━┳━━━━━━━━┳━━━━━━━━━┳━━━━━━━━━━┓  │\n",
       "│ ┃<span style=\"font-weight: bold\"> column_name        </span>┃<span style=\"font-weight: bold\"> NA      </span>┃<span style=\"font-weight: bold\"> NA %    </span>┃<span style=\"font-weight: bold\"> mean    </span>┃<span style=\"font-weight: bold\"> sd     </span>┃<span style=\"font-weight: bold\"> p0      </span>┃<span style=\"font-weight: bold\"> p25    </span>┃<span style=\"font-weight: bold\"> p75    </span>┃<span style=\"font-weight: bold\"> p100    </span>┃<span style=\"font-weight: bold\"> hist     </span>┃  │\n",
       "│ ┡━━━━━━━━━━━━━━━━━━━━╇━━━━━━━━━╇━━━━━━━━━╇━━━━━━━━━╇━━━━━━━━╇━━━━━━━━━╇━━━━━━━━╇━━━━━━━━╇━━━━━━━━━╇━━━━━━━━━━┩  │\n",
       "│ │ <span style=\"color: #af87ff; text-decoration-color: #af87ff\">İzmir             </span> │ <span style=\"color: #008080; text-decoration-color: #008080\">      0</span> │ <span style=\"color: #008080; text-decoration-color: #008080\">      0</span> │ <span style=\"color: #008080; text-decoration-color: #008080\">     15</span> │ <span style=\"color: #008080; text-decoration-color: #008080\">   8.8</span> │ <span style=\"color: #008080; text-decoration-color: #008080\">   -5.8</span> │ <span style=\"color: #008080; text-decoration-color: #008080\">     9</span> │ <span style=\"color: #008080; text-decoration-color: #008080\">    22</span> │ <span style=\"color: #008080; text-decoration-color: #008080\">     38</span> │ <span style=\"color: #008000; text-decoration-color: #008000\"> ▁▅█▆▄▁ </span> │  │\n",
       "│ │ <span style=\"color: #af87ff; text-decoration-color: #af87ff\">Aliağa            </span> │ <span style=\"color: #008080; text-decoration-color: #008080\">    740</span> │ <span style=\"color: #008080; text-decoration-color: #008080\">    5.9</span> │ <span style=\"color: #008080; text-decoration-color: #008080\">     16</span> │ <span style=\"color: #008080; text-decoration-color: #008080\">   7.6</span> │ <span style=\"color: #008080; text-decoration-color: #008080\">   -2.9</span> │ <span style=\"color: #008080; text-decoration-color: #008080\">    11</span> │ <span style=\"color: #008080; text-decoration-color: #008080\">    22</span> │ <span style=\"color: #008080; text-decoration-color: #008080\">     35</span> │ <span style=\"color: #008000; text-decoration-color: #008000\"> ▁▅█▇▅▁ </span> │  │\n",
       "│ │ <span style=\"color: #af87ff; text-decoration-color: #af87ff\">Çeşme             </span> │ <span style=\"color: #008080; text-decoration-color: #008080\">      0</span> │ <span style=\"color: #008080; text-decoration-color: #008080\">      0</span> │ <span style=\"color: #008080; text-decoration-color: #008080\">     17</span> │ <span style=\"color: #008080; text-decoration-color: #008080\">   6.2</span> │ <span style=\"color: #008080; text-decoration-color: #008080\">    1.9</span> │ <span style=\"color: #008080; text-decoration-color: #008080\">    13</span> │ <span style=\"color: #008080; text-decoration-color: #008080\">    22</span> │ <span style=\"color: #008080; text-decoration-color: #008080\">     34</span> │ <span style=\"color: #008000; text-decoration-color: #008000\"> ▁▅█▅▄▁ </span> │  │\n",
       "│ │ <span style=\"color: #af87ff; text-decoration-color: #af87ff\">Bergama           </span> │ <span style=\"color: #008080; text-decoration-color: #008080\">    740</span> │ <span style=\"color: #008080; text-decoration-color: #008080\">    5.9</span> │ <span style=\"color: #008080; text-decoration-color: #008080\">     15</span> │ <span style=\"color: #008080; text-decoration-color: #008080\">   9.5</span> │ <span style=\"color: #008080; text-decoration-color: #008080\">   -9.4</span> │ <span style=\"color: #008080; text-decoration-color: #008080\">   8.2</span> │ <span style=\"color: #008080; text-decoration-color: #008080\">    22</span> │ <span style=\"color: #008080; text-decoration-color: #008080\">     40</span> │ <span style=\"color: #008000; text-decoration-color: #008000\"> ▁▅█▆▄▁ </span> │  │\n",
       "│ │ <span style=\"color: #af87ff; text-decoration-color: #af87ff\">Manisa            </span> │ <span style=\"color: #008080; text-decoration-color: #008080\">      0</span> │ <span style=\"color: #008080; text-decoration-color: #008080\">      0</span> │ <span style=\"color: #008080; text-decoration-color: #008080\">     14</span> │ <span style=\"color: #008080; text-decoration-color: #008080\">   9.7</span> │ <span style=\"color: #008080; text-decoration-color: #008080\">    -11</span> │ <span style=\"color: #008080; text-decoration-color: #008080\">   6.9</span> │ <span style=\"color: #008080; text-decoration-color: #008080\">    21</span> │ <span style=\"color: #008080; text-decoration-color: #008080\">     41</span> │ <span style=\"color: #008000; text-decoration-color: #008000\"> ▁▅█▆▄▁ </span> │  │\n",
       "│ │ <span style=\"color: #af87ff; text-decoration-color: #af87ff\">Akhisar           </span> │ <span style=\"color: #008080; text-decoration-color: #008080\">      0</span> │ <span style=\"color: #008080; text-decoration-color: #008080\">      0</span> │ <span style=\"color: #008080; text-decoration-color: #008080\">     14</span> │ <span style=\"color: #008080; text-decoration-color: #008080\">   9.9</span> │ <span style=\"color: #008080; text-decoration-color: #008080\">    -12</span> │ <span style=\"color: #008080; text-decoration-color: #008080\">   6.6</span> │ <span style=\"color: #008080; text-decoration-color: #008080\">    21</span> │ <span style=\"color: #008080; text-decoration-color: #008080\">     41</span> │ <span style=\"color: #008000; text-decoration-color: #008000\"> ▁▅█▆▄▁ </span> │  │\n",
       "│ │ <span style=\"color: #af87ff; text-decoration-color: #af87ff\">Salihli           </span> │ <span style=\"color: #008080; text-decoration-color: #008080\">    740</span> │ <span style=\"color: #008080; text-decoration-color: #008080\">    5.9</span> │ <span style=\"color: #008080; text-decoration-color: #008080\">     14</span> │ <span style=\"color: #008080; text-decoration-color: #008080\">   9.2</span> │ <span style=\"color: #008080; text-decoration-color: #008080\">   -9.8</span> │ <span style=\"color: #008080; text-decoration-color: #008080\">   6.8</span> │ <span style=\"color: #008080; text-decoration-color: #008080\">    20</span> │ <span style=\"color: #008080; text-decoration-color: #008080\">     37</span> │ <span style=\"color: #008000; text-decoration-color: #008000\"> ▁▅██▅▁ </span> │  │\n",
       "│ │ <span style=\"color: #af87ff; text-decoration-color: #af87ff\">Çiğli             </span> │ <span style=\"color: #008080; text-decoration-color: #008080\">    740</span> │ <span style=\"color: #008080; text-decoration-color: #008080\">    5.9</span> │ <span style=\"color: #008080; text-decoration-color: #008080\">     16</span> │ <span style=\"color: #008080; text-decoration-color: #008080\">   8.3</span> │ <span style=\"color: #008080; text-decoration-color: #008080\">   -6.3</span> │ <span style=\"color: #008080; text-decoration-color: #008080\">    11</span> │ <span style=\"color: #008080; text-decoration-color: #008080\">    23</span> │ <span style=\"color: #008080; text-decoration-color: #008080\">     37</span> │ <span style=\"color: #008000; text-decoration-color: #008000\"> ▁▄█▇▅▂ </span> │  │\n",
       "│ │ <span style=\"color: #af87ff; text-decoration-color: #af87ff\">Menderes          </span> │ <span style=\"color: #008080; text-decoration-color: #008080\">    740</span> │ <span style=\"color: #008080; text-decoration-color: #008080\">    5.9</span> │ <span style=\"color: #008080; text-decoration-color: #008080\">     15</span> │ <span style=\"color: #008080; text-decoration-color: #008080\">   9.6</span> │ <span style=\"color: #008080; text-decoration-color: #008080\">   -8.4</span> │ <span style=\"color: #008080; text-decoration-color: #008080\">   8.6</span> │ <span style=\"color: #008080; text-decoration-color: #008080\">    22</span> │ <span style=\"color: #008080; text-decoration-color: #008080\">     41</span> │ <span style=\"color: #008000; text-decoration-color: #008000\"> ▁▅█▆▄▁ </span> │  │\n",
       "│ │ <span style=\"color: #af87ff; text-decoration-color: #af87ff\">Alaşehir          </span> │ <span style=\"color: #008080; text-decoration-color: #008080\">   1400</span> │ <span style=\"color: #008080; text-decoration-color: #008080\">     11</span> │ <span style=\"color: #008080; text-decoration-color: #008080\">     14</span> │ <span style=\"color: #008080; text-decoration-color: #008080\">   9.9</span> │ <span style=\"color: #008080; text-decoration-color: #008080\">    -12</span> │ <span style=\"color: #008080; text-decoration-color: #008080\">   6.6</span> │ <span style=\"color: #008080; text-decoration-color: #008080\">    21</span> │ <span style=\"color: #008080; text-decoration-color: #008080\">     40</span> │ <span style=\"color: #008000; text-decoration-color: #008000\"> ▁▅██▄▁ </span> │  │\n",
       "│ │ <span style=\"color: #af87ff; text-decoration-color: #af87ff\">Demirci           </span> │ <span style=\"color: #008080; text-decoration-color: #008080\">   1400</span> │ <span style=\"color: #008080; text-decoration-color: #008080\">     11</span> │ <span style=\"color: #008080; text-decoration-color: #008080\">     11</span> │ <span style=\"color: #008080; text-decoration-color: #008080\">   9.8</span> │ <span style=\"color: #008080; text-decoration-color: #008080\">    -15</span> │ <span style=\"color: #008080; text-decoration-color: #008080\">   4.3</span> │ <span style=\"color: #008080; text-decoration-color: #008080\">    18</span> │ <span style=\"color: #008080; text-decoration-color: #008080\">     37</span> │ <span style=\"color: #008000; text-decoration-color: #008000\"> ▁▄█▇▄▁ </span> │  │\n",
       "│ │ <span style=\"color: #af87ff; text-decoration-color: #af87ff\">Güzelyalı         </span> │ <span style=\"color: #008080; text-decoration-color: #008080\">   1400</span> │ <span style=\"color: #008080; text-decoration-color: #008080\">     11</span> │ <span style=\"color: #008080; text-decoration-color: #008080\">     16</span> │ <span style=\"color: #008080; text-decoration-color: #008080\">   8.8</span> │ <span style=\"color: #008080; text-decoration-color: #008080\">   -5.8</span> │ <span style=\"color: #008080; text-decoration-color: #008080\">   9.6</span> │ <span style=\"color: #008080; text-decoration-color: #008080\">    23</span> │ <span style=\"color: #008080; text-decoration-color: #008080\">     38</span> │ <span style=\"color: #008000; text-decoration-color: #008000\"> ▁▅█▆▄▁ </span> │  │\n",
       "│ │ <span style=\"color: #af87ff; text-decoration-color: #af87ff\">Kula              </span> │ <span style=\"color: #008080; text-decoration-color: #008080\">   1400</span> │ <span style=\"color: #008080; text-decoration-color: #008080\">     11</span> │ <span style=\"color: #008080; text-decoration-color: #008080\">     13</span> │ <span style=\"color: #008080; text-decoration-color: #008080\">    10</span> │ <span style=\"color: #008080; text-decoration-color: #008080\">    -14</span> │ <span style=\"color: #008080; text-decoration-color: #008080\">   5.8</span> │ <span style=\"color: #008080; text-decoration-color: #008080\">    20</span> │ <span style=\"color: #008080; text-decoration-color: #008080\">     39</span> │ <span style=\"color: #008000; text-decoration-color: #008000\"> ▁▄█▇▄▁ </span> │  │\n",
       "│ │ <span style=\"color: #af87ff; text-decoration-color: #af87ff\">Ödemiş            </span> │ <span style=\"color: #008080; text-decoration-color: #008080\">   1400</span> │ <span style=\"color: #008080; text-decoration-color: #008080\">     11</span> │ <span style=\"color: #008080; text-decoration-color: #008080\">     15</span> │ <span style=\"color: #008080; text-decoration-color: #008080\">   9.3</span> │ <span style=\"color: #008080; text-decoration-color: #008080\">     -8</span> │ <span style=\"color: #008080; text-decoration-color: #008080\">   7.9</span> │ <span style=\"color: #008080; text-decoration-color: #008080\">    21</span> │ <span style=\"color: #008080; text-decoration-color: #008080\">     40</span> │ <span style=\"color: #008000; text-decoration-color: #008000\"> ▁▅█▇▄▁ </span> │  │\n",
       "│ │ <span style=\"color: #af87ff; text-decoration-color: #af87ff\">Soma              </span> │ <span style=\"color: #008080; text-decoration-color: #008080\">   1400</span> │ <span style=\"color: #008080; text-decoration-color: #008080\">     11</span> │ <span style=\"color: #008080; text-decoration-color: #008080\">     14</span> │ <span style=\"color: #008080; text-decoration-color: #008080\">   9.5</span> │ <span style=\"color: #008080; text-decoration-color: #008080\">     -9</span> │ <span style=\"color: #008080; text-decoration-color: #008080\">   7.2</span> │ <span style=\"color: #008080; text-decoration-color: #008080\">    21</span> │ <span style=\"color: #008080; text-decoration-color: #008080\">     40</span> │ <span style=\"color: #008000; text-decoration-color: #008000\"> ▁▅█▇▄▁ </span> │  │\n",
       "│ │ <span style=\"color: #af87ff; text-decoration-color: #af87ff\">Urla              </span> │ <span style=\"color: #008080; text-decoration-color: #008080\">   1400</span> │ <span style=\"color: #008080; text-decoration-color: #008080\">     11</span> │ <span style=\"color: #008080; text-decoration-color: #008080\">     17</span> │ <span style=\"color: #008080; text-decoration-color: #008080\">   7.7</span> │ <span style=\"color: #008080; text-decoration-color: #008080\">   -2.4</span> │ <span style=\"color: #008080; text-decoration-color: #008080\">    11</span> │ <span style=\"color: #008080; text-decoration-color: #008080\">    23</span> │ <span style=\"color: #008080; text-decoration-color: #008080\">     37</span> │ <span style=\"color: #008000; text-decoration-color: #008000\"> ▁▅█▇▄▁ </span> │  │\n",
       "│ └────────────────────┴─────────┴─────────┴─────────┴────────┴─────────┴────────┴────────┴─────────┴──────────┘  │\n",
       "│ <span style=\"font-style: italic\">                                                    string                                                    </span>  │\n",
       "│ ┏━━━━━━━━━━━━━━━━━━━━━━━━━━━┳━━━━━━━━━┳━━━━━━━━━━━━┳━━━━━━━━━━━━━━━━━━━━━━━━━━━━━━┳━━━━━━━━━━━━━━━━━━━━━━━━━━┓  │\n",
       "│ ┃<span style=\"font-weight: bold\"> column_name               </span>┃<span style=\"font-weight: bold\"> NA      </span>┃<span style=\"font-weight: bold\"> NA %       </span>┃<span style=\"font-weight: bold\"> words per row                </span>┃<span style=\"font-weight: bold\"> total words              </span>┃  │\n",
       "│ ┡━━━━━━━━━━━━━━━━━━━━━━━━━━━╇━━━━━━━━━╇━━━━━━━━━━━━╇━━━━━━━━━━━━━━━━━━━━━━━━━━━━━━╇━━━━━━━━━━━━━━━━━━━━━━━━━━┩  │\n",
       "│ │ <span style=\"color: #af87ff; text-decoration-color: #af87ff\">Tarih                    </span> │ <span style=\"color: #008080; text-decoration-color: #008080\">      0</span> │ <span style=\"color: #008080; text-decoration-color: #008080\">         0</span> │ <span style=\"color: #008080; text-decoration-color: #008080\">                           2</span> │ <span style=\"color: #008080; text-decoration-color: #008080\">                   25000</span> │  │\n",
       "│ └───────────────────────────┴─────────┴────────────┴──────────────────────────────┴──────────────────────────┘  │\n",
       "╰────────────────────────────────────────────────────── End ──────────────────────────────────────────────────────╯\n",
       "</pre>\n"
      ],
      "text/plain": [
       "╭──────────────────────────────────────────────── skimpy summary ─────────────────────────────────────────────────╮\n",
       "│ \u001b[3m         Data Summary         \u001b[0m \u001b[3m      Data Types       \u001b[0m                                                          │\n",
       "│ ┏━━━━━━━━━━━━━━━━━━━┳━━━━━━━━┓ ┏━━━━━━━━━━━━━┳━━━━━━━┓                                                          │\n",
       "│ ┃\u001b[1;36m \u001b[0m\u001b[1;36mdataframe        \u001b[0m\u001b[1;36m \u001b[0m┃\u001b[1;36m \u001b[0m\u001b[1;36mValues\u001b[0m\u001b[1;36m \u001b[0m┃ ┃\u001b[1;36m \u001b[0m\u001b[1;36mColumn Type\u001b[0m\u001b[1;36m \u001b[0m┃\u001b[1;36m \u001b[0m\u001b[1;36mCount\u001b[0m\u001b[1;36m \u001b[0m┃                                                          │\n",
       "│ ┡━━━━━━━━━━━━━━━━━━━╇━━━━━━━━┩ ┡━━━━━━━━━━━━━╇━━━━━━━┩                                                          │\n",
       "│ │ Number of rows    │ 12528  │ │ float64     │ 16    │                                                          │\n",
       "│ │ Number of columns │ 17     │ │ string      │ 1     │                                                          │\n",
       "│ └───────────────────┴────────┘ └─────────────┴───────┘                                                          │\n",
       "│ \u001b[3m                                                    number                                                    \u001b[0m  │\n",
       "│ ┏━━━━━━━━━━━━━━━━━━━━┳━━━━━━━━━┳━━━━━━━━━┳━━━━━━━━━┳━━━━━━━━┳━━━━━━━━━┳━━━━━━━━┳━━━━━━━━┳━━━━━━━━━┳━━━━━━━━━━┓  │\n",
       "│ ┃\u001b[1m \u001b[0m\u001b[1mcolumn_name       \u001b[0m\u001b[1m \u001b[0m┃\u001b[1m \u001b[0m\u001b[1mNA     \u001b[0m\u001b[1m \u001b[0m┃\u001b[1m \u001b[0m\u001b[1mNA %   \u001b[0m\u001b[1m \u001b[0m┃\u001b[1m \u001b[0m\u001b[1mmean   \u001b[0m\u001b[1m \u001b[0m┃\u001b[1m \u001b[0m\u001b[1msd    \u001b[0m\u001b[1m \u001b[0m┃\u001b[1m \u001b[0m\u001b[1mp0     \u001b[0m\u001b[1m \u001b[0m┃\u001b[1m \u001b[0m\u001b[1mp25   \u001b[0m\u001b[1m \u001b[0m┃\u001b[1m \u001b[0m\u001b[1mp75   \u001b[0m\u001b[1m \u001b[0m┃\u001b[1m \u001b[0m\u001b[1mp100   \u001b[0m\u001b[1m \u001b[0m┃\u001b[1m \u001b[0m\u001b[1mhist    \u001b[0m\u001b[1m \u001b[0m┃  │\n",
       "│ ┡━━━━━━━━━━━━━━━━━━━━╇━━━━━━━━━╇━━━━━━━━━╇━━━━━━━━━╇━━━━━━━━╇━━━━━━━━━╇━━━━━━━━╇━━━━━━━━╇━━━━━━━━━╇━━━━━━━━━━┩  │\n",
       "│ │ \u001b[38;5;141mİzmir             \u001b[0m │ \u001b[36m      0\u001b[0m │ \u001b[36m      0\u001b[0m │ \u001b[36m     15\u001b[0m │ \u001b[36m   8.8\u001b[0m │ \u001b[36m   -5.8\u001b[0m │ \u001b[36m     9\u001b[0m │ \u001b[36m    22\u001b[0m │ \u001b[36m     38\u001b[0m │ \u001b[32m ▁▅█▆▄▁ \u001b[0m │  │\n",
       "│ │ \u001b[38;5;141mAliağa            \u001b[0m │ \u001b[36m    740\u001b[0m │ \u001b[36m    5.9\u001b[0m │ \u001b[36m     16\u001b[0m │ \u001b[36m   7.6\u001b[0m │ \u001b[36m   -2.9\u001b[0m │ \u001b[36m    11\u001b[0m │ \u001b[36m    22\u001b[0m │ \u001b[36m     35\u001b[0m │ \u001b[32m ▁▅█▇▅▁ \u001b[0m │  │\n",
       "│ │ \u001b[38;5;141mÇeşme             \u001b[0m │ \u001b[36m      0\u001b[0m │ \u001b[36m      0\u001b[0m │ \u001b[36m     17\u001b[0m │ \u001b[36m   6.2\u001b[0m │ \u001b[36m    1.9\u001b[0m │ \u001b[36m    13\u001b[0m │ \u001b[36m    22\u001b[0m │ \u001b[36m     34\u001b[0m │ \u001b[32m ▁▅█▅▄▁ \u001b[0m │  │\n",
       "│ │ \u001b[38;5;141mBergama           \u001b[0m │ \u001b[36m    740\u001b[0m │ \u001b[36m    5.9\u001b[0m │ \u001b[36m     15\u001b[0m │ \u001b[36m   9.5\u001b[0m │ \u001b[36m   -9.4\u001b[0m │ \u001b[36m   8.2\u001b[0m │ \u001b[36m    22\u001b[0m │ \u001b[36m     40\u001b[0m │ \u001b[32m ▁▅█▆▄▁ \u001b[0m │  │\n",
       "│ │ \u001b[38;5;141mManisa            \u001b[0m │ \u001b[36m      0\u001b[0m │ \u001b[36m      0\u001b[0m │ \u001b[36m     14\u001b[0m │ \u001b[36m   9.7\u001b[0m │ \u001b[36m    -11\u001b[0m │ \u001b[36m   6.9\u001b[0m │ \u001b[36m    21\u001b[0m │ \u001b[36m     41\u001b[0m │ \u001b[32m ▁▅█▆▄▁ \u001b[0m │  │\n",
       "│ │ \u001b[38;5;141mAkhisar           \u001b[0m │ \u001b[36m      0\u001b[0m │ \u001b[36m      0\u001b[0m │ \u001b[36m     14\u001b[0m │ \u001b[36m   9.9\u001b[0m │ \u001b[36m    -12\u001b[0m │ \u001b[36m   6.6\u001b[0m │ \u001b[36m    21\u001b[0m │ \u001b[36m     41\u001b[0m │ \u001b[32m ▁▅█▆▄▁ \u001b[0m │  │\n",
       "│ │ \u001b[38;5;141mSalihli           \u001b[0m │ \u001b[36m    740\u001b[0m │ \u001b[36m    5.9\u001b[0m │ \u001b[36m     14\u001b[0m │ \u001b[36m   9.2\u001b[0m │ \u001b[36m   -9.8\u001b[0m │ \u001b[36m   6.8\u001b[0m │ \u001b[36m    20\u001b[0m │ \u001b[36m     37\u001b[0m │ \u001b[32m ▁▅██▅▁ \u001b[0m │  │\n",
       "│ │ \u001b[38;5;141mÇiğli             \u001b[0m │ \u001b[36m    740\u001b[0m │ \u001b[36m    5.9\u001b[0m │ \u001b[36m     16\u001b[0m │ \u001b[36m   8.3\u001b[0m │ \u001b[36m   -6.3\u001b[0m │ \u001b[36m    11\u001b[0m │ \u001b[36m    23\u001b[0m │ \u001b[36m     37\u001b[0m │ \u001b[32m ▁▄█▇▅▂ \u001b[0m │  │\n",
       "│ │ \u001b[38;5;141mMenderes          \u001b[0m │ \u001b[36m    740\u001b[0m │ \u001b[36m    5.9\u001b[0m │ \u001b[36m     15\u001b[0m │ \u001b[36m   9.6\u001b[0m │ \u001b[36m   -8.4\u001b[0m │ \u001b[36m   8.6\u001b[0m │ \u001b[36m    22\u001b[0m │ \u001b[36m     41\u001b[0m │ \u001b[32m ▁▅█▆▄▁ \u001b[0m │  │\n",
       "│ │ \u001b[38;5;141mAlaşehir          \u001b[0m │ \u001b[36m   1400\u001b[0m │ \u001b[36m     11\u001b[0m │ \u001b[36m     14\u001b[0m │ \u001b[36m   9.9\u001b[0m │ \u001b[36m    -12\u001b[0m │ \u001b[36m   6.6\u001b[0m │ \u001b[36m    21\u001b[0m │ \u001b[36m     40\u001b[0m │ \u001b[32m ▁▅██▄▁ \u001b[0m │  │\n",
       "│ │ \u001b[38;5;141mDemirci           \u001b[0m │ \u001b[36m   1400\u001b[0m │ \u001b[36m     11\u001b[0m │ \u001b[36m     11\u001b[0m │ \u001b[36m   9.8\u001b[0m │ \u001b[36m    -15\u001b[0m │ \u001b[36m   4.3\u001b[0m │ \u001b[36m    18\u001b[0m │ \u001b[36m     37\u001b[0m │ \u001b[32m ▁▄█▇▄▁ \u001b[0m │  │\n",
       "│ │ \u001b[38;5;141mGüzelyalı         \u001b[0m │ \u001b[36m   1400\u001b[0m │ \u001b[36m     11\u001b[0m │ \u001b[36m     16\u001b[0m │ \u001b[36m   8.8\u001b[0m │ \u001b[36m   -5.8\u001b[0m │ \u001b[36m   9.6\u001b[0m │ \u001b[36m    23\u001b[0m │ \u001b[36m     38\u001b[0m │ \u001b[32m ▁▅█▆▄▁ \u001b[0m │  │\n",
       "│ │ \u001b[38;5;141mKula              \u001b[0m │ \u001b[36m   1400\u001b[0m │ \u001b[36m     11\u001b[0m │ \u001b[36m     13\u001b[0m │ \u001b[36m    10\u001b[0m │ \u001b[36m    -14\u001b[0m │ \u001b[36m   5.8\u001b[0m │ \u001b[36m    20\u001b[0m │ \u001b[36m     39\u001b[0m │ \u001b[32m ▁▄█▇▄▁ \u001b[0m │  │\n",
       "│ │ \u001b[38;5;141mÖdemiş            \u001b[0m │ \u001b[36m   1400\u001b[0m │ \u001b[36m     11\u001b[0m │ \u001b[36m     15\u001b[0m │ \u001b[36m   9.3\u001b[0m │ \u001b[36m     -8\u001b[0m │ \u001b[36m   7.9\u001b[0m │ \u001b[36m    21\u001b[0m │ \u001b[36m     40\u001b[0m │ \u001b[32m ▁▅█▇▄▁ \u001b[0m │  │\n",
       "│ │ \u001b[38;5;141mSoma              \u001b[0m │ \u001b[36m   1400\u001b[0m │ \u001b[36m     11\u001b[0m │ \u001b[36m     14\u001b[0m │ \u001b[36m   9.5\u001b[0m │ \u001b[36m     -9\u001b[0m │ \u001b[36m   7.2\u001b[0m │ \u001b[36m    21\u001b[0m │ \u001b[36m     40\u001b[0m │ \u001b[32m ▁▅█▇▄▁ \u001b[0m │  │\n",
       "│ │ \u001b[38;5;141mUrla              \u001b[0m │ \u001b[36m   1400\u001b[0m │ \u001b[36m     11\u001b[0m │ \u001b[36m     17\u001b[0m │ \u001b[36m   7.7\u001b[0m │ \u001b[36m   -2.4\u001b[0m │ \u001b[36m    11\u001b[0m │ \u001b[36m    23\u001b[0m │ \u001b[36m     37\u001b[0m │ \u001b[32m ▁▅█▇▄▁ \u001b[0m │  │\n",
       "│ └────────────────────┴─────────┴─────────┴─────────┴────────┴─────────┴────────┴────────┴─────────┴──────────┘  │\n",
       "│ \u001b[3m                                                    string                                                    \u001b[0m  │\n",
       "│ ┏━━━━━━━━━━━━━━━━━━━━━━━━━━━┳━━━━━━━━━┳━━━━━━━━━━━━┳━━━━━━━━━━━━━━━━━━━━━━━━━━━━━━┳━━━━━━━━━━━━━━━━━━━━━━━━━━┓  │\n",
       "│ ┃\u001b[1m \u001b[0m\u001b[1mcolumn_name              \u001b[0m\u001b[1m \u001b[0m┃\u001b[1m \u001b[0m\u001b[1mNA     \u001b[0m\u001b[1m \u001b[0m┃\u001b[1m \u001b[0m\u001b[1mNA %      \u001b[0m\u001b[1m \u001b[0m┃\u001b[1m \u001b[0m\u001b[1mwords per row               \u001b[0m\u001b[1m \u001b[0m┃\u001b[1m \u001b[0m\u001b[1mtotal words             \u001b[0m\u001b[1m \u001b[0m┃  │\n",
       "│ ┡━━━━━━━━━━━━━━━━━━━━━━━━━━━╇━━━━━━━━━╇━━━━━━━━━━━━╇━━━━━━━━━━━━━━━━━━━━━━━━━━━━━━╇━━━━━━━━━━━━━━━━━━━━━━━━━━┩  │\n",
       "│ │ \u001b[38;5;141mTarih                    \u001b[0m │ \u001b[36m      0\u001b[0m │ \u001b[36m         0\u001b[0m │ \u001b[36m                           2\u001b[0m │ \u001b[36m                   25000\u001b[0m │  │\n",
       "│ └───────────────────────────┴─────────┴────────────┴──────────────────────────────┴──────────────────────────┘  │\n",
       "╰────────────────────────────────────────────────────── End ──────────────────────────────────────────────────────╯\n"
      ]
     },
     "metadata": {},
     "output_type": "display_data"
    }
   ],
   "source": [
    "skim(df_temp)"
   ]
  },
  {
   "cell_type": "markdown",
   "metadata": {},
   "source": [
    "### **<span style='color:turquoise'> Precipitation </span>** "
   ]
  },
  {
   "cell_type": "markdown",
   "metadata": {},
   "source": [
    "unit = `kg/m²`"
   ]
  },
  {
   "cell_type": "code",
   "execution_count": 196,
   "metadata": {},
   "outputs": [],
   "source": [
    "df9 = pd.read_csv(\"Weather_Yagis.csv\")\n",
    "df_rain = df9.copy()"
   ]
  },
  {
   "cell_type": "code",
   "execution_count": 197,
   "metadata": {},
   "outputs": [
    {
     "data": {
      "text/html": [
       "<div>\n",
       "<style scoped>\n",
       "    .dataframe tbody tr th:only-of-type {\n",
       "        vertical-align: middle;\n",
       "    }\n",
       "\n",
       "    .dataframe tbody tr th {\n",
       "        vertical-align: top;\n",
       "    }\n",
       "\n",
       "    .dataframe thead th {\n",
       "        text-align: right;\n",
       "    }\n",
       "</style>\n",
       "<table border=\"1\" class=\"dataframe\">\n",
       "  <thead>\n",
       "    <tr style=\"text-align: right;\">\n",
       "      <th></th>\n",
       "      <th>Tarih</th>\n",
       "      <th>İzmir</th>\n",
       "      <th>Aliağa</th>\n",
       "      <th>Çeşme</th>\n",
       "      <th>Bergama</th>\n",
       "      <th>Manisa</th>\n",
       "      <th>Akhisar</th>\n",
       "      <th>Salihli</th>\n",
       "      <th>Çiğli</th>\n",
       "      <th>Menderes</th>\n",
       "      <th>Alaşehir</th>\n",
       "      <th>Demirci</th>\n",
       "      <th>Güzelyalı</th>\n",
       "      <th>Kula</th>\n",
       "      <th>Ödemiş</th>\n",
       "      <th>Soma</th>\n",
       "      <th>Urla</th>\n",
       "    </tr>\n",
       "  </thead>\n",
       "  <tbody>\n",
       "    <tr>\n",
       "      <th>0</th>\n",
       "      <td>2021-02-01 00:00:00</td>\n",
       "      <td>0.000</td>\n",
       "      <td>0.000</td>\n",
       "      <td>0.000</td>\n",
       "      <td>0.000</td>\n",
       "      <td>0.000</td>\n",
       "      <td>0.000</td>\n",
       "      <td>0.000</td>\n",
       "      <td>0.000</td>\n",
       "      <td>0.000</td>\n",
       "      <td>NaN</td>\n",
       "      <td>NaN</td>\n",
       "      <td>NaN</td>\n",
       "      <td>NaN</td>\n",
       "      <td>NaN</td>\n",
       "      <td>NaN</td>\n",
       "      <td>NaN</td>\n",
       "    </tr>\n",
       "    <tr>\n",
       "      <th>1</th>\n",
       "      <td>2021-02-01 01:00:00</td>\n",
       "      <td>0.000</td>\n",
       "      <td>0.000</td>\n",
       "      <td>0.000</td>\n",
       "      <td>0.000</td>\n",
       "      <td>0.000</td>\n",
       "      <td>0.000</td>\n",
       "      <td>0.000</td>\n",
       "      <td>0.000</td>\n",
       "      <td>0.000</td>\n",
       "      <td>NaN</td>\n",
       "      <td>NaN</td>\n",
       "      <td>NaN</td>\n",
       "      <td>NaN</td>\n",
       "      <td>NaN</td>\n",
       "      <td>NaN</td>\n",
       "      <td>NaN</td>\n",
       "    </tr>\n",
       "    <tr>\n",
       "      <th>2</th>\n",
       "      <td>2021-02-01 02:00:00</td>\n",
       "      <td>0.000</td>\n",
       "      <td>0.000</td>\n",
       "      <td>0.000</td>\n",
       "      <td>0.000</td>\n",
       "      <td>0.000</td>\n",
       "      <td>0.000</td>\n",
       "      <td>0.000</td>\n",
       "      <td>0.000</td>\n",
       "      <td>0.000</td>\n",
       "      <td>NaN</td>\n",
       "      <td>NaN</td>\n",
       "      <td>NaN</td>\n",
       "      <td>NaN</td>\n",
       "      <td>NaN</td>\n",
       "      <td>NaN</td>\n",
       "      <td>NaN</td>\n",
       "    </tr>\n",
       "    <tr>\n",
       "      <th>3</th>\n",
       "      <td>2021-02-01 03:00:00</td>\n",
       "      <td>0.000</td>\n",
       "      <td>0.000</td>\n",
       "      <td>0.000</td>\n",
       "      <td>0.000</td>\n",
       "      <td>0.000</td>\n",
       "      <td>0.000</td>\n",
       "      <td>0.000</td>\n",
       "      <td>0.000</td>\n",
       "      <td>0.000</td>\n",
       "      <td>NaN</td>\n",
       "      <td>NaN</td>\n",
       "      <td>NaN</td>\n",
       "      <td>NaN</td>\n",
       "      <td>NaN</td>\n",
       "      <td>NaN</td>\n",
       "      <td>NaN</td>\n",
       "    </tr>\n",
       "    <tr>\n",
       "      <th>4</th>\n",
       "      <td>2021-02-01 04:00:00</td>\n",
       "      <td>0.000</td>\n",
       "      <td>0.000</td>\n",
       "      <td>0.021</td>\n",
       "      <td>0.000</td>\n",
       "      <td>0.000</td>\n",
       "      <td>0.000</td>\n",
       "      <td>0.000</td>\n",
       "      <td>0.000</td>\n",
       "      <td>0.021</td>\n",
       "      <td>NaN</td>\n",
       "      <td>NaN</td>\n",
       "      <td>NaN</td>\n",
       "      <td>NaN</td>\n",
       "      <td>NaN</td>\n",
       "      <td>NaN</td>\n",
       "      <td>NaN</td>\n",
       "    </tr>\n",
       "  </tbody>\n",
       "</table>\n",
       "</div>"
      ],
      "text/plain": [
       "                 Tarih  İzmir  Aliağa  Çeşme  Bergama  Manisa  Akhisar  \\\n",
       "0  2021-02-01 00:00:00  0.000   0.000  0.000    0.000   0.000    0.000   \n",
       "1  2021-02-01 01:00:00  0.000   0.000  0.000    0.000   0.000    0.000   \n",
       "2  2021-02-01 02:00:00  0.000   0.000  0.000    0.000   0.000    0.000   \n",
       "3  2021-02-01 03:00:00  0.000   0.000  0.000    0.000   0.000    0.000   \n",
       "4  2021-02-01 04:00:00  0.000   0.000  0.021    0.000   0.000    0.000   \n",
       "\n",
       "   Salihli  Çiğli  Menderes  Alaşehir  Demirci  Güzelyalı  Kula  Ödemiş  Soma  \\\n",
       "0    0.000  0.000     0.000       NaN      NaN        NaN   NaN     NaN   NaN   \n",
       "1    0.000  0.000     0.000       NaN      NaN        NaN   NaN     NaN   NaN   \n",
       "2    0.000  0.000     0.000       NaN      NaN        NaN   NaN     NaN   NaN   \n",
       "3    0.000  0.000     0.000       NaN      NaN        NaN   NaN     NaN   NaN   \n",
       "4    0.000  0.000     0.021       NaN      NaN        NaN   NaN     NaN   NaN   \n",
       "\n",
       "   Urla  \n",
       "0   NaN  \n",
       "1   NaN  \n",
       "2   NaN  \n",
       "3   NaN  \n",
       "4   NaN  "
      ]
     },
     "execution_count": 197,
     "metadata": {},
     "output_type": "execute_result"
    }
   ],
   "source": [
    "df_rain.head()"
   ]
  },
  {
   "cell_type": "code",
   "execution_count": 198,
   "metadata": {},
   "outputs": [
    {
     "data": {
      "text/plain": [
       "(38832, 17)"
      ]
     },
     "execution_count": 198,
     "metadata": {},
     "output_type": "execute_result"
    }
   ],
   "source": [
    "df_rain.shape"
   ]
  },
  {
   "cell_type": "code",
   "execution_count": 199,
   "metadata": {},
   "outputs": [
    {
     "name": "stdout",
     "output_type": "stream",
     "text": [
      "<class 'pandas.core.frame.DataFrame'>\n",
      "RangeIndex: 38832 entries, 0 to 38831\n",
      "Data columns (total 17 columns):\n",
      " #   Column     Non-Null Count  Dtype  \n",
      "---  ------     --------------  -----  \n",
      " 0   Tarih      38832 non-null  object \n",
      " 1   İzmir      11784 non-null  float64\n",
      " 2   Aliağa     11784 non-null  float64\n",
      " 3   Çeşme      38832 non-null  float64\n",
      " 4   Bergama    11784 non-null  float64\n",
      " 5   Manisa     38832 non-null  float64\n",
      " 6   Akhisar    38832 non-null  float64\n",
      " 7   Salihli    11784 non-null  float64\n",
      " 8   Çiğli      11784 non-null  float64\n",
      " 9   Menderes   11784 non-null  float64\n",
      " 10  Alaşehir   11472 non-null  float64\n",
      " 11  Demirci    11472 non-null  float64\n",
      " 12  Güzelyalı  38520 non-null  float64\n",
      " 13  Kula       11472 non-null  float64\n",
      " 14  Ödemiş     11472 non-null  float64\n",
      " 15  Soma       11472 non-null  float64\n",
      " 16  Urla       11472 non-null  float64\n",
      "dtypes: float64(16), object(1)\n",
      "memory usage: 5.0+ MB\n"
     ]
    }
   ],
   "source": [
    "df_rain.info()"
   ]
  },
  {
   "cell_type": "code",
   "execution_count": 200,
   "metadata": {},
   "outputs": [
    {
     "data": {
      "text/html": [
       "<pre style=\"white-space:pre;overflow-x:auto;line-height:normal;font-family:Menlo,'DejaVu Sans Mono',consolas,'Courier New',monospace\">╭──────────────────────────────────────────────── skimpy summary ─────────────────────────────────────────────────╮\n",
       "│ <span style=\"font-style: italic\">         Data Summary         </span> <span style=\"font-style: italic\">      Data Types       </span>                                                          │\n",
       "│ ┏━━━━━━━━━━━━━━━━━━━┳━━━━━━━━┓ ┏━━━━━━━━━━━━━┳━━━━━━━┓                                                          │\n",
       "│ ┃<span style=\"color: #008080; text-decoration-color: #008080; font-weight: bold\"> dataframe         </span>┃<span style=\"color: #008080; text-decoration-color: #008080; font-weight: bold\"> Values </span>┃ ┃<span style=\"color: #008080; text-decoration-color: #008080; font-weight: bold\"> Column Type </span>┃<span style=\"color: #008080; text-decoration-color: #008080; font-weight: bold\"> Count </span>┃                                                          │\n",
       "│ ┡━━━━━━━━━━━━━━━━━━━╇━━━━━━━━┩ ┡━━━━━━━━━━━━━╇━━━━━━━┩                                                          │\n",
       "│ │ Number of rows    │ 38832  │ │ float64     │ 16    │                                                          │\n",
       "│ │ Number of columns │ 17     │ │ string      │ 1     │                                                          │\n",
       "│ └───────────────────┴────────┘ └─────────────┴───────┘                                                          │\n",
       "│ <span style=\"font-style: italic\">                                                    number                                                    </span>  │\n",
       "│ ┏━━━━━━━━━━━━━━━━━━━┳━━━━━━━━━━━┳━━━━━━━━━┳━━━━━━━━━┳━━━━━━━━━┳━━━━━━┳━━━━━━━┳━━━━━━━━━━┳━━━━━━━━━┳━━━━━━━━━━┓  │\n",
       "│ ┃<span style=\"font-weight: bold\"> column_name       </span>┃<span style=\"font-weight: bold\"> NA        </span>┃<span style=\"font-weight: bold\"> NA %    </span>┃<span style=\"font-weight: bold\"> mean    </span>┃<span style=\"font-weight: bold\"> sd      </span>┃<span style=\"font-weight: bold\"> p0   </span>┃<span style=\"font-weight: bold\"> p25   </span>┃<span style=\"font-weight: bold\"> p75      </span>┃<span style=\"font-weight: bold\"> p100    </span>┃<span style=\"font-weight: bold\"> hist     </span>┃  │\n",
       "│ ┡━━━━━━━━━━━━━━━━━━━╇━━━━━━━━━━━╇━━━━━━━━━╇━━━━━━━━━╇━━━━━━━━━╇━━━━━━╇━━━━━━━╇━━━━━━━━━━╇━━━━━━━━━╇━━━━━━━━━━┩  │\n",
       "│ │ <span style=\"color: #af87ff; text-decoration-color: #af87ff\">İzmir            </span> │ <span style=\"color: #008080; text-decoration-color: #008080\">    27000</span> │ <span style=\"color: #008080; text-decoration-color: #008080\">     70</span> │ <span style=\"color: #008080; text-decoration-color: #008080\">   0.31</span> │ <span style=\"color: #008080; text-decoration-color: #008080\">    1.4</span> │ <span style=\"color: #008080; text-decoration-color: #008080\">   0</span> │ <span style=\"color: #008080; text-decoration-color: #008080\">    0</span> │ <span style=\"color: #008080; text-decoration-color: #008080\">       0</span> │ <span style=\"color: #008080; text-decoration-color: #008080\">     31</span> │ <span style=\"color: #008000; text-decoration-color: #008000\">   █    </span> │  │\n",
       "│ │ <span style=\"color: #af87ff; text-decoration-color: #af87ff\">Aliağa           </span> │ <span style=\"color: #008080; text-decoration-color: #008080\">    27000</span> │ <span style=\"color: #008080; text-decoration-color: #008080\">     70</span> │ <span style=\"color: #008080; text-decoration-color: #008080\">   0.31</span> │ <span style=\"color: #008080; text-decoration-color: #008080\">    1.2</span> │ <span style=\"color: #008080; text-decoration-color: #008080\">   0</span> │ <span style=\"color: #008080; text-decoration-color: #008080\">    0</span> │ <span style=\"color: #008080; text-decoration-color: #008080\">       0</span> │ <span style=\"color: #008080; text-decoration-color: #008080\">     27</span> │ <span style=\"color: #008000; text-decoration-color: #008000\">   █    </span> │  │\n",
       "│ │ <span style=\"color: #af87ff; text-decoration-color: #af87ff\">Çeşme            </span> │ <span style=\"color: #008080; text-decoration-color: #008080\">        0</span> │ <span style=\"color: #008080; text-decoration-color: #008080\">      0</span> │ <span style=\"color: #008080; text-decoration-color: #008080\">   0.15</span> │ <span style=\"color: #008080; text-decoration-color: #008080\">   0.78</span> │ <span style=\"color: #008080; text-decoration-color: #008080\">   0</span> │ <span style=\"color: #008080; text-decoration-color: #008080\">    0</span> │ <span style=\"color: #008080; text-decoration-color: #008080\">       0</span> │ <span style=\"color: #008080; text-decoration-color: #008080\">     27</span> │ <span style=\"color: #008000; text-decoration-color: #008000\">   █    </span> │  │\n",
       "│ │ <span style=\"color: #af87ff; text-decoration-color: #af87ff\">Bergama          </span> │ <span style=\"color: #008080; text-decoration-color: #008080\">    27000</span> │ <span style=\"color: #008080; text-decoration-color: #008080\">     70</span> │ <span style=\"color: #008080; text-decoration-color: #008080\">   0.31</span> │ <span style=\"color: #008080; text-decoration-color: #008080\">    1.2</span> │ <span style=\"color: #008080; text-decoration-color: #008080\">   0</span> │ <span style=\"color: #008080; text-decoration-color: #008080\">    0</span> │ <span style=\"color: #008080; text-decoration-color: #008080\">       0</span> │ <span style=\"color: #008080; text-decoration-color: #008080\">     27</span> │ <span style=\"color: #008000; text-decoration-color: #008000\">   █    </span> │  │\n",
       "│ │ <span style=\"color: #af87ff; text-decoration-color: #af87ff\">Manisa           </span> │ <span style=\"color: #008080; text-decoration-color: #008080\">        0</span> │ <span style=\"color: #008080; text-decoration-color: #008080\">      0</span> │ <span style=\"color: #008080; text-decoration-color: #008080\">   0.16</span> │ <span style=\"color: #008080; text-decoration-color: #008080\">      1</span> │ <span style=\"color: #008080; text-decoration-color: #008080\">   0</span> │ <span style=\"color: #008080; text-decoration-color: #008080\">    0</span> │ <span style=\"color: #008080; text-decoration-color: #008080\">   0.001</span> │ <span style=\"color: #008080; text-decoration-color: #008080\">     41</span> │ <span style=\"color: #008000; text-decoration-color: #008000\">   █    </span> │  │\n",
       "│ │ <span style=\"color: #af87ff; text-decoration-color: #af87ff\">Akhisar          </span> │ <span style=\"color: #008080; text-decoration-color: #008080\">        0</span> │ <span style=\"color: #008080; text-decoration-color: #008080\">      0</span> │ <span style=\"color: #008080; text-decoration-color: #008080\">   0.13</span> │ <span style=\"color: #008080; text-decoration-color: #008080\">   0.82</span> │ <span style=\"color: #008080; text-decoration-color: #008080\">   0</span> │ <span style=\"color: #008080; text-decoration-color: #008080\">    0</span> │ <span style=\"color: #008080; text-decoration-color: #008080\">       0</span> │ <span style=\"color: #008080; text-decoration-color: #008080\">     50</span> │ <span style=\"color: #008000; text-decoration-color: #008000\">   █    </span> │  │\n",
       "│ │ <span style=\"color: #af87ff; text-decoration-color: #af87ff\">Salihli          </span> │ <span style=\"color: #008080; text-decoration-color: #008080\">    27000</span> │ <span style=\"color: #008080; text-decoration-color: #008080\">     70</span> │ <span style=\"color: #008080; text-decoration-color: #008080\">   0.28</span> │ <span style=\"color: #008080; text-decoration-color: #008080\">    1.1</span> │ <span style=\"color: #008080; text-decoration-color: #008080\">   0</span> │ <span style=\"color: #008080; text-decoration-color: #008080\">    0</span> │ <span style=\"color: #008080; text-decoration-color: #008080\">   0.021</span> │ <span style=\"color: #008080; text-decoration-color: #008080\">     21</span> │ <span style=\"color: #008000; text-decoration-color: #008000\">   █    </span> │  │\n",
       "│ │ <span style=\"color: #af87ff; text-decoration-color: #af87ff\">Çiğli            </span> │ <span style=\"color: #008080; text-decoration-color: #008080\">    27000</span> │ <span style=\"color: #008080; text-decoration-color: #008080\">     70</span> │ <span style=\"color: #008080; text-decoration-color: #008080\">   0.31</span> │ <span style=\"color: #008080; text-decoration-color: #008080\">    1.4</span> │ <span style=\"color: #008080; text-decoration-color: #008080\">   0</span> │ <span style=\"color: #008080; text-decoration-color: #008080\">    0</span> │ <span style=\"color: #008080; text-decoration-color: #008080\">       0</span> │ <span style=\"color: #008080; text-decoration-color: #008080\">     31</span> │ <span style=\"color: #008000; text-decoration-color: #008000\">   █    </span> │  │\n",
       "│ │ <span style=\"color: #af87ff; text-decoration-color: #af87ff\">Menderes         </span> │ <span style=\"color: #008080; text-decoration-color: #008080\">    27000</span> │ <span style=\"color: #008080; text-decoration-color: #008080\">     70</span> │ <span style=\"color: #008080; text-decoration-color: #008080\">   0.35</span> │ <span style=\"color: #008080; text-decoration-color: #008080\">    1.6</span> │ <span style=\"color: #008080; text-decoration-color: #008080\">   0</span> │ <span style=\"color: #008080; text-decoration-color: #008080\">    0</span> │ <span style=\"color: #008080; text-decoration-color: #008080\">       0</span> │ <span style=\"color: #008080; text-decoration-color: #008080\">     36</span> │ <span style=\"color: #008000; text-decoration-color: #008000\">   █    </span> │  │\n",
       "│ │ <span style=\"color: #af87ff; text-decoration-color: #af87ff\">Alaşehir         </span> │ <span style=\"color: #008080; text-decoration-color: #008080\">    27000</span> │ <span style=\"color: #008080; text-decoration-color: #008080\">     70</span> │ <span style=\"color: #008080; text-decoration-color: #008080\">   0.27</span> │ <span style=\"color: #008080; text-decoration-color: #008080\">    1.1</span> │ <span style=\"color: #008080; text-decoration-color: #008080\">   0</span> │ <span style=\"color: #008080; text-decoration-color: #008080\">    0</span> │ <span style=\"color: #008080; text-decoration-color: #008080\">       0</span> │ <span style=\"color: #008080; text-decoration-color: #008080\">     21</span> │ <span style=\"color: #008000; text-decoration-color: #008000\">   █    </span> │  │\n",
       "│ │ <span style=\"color: #af87ff; text-decoration-color: #af87ff\">Demirci          </span> │ <span style=\"color: #008080; text-decoration-color: #008080\">    27000</span> │ <span style=\"color: #008080; text-decoration-color: #008080\">     70</span> │ <span style=\"color: #008080; text-decoration-color: #008080\">   0.27</span> │ <span style=\"color: #008080; text-decoration-color: #008080\">    1.1</span> │ <span style=\"color: #008080; text-decoration-color: #008080\">   0</span> │ <span style=\"color: #008080; text-decoration-color: #008080\">    0</span> │ <span style=\"color: #008080; text-decoration-color: #008080\">   0.042</span> │ <span style=\"color: #008080; text-decoration-color: #008080\">     15</span> │ <span style=\"color: #008000; text-decoration-color: #008000\">   █    </span> │  │\n",
       "│ │ <span style=\"color: #af87ff; text-decoration-color: #af87ff\">Güzelyalı        </span> │ <span style=\"color: #008080; text-decoration-color: #008080\">      310</span> │ <span style=\"color: #008080; text-decoration-color: #008080\">    0.8</span> │ <span style=\"color: #008080; text-decoration-color: #008080\">   0.15</span> │ <span style=\"color: #008080; text-decoration-color: #008080\">    0.9</span> │ <span style=\"color: #008080; text-decoration-color: #008080\">   0</span> │ <span style=\"color: #008080; text-decoration-color: #008080\">    0</span> │ <span style=\"color: #008080; text-decoration-color: #008080\">       0</span> │ <span style=\"color: #008080; text-decoration-color: #008080\">     33</span> │ <span style=\"color: #008000; text-decoration-color: #008000\">   █    </span> │  │\n",
       "│ │ <span style=\"color: #af87ff; text-decoration-color: #af87ff\">Kula             </span> │ <span style=\"color: #008080; text-decoration-color: #008080\">    27000</span> │ <span style=\"color: #008080; text-decoration-color: #008080\">     70</span> │ <span style=\"color: #008080; text-decoration-color: #008080\">   0.27</span> │ <span style=\"color: #008080; text-decoration-color: #008080\">    1.1</span> │ <span style=\"color: #008080; text-decoration-color: #008080\">   0</span> │ <span style=\"color: #008080; text-decoration-color: #008080\">    0</span> │ <span style=\"color: #008080; text-decoration-color: #008080\">       0</span> │ <span style=\"color: #008080; text-decoration-color: #008080\">     21</span> │ <span style=\"color: #008000; text-decoration-color: #008000\">   █    </span> │  │\n",
       "│ │ <span style=\"color: #af87ff; text-decoration-color: #af87ff\">Ödemiş           </span> │ <span style=\"color: #008080; text-decoration-color: #008080\">    27000</span> │ <span style=\"color: #008080; text-decoration-color: #008080\">     70</span> │ <span style=\"color: #008080; text-decoration-color: #008080\">   0.33</span> │ <span style=\"color: #008080; text-decoration-color: #008080\">    1.3</span> │ <span style=\"color: #008080; text-decoration-color: #008080\">   0</span> │ <span style=\"color: #008080; text-decoration-color: #008080\">    0</span> │ <span style=\"color: #008080; text-decoration-color: #008080\">       0</span> │ <span style=\"color: #008080; text-decoration-color: #008080\">     24</span> │ <span style=\"color: #008000; text-decoration-color: #008000\">   █    </span> │  │\n",
       "│ │ <span style=\"color: #af87ff; text-decoration-color: #af87ff\">Soma             </span> │ <span style=\"color: #008080; text-decoration-color: #008080\">    27000</span> │ <span style=\"color: #008080; text-decoration-color: #008080\">     70</span> │ <span style=\"color: #008080; text-decoration-color: #008080\">   0.28</span> │ <span style=\"color: #008080; text-decoration-color: #008080\">    1.3</span> │ <span style=\"color: #008080; text-decoration-color: #008080\">   0</span> │ <span style=\"color: #008080; text-decoration-color: #008080\">    0</span> │ <span style=\"color: #008080; text-decoration-color: #008080\">       0</span> │ <span style=\"color: #008080; text-decoration-color: #008080\">     25</span> │ <span style=\"color: #008000; text-decoration-color: #008000\">   █    </span> │  │\n",
       "│ │ <span style=\"color: #af87ff; text-decoration-color: #af87ff\">Urla             </span> │ <span style=\"color: #008080; text-decoration-color: #008080\">    27000</span> │ <span style=\"color: #008080; text-decoration-color: #008080\">     70</span> │ <span style=\"color: #008080; text-decoration-color: #008080\">    0.3</span> │ <span style=\"color: #008080; text-decoration-color: #008080\">    1.4</span> │ <span style=\"color: #008080; text-decoration-color: #008080\">   0</span> │ <span style=\"color: #008080; text-decoration-color: #008080\">    0</span> │ <span style=\"color: #008080; text-decoration-color: #008080\">       0</span> │ <span style=\"color: #008080; text-decoration-color: #008080\">     31</span> │ <span style=\"color: #008000; text-decoration-color: #008000\">   █    </span> │  │\n",
       "│ └───────────────────┴───────────┴─────────┴─────────┴─────────┴──────┴───────┴──────────┴─────────┴──────────┘  │\n",
       "│ <span style=\"font-style: italic\">                                                    string                                                    </span>  │\n",
       "│ ┏━━━━━━━━━━━━━━━━━━━━━━━━━━━┳━━━━━━━━━┳━━━━━━━━━━━━┳━━━━━━━━━━━━━━━━━━━━━━━━━━━━━━┳━━━━━━━━━━━━━━━━━━━━━━━━━━┓  │\n",
       "│ ┃<span style=\"font-weight: bold\"> column_name               </span>┃<span style=\"font-weight: bold\"> NA      </span>┃<span style=\"font-weight: bold\"> NA %       </span>┃<span style=\"font-weight: bold\"> words per row                </span>┃<span style=\"font-weight: bold\"> total words              </span>┃  │\n",
       "│ ┡━━━━━━━━━━━━━━━━━━━━━━━━━━━╇━━━━━━━━━╇━━━━━━━━━━━━╇━━━━━━━━━━━━━━━━━━━━━━━━━━━━━━╇━━━━━━━━━━━━━━━━━━━━━━━━━━┩  │\n",
       "│ │ <span style=\"color: #af87ff; text-decoration-color: #af87ff\">Tarih                    </span> │ <span style=\"color: #008080; text-decoration-color: #008080\">      0</span> │ <span style=\"color: #008080; text-decoration-color: #008080\">         0</span> │ <span style=\"color: #008080; text-decoration-color: #008080\">                           2</span> │ <span style=\"color: #008080; text-decoration-color: #008080\">                   78000</span> │  │\n",
       "│ └───────────────────────────┴─────────┴────────────┴──────────────────────────────┴──────────────────────────┘  │\n",
       "╰────────────────────────────────────────────────────── End ──────────────────────────────────────────────────────╯\n",
       "</pre>\n"
      ],
      "text/plain": [
       "╭──────────────────────────────────────────────── skimpy summary ─────────────────────────────────────────────────╮\n",
       "│ \u001b[3m         Data Summary         \u001b[0m \u001b[3m      Data Types       \u001b[0m                                                          │\n",
       "│ ┏━━━━━━━━━━━━━━━━━━━┳━━━━━━━━┓ ┏━━━━━━━━━━━━━┳━━━━━━━┓                                                          │\n",
       "│ ┃\u001b[1;36m \u001b[0m\u001b[1;36mdataframe        \u001b[0m\u001b[1;36m \u001b[0m┃\u001b[1;36m \u001b[0m\u001b[1;36mValues\u001b[0m\u001b[1;36m \u001b[0m┃ ┃\u001b[1;36m \u001b[0m\u001b[1;36mColumn Type\u001b[0m\u001b[1;36m \u001b[0m┃\u001b[1;36m \u001b[0m\u001b[1;36mCount\u001b[0m\u001b[1;36m \u001b[0m┃                                                          │\n",
       "│ ┡━━━━━━━━━━━━━━━━━━━╇━━━━━━━━┩ ┡━━━━━━━━━━━━━╇━━━━━━━┩                                                          │\n",
       "│ │ Number of rows    │ 38832  │ │ float64     │ 16    │                                                          │\n",
       "│ │ Number of columns │ 17     │ │ string      │ 1     │                                                          │\n",
       "│ └───────────────────┴────────┘ └─────────────┴───────┘                                                          │\n",
       "│ \u001b[3m                                                    number                                                    \u001b[0m  │\n",
       "│ ┏━━━━━━━━━━━━━━━━━━━┳━━━━━━━━━━━┳━━━━━━━━━┳━━━━━━━━━┳━━━━━━━━━┳━━━━━━┳━━━━━━━┳━━━━━━━━━━┳━━━━━━━━━┳━━━━━━━━━━┓  │\n",
       "│ ┃\u001b[1m \u001b[0m\u001b[1mcolumn_name      \u001b[0m\u001b[1m \u001b[0m┃\u001b[1m \u001b[0m\u001b[1mNA       \u001b[0m\u001b[1m \u001b[0m┃\u001b[1m \u001b[0m\u001b[1mNA %   \u001b[0m\u001b[1m \u001b[0m┃\u001b[1m \u001b[0m\u001b[1mmean   \u001b[0m\u001b[1m \u001b[0m┃\u001b[1m \u001b[0m\u001b[1msd     \u001b[0m\u001b[1m \u001b[0m┃\u001b[1m \u001b[0m\u001b[1mp0  \u001b[0m\u001b[1m \u001b[0m┃\u001b[1m \u001b[0m\u001b[1mp25  \u001b[0m\u001b[1m \u001b[0m┃\u001b[1m \u001b[0m\u001b[1mp75     \u001b[0m\u001b[1m \u001b[0m┃\u001b[1m \u001b[0m\u001b[1mp100   \u001b[0m\u001b[1m \u001b[0m┃\u001b[1m \u001b[0m\u001b[1mhist    \u001b[0m\u001b[1m \u001b[0m┃  │\n",
       "│ ┡━━━━━━━━━━━━━━━━━━━╇━━━━━━━━━━━╇━━━━━━━━━╇━━━━━━━━━╇━━━━━━━━━╇━━━━━━╇━━━━━━━╇━━━━━━━━━━╇━━━━━━━━━╇━━━━━━━━━━┩  │\n",
       "│ │ \u001b[38;5;141mİzmir            \u001b[0m │ \u001b[36m    27000\u001b[0m │ \u001b[36m     70\u001b[0m │ \u001b[36m   0.31\u001b[0m │ \u001b[36m    1.4\u001b[0m │ \u001b[36m   0\u001b[0m │ \u001b[36m    0\u001b[0m │ \u001b[36m       0\u001b[0m │ \u001b[36m     31\u001b[0m │ \u001b[32m   █    \u001b[0m │  │\n",
       "│ │ \u001b[38;5;141mAliağa           \u001b[0m │ \u001b[36m    27000\u001b[0m │ \u001b[36m     70\u001b[0m │ \u001b[36m   0.31\u001b[0m │ \u001b[36m    1.2\u001b[0m │ \u001b[36m   0\u001b[0m │ \u001b[36m    0\u001b[0m │ \u001b[36m       0\u001b[0m │ \u001b[36m     27\u001b[0m │ \u001b[32m   █    \u001b[0m │  │\n",
       "│ │ \u001b[38;5;141mÇeşme            \u001b[0m │ \u001b[36m        0\u001b[0m │ \u001b[36m      0\u001b[0m │ \u001b[36m   0.15\u001b[0m │ \u001b[36m   0.78\u001b[0m │ \u001b[36m   0\u001b[0m │ \u001b[36m    0\u001b[0m │ \u001b[36m       0\u001b[0m │ \u001b[36m     27\u001b[0m │ \u001b[32m   █    \u001b[0m │  │\n",
       "│ │ \u001b[38;5;141mBergama          \u001b[0m │ \u001b[36m    27000\u001b[0m │ \u001b[36m     70\u001b[0m │ \u001b[36m   0.31\u001b[0m │ \u001b[36m    1.2\u001b[0m │ \u001b[36m   0\u001b[0m │ \u001b[36m    0\u001b[0m │ \u001b[36m       0\u001b[0m │ \u001b[36m     27\u001b[0m │ \u001b[32m   █    \u001b[0m │  │\n",
       "│ │ \u001b[38;5;141mManisa           \u001b[0m │ \u001b[36m        0\u001b[0m │ \u001b[36m      0\u001b[0m │ \u001b[36m   0.16\u001b[0m │ \u001b[36m      1\u001b[0m │ \u001b[36m   0\u001b[0m │ \u001b[36m    0\u001b[0m │ \u001b[36m   0.001\u001b[0m │ \u001b[36m     41\u001b[0m │ \u001b[32m   █    \u001b[0m │  │\n",
       "│ │ \u001b[38;5;141mAkhisar          \u001b[0m │ \u001b[36m        0\u001b[0m │ \u001b[36m      0\u001b[0m │ \u001b[36m   0.13\u001b[0m │ \u001b[36m   0.82\u001b[0m │ \u001b[36m   0\u001b[0m │ \u001b[36m    0\u001b[0m │ \u001b[36m       0\u001b[0m │ \u001b[36m     50\u001b[0m │ \u001b[32m   █    \u001b[0m │  │\n",
       "│ │ \u001b[38;5;141mSalihli          \u001b[0m │ \u001b[36m    27000\u001b[0m │ \u001b[36m     70\u001b[0m │ \u001b[36m   0.28\u001b[0m │ \u001b[36m    1.1\u001b[0m │ \u001b[36m   0\u001b[0m │ \u001b[36m    0\u001b[0m │ \u001b[36m   0.021\u001b[0m │ \u001b[36m     21\u001b[0m │ \u001b[32m   █    \u001b[0m │  │\n",
       "│ │ \u001b[38;5;141mÇiğli            \u001b[0m │ \u001b[36m    27000\u001b[0m │ \u001b[36m     70\u001b[0m │ \u001b[36m   0.31\u001b[0m │ \u001b[36m    1.4\u001b[0m │ \u001b[36m   0\u001b[0m │ \u001b[36m    0\u001b[0m │ \u001b[36m       0\u001b[0m │ \u001b[36m     31\u001b[0m │ \u001b[32m   █    \u001b[0m │  │\n",
       "│ │ \u001b[38;5;141mMenderes         \u001b[0m │ \u001b[36m    27000\u001b[0m │ \u001b[36m     70\u001b[0m │ \u001b[36m   0.35\u001b[0m │ \u001b[36m    1.6\u001b[0m │ \u001b[36m   0\u001b[0m │ \u001b[36m    0\u001b[0m │ \u001b[36m       0\u001b[0m │ \u001b[36m     36\u001b[0m │ \u001b[32m   █    \u001b[0m │  │\n",
       "│ │ \u001b[38;5;141mAlaşehir         \u001b[0m │ \u001b[36m    27000\u001b[0m │ \u001b[36m     70\u001b[0m │ \u001b[36m   0.27\u001b[0m │ \u001b[36m    1.1\u001b[0m │ \u001b[36m   0\u001b[0m │ \u001b[36m    0\u001b[0m │ \u001b[36m       0\u001b[0m │ \u001b[36m     21\u001b[0m │ \u001b[32m   █    \u001b[0m │  │\n",
       "│ │ \u001b[38;5;141mDemirci          \u001b[0m │ \u001b[36m    27000\u001b[0m │ \u001b[36m     70\u001b[0m │ \u001b[36m   0.27\u001b[0m │ \u001b[36m    1.1\u001b[0m │ \u001b[36m   0\u001b[0m │ \u001b[36m    0\u001b[0m │ \u001b[36m   0.042\u001b[0m │ \u001b[36m     15\u001b[0m │ \u001b[32m   █    \u001b[0m │  │\n",
       "│ │ \u001b[38;5;141mGüzelyalı        \u001b[0m │ \u001b[36m      310\u001b[0m │ \u001b[36m    0.8\u001b[0m │ \u001b[36m   0.15\u001b[0m │ \u001b[36m    0.9\u001b[0m │ \u001b[36m   0\u001b[0m │ \u001b[36m    0\u001b[0m │ \u001b[36m       0\u001b[0m │ \u001b[36m     33\u001b[0m │ \u001b[32m   █    \u001b[0m │  │\n",
       "│ │ \u001b[38;5;141mKula             \u001b[0m │ \u001b[36m    27000\u001b[0m │ \u001b[36m     70\u001b[0m │ \u001b[36m   0.27\u001b[0m │ \u001b[36m    1.1\u001b[0m │ \u001b[36m   0\u001b[0m │ \u001b[36m    0\u001b[0m │ \u001b[36m       0\u001b[0m │ \u001b[36m     21\u001b[0m │ \u001b[32m   █    \u001b[0m │  │\n",
       "│ │ \u001b[38;5;141mÖdemiş           \u001b[0m │ \u001b[36m    27000\u001b[0m │ \u001b[36m     70\u001b[0m │ \u001b[36m   0.33\u001b[0m │ \u001b[36m    1.3\u001b[0m │ \u001b[36m   0\u001b[0m │ \u001b[36m    0\u001b[0m │ \u001b[36m       0\u001b[0m │ \u001b[36m     24\u001b[0m │ \u001b[32m   █    \u001b[0m │  │\n",
       "│ │ \u001b[38;5;141mSoma             \u001b[0m │ \u001b[36m    27000\u001b[0m │ \u001b[36m     70\u001b[0m │ \u001b[36m   0.28\u001b[0m │ \u001b[36m    1.3\u001b[0m │ \u001b[36m   0\u001b[0m │ \u001b[36m    0\u001b[0m │ \u001b[36m       0\u001b[0m │ \u001b[36m     25\u001b[0m │ \u001b[32m   █    \u001b[0m │  │\n",
       "│ │ \u001b[38;5;141mUrla             \u001b[0m │ \u001b[36m    27000\u001b[0m │ \u001b[36m     70\u001b[0m │ \u001b[36m    0.3\u001b[0m │ \u001b[36m    1.4\u001b[0m │ \u001b[36m   0\u001b[0m │ \u001b[36m    0\u001b[0m │ \u001b[36m       0\u001b[0m │ \u001b[36m     31\u001b[0m │ \u001b[32m   █    \u001b[0m │  │\n",
       "│ └───────────────────┴───────────┴─────────┴─────────┴─────────┴──────┴───────┴──────────┴─────────┴──────────┘  │\n",
       "│ \u001b[3m                                                    string                                                    \u001b[0m  │\n",
       "│ ┏━━━━━━━━━━━━━━━━━━━━━━━━━━━┳━━━━━━━━━┳━━━━━━━━━━━━┳━━━━━━━━━━━━━━━━━━━━━━━━━━━━━━┳━━━━━━━━━━━━━━━━━━━━━━━━━━┓  │\n",
       "│ ┃\u001b[1m \u001b[0m\u001b[1mcolumn_name              \u001b[0m\u001b[1m \u001b[0m┃\u001b[1m \u001b[0m\u001b[1mNA     \u001b[0m\u001b[1m \u001b[0m┃\u001b[1m \u001b[0m\u001b[1mNA %      \u001b[0m\u001b[1m \u001b[0m┃\u001b[1m \u001b[0m\u001b[1mwords per row               \u001b[0m\u001b[1m \u001b[0m┃\u001b[1m \u001b[0m\u001b[1mtotal words             \u001b[0m\u001b[1m \u001b[0m┃  │\n",
       "│ ┡━━━━━━━━━━━━━━━━━━━━━━━━━━━╇━━━━━━━━━╇━━━━━━━━━━━━╇━━━━━━━━━━━━━━━━━━━━━━━━━━━━━━╇━━━━━━━━━━━━━━━━━━━━━━━━━━┩  │\n",
       "│ │ \u001b[38;5;141mTarih                    \u001b[0m │ \u001b[36m      0\u001b[0m │ \u001b[36m         0\u001b[0m │ \u001b[36m                           2\u001b[0m │ \u001b[36m                   78000\u001b[0m │  │\n",
       "│ └───────────────────────────┴─────────┴────────────┴──────────────────────────────┴──────────────────────────┘  │\n",
       "╰────────────────────────────────────────────────────── End ──────────────────────────────────────────────────────╯\n"
      ]
     },
     "metadata": {},
     "output_type": "display_data"
    }
   ],
   "source": [
    "skim(df_rain)"
   ]
  },
  {
   "cell_type": "code",
   "execution_count": null,
   "metadata": {},
   "outputs": [],
   "source": []
  }
 ],
 "metadata": {
  "kernelspec": {
   "display_name": "Python 3.9.7 ('base')",
   "language": "python",
   "name": "python3"
  },
  "language_info": {
   "codemirror_mode": {
    "name": "ipython",
    "version": 3
   },
   "file_extension": ".py",
   "mimetype": "text/x-python",
   "name": "python",
   "nbconvert_exporter": "python",
   "pygments_lexer": "ipython3",
   "version": "3.9.7"
  },
  "orig_nbformat": 4,
  "vscode": {
   "interpreter": {
    "hash": "c0213b4e991faad0eaee93c2092d45d01284204b86fafe651bbf22ab4807397a"
   }
  }
 },
 "nbformat": 4,
 "nbformat_minor": 2
}
