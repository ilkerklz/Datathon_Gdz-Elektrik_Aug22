{
 "cells": [
  {
   "cell_type": "markdown",
   "metadata": {},
   "source": [
    "# .<p style=\"background-color:#9d4f8c; font-family:newtimeroman; color:#FFF9ED; font-size:175%; text-align:center; border-radius:10px 10px;\">Exploratory Data Analysis - Gdz Elektrik Datathon (Aug 2022)</p>"
   ]
  },
  {
   "cell_type": "markdown",
   "metadata": {},
   "source": [
    "## .<p style=\"background-color:#00b386; font-family:newtimeroman; color:#FFF9ED; font-size:175%; text-align:center; border-radius:10px 10px;\">Case-2</p>"
   ]
  },
  {
   "cell_type": "markdown",
   "metadata": {},
   "source": [
    "**Expectation**: Prediction of call center requests arising from unplanned power outages"
   ]
  },
  {
   "cell_type": "markdown",
   "metadata": {},
   "source": [
    "## Importing Libraries"
   ]
  },
  {
   "cell_type": "code",
   "execution_count": 1,
   "metadata": {},
   "outputs": [],
   "source": [
    "import numpy as np\n",
    "import pandas as pd\n",
    "import seaborn as sns\n",
    "import matplotlib.pyplot as plt\n",
    "from matplotlib import style\n",
    "%matplotlib inline\n",
    "\n",
    "from skimpy import clean_columns\n",
    "from skimpy import skim\n",
    "import scipy.stats as stats\n",
    "import re\n",
    "\n",
    "# import warnings\n",
    "# warnings.filterwarnings(\"ignore\")\n",
    "# warnings.warn(\"this will not show\")\n",
    "\n",
    "plt.rcParams[\"figure.figsize\"] = (10,6)\n",
    "\n",
    "sns.set_style(\"whitegrid\")\n",
    "pd.set_option('display.float_format', lambda x: '%.3f' % x)\n",
    "\n",
    "# Set it None to display all rows in the dataframe\n",
    "# pd.set_option('display.max_rows', None)\n",
    "\n",
    "# Set it to None to display all columns in the dataframe\n",
    "pd.set_option('display.max_columns', None)"
   ]
  },
  {
   "cell_type": "markdown",
   "metadata": {},
   "source": [
    "## Reading the **Train** Data"
   ]
  },
  {
   "cell_type": "code",
   "execution_count": 18,
   "metadata": {},
   "outputs": [],
   "source": [
    "df0 = pd.read_csv(\"case2_train.csv\")\n",
    "df = df0.copy()"
   ]
  },
  {
   "cell_type": "code",
   "execution_count": 19,
   "metadata": {},
   "outputs": [
    {
     "data": {
      "text/html": [
       "<div>\n",
       "<style scoped>\n",
       "    .dataframe tbody tr th:only-of-type {\n",
       "        vertical-align: middle;\n",
       "    }\n",
       "\n",
       "    .dataframe tbody tr th {\n",
       "        vertical-align: top;\n",
       "    }\n",
       "\n",
       "    .dataframe thead th {\n",
       "        text-align: right;\n",
       "    }\n",
       "</style>\n",
       "<table border=\"1\" class=\"dataframe\">\n",
       "  <thead>\n",
       "    <tr style=\"text-align: right;\">\n",
       "      <th></th>\n",
       "      <th>0</th>\n",
       "      <th>1</th>\n",
       "    </tr>\n",
       "  </thead>\n",
       "  <tbody>\n",
       "    <tr>\n",
       "      <th>KESİNTİ_NO</th>\n",
       "      <td>2225427</td>\n",
       "      <td>1885097</td>\n",
       "    </tr>\n",
       "    <tr>\n",
       "      <th>İL</th>\n",
       "      <td>İZMİR</td>\n",
       "      <td>İZMİR</td>\n",
       "    </tr>\n",
       "    <tr>\n",
       "      <th>İLÇE</th>\n",
       "      <td>ÇEŞME</td>\n",
       "      <td>ÇEŞME</td>\n",
       "    </tr>\n",
       "    <tr>\n",
       "      <th>ŞEBEKE_UNSURU</th>\n",
       "      <td>AG Fideri</td>\n",
       "      <td>Abone Tesisi</td>\n",
       "    </tr>\n",
       "    <tr>\n",
       "      <th>ŞEBEKE_UNSURU_KODU</th>\n",
       "      <td>L-36 35-18-L00036__72410820_72410820</td>\n",
       "      <td>L-356 BAŞKENT SİTESİ 35-18-L00356_950455448_95...</td>\n",
       "    </tr>\n",
       "    <tr>\n",
       "      <th>KESİNTİ_NEDENİNE_İLİŞKİN_AÇIKLAMA</th>\n",
       "      <td>AG Tel Kopuğu</td>\n",
       "      <td>AG Havai Branşman Arızası</td>\n",
       "    </tr>\n",
       "    <tr>\n",
       "      <th>KAYNAĞA_GÖRE</th>\n",
       "      <td>Dağıtım-AG</td>\n",
       "      <td>Dağıtım-AG</td>\n",
       "    </tr>\n",
       "    <tr>\n",
       "      <th>SÜREYE_GÖRE</th>\n",
       "      <td>Uzun</td>\n",
       "      <td>Uzun</td>\n",
       "    </tr>\n",
       "    <tr>\n",
       "      <th>SEBEBE_GÖRE</th>\n",
       "      <td>Şebeke işletmecisi</td>\n",
       "      <td>Şebeke işletmecisi</td>\n",
       "    </tr>\n",
       "    <tr>\n",
       "      <th>BİLDİRİME_GÖRE</th>\n",
       "      <td>Bildirimsiz</td>\n",
       "      <td>Bildirimsiz</td>\n",
       "    </tr>\n",
       "    <tr>\n",
       "      <th>BAŞLAMA_TARİHİ_VE_ZAMANI</th>\n",
       "      <td>24.01.2022 12:00:49</td>\n",
       "      <td>18.07.2021 08:56:42</td>\n",
       "    </tr>\n",
       "    <tr>\n",
       "      <th>SONA_ERME_TARİHİ_VE_ZAMANI</th>\n",
       "      <td>24.01.2022 15:29:34</td>\n",
       "      <td>18.07.2021 20:24:30</td>\n",
       "    </tr>\n",
       "    <tr>\n",
       "      <th>KESİNTİ_SÜRESİ</th>\n",
       "      <td>3.479</td>\n",
       "      <td>11.463</td>\n",
       "    </tr>\n",
       "    <tr>\n",
       "      <th>KENTSEL_OG</th>\n",
       "      <td>0</td>\n",
       "      <td>0</td>\n",
       "    </tr>\n",
       "    <tr>\n",
       "      <th>KENTSEL_AG</th>\n",
       "      <td>0</td>\n",
       "      <td>0</td>\n",
       "    </tr>\n",
       "    <tr>\n",
       "      <th>KENTALTI_OG</th>\n",
       "      <td>0</td>\n",
       "      <td>0</td>\n",
       "    </tr>\n",
       "    <tr>\n",
       "      <th>KENTALTI_AG</th>\n",
       "      <td>0</td>\n",
       "      <td>0</td>\n",
       "    </tr>\n",
       "    <tr>\n",
       "      <th>KIRSAL_OG</th>\n",
       "      <td>0</td>\n",
       "      <td>0</td>\n",
       "    </tr>\n",
       "    <tr>\n",
       "      <th>KIRSAL_AG</th>\n",
       "      <td>28</td>\n",
       "      <td>1</td>\n",
       "    </tr>\n",
       "    <tr>\n",
       "      <th>TOPLAM_KENTSEL_OG</th>\n",
       "      <td>0.000</td>\n",
       "      <td>0.000</td>\n",
       "    </tr>\n",
       "    <tr>\n",
       "      <th>TOPLAM_KENTSEL_AG</th>\n",
       "      <td>0.000</td>\n",
       "      <td>0.000</td>\n",
       "    </tr>\n",
       "    <tr>\n",
       "      <th>TOPLAM_KENTALTI_OG</th>\n",
       "      <td>0.000</td>\n",
       "      <td>0.000</td>\n",
       "    </tr>\n",
       "    <tr>\n",
       "      <th>TOPLAM_KENTALTI_AG</th>\n",
       "      <td>0.000</td>\n",
       "      <td>0.000</td>\n",
       "    </tr>\n",
       "    <tr>\n",
       "      <th>TOPLAM_KIRSAL_OG</th>\n",
       "      <td>0.000</td>\n",
       "      <td>0.000</td>\n",
       "    </tr>\n",
       "    <tr>\n",
       "      <th>TOPLAM_KIRSAL_AG</th>\n",
       "      <td>97.417</td>\n",
       "      <td>11.463</td>\n",
       "    </tr>\n",
       "    <tr>\n",
       "      <th>cagri_count</th>\n",
       "      <td>1.000</td>\n",
       "      <td>0.000</td>\n",
       "    </tr>\n",
       "  </tbody>\n",
       "</table>\n",
       "</div>"
      ],
      "text/plain": [
       "                                                                      0  \\\n",
       "KESİNTİ_NO                                                      2225427   \n",
       "İL                                                                İZMİR   \n",
       "İLÇE                                                              ÇEŞME   \n",
       "ŞEBEKE_UNSURU                                                 AG Fideri   \n",
       "ŞEBEKE_UNSURU_KODU                 L-36 35-18-L00036__72410820_72410820   \n",
       "KESİNTİ_NEDENİNE_İLİŞKİN_AÇIKLAMA                         AG Tel Kopuğu   \n",
       "KAYNAĞA_GÖRE                                                 Dağıtım-AG   \n",
       "SÜREYE_GÖRE                                                        Uzun   \n",
       "SEBEBE_GÖRE                                          Şebeke işletmecisi   \n",
       "BİLDİRİME_GÖRE                                              Bildirimsiz   \n",
       "BAŞLAMA_TARİHİ_VE_ZAMANI                            24.01.2022 12:00:49   \n",
       "SONA_ERME_TARİHİ_VE_ZAMANI                          24.01.2022 15:29:34   \n",
       "KESİNTİ_SÜRESİ                                                    3.479   \n",
       "KENTSEL_OG                                                            0   \n",
       "KENTSEL_AG                                                            0   \n",
       "KENTALTI_OG                                                           0   \n",
       "KENTALTI_AG                                                           0   \n",
       "KIRSAL_OG                                                             0   \n",
       "KIRSAL_AG                                                            28   \n",
       "TOPLAM_KENTSEL_OG                                                 0.000   \n",
       "TOPLAM_KENTSEL_AG                                                 0.000   \n",
       "TOPLAM_KENTALTI_OG                                                0.000   \n",
       "TOPLAM_KENTALTI_AG                                                0.000   \n",
       "TOPLAM_KIRSAL_OG                                                  0.000   \n",
       "TOPLAM_KIRSAL_AG                                                 97.417   \n",
       "cagri_count                                                       1.000   \n",
       "\n",
       "                                                                                   1  \n",
       "KESİNTİ_NO                                                                   1885097  \n",
       "İL                                                                             İZMİR  \n",
       "İLÇE                                                                           ÇEŞME  \n",
       "ŞEBEKE_UNSURU                                                           Abone Tesisi  \n",
       "ŞEBEKE_UNSURU_KODU                 L-356 BAŞKENT SİTESİ 35-18-L00356_950455448_95...  \n",
       "KESİNTİ_NEDENİNE_İLİŞKİN_AÇIKLAMA                          AG Havai Branşman Arızası  \n",
       "KAYNAĞA_GÖRE                                                              Dağıtım-AG  \n",
       "SÜREYE_GÖRE                                                                     Uzun  \n",
       "SEBEBE_GÖRE                                                       Şebeke işletmecisi  \n",
       "BİLDİRİME_GÖRE                                                           Bildirimsiz  \n",
       "BAŞLAMA_TARİHİ_VE_ZAMANI                                         18.07.2021 08:56:42  \n",
       "SONA_ERME_TARİHİ_VE_ZAMANI                                       18.07.2021 20:24:30  \n",
       "KESİNTİ_SÜRESİ                                                                11.463  \n",
       "KENTSEL_OG                                                                         0  \n",
       "KENTSEL_AG                                                                         0  \n",
       "KENTALTI_OG                                                                        0  \n",
       "KENTALTI_AG                                                                        0  \n",
       "KIRSAL_OG                                                                          0  \n",
       "KIRSAL_AG                                                                          1  \n",
       "TOPLAM_KENTSEL_OG                                                              0.000  \n",
       "TOPLAM_KENTSEL_AG                                                              0.000  \n",
       "TOPLAM_KENTALTI_OG                                                             0.000  \n",
       "TOPLAM_KENTALTI_AG                                                             0.000  \n",
       "TOPLAM_KIRSAL_OG                                                               0.000  \n",
       "TOPLAM_KIRSAL_AG                                                              11.463  \n",
       "cagri_count                                                                    0.000  "
      ]
     },
     "execution_count": 19,
     "metadata": {},
     "output_type": "execute_result"
    }
   ],
   "source": [
    "df.head(2).T"
   ]
  },
  {
   "cell_type": "code",
   "execution_count": 20,
   "metadata": {},
   "outputs": [
    {
     "data": {
      "text/html": [
       "<div>\n",
       "<style scoped>\n",
       "    .dataframe tbody tr th:only-of-type {\n",
       "        vertical-align: middle;\n",
       "    }\n",
       "\n",
       "    .dataframe tbody tr th {\n",
       "        vertical-align: top;\n",
       "    }\n",
       "\n",
       "    .dataframe thead th {\n",
       "        text-align: right;\n",
       "    }\n",
       "</style>\n",
       "<table border=\"1\" class=\"dataframe\">\n",
       "  <thead>\n",
       "    <tr style=\"text-align: right;\">\n",
       "      <th></th>\n",
       "      <th>23156</th>\n",
       "      <th>23157</th>\n",
       "    </tr>\n",
       "  </thead>\n",
       "  <tbody>\n",
       "    <tr>\n",
       "      <th>KESİNTİ_NO</th>\n",
       "      <td>2073408</td>\n",
       "      <td>1817853</td>\n",
       "    </tr>\n",
       "    <tr>\n",
       "      <th>İL</th>\n",
       "      <td>MANİSA</td>\n",
       "      <td>İZMİR</td>\n",
       "    </tr>\n",
       "    <tr>\n",
       "      <th>İLÇE</th>\n",
       "      <td>SALİHLİ</td>\n",
       "      <td>ÇEŞME</td>\n",
       "    </tr>\n",
       "    <tr>\n",
       "      <th>ŞEBEKE_UNSURU</th>\n",
       "      <td>AG Fideri</td>\n",
       "      <td>OG Fideri</td>\n",
       "    </tr>\n",
       "    <tr>\n",
       "      <th>ŞEBEKE_UNSURU_KODU</th>\n",
       "      <td>TR-36 45-78-L00036_B_56387040_56387040</td>\n",
       "      <td>ALAÇATI TM 35-18-A00005_HatBaşıAyırıcı_5313828...</td>\n",
       "    </tr>\n",
       "    <tr>\n",
       "      <th>KESİNTİ_NEDENİNE_İLİŞKİN_AÇIKLAMA</th>\n",
       "      <td>AG Pano Kol Sigorta Atığı</td>\n",
       "      <td>OG Sigorta Atması</td>\n",
       "    </tr>\n",
       "    <tr>\n",
       "      <th>KAYNAĞA_GÖRE</th>\n",
       "      <td>Dağıtım-AG</td>\n",
       "      <td>Dağıtım-OG</td>\n",
       "    </tr>\n",
       "    <tr>\n",
       "      <th>SÜREYE_GÖRE</th>\n",
       "      <td>Uzun</td>\n",
       "      <td>Uzun</td>\n",
       "    </tr>\n",
       "    <tr>\n",
       "      <th>SEBEBE_GÖRE</th>\n",
       "      <td>Şebeke işletmecisi</td>\n",
       "      <td>Şebeke işletmecisi</td>\n",
       "    </tr>\n",
       "    <tr>\n",
       "      <th>BİLDİRİME_GÖRE</th>\n",
       "      <td>Bildirimsiz</td>\n",
       "      <td>Bildirimsiz</td>\n",
       "    </tr>\n",
       "    <tr>\n",
       "      <th>BAŞLAMA_TARİHİ_VE_ZAMANI</th>\n",
       "      <td>15.10.2021 13:47:00</td>\n",
       "      <td>24.05.2021 16:32:00</td>\n",
       "    </tr>\n",
       "    <tr>\n",
       "      <th>SONA_ERME_TARİHİ_VE_ZAMANI</th>\n",
       "      <td>15.10.2021 15:52:52</td>\n",
       "      <td>24.05.2021 17:05:49</td>\n",
       "    </tr>\n",
       "    <tr>\n",
       "      <th>KESİNTİ_SÜRESİ</th>\n",
       "      <td>2.098</td>\n",
       "      <td>0.564</td>\n",
       "    </tr>\n",
       "    <tr>\n",
       "      <th>KENTSEL_OG</th>\n",
       "      <td>0</td>\n",
       "      <td>0</td>\n",
       "    </tr>\n",
       "    <tr>\n",
       "      <th>KENTSEL_AG</th>\n",
       "      <td>18</td>\n",
       "      <td>0</td>\n",
       "    </tr>\n",
       "    <tr>\n",
       "      <th>KENTALTI_OG</th>\n",
       "      <td>0</td>\n",
       "      <td>0</td>\n",
       "    </tr>\n",
       "    <tr>\n",
       "      <th>KENTALTI_AG</th>\n",
       "      <td>0</td>\n",
       "      <td>0</td>\n",
       "    </tr>\n",
       "    <tr>\n",
       "      <th>KIRSAL_OG</th>\n",
       "      <td>0</td>\n",
       "      <td>2</td>\n",
       "    </tr>\n",
       "    <tr>\n",
       "      <th>KIRSAL_AG</th>\n",
       "      <td>0</td>\n",
       "      <td>0</td>\n",
       "    </tr>\n",
       "    <tr>\n",
       "      <th>TOPLAM_KENTSEL_OG</th>\n",
       "      <td>0.000</td>\n",
       "      <td>0.000</td>\n",
       "    </tr>\n",
       "    <tr>\n",
       "      <th>TOPLAM_KENTSEL_AG</th>\n",
       "      <td>37.760</td>\n",
       "      <td>0.000</td>\n",
       "    </tr>\n",
       "    <tr>\n",
       "      <th>TOPLAM_KENTALTI_OG</th>\n",
       "      <td>0.000</td>\n",
       "      <td>0.000</td>\n",
       "    </tr>\n",
       "    <tr>\n",
       "      <th>TOPLAM_KENTALTI_AG</th>\n",
       "      <td>0.000</td>\n",
       "      <td>0.000</td>\n",
       "    </tr>\n",
       "    <tr>\n",
       "      <th>TOPLAM_KIRSAL_OG</th>\n",
       "      <td>0.000</td>\n",
       "      <td>1.127</td>\n",
       "    </tr>\n",
       "    <tr>\n",
       "      <th>TOPLAM_KIRSAL_AG</th>\n",
       "      <td>0.000</td>\n",
       "      <td>0.000</td>\n",
       "    </tr>\n",
       "    <tr>\n",
       "      <th>cagri_count</th>\n",
       "      <td>0.000</td>\n",
       "      <td>0.000</td>\n",
       "    </tr>\n",
       "  </tbody>\n",
       "</table>\n",
       "</div>"
      ],
      "text/plain": [
       "                                                                    23156  \\\n",
       "KESİNTİ_NO                                                        2073408   \n",
       "İL                                                                 MANİSA   \n",
       "İLÇE                                                              SALİHLİ   \n",
       "ŞEBEKE_UNSURU                                                   AG Fideri   \n",
       "ŞEBEKE_UNSURU_KODU                 TR-36 45-78-L00036_B_56387040_56387040   \n",
       "KESİNTİ_NEDENİNE_İLİŞKİN_AÇIKLAMA               AG Pano Kol Sigorta Atığı   \n",
       "KAYNAĞA_GÖRE                                                   Dağıtım-AG   \n",
       "SÜREYE_GÖRE                                                          Uzun   \n",
       "SEBEBE_GÖRE                                            Şebeke işletmecisi   \n",
       "BİLDİRİME_GÖRE                                                Bildirimsiz   \n",
       "BAŞLAMA_TARİHİ_VE_ZAMANI                              15.10.2021 13:47:00   \n",
       "SONA_ERME_TARİHİ_VE_ZAMANI                            15.10.2021 15:52:52   \n",
       "KESİNTİ_SÜRESİ                                                      2.098   \n",
       "KENTSEL_OG                                                              0   \n",
       "KENTSEL_AG                                                             18   \n",
       "KENTALTI_OG                                                             0   \n",
       "KENTALTI_AG                                                             0   \n",
       "KIRSAL_OG                                                               0   \n",
       "KIRSAL_AG                                                               0   \n",
       "TOPLAM_KENTSEL_OG                                                   0.000   \n",
       "TOPLAM_KENTSEL_AG                                                  37.760   \n",
       "TOPLAM_KENTALTI_OG                                                  0.000   \n",
       "TOPLAM_KENTALTI_AG                                                  0.000   \n",
       "TOPLAM_KIRSAL_OG                                                    0.000   \n",
       "TOPLAM_KIRSAL_AG                                                    0.000   \n",
       "cagri_count                                                         0.000   \n",
       "\n",
       "                                                                               23157  \n",
       "KESİNTİ_NO                                                                   1817853  \n",
       "İL                                                                             İZMİR  \n",
       "İLÇE                                                                           ÇEŞME  \n",
       "ŞEBEKE_UNSURU                                                              OG Fideri  \n",
       "ŞEBEKE_UNSURU_KODU                 ALAÇATI TM 35-18-A00005_HatBaşıAyırıcı_5313828...  \n",
       "KESİNTİ_NEDENİNE_İLİŞKİN_AÇIKLAMA                                  OG Sigorta Atması  \n",
       "KAYNAĞA_GÖRE                                                              Dağıtım-OG  \n",
       "SÜREYE_GÖRE                                                                     Uzun  \n",
       "SEBEBE_GÖRE                                                       Şebeke işletmecisi  \n",
       "BİLDİRİME_GÖRE                                                           Bildirimsiz  \n",
       "BAŞLAMA_TARİHİ_VE_ZAMANI                                         24.05.2021 16:32:00  \n",
       "SONA_ERME_TARİHİ_VE_ZAMANI                                       24.05.2021 17:05:49  \n",
       "KESİNTİ_SÜRESİ                                                                 0.564  \n",
       "KENTSEL_OG                                                                         0  \n",
       "KENTSEL_AG                                                                         0  \n",
       "KENTALTI_OG                                                                        0  \n",
       "KENTALTI_AG                                                                        0  \n",
       "KIRSAL_OG                                                                          2  \n",
       "KIRSAL_AG                                                                          0  \n",
       "TOPLAM_KENTSEL_OG                                                              0.000  \n",
       "TOPLAM_KENTSEL_AG                                                              0.000  \n",
       "TOPLAM_KENTALTI_OG                                                             0.000  \n",
       "TOPLAM_KENTALTI_AG                                                             0.000  \n",
       "TOPLAM_KIRSAL_OG                                                               1.127  \n",
       "TOPLAM_KIRSAL_AG                                                               0.000  \n",
       "cagri_count                                                                    0.000  "
      ]
     },
     "execution_count": 20,
     "metadata": {},
     "output_type": "execute_result"
    }
   ],
   "source": [
    "df.tail(2).T"
   ]
  },
  {
   "cell_type": "code",
   "execution_count": 21,
   "metadata": {},
   "outputs": [
    {
     "data": {
      "text/plain": [
       "(23158, 26)"
      ]
     },
     "execution_count": 21,
     "metadata": {},
     "output_type": "execute_result"
    }
   ],
   "source": [
    "df.shape"
   ]
  },
  {
   "cell_type": "code",
   "execution_count": 22,
   "metadata": {},
   "outputs": [
    {
     "name": "stdout",
     "output_type": "stream",
     "text": [
      "<class 'pandas.core.frame.DataFrame'>\n",
      "RangeIndex: 23158 entries, 0 to 23157\n",
      "Data columns (total 26 columns):\n",
      " #   Column                             Non-Null Count  Dtype  \n",
      "---  ------                             --------------  -----  \n",
      " 0   KESİNTİ_NO                         23158 non-null  int64  \n",
      " 1   İL                                 23158 non-null  object \n",
      " 2   İLÇE                               23158 non-null  object \n",
      " 3   ŞEBEKE_UNSURU                      23158 non-null  object \n",
      " 4   ŞEBEKE_UNSURU_KODU                 23158 non-null  object \n",
      " 5   KESİNTİ_NEDENİNE_İLİŞKİN_AÇIKLAMA  23158 non-null  object \n",
      " 6   KAYNAĞA_GÖRE                       23158 non-null  object \n",
      " 7   SÜREYE_GÖRE                        23158 non-null  object \n",
      " 8   SEBEBE_GÖRE                        23158 non-null  object \n",
      " 9   BİLDİRİME_GÖRE                     23158 non-null  object \n",
      " 10  BAŞLAMA_TARİHİ_VE_ZAMANI           23158 non-null  object \n",
      " 11  SONA_ERME_TARİHİ_VE_ZAMANI         23158 non-null  object \n",
      " 12  KESİNTİ_SÜRESİ                     23158 non-null  float64\n",
      " 13  KENTSEL_OG                         23158 non-null  int64  \n",
      " 14  KENTSEL_AG                         23158 non-null  int64  \n",
      " 15  KENTALTI_OG                        23158 non-null  int64  \n",
      " 16  KENTALTI_AG                        23158 non-null  int64  \n",
      " 17  KIRSAL_OG                          23158 non-null  int64  \n",
      " 18  KIRSAL_AG                          23158 non-null  int64  \n",
      " 19  TOPLAM_KENTSEL_OG                  23158 non-null  float64\n",
      " 20  TOPLAM_KENTSEL_AG                  23158 non-null  float64\n",
      " 21  TOPLAM_KENTALTI_OG                 23158 non-null  float64\n",
      " 22  TOPLAM_KENTALTI_AG                 23158 non-null  float64\n",
      " 23  TOPLAM_KIRSAL_OG                   23158 non-null  float64\n",
      " 24  TOPLAM_KIRSAL_AG                   23158 non-null  float64\n",
      " 25  cagri_count                        23158 non-null  float64\n",
      "dtypes: float64(8), int64(7), object(11)\n",
      "memory usage: 4.6+ MB\n"
     ]
    }
   ],
   "source": [
    "df.info()"
   ]
  },
  {
   "cell_type": "markdown",
   "metadata": {},
   "source": [
    "Cleaning column names with `skimpy.clean_columns`"
   ]
  },
  {
   "cell_type": "code",
   "execution_count": 23,
   "metadata": {},
   "outputs": [
    {
     "data": {
      "text/html": [
       "<pre style=\"white-space:pre;overflow-x:auto;line-height:normal;font-family:Menlo,'DejaVu Sans Mono',consolas,'Courier New',monospace\"><span style=\"color: #008080; text-decoration-color: #008080; font-weight: bold\">25</span> column names have been cleaned\n",
       "</pre>\n"
      ],
      "text/plain": [
       "\u001b[1;36m25\u001b[0m column names have been cleaned\n"
      ]
     },
     "metadata": {},
     "output_type": "display_data"
    },
    {
     "name": "stdout",
     "output_type": "stream",
     "text": [
      "Index(['kesinti_no', 'il', 'ilce', 'sebeke_unsuru', 'sebeke_unsuru_kodu',\n",
      "       'kesinti_nedenine_iliskin_aciklama', 'kaynaga_gore', 'sureye_gore',\n",
      "       'sebebe_gore', 'bildirime_gore', 'baslama_tarihi_ve_zamani',\n",
      "       'sona_erme_tarihi_ve_zamani', 'kesinti_suresi', 'kentsel_og',\n",
      "       'kentsel_ag', 'kentalti_og', 'kentalti_ag', 'kirsal_og', 'kirsal_ag',\n",
      "       'toplam_kentsel_og', 'toplam_kentsel_ag', 'toplam_kentalti_og',\n",
      "       'toplam_kentalti_ag', 'toplam_kirsal_og', 'toplam_kirsal_ag',\n",
      "       'cagri_count'],\n",
      "      dtype='object')\n"
     ]
    }
   ],
   "source": [
    "df = clean_columns(df)\n",
    "print(df.columns)"
   ]
  },
  {
   "cell_type": "code",
   "execution_count": 24,
   "metadata": {},
   "outputs": [
    {
     "data": {
      "text/plain": [
       "Index(['kesinti_no', 'il', 'ilce', 'sebeke_unsuru', 'sebeke_unsuru_kodu',\n",
       "       'kesinti_nedenine_iliskin_aciklama', 'kaynaga_gore', 'sureye_gore',\n",
       "       'sebebe_gore', 'bildirime_gore', 'baslama_tarihi_ve_zamani',\n",
       "       'sona_erme_tarihi_ve_zamani', 'kesinti_suresi', 'kentsel_og',\n",
       "       'kentsel_ag', 'kentalti_og', 'kentalti_ag', 'kirsal_og', 'kirsal_ag',\n",
       "       'toplam_kentsel_og', 'toplam_kentsel_ag', 'toplam_kentalti_og',\n",
       "       'toplam_kentalti_ag', 'toplam_kirsal_og', 'toplam_kirsal_ag',\n",
       "       'cagri_count'],\n",
       "      dtype='object')"
      ]
     },
     "execution_count": 24,
     "metadata": {},
     "output_type": "execute_result"
    }
   ],
   "source": [
    "df.columns"
   ]
  },
  {
   "cell_type": "code",
   "execution_count": 25,
   "metadata": {},
   "outputs": [
    {
     "data": {
      "text/html": [
       "<div>\n",
       "<style scoped>\n",
       "    .dataframe tbody tr th:only-of-type {\n",
       "        vertical-align: middle;\n",
       "    }\n",
       "\n",
       "    .dataframe tbody tr th {\n",
       "        vertical-align: top;\n",
       "    }\n",
       "\n",
       "    .dataframe thead th {\n",
       "        text-align: right;\n",
       "    }\n",
       "</style>\n",
       "<table border=\"1\" class=\"dataframe\">\n",
       "  <thead>\n",
       "    <tr style=\"text-align: right;\">\n",
       "      <th></th>\n",
       "      <th>count</th>\n",
       "      <th>mean</th>\n",
       "      <th>std</th>\n",
       "      <th>min</th>\n",
       "      <th>25%</th>\n",
       "      <th>50%</th>\n",
       "      <th>75%</th>\n",
       "      <th>max</th>\n",
       "    </tr>\n",
       "  </thead>\n",
       "  <tbody>\n",
       "    <tr>\n",
       "      <th>kesinti_no</th>\n",
       "      <td>23158.000</td>\n",
       "      <td>2063632.720</td>\n",
       "      <td>184604.854</td>\n",
       "      <td>1805940.000</td>\n",
       "      <td>1857583.000</td>\n",
       "      <td>2138753.500</td>\n",
       "      <td>2225197.500</td>\n",
       "      <td>2315913.000</td>\n",
       "    </tr>\n",
       "    <tr>\n",
       "      <th>kesinti_suresi</th>\n",
       "      <td>23158.000</td>\n",
       "      <td>2.348</td>\n",
       "      <td>2.615</td>\n",
       "      <td>0.002</td>\n",
       "      <td>0.957</td>\n",
       "      <td>1.720</td>\n",
       "      <td>3.017</td>\n",
       "      <td>170.722</td>\n",
       "    </tr>\n",
       "    <tr>\n",
       "      <th>kentsel_og</th>\n",
       "      <td>23158.000</td>\n",
       "      <td>7.286</td>\n",
       "      <td>34.351</td>\n",
       "      <td>0.000</td>\n",
       "      <td>0.000</td>\n",
       "      <td>0.000</td>\n",
       "      <td>0.000</td>\n",
       "      <td>903.000</td>\n",
       "    </tr>\n",
       "    <tr>\n",
       "      <th>kentsel_ag</th>\n",
       "      <td>23158.000</td>\n",
       "      <td>353.448</td>\n",
       "      <td>1671.025</td>\n",
       "      <td>0.000</td>\n",
       "      <td>0.000</td>\n",
       "      <td>4.000</td>\n",
       "      <td>88.000</td>\n",
       "      <td>47916.000</td>\n",
       "    </tr>\n",
       "    <tr>\n",
       "      <th>kentalti_og</th>\n",
       "      <td>23158.000</td>\n",
       "      <td>0.987</td>\n",
       "      <td>10.826</td>\n",
       "      <td>0.000</td>\n",
       "      <td>0.000</td>\n",
       "      <td>0.000</td>\n",
       "      <td>0.000</td>\n",
       "      <td>728.000</td>\n",
       "    </tr>\n",
       "    <tr>\n",
       "      <th>kentalti_ag</th>\n",
       "      <td>23158.000</td>\n",
       "      <td>47.215</td>\n",
       "      <td>460.287</td>\n",
       "      <td>0.000</td>\n",
       "      <td>0.000</td>\n",
       "      <td>0.000</td>\n",
       "      <td>0.000</td>\n",
       "      <td>24331.000</td>\n",
       "    </tr>\n",
       "    <tr>\n",
       "      <th>kirsal_og</th>\n",
       "      <td>23158.000</td>\n",
       "      <td>1.927</td>\n",
       "      <td>14.225</td>\n",
       "      <td>0.000</td>\n",
       "      <td>0.000</td>\n",
       "      <td>0.000</td>\n",
       "      <td>0.000</td>\n",
       "      <td>446.000</td>\n",
       "    </tr>\n",
       "    <tr>\n",
       "      <th>kirsal_ag</th>\n",
       "      <td>23158.000</td>\n",
       "      <td>49.839</td>\n",
       "      <td>308.814</td>\n",
       "      <td>0.000</td>\n",
       "      <td>0.000</td>\n",
       "      <td>0.000</td>\n",
       "      <td>0.000</td>\n",
       "      <td>11673.000</td>\n",
       "    </tr>\n",
       "    <tr>\n",
       "      <th>toplam_kentsel_og</th>\n",
       "      <td>23158.000</td>\n",
       "      <td>7.408</td>\n",
       "      <td>49.108</td>\n",
       "      <td>0.000</td>\n",
       "      <td>0.000</td>\n",
       "      <td>0.000</td>\n",
       "      <td>0.000</td>\n",
       "      <td>2208.803</td>\n",
       "    </tr>\n",
       "    <tr>\n",
       "      <th>toplam_kentsel_ag</th>\n",
       "      <td>23158.000</td>\n",
       "      <td>308.204</td>\n",
       "      <td>1539.129</td>\n",
       "      <td>0.000</td>\n",
       "      <td>0.000</td>\n",
       "      <td>7.388</td>\n",
       "      <td>125.346</td>\n",
       "      <td>65746.008</td>\n",
       "    </tr>\n",
       "    <tr>\n",
       "      <th>toplam_kentalti_og</th>\n",
       "      <td>23158.000</td>\n",
       "      <td>0.775</td>\n",
       "      <td>11.439</td>\n",
       "      <td>0.000</td>\n",
       "      <td>0.000</td>\n",
       "      <td>0.000</td>\n",
       "      <td>0.000</td>\n",
       "      <td>833.200</td>\n",
       "    </tr>\n",
       "    <tr>\n",
       "      <th>toplam_kentalti_ag</th>\n",
       "      <td>23158.000</td>\n",
       "      <td>36.342</td>\n",
       "      <td>375.621</td>\n",
       "      <td>0.000</td>\n",
       "      <td>0.000</td>\n",
       "      <td>0.000</td>\n",
       "      <td>0.000</td>\n",
       "      <td>30634.142</td>\n",
       "    </tr>\n",
       "    <tr>\n",
       "      <th>toplam_kirsal_og</th>\n",
       "      <td>23158.000</td>\n",
       "      <td>1.585</td>\n",
       "      <td>17.597</td>\n",
       "      <td>0.000</td>\n",
       "      <td>0.000</td>\n",
       "      <td>0.000</td>\n",
       "      <td>0.000</td>\n",
       "      <td>1440.487</td>\n",
       "    </tr>\n",
       "    <tr>\n",
       "      <th>toplam_kirsal_ag</th>\n",
       "      <td>23158.000</td>\n",
       "      <td>41.477</td>\n",
       "      <td>300.857</td>\n",
       "      <td>0.000</td>\n",
       "      <td>0.000</td>\n",
       "      <td>0.000</td>\n",
       "      <td>0.000</td>\n",
       "      <td>12963.350</td>\n",
       "    </tr>\n",
       "    <tr>\n",
       "      <th>cagri_count</th>\n",
       "      <td>23158.000</td>\n",
       "      <td>4.071</td>\n",
       "      <td>28.210</td>\n",
       "      <td>0.000</td>\n",
       "      <td>0.000</td>\n",
       "      <td>0.000</td>\n",
       "      <td>1.000</td>\n",
       "      <td>1217.000</td>\n",
       "    </tr>\n",
       "  </tbody>\n",
       "</table>\n",
       "</div>"
      ],
      "text/plain": [
       "                       count        mean        std         min         25%  \\\n",
       "kesinti_no         23158.000 2063632.720 184604.854 1805940.000 1857583.000   \n",
       "kesinti_suresi     23158.000       2.348      2.615       0.002       0.957   \n",
       "kentsel_og         23158.000       7.286     34.351       0.000       0.000   \n",
       "kentsel_ag         23158.000     353.448   1671.025       0.000       0.000   \n",
       "kentalti_og        23158.000       0.987     10.826       0.000       0.000   \n",
       "kentalti_ag        23158.000      47.215    460.287       0.000       0.000   \n",
       "kirsal_og          23158.000       1.927     14.225       0.000       0.000   \n",
       "kirsal_ag          23158.000      49.839    308.814       0.000       0.000   \n",
       "toplam_kentsel_og  23158.000       7.408     49.108       0.000       0.000   \n",
       "toplam_kentsel_ag  23158.000     308.204   1539.129       0.000       0.000   \n",
       "toplam_kentalti_og 23158.000       0.775     11.439       0.000       0.000   \n",
       "toplam_kentalti_ag 23158.000      36.342    375.621       0.000       0.000   \n",
       "toplam_kirsal_og   23158.000       1.585     17.597       0.000       0.000   \n",
       "toplam_kirsal_ag   23158.000      41.477    300.857       0.000       0.000   \n",
       "cagri_count        23158.000       4.071     28.210       0.000       0.000   \n",
       "\n",
       "                           50%         75%         max  \n",
       "kesinti_no         2138753.500 2225197.500 2315913.000  \n",
       "kesinti_suresi           1.720       3.017     170.722  \n",
       "kentsel_og               0.000       0.000     903.000  \n",
       "kentsel_ag               4.000      88.000   47916.000  \n",
       "kentalti_og              0.000       0.000     728.000  \n",
       "kentalti_ag              0.000       0.000   24331.000  \n",
       "kirsal_og                0.000       0.000     446.000  \n",
       "kirsal_ag                0.000       0.000   11673.000  \n",
       "toplam_kentsel_og        0.000       0.000    2208.803  \n",
       "toplam_kentsel_ag        7.388     125.346   65746.008  \n",
       "toplam_kentalti_og       0.000       0.000     833.200  \n",
       "toplam_kentalti_ag       0.000       0.000   30634.142  \n",
       "toplam_kirsal_og         0.000       0.000    1440.487  \n",
       "toplam_kirsal_ag         0.000       0.000   12963.350  \n",
       "cagri_count              0.000       1.000    1217.000  "
      ]
     },
     "execution_count": 25,
     "metadata": {},
     "output_type": "execute_result"
    }
   ],
   "source": [
    "df.describe().T"
   ]
  },
  {
   "cell_type": "markdown",
   "metadata": {},
   "source": [
    "> usually standard deviations are higher than means. Expect extreme values."
   ]
  },
  {
   "cell_type": "code",
   "execution_count": 26,
   "metadata": {},
   "outputs": [
    {
     "data": {
      "text/html": [
       "<div>\n",
       "<style scoped>\n",
       "    .dataframe tbody tr th:only-of-type {\n",
       "        vertical-align: middle;\n",
       "    }\n",
       "\n",
       "    .dataframe tbody tr th {\n",
       "        vertical-align: top;\n",
       "    }\n",
       "\n",
       "    .dataframe thead th {\n",
       "        text-align: right;\n",
       "    }\n",
       "</style>\n",
       "<table border=\"1\" class=\"dataframe\">\n",
       "  <thead>\n",
       "    <tr style=\"text-align: right;\">\n",
       "      <th></th>\n",
       "      <th>count</th>\n",
       "      <th>unique</th>\n",
       "      <th>top</th>\n",
       "      <th>freq</th>\n",
       "    </tr>\n",
       "  </thead>\n",
       "  <tbody>\n",
       "    <tr>\n",
       "      <th>il</th>\n",
       "      <td>23158</td>\n",
       "      <td>2</td>\n",
       "      <td>İZMİR</td>\n",
       "      <td>16082</td>\n",
       "    </tr>\n",
       "    <tr>\n",
       "      <th>ilce</th>\n",
       "      <td>23158</td>\n",
       "      <td>47</td>\n",
       "      <td>ÇEŞME</td>\n",
       "      <td>1345</td>\n",
       "    </tr>\n",
       "    <tr>\n",
       "      <th>sebeke_unsuru</th>\n",
       "      <td>23158</td>\n",
       "      <td>8</td>\n",
       "      <td>Abone Tesisi</td>\n",
       "      <td>8056</td>\n",
       "    </tr>\n",
       "    <tr>\n",
       "      <th>sebeke_unsuru_kodu</th>\n",
       "      <td>23158</td>\n",
       "      <td>18666</td>\n",
       "      <td>ÇAMLIK DM 35-17-M00173_ZEYTİNDAĞ-1 M08_66328132</td>\n",
       "      <td>18</td>\n",
       "    </tr>\n",
       "    <tr>\n",
       "      <th>kesinti_nedenine_iliskin_aciklama</th>\n",
       "      <td>23158</td>\n",
       "      <td>62</td>\n",
       "      <td>AG Havai Branşman Arızası</td>\n",
       "      <td>4347</td>\n",
       "    </tr>\n",
       "    <tr>\n",
       "      <th>kaynaga_gore</th>\n",
       "      <td>23158</td>\n",
       "      <td>3</td>\n",
       "      <td>Dağıtım-AG</td>\n",
       "      <td>16461</td>\n",
       "    </tr>\n",
       "    <tr>\n",
       "      <th>sureye_gore</th>\n",
       "      <td>23158</td>\n",
       "      <td>2</td>\n",
       "      <td>Uzun</td>\n",
       "      <td>22703</td>\n",
       "    </tr>\n",
       "    <tr>\n",
       "      <th>sebebe_gore</th>\n",
       "      <td>23158</td>\n",
       "      <td>3</td>\n",
       "      <td>Şebeke işletmecisi</td>\n",
       "      <td>22708</td>\n",
       "    </tr>\n",
       "    <tr>\n",
       "      <th>bildirime_gore</th>\n",
       "      <td>23158</td>\n",
       "      <td>1</td>\n",
       "      <td>Bildirimsiz</td>\n",
       "      <td>23158</td>\n",
       "    </tr>\n",
       "    <tr>\n",
       "      <th>baslama_tarihi_ve_zamani</th>\n",
       "      <td>23158</td>\n",
       "      <td>23100</td>\n",
       "      <td>15.01.2022 09:41:36</td>\n",
       "      <td>3</td>\n",
       "    </tr>\n",
       "    <tr>\n",
       "      <th>sona_erme_tarihi_ve_zamani</th>\n",
       "      <td>23158</td>\n",
       "      <td>23133</td>\n",
       "      <td>13.05.2021 18:28:51</td>\n",
       "      <td>2</td>\n",
       "    </tr>\n",
       "  </tbody>\n",
       "</table>\n",
       "</div>"
      ],
      "text/plain": [
       "                                   count unique  \\\n",
       "il                                 23158      2   \n",
       "ilce                               23158     47   \n",
       "sebeke_unsuru                      23158      8   \n",
       "sebeke_unsuru_kodu                 23158  18666   \n",
       "kesinti_nedenine_iliskin_aciklama  23158     62   \n",
       "kaynaga_gore                       23158      3   \n",
       "sureye_gore                        23158      2   \n",
       "sebebe_gore                        23158      3   \n",
       "bildirime_gore                     23158      1   \n",
       "baslama_tarihi_ve_zamani           23158  23100   \n",
       "sona_erme_tarihi_ve_zamani         23158  23133   \n",
       "\n",
       "                                                                               top  \\\n",
       "il                                                                           İZMİR   \n",
       "ilce                                                                         ÇEŞME   \n",
       "sebeke_unsuru                                                         Abone Tesisi   \n",
       "sebeke_unsuru_kodu                 ÇAMLIK DM 35-17-M00173_ZEYTİNDAĞ-1 M08_66328132   \n",
       "kesinti_nedenine_iliskin_aciklama                        AG Havai Branşman Arızası   \n",
       "kaynaga_gore                                                            Dağıtım-AG   \n",
       "sureye_gore                                                                   Uzun   \n",
       "sebebe_gore                                                     Şebeke işletmecisi   \n",
       "bildirime_gore                                                         Bildirimsiz   \n",
       "baslama_tarihi_ve_zamani                                       15.01.2022 09:41:36   \n",
       "sona_erme_tarihi_ve_zamani                                     13.05.2021 18:28:51   \n",
       "\n",
       "                                    freq  \n",
       "il                                 16082  \n",
       "ilce                                1345  \n",
       "sebeke_unsuru                       8056  \n",
       "sebeke_unsuru_kodu                    18  \n",
       "kesinti_nedenine_iliskin_aciklama   4347  \n",
       "kaynaga_gore                       16461  \n",
       "sureye_gore                        22703  \n",
       "sebebe_gore                        22708  \n",
       "bildirime_gore                     23158  \n",
       "baslama_tarihi_ve_zamani               3  \n",
       "sona_erme_tarihi_ve_zamani             2  "
      ]
     },
     "execution_count": 26,
     "metadata": {},
     "output_type": "execute_result"
    }
   ],
   "source": [
    "df.describe(include=\"O\").T"
   ]
  },
  {
   "cell_type": "code",
   "execution_count": 27,
   "metadata": {},
   "outputs": [
    {
     "data": {
      "text/plain": [
       "kesinti_no                           0\n",
       "il                                   0\n",
       "ilce                                 0\n",
       "sebeke_unsuru                        0\n",
       "sebeke_unsuru_kodu                   0\n",
       "kesinti_nedenine_iliskin_aciklama    0\n",
       "kaynaga_gore                         0\n",
       "sureye_gore                          0\n",
       "sebebe_gore                          0\n",
       "bildirime_gore                       0\n",
       "baslama_tarihi_ve_zamani             0\n",
       "sona_erme_tarihi_ve_zamani           0\n",
       "kesinti_suresi                       0\n",
       "kentsel_og                           0\n",
       "kentsel_ag                           0\n",
       "kentalti_og                          0\n",
       "kentalti_ag                          0\n",
       "kirsal_og                            0\n",
       "kirsal_ag                            0\n",
       "toplam_kentsel_og                    0\n",
       "toplam_kentsel_ag                    0\n",
       "toplam_kentalti_og                   0\n",
       "toplam_kentalti_ag                   0\n",
       "toplam_kirsal_og                     0\n",
       "toplam_kirsal_ag                     0\n",
       "cagri_count                          0\n",
       "dtype: int64"
      ]
     },
     "execution_count": 27,
     "metadata": {},
     "output_type": "execute_result"
    }
   ],
   "source": [
    "df.isnull().sum()"
   ]
  },
  {
   "cell_type": "code",
   "execution_count": 28,
   "metadata": {},
   "outputs": [
    {
     "data": {
      "text/plain": [
       "kesinti_no                          0.000\n",
       "il                                  0.000\n",
       "ilce                                0.000\n",
       "sebeke_unsuru                       0.000\n",
       "sebeke_unsuru_kodu                  0.000\n",
       "kesinti_nedenine_iliskin_aciklama   0.000\n",
       "kaynaga_gore                        0.000\n",
       "sureye_gore                         0.000\n",
       "sebebe_gore                         0.000\n",
       "bildirime_gore                      0.000\n",
       "baslama_tarihi_ve_zamani            0.000\n",
       "sona_erme_tarihi_ve_zamani          0.000\n",
       "kesinti_suresi                      0.000\n",
       "kentsel_og                          0.000\n",
       "kentsel_ag                          0.000\n",
       "kentalti_og                         0.000\n",
       "kentalti_ag                         0.000\n",
       "kirsal_og                           0.000\n",
       "kirsal_ag                           0.000\n",
       "toplam_kentsel_og                   0.000\n",
       "toplam_kentsel_ag                   0.000\n",
       "toplam_kentalti_og                  0.000\n",
       "toplam_kentalti_ag                  0.000\n",
       "toplam_kirsal_og                    0.000\n",
       "toplam_kirsal_ag                    0.000\n",
       "cagri_count                         0.000\n",
       "dtype: float64"
      ]
     },
     "execution_count": 28,
     "metadata": {},
     "output_type": "execute_result"
    }
   ],
   "source": [
    "df.isnull().sum() / df.shape[0] * 100"
   ]
  },
  {
   "cell_type": "code",
   "execution_count": 29,
   "metadata": {},
   "outputs": [
    {
     "data": {
      "image/png": "[encoded data removed]",
      "text/plain": [
       "<Figure size 720x432 with 1 Axes>"
      ]
     },
     "metadata": {},
     "output_type": "display_data"
    }
   ],
   "source": [
    "sns.heatmap(df.isnull(), yticklabels=False, cbar=False, cmap='viridis');"
   ]
  },
  {
   "cell_type": "code",
   "execution_count": 30,
   "metadata": {},
   "outputs": [
    {
     "data": {
      "text/html": [
       "<div>\n",
       "<style scoped>\n",
       "    .dataframe tbody tr th:only-of-type {\n",
       "        vertical-align: middle;\n",
       "    }\n",
       "\n",
       "    .dataframe tbody tr th {\n",
       "        vertical-align: top;\n",
       "    }\n",
       "\n",
       "    .dataframe thead th {\n",
       "        text-align: right;\n",
       "    }\n",
       "</style>\n",
       "<table border=\"1\" class=\"dataframe\">\n",
       "  <thead>\n",
       "    <tr style=\"text-align: right;\">\n",
       "      <th></th>\n",
       "      <th>isnull</th>\n",
       "    </tr>\n",
       "  </thead>\n",
       "  <tbody>\n",
       "    <tr>\n",
       "      <th>kesinti_no</th>\n",
       "      <td>0</td>\n",
       "    </tr>\n",
       "    <tr>\n",
       "      <th>il</th>\n",
       "      <td>0</td>\n",
       "    </tr>\n",
       "    <tr>\n",
       "      <th>ilce</th>\n",
       "      <td>0</td>\n",
       "    </tr>\n",
       "    <tr>\n",
       "      <th>sebeke_unsuru</th>\n",
       "      <td>0</td>\n",
       "    </tr>\n",
       "    <tr>\n",
       "      <th>sebeke_unsuru_kodu</th>\n",
       "      <td>0</td>\n",
       "    </tr>\n",
       "    <tr>\n",
       "      <th>kesinti_nedenine_iliskin_aciklama</th>\n",
       "      <td>0</td>\n",
       "    </tr>\n",
       "    <tr>\n",
       "      <th>kaynaga_gore</th>\n",
       "      <td>0</td>\n",
       "    </tr>\n",
       "    <tr>\n",
       "      <th>sureye_gore</th>\n",
       "      <td>0</td>\n",
       "    </tr>\n",
       "    <tr>\n",
       "      <th>sebebe_gore</th>\n",
       "      <td>0</td>\n",
       "    </tr>\n",
       "    <tr>\n",
       "      <th>bildirime_gore</th>\n",
       "      <td>0</td>\n",
       "    </tr>\n",
       "    <tr>\n",
       "      <th>baslama_tarihi_ve_zamani</th>\n",
       "      <td>0</td>\n",
       "    </tr>\n",
       "    <tr>\n",
       "      <th>sona_erme_tarihi_ve_zamani</th>\n",
       "      <td>0</td>\n",
       "    </tr>\n",
       "    <tr>\n",
       "      <th>kesinti_suresi</th>\n",
       "      <td>0</td>\n",
       "    </tr>\n",
       "    <tr>\n",
       "      <th>kentsel_og</th>\n",
       "      <td>0</td>\n",
       "    </tr>\n",
       "    <tr>\n",
       "      <th>kentsel_ag</th>\n",
       "      <td>0</td>\n",
       "    </tr>\n",
       "    <tr>\n",
       "      <th>kentalti_og</th>\n",
       "      <td>0</td>\n",
       "    </tr>\n",
       "    <tr>\n",
       "      <th>kentalti_ag</th>\n",
       "      <td>0</td>\n",
       "    </tr>\n",
       "    <tr>\n",
       "      <th>kirsal_og</th>\n",
       "      <td>0</td>\n",
       "    </tr>\n",
       "    <tr>\n",
       "      <th>kirsal_ag</th>\n",
       "      <td>0</td>\n",
       "    </tr>\n",
       "    <tr>\n",
       "      <th>toplam_kentsel_og</th>\n",
       "      <td>0</td>\n",
       "    </tr>\n",
       "    <tr>\n",
       "      <th>toplam_kentsel_ag</th>\n",
       "      <td>0</td>\n",
       "    </tr>\n",
       "    <tr>\n",
       "      <th>toplam_kentalti_og</th>\n",
       "      <td>0</td>\n",
       "    </tr>\n",
       "    <tr>\n",
       "      <th>toplam_kentalti_ag</th>\n",
       "      <td>0</td>\n",
       "    </tr>\n",
       "    <tr>\n",
       "      <th>toplam_kirsal_og</th>\n",
       "      <td>0</td>\n",
       "    </tr>\n",
       "    <tr>\n",
       "      <th>toplam_kirsal_ag</th>\n",
       "      <td>0</td>\n",
       "    </tr>\n",
       "    <tr>\n",
       "      <th>cagri_count</th>\n",
       "      <td>0</td>\n",
       "    </tr>\n",
       "  </tbody>\n",
       "</table>\n",
       "</div>"
      ],
      "text/plain": [
       "                                   isnull\n",
       "kesinti_no                              0\n",
       "il                                      0\n",
       "ilce                                    0\n",
       "sebeke_unsuru                           0\n",
       "sebeke_unsuru_kodu                      0\n",
       "kesinti_nedenine_iliskin_aciklama       0\n",
       "kaynaga_gore                            0\n",
       "sureye_gore                             0\n",
       "sebebe_gore                             0\n",
       "bildirime_gore                          0\n",
       "baslama_tarihi_ve_zamani                0\n",
       "sona_erme_tarihi_ve_zamani              0\n",
       "kesinti_suresi                          0\n",
       "kentsel_og                              0\n",
       "kentsel_ag                              0\n",
       "kentalti_og                             0\n",
       "kentalti_ag                             0\n",
       "kirsal_og                               0\n",
       "kirsal_ag                               0\n",
       "toplam_kentsel_og                       0\n",
       "toplam_kentsel_ag                       0\n",
       "toplam_kentalti_og                      0\n",
       "toplam_kentalti_ag                      0\n",
       "toplam_kirsal_og                        0\n",
       "toplam_kirsal_ag                        0\n",
       "cagri_count                             0"
      ]
     },
     "execution_count": 30,
     "metadata": {},
     "output_type": "execute_result"
    }
   ],
   "source": [
    "# df.isnull().sum()\n",
    "\n",
    "isnull = pd.DataFrame(df.isnull().sum(), columns = ['isnull'])\n",
    "isnull"
   ]
  },
  {
   "cell_type": "code",
   "execution_count": 31,
   "metadata": {},
   "outputs": [
    {
     "data": {
      "text/html": [
       "<div>\n",
       "<style scoped>\n",
       "    .dataframe tbody tr th:only-of-type {\n",
       "        vertical-align: middle;\n",
       "    }\n",
       "\n",
       "    .dataframe tbody tr th {\n",
       "        vertical-align: top;\n",
       "    }\n",
       "\n",
       "    .dataframe thead th {\n",
       "        text-align: right;\n",
       "    }\n",
       "</style>\n",
       "<table border=\"1\" class=\"dataframe\">\n",
       "  <thead>\n",
       "    <tr style=\"text-align: right;\">\n",
       "      <th></th>\n",
       "      <th>percentage_null</th>\n",
       "    </tr>\n",
       "  </thead>\n",
       "  <tbody>\n",
       "    <tr>\n",
       "      <th>kesinti_no</th>\n",
       "      <td>0.000</td>\n",
       "    </tr>\n",
       "    <tr>\n",
       "      <th>il</th>\n",
       "      <td>0.000</td>\n",
       "    </tr>\n",
       "    <tr>\n",
       "      <th>ilce</th>\n",
       "      <td>0.000</td>\n",
       "    </tr>\n",
       "    <tr>\n",
       "      <th>sebeke_unsuru</th>\n",
       "      <td>0.000</td>\n",
       "    </tr>\n",
       "    <tr>\n",
       "      <th>sebeke_unsuru_kodu</th>\n",
       "      <td>0.000</td>\n",
       "    </tr>\n",
       "    <tr>\n",
       "      <th>kesinti_nedenine_iliskin_aciklama</th>\n",
       "      <td>0.000</td>\n",
       "    </tr>\n",
       "    <tr>\n",
       "      <th>kaynaga_gore</th>\n",
       "      <td>0.000</td>\n",
       "    </tr>\n",
       "    <tr>\n",
       "      <th>sureye_gore</th>\n",
       "      <td>0.000</td>\n",
       "    </tr>\n",
       "    <tr>\n",
       "      <th>sebebe_gore</th>\n",
       "      <td>0.000</td>\n",
       "    </tr>\n",
       "    <tr>\n",
       "      <th>bildirime_gore</th>\n",
       "      <td>0.000</td>\n",
       "    </tr>\n",
       "    <tr>\n",
       "      <th>baslama_tarihi_ve_zamani</th>\n",
       "      <td>0.000</td>\n",
       "    </tr>\n",
       "    <tr>\n",
       "      <th>sona_erme_tarihi_ve_zamani</th>\n",
       "      <td>0.000</td>\n",
       "    </tr>\n",
       "    <tr>\n",
       "      <th>kesinti_suresi</th>\n",
       "      <td>0.000</td>\n",
       "    </tr>\n",
       "    <tr>\n",
       "      <th>kentsel_og</th>\n",
       "      <td>0.000</td>\n",
       "    </tr>\n",
       "    <tr>\n",
       "      <th>kentsel_ag</th>\n",
       "      <td>0.000</td>\n",
       "    </tr>\n",
       "    <tr>\n",
       "      <th>kentalti_og</th>\n",
       "      <td>0.000</td>\n",
       "    </tr>\n",
       "    <tr>\n",
       "      <th>kentalti_ag</th>\n",
       "      <td>0.000</td>\n",
       "    </tr>\n",
       "    <tr>\n",
       "      <th>kirsal_og</th>\n",
       "      <td>0.000</td>\n",
       "    </tr>\n",
       "    <tr>\n",
       "      <th>kirsal_ag</th>\n",
       "      <td>0.000</td>\n",
       "    </tr>\n",
       "    <tr>\n",
       "      <th>toplam_kentsel_og</th>\n",
       "      <td>0.000</td>\n",
       "    </tr>\n",
       "    <tr>\n",
       "      <th>toplam_kentsel_ag</th>\n",
       "      <td>0.000</td>\n",
       "    </tr>\n",
       "    <tr>\n",
       "      <th>toplam_kentalti_og</th>\n",
       "      <td>0.000</td>\n",
       "    </tr>\n",
       "    <tr>\n",
       "      <th>toplam_kentalti_ag</th>\n",
       "      <td>0.000</td>\n",
       "    </tr>\n",
       "    <tr>\n",
       "      <th>toplam_kirsal_og</th>\n",
       "      <td>0.000</td>\n",
       "    </tr>\n",
       "    <tr>\n",
       "      <th>toplam_kirsal_ag</th>\n",
       "      <td>0.000</td>\n",
       "    </tr>\n",
       "    <tr>\n",
       "      <th>cagri_count</th>\n",
       "      <td>0.000</td>\n",
       "    </tr>\n",
       "  </tbody>\n",
       "</table>\n",
       "</div>"
      ],
      "text/plain": [
       "                                   percentage_null\n",
       "kesinti_no                                   0.000\n",
       "il                                           0.000\n",
       "ilce                                         0.000\n",
       "sebeke_unsuru                                0.000\n",
       "sebeke_unsuru_kodu                           0.000\n",
       "kesinti_nedenine_iliskin_aciklama            0.000\n",
       "kaynaga_gore                                 0.000\n",
       "sureye_gore                                  0.000\n",
       "sebebe_gore                                  0.000\n",
       "bildirime_gore                               0.000\n",
       "baslama_tarihi_ve_zamani                     0.000\n",
       "sona_erme_tarihi_ve_zamani                   0.000\n",
       "kesinti_suresi                               0.000\n",
       "kentsel_og                                   0.000\n",
       "kentsel_ag                                   0.000\n",
       "kentalti_og                                  0.000\n",
       "kentalti_ag                                  0.000\n",
       "kirsal_og                                    0.000\n",
       "kirsal_ag                                    0.000\n",
       "toplam_kentsel_og                            0.000\n",
       "toplam_kentsel_ag                            0.000\n",
       "toplam_kentalti_og                           0.000\n",
       "toplam_kentalti_ag                           0.000\n",
       "toplam_kirsal_og                             0.000\n",
       "toplam_kirsal_ag                             0.000\n",
       "cagri_count                                  0.000"
      ]
     },
     "execution_count": 31,
     "metadata": {},
     "output_type": "execute_result"
    }
   ],
   "source": [
    "# df.isnull().sum()*100 / df.shape[0]\n",
    "\n",
    "percentage_null = round(pd.DataFrame(df.isnull().sum()/df.shape[0]*100, columns = ['percentage_null']),2)\n",
    "percentage_null"
   ]
  },
  {
   "cell_type": "code",
   "execution_count": 32,
   "metadata": {},
   "outputs": [
    {
     "data": {
      "text/html": [
       "<div>\n",
       "<style scoped>\n",
       "    .dataframe tbody tr th:only-of-type {\n",
       "        vertical-align: middle;\n",
       "    }\n",
       "\n",
       "    .dataframe tbody tr th {\n",
       "        vertical-align: top;\n",
       "    }\n",
       "\n",
       "    .dataframe thead th {\n",
       "        text-align: right;\n",
       "    }\n",
       "</style>\n",
       "<table border=\"1\" class=\"dataframe\">\n",
       "  <thead>\n",
       "    <tr style=\"text-align: right;\">\n",
       "      <th></th>\n",
       "      <th>Columns</th>\n",
       "      <th>isnull</th>\n",
       "      <th>percentage_null</th>\n",
       "    </tr>\n",
       "  </thead>\n",
       "  <tbody>\n",
       "    <tr>\n",
       "      <th>0</th>\n",
       "      <td>kesinti_no</td>\n",
       "      <td>0</td>\n",
       "      <td>0.000</td>\n",
       "    </tr>\n",
       "    <tr>\n",
       "      <th>1</th>\n",
       "      <td>il</td>\n",
       "      <td>0</td>\n",
       "      <td>0.000</td>\n",
       "    </tr>\n",
       "    <tr>\n",
       "      <th>2</th>\n",
       "      <td>ilce</td>\n",
       "      <td>0</td>\n",
       "      <td>0.000</td>\n",
       "    </tr>\n",
       "    <tr>\n",
       "      <th>3</th>\n",
       "      <td>sebeke_unsuru</td>\n",
       "      <td>0</td>\n",
       "      <td>0.000</td>\n",
       "    </tr>\n",
       "    <tr>\n",
       "      <th>4</th>\n",
       "      <td>sebeke_unsuru_kodu</td>\n",
       "      <td>0</td>\n",
       "      <td>0.000</td>\n",
       "    </tr>\n",
       "    <tr>\n",
       "      <th>5</th>\n",
       "      <td>kesinti_nedenine_iliskin_aciklama</td>\n",
       "      <td>0</td>\n",
       "      <td>0.000</td>\n",
       "    </tr>\n",
       "    <tr>\n",
       "      <th>6</th>\n",
       "      <td>kaynaga_gore</td>\n",
       "      <td>0</td>\n",
       "      <td>0.000</td>\n",
       "    </tr>\n",
       "    <tr>\n",
       "      <th>7</th>\n",
       "      <td>sureye_gore</td>\n",
       "      <td>0</td>\n",
       "      <td>0.000</td>\n",
       "    </tr>\n",
       "    <tr>\n",
       "      <th>8</th>\n",
       "      <td>sebebe_gore</td>\n",
       "      <td>0</td>\n",
       "      <td>0.000</td>\n",
       "    </tr>\n",
       "    <tr>\n",
       "      <th>9</th>\n",
       "      <td>bildirime_gore</td>\n",
       "      <td>0</td>\n",
       "      <td>0.000</td>\n",
       "    </tr>\n",
       "    <tr>\n",
       "      <th>10</th>\n",
       "      <td>baslama_tarihi_ve_zamani</td>\n",
       "      <td>0</td>\n",
       "      <td>0.000</td>\n",
       "    </tr>\n",
       "    <tr>\n",
       "      <th>11</th>\n",
       "      <td>sona_erme_tarihi_ve_zamani</td>\n",
       "      <td>0</td>\n",
       "      <td>0.000</td>\n",
       "    </tr>\n",
       "    <tr>\n",
       "      <th>12</th>\n",
       "      <td>kesinti_suresi</td>\n",
       "      <td>0</td>\n",
       "      <td>0.000</td>\n",
       "    </tr>\n",
       "    <tr>\n",
       "      <th>13</th>\n",
       "      <td>kentsel_og</td>\n",
       "      <td>0</td>\n",
       "      <td>0.000</td>\n",
       "    </tr>\n",
       "    <tr>\n",
       "      <th>14</th>\n",
       "      <td>kentsel_ag</td>\n",
       "      <td>0</td>\n",
       "      <td>0.000</td>\n",
       "    </tr>\n",
       "    <tr>\n",
       "      <th>15</th>\n",
       "      <td>kentalti_og</td>\n",
       "      <td>0</td>\n",
       "      <td>0.000</td>\n",
       "    </tr>\n",
       "    <tr>\n",
       "      <th>16</th>\n",
       "      <td>kentalti_ag</td>\n",
       "      <td>0</td>\n",
       "      <td>0.000</td>\n",
       "    </tr>\n",
       "    <tr>\n",
       "      <th>17</th>\n",
       "      <td>kirsal_og</td>\n",
       "      <td>0</td>\n",
       "      <td>0.000</td>\n",
       "    </tr>\n",
       "    <tr>\n",
       "      <th>18</th>\n",
       "      <td>kirsal_ag</td>\n",
       "      <td>0</td>\n",
       "      <td>0.000</td>\n",
       "    </tr>\n",
       "    <tr>\n",
       "      <th>19</th>\n",
       "      <td>toplam_kentsel_og</td>\n",
       "      <td>0</td>\n",
       "      <td>0.000</td>\n",
       "    </tr>\n",
       "    <tr>\n",
       "      <th>20</th>\n",
       "      <td>toplam_kentsel_ag</td>\n",
       "      <td>0</td>\n",
       "      <td>0.000</td>\n",
       "    </tr>\n",
       "    <tr>\n",
       "      <th>21</th>\n",
       "      <td>toplam_kentalti_og</td>\n",
       "      <td>0</td>\n",
       "      <td>0.000</td>\n",
       "    </tr>\n",
       "    <tr>\n",
       "      <th>22</th>\n",
       "      <td>toplam_kentalti_ag</td>\n",
       "      <td>0</td>\n",
       "      <td>0.000</td>\n",
       "    </tr>\n",
       "    <tr>\n",
       "      <th>23</th>\n",
       "      <td>toplam_kirsal_og</td>\n",
       "      <td>0</td>\n",
       "      <td>0.000</td>\n",
       "    </tr>\n",
       "    <tr>\n",
       "      <th>24</th>\n",
       "      <td>toplam_kirsal_ag</td>\n",
       "      <td>0</td>\n",
       "      <td>0.000</td>\n",
       "    </tr>\n",
       "    <tr>\n",
       "      <th>25</th>\n",
       "      <td>cagri_count</td>\n",
       "      <td>0</td>\n",
       "      <td>0.000</td>\n",
       "    </tr>\n",
       "  </tbody>\n",
       "</table>\n",
       "</div>"
      ],
      "text/plain": [
       "                              Columns  isnull  percentage_null\n",
       "0                          kesinti_no       0            0.000\n",
       "1                                  il       0            0.000\n",
       "2                                ilce       0            0.000\n",
       "3                       sebeke_unsuru       0            0.000\n",
       "4                  sebeke_unsuru_kodu       0            0.000\n",
       "5   kesinti_nedenine_iliskin_aciklama       0            0.000\n",
       "6                        kaynaga_gore       0            0.000\n",
       "7                         sureye_gore       0            0.000\n",
       "8                         sebebe_gore       0            0.000\n",
       "9                      bildirime_gore       0            0.000\n",
       "10           baslama_tarihi_ve_zamani       0            0.000\n",
       "11         sona_erme_tarihi_ve_zamani       0            0.000\n",
       "12                     kesinti_suresi       0            0.000\n",
       "13                         kentsel_og       0            0.000\n",
       "14                         kentsel_ag       0            0.000\n",
       "15                        kentalti_og       0            0.000\n",
       "16                        kentalti_ag       0            0.000\n",
       "17                          kirsal_og       0            0.000\n",
       "18                          kirsal_ag       0            0.000\n",
       "19                  toplam_kentsel_og       0            0.000\n",
       "20                  toplam_kentsel_ag       0            0.000\n",
       "21                 toplam_kentalti_og       0            0.000\n",
       "22                 toplam_kentalti_ag       0            0.000\n",
       "23                   toplam_kirsal_og       0            0.000\n",
       "24                   toplam_kirsal_ag       0            0.000\n",
       "25                        cagri_count       0            0.000"
      ]
     },
     "execution_count": 32,
     "metadata": {},
     "output_type": "execute_result"
    }
   ],
   "source": [
    "# summary_null = pd.concat([df.isnull().sum().to_frame(), (df.isnull().sum()*100 / df.shape[0]).to_frame()], axis = 1).reset_index().rename({'index':'Columns'},axis = 1)\n",
    "# summary_null\n",
    "\n",
    "summary_null = pd.concat([isnull, percentage_null], axis = 1).reset_index().rename({'index':'Columns'},axis = 1)\n",
    "summary_null"
   ]
  },
  {
   "cell_type": "markdown",
   "metadata": {},
   "source": [
    "> no null values"
   ]
  },
  {
   "cell_type": "code",
   "execution_count": 33,
   "metadata": {},
   "outputs": [
    {
     "data": {
      "text/plain": [
       "Index(['il', 'ilce', 'sebeke_unsuru', 'sebeke_unsuru_kodu',\n",
       "       'kesinti_nedenine_iliskin_aciklama', 'kaynaga_gore', 'sureye_gore',\n",
       "       'sebebe_gore', 'bildirime_gore', 'baslama_tarihi_ve_zamani',\n",
       "       'sona_erme_tarihi_ve_zamani'],\n",
       "      dtype='object')"
      ]
     },
     "execution_count": 33,
     "metadata": {},
     "output_type": "execute_result"
    }
   ],
   "source": [
    "object_col = df.select_dtypes(include='object').columns\n",
    "object_col"
   ]
  },
  {
   "cell_type": "code",
   "execution_count": 34,
   "metadata": {},
   "outputs": [
    {
     "name": "stdout",
     "output_type": "stream",
     "text": [
      "il\n",
      "----------------\n",
      "İZMİR     16082\n",
      "MANİSA     7076\n",
      "Name: il, dtype: int64\n",
      "////////////////////////////////////////\n",
      "ilce\n",
      "----------------\n",
      "ÇEŞME          1345\n",
      "ÖDEMİŞ          973\n",
      "KONAK           918\n",
      "YUNUSEMRE       915\n",
      "URLA            896\n",
      "BORNOVA         840\n",
      "SALİHLİ         815\n",
      "MENDERES        781\n",
      "AKHİSAR         773\n",
      "TORBALI         765\n",
      "TURGUTLU        694\n",
      "ŞEHZADELER      689\n",
      "KEMALPAŞA       673\n",
      "ALAŞEHİR        638\n",
      "BERGAMA         630\n",
      "BUCA            623\n",
      "KARABAĞLAR      613\n",
      "MENEMEN         599\n",
      "DİKİLİ          586\n",
      "TİRE            557\n",
      "SEFERİHİSAR     557\n",
      "KARABURUN       542\n",
      "KİRAZ           528\n",
      "BAYINDIR        509\n",
      "KARŞIYAKA       498\n",
      "SARUHANLI       484\n",
      "BAYRAKLI        446\n",
      "SOMA            440\n",
      "ALİAĞA          433\n",
      "ÇİĞLİ           430\n",
      "FOÇA            320\n",
      "GÖRDES          310\n",
      "KULA            270\n",
      "SELENDİ         239\n",
      "SARIGÖL         224\n",
      "GAZİEMİR        220\n",
      "KIRKAĞAÇ        186\n",
      "GÜZELBAHÇE      166\n",
      "KINIK           163\n",
      "DEMİRCİ         162\n",
      "SELÇUK          141\n",
      "NARLIDERE       122\n",
      "BEYDAĞ          117\n",
      "KÖPRÜBAŞI        96\n",
      "BALÇOVA          91\n",
      "AHMETLİ          78\n",
      "GÖLMARMARA       63\n",
      "Name: ilce, dtype: int64\n",
      "////////////////////////////////////////\n",
      "sebeke_unsuru\n",
      "----------------\n",
      "Abone Tesisi                 8056\n",
      "AG Fideri                    5759\n",
      "OG Fideri                    2540\n",
      "DM                           2019\n",
      "Dağıtım Transformatörü       1778\n",
      "KÖK                          1661\n",
      "Saha Dağıtım Kutusu (SDK)     867\n",
      "TM Fideri                     478\n",
      "Name: sebeke_unsuru, dtype: int64\n",
      "////////////////////////////////////////\n",
      "sebeke_unsuru_kodu\n",
      "----------------\n",
      "ÇAMLIK DM 35-17-M00173_ZEYTİNDAĞ-1 M08_66328132                              18\n",
      "ÜÇYOL KÖK 45-82-M00128_MENTEŞE M04_2329339                                   17\n",
      "BEYDERE KÖK 45-71-M00128_ESKİ KARAAĞAÇLI M07_50217162                        15\n",
      "MENDERES DM-2/TR-1 35-22-M00300_KÖYLER-1 M15_2095712                         15\n",
      "TR-1/3 45-83-M00003_PAŞATIMARI TR-1 M05_2331761                              14\n",
      "                                                                             ..\n",
      "AYTEKİN KENTLİ ÖZEL TR 35-13-L00387Ö_DIREK TIPI TRAFO HUCRESI H01_2036461     1\n",
      "TR-1/91 45-72-M00091_DIREK TIPI TRAFO HUCRESI H01_2103988                     1\n",
      "AZİMLİ AMBARKAYA TR-2 45-86-M00249_45-86-M00249_2366244                       1\n",
      "K-2361 35-02-K02361_910090738_910090738                                       1\n",
      "M-1106 35-01-M01106_35-01-M01106_2375816                                      1\n",
      "Name: sebeke_unsuru_kodu, Length: 18666, dtype: int64\n",
      "////////////////////////////////////////\n",
      "kesinti_nedenine_iliskin_aciklama\n",
      "----------------\n",
      "AG Havai Branşman Arızası                 4347\n",
      "OG Fider Açması                           4204\n",
      "AG Pano Kol Sigorta Atığı                 3979\n",
      "AG Box / Sdk Abone Çıkış Sigorta Atığı    1439\n",
      "AG Branşman Yeraltı Kablo Arızası         1388\n",
      "                                          ... \n",
      "Müteahhit Çalışması                          3\n",
      "OG Travers Arızası                           2\n",
      "Şebeke Bakım Çalışması                       2\n",
      "OG Trafo Kademe Ayarı                        2\n",
      "Yangın Sonucu Şebeke Hasarı                  1\n",
      "Name: kesinti_nedenine_iliskin_aciklama, Length: 62, dtype: int64\n",
      "////////////////////////////////////////\n",
      "kaynaga_gore\n",
      "----------------\n",
      "Dağıtım-AG    16461\n",
      "Dağıtım-OG     6604\n",
      "İletim           93\n",
      "Name: kaynaga_gore, dtype: int64\n",
      "////////////////////////////////////////\n",
      "sureye_gore\n",
      "----------------\n",
      "Uzun    22703\n",
      "Kısa      455\n",
      "Name: sureye_gore, dtype: int64\n",
      "////////////////////////////////////////\n",
      "sebebe_gore\n",
      "----------------\n",
      "Şebeke işletmecisi    22708\n",
      "Dışsal                  425\n",
      "Güvenlik                 25\n",
      "Name: sebebe_gore, dtype: int64\n",
      "////////////////////////////////////////\n",
      "bildirime_gore\n",
      "----------------\n",
      "Bildirimsiz    23158\n",
      "Name: bildirime_gore, dtype: int64\n",
      "////////////////////////////////////////\n",
      "baslama_tarihi_ve_zamani\n",
      "----------------\n",
      "15.01.2022 09:41:36    3\n",
      "02.01.2022 13:40:22    2\n",
      "16.06.2021 10:34:00    2\n",
      "25.01.2022 21:00:00    2\n",
      "19.05.2022 19:57:19    2\n",
      "                      ..\n",
      "24.05.2021 18:18:41    1\n",
      "05.12.2021 16:10:02    1\n",
      "25.01.2022 15:38:37    1\n",
      "24.06.2021 20:54:31    1\n",
      "24.05.2021 16:32:00    1\n",
      "Name: baslama_tarihi_ve_zamani, Length: 23100, dtype: int64\n",
      "////////////////////////////////////////\n",
      "sona_erme_tarihi_ve_zamani\n",
      "----------------\n",
      "13.05.2021 18:28:51    2\n",
      "04.01.2022 14:57:18    2\n",
      "07.05.2021 13:51:00    2\n",
      "15.01.2022 10:24:00    2\n",
      "22.01.2022 17:45:52    2\n",
      "                      ..\n",
      "21.12.2021 11:21:44    1\n",
      "09.12.2021 17:44:53    1\n",
      "11.05.2021 09:28:13    1\n",
      "04.09.2021 09:06:44    1\n",
      "24.05.2021 17:05:49    1\n",
      "Name: sona_erme_tarihi_ve_zamani, Length: 23133, dtype: int64\n",
      "////////////////////////////////////////\n"
     ]
    }
   ],
   "source": [
    "for col in object_col:\n",
    "    print(col)\n",
    "    print(\"--\"*8)\n",
    "    print(df[col].value_counts(dropna=False))\n",
    "    print(\"//\"*20)"
   ]
  },
  {
   "cell_type": "code",
   "execution_count": 35,
   "metadata": {},
   "outputs": [
    {
     "data": {
      "text/html": [
       "<pre style=\"white-space:pre;overflow-x:auto;line-height:normal;font-family:Menlo,'DejaVu Sans Mono',consolas,'Courier New',monospace\">╭──────────────────────────────────────────────── skimpy summary ─────────────────────────────────────────────────╮\n",
       "│ <span style=\"font-style: italic\">         Data Summary         </span> <span style=\"font-style: italic\">      Data Types       </span>                                                          │\n",
       "│ ┏━━━━━━━━━━━━━━━━━━━┳━━━━━━━━┓ ┏━━━━━━━━━━━━━┳━━━━━━━┓                                                          │\n",
       "│ ┃<span style=\"color: #008080; text-decoration-color: #008080; font-weight: bold\"> dataframe         </span>┃<span style=\"color: #008080; text-decoration-color: #008080; font-weight: bold\"> Values </span>┃ ┃<span style=\"color: #008080; text-decoration-color: #008080; font-weight: bold\"> Column Type </span>┃<span style=\"color: #008080; text-decoration-color: #008080; font-weight: bold\"> Count </span>┃                                                          │\n",
       "│ ┡━━━━━━━━━━━━━━━━━━━╇━━━━━━━━┩ ┡━━━━━━━━━━━━━╇━━━━━━━┩                                                          │\n",
       "│ │ Number of rows    │ 23158  │ │ string      │ 11    │                                                          │\n",
       "│ │ Number of columns │ 26     │ │ float64     │ 8     │                                                          │\n",
       "│ └───────────────────┴────────┘ │ int32       │ 7     │                                                          │\n",
       "│                                └─────────────┴───────┘                                                          │\n",
       "│ <span style=\"font-style: italic\">                                                    number                                                    </span>  │\n",
       "│ ┏━━━━━━━━━━━━━━━━━━━━━━┳━━━━━┳━━━━━━━┳━━━━━━━━━━┳━━━━━━━━━┳━━━━━━━━━━┳━━━━━━━━━━┳━━━━━━━━━┳━━━━━━━━━┳━━━━━━━━┓  │\n",
       "│ ┃<span style=\"font-weight: bold\"> column_name          </span>┃<span style=\"font-weight: bold\"> NA  </span>┃<span style=\"font-weight: bold\"> NA %  </span>┃<span style=\"font-weight: bold\"> mean     </span>┃<span style=\"font-weight: bold\"> sd      </span>┃<span style=\"font-weight: bold\"> p0       </span>┃<span style=\"font-weight: bold\"> p25      </span>┃<span style=\"font-weight: bold\"> p75     </span>┃<span style=\"font-weight: bold\"> p100    </span>┃<span style=\"font-weight: bold\"> hist   </span>┃  │\n",
       "│ ┡━━━━━━━━━━━━━━━━━━━━━━╇━━━━━╇━━━━━━━╇━━━━━━━━━━╇━━━━━━━━━╇━━━━━━━━━━╇━━━━━━━━━━╇━━━━━━━━━╇━━━━━━━━━╇━━━━━━━━┩  │\n",
       "│ │ <span style=\"color: #af87ff; text-decoration-color: #af87ff\">kesinti_no          </span> │ <span style=\"color: #008080; text-decoration-color: #008080\">  0</span> │ <span style=\"color: #008080; text-decoration-color: #008080\">    0</span> │ <span style=\"color: #008080; text-decoration-color: #008080\"> 2100000</span> │ <span style=\"color: #008080; text-decoration-color: #008080\"> 180000</span> │ <span style=\"color: #008080; text-decoration-color: #008080\"> 1800000</span> │ <span style=\"color: #008080; text-decoration-color: #008080\"> 1900000</span> │ <span style=\"color: #008080; text-decoration-color: #008080\">2200000</span> │ <span style=\"color: #008080; text-decoration-color: #008080\">2300000</span> │ <span style=\"color: #008000; text-decoration-color: #008000\">█▂▁▂█▅</span> │  │\n",
       "│ │ <span style=\"color: #af87ff; text-decoration-color: #af87ff\">kesinti_suresi      </span> │ <span style=\"color: #008080; text-decoration-color: #008080\">  0</span> │ <span style=\"color: #008080; text-decoration-color: #008080\">    0</span> │ <span style=\"color: #008080; text-decoration-color: #008080\">     2.3</span> │ <span style=\"color: #008080; text-decoration-color: #008080\">    2.6</span> │ <span style=\"color: #008080; text-decoration-color: #008080\">  0.0019</span> │ <span style=\"color: #008080; text-decoration-color: #008080\">    0.96</span> │ <span style=\"color: #008080; text-decoration-color: #008080\">      3</span> │ <span style=\"color: #008080; text-decoration-color: #008080\">    170</span> │ <span style=\"color: #008000; text-decoration-color: #008000\">  █   </span> │  │\n",
       "│ │ <span style=\"color: #af87ff; text-decoration-color: #af87ff\">kentsel_og          </span> │ <span style=\"color: #008080; text-decoration-color: #008080\">  0</span> │ <span style=\"color: #008080; text-decoration-color: #008080\">    0</span> │ <span style=\"color: #008080; text-decoration-color: #008080\">     7.3</span> │ <span style=\"color: #008080; text-decoration-color: #008080\">     34</span> │ <span style=\"color: #008080; text-decoration-color: #008080\">       0</span> │ <span style=\"color: #008080; text-decoration-color: #008080\">       0</span> │ <span style=\"color: #008080; text-decoration-color: #008080\">      0</span> │ <span style=\"color: #008080; text-decoration-color: #008080\">    900</span> │ <span style=\"color: #008000; text-decoration-color: #008000\">  █   </span> │  │\n",
       "│ │ <span style=\"color: #af87ff; text-decoration-color: #af87ff\">kentsel_ag          </span> │ <span style=\"color: #008080; text-decoration-color: #008080\">  0</span> │ <span style=\"color: #008080; text-decoration-color: #008080\">    0</span> │ <span style=\"color: #008080; text-decoration-color: #008080\">     350</span> │ <span style=\"color: #008080; text-decoration-color: #008080\">   1700</span> │ <span style=\"color: #008080; text-decoration-color: #008080\">       0</span> │ <span style=\"color: #008080; text-decoration-color: #008080\">       0</span> │ <span style=\"color: #008080; text-decoration-color: #008080\">     88</span> │ <span style=\"color: #008080; text-decoration-color: #008080\">  48000</span> │ <span style=\"color: #008000; text-decoration-color: #008000\">  █   </span> │  │\n",
       "│ │ <span style=\"color: #af87ff; text-decoration-color: #af87ff\">kentalti_og         </span> │ <span style=\"color: #008080; text-decoration-color: #008080\">  0</span> │ <span style=\"color: #008080; text-decoration-color: #008080\">    0</span> │ <span style=\"color: #008080; text-decoration-color: #008080\">    0.99</span> │ <span style=\"color: #008080; text-decoration-color: #008080\">     11</span> │ <span style=\"color: #008080; text-decoration-color: #008080\">       0</span> │ <span style=\"color: #008080; text-decoration-color: #008080\">       0</span> │ <span style=\"color: #008080; text-decoration-color: #008080\">      0</span> │ <span style=\"color: #008080; text-decoration-color: #008080\">    730</span> │ <span style=\"color: #008000; text-decoration-color: #008000\">  █   </span> │  │\n",
       "│ │ <span style=\"color: #af87ff; text-decoration-color: #af87ff\">kentalti_ag         </span> │ <span style=\"color: #008080; text-decoration-color: #008080\">  0</span> │ <span style=\"color: #008080; text-decoration-color: #008080\">    0</span> │ <span style=\"color: #008080; text-decoration-color: #008080\">      47</span> │ <span style=\"color: #008080; text-decoration-color: #008080\">    460</span> │ <span style=\"color: #008080; text-decoration-color: #008080\">       0</span> │ <span style=\"color: #008080; text-decoration-color: #008080\">       0</span> │ <span style=\"color: #008080; text-decoration-color: #008080\">      0</span> │ <span style=\"color: #008080; text-decoration-color: #008080\">  24000</span> │ <span style=\"color: #008000; text-decoration-color: #008000\">  █   </span> │  │\n",
       "│ │ <span style=\"color: #af87ff; text-decoration-color: #af87ff\">kirsal_og           </span> │ <span style=\"color: #008080; text-decoration-color: #008080\">  0</span> │ <span style=\"color: #008080; text-decoration-color: #008080\">    0</span> │ <span style=\"color: #008080; text-decoration-color: #008080\">     1.9</span> │ <span style=\"color: #008080; text-decoration-color: #008080\">     14</span> │ <span style=\"color: #008080; text-decoration-color: #008080\">       0</span> │ <span style=\"color: #008080; text-decoration-color: #008080\">       0</span> │ <span style=\"color: #008080; text-decoration-color: #008080\">      0</span> │ <span style=\"color: #008080; text-decoration-color: #008080\">    450</span> │ <span style=\"color: #008000; text-decoration-color: #008000\">  █   </span> │  │\n",
       "│ │ <span style=\"color: #af87ff; text-decoration-color: #af87ff\">kirsal_ag           </span> │ <span style=\"color: #008080; text-decoration-color: #008080\">  0</span> │ <span style=\"color: #008080; text-decoration-color: #008080\">    0</span> │ <span style=\"color: #008080; text-decoration-color: #008080\">      50</span> │ <span style=\"color: #008080; text-decoration-color: #008080\">    310</span> │ <span style=\"color: #008080; text-decoration-color: #008080\">       0</span> │ <span style=\"color: #008080; text-decoration-color: #008080\">       0</span> │ <span style=\"color: #008080; text-decoration-color: #008080\">      0</span> │ <span style=\"color: #008080; text-decoration-color: #008080\">  12000</span> │ <span style=\"color: #008000; text-decoration-color: #008000\">  █   </span> │  │\n",
       "│ │ <span style=\"color: #af87ff; text-decoration-color: #af87ff\">toplam_kentsel_og   </span> │ <span style=\"color: #008080; text-decoration-color: #008080\">  0</span> │ <span style=\"color: #008080; text-decoration-color: #008080\">    0</span> │ <span style=\"color: #008080; text-decoration-color: #008080\">     7.4</span> │ <span style=\"color: #008080; text-decoration-color: #008080\">     49</span> │ <span style=\"color: #008080; text-decoration-color: #008080\">       0</span> │ <span style=\"color: #008080; text-decoration-color: #008080\">       0</span> │ <span style=\"color: #008080; text-decoration-color: #008080\">      0</span> │ <span style=\"color: #008080; text-decoration-color: #008080\">   2200</span> │ <span style=\"color: #008000; text-decoration-color: #008000\">  █   </span> │  │\n",
       "│ │ <span style=\"color: #af87ff; text-decoration-color: #af87ff\">toplam_kentsel_ag   </span> │ <span style=\"color: #008080; text-decoration-color: #008080\">  0</span> │ <span style=\"color: #008080; text-decoration-color: #008080\">    0</span> │ <span style=\"color: #008080; text-decoration-color: #008080\">     310</span> │ <span style=\"color: #008080; text-decoration-color: #008080\">   1500</span> │ <span style=\"color: #008080; text-decoration-color: #008080\">       0</span> │ <span style=\"color: #008080; text-decoration-color: #008080\">       0</span> │ <span style=\"color: #008080; text-decoration-color: #008080\">    130</span> │ <span style=\"color: #008080; text-decoration-color: #008080\">  66000</span> │ <span style=\"color: #008000; text-decoration-color: #008000\">  █   </span> │  │\n",
       "│ │ <span style=\"color: #af87ff; text-decoration-color: #af87ff\">toplam_kentalti_og  </span> │ <span style=\"color: #008080; text-decoration-color: #008080\">  0</span> │ <span style=\"color: #008080; text-decoration-color: #008080\">    0</span> │ <span style=\"color: #008080; text-decoration-color: #008080\">    0.78</span> │ <span style=\"color: #008080; text-decoration-color: #008080\">     11</span> │ <span style=\"color: #008080; text-decoration-color: #008080\">       0</span> │ <span style=\"color: #008080; text-decoration-color: #008080\">       0</span> │ <span style=\"color: #008080; text-decoration-color: #008080\">      0</span> │ <span style=\"color: #008080; text-decoration-color: #008080\">    830</span> │ <span style=\"color: #008000; text-decoration-color: #008000\">  █   </span> │  │\n",
       "│ │ <span style=\"color: #af87ff; text-decoration-color: #af87ff\">toplam_kentalti_ag  </span> │ <span style=\"color: #008080; text-decoration-color: #008080\">  0</span> │ <span style=\"color: #008080; text-decoration-color: #008080\">    0</span> │ <span style=\"color: #008080; text-decoration-color: #008080\">      36</span> │ <span style=\"color: #008080; text-decoration-color: #008080\">    380</span> │ <span style=\"color: #008080; text-decoration-color: #008080\">       0</span> │ <span style=\"color: #008080; text-decoration-color: #008080\">       0</span> │ <span style=\"color: #008080; text-decoration-color: #008080\">      0</span> │ <span style=\"color: #008080; text-decoration-color: #008080\">  31000</span> │ <span style=\"color: #008000; text-decoration-color: #008000\">  █   </span> │  │\n",
       "│ │ <span style=\"color: #af87ff; text-decoration-color: #af87ff\">toplam_kirsal_og    </span> │ <span style=\"color: #008080; text-decoration-color: #008080\">  0</span> │ <span style=\"color: #008080; text-decoration-color: #008080\">    0</span> │ <span style=\"color: #008080; text-decoration-color: #008080\">     1.6</span> │ <span style=\"color: #008080; text-decoration-color: #008080\">     18</span> │ <span style=\"color: #008080; text-decoration-color: #008080\">       0</span> │ <span style=\"color: #008080; text-decoration-color: #008080\">       0</span> │ <span style=\"color: #008080; text-decoration-color: #008080\">      0</span> │ <span style=\"color: #008080; text-decoration-color: #008080\">   1400</span> │ <span style=\"color: #008000; text-decoration-color: #008000\">  █   </span> │  │\n",
       "│ │ <span style=\"color: #af87ff; text-decoration-color: #af87ff\">toplam_kirsal_ag    </span> │ <span style=\"color: #008080; text-decoration-color: #008080\">  0</span> │ <span style=\"color: #008080; text-decoration-color: #008080\">    0</span> │ <span style=\"color: #008080; text-decoration-color: #008080\">      41</span> │ <span style=\"color: #008080; text-decoration-color: #008080\">    300</span> │ <span style=\"color: #008080; text-decoration-color: #008080\">       0</span> │ <span style=\"color: #008080; text-decoration-color: #008080\">       0</span> │ <span style=\"color: #008080; text-decoration-color: #008080\">      0</span> │ <span style=\"color: #008080; text-decoration-color: #008080\">  13000</span> │ <span style=\"color: #008000; text-decoration-color: #008000\">  █   </span> │  │\n",
       "│ │ <span style=\"color: #af87ff; text-decoration-color: #af87ff\">cagri_count         </span> │ <span style=\"color: #008080; text-decoration-color: #008080\">  0</span> │ <span style=\"color: #008080; text-decoration-color: #008080\">    0</span> │ <span style=\"color: #008080; text-decoration-color: #008080\">     4.1</span> │ <span style=\"color: #008080; text-decoration-color: #008080\">     28</span> │ <span style=\"color: #008080; text-decoration-color: #008080\">       0</span> │ <span style=\"color: #008080; text-decoration-color: #008080\">       0</span> │ <span style=\"color: #008080; text-decoration-color: #008080\">      1</span> │ <span style=\"color: #008080; text-decoration-color: #008080\">   1200</span> │ <span style=\"color: #008000; text-decoration-color: #008000\">  █   </span> │  │\n",
       "│ └──────────────────────┴─────┴───────┴──────────┴─────────┴──────────┴──────────┴─────────┴─────────┴────────┘  │\n",
       "│ <span style=\"font-style: italic\">                                                    string                                                    </span>  │\n",
       "│ ┏━━━━━━━━━━━━━━━━━━━━━━━━━━━━━━━━━━━━━━━┳━━━━━━━┳━━━━━━━━━━━┳━━━━━━━━━━━━━━━━━━━━━━━━━━┳━━━━━━━━━━━━━━━━━━━━━┓  │\n",
       "│ ┃<span style=\"font-weight: bold\"> column_name                           </span>┃<span style=\"font-weight: bold\"> NA    </span>┃<span style=\"font-weight: bold\"> NA %      </span>┃<span style=\"font-weight: bold\"> words per row            </span>┃<span style=\"font-weight: bold\"> total words         </span>┃  │\n",
       "│ ┡━━━━━━━━━━━━━━━━━━━━━━━━━━━━━━━━━━━━━━━╇━━━━━━━╇━━━━━━━━━━━╇━━━━━━━━━━━━━━━━━━━━━━━━━━╇━━━━━━━━━━━━━━━━━━━━━┩  │\n",
       "│ │ <span style=\"color: #af87ff; text-decoration-color: #af87ff\">il                                   </span> │ <span style=\"color: #008080; text-decoration-color: #008080\">    0</span> │ <span style=\"color: #008080; text-decoration-color: #008080\">        0</span> │ <span style=\"color: #008080; text-decoration-color: #008080\">                       1</span> │ <span style=\"color: #008080; text-decoration-color: #008080\">              23000</span> │  │\n",
       "│ │ <span style=\"color: #af87ff; text-decoration-color: #af87ff\">ilce                                 </span> │ <span style=\"color: #008080; text-decoration-color: #008080\">    0</span> │ <span style=\"color: #008080; text-decoration-color: #008080\">        0</span> │ <span style=\"color: #008080; text-decoration-color: #008080\">                       1</span> │ <span style=\"color: #008080; text-decoration-color: #008080\">              23000</span> │  │\n",
       "│ │ <span style=\"color: #af87ff; text-decoration-color: #af87ff\">sebeke_unsuru                        </span> │ <span style=\"color: #008080; text-decoration-color: #008080\">    0</span> │ <span style=\"color: #008080; text-decoration-color: #008080\">        0</span> │ <span style=\"color: #008080; text-decoration-color: #008080\">                       1</span> │ <span style=\"color: #008080; text-decoration-color: #008080\">              23000</span> │  │\n",
       "│ │ <span style=\"color: #af87ff; text-decoration-color: #af87ff\">sebeke_unsuru_kodu                   </span> │ <span style=\"color: #008080; text-decoration-color: #008080\">    0</span> │ <span style=\"color: #008080; text-decoration-color: #008080\">        0</span> │ <span style=\"color: #008080; text-decoration-color: #008080\">                       1</span> │ <span style=\"color: #008080; text-decoration-color: #008080\">              23000</span> │  │\n",
       "│ │ <span style=\"color: #af87ff; text-decoration-color: #af87ff\">kesinti_nedenine_ili                 </span> │ <span style=\"color: #008080; text-decoration-color: #008080\">    0</span> │ <span style=\"color: #008080; text-decoration-color: #008080\">        0</span> │ <span style=\"color: #008080; text-decoration-color: #008080\">                       1</span> │ <span style=\"color: #008080; text-decoration-color: #008080\">              23000</span> │  │\n",
       "│ │ <span style=\"color: #af87ff; text-decoration-color: #af87ff\">kaynaga_gore                         </span> │ <span style=\"color: #008080; text-decoration-color: #008080\">    0</span> │ <span style=\"color: #008080; text-decoration-color: #008080\">        0</span> │ <span style=\"color: #008080; text-decoration-color: #008080\">                       1</span> │ <span style=\"color: #008080; text-decoration-color: #008080\">              23000</span> │  │\n",
       "│ │ <span style=\"color: #af87ff; text-decoration-color: #af87ff\">sureye_gore                          </span> │ <span style=\"color: #008080; text-decoration-color: #008080\">    0</span> │ <span style=\"color: #008080; text-decoration-color: #008080\">        0</span> │ <span style=\"color: #008080; text-decoration-color: #008080\">                       1</span> │ <span style=\"color: #008080; text-decoration-color: #008080\">              23000</span> │  │\n",
       "│ │ <span style=\"color: #af87ff; text-decoration-color: #af87ff\">sebebe_gore                          </span> │ <span style=\"color: #008080; text-decoration-color: #008080\">    0</span> │ <span style=\"color: #008080; text-decoration-color: #008080\">        0</span> │ <span style=\"color: #008080; text-decoration-color: #008080\">                       1</span> │ <span style=\"color: #008080; text-decoration-color: #008080\">              23000</span> │  │\n",
       "│ │ <span style=\"color: #af87ff; text-decoration-color: #af87ff\">bildirime_gore                       </span> │ <span style=\"color: #008080; text-decoration-color: #008080\">    0</span> │ <span style=\"color: #008080; text-decoration-color: #008080\">        0</span> │ <span style=\"color: #008080; text-decoration-color: #008080\">                       1</span> │ <span style=\"color: #008080; text-decoration-color: #008080\">              23000</span> │  │\n",
       "│ │ <span style=\"color: #af87ff; text-decoration-color: #af87ff\">baslama_tarihi_ve_za                 </span> │ <span style=\"color: #008080; text-decoration-color: #008080\">    0</span> │ <span style=\"color: #008080; text-decoration-color: #008080\">        0</span> │ <span style=\"color: #008080; text-decoration-color: #008080\">                       1</span> │ <span style=\"color: #008080; text-decoration-color: #008080\">              23000</span> │  │\n",
       "│ │ <span style=\"color: #af87ff; text-decoration-color: #af87ff\">sona_erme_tarihi_ve_                 </span> │ <span style=\"color: #008080; text-decoration-color: #008080\">    0</span> │ <span style=\"color: #008080; text-decoration-color: #008080\">        0</span> │ <span style=\"color: #008080; text-decoration-color: #008080\">                       1</span> │ <span style=\"color: #008080; text-decoration-color: #008080\">              23000</span> │  │\n",
       "│ └───────────────────────────────────────┴───────┴───────────┴──────────────────────────┴─────────────────────┘  │\n",
       "╰────────────────────────────────────────────────────── End ──────────────────────────────────────────────────────╯\n",
       "</pre>\n"
      ],
      "text/plain": [
       "╭──────────────────────────────────────────────── skimpy summary ─────────────────────────────────────────────────╮\n",
       "│ \u001b[3m         Data Summary         \u001b[0m \u001b[3m      Data Types       \u001b[0m                                                          │\n",
       "│ ┏━━━━━━━━━━━━━━━━━━━┳━━━━━━━━┓ ┏━━━━━━━━━━━━━┳━━━━━━━┓                                                          │\n",
       "│ ┃\u001b[1;36m \u001b[0m\u001b[1;36mdataframe        \u001b[0m\u001b[1;36m \u001b[0m┃\u001b[1;36m \u001b[0m\u001b[1;36mValues\u001b[0m\u001b[1;36m \u001b[0m┃ ┃\u001b[1;36m \u001b[0m\u001b[1;36mColumn Type\u001b[0m\u001b[1;36m \u001b[0m┃\u001b[1;36m \u001b[0m\u001b[1;36mCount\u001b[0m\u001b[1;36m \u001b[0m┃                                                          │\n",
       "│ ┡━━━━━━━━━━━━━━━━━━━╇━━━━━━━━┩ ┡━━━━━━━━━━━━━╇━━━━━━━┩                                                          │\n",
       "│ │ Number of rows    │ 23158  │ │ string      │ 11    │                                                          │\n",
       "│ │ Number of columns │ 26     │ │ float64     │ 8     │                                                          │\n",
       "│ └───────────────────┴────────┘ │ int32       │ 7     │                                                          │\n",
       "│                                └─────────────┴───────┘                                                          │\n",
       "│ \u001b[3m                                                    number                                                    \u001b[0m  │\n",
       "│ ┏━━━━━━━━━━━━━━━━━━━━━━┳━━━━━┳━━━━━━━┳━━━━━━━━━━┳━━━━━━━━━┳━━━━━━━━━━┳━━━━━━━━━━┳━━━━━━━━━┳━━━━━━━━━┳━━━━━━━━┓  │\n",
       "│ ┃\u001b[1m \u001b[0m\u001b[1mcolumn_name         \u001b[0m\u001b[1m \u001b[0m┃\u001b[1m \u001b[0m\u001b[1mNA \u001b[0m\u001b[1m \u001b[0m┃\u001b[1m \u001b[0m\u001b[1mNA % \u001b[0m\u001b[1m \u001b[0m┃\u001b[1m \u001b[0m\u001b[1mmean    \u001b[0m\u001b[1m \u001b[0m┃\u001b[1m \u001b[0m\u001b[1msd     \u001b[0m\u001b[1m \u001b[0m┃\u001b[1m \u001b[0m\u001b[1mp0      \u001b[0m\u001b[1m \u001b[0m┃\u001b[1m \u001b[0m\u001b[1mp25     \u001b[0m\u001b[1m \u001b[0m┃\u001b[1m \u001b[0m\u001b[1mp75    \u001b[0m\u001b[1m \u001b[0m┃\u001b[1m \u001b[0m\u001b[1mp100   \u001b[0m\u001b[1m \u001b[0m┃\u001b[1m \u001b[0m\u001b[1mhist  \u001b[0m\u001b[1m \u001b[0m┃  │\n",
       "│ ┡━━━━━━━━━━━━━━━━━━━━━━╇━━━━━╇━━━━━━━╇━━━━━━━━━━╇━━━━━━━━━╇━━━━━━━━━━╇━━━━━━━━━━╇━━━━━━━━━╇━━━━━━━━━╇━━━━━━━━┩  │\n",
       "│ │ \u001b[38;5;141mkesinti_no          \u001b[0m │ \u001b[36m  0\u001b[0m │ \u001b[36m    0\u001b[0m │ \u001b[36m 2100000\u001b[0m │ \u001b[36m 180000\u001b[0m │ \u001b[36m 1800000\u001b[0m │ \u001b[36m 1900000\u001b[0m │ \u001b[36m2200000\u001b[0m │ \u001b[36m2300000\u001b[0m │ \u001b[32m█▂▁▂█▅\u001b[0m │  │\n",
       "│ │ \u001b[38;5;141mkesinti_suresi      \u001b[0m │ \u001b[36m  0\u001b[0m │ \u001b[36m    0\u001b[0m │ \u001b[36m     2.3\u001b[0m │ \u001b[36m    2.6\u001b[0m │ \u001b[36m  0.0019\u001b[0m │ \u001b[36m    0.96\u001b[0m │ \u001b[36m      3\u001b[0m │ \u001b[36m    170\u001b[0m │ \u001b[32m  █   \u001b[0m │  │\n",
       "│ │ \u001b[38;5;141mkentsel_og          \u001b[0m │ \u001b[36m  0\u001b[0m │ \u001b[36m    0\u001b[0m │ \u001b[36m     7.3\u001b[0m │ \u001b[36m     34\u001b[0m │ \u001b[36m       0\u001b[0m │ \u001b[36m       0\u001b[0m │ \u001b[36m      0\u001b[0m │ \u001b[36m    900\u001b[0m │ \u001b[32m  █   \u001b[0m │  │\n",
       "│ │ \u001b[38;5;141mkentsel_ag          \u001b[0m │ \u001b[36m  0\u001b[0m │ \u001b[36m    0\u001b[0m │ \u001b[36m     350\u001b[0m │ \u001b[36m   1700\u001b[0m │ \u001b[36m       0\u001b[0m │ \u001b[36m       0\u001b[0m │ \u001b[36m     88\u001b[0m │ \u001b[36m  48000\u001b[0m │ \u001b[32m  █   \u001b[0m │  │\n",
       "│ │ \u001b[38;5;141mkentalti_og         \u001b[0m │ \u001b[36m  0\u001b[0m │ \u001b[36m    0\u001b[0m │ \u001b[36m    0.99\u001b[0m │ \u001b[36m     11\u001b[0m │ \u001b[36m       0\u001b[0m │ \u001b[36m       0\u001b[0m │ \u001b[36m      0\u001b[0m │ \u001b[36m    730\u001b[0m │ \u001b[32m  █   \u001b[0m │  │\n",
       "│ │ \u001b[38;5;141mkentalti_ag         \u001b[0m │ \u001b[36m  0\u001b[0m │ \u001b[36m    0\u001b[0m │ \u001b[36m      47\u001b[0m │ \u001b[36m    460\u001b[0m │ \u001b[36m       0\u001b[0m │ \u001b[36m       0\u001b[0m │ \u001b[36m      0\u001b[0m │ \u001b[36m  24000\u001b[0m │ \u001b[32m  █   \u001b[0m │  │\n",
       "│ │ \u001b[38;5;141mkirsal_og           \u001b[0m │ \u001b[36m  0\u001b[0m │ \u001b[36m    0\u001b[0m │ \u001b[36m     1.9\u001b[0m │ \u001b[36m     14\u001b[0m │ \u001b[36m       0\u001b[0m │ \u001b[36m       0\u001b[0m │ \u001b[36m      0\u001b[0m │ \u001b[36m    450\u001b[0m │ \u001b[32m  █   \u001b[0m │  │\n",
       "│ │ \u001b[38;5;141mkirsal_ag           \u001b[0m │ \u001b[36m  0\u001b[0m │ \u001b[36m    0\u001b[0m │ \u001b[36m      50\u001b[0m │ \u001b[36m    310\u001b[0m │ \u001b[36m       0\u001b[0m │ \u001b[36m       0\u001b[0m │ \u001b[36m      0\u001b[0m │ \u001b[36m  12000\u001b[0m │ \u001b[32m  █   \u001b[0m │  │\n",
       "│ │ \u001b[38;5;141mtoplam_kentsel_og   \u001b[0m │ \u001b[36m  0\u001b[0m │ \u001b[36m    0\u001b[0m │ \u001b[36m     7.4\u001b[0m │ \u001b[36m     49\u001b[0m │ \u001b[36m       0\u001b[0m │ \u001b[36m       0\u001b[0m │ \u001b[36m      0\u001b[0m │ \u001b[36m   2200\u001b[0m │ \u001b[32m  █   \u001b[0m │  │\n",
       "│ │ \u001b[38;5;141mtoplam_kentsel_ag   \u001b[0m │ \u001b[36m  0\u001b[0m │ \u001b[36m    0\u001b[0m │ \u001b[36m     310\u001b[0m │ \u001b[36m   1500\u001b[0m │ \u001b[36m       0\u001b[0m │ \u001b[36m       0\u001b[0m │ \u001b[36m    130\u001b[0m │ \u001b[36m  66000\u001b[0m │ \u001b[32m  █   \u001b[0m │  │\n",
       "│ │ \u001b[38;5;141mtoplam_kentalti_og  \u001b[0m │ \u001b[36m  0\u001b[0m │ \u001b[36m    0\u001b[0m │ \u001b[36m    0.78\u001b[0m │ \u001b[36m     11\u001b[0m │ \u001b[36m       0\u001b[0m │ \u001b[36m       0\u001b[0m │ \u001b[36m      0\u001b[0m │ \u001b[36m    830\u001b[0m │ \u001b[32m  █   \u001b[0m │  │\n",
       "│ │ \u001b[38;5;141mtoplam_kentalti_ag  \u001b[0m │ \u001b[36m  0\u001b[0m │ \u001b[36m    0\u001b[0m │ \u001b[36m      36\u001b[0m │ \u001b[36m    380\u001b[0m │ \u001b[36m       0\u001b[0m │ \u001b[36m       0\u001b[0m │ \u001b[36m      0\u001b[0m │ \u001b[36m  31000\u001b[0m │ \u001b[32m  █   \u001b[0m │  │\n",
       "│ │ \u001b[38;5;141mtoplam_kirsal_og    \u001b[0m │ \u001b[36m  0\u001b[0m │ \u001b[36m    0\u001b[0m │ \u001b[36m     1.6\u001b[0m │ \u001b[36m     18\u001b[0m │ \u001b[36m       0\u001b[0m │ \u001b[36m       0\u001b[0m │ \u001b[36m      0\u001b[0m │ \u001b[36m   1400\u001b[0m │ \u001b[32m  █   \u001b[0m │  │\n",
       "│ │ \u001b[38;5;141mtoplam_kirsal_ag    \u001b[0m │ \u001b[36m  0\u001b[0m │ \u001b[36m    0\u001b[0m │ \u001b[36m      41\u001b[0m │ \u001b[36m    300\u001b[0m │ \u001b[36m       0\u001b[0m │ \u001b[36m       0\u001b[0m │ \u001b[36m      0\u001b[0m │ \u001b[36m  13000\u001b[0m │ \u001b[32m  █   \u001b[0m │  │\n",
       "│ │ \u001b[38;5;141mcagri_count         \u001b[0m │ \u001b[36m  0\u001b[0m │ \u001b[36m    0\u001b[0m │ \u001b[36m     4.1\u001b[0m │ \u001b[36m     28\u001b[0m │ \u001b[36m       0\u001b[0m │ \u001b[36m       0\u001b[0m │ \u001b[36m      1\u001b[0m │ \u001b[36m   1200\u001b[0m │ \u001b[32m  █   \u001b[0m │  │\n",
       "│ └──────────────────────┴─────┴───────┴──────────┴─────────┴──────────┴──────────┴─────────┴─────────┴────────┘  │\n",
       "│ \u001b[3m                                                    string                                                    \u001b[0m  │\n",
       "│ ┏━━━━━━━━━━━━━━━━━━━━━━━━━━━━━━━━━━━━━━━┳━━━━━━━┳━━━━━━━━━━━┳━━━━━━━━━━━━━━━━━━━━━━━━━━┳━━━━━━━━━━━━━━━━━━━━━┓  │\n",
       "│ ┃\u001b[1m \u001b[0m\u001b[1mcolumn_name                          \u001b[0m\u001b[1m \u001b[0m┃\u001b[1m \u001b[0m\u001b[1mNA   \u001b[0m\u001b[1m \u001b[0m┃\u001b[1m \u001b[0m\u001b[1mNA %     \u001b[0m\u001b[1m \u001b[0m┃\u001b[1m \u001b[0m\u001b[1mwords per row           \u001b[0m\u001b[1m \u001b[0m┃\u001b[1m \u001b[0m\u001b[1mtotal words        \u001b[0m\u001b[1m \u001b[0m┃  │\n",
       "│ ┡━━━━━━━━━━━━━━━━━━━━━━━━━━━━━━━━━━━━━━━╇━━━━━━━╇━━━━━━━━━━━╇━━━━━━━━━━━━━━━━━━━━━━━━━━╇━━━━━━━━━━━━━━━━━━━━━┩  │\n",
       "│ │ \u001b[38;5;141mil                                   \u001b[0m │ \u001b[36m    0\u001b[0m │ \u001b[36m        0\u001b[0m │ \u001b[36m                       1\u001b[0m │ \u001b[36m              23000\u001b[0m │  │\n",
       "│ │ \u001b[38;5;141milce                                 \u001b[0m │ \u001b[36m    0\u001b[0m │ \u001b[36m        0\u001b[0m │ \u001b[36m                       1\u001b[0m │ \u001b[36m              23000\u001b[0m │  │\n",
       "│ │ \u001b[38;5;141msebeke_unsuru                        \u001b[0m │ \u001b[36m    0\u001b[0m │ \u001b[36m        0\u001b[0m │ \u001b[36m                       1\u001b[0m │ \u001b[36m              23000\u001b[0m │  │\n",
       "│ │ \u001b[38;5;141msebeke_unsuru_kodu                   \u001b[0m │ \u001b[36m    0\u001b[0m │ \u001b[36m        0\u001b[0m │ \u001b[36m                       1\u001b[0m │ \u001b[36m              23000\u001b[0m │  │\n",
       "│ │ \u001b[38;5;141mkesinti_nedenine_ili                 \u001b[0m │ \u001b[36m    0\u001b[0m │ \u001b[36m        0\u001b[0m │ \u001b[36m                       1\u001b[0m │ \u001b[36m              23000\u001b[0m │  │\n",
       "│ │ \u001b[38;5;141mkaynaga_gore                         \u001b[0m │ \u001b[36m    0\u001b[0m │ \u001b[36m        0\u001b[0m │ \u001b[36m                       1\u001b[0m │ \u001b[36m              23000\u001b[0m │  │\n",
       "│ │ \u001b[38;5;141msureye_gore                          \u001b[0m │ \u001b[36m    0\u001b[0m │ \u001b[36m        0\u001b[0m │ \u001b[36m                       1\u001b[0m │ \u001b[36m              23000\u001b[0m │  │\n",
       "│ │ \u001b[38;5;141msebebe_gore                          \u001b[0m │ \u001b[36m    0\u001b[0m │ \u001b[36m        0\u001b[0m │ \u001b[36m                       1\u001b[0m │ \u001b[36m              23000\u001b[0m │  │\n",
       "│ │ \u001b[38;5;141mbildirime_gore                       \u001b[0m │ \u001b[36m    0\u001b[0m │ \u001b[36m        0\u001b[0m │ \u001b[36m                       1\u001b[0m │ \u001b[36m              23000\u001b[0m │  │\n",
       "│ │ \u001b[38;5;141mbaslama_tarihi_ve_za                 \u001b[0m │ \u001b[36m    0\u001b[0m │ \u001b[36m        0\u001b[0m │ \u001b[36m                       1\u001b[0m │ \u001b[36m              23000\u001b[0m │  │\n",
       "│ │ \u001b[38;5;141msona_erme_tarihi_ve_                 \u001b[0m │ \u001b[36m    0\u001b[0m │ \u001b[36m        0\u001b[0m │ \u001b[36m                       1\u001b[0m │ \u001b[36m              23000\u001b[0m │  │\n",
       "│ └───────────────────────────────────────┴───────┴───────────┴──────────────────────────┴─────────────────────┘  │\n",
       "╰────────────────────────────────────────────────────── End ──────────────────────────────────────────────────────╯\n"
      ]
     },
     "metadata": {},
     "output_type": "display_data"
    }
   ],
   "source": [
    "skim(df)"
   ]
  },
  {
   "cell_type": "markdown",
   "metadata": {},
   "source": [
    "## .<p style=\"background-color:#9d4f8c; font-family:newtimeroman; color:#FFF9ED; font-size:175%; text-align:center; border-radius:10px 10px;\">The Examination of Columns</p>"
   ]
  },
  {
   "cell_type": "markdown",
   "metadata": {},
   "source": [
    "### **<span style='color:coral'> kesinti_no </span>** "
   ]
  },
  {
   "cell_type": "markdown",
   "metadata": {},
   "source": [
    "KOD_NO(Outage ID): CRM - Müşteri/abonenin aramalarını karşılayan sorumlu tarafından alınan çağrıya istinaden TSKS sisteminde açılan kesinti kaydına atanan benzersiz(unique) numaradır."
   ]
  },
  {
   "cell_type": "code",
   "execution_count": 36,
   "metadata": {},
   "outputs": [
    {
     "data": {
      "text/plain": [
       "2225427    1\n",
       "2225088    1\n",
       "1822581    1\n",
       "1820844    1\n",
       "2306007    1\n",
       "          ..\n",
       "1979854    1\n",
       "2275178    1\n",
       "1817922    1\n",
       "2175320    1\n",
       "1817853    1\n",
       "Name: kesinti_no, Length: 23158, dtype: int64"
      ]
     },
     "execution_count": 36,
     "metadata": {},
     "output_type": "execute_result"
    }
   ],
   "source": [
    "df.kesinti_no.value_counts(dropna=False)"
   ]
  },
  {
   "cell_type": "code",
   "execution_count": 37,
   "metadata": {},
   "outputs": [
    {
     "data": {
      "text/plain": [
       "23158"
      ]
     },
     "execution_count": 37,
     "metadata": {},
     "output_type": "execute_result"
    }
   ],
   "source": [
    "df['kesinti_no'].nunique()"
   ]
  },
  {
   "cell_type": "markdown",
   "metadata": {},
   "source": [
    "> all unique values, ID for outage occurances"
   ]
  },
  {
   "cell_type": "markdown",
   "metadata": {},
   "source": [
    "### **<span style='color:coral'> il </span>** "
   ]
  },
  {
   "cell_type": "markdown",
   "metadata": {},
   "source": [
    "Kesinti kaydının açıldığı şehri belirtir."
   ]
  },
  {
   "cell_type": "code",
   "execution_count": 38,
   "metadata": {},
   "outputs": [
    {
     "data": {
      "text/plain": [
       "İZMİR     16082\n",
       "MANİSA     7076\n",
       "Name: il, dtype: Int64"
      ]
     },
     "execution_count": 38,
     "metadata": {},
     "output_type": "execute_result"
    }
   ],
   "source": [
    "df.il.value_counts(dropna=False)"
   ]
  },
  {
   "cell_type": "code",
   "execution_count": 39,
   "metadata": {},
   "outputs": [
    {
     "data": {
      "image/png": "[encoded data removed]",
      "text/plain": [
       "<Figure size 720x432 with 1 Axes>"
      ]
     },
     "metadata": {},
     "output_type": "display_data"
    }
   ],
   "source": [
    "ax = sns.countplot(data=df, x=\"il\")\n",
    "\n",
    "plt.xticks(rotation = 90)\n",
    "\n",
    "for container in ax.containers:\n",
    "    ax.bar_label(container);"
   ]
  },
  {
   "cell_type": "markdown",
   "metadata": {},
   "source": [
    "> **Izmir** has the highest number of outages, more than two times higher than **Manisa**."
   ]
  },
  {
   "cell_type": "markdown",
   "metadata": {},
   "source": [
    "### **<span style='color:coral'> ilce </span>** "
   ]
  },
  {
   "cell_type": "markdown",
   "metadata": {},
   "source": [
    "Kesinti kaydının açıldığı ilçeyi belirtir."
   ]
  },
  {
   "cell_type": "code",
   "execution_count": 40,
   "metadata": {},
   "outputs": [
    {
     "data": {
      "text/plain": [
       "ÇEŞME          1345\n",
       "ÖDEMİŞ          973\n",
       "KONAK           918\n",
       "YUNUSEMRE       915\n",
       "URLA            896\n",
       "BORNOVA         840\n",
       "SALİHLİ         815\n",
       "MENDERES        781\n",
       "AKHİSAR         773\n",
       "TORBALI         765\n",
       "TURGUTLU        694\n",
       "ŞEHZADELER      689\n",
       "KEMALPAŞA       673\n",
       "ALAŞEHİR        638\n",
       "BERGAMA         630\n",
       "BUCA            623\n",
       "KARABAĞLAR      613\n",
       "MENEMEN         599\n",
       "DİKİLİ          586\n",
       "TİRE            557\n",
       "SEFERİHİSAR     557\n",
       "KARABURUN       542\n",
       "KİRAZ           528\n",
       "BAYINDIR        509\n",
       "KARŞIYAKA       498\n",
       "SARUHANLI       484\n",
       "BAYRAKLI        446\n",
       "SOMA            440\n",
       "ALİAĞA          433\n",
       "ÇİĞLİ           430\n",
       "FOÇA            320\n",
       "GÖRDES          310\n",
       "KULA            270\n",
       "SELENDİ         239\n",
       "SARIGÖL         224\n",
       "GAZİEMİR        220\n",
       "KIRKAĞAÇ        186\n",
       "GÜZELBAHÇE      166\n",
       "KINIK           163\n",
       "DEMİRCİ         162\n",
       "SELÇUK          141\n",
       "NARLIDERE       122\n",
       "BEYDAĞ          117\n",
       "KÖPRÜBAŞI        96\n",
       "BALÇOVA          91\n",
       "AHMETLİ          78\n",
       "GÖLMARMARA       63\n",
       "Name: ilce, dtype: Int64"
      ]
     },
     "execution_count": 40,
     "metadata": {},
     "output_type": "execute_result"
    }
   ],
   "source": [
    "df.ilce.value_counts(dropna=False)"
   ]
  },
  {
   "cell_type": "code",
   "execution_count": 41,
   "metadata": {},
   "outputs": [
    {
     "data": {
      "text/plain": [
       "47"
      ]
     },
     "execution_count": 41,
     "metadata": {},
     "output_type": "execute_result"
    }
   ],
   "source": [
    "df.ilce.nunique()"
   ]
  },
  {
   "cell_type": "code",
   "execution_count": 42,
   "metadata": {},
   "outputs": [
    {
     "data": {
      "image/png": "[encoded data removed]",
      "text/plain": [
       "<Figure size 720x432 with 1 Axes>"
      ]
     },
     "metadata": {},
     "output_type": "display_data"
    }
   ],
   "source": [
    "large_to_small = df.groupby('ilce').size().sort_values().index[::-1]\n",
    "ax = sns.countplot(data=df, x=\"ilce\", order=large_to_small)\n",
    "\n",
    "plt.xticks(rotation = 90)\n",
    "\n",
    "for container in ax.containers:\n",
    "    ax.bar_label(container, rotation = 90);"
   ]
  },
  {
   "cell_type": "markdown",
   "metadata": {},
   "source": [
    "> **Cesme** has the highest number of outages"
   ]
  },
  {
   "cell_type": "markdown",
   "metadata": {},
   "source": [
    "### **<span style='color:coral'> sebeke_unsuru </span>** "
   ]
  },
  {
   "cell_type": "markdown",
   "metadata": {},
   "source": [
    "Kesinti kaydı açılırken kesintinin olduğu şebeke unsurunu belirtir."
   ]
  },
  {
   "cell_type": "code",
   "execution_count": 43,
   "metadata": {},
   "outputs": [
    {
     "data": {
      "text/plain": [
       "Abone Tesisi                 8056\n",
       "AG Fideri                    5759\n",
       "OG Fideri                    2540\n",
       "DM                           2019\n",
       "Dağıtım Transformatörü       1778\n",
       "KÖK                          1661\n",
       "Saha Dağıtım Kutusu (SDK)     867\n",
       "TM Fideri                     478\n",
       "Name: sebeke_unsuru, dtype: Int64"
      ]
     },
     "execution_count": 43,
     "metadata": {},
     "output_type": "execute_result"
    }
   ],
   "source": [
    "df.sebeke_unsuru.value_counts(dropna=False)"
   ]
  },
  {
   "cell_type": "code",
   "execution_count": 44,
   "metadata": {},
   "outputs": [
    {
     "data": {
      "image/png": "[encoded data removed]",
      "text/plain": [
       "<Figure size 720x432 with 1 Axes>"
      ]
     },
     "metadata": {},
     "output_type": "display_data"
    }
   ],
   "source": [
    "large_to_small = df.groupby('sebeke_unsuru').size().sort_values().index[::-1]\n",
    "ax = sns.countplot(data=df, x=\"sebeke_unsuru\", order=large_to_small)\n",
    "\n",
    "plt.xticks(rotation = 90)\n",
    "\n",
    "for container in ax.containers:\n",
    "    ax.bar_label(container, rotation = 90);"
   ]
  },
  {
   "cell_type": "markdown",
   "metadata": {},
   "source": [
    "### **<span style='color:coral'> sebeke_unsuru_kodu </span>** "
   ]
  },
  {
   "cell_type": "markdown",
   "metadata": {},
   "source": [
    "Kesinti kaydı açılırken kesintinin olduğu şebeke unsuru kodudur."
   ]
  },
  {
   "cell_type": "code",
   "execution_count": 45,
   "metadata": {},
   "outputs": [
    {
     "data": {
      "text/plain": [
       "ÇAMLIK DM 35-17-M00173_ZEYTİNDAĞ-1 M08_66328132                18\n",
       "ÜÇYOL KÖK 45-82-M00128_MENTEŞE M04_2329339                     17\n",
       "BEYDERE KÖK 45-71-M00128_ESKİ KARAAĞAÇLI M07_50217162          15\n",
       "MENDERES DM-2/TR-1 35-22-M00300_KÖYLER-1 M15_2095712           15\n",
       "TR-1/3 45-83-M00003_PAŞATIMARI TR-1 M05_2331761                14\n",
       "                                                               ..\n",
       "YAYAKENT TR-8 35-24-M00008_955233217_955233217                  1\n",
       "K-482 KOMPETAN OTOMOTİV ÖZEL TR 35-02-K00482Ö_ K02_2066005      1\n",
       "ARDIÇ MAHALLESİ TR-52 35-21-L00132_953366392_953366392          1\n",
       "KOVALIK SULAMA TR-2 35-16-M00257_47432517_56399650_56399650     1\n",
       "M-1106 35-01-M01106_35-01-M01106_2375816                        1\n",
       "Name: sebeke_unsuru_kodu, Length: 18666, dtype: Int64"
      ]
     },
     "execution_count": 45,
     "metadata": {},
     "output_type": "execute_result"
    }
   ],
   "source": [
    "df.sebeke_unsuru_kodu.value_counts(dropna=False)"
   ]
  },
  {
   "cell_type": "code",
   "execution_count": 46,
   "metadata": {},
   "outputs": [
    {
     "data": {
      "text/plain": [
       "18666"
      ]
     },
     "execution_count": 46,
     "metadata": {},
     "output_type": "execute_result"
    }
   ],
   "source": [
    "df.sebeke_unsuru_kodu.nunique()"
   ]
  },
  {
   "cell_type": "markdown",
   "metadata": {},
   "source": [
    "> this column serves as equipment ID of outage node?"
   ]
  },
  {
   "cell_type": "markdown",
   "metadata": {},
   "source": [
    "### **<span style='color:coral'> kesinti_nedenine_iliskin_aciklama </span>** "
   ]
  },
  {
   "cell_type": "markdown",
   "metadata": {},
   "source": [
    "Açılan kesinti kaydında liste içerisinden CRM sorumlusu tarafından seçilen kesinti nedenidir."
   ]
  },
  {
   "cell_type": "code",
   "execution_count": 47,
   "metadata": {},
   "outputs": [
    {
     "data": {
      "text/plain": [
       "AG Havai Branşman Arızası                 4347\n",
       "OG Fider Açması                           4204\n",
       "AG Pano Kol Sigorta Atığı                 3979\n",
       "AG Box / Sdk Abone Çıkış Sigorta Atığı    1439\n",
       "AG Branşman Yeraltı Kablo Arızası         1388\n",
       "                                          ... \n",
       "Müteahhit Çalışması                          3\n",
       "OG Travers Arızası                           2\n",
       "Şebeke Bakım Çalışması                       2\n",
       "OG Trafo Kademe Ayarı                        2\n",
       "Yangın Sonucu Şebeke Hasarı                  1\n",
       "Name: kesinti_nedenine_iliskin_aciklama, Length: 62, dtype: Int64"
      ]
     },
     "execution_count": 47,
     "metadata": {},
     "output_type": "execute_result"
    }
   ],
   "source": [
    "df.kesinti_nedenine_iliskin_aciklama.value_counts(dropna=False)"
   ]
  },
  {
   "cell_type": "code",
   "execution_count": 49,
   "metadata": {},
   "outputs": [
    {
     "data": {
      "text/plain": [
       "62"
      ]
     },
     "execution_count": 49,
     "metadata": {},
     "output_type": "execute_result"
    }
   ],
   "source": [
    "df.kesinti_nedenine_iliskin_aciklama.nunique()"
   ]
  },
  {
   "cell_type": "code",
   "execution_count": 50,
   "metadata": {},
   "outputs": [
    {
     "data": {
      "image/png": "[encoded data removed]",
      "text/plain": [
       "<Figure size 720x432 with 1 Axes>"
      ]
     },
     "metadata": {},
     "output_type": "display_data"
    }
   ],
   "source": [
    "large_to_small = df.groupby('kesinti_nedenine_iliskin_aciklama').size().sort_values().index[::-1]\n",
    "ax = sns.countplot(data=df, x=\"kesinti_nedenine_iliskin_aciklama\", order=large_to_small)\n",
    "\n",
    "plt.xticks(rotation = 90)\n",
    "\n",
    "for container in ax.containers:\n",
    "    ax.bar_label(container, rotation = 90);"
   ]
  },
  {
   "cell_type": "markdown",
   "metadata": {},
   "source": [
    "> details of outage cause. Top 3 values constitute 54% of all"
   ]
  },
  {
   "cell_type": "markdown",
   "metadata": {},
   "source": [
    "### **<span style='color:coral'> kaynaga_gore </span>** "
   ]
  },
  {
   "cell_type": "markdown",
   "metadata": {},
   "source": [
    "Kesintinin yaşandığı hattın tipini belirtir. Dağıtım-OG / Dağıtım-AG / İletim seçenekleri arasından seçilir."
   ]
  },
  {
   "cell_type": "code",
   "execution_count": 51,
   "metadata": {},
   "outputs": [
    {
     "data": {
      "text/plain": [
       "Dağıtım-AG    16461\n",
       "Dağıtım-OG     6604\n",
       "İletim           93\n",
       "Name: kaynaga_gore, dtype: Int64"
      ]
     },
     "execution_count": 51,
     "metadata": {},
     "output_type": "execute_result"
    }
   ],
   "source": [
    "df.kaynaga_gore.value_counts(dropna=False)"
   ]
  },
  {
   "cell_type": "code",
   "execution_count": 52,
   "metadata": {},
   "outputs": [
    {
     "data": {
      "image/png": "[encoded data removed]",
      "text/plain": [
       "<Figure size 720x432 with 1 Axes>"
      ]
     },
     "metadata": {},
     "output_type": "display_data"
    }
   ],
   "source": [
    "ax = sns.countplot(data=df, x=\"kaynaga_gore\")\n",
    "\n",
    "plt.xticks(rotation = 90)\n",
    "\n",
    "for container in ax.containers:\n",
    "    ax.bar_label(container);"
   ]
  },
  {
   "cell_type": "code",
   "execution_count": 74,
   "metadata": {},
   "outputs": [
    {
     "data": {
      "image/png": "[encoded data removed]",
      "text/plain": [
       "<Figure size 720x432 with 1 Axes>"
      ]
     },
     "metadata": {},
     "output_type": "display_data"
    }
   ],
   "source": [
    "# plotting kesinti_suresi by kaynaga_gore to see extreme values\n",
    "ax = sns.boxplot(data=df, \n",
    "            y=\"kesinti_suresi\",\n",
    "            x=\"kaynaga_gore\",\n",
    "            showmeans=True,\n",
    "            meanprops={\"marker\":\"o\",\n",
    "                       \"markerfacecolor\":\"white\", \n",
    "                       \"markeredgecolor\":\"black\",\n",
    "                       \"markersize\":\"10\"})\n",
    "\n",
    "plt.xticks(rotation = 90);"
   ]
  },
  {
   "cell_type": "markdown",
   "metadata": {},
   "source": [
    "### **<span style='color:coral'> sureye_gore </span>** "
   ]
  },
  {
   "cell_type": "markdown",
   "metadata": {},
   "source": [
    "Belirlenmiş kısıta istinaden, kesinti süresinin uzun/kısa olduğunu belirtir."
   ]
  },
  {
   "cell_type": "code",
   "execution_count": 53,
   "metadata": {},
   "outputs": [
    {
     "data": {
      "text/plain": [
       "Uzun    22703\n",
       "Kısa      455\n",
       "Name: sureye_gore, dtype: Int64"
      ]
     },
     "execution_count": 53,
     "metadata": {},
     "output_type": "execute_result"
    }
   ],
   "source": [
    "df.sureye_gore.value_counts(dropna=False)"
   ]
  },
  {
   "cell_type": "code",
   "execution_count": 54,
   "metadata": {},
   "outputs": [
    {
     "data": {
      "image/png": "[encoded data removed]",
      "text/plain": [
       "<Figure size 720x432 with 1 Axes>"
      ]
     },
     "metadata": {},
     "output_type": "display_data"
    }
   ],
   "source": [
    "ax = sns.countplot(data=df, x=\"sureye_gore\")\n",
    "\n",
    "plt.xticks(rotation = 90)\n",
    "\n",
    "for container in ax.containers:\n",
    "    ax.bar_label(container);"
   ]
  },
  {
   "cell_type": "markdown",
   "metadata": {},
   "source": [
    "> **Long duration** of outage is dominant"
   ]
  },
  {
   "cell_type": "markdown",
   "metadata": {},
   "source": [
    "### **<span style='color:coral'> sebebe_gore </span>** "
   ]
  },
  {
   "cell_type": "markdown",
   "metadata": {},
   "source": [
    "Dışsal / Güvenlik / Şebeke İşletmecisi seçeneklerinden seçilir."
   ]
  },
  {
   "cell_type": "code",
   "execution_count": 55,
   "metadata": {},
   "outputs": [
    {
     "data": {
      "text/plain": [
       "Şebeke işletmecisi    22708\n",
       "Dışsal                  425\n",
       "Güvenlik                 25\n",
       "Name: sebebe_gore, dtype: Int64"
      ]
     },
     "execution_count": 55,
     "metadata": {},
     "output_type": "execute_result"
    }
   ],
   "source": [
    "df.sebebe_gore.value_counts(dropna=False)"
   ]
  },
  {
   "cell_type": "code",
   "execution_count": 56,
   "metadata": {},
   "outputs": [
    {
     "data": {
      "image/png": "[encoded data removed]",
      "text/plain": [
       "<Figure size 720x432 with 1 Axes>"
      ]
     },
     "metadata": {},
     "output_type": "display_data"
    }
   ],
   "source": [
    "ax = sns.countplot(data=df, x=\"sebebe_gore\")\n",
    "\n",
    "plt.xticks(rotation = 90)\n",
    "\n",
    "for container in ax.containers:\n",
    "    ax.bar_label(container);"
   ]
  },
  {
   "cell_type": "markdown",
   "metadata": {},
   "source": [
    "### **<span style='color:coral'> bildirime_gore </span>** "
   ]
  },
  {
   "cell_type": "markdown",
   "metadata": {},
   "source": [
    "Kesinti kaydının oluşturulurken çağrı ile bildirilerek veya bildirilmeden kaydının açıldığını belirtir."
   ]
  },
  {
   "cell_type": "code",
   "execution_count": 57,
   "metadata": {},
   "outputs": [
    {
     "data": {
      "text/plain": [
       "Bildirimsiz    23158\n",
       "Name: bildirime_gore, dtype: Int64"
      ]
     },
     "execution_count": 57,
     "metadata": {},
     "output_type": "execute_result"
    }
   ],
   "source": [
    "df.bildirime_gore.value_counts(dropna=False)"
   ]
  },
  {
   "cell_type": "markdown",
   "metadata": {},
   "source": [
    "> good to drop this column since it has only one value"
   ]
  },
  {
   "cell_type": "markdown",
   "metadata": {},
   "source": [
    "### **<span style='color:coral'> baslama_tarihi_ve_zamani </span>** "
   ]
  },
  {
   "cell_type": "markdown",
   "metadata": {},
   "source": [
    "Kesinti kaydının Tedarik Sürekliliği Kayıt Sistemi (TSKS) sisteminde kaydının açıldığı ve kesintinin başladığını belirten tarih/saattir."
   ]
  },
  {
   "cell_type": "code",
   "execution_count": 58,
   "metadata": {},
   "outputs": [
    {
     "data": {
      "text/plain": [
       "15.01.2022 09:41:36    3\n",
       "21.01.2022 12:07:00    2\n",
       "13.01.2022 13:17:53    2\n",
       "20.05.2021 19:25:58    2\n",
       "02.06.2021 11:19:55    2\n",
       "                      ..\n",
       "03.05.2021 13:08:35    1\n",
       "12.09.2021 09:55:59    1\n",
       "20.09.2021 21:51:00    1\n",
       "07.05.2021 07:26:00    1\n",
       "24.05.2021 16:32:00    1\n",
       "Name: baslama_tarihi_ve_zamani, Length: 23100, dtype: Int64"
      ]
     },
     "execution_count": 58,
     "metadata": {},
     "output_type": "execute_result"
    }
   ],
   "source": [
    "df.baslama_tarihi_ve_zamani.value_counts(dropna=False)"
   ]
  },
  {
   "cell_type": "code",
   "execution_count": 59,
   "metadata": {},
   "outputs": [
    {
     "data": {
      "text/plain": [
       "string[python]"
      ]
     },
     "execution_count": 59,
     "metadata": {},
     "output_type": "execute_result"
    }
   ],
   "source": [
    "df.baslama_tarihi_ve_zamani.dtype"
   ]
  },
  {
   "cell_type": "markdown",
   "metadata": {},
   "source": [
    "> need conversion from str to datetime"
   ]
  },
  {
   "cell_type": "code",
   "execution_count": 60,
   "metadata": {},
   "outputs": [
    {
     "data": {
      "text/plain": [
       "0       2022-01-24 12:00:49\n",
       "1       2021-07-18 08:56:42\n",
       "2       2021-11-27 15:21:40\n",
       "3       2021-05-16 22:01:00\n",
       "4       2021-09-16 02:28:15\n",
       "                ...        \n",
       "23153   2021-06-28 20:04:58\n",
       "23154   2022-01-01 22:01:09\n",
       "23155   2022-06-01 11:25:27\n",
       "23156   2021-10-15 13:47:00\n",
       "23157   2021-05-24 16:32:00\n",
       "Name: baslama_tarihi_ve_zamani, Length: 23158, dtype: datetime64[ns]"
      ]
     },
     "execution_count": 60,
     "metadata": {},
     "output_type": "execute_result"
    }
   ],
   "source": [
    "# converting from string to datetime format\n",
    "df.baslama_tarihi_ve_zamani = pd.to_datetime(df.baslama_tarihi_ve_zamani)\n",
    "df.baslama_tarihi_ve_zamani"
   ]
  },
  {
   "cell_type": "code",
   "execution_count": 61,
   "metadata": {},
   "outputs": [
    {
     "data": {
      "text/plain": [
       "dtype('<M8[ns]')"
      ]
     },
     "execution_count": 61,
     "metadata": {},
     "output_type": "execute_result"
    }
   ],
   "source": [
    "df.baslama_tarihi_ve_zamani.dtype"
   ]
  },
  {
   "cell_type": "code",
   "execution_count": 63,
   "metadata": {},
   "outputs": [
    {
     "data": {
      "text/plain": [
       "2391    2021-01-05 00:33:39\n",
       "2807    2021-01-05 00:48:17\n",
       "6791    2021-01-05 01:03:31\n",
       "22293   2021-01-05 02:20:13\n",
       "7285    2021-01-05 02:40:37\n",
       "                ...        \n",
       "19487   2022-09-06 21:47:15\n",
       "485     2022-09-06 21:51:27\n",
       "22670   2022-09-06 22:43:35\n",
       "21279   2022-09-06 23:07:21\n",
       "979     2022-09-06 23:40:57\n",
       "Name: baslama_tarihi_ve_zamani, Length: 23158, dtype: datetime64[ns]"
      ]
     },
     "execution_count": 63,
     "metadata": {},
     "output_type": "execute_result"
    }
   ],
   "source": [
    "df.baslama_tarihi_ve_zamani.sort_values()"
   ]
  },
  {
   "cell_type": "markdown",
   "metadata": {},
   "source": [
    "> outages from Jan 2021 to Sep 2022"
   ]
  },
  {
   "cell_type": "markdown",
   "metadata": {},
   "source": [
    "### **<span style='color:coral'> sona_erme_tarihi_ve_zamani </span>** "
   ]
  },
  {
   "cell_type": "markdown",
   "metadata": {},
   "source": [
    "Kesinti kaydı adına açılan iş emrinin INFOR EAM (Kurumsal Varlık Yönetim Sistemi)'de atanan saha ekibi tarafından kapatıldığı tarih/saati belirtir."
   ]
  },
  {
   "cell_type": "code",
   "execution_count": 64,
   "metadata": {},
   "outputs": [
    {
     "data": {
      "text/plain": [
       "13.05.2021 18:28:51    2\n",
       "15.10.2021 22:20:00    2\n",
       "04.01.2022 14:57:18    2\n",
       "14.01.2022 20:19:00    2\n",
       "24.01.2022 18:10:43    2\n",
       "                      ..\n",
       "17.02.2022 09:55:33    1\n",
       "17.10.2021 20:12:50    1\n",
       "28.06.2021 20:21:22    1\n",
       "01.01.2022 22:58:53    1\n",
       "24.05.2021 17:05:49    1\n",
       "Name: sona_erme_tarihi_ve_zamani, Length: 23133, dtype: Int64"
      ]
     },
     "execution_count": 64,
     "metadata": {},
     "output_type": "execute_result"
    }
   ],
   "source": [
    "df.sona_erme_tarihi_ve_zamani.value_counts(dropna=False)"
   ]
  },
  {
   "cell_type": "code",
   "execution_count": 65,
   "metadata": {},
   "outputs": [
    {
     "data": {
      "text/plain": [
       "string[python]"
      ]
     },
     "execution_count": 65,
     "metadata": {},
     "output_type": "execute_result"
    }
   ],
   "source": [
    "df.sona_erme_tarihi_ve_zamani.dtype"
   ]
  },
  {
   "cell_type": "markdown",
   "metadata": {},
   "source": [
    "> need conversion from str to datetime"
   ]
  },
  {
   "cell_type": "code",
   "execution_count": 66,
   "metadata": {},
   "outputs": [
    {
     "data": {
      "text/plain": [
       "0       2022-01-24 15:29:34\n",
       "1       2021-07-18 20:24:30\n",
       "2       2021-11-27 17:42:52\n",
       "3       2021-05-16 22:24:16\n",
       "4       2021-09-16 02:40:43\n",
       "                ...        \n",
       "23153   2021-06-28 20:21:22\n",
       "23154   2022-01-01 22:58:53\n",
       "23155   2022-06-01 12:46:25\n",
       "23156   2021-10-15 15:52:52\n",
       "23157   2021-05-24 17:05:49\n",
       "Name: sona_erme_tarihi_ve_zamani, Length: 23158, dtype: datetime64[ns]"
      ]
     },
     "execution_count": 66,
     "metadata": {},
     "output_type": "execute_result"
    }
   ],
   "source": [
    "# converting from string to datetime format\n",
    "df.sona_erme_tarihi_ve_zamani = pd.to_datetime(df.sona_erme_tarihi_ve_zamani)\n",
    "df.sona_erme_tarihi_ve_zamani"
   ]
  },
  {
   "cell_type": "code",
   "execution_count": 67,
   "metadata": {},
   "outputs": [
    {
     "data": {
      "text/plain": [
       "dtype('<M8[ns]')"
      ]
     },
     "execution_count": 67,
     "metadata": {},
     "output_type": "execute_result"
    }
   ],
   "source": [
    "df.sona_erme_tarihi_ve_zamani.dtype"
   ]
  },
  {
   "cell_type": "code",
   "execution_count": 69,
   "metadata": {},
   "outputs": [
    {
     "data": {
      "text/plain": [
       "2391    2021-01-05 00:48:11\n",
       "2807    2021-01-05 01:08:42\n",
       "6791    2021-01-05 01:47:40\n",
       "22293   2021-01-05 03:20:22\n",
       "7285    2021-01-05 05:29:48\n",
       "                ...        \n",
       "17320   2022-10-04 00:16:55\n",
       "2545    2022-10-04 01:03:00\n",
       "22971   2022-10-06 00:12:05\n",
       "979     2022-10-06 01:26:40\n",
       "22670   2022-10-06 03:06:31\n",
       "Name: sona_erme_tarihi_ve_zamani, Length: 23158, dtype: datetime64[ns]"
      ]
     },
     "execution_count": 69,
     "metadata": {},
     "output_type": "execute_result"
    }
   ],
   "source": [
    "df.sona_erme_tarihi_ve_zamani.sort_values()"
   ]
  },
  {
   "cell_type": "markdown",
   "metadata": {},
   "source": [
    "> outages from Jan 2021 to Oct 2022"
   ]
  },
  {
   "cell_type": "markdown",
   "metadata": {},
   "source": [
    "### **<span style='color:coral'> kesinti_suresi </span>** "
   ]
  },
  {
   "cell_type": "markdown",
   "metadata": {},
   "source": [
    "Matematiksel olarak \"SONA_ERME_TARİHİ_VE_ZAMANI\" - \"BAŞLAMA_TARİHİ_VE_ZAMANI\"'dır. Kesintinin açıldıktan sonra ilgili kesinti adına INFOR EAM'de açılan iş emrinin kapatıldığı an arasında geçen süreyi `saat` cinsinden belirten değerdir."
   ]
  },
  {
   "cell_type": "markdown",
   "metadata": {},
   "source": [
    "Duration of outage (hours)"
   ]
  },
  {
   "cell_type": "code",
   "execution_count": 70,
   "metadata": {},
   "outputs": [
    {
     "data": {
      "text/plain": [
       "0.008    48\n",
       "0.011    42\n",
       "0.006    29\n",
       "0.014    25\n",
       "0.017    17\n",
       "         ..\n",
       "4.427     1\n",
       "0.163     1\n",
       "2.296     1\n",
       "8.156     1\n",
       "4.082     1\n",
       "Name: kesinti_suresi, Length: 13220, dtype: int64"
      ]
     },
     "execution_count": 70,
     "metadata": {},
     "output_type": "execute_result"
    }
   ],
   "source": [
    "df.kesinti_suresi.value_counts(dropna=False)"
   ]
  },
  {
   "cell_type": "code",
   "execution_count": 71,
   "metadata": {},
   "outputs": [
    {
     "data": {
      "text/plain": [
       "count   23158.000\n",
       "mean        2.348\n",
       "std         2.615\n",
       "min         0.002\n",
       "25%         0.957\n",
       "50%         1.720\n",
       "75%         3.017\n",
       "max       170.722\n",
       "Name: kesinti_suresi, dtype: float64"
      ]
     },
     "execution_count": 71,
     "metadata": {},
     "output_type": "execute_result"
    }
   ],
   "source": [
    "#Checking the statistical values\n",
    "df.kesinti_suresi.describe()"
   ]
  },
  {
   "cell_type": "code",
   "execution_count": 72,
   "metadata": {},
   "outputs": [
    {
     "data": {
      "image/png": "[encoded data removed]",
      "text/plain": [
       "<Figure size 720x432 with 1 Axes>"
      ]
     },
     "metadata": {},
     "output_type": "display_data"
    }
   ],
   "source": [
    "# Checking the boxplot to see extreme values\n",
    "sns.boxplot(data=df, \n",
    "            x=\"kesinti_suresi\",\n",
    "            showmeans=True,\n",
    "            meanprops={\"marker\":\"o\",\n",
    "                       \"markerfacecolor\":\"white\", \n",
    "                       \"markeredgecolor\":\"black\",\n",
    "                       \"markersize\":\"10\"});"
   ]
  },
  {
   "cell_type": "markdown",
   "metadata": {},
   "source": [
    "> so many extreme values"
   ]
  },
  {
   "cell_type": "code",
   "execution_count": 73,
   "metadata": {},
   "outputs": [
    {
     "data": {
      "image/png": "[encoded data removed]",
      "text/plain": [
       "<Figure size 720x432 with 1 Axes>"
      ]
     },
     "metadata": {},
     "output_type": "display_data"
    }
   ],
   "source": [
    "# Checking the histplot/kdeplot to see distribution of feature\n",
    "sns.histplot(data=df, x=\"kesinti_suresi\", bins=20, kde=True);"
   ]
  },
  {
   "cell_type": "markdown",
   "metadata": {},
   "source": [
    ">Positively-skewed distribution, right-tail."
   ]
  },
  {
   "cell_type": "markdown",
   "metadata": {},
   "source": [
    "### **<span style='color:coral'> kentsel_og </span>** "
   ]
  },
  {
   "cell_type": "markdown",
   "metadata": {},
   "source": [
    "Tüm illerin merkez mahalleleri ile 2020 yılı TÜİK tarafından açıklanan nüfus verilerine göre `nüfusu 50 000 (elli bin) ve üzerinde` olan ilçelerin merkez mahallelerinin `orta gerilim kesinti hat sayısı`."
   ]
  },
  {
   "cell_type": "code",
   "execution_count": 75,
   "metadata": {},
   "outputs": [
    {
     "data": {
      "text/plain": [
       "0      18588\n",
       "1        990\n",
       "2        203\n",
       "5        156\n",
       "4        155\n",
       "       ...  \n",
       "99         1\n",
       "337        1\n",
       "547        1\n",
       "269        1\n",
       "97         1\n",
       "Name: kentsel_og, Length: 250, dtype: int64"
      ]
     },
     "execution_count": 75,
     "metadata": {},
     "output_type": "execute_result"
    }
   ],
   "source": [
    "df.kentsel_og.value_counts(dropna=False)"
   ]
  },
  {
   "cell_type": "markdown",
   "metadata": {},
   "source": [
    "> 18588 count for '0' "
   ]
  },
  {
   "cell_type": "code",
   "execution_count": 76,
   "metadata": {},
   "outputs": [
    {
     "data": {
      "text/plain": [
       "250"
      ]
     },
     "execution_count": 76,
     "metadata": {},
     "output_type": "execute_result"
    }
   ],
   "source": [
    "df.kentsel_og.nunique()"
   ]
  },
  {
   "cell_type": "markdown",
   "metadata": {},
   "source": [
    "> high number of unique values"
   ]
  },
  {
   "cell_type": "markdown",
   "metadata": {},
   "source": [
    "### **<span style='color:coral'> kentsel_ag </span>** "
   ]
  },
  {
   "cell_type": "markdown",
   "metadata": {},
   "source": [
    "Tüm illerin merkez mahalleleri ile 2020 yılı TÜİK tarafından açıklanan nüfus verilerine göre `nüfusu 50 000 (elli bin) ve üzerinde` olan ilçelerin merkez mahallelerinin `alçak gerilim kesinti hat sayısı`."
   ]
  },
  {
   "cell_type": "code",
   "execution_count": 77,
   "metadata": {},
   "outputs": [
    {
     "data": {
      "text/plain": [
       "0       6642\n",
       "1       3351\n",
       "2        879\n",
       "3        543\n",
       "4        384\n",
       "        ... \n",
       "2819       1\n",
       "4087       1\n",
       "5168       1\n",
       "7760       1\n",
       "5094       1\n",
       "Name: kentsel_ag, Length: 1940, dtype: int64"
      ]
     },
     "execution_count": 77,
     "metadata": {},
     "output_type": "execute_result"
    }
   ],
   "source": [
    "df.kentsel_ag.value_counts(dropna=False)"
   ]
  },
  {
   "cell_type": "code",
   "execution_count": 78,
   "metadata": {},
   "outputs": [
    {
     "data": {
      "text/plain": [
       "1940"
      ]
     },
     "execution_count": 78,
     "metadata": {},
     "output_type": "execute_result"
    }
   ],
   "source": [
    "df.kentsel_ag.nunique()"
   ]
  },
  {
   "cell_type": "markdown",
   "metadata": {},
   "source": [
    "> high number of unique values"
   ]
  },
  {
   "cell_type": "markdown",
   "metadata": {},
   "source": [
    "### **<span style='color:coral'> kentalti_og </span>** "
   ]
  },
  {
   "cell_type": "markdown",
   "metadata": {},
   "source": [
    "Kentsel olmayan ilçelerin merkez mahalleleri ile 2020 yılı TÜİK tarafından açıklanan nüfus verilerine göre `nüfusu 2 000 (iki bin) ve üzerinde` olan mahallelerinin `orta gerilim kesinti hat sayısı`."
   ]
  },
  {
   "cell_type": "code",
   "execution_count": 79,
   "metadata": {},
   "outputs": [
    {
     "data": {
      "text/plain": [
       "0      22010\n",
       "1        224\n",
       "2        119\n",
       "3         75\n",
       "4         74\n",
       "       ...  \n",
       "54         1\n",
       "605        1\n",
       "358        1\n",
       "245        1\n",
       "125        1\n",
       "Name: kentalti_og, Length: 103, dtype: int64"
      ]
     },
     "execution_count": 79,
     "metadata": {},
     "output_type": "execute_result"
    }
   ],
   "source": [
    "df.kentalti_og.value_counts(dropna=False)"
   ]
  },
  {
   "cell_type": "code",
   "execution_count": 80,
   "metadata": {},
   "outputs": [
    {
     "data": {
      "text/plain": [
       "103"
      ]
     },
     "execution_count": 80,
     "metadata": {},
     "output_type": "execute_result"
    }
   ],
   "source": [
    "df.kentalti_og.nunique()"
   ]
  },
  {
   "cell_type": "markdown",
   "metadata": {},
   "source": [
    "> high number of unique values"
   ]
  },
  {
   "cell_type": "markdown",
   "metadata": {},
   "source": [
    "### **<span style='color:coral'> kentalti_ag </span>** "
   ]
  },
  {
   "cell_type": "markdown",
   "metadata": {},
   "source": [
    "Kentsel olmayan ilçelerin merkez mahalleleri ile 2020 yılı TÜİK tarafından açıklanan nüfus verilerine göre `nüfusu 2 000 (iki bin) ve üzerinde` olan mahallelerinin `alçak gerilim kesinti hat sayısı`."
   ]
  },
  {
   "cell_type": "code",
   "execution_count": 81,
   "metadata": {},
   "outputs": [
    {
     "data": {
      "text/plain": [
       "0       19230\n",
       "1        1051\n",
       "2         262\n",
       "3          98\n",
       "5          73\n",
       "        ...  \n",
       "780         1\n",
       "4755        1\n",
       "2032        1\n",
       "210         1\n",
       "803         1\n",
       "Name: kentalti_ag, Length: 607, dtype: int64"
      ]
     },
     "execution_count": 81,
     "metadata": {},
     "output_type": "execute_result"
    }
   ],
   "source": [
    "df.kentalti_ag.value_counts(dropna=False)"
   ]
  },
  {
   "cell_type": "code",
   "execution_count": 82,
   "metadata": {},
   "outputs": [
    {
     "data": {
      "text/plain": [
       "607"
      ]
     },
     "execution_count": 82,
     "metadata": {},
     "output_type": "execute_result"
    }
   ],
   "source": [
    "df.kentalti_ag.nunique()"
   ]
  },
  {
   "cell_type": "markdown",
   "metadata": {},
   "source": [
    "> high number of unique values"
   ]
  },
  {
   "cell_type": "markdown",
   "metadata": {},
   "source": [
    "### **<span style='color:coral'> kirsal_og </span>** "
   ]
  },
  {
   "cell_type": "markdown",
   "metadata": {},
   "source": [
    "Kentsel olmayan ilçelerin merkez mahalleleri ile 2020 yılı TÜİK tarafından açıklanan nüfus verilerine göre n`üfusu 2 000 (iki bin)in altında` olan mahallelerinin `orta gerilim hat sayısı`."
   ]
  },
  {
   "cell_type": "code",
   "execution_count": 83,
   "metadata": {},
   "outputs": [
    {
     "data": {
      "text/plain": [
       "0      21470\n",
       "1        353\n",
       "2        139\n",
       "3        106\n",
       "5         73\n",
       "       ...  \n",
       "88         1\n",
       "90         1\n",
       "78         1\n",
       "203        1\n",
       "258        1\n",
       "Name: kirsal_og, Length: 152, dtype: int64"
      ]
     },
     "execution_count": 83,
     "metadata": {},
     "output_type": "execute_result"
    }
   ],
   "source": [
    "df.kirsal_og.value_counts(dropna=False)"
   ]
  },
  {
   "cell_type": "code",
   "execution_count": 85,
   "metadata": {},
   "outputs": [
    {
     "data": {
      "text/plain": [
       "152"
      ]
     },
     "execution_count": 85,
     "metadata": {},
     "output_type": "execute_result"
    }
   ],
   "source": [
    "df.kirsal_og.nunique()"
   ]
  },
  {
   "cell_type": "markdown",
   "metadata": {},
   "source": [
    "> high number of unique values"
   ]
  },
  {
   "cell_type": "markdown",
   "metadata": {},
   "source": [
    "### **<span style='color:coral'> kirsal_ag </span>** "
   ]
  },
  {
   "cell_type": "markdown",
   "metadata": {},
   "source": [
    "Kentsel olmayan ilçelerin merkez mahallleri ile 2020 yılı TÜİK tarafından açıklanan nüfus verilerine göre `nüfusu 2 000 (iki bin)in altında` olan mahallelerinin `alçak gerilim hat sayısı`."
   ]
  },
  {
   "cell_type": "code",
   "execution_count": 86,
   "metadata": {},
   "outputs": [
    {
     "data": {
      "text/plain": [
       "0       19382\n",
       "1         664\n",
       "2         140\n",
       "4          66\n",
       "3          65\n",
       "        ...  \n",
       "959         1\n",
       "148         1\n",
       "2136        1\n",
       "476         1\n",
       "482         1\n",
       "Name: kirsal_ag, Length: 710, dtype: int64"
      ]
     },
     "execution_count": 86,
     "metadata": {},
     "output_type": "execute_result"
    }
   ],
   "source": [
    "df.kirsal_ag.value_counts(dropna=False)"
   ]
  },
  {
   "cell_type": "code",
   "execution_count": 87,
   "metadata": {},
   "outputs": [
    {
     "data": {
      "text/plain": [
       "710"
      ]
     },
     "execution_count": 87,
     "metadata": {},
     "output_type": "execute_result"
    }
   ],
   "source": [
    "df.kirsal_ag.nunique()"
   ]
  },
  {
   "cell_type": "markdown",
   "metadata": {},
   "source": [
    "> high number of unique values"
   ]
  },
  {
   "cell_type": "markdown",
   "metadata": {},
   "source": [
    "### **<span style='color:coral'> toplam_kentsel_og </span>** "
   ]
  },
  {
   "cell_type": "markdown",
   "metadata": {},
   "source": [
    "Birimi `saat`tir.Tüm illerin merkez mahalleleri ile 2020 yılı TÜİK tarafından açıklanan nüfus verilerine göre `nüfusu 50 000 (elli bin) ve üzerinde` olan ilçelerin merkez mahallelerinin `orta gerilim` kesinti hatlarındaki `toplam kesinti süresi`."
   ]
  },
  {
   "cell_type": "code",
   "execution_count": 88,
   "metadata": {},
   "outputs": [
    {
     "data": {
      "text/plain": [
       "0.000     18588\n",
       "0.033         6\n",
       "0.067         4\n",
       "0.089         3\n",
       "1.094         3\n",
       "          ...  \n",
       "2.962         1\n",
       "92.346        1\n",
       "8.458         1\n",
       "9.133         1\n",
       "12.087        1\n",
       "Name: toplam_kentsel_og, Length: 4370, dtype: int64"
      ]
     },
     "execution_count": 88,
     "metadata": {},
     "output_type": "execute_result"
    }
   ],
   "source": [
    "df.toplam_kentsel_og.value_counts(dropna=False)"
   ]
  },
  {
   "cell_type": "code",
   "execution_count": 89,
   "metadata": {},
   "outputs": [
    {
     "data": {
      "text/plain": [
       "4370"
      ]
     },
     "execution_count": 89,
     "metadata": {},
     "output_type": "execute_result"
    }
   ],
   "source": [
    "df.toplam_kentsel_og.nunique()"
   ]
  },
  {
   "cell_type": "markdown",
   "metadata": {},
   "source": [
    "> high number of unique values"
   ]
  },
  {
   "cell_type": "markdown",
   "metadata": {},
   "source": [
    "### **<span style='color:coral'> toplam_kentsel_ag </span>** "
   ]
  },
  {
   "cell_type": "markdown",
   "metadata": {},
   "source": [
    "Birimi `saat`tir.Tüm illerin merkez mahalleleri ile 2020 yılı TÜİK tarafından açıklanan nüfus verilerine göre `nüfusu 50 000 (elli bin) ve üzerinde` olan ilçelerin merkez mahallelerinin `alçak gerilim` kesinti hatlarındaki `toplam kesinti süresi`."
   ]
  },
  {
   "cell_type": "code",
   "execution_count": 90,
   "metadata": {},
   "outputs": [
    {
     "data": {
      "text/plain": [
       "0.000       6642\n",
       "0.017          7\n",
       "0.178          6\n",
       "0.025          5\n",
       "1.432          4\n",
       "            ... \n",
       "1415.082       1\n",
       "92.639         1\n",
       "310.866        1\n",
       "172.154        1\n",
       "37.760         1\n",
       "Name: toplam_kentsel_ag, Length: 15743, dtype: int64"
      ]
     },
     "execution_count": 90,
     "metadata": {},
     "output_type": "execute_result"
    }
   ],
   "source": [
    "df.toplam_kentsel_ag.value_counts(dropna=False)"
   ]
  },
  {
   "cell_type": "code",
   "execution_count": 91,
   "metadata": {},
   "outputs": [
    {
     "data": {
      "text/plain": [
       "15743"
      ]
     },
     "execution_count": 91,
     "metadata": {},
     "output_type": "execute_result"
    }
   ],
   "source": [
    "df.toplam_kentsel_ag.nunique()"
   ]
  },
  {
   "cell_type": "markdown",
   "metadata": {},
   "source": [
    "> high number of unique values"
   ]
  },
  {
   "cell_type": "markdown",
   "metadata": {},
   "source": [
    "### **<span style='color:coral'> toplam_kentalti_og </span>** "
   ]
  },
  {
   "cell_type": "markdown",
   "metadata": {},
   "source": [
    "Birimi `saat`tir.Kentsel olmayan ilçelerin merkez mahallleri ile 2020 yılı TÜİK tarafından açıklanan nüfus verilerine göre `nüfusu 2 000 (iki bin) ve üzerinde` olan mahallelerinin `orta gerilim` kesinti hatlarındaki `toplam kesinti süresi`."
   ]
  },
  {
   "cell_type": "code",
   "execution_count": 92,
   "metadata": {},
   "outputs": [
    {
     "data": {
      "text/plain": [
       "0.000     22010\n",
       "0.025         5\n",
       "0.011         5\n",
       "0.042         4\n",
       "0.125         4\n",
       "          ...  \n",
       "8.587         1\n",
       "0.707         1\n",
       "10.135        1\n",
       "0.763         1\n",
       "0.314         1\n",
       "Name: toplam_kentalti_og, Length: 1092, dtype: int64"
      ]
     },
     "execution_count": 92,
     "metadata": {},
     "output_type": "execute_result"
    }
   ],
   "source": [
    "df.toplam_kentalti_og.value_counts(dropna=False)"
   ]
  },
  {
   "cell_type": "code",
   "execution_count": 93,
   "metadata": {},
   "outputs": [
    {
     "data": {
      "text/plain": [
       "1092"
      ]
     },
     "execution_count": 93,
     "metadata": {},
     "output_type": "execute_result"
    }
   ],
   "source": [
    "df.toplam_kentalti_og.nunique()"
   ]
  },
  {
   "cell_type": "markdown",
   "metadata": {},
   "source": [
    "> high number of unique values"
   ]
  },
  {
   "cell_type": "markdown",
   "metadata": {},
   "source": [
    "### **<span style='color:coral'> toplam_kentalti_ag </span>** "
   ]
  },
  {
   "cell_type": "markdown",
   "metadata": {},
   "source": [
    "Birimi `saat`tir.Kentsel olmayan ilçelerin merkez mahallleri ile 2020 yılı TÜİK tarafından açıklanan nüfus verilerine göre `nüfusu 2 000 (iki bin) ve üzerinde` olan mahallelerinin `alçak gerilim` kesinti hatlarındaki `toplam kesinti süresi`."
   ]
  },
  {
   "cell_type": "code",
   "execution_count": 94,
   "metadata": {},
   "outputs": [
    {
     "data": {
      "text/plain": [
       "0.000      19230\n",
       "1.304          3\n",
       "0.278          3\n",
       "1.117          3\n",
       "2.234          3\n",
       "           ...  \n",
       "387.848        1\n",
       "115.000        1\n",
       "59.156         1\n",
       "71.115         1\n",
       "91.035         1\n",
       "Name: toplam_kentalti_ag, Length: 3854, dtype: int64"
      ]
     },
     "execution_count": 94,
     "metadata": {},
     "output_type": "execute_result"
    }
   ],
   "source": [
    "df.toplam_kentalti_ag.value_counts(dropna=False)"
   ]
  },
  {
   "cell_type": "code",
   "execution_count": 95,
   "metadata": {},
   "outputs": [
    {
     "data": {
      "text/plain": [
       "3854"
      ]
     },
     "execution_count": 95,
     "metadata": {},
     "output_type": "execute_result"
    }
   ],
   "source": [
    "df.toplam_kentalti_ag.nunique()"
   ]
  },
  {
   "cell_type": "markdown",
   "metadata": {},
   "source": [
    "> high number of unique values"
   ]
  },
  {
   "cell_type": "markdown",
   "metadata": {},
   "source": [
    "### **<span style='color:coral'> toplam_kirsal_og </span>** "
   ]
  },
  {
   "cell_type": "markdown",
   "metadata": {},
   "source": [
    "Birimi `saat`tir.Kentsel olmayan ilçelerin merkez mahallleri ile 2020 yılı TÜİK tarafından açıklanan nüfus verilerine göre `nüfusu 2 000 (iki bin)in altında` olan mahallelerinin `orta gerilim` kesinti hatlarındaki `toplam kesinti süresi`."
   ]
  },
  {
   "cell_type": "code",
   "execution_count": 96,
   "metadata": {},
   "outputs": [
    {
     "data": {
      "text/plain": [
       "0.000      21470\n",
       "0.033          6\n",
       "0.300          5\n",
       "0.067          5\n",
       "0.050          5\n",
       "           ...  \n",
       "0.219          1\n",
       "160.942        1\n",
       "2.134          1\n",
       "10.015         1\n",
       "1.127          1\n",
       "Name: toplam_kirsal_og, Length: 1603, dtype: int64"
      ]
     },
     "execution_count": 96,
     "metadata": {},
     "output_type": "execute_result"
    }
   ],
   "source": [
    "df.toplam_kirsal_og.value_counts(dropna=False)"
   ]
  },
  {
   "cell_type": "code",
   "execution_count": 97,
   "metadata": {},
   "outputs": [
    {
     "data": {
      "text/plain": [
       "1603"
      ]
     },
     "execution_count": 97,
     "metadata": {},
     "output_type": "execute_result"
    }
   ],
   "source": [
    "df.toplam_kirsal_og.nunique()"
   ]
  },
  {
   "cell_type": "markdown",
   "metadata": {},
   "source": [
    "> high number of unique values"
   ]
  },
  {
   "cell_type": "markdown",
   "metadata": {},
   "source": [
    "### **<span style='color:coral'> toplam_kirsal_ag </span>** "
   ]
  },
  {
   "cell_type": "markdown",
   "metadata": {},
   "source": [
    "Birimi `saat`tir.Kentsel olmayan ilçelerin merkez mahallleri ile 2020 yılı TÜİK tarafından açıklanan nüfus verilerine göre `nüfusu 2 000 (iki bin)in altında` olan mahallelerinin alçak gerilim kesinti hatlarındaki `toplam kesinti süresi`."
   ]
  },
  {
   "cell_type": "code",
   "execution_count": 98,
   "metadata": {},
   "outputs": [
    {
     "data": {
      "text/plain": [
       "0.000      19382\n",
       "1.842          3\n",
       "2.338          2\n",
       "2.356          2\n",
       "1.909          2\n",
       "           ...  \n",
       "1.062          1\n",
       "42.422         1\n",
       "217.449        1\n",
       "485.893        1\n",
       "12.234         1\n",
       "Name: toplam_kirsal_ag, Length: 3731, dtype: int64"
      ]
     },
     "execution_count": 98,
     "metadata": {},
     "output_type": "execute_result"
    }
   ],
   "source": [
    "df.toplam_kirsal_ag.value_counts(dropna=False)"
   ]
  },
  {
   "cell_type": "code",
   "execution_count": 99,
   "metadata": {},
   "outputs": [
    {
     "data": {
      "text/plain": [
       "3731"
      ]
     },
     "execution_count": 99,
     "metadata": {},
     "output_type": "execute_result"
    }
   ],
   "source": [
    "df.toplam_kirsal_ag.nunique()"
   ]
  },
  {
   "cell_type": "markdown",
   "metadata": {},
   "source": [
    "> high number of unique values"
   ]
  },
  {
   "cell_type": "markdown",
   "metadata": {},
   "source": [
    "### **<span style='color:coral'> cagri_count </span>** "
   ]
  },
  {
   "cell_type": "code",
   "execution_count": 100,
   "metadata": {},
   "outputs": [
    {
     "data": {
      "text/plain": [
       "0.000      14363\n",
       "1.000       3645\n",
       "2.000       1251\n",
       "3.000        656\n",
       "4.000        445\n",
       "           ...  \n",
       "431.000        1\n",
       "123.000        1\n",
       "129.000        1\n",
       "110.000        1\n",
       "590.000        1\n",
       "Name: cagri_count, Length: 201, dtype: int64"
      ]
     },
     "execution_count": 100,
     "metadata": {},
     "output_type": "execute_result"
    }
   ],
   "source": [
    "df.cagri_count.value_counts(dropna=False)"
   ]
  },
  {
   "cell_type": "code",
   "execution_count": 101,
   "metadata": {},
   "outputs": [
    {
     "data": {
      "text/plain": [
       "201"
      ]
     },
     "execution_count": 101,
     "metadata": {},
     "output_type": "execute_result"
    }
   ],
   "source": [
    "df.cagri_count.nunique()"
   ]
  },
  {
   "cell_type": "code",
   "execution_count": 102,
   "metadata": {},
   "outputs": [
    {
     "data": {
      "text/plain": [
       "count   23158.000\n",
       "mean        4.071\n",
       "std        28.210\n",
       "min         0.000\n",
       "25%         0.000\n",
       "50%         0.000\n",
       "75%         1.000\n",
       "max      1217.000\n",
       "Name: cagri_count, dtype: float64"
      ]
     },
     "execution_count": 102,
     "metadata": {},
     "output_type": "execute_result"
    }
   ],
   "source": [
    "df.cagri_count.describe()"
   ]
  },
  {
   "cell_type": "code",
   "execution_count": 103,
   "metadata": {},
   "outputs": [
    {
     "data": {
      "image/png": "[encoded data removed]",
      "text/plain": [
       "<Figure size 720x432 with 1 Axes>"
      ]
     },
     "metadata": {},
     "output_type": "display_data"
    }
   ],
   "source": [
    "large_to_small = df.groupby('cagri_count').size().sort_values().index[::-1]\n",
    "ax = sns.countplot(data=df, x=\"cagri_count\", order=large_to_small)\n",
    "\n",
    "plt.xticks(rotation = 90)\n",
    "\n",
    "for container in ax.containers:\n",
    "    ax.bar_label(container, rotation = 90);"
   ]
  },
  {
   "cell_type": "code",
   "execution_count": 104,
   "metadata": {},
   "outputs": [
    {
     "data": {
      "image/png": "[encoded data removed]",
      "text/plain": [
       "<Figure size 720x432 with 1 Axes>"
      ]
     },
     "metadata": {},
     "output_type": "display_data"
    }
   ],
   "source": [
    "# Checking the boxplot to see extreme values\n",
    "sns.boxplot(data=df, \n",
    "            x=\"cagri_count\",\n",
    "            showmeans=True,\n",
    "            meanprops={\"marker\":\"o\",\n",
    "                       \"markerfacecolor\":\"white\", \n",
    "                       \"markeredgecolor\":\"black\",\n",
    "                       \"markersize\":\"10\"});"
   ]
  },
  {
   "cell_type": "code",
   "execution_count": 105,
   "metadata": {},
   "outputs": [
    {
     "data": {
      "image/png": "[encoded data removed]",
      "text/plain": [
       "<Figure size 720x432 with 1 Axes>"
      ]
     },
     "metadata": {},
     "output_type": "display_data"
    }
   ],
   "source": [
    "# Checking the histplot/kdeplot to see distribution of feature\n",
    "sns.histplot(data=df, x=\"cagri_count\", bins=20, kde=True);"
   ]
  },
  {
   "cell_type": "code",
   "execution_count": 149,
   "metadata": {},
   "outputs": [
    {
     "data": {
      "text/html": [
       "<pre style=\"white-space:pre;overflow-x:auto;line-height:normal;font-family:Menlo,'DejaVu Sans Mono',consolas,'Courier New',monospace\">╭──────────────────────────────────────────────── skimpy summary ─────────────────────────────────────────────────╮\n",
       "│ <span style=\"font-style: italic\">         Data Summary         </span> <span style=\"font-style: italic\">      Data Types       </span>                                                          │\n",
       "│ ┏━━━━━━━━━━━━━━━━━━━┳━━━━━━━━┓ ┏━━━━━━━━━━━━━┳━━━━━━━┓                                                          │\n",
       "│ ┃<span style=\"color: #008080; text-decoration-color: #008080; font-weight: bold\"> dataframe         </span>┃<span style=\"color: #008080; text-decoration-color: #008080; font-weight: bold\"> Values </span>┃ ┃<span style=\"color: #008080; text-decoration-color: #008080; font-weight: bold\"> Column Type </span>┃<span style=\"color: #008080; text-decoration-color: #008080; font-weight: bold\"> Count </span>┃                                                          │\n",
       "│ ┡━━━━━━━━━━━━━━━━━━━╇━━━━━━━━┩ ┡━━━━━━━━━━━━━╇━━━━━━━┩                                                          │\n",
       "│ │ Number of rows    │ 23158  │ │ string      │ 9     │                                                          │\n",
       "│ │ Number of columns │ 26     │ │ float64     │ 8     │                                                          │\n",
       "│ └───────────────────┴────────┘ │ int32       │ 7     │                                                          │\n",
       "│                                │ datetime64  │ 2     │                                                          │\n",
       "│                                └─────────────┴───────┘                                                          │\n",
       "│ <span style=\"font-style: italic\">                                                    number                                                    </span>  │\n",
       "│ ┏━━━━━━━━━━━━━━━━━━━━━━┳━━━━━┳━━━━━━━┳━━━━━━━━━━┳━━━━━━━━━┳━━━━━━━━━━┳━━━━━━━━━━┳━━━━━━━━━┳━━━━━━━━━┳━━━━━━━━┓  │\n",
       "│ ┃<span style=\"font-weight: bold\"> column_name          </span>┃<span style=\"font-weight: bold\"> NA  </span>┃<span style=\"font-weight: bold\"> NA %  </span>┃<span style=\"font-weight: bold\"> mean     </span>┃<span style=\"font-weight: bold\"> sd      </span>┃<span style=\"font-weight: bold\"> p0       </span>┃<span style=\"font-weight: bold\"> p25      </span>┃<span style=\"font-weight: bold\"> p75     </span>┃<span style=\"font-weight: bold\"> p100    </span>┃<span style=\"font-weight: bold\"> hist   </span>┃  │\n",
       "│ ┡━━━━━━━━━━━━━━━━━━━━━━╇━━━━━╇━━━━━━━╇━━━━━━━━━━╇━━━━━━━━━╇━━━━━━━━━━╇━━━━━━━━━━╇━━━━━━━━━╇━━━━━━━━━╇━━━━━━━━┩  │\n",
       "│ │ <span style=\"color: #af87ff; text-decoration-color: #af87ff\">kesinti_no          </span> │ <span style=\"color: #008080; text-decoration-color: #008080\">  0</span> │ <span style=\"color: #008080; text-decoration-color: #008080\">    0</span> │ <span style=\"color: #008080; text-decoration-color: #008080\"> 2100000</span> │ <span style=\"color: #008080; text-decoration-color: #008080\"> 180000</span> │ <span style=\"color: #008080; text-decoration-color: #008080\"> 1800000</span> │ <span style=\"color: #008080; text-decoration-color: #008080\"> 1900000</span> │ <span style=\"color: #008080; text-decoration-color: #008080\">2200000</span> │ <span style=\"color: #008080; text-decoration-color: #008080\">2300000</span> │ <span style=\"color: #008000; text-decoration-color: #008000\">█▂▁▂█▅</span> │  │\n",
       "│ │ <span style=\"color: #af87ff; text-decoration-color: #af87ff\">kesinti_suresi      </span> │ <span style=\"color: #008080; text-decoration-color: #008080\">  0</span> │ <span style=\"color: #008080; text-decoration-color: #008080\">    0</span> │ <span style=\"color: #008080; text-decoration-color: #008080\">     2.3</span> │ <span style=\"color: #008080; text-decoration-color: #008080\">    2.6</span> │ <span style=\"color: #008080; text-decoration-color: #008080\">  0.0019</span> │ <span style=\"color: #008080; text-decoration-color: #008080\">    0.96</span> │ <span style=\"color: #008080; text-decoration-color: #008080\">      3</span> │ <span style=\"color: #008080; text-decoration-color: #008080\">    170</span> │ <span style=\"color: #008000; text-decoration-color: #008000\">  █   </span> │  │\n",
       "│ │ <span style=\"color: #af87ff; text-decoration-color: #af87ff\">kentsel_og          </span> │ <span style=\"color: #008080; text-decoration-color: #008080\">  0</span> │ <span style=\"color: #008080; text-decoration-color: #008080\">    0</span> │ <span style=\"color: #008080; text-decoration-color: #008080\">     7.3</span> │ <span style=\"color: #008080; text-decoration-color: #008080\">     34</span> │ <span style=\"color: #008080; text-decoration-color: #008080\">       0</span> │ <span style=\"color: #008080; text-decoration-color: #008080\">       0</span> │ <span style=\"color: #008080; text-decoration-color: #008080\">      0</span> │ <span style=\"color: #008080; text-decoration-color: #008080\">    900</span> │ <span style=\"color: #008000; text-decoration-color: #008000\">  █   </span> │  │\n",
       "│ │ <span style=\"color: #af87ff; text-decoration-color: #af87ff\">kentsel_ag          </span> │ <span style=\"color: #008080; text-decoration-color: #008080\">  0</span> │ <span style=\"color: #008080; text-decoration-color: #008080\">    0</span> │ <span style=\"color: #008080; text-decoration-color: #008080\">     350</span> │ <span style=\"color: #008080; text-decoration-color: #008080\">   1700</span> │ <span style=\"color: #008080; text-decoration-color: #008080\">       0</span> │ <span style=\"color: #008080; text-decoration-color: #008080\">       0</span> │ <span style=\"color: #008080; text-decoration-color: #008080\">     88</span> │ <span style=\"color: #008080; text-decoration-color: #008080\">  48000</span> │ <span style=\"color: #008000; text-decoration-color: #008000\">  █   </span> │  │\n",
       "│ │ <span style=\"color: #af87ff; text-decoration-color: #af87ff\">kentalti_og         </span> │ <span style=\"color: #008080; text-decoration-color: #008080\">  0</span> │ <span style=\"color: #008080; text-decoration-color: #008080\">    0</span> │ <span style=\"color: #008080; text-decoration-color: #008080\">    0.99</span> │ <span style=\"color: #008080; text-decoration-color: #008080\">     11</span> │ <span style=\"color: #008080; text-decoration-color: #008080\">       0</span> │ <span style=\"color: #008080; text-decoration-color: #008080\">       0</span> │ <span style=\"color: #008080; text-decoration-color: #008080\">      0</span> │ <span style=\"color: #008080; text-decoration-color: #008080\">    730</span> │ <span style=\"color: #008000; text-decoration-color: #008000\">  █   </span> │  │\n",
       "│ │ <span style=\"color: #af87ff; text-decoration-color: #af87ff\">kentalti_ag         </span> │ <span style=\"color: #008080; text-decoration-color: #008080\">  0</span> │ <span style=\"color: #008080; text-decoration-color: #008080\">    0</span> │ <span style=\"color: #008080; text-decoration-color: #008080\">      47</span> │ <span style=\"color: #008080; text-decoration-color: #008080\">    460</span> │ <span style=\"color: #008080; text-decoration-color: #008080\">       0</span> │ <span style=\"color: #008080; text-decoration-color: #008080\">       0</span> │ <span style=\"color: #008080; text-decoration-color: #008080\">      0</span> │ <span style=\"color: #008080; text-decoration-color: #008080\">  24000</span> │ <span style=\"color: #008000; text-decoration-color: #008000\">  █   </span> │  │\n",
       "│ │ <span style=\"color: #af87ff; text-decoration-color: #af87ff\">kirsal_og           </span> │ <span style=\"color: #008080; text-decoration-color: #008080\">  0</span> │ <span style=\"color: #008080; text-decoration-color: #008080\">    0</span> │ <span style=\"color: #008080; text-decoration-color: #008080\">     1.9</span> │ <span style=\"color: #008080; text-decoration-color: #008080\">     14</span> │ <span style=\"color: #008080; text-decoration-color: #008080\">       0</span> │ <span style=\"color: #008080; text-decoration-color: #008080\">       0</span> │ <span style=\"color: #008080; text-decoration-color: #008080\">      0</span> │ <span style=\"color: #008080; text-decoration-color: #008080\">    450</span> │ <span style=\"color: #008000; text-decoration-color: #008000\">  █   </span> │  │\n",
       "│ │ <span style=\"color: #af87ff; text-decoration-color: #af87ff\">kirsal_ag           </span> │ <span style=\"color: #008080; text-decoration-color: #008080\">  0</span> │ <span style=\"color: #008080; text-decoration-color: #008080\">    0</span> │ <span style=\"color: #008080; text-decoration-color: #008080\">      50</span> │ <span style=\"color: #008080; text-decoration-color: #008080\">    310</span> │ <span style=\"color: #008080; text-decoration-color: #008080\">       0</span> │ <span style=\"color: #008080; text-decoration-color: #008080\">       0</span> │ <span style=\"color: #008080; text-decoration-color: #008080\">      0</span> │ <span style=\"color: #008080; text-decoration-color: #008080\">  12000</span> │ <span style=\"color: #008000; text-decoration-color: #008000\">  █   </span> │  │\n",
       "│ │ <span style=\"color: #af87ff; text-decoration-color: #af87ff\">toplam_kentsel_og   </span> │ <span style=\"color: #008080; text-decoration-color: #008080\">  0</span> │ <span style=\"color: #008080; text-decoration-color: #008080\">    0</span> │ <span style=\"color: #008080; text-decoration-color: #008080\">     7.4</span> │ <span style=\"color: #008080; text-decoration-color: #008080\">     49</span> │ <span style=\"color: #008080; text-decoration-color: #008080\">       0</span> │ <span style=\"color: #008080; text-decoration-color: #008080\">       0</span> │ <span style=\"color: #008080; text-decoration-color: #008080\">      0</span> │ <span style=\"color: #008080; text-decoration-color: #008080\">   2200</span> │ <span style=\"color: #008000; text-decoration-color: #008000\">  █   </span> │  │\n",
       "│ │ <span style=\"color: #af87ff; text-decoration-color: #af87ff\">toplam_kentsel_ag   </span> │ <span style=\"color: #008080; text-decoration-color: #008080\">  0</span> │ <span style=\"color: #008080; text-decoration-color: #008080\">    0</span> │ <span style=\"color: #008080; text-decoration-color: #008080\">     310</span> │ <span style=\"color: #008080; text-decoration-color: #008080\">   1500</span> │ <span style=\"color: #008080; text-decoration-color: #008080\">       0</span> │ <span style=\"color: #008080; text-decoration-color: #008080\">       0</span> │ <span style=\"color: #008080; text-decoration-color: #008080\">    130</span> │ <span style=\"color: #008080; text-decoration-color: #008080\">  66000</span> │ <span style=\"color: #008000; text-decoration-color: #008000\">  █   </span> │  │\n",
       "│ │ <span style=\"color: #af87ff; text-decoration-color: #af87ff\">toplam_kentalti_og  </span> │ <span style=\"color: #008080; text-decoration-color: #008080\">  0</span> │ <span style=\"color: #008080; text-decoration-color: #008080\">    0</span> │ <span style=\"color: #008080; text-decoration-color: #008080\">    0.78</span> │ <span style=\"color: #008080; text-decoration-color: #008080\">     11</span> │ <span style=\"color: #008080; text-decoration-color: #008080\">       0</span> │ <span style=\"color: #008080; text-decoration-color: #008080\">       0</span> │ <span style=\"color: #008080; text-decoration-color: #008080\">      0</span> │ <span style=\"color: #008080; text-decoration-color: #008080\">    830</span> │ <span style=\"color: #008000; text-decoration-color: #008000\">  █   </span> │  │\n",
       "│ │ <span style=\"color: #af87ff; text-decoration-color: #af87ff\">toplam_kentalti_ag  </span> │ <span style=\"color: #008080; text-decoration-color: #008080\">  0</span> │ <span style=\"color: #008080; text-decoration-color: #008080\">    0</span> │ <span style=\"color: #008080; text-decoration-color: #008080\">      36</span> │ <span style=\"color: #008080; text-decoration-color: #008080\">    380</span> │ <span style=\"color: #008080; text-decoration-color: #008080\">       0</span> │ <span style=\"color: #008080; text-decoration-color: #008080\">       0</span> │ <span style=\"color: #008080; text-decoration-color: #008080\">      0</span> │ <span style=\"color: #008080; text-decoration-color: #008080\">  31000</span> │ <span style=\"color: #008000; text-decoration-color: #008000\">  █   </span> │  │\n",
       "│ │ <span style=\"color: #af87ff; text-decoration-color: #af87ff\">toplam_kirsal_og    </span> │ <span style=\"color: #008080; text-decoration-color: #008080\">  0</span> │ <span style=\"color: #008080; text-decoration-color: #008080\">    0</span> │ <span style=\"color: #008080; text-decoration-color: #008080\">     1.6</span> │ <span style=\"color: #008080; text-decoration-color: #008080\">     18</span> │ <span style=\"color: #008080; text-decoration-color: #008080\">       0</span> │ <span style=\"color: #008080; text-decoration-color: #008080\">       0</span> │ <span style=\"color: #008080; text-decoration-color: #008080\">      0</span> │ <span style=\"color: #008080; text-decoration-color: #008080\">   1400</span> │ <span style=\"color: #008000; text-decoration-color: #008000\">  █   </span> │  │\n",
       "│ │ <span style=\"color: #af87ff; text-decoration-color: #af87ff\">toplam_kirsal_ag    </span> │ <span style=\"color: #008080; text-decoration-color: #008080\">  0</span> │ <span style=\"color: #008080; text-decoration-color: #008080\">    0</span> │ <span style=\"color: #008080; text-decoration-color: #008080\">      41</span> │ <span style=\"color: #008080; text-decoration-color: #008080\">    300</span> │ <span style=\"color: #008080; text-decoration-color: #008080\">       0</span> │ <span style=\"color: #008080; text-decoration-color: #008080\">       0</span> │ <span style=\"color: #008080; text-decoration-color: #008080\">      0</span> │ <span style=\"color: #008080; text-decoration-color: #008080\">  13000</span> │ <span style=\"color: #008000; text-decoration-color: #008000\">  █   </span> │  │\n",
       "│ │ <span style=\"color: #af87ff; text-decoration-color: #af87ff\">cagri_count         </span> │ <span style=\"color: #008080; text-decoration-color: #008080\">  0</span> │ <span style=\"color: #008080; text-decoration-color: #008080\">    0</span> │ <span style=\"color: #008080; text-decoration-color: #008080\">     4.1</span> │ <span style=\"color: #008080; text-decoration-color: #008080\">     28</span> │ <span style=\"color: #008080; text-decoration-color: #008080\">       0</span> │ <span style=\"color: #008080; text-decoration-color: #008080\">       0</span> │ <span style=\"color: #008080; text-decoration-color: #008080\">      1</span> │ <span style=\"color: #008080; text-decoration-color: #008080\">   1200</span> │ <span style=\"color: #008000; text-decoration-color: #008000\">  █   </span> │  │\n",
       "│ └──────────────────────┴─────┴───────┴──────────┴─────────┴──────────┴──────────┴─────────┴─────────┴────────┘  │\n",
       "│ <span style=\"font-style: italic\">                                                   datetime                                                   </span>  │\n",
       "│ ┏━━━━━━━━━━━━━━━━━━━━━━━━━━━┳━━━━━┳━━━━━━━━┳━━━━━━━━━━━━━━━━━━━━━━━━━┳━━━━━━━━━━━━━━━━━━━━━━━━━┳━━━━━━━━━━━━━┓  │\n",
       "│ ┃<span style=\"font-weight: bold\"> column_name               </span>┃<span style=\"font-weight: bold\"> NA  </span>┃<span style=\"font-weight: bold\"> NA %   </span>┃<span style=\"font-weight: bold\"> first                   </span>┃<span style=\"font-weight: bold\"> last                    </span>┃<span style=\"font-weight: bold\"> frequency   </span>┃  │\n",
       "│ ┡━━━━━━━━━━━━━━━━━━━━━━━━━━━╇━━━━━╇━━━━━━━━╇━━━━━━━━━━━━━━━━━━━━━━━━━╇━━━━━━━━━━━━━━━━━━━━━━━━━╇━━━━━━━━━━━━━┩  │\n",
       "│ │ <span style=\"color: #af87ff; text-decoration-color: #af87ff\">baslama_tarihi_ve_za     </span> │ <span style=\"color: #008080; text-decoration-color: #008080\">  0</span> │ <span style=\"color: #008080; text-decoration-color: #008080\">     0</span> │ <span style=\"color: #800000; text-decoration-color: #800000\">  2021-01-05 00:33:39  </span> │ <span style=\"color: #800000; text-decoration-color: #800000\">  2022-09-06 23:40:57  </span> │ <span style=\"color: #af87ff; text-decoration-color: #af87ff\">None       </span> │  │\n",
       "│ │ <span style=\"color: #af87ff; text-decoration-color: #af87ff\">sona_erme_tarihi_ve_     </span> │ <span style=\"color: #008080; text-decoration-color: #008080\">  0</span> │ <span style=\"color: #008080; text-decoration-color: #008080\">     0</span> │ <span style=\"color: #800000; text-decoration-color: #800000\">  2021-01-05 00:48:11  </span> │ <span style=\"color: #800000; text-decoration-color: #800000\">  2022-10-06 03:06:31  </span> │ <span style=\"color: #af87ff; text-decoration-color: #af87ff\">None       </span> │  │\n",
       "│ └───────────────────────────┴─────┴────────┴─────────────────────────┴─────────────────────────┴─────────────┘  │\n",
       "│ <span style=\"font-style: italic\">                                                    string                                                    </span>  │\n",
       "│ ┏━━━━━━━━━━━━━━━━━━━━━━━━━━━━━━━━━━━━━━━┳━━━━━━━┳━━━━━━━━━━━┳━━━━━━━━━━━━━━━━━━━━━━━━━━┳━━━━━━━━━━━━━━━━━━━━━┓  │\n",
       "│ ┃<span style=\"font-weight: bold\"> column_name                           </span>┃<span style=\"font-weight: bold\"> NA    </span>┃<span style=\"font-weight: bold\"> NA %      </span>┃<span style=\"font-weight: bold\"> words per row            </span>┃<span style=\"font-weight: bold\"> total words         </span>┃  │\n",
       "│ ┡━━━━━━━━━━━━━━━━━━━━━━━━━━━━━━━━━━━━━━━╇━━━━━━━╇━━━━━━━━━━━╇━━━━━━━━━━━━━━━━━━━━━━━━━━╇━━━━━━━━━━━━━━━━━━━━━┩  │\n",
       "│ │ <span style=\"color: #af87ff; text-decoration-color: #af87ff\">il                                   </span> │ <span style=\"color: #008080; text-decoration-color: #008080\">    0</span> │ <span style=\"color: #008080; text-decoration-color: #008080\">        0</span> │ <span style=\"color: #008080; text-decoration-color: #008080\">                       1</span> │ <span style=\"color: #008080; text-decoration-color: #008080\">              23000</span> │  │\n",
       "│ │ <span style=\"color: #af87ff; text-decoration-color: #af87ff\">ilce                                 </span> │ <span style=\"color: #008080; text-decoration-color: #008080\">    0</span> │ <span style=\"color: #008080; text-decoration-color: #008080\">        0</span> │ <span style=\"color: #008080; text-decoration-color: #008080\">                       1</span> │ <span style=\"color: #008080; text-decoration-color: #008080\">              23000</span> │  │\n",
       "│ │ <span style=\"color: #af87ff; text-decoration-color: #af87ff\">sebeke_unsuru                        </span> │ <span style=\"color: #008080; text-decoration-color: #008080\">    0</span> │ <span style=\"color: #008080; text-decoration-color: #008080\">        0</span> │ <span style=\"color: #008080; text-decoration-color: #008080\">                       1</span> │ <span style=\"color: #008080; text-decoration-color: #008080\">              23000</span> │  │\n",
       "│ │ <span style=\"color: #af87ff; text-decoration-color: #af87ff\">sebeke_unsuru_kodu                   </span> │ <span style=\"color: #008080; text-decoration-color: #008080\">    0</span> │ <span style=\"color: #008080; text-decoration-color: #008080\">        0</span> │ <span style=\"color: #008080; text-decoration-color: #008080\">                       1</span> │ <span style=\"color: #008080; text-decoration-color: #008080\">              23000</span> │  │\n",
       "│ │ <span style=\"color: #af87ff; text-decoration-color: #af87ff\">kesinti_nedenine_ili                 </span> │ <span style=\"color: #008080; text-decoration-color: #008080\">    0</span> │ <span style=\"color: #008080; text-decoration-color: #008080\">        0</span> │ <span style=\"color: #008080; text-decoration-color: #008080\">                       1</span> │ <span style=\"color: #008080; text-decoration-color: #008080\">              23000</span> │  │\n",
       "│ │ <span style=\"color: #af87ff; text-decoration-color: #af87ff\">kaynaga_gore                         </span> │ <span style=\"color: #008080; text-decoration-color: #008080\">    0</span> │ <span style=\"color: #008080; text-decoration-color: #008080\">        0</span> │ <span style=\"color: #008080; text-decoration-color: #008080\">                       1</span> │ <span style=\"color: #008080; text-decoration-color: #008080\">              23000</span> │  │\n",
       "│ │ <span style=\"color: #af87ff; text-decoration-color: #af87ff\">sureye_gore                          </span> │ <span style=\"color: #008080; text-decoration-color: #008080\">    0</span> │ <span style=\"color: #008080; text-decoration-color: #008080\">        0</span> │ <span style=\"color: #008080; text-decoration-color: #008080\">                       1</span> │ <span style=\"color: #008080; text-decoration-color: #008080\">              23000</span> │  │\n",
       "│ │ <span style=\"color: #af87ff; text-decoration-color: #af87ff\">sebebe_gore                          </span> │ <span style=\"color: #008080; text-decoration-color: #008080\">    0</span> │ <span style=\"color: #008080; text-decoration-color: #008080\">        0</span> │ <span style=\"color: #008080; text-decoration-color: #008080\">                       1</span> │ <span style=\"color: #008080; text-decoration-color: #008080\">              23000</span> │  │\n",
       "│ │ <span style=\"color: #af87ff; text-decoration-color: #af87ff\">bildirime_gore                       </span> │ <span style=\"color: #008080; text-decoration-color: #008080\">    0</span> │ <span style=\"color: #008080; text-decoration-color: #008080\">        0</span> │ <span style=\"color: #008080; text-decoration-color: #008080\">                       1</span> │ <span style=\"color: #008080; text-decoration-color: #008080\">              23000</span> │  │\n",
       "│ └───────────────────────────────────────┴───────┴───────────┴──────────────────────────┴─────────────────────┘  │\n",
       "╰────────────────────────────────────────────────────── End ──────────────────────────────────────────────────────╯\n",
       "</pre>\n"
      ],
      "text/plain": [
       "╭──────────────────────────────────────────────── skimpy summary ─────────────────────────────────────────────────╮\n",
       "│ \u001b[3m         Data Summary         \u001b[0m \u001b[3m      Data Types       \u001b[0m                                                          │\n",
       "│ ┏━━━━━━━━━━━━━━━━━━━┳━━━━━━━━┓ ┏━━━━━━━━━━━━━┳━━━━━━━┓                                                          │\n",
       "│ ┃\u001b[1;36m \u001b[0m\u001b[1;36mdataframe        \u001b[0m\u001b[1;36m \u001b[0m┃\u001b[1;36m \u001b[0m\u001b[1;36mValues\u001b[0m\u001b[1;36m \u001b[0m┃ ┃\u001b[1;36m \u001b[0m\u001b[1;36mColumn Type\u001b[0m\u001b[1;36m \u001b[0m┃\u001b[1;36m \u001b[0m\u001b[1;36mCount\u001b[0m\u001b[1;36m \u001b[0m┃                                                          │\n",
       "│ ┡━━━━━━━━━━━━━━━━━━━╇━━━━━━━━┩ ┡━━━━━━━━━━━━━╇━━━━━━━┩                                                          │\n",
       "│ │ Number of rows    │ 23158  │ │ string      │ 9     │                                                          │\n",
       "│ │ Number of columns │ 26     │ │ float64     │ 8     │                                                          │\n",
       "│ └───────────────────┴────────┘ │ int32       │ 7     │                                                          │\n",
       "│                                │ datetime64  │ 2     │                                                          │\n",
       "│                                └─────────────┴───────┘                                                          │\n",
       "│ \u001b[3m                                                    number                                                    \u001b[0m  │\n",
       "│ ┏━━━━━━━━━━━━━━━━━━━━━━┳━━━━━┳━━━━━━━┳━━━━━━━━━━┳━━━━━━━━━┳━━━━━━━━━━┳━━━━━━━━━━┳━━━━━━━━━┳━━━━━━━━━┳━━━━━━━━┓  │\n",
       "│ ┃\u001b[1m \u001b[0m\u001b[1mcolumn_name         \u001b[0m\u001b[1m \u001b[0m┃\u001b[1m \u001b[0m\u001b[1mNA \u001b[0m\u001b[1m \u001b[0m┃\u001b[1m \u001b[0m\u001b[1mNA % \u001b[0m\u001b[1m \u001b[0m┃\u001b[1m \u001b[0m\u001b[1mmean    \u001b[0m\u001b[1m \u001b[0m┃\u001b[1m \u001b[0m\u001b[1msd     \u001b[0m\u001b[1m \u001b[0m┃\u001b[1m \u001b[0m\u001b[1mp0      \u001b[0m\u001b[1m \u001b[0m┃\u001b[1m \u001b[0m\u001b[1mp25     \u001b[0m\u001b[1m \u001b[0m┃\u001b[1m \u001b[0m\u001b[1mp75    \u001b[0m\u001b[1m \u001b[0m┃\u001b[1m \u001b[0m\u001b[1mp100   \u001b[0m\u001b[1m \u001b[0m┃\u001b[1m \u001b[0m\u001b[1mhist  \u001b[0m\u001b[1m \u001b[0m┃  │\n",
       "│ ┡━━━━━━━━━━━━━━━━━━━━━━╇━━━━━╇━━━━━━━╇━━━━━━━━━━╇━━━━━━━━━╇━━━━━━━━━━╇━━━━━━━━━━╇━━━━━━━━━╇━━━━━━━━━╇━━━━━━━━┩  │\n",
       "│ │ \u001b[38;5;141mkesinti_no          \u001b[0m │ \u001b[36m  0\u001b[0m │ \u001b[36m    0\u001b[0m │ \u001b[36m 2100000\u001b[0m │ \u001b[36m 180000\u001b[0m │ \u001b[36m 1800000\u001b[0m │ \u001b[36m 1900000\u001b[0m │ \u001b[36m2200000\u001b[0m │ \u001b[36m2300000\u001b[0m │ \u001b[32m█▂▁▂█▅\u001b[0m │  │\n",
       "│ │ \u001b[38;5;141mkesinti_suresi      \u001b[0m │ \u001b[36m  0\u001b[0m │ \u001b[36m    0\u001b[0m │ \u001b[36m     2.3\u001b[0m │ \u001b[36m    2.6\u001b[0m │ \u001b[36m  0.0019\u001b[0m │ \u001b[36m    0.96\u001b[0m │ \u001b[36m      3\u001b[0m │ \u001b[36m    170\u001b[0m │ \u001b[32m  █   \u001b[0m │  │\n",
       "│ │ \u001b[38;5;141mkentsel_og          \u001b[0m │ \u001b[36m  0\u001b[0m │ \u001b[36m    0\u001b[0m │ \u001b[36m     7.3\u001b[0m │ \u001b[36m     34\u001b[0m │ \u001b[36m       0\u001b[0m │ \u001b[36m       0\u001b[0m │ \u001b[36m      0\u001b[0m │ \u001b[36m    900\u001b[0m │ \u001b[32m  █   \u001b[0m │  │\n",
       "│ │ \u001b[38;5;141mkentsel_ag          \u001b[0m │ \u001b[36m  0\u001b[0m │ \u001b[36m    0\u001b[0m │ \u001b[36m     350\u001b[0m │ \u001b[36m   1700\u001b[0m │ \u001b[36m       0\u001b[0m │ \u001b[36m       0\u001b[0m │ \u001b[36m     88\u001b[0m │ \u001b[36m  48000\u001b[0m │ \u001b[32m  █   \u001b[0m │  │\n",
       "│ │ \u001b[38;5;141mkentalti_og         \u001b[0m │ \u001b[36m  0\u001b[0m │ \u001b[36m    0\u001b[0m │ \u001b[36m    0.99\u001b[0m │ \u001b[36m     11\u001b[0m │ \u001b[36m       0\u001b[0m │ \u001b[36m       0\u001b[0m │ \u001b[36m      0\u001b[0m │ \u001b[36m    730\u001b[0m │ \u001b[32m  █   \u001b[0m │  │\n",
       "│ │ \u001b[38;5;141mkentalti_ag         \u001b[0m │ \u001b[36m  0\u001b[0m │ \u001b[36m    0\u001b[0m │ \u001b[36m      47\u001b[0m │ \u001b[36m    460\u001b[0m │ \u001b[36m       0\u001b[0m │ \u001b[36m       0\u001b[0m │ \u001b[36m      0\u001b[0m │ \u001b[36m  24000\u001b[0m │ \u001b[32m  █   \u001b[0m │  │\n",
       "│ │ \u001b[38;5;141mkirsal_og           \u001b[0m │ \u001b[36m  0\u001b[0m │ \u001b[36m    0\u001b[0m │ \u001b[36m     1.9\u001b[0m │ \u001b[36m     14\u001b[0m │ \u001b[36m       0\u001b[0m │ \u001b[36m       0\u001b[0m │ \u001b[36m      0\u001b[0m │ \u001b[36m    450\u001b[0m │ \u001b[32m  █   \u001b[0m │  │\n",
       "│ │ \u001b[38;5;141mkirsal_ag           \u001b[0m │ \u001b[36m  0\u001b[0m │ \u001b[36m    0\u001b[0m │ \u001b[36m      50\u001b[0m │ \u001b[36m    310\u001b[0m │ \u001b[36m       0\u001b[0m │ \u001b[36m       0\u001b[0m │ \u001b[36m      0\u001b[0m │ \u001b[36m  12000\u001b[0m │ \u001b[32m  █   \u001b[0m │  │\n",
       "│ │ \u001b[38;5;141mtoplam_kentsel_og   \u001b[0m │ \u001b[36m  0\u001b[0m │ \u001b[36m    0\u001b[0m │ \u001b[36m     7.4\u001b[0m │ \u001b[36m     49\u001b[0m │ \u001b[36m       0\u001b[0m │ \u001b[36m       0\u001b[0m │ \u001b[36m      0\u001b[0m │ \u001b[36m   2200\u001b[0m │ \u001b[32m  █   \u001b[0m │  │\n",
       "│ │ \u001b[38;5;141mtoplam_kentsel_ag   \u001b[0m │ \u001b[36m  0\u001b[0m │ \u001b[36m    0\u001b[0m │ \u001b[36m     310\u001b[0m │ \u001b[36m   1500\u001b[0m │ \u001b[36m       0\u001b[0m │ \u001b[36m       0\u001b[0m │ \u001b[36m    130\u001b[0m │ \u001b[36m  66000\u001b[0m │ \u001b[32m  █   \u001b[0m │  │\n",
       "│ │ \u001b[38;5;141mtoplam_kentalti_og  \u001b[0m │ \u001b[36m  0\u001b[0m │ \u001b[36m    0\u001b[0m │ \u001b[36m    0.78\u001b[0m │ \u001b[36m     11\u001b[0m │ \u001b[36m       0\u001b[0m │ \u001b[36m       0\u001b[0m │ \u001b[36m      0\u001b[0m │ \u001b[36m    830\u001b[0m │ \u001b[32m  █   \u001b[0m │  │\n",
       "│ │ \u001b[38;5;141mtoplam_kentalti_ag  \u001b[0m │ \u001b[36m  0\u001b[0m │ \u001b[36m    0\u001b[0m │ \u001b[36m      36\u001b[0m │ \u001b[36m    380\u001b[0m │ \u001b[36m       0\u001b[0m │ \u001b[36m       0\u001b[0m │ \u001b[36m      0\u001b[0m │ \u001b[36m  31000\u001b[0m │ \u001b[32m  █   \u001b[0m │  │\n",
       "│ │ \u001b[38;5;141mtoplam_kirsal_og    \u001b[0m │ \u001b[36m  0\u001b[0m │ \u001b[36m    0\u001b[0m │ \u001b[36m     1.6\u001b[0m │ \u001b[36m     18\u001b[0m │ \u001b[36m       0\u001b[0m │ \u001b[36m       0\u001b[0m │ \u001b[36m      0\u001b[0m │ \u001b[36m   1400\u001b[0m │ \u001b[32m  █   \u001b[0m │  │\n",
       "│ │ \u001b[38;5;141mtoplam_kirsal_ag    \u001b[0m │ \u001b[36m  0\u001b[0m │ \u001b[36m    0\u001b[0m │ \u001b[36m      41\u001b[0m │ \u001b[36m    300\u001b[0m │ \u001b[36m       0\u001b[0m │ \u001b[36m       0\u001b[0m │ \u001b[36m      0\u001b[0m │ \u001b[36m  13000\u001b[0m │ \u001b[32m  █   \u001b[0m │  │\n",
       "│ │ \u001b[38;5;141mcagri_count         \u001b[0m │ \u001b[36m  0\u001b[0m │ \u001b[36m    0\u001b[0m │ \u001b[36m     4.1\u001b[0m │ \u001b[36m     28\u001b[0m │ \u001b[36m       0\u001b[0m │ \u001b[36m       0\u001b[0m │ \u001b[36m      1\u001b[0m │ \u001b[36m   1200\u001b[0m │ \u001b[32m  █   \u001b[0m │  │\n",
       "│ └──────────────────────┴─────┴───────┴──────────┴─────────┴──────────┴──────────┴─────────┴─────────┴────────┘  │\n",
       "│ \u001b[3m                                                   datetime                                                   \u001b[0m  │\n",
       "│ ┏━━━━━━━━━━━━━━━━━━━━━━━━━━━┳━━━━━┳━━━━━━━━┳━━━━━━━━━━━━━━━━━━━━━━━━━┳━━━━━━━━━━━━━━━━━━━━━━━━━┳━━━━━━━━━━━━━┓  │\n",
       "│ ┃\u001b[1m \u001b[0m\u001b[1mcolumn_name              \u001b[0m\u001b[1m \u001b[0m┃\u001b[1m \u001b[0m\u001b[1mNA \u001b[0m\u001b[1m \u001b[0m┃\u001b[1m \u001b[0m\u001b[1mNA %  \u001b[0m\u001b[1m \u001b[0m┃\u001b[1m \u001b[0m\u001b[1mfirst                  \u001b[0m\u001b[1m \u001b[0m┃\u001b[1m \u001b[0m\u001b[1mlast                   \u001b[0m\u001b[1m \u001b[0m┃\u001b[1m \u001b[0m\u001b[1mfrequency  \u001b[0m\u001b[1m \u001b[0m┃  │\n",
       "│ ┡━━━━━━━━━━━━━━━━━━━━━━━━━━━╇━━━━━╇━━━━━━━━╇━━━━━━━━━━━━━━━━━━━━━━━━━╇━━━━━━━━━━━━━━━━━━━━━━━━━╇━━━━━━━━━━━━━┩  │\n",
       "│ │ \u001b[38;5;141mbaslama_tarihi_ve_za     \u001b[0m │ \u001b[36m  0\u001b[0m │ \u001b[36m     0\u001b[0m │ \u001b[31m  2021-01-05 00:33:39  \u001b[0m │ \u001b[31m  2022-09-06 23:40:57  \u001b[0m │ \u001b[38;5;141mNone       \u001b[0m │  │\n",
       "│ │ \u001b[38;5;141msona_erme_tarihi_ve_     \u001b[0m │ \u001b[36m  0\u001b[0m │ \u001b[36m     0\u001b[0m │ \u001b[31m  2021-01-05 00:48:11  \u001b[0m │ \u001b[31m  2022-10-06 03:06:31  \u001b[0m │ \u001b[38;5;141mNone       \u001b[0m │  │\n",
       "│ └───────────────────────────┴─────┴────────┴─────────────────────────┴─────────────────────────┴─────────────┘  │\n",
       "│ \u001b[3m                                                    string                                                    \u001b[0m  │\n",
       "│ ┏━━━━━━━━━━━━━━━━━━━━━━━━━━━━━━━━━━━━━━━┳━━━━━━━┳━━━━━━━━━━━┳━━━━━━━━━━━━━━━━━━━━━━━━━━┳━━━━━━━━━━━━━━━━━━━━━┓  │\n",
       "│ ┃\u001b[1m \u001b[0m\u001b[1mcolumn_name                          \u001b[0m\u001b[1m \u001b[0m┃\u001b[1m \u001b[0m\u001b[1mNA   \u001b[0m\u001b[1m \u001b[0m┃\u001b[1m \u001b[0m\u001b[1mNA %     \u001b[0m\u001b[1m \u001b[0m┃\u001b[1m \u001b[0m\u001b[1mwords per row           \u001b[0m\u001b[1m \u001b[0m┃\u001b[1m \u001b[0m\u001b[1mtotal words        \u001b[0m\u001b[1m \u001b[0m┃  │\n",
       "│ ┡━━━━━━━━━━━━━━━━━━━━━━━━━━━━━━━━━━━━━━━╇━━━━━━━╇━━━━━━━━━━━╇━━━━━━━━━━━━━━━━━━━━━━━━━━╇━━━━━━━━━━━━━━━━━━━━━┩  │\n",
       "│ │ \u001b[38;5;141mil                                   \u001b[0m │ \u001b[36m    0\u001b[0m │ \u001b[36m        0\u001b[0m │ \u001b[36m                       1\u001b[0m │ \u001b[36m              23000\u001b[0m │  │\n",
       "│ │ \u001b[38;5;141milce                                 \u001b[0m │ \u001b[36m    0\u001b[0m │ \u001b[36m        0\u001b[0m │ \u001b[36m                       1\u001b[0m │ \u001b[36m              23000\u001b[0m │  │\n",
       "│ │ \u001b[38;5;141msebeke_unsuru                        \u001b[0m │ \u001b[36m    0\u001b[0m │ \u001b[36m        0\u001b[0m │ \u001b[36m                       1\u001b[0m │ \u001b[36m              23000\u001b[0m │  │\n",
       "│ │ \u001b[38;5;141msebeke_unsuru_kodu                   \u001b[0m │ \u001b[36m    0\u001b[0m │ \u001b[36m        0\u001b[0m │ \u001b[36m                       1\u001b[0m │ \u001b[36m              23000\u001b[0m │  │\n",
       "│ │ \u001b[38;5;141mkesinti_nedenine_ili                 \u001b[0m │ \u001b[36m    0\u001b[0m │ \u001b[36m        0\u001b[0m │ \u001b[36m                       1\u001b[0m │ \u001b[36m              23000\u001b[0m │  │\n",
       "│ │ \u001b[38;5;141mkaynaga_gore                         \u001b[0m │ \u001b[36m    0\u001b[0m │ \u001b[36m        0\u001b[0m │ \u001b[36m                       1\u001b[0m │ \u001b[36m              23000\u001b[0m │  │\n",
       "│ │ \u001b[38;5;141msureye_gore                          \u001b[0m │ \u001b[36m    0\u001b[0m │ \u001b[36m        0\u001b[0m │ \u001b[36m                       1\u001b[0m │ \u001b[36m              23000\u001b[0m │  │\n",
       "│ │ \u001b[38;5;141msebebe_gore                          \u001b[0m │ \u001b[36m    0\u001b[0m │ \u001b[36m        0\u001b[0m │ \u001b[36m                       1\u001b[0m │ \u001b[36m              23000\u001b[0m │  │\n",
       "│ │ \u001b[38;5;141mbildirime_gore                       \u001b[0m │ \u001b[36m    0\u001b[0m │ \u001b[36m        0\u001b[0m │ \u001b[36m                       1\u001b[0m │ \u001b[36m              23000\u001b[0m │  │\n",
       "│ └───────────────────────────────────────┴───────┴───────────┴──────────────────────────┴─────────────────────┘  │\n",
       "╰────────────────────────────────────────────────────── End ──────────────────────────────────────────────────────╯\n"
      ]
     },
     "metadata": {},
     "output_type": "display_data"
    }
   ],
   "source": [
    "skim(df)"
   ]
  },
  {
   "cell_type": "markdown",
   "metadata": {},
   "source": [
    "## Reading the **Submission** Data"
   ]
  },
  {
   "cell_type": "code",
   "execution_count": 108,
   "metadata": {},
   "outputs": [],
   "source": [
    "df2 = pd.read_csv(\"case2_submission.csv\")\n",
    "df_sub = df2.copy()"
   ]
  },
  {
   "cell_type": "code",
   "execution_count": 109,
   "metadata": {},
   "outputs": [
    {
     "data": {
      "text/html": [
       "<div>\n",
       "<style scoped>\n",
       "    .dataframe tbody tr th:only-of-type {\n",
       "        vertical-align: middle;\n",
       "    }\n",
       "\n",
       "    .dataframe tbody tr th {\n",
       "        vertical-align: top;\n",
       "    }\n",
       "\n",
       "    .dataframe thead th {\n",
       "        text-align: right;\n",
       "    }\n",
       "</style>\n",
       "<table border=\"1\" class=\"dataframe\">\n",
       "  <thead>\n",
       "    <tr style=\"text-align: right;\">\n",
       "      <th></th>\n",
       "      <th>KESİNTİ_NO</th>\n",
       "      <th>cagri_count</th>\n",
       "    </tr>\n",
       "  </thead>\n",
       "  <tbody>\n",
       "    <tr>\n",
       "      <th>0</th>\n",
       "      <td>2096681</td>\n",
       "      <td>NaN</td>\n",
       "    </tr>\n",
       "    <tr>\n",
       "      <th>1</th>\n",
       "      <td>1821877</td>\n",
       "      <td>NaN</td>\n",
       "    </tr>\n",
       "    <tr>\n",
       "      <th>2</th>\n",
       "      <td>1883134</td>\n",
       "      <td>NaN</td>\n",
       "    </tr>\n",
       "    <tr>\n",
       "      <th>3</th>\n",
       "      <td>2182572</td>\n",
       "      <td>NaN</td>\n",
       "    </tr>\n",
       "    <tr>\n",
       "      <th>4</th>\n",
       "      <td>2253558</td>\n",
       "      <td>NaN</td>\n",
       "    </tr>\n",
       "  </tbody>\n",
       "</table>\n",
       "</div>"
      ],
      "text/plain": [
       "   KESİNTİ_NO  cagri_count\n",
       "0     2096681          NaN\n",
       "1     1821877          NaN\n",
       "2     1883134          NaN\n",
       "3     2182572          NaN\n",
       "4     2253558          NaN"
      ]
     },
     "execution_count": 109,
     "metadata": {},
     "output_type": "execute_result"
    }
   ],
   "source": [
    "df_sub.head()"
   ]
  },
  {
   "cell_type": "markdown",
   "metadata": {},
   "source": [
    "Cleaning column names with `skimpy.clean_columns`"
   ]
  },
  {
   "cell_type": "code",
   "execution_count": 110,
   "metadata": {},
   "outputs": [
    {
     "data": {
      "text/html": [
       "<pre style=\"white-space:pre;overflow-x:auto;line-height:normal;font-family:Menlo,'DejaVu Sans Mono',consolas,'Courier New',monospace\"><span style=\"color: #008080; text-decoration-color: #008080; font-weight: bold\">1</span> column names have been cleaned\n",
       "</pre>\n"
      ],
      "text/plain": [
       "\u001b[1;36m1\u001b[0m column names have been cleaned\n"
      ]
     },
     "metadata": {},
     "output_type": "display_data"
    },
    {
     "name": "stdout",
     "output_type": "stream",
     "text": [
      "Index(['kesinti_no', 'cagri_count'], dtype='object')\n"
     ]
    }
   ],
   "source": [
    "df_sub = clean_columns(df_sub)\n",
    "print(df_sub.columns)"
   ]
  },
  {
   "cell_type": "code",
   "execution_count": 111,
   "metadata": {},
   "outputs": [
    {
     "data": {
      "text/plain": [
       "(5790, 2)"
      ]
     },
     "execution_count": 111,
     "metadata": {},
     "output_type": "execute_result"
    }
   ],
   "source": [
    "df_sub.shape"
   ]
  },
  {
   "cell_type": "code",
   "execution_count": 112,
   "metadata": {},
   "outputs": [
    {
     "name": "stdout",
     "output_type": "stream",
     "text": [
      "<class 'pandas.core.frame.DataFrame'>\n",
      "RangeIndex: 5790 entries, 0 to 5789\n",
      "Data columns (total 2 columns):\n",
      " #   Column       Non-Null Count  Dtype  \n",
      "---  ------       --------------  -----  \n",
      " 0   kesinti_no   5790 non-null   int64  \n",
      " 1   cagri_count  0 non-null      float64\n",
      "dtypes: float64(1), int64(1)\n",
      "memory usage: 90.6 KB\n"
     ]
    }
   ],
   "source": [
    "df_sub.info()"
   ]
  },
  {
   "cell_type": "markdown",
   "metadata": {},
   "source": [
    "## Reading the **Weather** Data"
   ]
  },
  {
   "cell_type": "markdown",
   "metadata": {},
   "source": [
    "### **<span style='color:turquoise'> Humidity </span>** "
   ]
  },
  {
   "cell_type": "markdown",
   "metadata": {},
   "source": [
    "unit = `[0:1]`"
   ]
  },
  {
   "cell_type": "code",
   "execution_count": 113,
   "metadata": {},
   "outputs": [],
   "source": [
    "df3 = pd.read_csv(\"Weather_Bagil-Nem.csv\")\n",
    "df_hum = df3.copy()"
   ]
  },
  {
   "cell_type": "code",
   "execution_count": 114,
   "metadata": {},
   "outputs": [
    {
     "data": {
      "text/html": [
       "<div>\n",
       "<style scoped>\n",
       "    .dataframe tbody tr th:only-of-type {\n",
       "        vertical-align: middle;\n",
       "    }\n",
       "\n",
       "    .dataframe tbody tr th {\n",
       "        vertical-align: top;\n",
       "    }\n",
       "\n",
       "    .dataframe thead th {\n",
       "        text-align: right;\n",
       "    }\n",
       "</style>\n",
       "<table border=\"1\" class=\"dataframe\">\n",
       "  <thead>\n",
       "    <tr style=\"text-align: right;\">\n",
       "      <th></th>\n",
       "      <th>Tarih</th>\n",
       "      <th>İzmir</th>\n",
       "      <th>Aliağa</th>\n",
       "      <th>Çeşme</th>\n",
       "      <th>Bergama</th>\n",
       "      <th>Manisa</th>\n",
       "      <th>Akhisar</th>\n",
       "      <th>Salihli</th>\n",
       "      <th>Çiğli</th>\n",
       "      <th>Menderes</th>\n",
       "      <th>Alaşehir</th>\n",
       "      <th>Demirci</th>\n",
       "      <th>Güzelyalı</th>\n",
       "      <th>Kula</th>\n",
       "      <th>Ödemiş</th>\n",
       "      <th>Soma</th>\n",
       "      <th>Urla</th>\n",
       "    </tr>\n",
       "  </thead>\n",
       "  <tbody>\n",
       "    <tr>\n",
       "      <th>0</th>\n",
       "      <td>2021-02-01 00:00:00</td>\n",
       "      <td>0.000</td>\n",
       "      <td>0.000</td>\n",
       "      <td>0.000</td>\n",
       "      <td>0.000</td>\n",
       "      <td>0.000</td>\n",
       "      <td>0.000</td>\n",
       "      <td>0.000</td>\n",
       "      <td>0.000</td>\n",
       "      <td>0.000</td>\n",
       "      <td>NaN</td>\n",
       "      <td>NaN</td>\n",
       "      <td>NaN</td>\n",
       "      <td>NaN</td>\n",
       "      <td>NaN</td>\n",
       "      <td>NaN</td>\n",
       "      <td>NaN</td>\n",
       "    </tr>\n",
       "    <tr>\n",
       "      <th>1</th>\n",
       "      <td>2021-02-01 01:00:00</td>\n",
       "      <td>0.000</td>\n",
       "      <td>0.000</td>\n",
       "      <td>0.000</td>\n",
       "      <td>0.000</td>\n",
       "      <td>0.000</td>\n",
       "      <td>0.000</td>\n",
       "      <td>0.000</td>\n",
       "      <td>0.000</td>\n",
       "      <td>0.000</td>\n",
       "      <td>NaN</td>\n",
       "      <td>NaN</td>\n",
       "      <td>NaN</td>\n",
       "      <td>NaN</td>\n",
       "      <td>NaN</td>\n",
       "      <td>NaN</td>\n",
       "      <td>NaN</td>\n",
       "    </tr>\n",
       "    <tr>\n",
       "      <th>2</th>\n",
       "      <td>2021-02-01 02:00:00</td>\n",
       "      <td>0.000</td>\n",
       "      <td>0.000</td>\n",
       "      <td>0.000</td>\n",
       "      <td>0.000</td>\n",
       "      <td>0.000</td>\n",
       "      <td>0.000</td>\n",
       "      <td>0.000</td>\n",
       "      <td>0.000</td>\n",
       "      <td>0.000</td>\n",
       "      <td>NaN</td>\n",
       "      <td>NaN</td>\n",
       "      <td>NaN</td>\n",
       "      <td>NaN</td>\n",
       "      <td>NaN</td>\n",
       "      <td>NaN</td>\n",
       "      <td>NaN</td>\n",
       "    </tr>\n",
       "    <tr>\n",
       "      <th>3</th>\n",
       "      <td>2021-02-01 03:00:00</td>\n",
       "      <td>0.000</td>\n",
       "      <td>0.000</td>\n",
       "      <td>0.000</td>\n",
       "      <td>0.000</td>\n",
       "      <td>0.000</td>\n",
       "      <td>0.000</td>\n",
       "      <td>0.000</td>\n",
       "      <td>0.000</td>\n",
       "      <td>0.000</td>\n",
       "      <td>NaN</td>\n",
       "      <td>NaN</td>\n",
       "      <td>NaN</td>\n",
       "      <td>NaN</td>\n",
       "      <td>NaN</td>\n",
       "      <td>NaN</td>\n",
       "      <td>NaN</td>\n",
       "    </tr>\n",
       "    <tr>\n",
       "      <th>4</th>\n",
       "      <td>2021-02-01 04:00:00</td>\n",
       "      <td>0.000</td>\n",
       "      <td>0.000</td>\n",
       "      <td>0.000</td>\n",
       "      <td>0.000</td>\n",
       "      <td>0.000</td>\n",
       "      <td>0.000</td>\n",
       "      <td>0.000</td>\n",
       "      <td>0.000</td>\n",
       "      <td>0.000</td>\n",
       "      <td>NaN</td>\n",
       "      <td>NaN</td>\n",
       "      <td>NaN</td>\n",
       "      <td>NaN</td>\n",
       "      <td>NaN</td>\n",
       "      <td>NaN</td>\n",
       "      <td>NaN</td>\n",
       "    </tr>\n",
       "  </tbody>\n",
       "</table>\n",
       "</div>"
      ],
      "text/plain": [
       "                 Tarih  İzmir  Aliağa  Çeşme  Bergama  Manisa  Akhisar  \\\n",
       "0  2021-02-01 00:00:00  0.000   0.000  0.000    0.000   0.000    0.000   \n",
       "1  2021-02-01 01:00:00  0.000   0.000  0.000    0.000   0.000    0.000   \n",
       "2  2021-02-01 02:00:00  0.000   0.000  0.000    0.000   0.000    0.000   \n",
       "3  2021-02-01 03:00:00  0.000   0.000  0.000    0.000   0.000    0.000   \n",
       "4  2021-02-01 04:00:00  0.000   0.000  0.000    0.000   0.000    0.000   \n",
       "\n",
       "   Salihli  Çiğli  Menderes  Alaşehir  Demirci  Güzelyalı  Kula  Ödemiş  Soma  \\\n",
       "0    0.000  0.000     0.000       NaN      NaN        NaN   NaN     NaN   NaN   \n",
       "1    0.000  0.000     0.000       NaN      NaN        NaN   NaN     NaN   NaN   \n",
       "2    0.000  0.000     0.000       NaN      NaN        NaN   NaN     NaN   NaN   \n",
       "3    0.000  0.000     0.000       NaN      NaN        NaN   NaN     NaN   NaN   \n",
       "4    0.000  0.000     0.000       NaN      NaN        NaN   NaN     NaN   NaN   \n",
       "\n",
       "   Urla  \n",
       "0   NaN  \n",
       "1   NaN  \n",
       "2   NaN  \n",
       "3   NaN  \n",
       "4   NaN  "
      ]
     },
     "execution_count": 114,
     "metadata": {},
     "output_type": "execute_result"
    }
   ],
   "source": [
    "df_hum.head()"
   ]
  },
  {
   "cell_type": "code",
   "execution_count": 115,
   "metadata": {},
   "outputs": [
    {
     "data": {
      "text/plain": [
       "(38832, 17)"
      ]
     },
     "execution_count": 115,
     "metadata": {},
     "output_type": "execute_result"
    }
   ],
   "source": [
    "df_hum.shape"
   ]
  },
  {
   "cell_type": "code",
   "execution_count": 116,
   "metadata": {},
   "outputs": [
    {
     "name": "stdout",
     "output_type": "stream",
     "text": [
      "<class 'pandas.core.frame.DataFrame'>\n",
      "RangeIndex: 38832 entries, 0 to 38831\n",
      "Data columns (total 17 columns):\n",
      " #   Column     Non-Null Count  Dtype  \n",
      "---  ------     --------------  -----  \n",
      " 0   Tarih      38832 non-null  object \n",
      " 1   İzmir      11784 non-null  float64\n",
      " 2   Aliağa     11784 non-null  float64\n",
      " 3   Çeşme      38832 non-null  float64\n",
      " 4   Bergama    11784 non-null  float64\n",
      " 5   Manisa     38832 non-null  float64\n",
      " 6   Akhisar    38832 non-null  float64\n",
      " 7   Salihli    11784 non-null  float64\n",
      " 8   Çiğli      11784 non-null  float64\n",
      " 9   Menderes   11784 non-null  float64\n",
      " 10  Alaşehir   11472 non-null  float64\n",
      " 11  Demirci    11472 non-null  float64\n",
      " 12  Güzelyalı  38520 non-null  float64\n",
      " 13  Kula       11472 non-null  float64\n",
      " 14  Ödemiş     11472 non-null  float64\n",
      " 15  Soma       11472 non-null  float64\n",
      " 16  Urla       11472 non-null  float64\n",
      "dtypes: float64(16), object(1)\n",
      "memory usage: 5.0+ MB\n"
     ]
    }
   ],
   "source": [
    "df_hum.info()"
   ]
  },
  {
   "cell_type": "code",
   "execution_count": 117,
   "metadata": {},
   "outputs": [
    {
     "data": {
      "text/html": [
       "<pre style=\"white-space:pre;overflow-x:auto;line-height:normal;font-family:Menlo,'DejaVu Sans Mono',consolas,'Courier New',monospace\">╭──────────────────────────────────────────────── skimpy summary ─────────────────────────────────────────────────╮\n",
       "│ <span style=\"font-style: italic\">         Data Summary         </span> <span style=\"font-style: italic\">      Data Types       </span>                                                          │\n",
       "│ ┏━━━━━━━━━━━━━━━━━━━┳━━━━━━━━┓ ┏━━━━━━━━━━━━━┳━━━━━━━┓                                                          │\n",
       "│ ┃<span style=\"color: #008080; text-decoration-color: #008080; font-weight: bold\"> dataframe         </span>┃<span style=\"color: #008080; text-decoration-color: #008080; font-weight: bold\"> Values </span>┃ ┃<span style=\"color: #008080; text-decoration-color: #008080; font-weight: bold\"> Column Type </span>┃<span style=\"color: #008080; text-decoration-color: #008080; font-weight: bold\"> Count </span>┃                                                          │\n",
       "│ ┡━━━━━━━━━━━━━━━━━━━╇━━━━━━━━┩ ┡━━━━━━━━━━━━━╇━━━━━━━┩                                                          │\n",
       "│ │ Number of rows    │ 38832  │ │ float64     │ 16    │                                                          │\n",
       "│ │ Number of columns │ 17     │ │ string      │ 1     │                                                          │\n",
       "│ └───────────────────┴────────┘ └─────────────┴───────┘                                                          │\n",
       "│ <span style=\"font-style: italic\">                                                    number                                                    </span>  │\n",
       "│ ┏━━━━━━━━━━━━━━━━━━┳━━━━━━━━━━┳━━━━━━━━┳━━━━━━━━━━━┳━━━━━━━━━━━┳━━━━━┳━━━━━━━━━┳━━━━━━━━━┳━━━━━━━━━┳━━━━━━━━━┓  │\n",
       "│ ┃<span style=\"font-weight: bold\"> column_name      </span>┃<span style=\"font-weight: bold\"> NA       </span>┃<span style=\"font-weight: bold\"> NA %   </span>┃<span style=\"font-weight: bold\"> mean      </span>┃<span style=\"font-weight: bold\"> sd        </span>┃<span style=\"font-weight: bold\"> p0  </span>┃<span style=\"font-weight: bold\"> p25     </span>┃<span style=\"font-weight: bold\"> p75     </span>┃<span style=\"font-weight: bold\"> p100    </span>┃<span style=\"font-weight: bold\"> hist    </span>┃  │\n",
       "│ ┡━━━━━━━━━━━━━━━━━━╇━━━━━━━━━━╇━━━━━━━━╇━━━━━━━━━━━╇━━━━━━━━━━━╇━━━━━╇━━━━━━━━━╇━━━━━━━━━╇━━━━━━━━━╇━━━━━━━━━┩  │\n",
       "│ │ <span style=\"color: #af87ff; text-decoration-color: #af87ff\">İzmir           </span> │ <span style=\"color: #008080; text-decoration-color: #008080\">   27000</span> │ <span style=\"color: #008080; text-decoration-color: #008080\">    70</span> │ <span style=\"color: #008080; text-decoration-color: #008080\">   0.0067</span> │ <span style=\"color: #008080; text-decoration-color: #008080\">   0.0027</span> │ <span style=\"color: #008080; text-decoration-color: #008080\">  0</span> │ <span style=\"color: #008080; text-decoration-color: #008080\">  0.005</span> │ <span style=\"color: #008080; text-decoration-color: #008080\">  0.009</span> │ <span style=\"color: #008080; text-decoration-color: #008080\">  0.015</span> │ <span style=\"color: #008000; text-decoration-color: #008000\"> ▁▄█▅▃ </span> │  │\n",
       "│ │ <span style=\"color: #af87ff; text-decoration-color: #af87ff\">Aliağa          </span> │ <span style=\"color: #008080; text-decoration-color: #008080\">   27000</span> │ <span style=\"color: #008080; text-decoration-color: #008080\">    70</span> │ <span style=\"color: #008080; text-decoration-color: #008080\">   0.0084</span> │ <span style=\"color: #008080; text-decoration-color: #008080\">   0.0036</span> │ <span style=\"color: #008080; text-decoration-color: #008080\">  0</span> │ <span style=\"color: #008080; text-decoration-color: #008080\">  0.006</span> │ <span style=\"color: #008080; text-decoration-color: #008080\">   0.01</span> │ <span style=\"color: #008080; text-decoration-color: #008080\">  0.017</span> │ <span style=\"color: #008000; text-decoration-color: #008000\">▁▄█▆▃▂ </span> │  │\n",
       "│ │ <span style=\"color: #af87ff; text-decoration-color: #af87ff\">Çeşme           </span> │ <span style=\"color: #008080; text-decoration-color: #008080\">       0</span> │ <span style=\"color: #008080; text-decoration-color: #008080\">     0</span> │ <span style=\"color: #008080; text-decoration-color: #008080\">     0.48</span> │ <span style=\"color: #008080; text-decoration-color: #008080\">     0.34</span> │ <span style=\"color: #008080; text-decoration-color: #008080\">  0</span> │ <span style=\"color: #008080; text-decoration-color: #008080\">  0.014</span> │ <span style=\"color: #008080; text-decoration-color: #008080\">   0.75</span> │ <span style=\"color: #008080; text-decoration-color: #008080\">      1</span> │ <span style=\"color: #008000; text-decoration-color: #008000\">█ ▂▆▇▂ </span> │  │\n",
       "│ │ <span style=\"color: #af87ff; text-decoration-color: #af87ff\">Bergama         </span> │ <span style=\"color: #008080; text-decoration-color: #008080\">   27000</span> │ <span style=\"color: #008080; text-decoration-color: #008080\">    70</span> │ <span style=\"color: #008080; text-decoration-color: #008080\">   0.0067</span> │ <span style=\"color: #008080; text-decoration-color: #008080\">   0.0028</span> │ <span style=\"color: #008080; text-decoration-color: #008080\">  0</span> │ <span style=\"color: #008080; text-decoration-color: #008080\">  0.005</span> │ <span style=\"color: #008080; text-decoration-color: #008080\">  0.009</span> │ <span style=\"color: #008080; text-decoration-color: #008080\">  0.018</span> │ <span style=\"color: #008000; text-decoration-color: #008000\"> ▁▆█▅▁ </span> │  │\n",
       "│ │ <span style=\"color: #af87ff; text-decoration-color: #af87ff\">Manisa          </span> │ <span style=\"color: #008080; text-decoration-color: #008080\">       0</span> │ <span style=\"color: #008080; text-decoration-color: #008080\">     0</span> │ <span style=\"color: #008080; text-decoration-color: #008080\">     0.42</span> │ <span style=\"color: #008080; text-decoration-color: #008080\">     0.32</span> │ <span style=\"color: #008080; text-decoration-color: #008080\">  0</span> │ <span style=\"color: #008080; text-decoration-color: #008080\">  0.008</span> │ <span style=\"color: #008080; text-decoration-color: #008080\">    0.7</span> │ <span style=\"color: #008080; text-decoration-color: #008080\">      1</span> │ <span style=\"color: #008000; text-decoration-color: #008000\">█▁▄▅▅▂ </span> │  │\n",
       "│ │ <span style=\"color: #af87ff; text-decoration-color: #af87ff\">Akhisar         </span> │ <span style=\"color: #008080; text-decoration-color: #008080\">       0</span> │ <span style=\"color: #008080; text-decoration-color: #008080\">     0</span> │ <span style=\"color: #008080; text-decoration-color: #008080\">     0.43</span> │ <span style=\"color: #008080; text-decoration-color: #008080\">     0.33</span> │ <span style=\"color: #008080; text-decoration-color: #008080\">  0</span> │ <span style=\"color: #008080; text-decoration-color: #008080\">  0.008</span> │ <span style=\"color: #008080; text-decoration-color: #008080\">   0.71</span> │ <span style=\"color: #008080; text-decoration-color: #008080\">      1</span> │ <span style=\"color: #008000; text-decoration-color: #008000\">█▂▃▅▅▂ </span> │  │\n",
       "│ │ <span style=\"color: #af87ff; text-decoration-color: #af87ff\">Salihli         </span> │ <span style=\"color: #008080; text-decoration-color: #008080\">   27000</span> │ <span style=\"color: #008080; text-decoration-color: #008080\">    70</span> │ <span style=\"color: #008080; text-decoration-color: #008080\">   0.0066</span> │ <span style=\"color: #008080; text-decoration-color: #008080\">   0.0031</span> │ <span style=\"color: #008080; text-decoration-color: #008080\">  0</span> │ <span style=\"color: #008080; text-decoration-color: #008080\">  0.004</span> │ <span style=\"color: #008080; text-decoration-color: #008080\">  0.008</span> │ <span style=\"color: #008080; text-decoration-color: #008080\">  0.019</span> │ <span style=\"color: #008000; text-decoration-color: #008000\"> ▃█▇▃  </span> │  │\n",
       "│ │ <span style=\"color: #af87ff; text-decoration-color: #af87ff\">Çiğli           </span> │ <span style=\"color: #008080; text-decoration-color: #008080\">   27000</span> │ <span style=\"color: #008080; text-decoration-color: #008080\">    70</span> │ <span style=\"color: #008080; text-decoration-color: #008080\">   0.0083</span> │ <span style=\"color: #008080; text-decoration-color: #008080\">   0.0042</span> │ <span style=\"color: #008080; text-decoration-color: #008080\">  0</span> │ <span style=\"color: #008080; text-decoration-color: #008080\">  0.005</span> │ <span style=\"color: #008080; text-decoration-color: #008080\">   0.01</span> │ <span style=\"color: #008080; text-decoration-color: #008080\">  0.019</span> │ <span style=\"color: #008000; text-decoration-color: #008000\">▃▄█▃▂▂ </span> │  │\n",
       "│ │ <span style=\"color: #af87ff; text-decoration-color: #af87ff\">Menderes        </span> │ <span style=\"color: #008080; text-decoration-color: #008080\">   27000</span> │ <span style=\"color: #008080; text-decoration-color: #008080\">    70</span> │ <span style=\"color: #008080; text-decoration-color: #008080\">   0.0063</span> │ <span style=\"color: #008080; text-decoration-color: #008080\">   0.0027</span> │ <span style=\"color: #008080; text-decoration-color: #008080\">  0</span> │ <span style=\"color: #008080; text-decoration-color: #008080\">  0.004</span> │ <span style=\"color: #008080; text-decoration-color: #008080\">  0.008</span> │ <span style=\"color: #008080; text-decoration-color: #008080\">  0.014</span> │ <span style=\"color: #008000; text-decoration-color: #008000\"> ▂▄█▅▂ </span> │  │\n",
       "│ │ <span style=\"color: #af87ff; text-decoration-color: #af87ff\">Alaşehir        </span> │ <span style=\"color: #008080; text-decoration-color: #008080\">   27000</span> │ <span style=\"color: #008080; text-decoration-color: #008080\">    70</span> │ <span style=\"color: #008080; text-decoration-color: #008080\">   0.0062</span> │ <span style=\"color: #008080; text-decoration-color: #008080\">   0.0027</span> │ <span style=\"color: #008080; text-decoration-color: #008080\">  0</span> │ <span style=\"color: #008080; text-decoration-color: #008080\">  0.004</span> │ <span style=\"color: #008080; text-decoration-color: #008080\">  0.008</span> │ <span style=\"color: #008080; text-decoration-color: #008080\">  0.016</span> │ <span style=\"color: #008000; text-decoration-color: #008000\"> ▂█▆▅▂ </span> │  │\n",
       "│ │ <span style=\"color: #af87ff; text-decoration-color: #af87ff\">Demirci         </span> │ <span style=\"color: #008080; text-decoration-color: #008080\">   27000</span> │ <span style=\"color: #008080; text-decoration-color: #008080\">    70</span> │ <span style=\"color: #008080; text-decoration-color: #008080\">   0.0055</span> │ <span style=\"color: #008080; text-decoration-color: #008080\">   0.0024</span> │ <span style=\"color: #008080; text-decoration-color: #008080\">  0</span> │ <span style=\"color: #008080; text-decoration-color: #008080\">  0.004</span> │ <span style=\"color: #008080; text-decoration-color: #008080\">  0.007</span> │ <span style=\"color: #008080; text-decoration-color: #008080\">  0.013</span> │ <span style=\"color: #008000; text-decoration-color: #008000\"> ▃▇█▆▃ </span> │  │\n",
       "│ │ <span style=\"color: #af87ff; text-decoration-color: #af87ff\">Güzelyalı       </span> │ <span style=\"color: #008080; text-decoration-color: #008080\">     310</span> │ <span style=\"color: #008080; text-decoration-color: #008080\">   0.8</span> │ <span style=\"color: #008080; text-decoration-color: #008080\">     0.41</span> │ <span style=\"color: #008080; text-decoration-color: #008080\">      0.3</span> │ <span style=\"color: #008080; text-decoration-color: #008080\">  0</span> │ <span style=\"color: #008080; text-decoration-color: #008080\">  0.009</span> │ <span style=\"color: #008080; text-decoration-color: #008080\">   0.66</span> │ <span style=\"color: #008080; text-decoration-color: #008080\">      1</span> │ <span style=\"color: #008000; text-decoration-color: #008000\">█▁▅▆▅▁ </span> │  │\n",
       "│ │ <span style=\"color: #af87ff; text-decoration-color: #af87ff\">Kula            </span> │ <span style=\"color: #008080; text-decoration-color: #008080\">   27000</span> │ <span style=\"color: #008080; text-decoration-color: #008080\">    70</span> │ <span style=\"color: #008080; text-decoration-color: #008080\">    0.006</span> │ <span style=\"color: #008080; text-decoration-color: #008080\">   0.0025</span> │ <span style=\"color: #008080; text-decoration-color: #008080\">  0</span> │ <span style=\"color: #008080; text-decoration-color: #008080\">  0.004</span> │ <span style=\"color: #008080; text-decoration-color: #008080\">  0.008</span> │ <span style=\"color: #008080; text-decoration-color: #008080\">  0.016</span> │ <span style=\"color: #008000; text-decoration-color: #008000\"> ▂█▅▅▁ </span> │  │\n",
       "│ │ <span style=\"color: #af87ff; text-decoration-color: #af87ff\">Ödemiş          </span> │ <span style=\"color: #008080; text-decoration-color: #008080\">   27000</span> │ <span style=\"color: #008080; text-decoration-color: #008080\">    70</span> │ <span style=\"color: #008080; text-decoration-color: #008080\">    0.006</span> │ <span style=\"color: #008080; text-decoration-color: #008080\">   0.0025</span> │ <span style=\"color: #008080; text-decoration-color: #008080\">  0</span> │ <span style=\"color: #008080; text-decoration-color: #008080\">  0.004</span> │ <span style=\"color: #008080; text-decoration-color: #008080\">  0.008</span> │ <span style=\"color: #008080; text-decoration-color: #008080\">  0.015</span> │ <span style=\"color: #008000; text-decoration-color: #008000\"> ▁▄█▃▂ </span> │  │\n",
       "│ │ <span style=\"color: #af87ff; text-decoration-color: #af87ff\">Soma            </span> │ <span style=\"color: #008080; text-decoration-color: #008080\">   27000</span> │ <span style=\"color: #008080; text-decoration-color: #008080\">    70</span> │ <span style=\"color: #008080; text-decoration-color: #008080\">   0.0062</span> │ <span style=\"color: #008080; text-decoration-color: #008080\">   0.0026</span> │ <span style=\"color: #008080; text-decoration-color: #008080\">  0</span> │ <span style=\"color: #008080; text-decoration-color: #008080\">  0.004</span> │ <span style=\"color: #008080; text-decoration-color: #008080\">  0.008</span> │ <span style=\"color: #008080; text-decoration-color: #008080\">  0.015</span> │ <span style=\"color: #008000; text-decoration-color: #008000\"> ▁▅█▄▂ </span> │  │\n",
       "│ │ <span style=\"color: #af87ff; text-decoration-color: #af87ff\">Urla            </span> │ <span style=\"color: #008080; text-decoration-color: #008080\">   27000</span> │ <span style=\"color: #008080; text-decoration-color: #008080\">    70</span> │ <span style=\"color: #008080; text-decoration-color: #008080\">   0.0098</span> │ <span style=\"color: #008080; text-decoration-color: #008080\">   0.0034</span> │ <span style=\"color: #008080; text-decoration-color: #008080\">  0</span> │ <span style=\"color: #008080; text-decoration-color: #008080\">  0.008</span> │ <span style=\"color: #008080; text-decoration-color: #008080\">  0.012</span> │ <span style=\"color: #008080; text-decoration-color: #008080\">  0.019</span> │ <span style=\"color: #008000; text-decoration-color: #008000\"> ▃█▅▂▂ </span> │  │\n",
       "│ └──────────────────┴──────────┴────────┴───────────┴───────────┴─────┴─────────┴─────────┴─────────┴─────────┘  │\n",
       "│ <span style=\"font-style: italic\">                                                    string                                                    </span>  │\n",
       "│ ┏━━━━━━━━━━━━━━━━━━━━━━━━━━━┳━━━━━━━━━┳━━━━━━━━━━━━┳━━━━━━━━━━━━━━━━━━━━━━━━━━━━━━┳━━━━━━━━━━━━━━━━━━━━━━━━━━┓  │\n",
       "│ ┃<span style=\"font-weight: bold\"> column_name               </span>┃<span style=\"font-weight: bold\"> NA      </span>┃<span style=\"font-weight: bold\"> NA %       </span>┃<span style=\"font-weight: bold\"> words per row                </span>┃<span style=\"font-weight: bold\"> total words              </span>┃  │\n",
       "│ ┡━━━━━━━━━━━━━━━━━━━━━━━━━━━╇━━━━━━━━━╇━━━━━━━━━━━━╇━━━━━━━━━━━━━━━━━━━━━━━━━━━━━━╇━━━━━━━━━━━━━━━━━━━━━━━━━━┩  │\n",
       "│ │ <span style=\"color: #af87ff; text-decoration-color: #af87ff\">Tarih                    </span> │ <span style=\"color: #008080; text-decoration-color: #008080\">      0</span> │ <span style=\"color: #008080; text-decoration-color: #008080\">         0</span> │ <span style=\"color: #008080; text-decoration-color: #008080\">                           2</span> │ <span style=\"color: #008080; text-decoration-color: #008080\">                   78000</span> │  │\n",
       "│ └───────────────────────────┴─────────┴────────────┴──────────────────────────────┴──────────────────────────┘  │\n",
       "╰────────────────────────────────────────────────────── End ──────────────────────────────────────────────────────╯\n",
       "</pre>\n"
      ],
      "text/plain": [
       "╭──────────────────────────────────────────────── skimpy summary ─────────────────────────────────────────────────╮\n",
       "│ \u001b[3m         Data Summary         \u001b[0m \u001b[3m      Data Types       \u001b[0m                                                          │\n",
       "│ ┏━━━━━━━━━━━━━━━━━━━┳━━━━━━━━┓ ┏━━━━━━━━━━━━━┳━━━━━━━┓                                                          │\n",
       "│ ┃\u001b[1;36m \u001b[0m\u001b[1;36mdataframe        \u001b[0m\u001b[1;36m \u001b[0m┃\u001b[1;36m \u001b[0m\u001b[1;36mValues\u001b[0m\u001b[1;36m \u001b[0m┃ ┃\u001b[1;36m \u001b[0m\u001b[1;36mColumn Type\u001b[0m\u001b[1;36m \u001b[0m┃\u001b[1;36m \u001b[0m\u001b[1;36mCount\u001b[0m\u001b[1;36m \u001b[0m┃                                                          │\n",
       "│ ┡━━━━━━━━━━━━━━━━━━━╇━━━━━━━━┩ ┡━━━━━━━━━━━━━╇━━━━━━━┩                                                          │\n",
       "│ │ Number of rows    │ 38832  │ │ float64     │ 16    │                                                          │\n",
       "│ │ Number of columns │ 17     │ │ string      │ 1     │                                                          │\n",
       "│ └───────────────────┴────────┘ └─────────────┴───────┘                                                          │\n",
       "│ \u001b[3m                                                    number                                                    \u001b[0m  │\n",
       "│ ┏━━━━━━━━━━━━━━━━━━┳━━━━━━━━━━┳━━━━━━━━┳━━━━━━━━━━━┳━━━━━━━━━━━┳━━━━━┳━━━━━━━━━┳━━━━━━━━━┳━━━━━━━━━┳━━━━━━━━━┓  │\n",
       "│ ┃\u001b[1m \u001b[0m\u001b[1mcolumn_name     \u001b[0m\u001b[1m \u001b[0m┃\u001b[1m \u001b[0m\u001b[1mNA      \u001b[0m\u001b[1m \u001b[0m┃\u001b[1m \u001b[0m\u001b[1mNA %  \u001b[0m\u001b[1m \u001b[0m┃\u001b[1m \u001b[0m\u001b[1mmean     \u001b[0m\u001b[1m \u001b[0m┃\u001b[1m \u001b[0m\u001b[1msd       \u001b[0m\u001b[1m \u001b[0m┃\u001b[1m \u001b[0m\u001b[1mp0 \u001b[0m\u001b[1m \u001b[0m┃\u001b[1m \u001b[0m\u001b[1mp25    \u001b[0m\u001b[1m \u001b[0m┃\u001b[1m \u001b[0m\u001b[1mp75    \u001b[0m\u001b[1m \u001b[0m┃\u001b[1m \u001b[0m\u001b[1mp100   \u001b[0m\u001b[1m \u001b[0m┃\u001b[1m \u001b[0m\u001b[1mhist   \u001b[0m\u001b[1m \u001b[0m┃  │\n",
       "│ ┡━━━━━━━━━━━━━━━━━━╇━━━━━━━━━━╇━━━━━━━━╇━━━━━━━━━━━╇━━━━━━━━━━━╇━━━━━╇━━━━━━━━━╇━━━━━━━━━╇━━━━━━━━━╇━━━━━━━━━┩  │\n",
       "│ │ \u001b[38;5;141mİzmir           \u001b[0m │ \u001b[36m   27000\u001b[0m │ \u001b[36m    70\u001b[0m │ \u001b[36m   0.0067\u001b[0m │ \u001b[36m   0.0027\u001b[0m │ \u001b[36m  0\u001b[0m │ \u001b[36m  0.005\u001b[0m │ \u001b[36m  0.009\u001b[0m │ \u001b[36m  0.015\u001b[0m │ \u001b[32m ▁▄█▅▃ \u001b[0m │  │\n",
       "│ │ \u001b[38;5;141mAliağa          \u001b[0m │ \u001b[36m   27000\u001b[0m │ \u001b[36m    70\u001b[0m │ \u001b[36m   0.0084\u001b[0m │ \u001b[36m   0.0036\u001b[0m │ \u001b[36m  0\u001b[0m │ \u001b[36m  0.006\u001b[0m │ \u001b[36m   0.01\u001b[0m │ \u001b[36m  0.017\u001b[0m │ \u001b[32m▁▄█▆▃▂ \u001b[0m │  │\n",
       "│ │ \u001b[38;5;141mÇeşme           \u001b[0m │ \u001b[36m       0\u001b[0m │ \u001b[36m     0\u001b[0m │ \u001b[36m     0.48\u001b[0m │ \u001b[36m     0.34\u001b[0m │ \u001b[36m  0\u001b[0m │ \u001b[36m  0.014\u001b[0m │ \u001b[36m   0.75\u001b[0m │ \u001b[36m      1\u001b[0m │ \u001b[32m█ ▂▆▇▂ \u001b[0m │  │\n",
       "│ │ \u001b[38;5;141mBergama         \u001b[0m │ \u001b[36m   27000\u001b[0m │ \u001b[36m    70\u001b[0m │ \u001b[36m   0.0067\u001b[0m │ \u001b[36m   0.0028\u001b[0m │ \u001b[36m  0\u001b[0m │ \u001b[36m  0.005\u001b[0m │ \u001b[36m  0.009\u001b[0m │ \u001b[36m  0.018\u001b[0m │ \u001b[32m ▁▆█▅▁ \u001b[0m │  │\n",
       "│ │ \u001b[38;5;141mManisa          \u001b[0m │ \u001b[36m       0\u001b[0m │ \u001b[36m     0\u001b[0m │ \u001b[36m     0.42\u001b[0m │ \u001b[36m     0.32\u001b[0m │ \u001b[36m  0\u001b[0m │ \u001b[36m  0.008\u001b[0m │ \u001b[36m    0.7\u001b[0m │ \u001b[36m      1\u001b[0m │ \u001b[32m█▁▄▅▅▂ \u001b[0m │  │\n",
       "│ │ \u001b[38;5;141mAkhisar         \u001b[0m │ \u001b[36m       0\u001b[0m │ \u001b[36m     0\u001b[0m │ \u001b[36m     0.43\u001b[0m │ \u001b[36m     0.33\u001b[0m │ \u001b[36m  0\u001b[0m │ \u001b[36m  0.008\u001b[0m │ \u001b[36m   0.71\u001b[0m │ \u001b[36m      1\u001b[0m │ \u001b[32m█▂▃▅▅▂ \u001b[0m │  │\n",
       "│ │ \u001b[38;5;141mSalihli         \u001b[0m │ \u001b[36m   27000\u001b[0m │ \u001b[36m    70\u001b[0m │ \u001b[36m   0.0066\u001b[0m │ \u001b[36m   0.0031\u001b[0m │ \u001b[36m  0\u001b[0m │ \u001b[36m  0.004\u001b[0m │ \u001b[36m  0.008\u001b[0m │ \u001b[36m  0.019\u001b[0m │ \u001b[32m ▃█▇▃  \u001b[0m │  │\n",
       "│ │ \u001b[38;5;141mÇiğli           \u001b[0m │ \u001b[36m   27000\u001b[0m │ \u001b[36m    70\u001b[0m │ \u001b[36m   0.0083\u001b[0m │ \u001b[36m   0.0042\u001b[0m │ \u001b[36m  0\u001b[0m │ \u001b[36m  0.005\u001b[0m │ \u001b[36m   0.01\u001b[0m │ \u001b[36m  0.019\u001b[0m │ \u001b[32m▃▄█▃▂▂ \u001b[0m │  │\n",
       "│ │ \u001b[38;5;141mMenderes        \u001b[0m │ \u001b[36m   27000\u001b[0m │ \u001b[36m    70\u001b[0m │ \u001b[36m   0.0063\u001b[0m │ \u001b[36m   0.0027\u001b[0m │ \u001b[36m  0\u001b[0m │ \u001b[36m  0.004\u001b[0m │ \u001b[36m  0.008\u001b[0m │ \u001b[36m  0.014\u001b[0m │ \u001b[32m ▂▄█▅▂ \u001b[0m │  │\n",
       "│ │ \u001b[38;5;141mAlaşehir        \u001b[0m │ \u001b[36m   27000\u001b[0m │ \u001b[36m    70\u001b[0m │ \u001b[36m   0.0062\u001b[0m │ \u001b[36m   0.0027\u001b[0m │ \u001b[36m  0\u001b[0m │ \u001b[36m  0.004\u001b[0m │ \u001b[36m  0.008\u001b[0m │ \u001b[36m  0.016\u001b[0m │ \u001b[32m ▂█▆▅▂ \u001b[0m │  │\n",
       "│ │ \u001b[38;5;141mDemirci         \u001b[0m │ \u001b[36m   27000\u001b[0m │ \u001b[36m    70\u001b[0m │ \u001b[36m   0.0055\u001b[0m │ \u001b[36m   0.0024\u001b[0m │ \u001b[36m  0\u001b[0m │ \u001b[36m  0.004\u001b[0m │ \u001b[36m  0.007\u001b[0m │ \u001b[36m  0.013\u001b[0m │ \u001b[32m ▃▇█▆▃ \u001b[0m │  │\n",
       "│ │ \u001b[38;5;141mGüzelyalı       \u001b[0m │ \u001b[36m     310\u001b[0m │ \u001b[36m   0.8\u001b[0m │ \u001b[36m     0.41\u001b[0m │ \u001b[36m      0.3\u001b[0m │ \u001b[36m  0\u001b[0m │ \u001b[36m  0.009\u001b[0m │ \u001b[36m   0.66\u001b[0m │ \u001b[36m      1\u001b[0m │ \u001b[32m█▁▅▆▅▁ \u001b[0m │  │\n",
       "│ │ \u001b[38;5;141mKula            \u001b[0m │ \u001b[36m   27000\u001b[0m │ \u001b[36m    70\u001b[0m │ \u001b[36m    0.006\u001b[0m │ \u001b[36m   0.0025\u001b[0m │ \u001b[36m  0\u001b[0m │ \u001b[36m  0.004\u001b[0m │ \u001b[36m  0.008\u001b[0m │ \u001b[36m  0.016\u001b[0m │ \u001b[32m ▂█▅▅▁ \u001b[0m │  │\n",
       "│ │ \u001b[38;5;141mÖdemiş          \u001b[0m │ \u001b[36m   27000\u001b[0m │ \u001b[36m    70\u001b[0m │ \u001b[36m    0.006\u001b[0m │ \u001b[36m   0.0025\u001b[0m │ \u001b[36m  0\u001b[0m │ \u001b[36m  0.004\u001b[0m │ \u001b[36m  0.008\u001b[0m │ \u001b[36m  0.015\u001b[0m │ \u001b[32m ▁▄█▃▂ \u001b[0m │  │\n",
       "│ │ \u001b[38;5;141mSoma            \u001b[0m │ \u001b[36m   27000\u001b[0m │ \u001b[36m    70\u001b[0m │ \u001b[36m   0.0062\u001b[0m │ \u001b[36m   0.0026\u001b[0m │ \u001b[36m  0\u001b[0m │ \u001b[36m  0.004\u001b[0m │ \u001b[36m  0.008\u001b[0m │ \u001b[36m  0.015\u001b[0m │ \u001b[32m ▁▅█▄▂ \u001b[0m │  │\n",
       "│ │ \u001b[38;5;141mUrla            \u001b[0m │ \u001b[36m   27000\u001b[0m │ \u001b[36m    70\u001b[0m │ \u001b[36m   0.0098\u001b[0m │ \u001b[36m   0.0034\u001b[0m │ \u001b[36m  0\u001b[0m │ \u001b[36m  0.008\u001b[0m │ \u001b[36m  0.012\u001b[0m │ \u001b[36m  0.019\u001b[0m │ \u001b[32m ▃█▅▂▂ \u001b[0m │  │\n",
       "│ └──────────────────┴──────────┴────────┴───────────┴───────────┴─────┴─────────┴─────────┴─────────┴─────────┘  │\n",
       "│ \u001b[3m                                                    string                                                    \u001b[0m  │\n",
       "│ ┏━━━━━━━━━━━━━━━━━━━━━━━━━━━┳━━━━━━━━━┳━━━━━━━━━━━━┳━━━━━━━━━━━━━━━━━━━━━━━━━━━━━━┳━━━━━━━━━━━━━━━━━━━━━━━━━━┓  │\n",
       "│ ┃\u001b[1m \u001b[0m\u001b[1mcolumn_name              \u001b[0m\u001b[1m \u001b[0m┃\u001b[1m \u001b[0m\u001b[1mNA     \u001b[0m\u001b[1m \u001b[0m┃\u001b[1m \u001b[0m\u001b[1mNA %      \u001b[0m\u001b[1m \u001b[0m┃\u001b[1m \u001b[0m\u001b[1mwords per row               \u001b[0m\u001b[1m \u001b[0m┃\u001b[1m \u001b[0m\u001b[1mtotal words             \u001b[0m\u001b[1m \u001b[0m┃  │\n",
       "│ ┡━━━━━━━━━━━━━━━━━━━━━━━━━━━╇━━━━━━━━━╇━━━━━━━━━━━━╇━━━━━━━━━━━━━━━━━━━━━━━━━━━━━━╇━━━━━━━━━━━━━━━━━━━━━━━━━━┩  │\n",
       "│ │ \u001b[38;5;141mTarih                    \u001b[0m │ \u001b[36m      0\u001b[0m │ \u001b[36m         0\u001b[0m │ \u001b[36m                           2\u001b[0m │ \u001b[36m                   78000\u001b[0m │  │\n",
       "│ └───────────────────────────┴─────────┴────────────┴──────────────────────────────┴──────────────────────────┘  │\n",
       "╰────────────────────────────────────────────────────── End ──────────────────────────────────────────────────────╯\n"
      ]
     },
     "metadata": {},
     "output_type": "display_data"
    }
   ],
   "source": [
    "skim(df_hum)"
   ]
  },
  {
   "cell_type": "markdown",
   "metadata": {},
   "source": [
    "### **<span style='color:turquoise'> Cloud </span>** "
   ]
  },
  {
   "cell_type": "markdown",
   "metadata": {},
   "source": [
    "unit = `[0:1]`"
   ]
  },
  {
   "cell_type": "code",
   "execution_count": 118,
   "metadata": {},
   "outputs": [],
   "source": [
    "df4 = pd.read_csv(\"Weather_Bulutluluk-Orani.csv\")\n",
    "df_cloud = df4.copy()"
   ]
  },
  {
   "cell_type": "code",
   "execution_count": 119,
   "metadata": {},
   "outputs": [
    {
     "data": {
      "text/html": [
       "<div>\n",
       "<style scoped>\n",
       "    .dataframe tbody tr th:only-of-type {\n",
       "        vertical-align: middle;\n",
       "    }\n",
       "\n",
       "    .dataframe tbody tr th {\n",
       "        vertical-align: top;\n",
       "    }\n",
       "\n",
       "    .dataframe thead th {\n",
       "        text-align: right;\n",
       "    }\n",
       "</style>\n",
       "<table border=\"1\" class=\"dataframe\">\n",
       "  <thead>\n",
       "    <tr style=\"text-align: right;\">\n",
       "      <th></th>\n",
       "      <th>Tarih</th>\n",
       "      <th>İzmir</th>\n",
       "      <th>Aliağa</th>\n",
       "      <th>Çeşme</th>\n",
       "      <th>Bergama</th>\n",
       "      <th>Manisa</th>\n",
       "      <th>Akhisar</th>\n",
       "      <th>Salihli</th>\n",
       "      <th>Çiğli</th>\n",
       "      <th>Menderes</th>\n",
       "      <th>Alaşehir</th>\n",
       "      <th>Demirci</th>\n",
       "      <th>Güzelyalı</th>\n",
       "      <th>Kula</th>\n",
       "      <th>Ödemiş</th>\n",
       "      <th>Soma</th>\n",
       "      <th>Urla</th>\n",
       "    </tr>\n",
       "  </thead>\n",
       "  <tbody>\n",
       "    <tr>\n",
       "      <th>0</th>\n",
       "      <td>2021-02-01 00:00:00</td>\n",
       "      <td>0.640</td>\n",
       "      <td>0.240</td>\n",
       "      <td>0.560</td>\n",
       "      <td>0.440</td>\n",
       "      <td>0.240</td>\n",
       "      <td>0.320</td>\n",
       "      <td>0.000</td>\n",
       "      <td>0.680</td>\n",
       "      <td>0.360</td>\n",
       "      <td>NaN</td>\n",
       "      <td>NaN</td>\n",
       "      <td>NaN</td>\n",
       "      <td>NaN</td>\n",
       "      <td>NaN</td>\n",
       "      <td>NaN</td>\n",
       "      <td>NaN</td>\n",
       "    </tr>\n",
       "    <tr>\n",
       "      <th>1</th>\n",
       "      <td>2021-02-01 01:00:00</td>\n",
       "      <td>0.680</td>\n",
       "      <td>0.320</td>\n",
       "      <td>0.533</td>\n",
       "      <td>0.320</td>\n",
       "      <td>0.307</td>\n",
       "      <td>0.360</td>\n",
       "      <td>0.160</td>\n",
       "      <td>0.707</td>\n",
       "      <td>0.427</td>\n",
       "      <td>NaN</td>\n",
       "      <td>NaN</td>\n",
       "      <td>NaN</td>\n",
       "      <td>NaN</td>\n",
       "      <td>NaN</td>\n",
       "      <td>NaN</td>\n",
       "      <td>NaN</td>\n",
       "    </tr>\n",
       "    <tr>\n",
       "      <th>2</th>\n",
       "      <td>2021-02-01 02:00:00</td>\n",
       "      <td>0.720</td>\n",
       "      <td>0.400</td>\n",
       "      <td>0.507</td>\n",
       "      <td>0.200</td>\n",
       "      <td>0.373</td>\n",
       "      <td>0.400</td>\n",
       "      <td>0.320</td>\n",
       "      <td>0.733</td>\n",
       "      <td>0.493</td>\n",
       "      <td>NaN</td>\n",
       "      <td>NaN</td>\n",
       "      <td>NaN</td>\n",
       "      <td>NaN</td>\n",
       "      <td>NaN</td>\n",
       "      <td>NaN</td>\n",
       "      <td>NaN</td>\n",
       "    </tr>\n",
       "    <tr>\n",
       "      <th>3</th>\n",
       "      <td>2021-02-01 03:00:00</td>\n",
       "      <td>0.560</td>\n",
       "      <td>0.640</td>\n",
       "      <td>0.320</td>\n",
       "      <td>0.240</td>\n",
       "      <td>0.480</td>\n",
       "      <td>0.320</td>\n",
       "      <td>0.360</td>\n",
       "      <td>0.560</td>\n",
       "      <td>0.200</td>\n",
       "      <td>NaN</td>\n",
       "      <td>NaN</td>\n",
       "      <td>NaN</td>\n",
       "      <td>NaN</td>\n",
       "      <td>NaN</td>\n",
       "      <td>NaN</td>\n",
       "      <td>NaN</td>\n",
       "    </tr>\n",
       "    <tr>\n",
       "      <th>4</th>\n",
       "      <td>2021-02-01 04:00:00</td>\n",
       "      <td>0.627</td>\n",
       "      <td>0.693</td>\n",
       "      <td>0.360</td>\n",
       "      <td>0.267</td>\n",
       "      <td>0.573</td>\n",
       "      <td>0.467</td>\n",
       "      <td>0.467</td>\n",
       "      <td>0.627</td>\n",
       "      <td>0.347</td>\n",
       "      <td>NaN</td>\n",
       "      <td>NaN</td>\n",
       "      <td>NaN</td>\n",
       "      <td>NaN</td>\n",
       "      <td>NaN</td>\n",
       "      <td>NaN</td>\n",
       "      <td>NaN</td>\n",
       "    </tr>\n",
       "  </tbody>\n",
       "</table>\n",
       "</div>"
      ],
      "text/plain": [
       "                 Tarih  İzmir  Aliağa  Çeşme  Bergama  Manisa  Akhisar  \\\n",
       "0  2021-02-01 00:00:00  0.640   0.240  0.560    0.440   0.240    0.320   \n",
       "1  2021-02-01 01:00:00  0.680   0.320  0.533    0.320   0.307    0.360   \n",
       "2  2021-02-01 02:00:00  0.720   0.400  0.507    0.200   0.373    0.400   \n",
       "3  2021-02-01 03:00:00  0.560   0.640  0.320    0.240   0.480    0.320   \n",
       "4  2021-02-01 04:00:00  0.627   0.693  0.360    0.267   0.573    0.467   \n",
       "\n",
       "   Salihli  Çiğli  Menderes  Alaşehir  Demirci  Güzelyalı  Kula  Ödemiş  Soma  \\\n",
       "0    0.000  0.680     0.360       NaN      NaN        NaN   NaN     NaN   NaN   \n",
       "1    0.160  0.707     0.427       NaN      NaN        NaN   NaN     NaN   NaN   \n",
       "2    0.320  0.733     0.493       NaN      NaN        NaN   NaN     NaN   NaN   \n",
       "3    0.360  0.560     0.200       NaN      NaN        NaN   NaN     NaN   NaN   \n",
       "4    0.467  0.627     0.347       NaN      NaN        NaN   NaN     NaN   NaN   \n",
       "\n",
       "   Urla  \n",
       "0   NaN  \n",
       "1   NaN  \n",
       "2   NaN  \n",
       "3   NaN  \n",
       "4   NaN  "
      ]
     },
     "execution_count": 119,
     "metadata": {},
     "output_type": "execute_result"
    }
   ],
   "source": [
    "df_cloud.head()"
   ]
  },
  {
   "cell_type": "code",
   "execution_count": 120,
   "metadata": {},
   "outputs": [
    {
     "data": {
      "text/plain": [
       "(38832, 17)"
      ]
     },
     "execution_count": 120,
     "metadata": {},
     "output_type": "execute_result"
    }
   ],
   "source": [
    "df_cloud.shape"
   ]
  },
  {
   "cell_type": "code",
   "execution_count": 121,
   "metadata": {},
   "outputs": [
    {
     "name": "stdout",
     "output_type": "stream",
     "text": [
      "<class 'pandas.core.frame.DataFrame'>\n",
      "RangeIndex: 38832 entries, 0 to 38831\n",
      "Data columns (total 17 columns):\n",
      " #   Column     Non-Null Count  Dtype  \n",
      "---  ------     --------------  -----  \n",
      " 0   Tarih      38832 non-null  object \n",
      " 1   İzmir      11784 non-null  float64\n",
      " 2   Aliağa     11784 non-null  float64\n",
      " 3   Çeşme      38832 non-null  float64\n",
      " 4   Bergama    11784 non-null  float64\n",
      " 5   Manisa     38832 non-null  float64\n",
      " 6   Akhisar    38832 non-null  float64\n",
      " 7   Salihli    11784 non-null  float64\n",
      " 8   Çiğli      11784 non-null  float64\n",
      " 9   Menderes   11784 non-null  float64\n",
      " 10  Alaşehir   11472 non-null  float64\n",
      " 11  Demirci    11472 non-null  float64\n",
      " 12  Güzelyalı  38520 non-null  float64\n",
      " 13  Kula       11472 non-null  float64\n",
      " 14  Ödemiş     11472 non-null  float64\n",
      " 15  Soma       11472 non-null  float64\n",
      " 16  Urla       11472 non-null  float64\n",
      "dtypes: float64(16), object(1)\n",
      "memory usage: 5.0+ MB\n"
     ]
    }
   ],
   "source": [
    "df_cloud.info()"
   ]
  },
  {
   "cell_type": "code",
   "execution_count": 122,
   "metadata": {},
   "outputs": [
    {
     "data": {
      "text/html": [
       "<pre style=\"white-space:pre;overflow-x:auto;line-height:normal;font-family:Menlo,'DejaVu Sans Mono',consolas,'Courier New',monospace\">╭──────────────────────────────────────────────── skimpy summary ─────────────────────────────────────────────────╮\n",
       "│ <span style=\"font-style: italic\">         Data Summary         </span> <span style=\"font-style: italic\">      Data Types       </span>                                                          │\n",
       "│ ┏━━━━━━━━━━━━━━━━━━━┳━━━━━━━━┓ ┏━━━━━━━━━━━━━┳━━━━━━━┓                                                          │\n",
       "│ ┃<span style=\"color: #008080; text-decoration-color: #008080; font-weight: bold\"> dataframe         </span>┃<span style=\"color: #008080; text-decoration-color: #008080; font-weight: bold\"> Values </span>┃ ┃<span style=\"color: #008080; text-decoration-color: #008080; font-weight: bold\"> Column Type </span>┃<span style=\"color: #008080; text-decoration-color: #008080; font-weight: bold\"> Count </span>┃                                                          │\n",
       "│ ┡━━━━━━━━━━━━━━━━━━━╇━━━━━━━━┩ ┡━━━━━━━━━━━━━╇━━━━━━━┩                                                          │\n",
       "│ │ Number of rows    │ 38832  │ │ float64     │ 16    │                                                          │\n",
       "│ │ Number of columns │ 17     │ │ string      │ 1     │                                                          │\n",
       "│ └───────────────────┴────────┘ └─────────────┴───────┘                                                          │\n",
       "│ <span style=\"font-style: italic\">                                                    number                                                    </span>  │\n",
       "│ ┏━━━━━━━━━━━━━━━━━━━━┳━━━━━━━━━━━┳━━━━━━━━━┳━━━━━━━━━┳━━━━━━━━━┳━━━━━━┳━━━━━━━┳━━━━━━━━━┳━━━━━━━━━┳━━━━━━━━━━┓  │\n",
       "│ ┃<span style=\"font-weight: bold\"> column_name        </span>┃<span style=\"font-weight: bold\"> NA        </span>┃<span style=\"font-weight: bold\"> NA %    </span>┃<span style=\"font-weight: bold\"> mean    </span>┃<span style=\"font-weight: bold\"> sd      </span>┃<span style=\"font-weight: bold\"> p0   </span>┃<span style=\"font-weight: bold\"> p25   </span>┃<span style=\"font-weight: bold\"> p75     </span>┃<span style=\"font-weight: bold\"> p100    </span>┃<span style=\"font-weight: bold\"> hist     </span>┃  │\n",
       "│ ┡━━━━━━━━━━━━━━━━━━━━╇━━━━━━━━━━━╇━━━━━━━━━╇━━━━━━━━━╇━━━━━━━━━╇━━━━━━╇━━━━━━━╇━━━━━━━━━╇━━━━━━━━━╇━━━━━━━━━━┩  │\n",
       "│ │ <span style=\"color: #af87ff; text-decoration-color: #af87ff\">İzmir             </span> │ <span style=\"color: #008080; text-decoration-color: #008080\">    27000</span> │ <span style=\"color: #008080; text-decoration-color: #008080\">     70</span> │ <span style=\"color: #008080; text-decoration-color: #008080\">   0.22</span> │ <span style=\"color: #008080; text-decoration-color: #008080\">   0.31</span> │ <span style=\"color: #008080; text-decoration-color: #008080\">   0</span> │ <span style=\"color: #008080; text-decoration-color: #008080\">    0</span> │ <span style=\"color: #008080; text-decoration-color: #008080\">   0.43</span> │ <span style=\"color: #008080; text-decoration-color: #008080\">   0.92</span> │ <span style=\"color: #008000; text-decoration-color: #008000\"> █▁▁▁▁▁ </span> │  │\n",
       "│ │ <span style=\"color: #af87ff; text-decoration-color: #af87ff\">Aliağa            </span> │ <span style=\"color: #008080; text-decoration-color: #008080\">    27000</span> │ <span style=\"color: #008080; text-decoration-color: #008080\">     70</span> │ <span style=\"color: #008080; text-decoration-color: #008080\">   0.18</span> │ <span style=\"color: #008080; text-decoration-color: #008080\">   0.29</span> │ <span style=\"color: #008080; text-decoration-color: #008080\">   0</span> │ <span style=\"color: #008080; text-decoration-color: #008080\">    0</span> │ <span style=\"color: #008080; text-decoration-color: #008080\">   0.28</span> │ <span style=\"color: #008080; text-decoration-color: #008080\">   0.92</span> │ <span style=\"color: #008000; text-decoration-color: #008000\"> █▁▁▁▁▁ </span> │  │\n",
       "│ │ <span style=\"color: #af87ff; text-decoration-color: #af87ff\">Çeşme             </span> │ <span style=\"color: #008080; text-decoration-color: #008080\">        0</span> │ <span style=\"color: #008080; text-decoration-color: #008080\">      0</span> │ <span style=\"color: #008080; text-decoration-color: #008080\">   0.25</span> │ <span style=\"color: #008080; text-decoration-color: #008080\">    0.3</span> │ <span style=\"color: #008080; text-decoration-color: #008080\">   0</span> │ <span style=\"color: #008080; text-decoration-color: #008080\">    0</span> │ <span style=\"color: #008080; text-decoration-color: #008080\">    0.4</span> │ <span style=\"color: #008080; text-decoration-color: #008080\">      1</span> │ <span style=\"color: #008000; text-decoration-color: #008000\"> █▂▁▁▁▁ </span> │  │\n",
       "│ │ <span style=\"color: #af87ff; text-decoration-color: #af87ff\">Bergama           </span> │ <span style=\"color: #008080; text-decoration-color: #008080\">    27000</span> │ <span style=\"color: #008080; text-decoration-color: #008080\">     70</span> │ <span style=\"color: #008080; text-decoration-color: #008080\">    0.2</span> │ <span style=\"color: #008080; text-decoration-color: #008080\">    0.3</span> │ <span style=\"color: #008080; text-decoration-color: #008080\">   0</span> │ <span style=\"color: #008080; text-decoration-color: #008080\">    0</span> │ <span style=\"color: #008080; text-decoration-color: #008080\">   0.36</span> │ <span style=\"color: #008080; text-decoration-color: #008080\">   0.92</span> │ <span style=\"color: #008000; text-decoration-color: #008000\"> █▁▁▁▁▁ </span> │  │\n",
       "│ │ <span style=\"color: #af87ff; text-decoration-color: #af87ff\">Manisa            </span> │ <span style=\"color: #008080; text-decoration-color: #008080\">        0</span> │ <span style=\"color: #008080; text-decoration-color: #008080\">      0</span> │ <span style=\"color: #008080; text-decoration-color: #008080\">    0.3</span> │ <span style=\"color: #008080; text-decoration-color: #008080\">   0.32</span> │ <span style=\"color: #008080; text-decoration-color: #008080\">   0</span> │ <span style=\"color: #008080; text-decoration-color: #008080\">    0</span> │ <span style=\"color: #008080; text-decoration-color: #008080\">   0.53</span> │ <span style=\"color: #008080; text-decoration-color: #008080\">      1</span> │ <span style=\"color: #008000; text-decoration-color: #008000\"> █▂▁▂▁▂ </span> │  │\n",
       "│ │ <span style=\"color: #af87ff; text-decoration-color: #af87ff\">Akhisar           </span> │ <span style=\"color: #008080; text-decoration-color: #008080\">        0</span> │ <span style=\"color: #008080; text-decoration-color: #008080\">      0</span> │ <span style=\"color: #008080; text-decoration-color: #008080\">   0.28</span> │ <span style=\"color: #008080; text-decoration-color: #008080\">   0.32</span> │ <span style=\"color: #008080; text-decoration-color: #008080\">   0</span> │ <span style=\"color: #008080; text-decoration-color: #008080\">    0</span> │ <span style=\"color: #008080; text-decoration-color: #008080\">    0.5</span> │ <span style=\"color: #008080; text-decoration-color: #008080\">      1</span> │ <span style=\"color: #008000; text-decoration-color: #008000\"> █▂▁▁▁▁ </span> │  │\n",
       "│ │ <span style=\"color: #af87ff; text-decoration-color: #af87ff\">Salihli           </span> │ <span style=\"color: #008080; text-decoration-color: #008080\">    27000</span> │ <span style=\"color: #008080; text-decoration-color: #008080\">     70</span> │ <span style=\"color: #008080; text-decoration-color: #008080\">   0.19</span> │ <span style=\"color: #008080; text-decoration-color: #008080\">   0.29</span> │ <span style=\"color: #008080; text-decoration-color: #008080\">   0</span> │ <span style=\"color: #008080; text-decoration-color: #008080\">    0</span> │ <span style=\"color: #008080; text-decoration-color: #008080\">   0.31</span> │ <span style=\"color: #008080; text-decoration-color: #008080\">   0.96</span> │ <span style=\"color: #008000; text-decoration-color: #008000\"> █▁▁▁▁▁ </span> │  │\n",
       "│ │ <span style=\"color: #af87ff; text-decoration-color: #af87ff\">Çiğli             </span> │ <span style=\"color: #008080; text-decoration-color: #008080\">    27000</span> │ <span style=\"color: #008080; text-decoration-color: #008080\">     70</span> │ <span style=\"color: #008080; text-decoration-color: #008080\">   0.19</span> │ <span style=\"color: #008080; text-decoration-color: #008080\">   0.31</span> │ <span style=\"color: #008080; text-decoration-color: #008080\">   0</span> │ <span style=\"color: #008080; text-decoration-color: #008080\">    0</span> │ <span style=\"color: #008080; text-decoration-color: #008080\">   0.32</span> │ <span style=\"color: #008080; text-decoration-color: #008080\">   0.92</span> │ <span style=\"color: #008000; text-decoration-color: #008000\"> █▁▁▁▁▁ </span> │  │\n",
       "│ │ <span style=\"color: #af87ff; text-decoration-color: #af87ff\">Menderes          </span> │ <span style=\"color: #008080; text-decoration-color: #008080\">    27000</span> │ <span style=\"color: #008080; text-decoration-color: #008080\">     70</span> │ <span style=\"color: #008080; text-decoration-color: #008080\">    0.2</span> │ <span style=\"color: #008080; text-decoration-color: #008080\">    0.3</span> │ <span style=\"color: #008080; text-decoration-color: #008080\">   0</span> │ <span style=\"color: #008080; text-decoration-color: #008080\">    0</span> │ <span style=\"color: #008080; text-decoration-color: #008080\">   0.32</span> │ <span style=\"color: #008080; text-decoration-color: #008080\">      1</span> │ <span style=\"color: #008000; text-decoration-color: #008000\"> █▁▁▁▁▁ </span> │  │\n",
       "│ │ <span style=\"color: #af87ff; text-decoration-color: #af87ff\">Alaşehir          </span> │ <span style=\"color: #008080; text-decoration-color: #008080\">    27000</span> │ <span style=\"color: #008080; text-decoration-color: #008080\">     70</span> │ <span style=\"color: #008080; text-decoration-color: #008080\">   0.16</span> │ <span style=\"color: #008080; text-decoration-color: #008080\">   0.27</span> │ <span style=\"color: #008080; text-decoration-color: #008080\">   0</span> │ <span style=\"color: #008080; text-decoration-color: #008080\">    0</span> │ <span style=\"color: #008080; text-decoration-color: #008080\">   0.24</span> │ <span style=\"color: #008080; text-decoration-color: #008080\">   0.92</span> │ <span style=\"color: #008000; text-decoration-color: #008000\"> █▁▁▁▁▁ </span> │  │\n",
       "│ │ <span style=\"color: #af87ff; text-decoration-color: #af87ff\">Demirci           </span> │ <span style=\"color: #008080; text-decoration-color: #008080\">    27000</span> │ <span style=\"color: #008080; text-decoration-color: #008080\">     70</span> │ <span style=\"color: #008080; text-decoration-color: #008080\">   0.23</span> │ <span style=\"color: #008080; text-decoration-color: #008080\">   0.32</span> │ <span style=\"color: #008080; text-decoration-color: #008080\">   0</span> │ <span style=\"color: #008080; text-decoration-color: #008080\">    0</span> │ <span style=\"color: #008080; text-decoration-color: #008080\">   0.44</span> │ <span style=\"color: #008080; text-decoration-color: #008080\">   0.96</span> │ <span style=\"color: #008000; text-decoration-color: #008000\"> █▁▁▁▁▂ </span> │  │\n",
       "│ │ <span style=\"color: #af87ff; text-decoration-color: #af87ff\">Güzelyalı         </span> │ <span style=\"color: #008080; text-decoration-color: #008080\">      310</span> │ <span style=\"color: #008080; text-decoration-color: #008080\">    0.8</span> │ <span style=\"color: #008080; text-decoration-color: #008080\">   0.26</span> │ <span style=\"color: #008080; text-decoration-color: #008080\">   0.32</span> │ <span style=\"color: #008080; text-decoration-color: #008080\">   0</span> │ <span style=\"color: #008080; text-decoration-color: #008080\">    0</span> │ <span style=\"color: #008080; text-decoration-color: #008080\">   0.48</span> │ <span style=\"color: #008080; text-decoration-color: #008080\">      1</span> │ <span style=\"color: #008000; text-decoration-color: #008000\"> █▂▁▁▁▁ </span> │  │\n",
       "│ │ <span style=\"color: #af87ff; text-decoration-color: #af87ff\">Kula              </span> │ <span style=\"color: #008080; text-decoration-color: #008080\">    27000</span> │ <span style=\"color: #008080; text-decoration-color: #008080\">     70</span> │ <span style=\"color: #008080; text-decoration-color: #008080\">   0.22</span> │ <span style=\"color: #008080; text-decoration-color: #008080\">   0.31</span> │ <span style=\"color: #008080; text-decoration-color: #008080\">   0</span> │ <span style=\"color: #008080; text-decoration-color: #008080\">    0</span> │ <span style=\"color: #008080; text-decoration-color: #008080\">   0.43</span> │ <span style=\"color: #008080; text-decoration-color: #008080\">   0.96</span> │ <span style=\"color: #008000; text-decoration-color: #008000\"> █▁▁▁▁▁ </span> │  │\n",
       "│ │ <span style=\"color: #af87ff; text-decoration-color: #af87ff\">Ödemiş            </span> │ <span style=\"color: #008080; text-decoration-color: #008080\">    27000</span> │ <span style=\"color: #008080; text-decoration-color: #008080\">     70</span> │ <span style=\"color: #008080; text-decoration-color: #008080\">    0.2</span> │ <span style=\"color: #008080; text-decoration-color: #008080\">    0.3</span> │ <span style=\"color: #008080; text-decoration-color: #008080\">   0</span> │ <span style=\"color: #008080; text-decoration-color: #008080\">    0</span> │ <span style=\"color: #008080; text-decoration-color: #008080\">   0.36</span> │ <span style=\"color: #008080; text-decoration-color: #008080\">   0.96</span> │ <span style=\"color: #008000; text-decoration-color: #008000\"> █▁▁▁▁▁ </span> │  │\n",
       "│ │ <span style=\"color: #af87ff; text-decoration-color: #af87ff\">Soma              </span> │ <span style=\"color: #008080; text-decoration-color: #008080\">    27000</span> │ <span style=\"color: #008080; text-decoration-color: #008080\">     70</span> │ <span style=\"color: #008080; text-decoration-color: #008080\">   0.24</span> │ <span style=\"color: #008080; text-decoration-color: #008080\">   0.33</span> │ <span style=\"color: #008080; text-decoration-color: #008080\">   0</span> │ <span style=\"color: #008080; text-decoration-color: #008080\">    0</span> │ <span style=\"color: #008080; text-decoration-color: #008080\">   0.48</span> │ <span style=\"color: #008080; text-decoration-color: #008080\">   0.96</span> │ <span style=\"color: #008000; text-decoration-color: #008000\"> █▁▁▁▁▂ </span> │  │\n",
       "│ │ <span style=\"color: #af87ff; text-decoration-color: #af87ff\">Urla              </span> │ <span style=\"color: #008080; text-decoration-color: #008080\">    27000</span> │ <span style=\"color: #008080; text-decoration-color: #008080\">     70</span> │ <span style=\"color: #008080; text-decoration-color: #008080\">   0.18</span> │ <span style=\"color: #008080; text-decoration-color: #008080\">   0.29</span> │ <span style=\"color: #008080; text-decoration-color: #008080\">   0</span> │ <span style=\"color: #008080; text-decoration-color: #008080\">    0</span> │ <span style=\"color: #008080; text-decoration-color: #008080\">   0.29</span> │ <span style=\"color: #008080; text-decoration-color: #008080\">   0.92</span> │ <span style=\"color: #008000; text-decoration-color: #008000\"> █▁▁▁▁▁ </span> │  │\n",
       "│ └────────────────────┴───────────┴─────────┴─────────┴─────────┴──────┴───────┴─────────┴─────────┴──────────┘  │\n",
       "│ <span style=\"font-style: italic\">                                                    string                                                    </span>  │\n",
       "│ ┏━━━━━━━━━━━━━━━━━━━━━━━━━━━┳━━━━━━━━━┳━━━━━━━━━━━━┳━━━━━━━━━━━━━━━━━━━━━━━━━━━━━━┳━━━━━━━━━━━━━━━━━━━━━━━━━━┓  │\n",
       "│ ┃<span style=\"font-weight: bold\"> column_name               </span>┃<span style=\"font-weight: bold\"> NA      </span>┃<span style=\"font-weight: bold\"> NA %       </span>┃<span style=\"font-weight: bold\"> words per row                </span>┃<span style=\"font-weight: bold\"> total words              </span>┃  │\n",
       "│ ┡━━━━━━━━━━━━━━━━━━━━━━━━━━━╇━━━━━━━━━╇━━━━━━━━━━━━╇━━━━━━━━━━━━━━━━━━━━━━━━━━━━━━╇━━━━━━━━━━━━━━━━━━━━━━━━━━┩  │\n",
       "│ │ <span style=\"color: #af87ff; text-decoration-color: #af87ff\">Tarih                    </span> │ <span style=\"color: #008080; text-decoration-color: #008080\">      0</span> │ <span style=\"color: #008080; text-decoration-color: #008080\">         0</span> │ <span style=\"color: #008080; text-decoration-color: #008080\">                           2</span> │ <span style=\"color: #008080; text-decoration-color: #008080\">                   78000</span> │  │\n",
       "│ └───────────────────────────┴─────────┴────────────┴──────────────────────────────┴──────────────────────────┘  │\n",
       "╰────────────────────────────────────────────────────── End ──────────────────────────────────────────────────────╯\n",
       "</pre>\n"
      ],
      "text/plain": [
       "╭──────────────────────────────────────────────── skimpy summary ─────────────────────────────────────────────────╮\n",
       "│ \u001b[3m         Data Summary         \u001b[0m \u001b[3m      Data Types       \u001b[0m                                                          │\n",
       "│ ┏━━━━━━━━━━━━━━━━━━━┳━━━━━━━━┓ ┏━━━━━━━━━━━━━┳━━━━━━━┓                                                          │\n",
       "│ ┃\u001b[1;36m \u001b[0m\u001b[1;36mdataframe        \u001b[0m\u001b[1;36m \u001b[0m┃\u001b[1;36m \u001b[0m\u001b[1;36mValues\u001b[0m\u001b[1;36m \u001b[0m┃ ┃\u001b[1;36m \u001b[0m\u001b[1;36mColumn Type\u001b[0m\u001b[1;36m \u001b[0m┃\u001b[1;36m \u001b[0m\u001b[1;36mCount\u001b[0m\u001b[1;36m \u001b[0m┃                                                          │\n",
       "│ ┡━━━━━━━━━━━━━━━━━━━╇━━━━━━━━┩ ┡━━━━━━━━━━━━━╇━━━━━━━┩                                                          │\n",
       "│ │ Number of rows    │ 38832  │ │ float64     │ 16    │                                                          │\n",
       "│ │ Number of columns │ 17     │ │ string      │ 1     │                                                          │\n",
       "│ └───────────────────┴────────┘ └─────────────┴───────┘                                                          │\n",
       "│ \u001b[3m                                                    number                                                    \u001b[0m  │\n",
       "│ ┏━━━━━━━━━━━━━━━━━━━━┳━━━━━━━━━━━┳━━━━━━━━━┳━━━━━━━━━┳━━━━━━━━━┳━━━━━━┳━━━━━━━┳━━━━━━━━━┳━━━━━━━━━┳━━━━━━━━━━┓  │\n",
       "│ ┃\u001b[1m \u001b[0m\u001b[1mcolumn_name       \u001b[0m\u001b[1m \u001b[0m┃\u001b[1m \u001b[0m\u001b[1mNA       \u001b[0m\u001b[1m \u001b[0m┃\u001b[1m \u001b[0m\u001b[1mNA %   \u001b[0m\u001b[1m \u001b[0m┃\u001b[1m \u001b[0m\u001b[1mmean   \u001b[0m\u001b[1m \u001b[0m┃\u001b[1m \u001b[0m\u001b[1msd     \u001b[0m\u001b[1m \u001b[0m┃\u001b[1m \u001b[0m\u001b[1mp0  \u001b[0m\u001b[1m \u001b[0m┃\u001b[1m \u001b[0m\u001b[1mp25  \u001b[0m\u001b[1m \u001b[0m┃\u001b[1m \u001b[0m\u001b[1mp75    \u001b[0m\u001b[1m \u001b[0m┃\u001b[1m \u001b[0m\u001b[1mp100   \u001b[0m\u001b[1m \u001b[0m┃\u001b[1m \u001b[0m\u001b[1mhist    \u001b[0m\u001b[1m \u001b[0m┃  │\n",
       "│ ┡━━━━━━━━━━━━━━━━━━━━╇━━━━━━━━━━━╇━━━━━━━━━╇━━━━━━━━━╇━━━━━━━━━╇━━━━━━╇━━━━━━━╇━━━━━━━━━╇━━━━━━━━━╇━━━━━━━━━━┩  │\n",
       "│ │ \u001b[38;5;141mİzmir             \u001b[0m │ \u001b[36m    27000\u001b[0m │ \u001b[36m     70\u001b[0m │ \u001b[36m   0.22\u001b[0m │ \u001b[36m   0.31\u001b[0m │ \u001b[36m   0\u001b[0m │ \u001b[36m    0\u001b[0m │ \u001b[36m   0.43\u001b[0m │ \u001b[36m   0.92\u001b[0m │ \u001b[32m █▁▁▁▁▁ \u001b[0m │  │\n",
       "│ │ \u001b[38;5;141mAliağa            \u001b[0m │ \u001b[36m    27000\u001b[0m │ \u001b[36m     70\u001b[0m │ \u001b[36m   0.18\u001b[0m │ \u001b[36m   0.29\u001b[0m │ \u001b[36m   0\u001b[0m │ \u001b[36m    0\u001b[0m │ \u001b[36m   0.28\u001b[0m │ \u001b[36m   0.92\u001b[0m │ \u001b[32m █▁▁▁▁▁ \u001b[0m │  │\n",
       "│ │ \u001b[38;5;141mÇeşme             \u001b[0m │ \u001b[36m        0\u001b[0m │ \u001b[36m      0\u001b[0m │ \u001b[36m   0.25\u001b[0m │ \u001b[36m    0.3\u001b[0m │ \u001b[36m   0\u001b[0m │ \u001b[36m    0\u001b[0m │ \u001b[36m    0.4\u001b[0m │ \u001b[36m      1\u001b[0m │ \u001b[32m █▂▁▁▁▁ \u001b[0m │  │\n",
       "│ │ \u001b[38;5;141mBergama           \u001b[0m │ \u001b[36m    27000\u001b[0m │ \u001b[36m     70\u001b[0m │ \u001b[36m    0.2\u001b[0m │ \u001b[36m    0.3\u001b[0m │ \u001b[36m   0\u001b[0m │ \u001b[36m    0\u001b[0m │ \u001b[36m   0.36\u001b[0m │ \u001b[36m   0.92\u001b[0m │ \u001b[32m █▁▁▁▁▁ \u001b[0m │  │\n",
       "│ │ \u001b[38;5;141mManisa            \u001b[0m │ \u001b[36m        0\u001b[0m │ \u001b[36m      0\u001b[0m │ \u001b[36m    0.3\u001b[0m │ \u001b[36m   0.32\u001b[0m │ \u001b[36m   0\u001b[0m │ \u001b[36m    0\u001b[0m │ \u001b[36m   0.53\u001b[0m │ \u001b[36m      1\u001b[0m │ \u001b[32m █▂▁▂▁▂ \u001b[0m │  │\n",
       "│ │ \u001b[38;5;141mAkhisar           \u001b[0m │ \u001b[36m        0\u001b[0m │ \u001b[36m      0\u001b[0m │ \u001b[36m   0.28\u001b[0m │ \u001b[36m   0.32\u001b[0m │ \u001b[36m   0\u001b[0m │ \u001b[36m    0\u001b[0m │ \u001b[36m    0.5\u001b[0m │ \u001b[36m      1\u001b[0m │ \u001b[32m █▂▁▁▁▁ \u001b[0m │  │\n",
       "│ │ \u001b[38;5;141mSalihli           \u001b[0m │ \u001b[36m    27000\u001b[0m │ \u001b[36m     70\u001b[0m │ \u001b[36m   0.19\u001b[0m │ \u001b[36m   0.29\u001b[0m │ \u001b[36m   0\u001b[0m │ \u001b[36m    0\u001b[0m │ \u001b[36m   0.31\u001b[0m │ \u001b[36m   0.96\u001b[0m │ \u001b[32m █▁▁▁▁▁ \u001b[0m │  │\n",
       "│ │ \u001b[38;5;141mÇiğli             \u001b[0m │ \u001b[36m    27000\u001b[0m │ \u001b[36m     70\u001b[0m │ \u001b[36m   0.19\u001b[0m │ \u001b[36m   0.31\u001b[0m │ \u001b[36m   0\u001b[0m │ \u001b[36m    0\u001b[0m │ \u001b[36m   0.32\u001b[0m │ \u001b[36m   0.92\u001b[0m │ \u001b[32m █▁▁▁▁▁ \u001b[0m │  │\n",
       "│ │ \u001b[38;5;141mMenderes          \u001b[0m │ \u001b[36m    27000\u001b[0m │ \u001b[36m     70\u001b[0m │ \u001b[36m    0.2\u001b[0m │ \u001b[36m    0.3\u001b[0m │ \u001b[36m   0\u001b[0m │ \u001b[36m    0\u001b[0m │ \u001b[36m   0.32\u001b[0m │ \u001b[36m      1\u001b[0m │ \u001b[32m █▁▁▁▁▁ \u001b[0m │  │\n",
       "│ │ \u001b[38;5;141mAlaşehir          \u001b[0m │ \u001b[36m    27000\u001b[0m │ \u001b[36m     70\u001b[0m │ \u001b[36m   0.16\u001b[0m │ \u001b[36m   0.27\u001b[0m │ \u001b[36m   0\u001b[0m │ \u001b[36m    0\u001b[0m │ \u001b[36m   0.24\u001b[0m │ \u001b[36m   0.92\u001b[0m │ \u001b[32m █▁▁▁▁▁ \u001b[0m │  │\n",
       "│ │ \u001b[38;5;141mDemirci           \u001b[0m │ \u001b[36m    27000\u001b[0m │ \u001b[36m     70\u001b[0m │ \u001b[36m   0.23\u001b[0m │ \u001b[36m   0.32\u001b[0m │ \u001b[36m   0\u001b[0m │ \u001b[36m    0\u001b[0m │ \u001b[36m   0.44\u001b[0m │ \u001b[36m   0.96\u001b[0m │ \u001b[32m █▁▁▁▁▂ \u001b[0m │  │\n",
       "│ │ \u001b[38;5;141mGüzelyalı         \u001b[0m │ \u001b[36m      310\u001b[0m │ \u001b[36m    0.8\u001b[0m │ \u001b[36m   0.26\u001b[0m │ \u001b[36m   0.32\u001b[0m │ \u001b[36m   0\u001b[0m │ \u001b[36m    0\u001b[0m │ \u001b[36m   0.48\u001b[0m │ \u001b[36m      1\u001b[0m │ \u001b[32m █▂▁▁▁▁ \u001b[0m │  │\n",
       "│ │ \u001b[38;5;141mKula              \u001b[0m │ \u001b[36m    27000\u001b[0m │ \u001b[36m     70\u001b[0m │ \u001b[36m   0.22\u001b[0m │ \u001b[36m   0.31\u001b[0m │ \u001b[36m   0\u001b[0m │ \u001b[36m    0\u001b[0m │ \u001b[36m   0.43\u001b[0m │ \u001b[36m   0.96\u001b[0m │ \u001b[32m █▁▁▁▁▁ \u001b[0m │  │\n",
       "│ │ \u001b[38;5;141mÖdemiş            \u001b[0m │ \u001b[36m    27000\u001b[0m │ \u001b[36m     70\u001b[0m │ \u001b[36m    0.2\u001b[0m │ \u001b[36m    0.3\u001b[0m │ \u001b[36m   0\u001b[0m │ \u001b[36m    0\u001b[0m │ \u001b[36m   0.36\u001b[0m │ \u001b[36m   0.96\u001b[0m │ \u001b[32m █▁▁▁▁▁ \u001b[0m │  │\n",
       "│ │ \u001b[38;5;141mSoma              \u001b[0m │ \u001b[36m    27000\u001b[0m │ \u001b[36m     70\u001b[0m │ \u001b[36m   0.24\u001b[0m │ \u001b[36m   0.33\u001b[0m │ \u001b[36m   0\u001b[0m │ \u001b[36m    0\u001b[0m │ \u001b[36m   0.48\u001b[0m │ \u001b[36m   0.96\u001b[0m │ \u001b[32m █▁▁▁▁▂ \u001b[0m │  │\n",
       "│ │ \u001b[38;5;141mUrla              \u001b[0m │ \u001b[36m    27000\u001b[0m │ \u001b[36m     70\u001b[0m │ \u001b[36m   0.18\u001b[0m │ \u001b[36m   0.29\u001b[0m │ \u001b[36m   0\u001b[0m │ \u001b[36m    0\u001b[0m │ \u001b[36m   0.29\u001b[0m │ \u001b[36m   0.92\u001b[0m │ \u001b[32m █▁▁▁▁▁ \u001b[0m │  │\n",
       "│ └────────────────────┴───────────┴─────────┴─────────┴─────────┴──────┴───────┴─────────┴─────────┴──────────┘  │\n",
       "│ \u001b[3m                                                    string                                                    \u001b[0m  │\n",
       "│ ┏━━━━━━━━━━━━━━━━━━━━━━━━━━━┳━━━━━━━━━┳━━━━━━━━━━━━┳━━━━━━━━━━━━━━━━━━━━━━━━━━━━━━┳━━━━━━━━━━━━━━━━━━━━━━━━━━┓  │\n",
       "│ ┃\u001b[1m \u001b[0m\u001b[1mcolumn_name              \u001b[0m\u001b[1m \u001b[0m┃\u001b[1m \u001b[0m\u001b[1mNA     \u001b[0m\u001b[1m \u001b[0m┃\u001b[1m \u001b[0m\u001b[1mNA %      \u001b[0m\u001b[1m \u001b[0m┃\u001b[1m \u001b[0m\u001b[1mwords per row               \u001b[0m\u001b[1m \u001b[0m┃\u001b[1m \u001b[0m\u001b[1mtotal words             \u001b[0m\u001b[1m \u001b[0m┃  │\n",
       "│ ┡━━━━━━━━━━━━━━━━━━━━━━━━━━━╇━━━━━━━━━╇━━━━━━━━━━━━╇━━━━━━━━━━━━━━━━━━━━━━━━━━━━━━╇━━━━━━━━━━━━━━━━━━━━━━━━━━┩  │\n",
       "│ │ \u001b[38;5;141mTarih                    \u001b[0m │ \u001b[36m      0\u001b[0m │ \u001b[36m         0\u001b[0m │ \u001b[36m                           2\u001b[0m │ \u001b[36m                   78000\u001b[0m │  │\n",
       "│ └───────────────────────────┴─────────┴────────────┴──────────────────────────────┴──────────────────────────┘  │\n",
       "╰────────────────────────────────────────────────────── End ──────────────────────────────────────────────────────╯\n"
      ]
     },
     "metadata": {},
     "output_type": "display_data"
    }
   ],
   "source": [
    "skim(df_cloud)"
   ]
  },
  {
   "cell_type": "code",
   "execution_count": 123,
   "metadata": {},
   "outputs": [
    {
     "data": {
      "text/html": [
       "<div>\n",
       "<style scoped>\n",
       "    .dataframe tbody tr th:only-of-type {\n",
       "        vertical-align: middle;\n",
       "    }\n",
       "\n",
       "    .dataframe tbody tr th {\n",
       "        vertical-align: top;\n",
       "    }\n",
       "\n",
       "    .dataframe thead th {\n",
       "        text-align: right;\n",
       "    }\n",
       "</style>\n",
       "<table border=\"1\" class=\"dataframe\">\n",
       "  <thead>\n",
       "    <tr style=\"text-align: right;\">\n",
       "      <th></th>\n",
       "      <th>Tarih</th>\n",
       "      <th>İzmir</th>\n",
       "      <th>Aliağa</th>\n",
       "      <th>Çeşme</th>\n",
       "      <th>Bergama</th>\n",
       "      <th>Manisa</th>\n",
       "      <th>Akhisar</th>\n",
       "      <th>Salihli</th>\n",
       "      <th>Çiğli</th>\n",
       "      <th>Menderes</th>\n",
       "      <th>Alaşehir</th>\n",
       "      <th>Demirci</th>\n",
       "      <th>Güzelyalı</th>\n",
       "      <th>Kula</th>\n",
       "      <th>Ödemiş</th>\n",
       "      <th>Soma</th>\n",
       "      <th>Urla</th>\n",
       "      <th>Tarih</th>\n",
       "      <th>İzmir</th>\n",
       "      <th>Aliağa</th>\n",
       "      <th>Çeşme</th>\n",
       "      <th>Bergama</th>\n",
       "      <th>Manisa</th>\n",
       "      <th>Akhisar</th>\n",
       "      <th>Salihli</th>\n",
       "      <th>Çiğli</th>\n",
       "      <th>Menderes</th>\n",
       "      <th>Alaşehir</th>\n",
       "      <th>Demirci</th>\n",
       "      <th>Güzelyalı</th>\n",
       "      <th>Kula</th>\n",
       "      <th>Ödemiş</th>\n",
       "      <th>Soma</th>\n",
       "      <th>Urla</th>\n",
       "    </tr>\n",
       "  </thead>\n",
       "  <tbody>\n",
       "    <tr>\n",
       "      <th>0</th>\n",
       "      <td>2021-02-01 00:00:00</td>\n",
       "      <td>0.000</td>\n",
       "      <td>0.000</td>\n",
       "      <td>0.000</td>\n",
       "      <td>0.000</td>\n",
       "      <td>0.000</td>\n",
       "      <td>0.000</td>\n",
       "      <td>0.000</td>\n",
       "      <td>0.000</td>\n",
       "      <td>0.000</td>\n",
       "      <td>NaN</td>\n",
       "      <td>NaN</td>\n",
       "      <td>NaN</td>\n",
       "      <td>NaN</td>\n",
       "      <td>NaN</td>\n",
       "      <td>NaN</td>\n",
       "      <td>NaN</td>\n",
       "      <td>2021-02-01 00:00:00</td>\n",
       "      <td>0.640</td>\n",
       "      <td>0.240</td>\n",
       "      <td>0.560</td>\n",
       "      <td>0.440</td>\n",
       "      <td>0.240</td>\n",
       "      <td>0.320</td>\n",
       "      <td>0.000</td>\n",
       "      <td>0.680</td>\n",
       "      <td>0.360</td>\n",
       "      <td>NaN</td>\n",
       "      <td>NaN</td>\n",
       "      <td>NaN</td>\n",
       "      <td>NaN</td>\n",
       "      <td>NaN</td>\n",
       "      <td>NaN</td>\n",
       "      <td>NaN</td>\n",
       "    </tr>\n",
       "    <tr>\n",
       "      <th>1</th>\n",
       "      <td>2021-02-01 01:00:00</td>\n",
       "      <td>0.000</td>\n",
       "      <td>0.000</td>\n",
       "      <td>0.000</td>\n",
       "      <td>0.000</td>\n",
       "      <td>0.000</td>\n",
       "      <td>0.000</td>\n",
       "      <td>0.000</td>\n",
       "      <td>0.000</td>\n",
       "      <td>0.000</td>\n",
       "      <td>NaN</td>\n",
       "      <td>NaN</td>\n",
       "      <td>NaN</td>\n",
       "      <td>NaN</td>\n",
       "      <td>NaN</td>\n",
       "      <td>NaN</td>\n",
       "      <td>NaN</td>\n",
       "      <td>2021-02-01 01:00:00</td>\n",
       "      <td>0.680</td>\n",
       "      <td>0.320</td>\n",
       "      <td>0.533</td>\n",
       "      <td>0.320</td>\n",
       "      <td>0.307</td>\n",
       "      <td>0.360</td>\n",
       "      <td>0.160</td>\n",
       "      <td>0.707</td>\n",
       "      <td>0.427</td>\n",
       "      <td>NaN</td>\n",
       "      <td>NaN</td>\n",
       "      <td>NaN</td>\n",
       "      <td>NaN</td>\n",
       "      <td>NaN</td>\n",
       "      <td>NaN</td>\n",
       "      <td>NaN</td>\n",
       "    </tr>\n",
       "    <tr>\n",
       "      <th>2</th>\n",
       "      <td>2021-02-01 02:00:00</td>\n",
       "      <td>0.000</td>\n",
       "      <td>0.000</td>\n",
       "      <td>0.000</td>\n",
       "      <td>0.000</td>\n",
       "      <td>0.000</td>\n",
       "      <td>0.000</td>\n",
       "      <td>0.000</td>\n",
       "      <td>0.000</td>\n",
       "      <td>0.000</td>\n",
       "      <td>NaN</td>\n",
       "      <td>NaN</td>\n",
       "      <td>NaN</td>\n",
       "      <td>NaN</td>\n",
       "      <td>NaN</td>\n",
       "      <td>NaN</td>\n",
       "      <td>NaN</td>\n",
       "      <td>2021-02-01 02:00:00</td>\n",
       "      <td>0.720</td>\n",
       "      <td>0.400</td>\n",
       "      <td>0.507</td>\n",
       "      <td>0.200</td>\n",
       "      <td>0.373</td>\n",
       "      <td>0.400</td>\n",
       "      <td>0.320</td>\n",
       "      <td>0.733</td>\n",
       "      <td>0.493</td>\n",
       "      <td>NaN</td>\n",
       "      <td>NaN</td>\n",
       "      <td>NaN</td>\n",
       "      <td>NaN</td>\n",
       "      <td>NaN</td>\n",
       "      <td>NaN</td>\n",
       "      <td>NaN</td>\n",
       "    </tr>\n",
       "    <tr>\n",
       "      <th>3</th>\n",
       "      <td>2021-02-01 03:00:00</td>\n",
       "      <td>0.000</td>\n",
       "      <td>0.000</td>\n",
       "      <td>0.000</td>\n",
       "      <td>0.000</td>\n",
       "      <td>0.000</td>\n",
       "      <td>0.000</td>\n",
       "      <td>0.000</td>\n",
       "      <td>0.000</td>\n",
       "      <td>0.000</td>\n",
       "      <td>NaN</td>\n",
       "      <td>NaN</td>\n",
       "      <td>NaN</td>\n",
       "      <td>NaN</td>\n",
       "      <td>NaN</td>\n",
       "      <td>NaN</td>\n",
       "      <td>NaN</td>\n",
       "      <td>2021-02-01 03:00:00</td>\n",
       "      <td>0.560</td>\n",
       "      <td>0.640</td>\n",
       "      <td>0.320</td>\n",
       "      <td>0.240</td>\n",
       "      <td>0.480</td>\n",
       "      <td>0.320</td>\n",
       "      <td>0.360</td>\n",
       "      <td>0.560</td>\n",
       "      <td>0.200</td>\n",
       "      <td>NaN</td>\n",
       "      <td>NaN</td>\n",
       "      <td>NaN</td>\n",
       "      <td>NaN</td>\n",
       "      <td>NaN</td>\n",
       "      <td>NaN</td>\n",
       "      <td>NaN</td>\n",
       "    </tr>\n",
       "    <tr>\n",
       "      <th>4</th>\n",
       "      <td>2021-02-01 04:00:00</td>\n",
       "      <td>0.000</td>\n",
       "      <td>0.000</td>\n",
       "      <td>0.000</td>\n",
       "      <td>0.000</td>\n",
       "      <td>0.000</td>\n",
       "      <td>0.000</td>\n",
       "      <td>0.000</td>\n",
       "      <td>0.000</td>\n",
       "      <td>0.000</td>\n",
       "      <td>NaN</td>\n",
       "      <td>NaN</td>\n",
       "      <td>NaN</td>\n",
       "      <td>NaN</td>\n",
       "      <td>NaN</td>\n",
       "      <td>NaN</td>\n",
       "      <td>NaN</td>\n",
       "      <td>2021-02-01 04:00:00</td>\n",
       "      <td>0.627</td>\n",
       "      <td>0.693</td>\n",
       "      <td>0.360</td>\n",
       "      <td>0.267</td>\n",
       "      <td>0.573</td>\n",
       "      <td>0.467</td>\n",
       "      <td>0.467</td>\n",
       "      <td>0.627</td>\n",
       "      <td>0.347</td>\n",
       "      <td>NaN</td>\n",
       "      <td>NaN</td>\n",
       "      <td>NaN</td>\n",
       "      <td>NaN</td>\n",
       "      <td>NaN</td>\n",
       "      <td>NaN</td>\n",
       "      <td>NaN</td>\n",
       "    </tr>\n",
       "    <tr>\n",
       "      <th>...</th>\n",
       "      <td>...</td>\n",
       "      <td>...</td>\n",
       "      <td>...</td>\n",
       "      <td>...</td>\n",
       "      <td>...</td>\n",
       "      <td>...</td>\n",
       "      <td>...</td>\n",
       "      <td>...</td>\n",
       "      <td>...</td>\n",
       "      <td>...</td>\n",
       "      <td>...</td>\n",
       "      <td>...</td>\n",
       "      <td>...</td>\n",
       "      <td>...</td>\n",
       "      <td>...</td>\n",
       "      <td>...</td>\n",
       "      <td>...</td>\n",
       "      <td>...</td>\n",
       "      <td>...</td>\n",
       "      <td>...</td>\n",
       "      <td>...</td>\n",
       "      <td>...</td>\n",
       "      <td>...</td>\n",
       "      <td>...</td>\n",
       "      <td>...</td>\n",
       "      <td>...</td>\n",
       "      <td>...</td>\n",
       "      <td>...</td>\n",
       "      <td>...</td>\n",
       "      <td>...</td>\n",
       "      <td>...</td>\n",
       "      <td>...</td>\n",
       "      <td>...</td>\n",
       "      <td>...</td>\n",
       "    </tr>\n",
       "    <tr>\n",
       "      <th>38827</th>\n",
       "      <td>2021-01-31 19:00:00</td>\n",
       "      <td>NaN</td>\n",
       "      <td>NaN</td>\n",
       "      <td>0.000</td>\n",
       "      <td>NaN</td>\n",
       "      <td>0.000</td>\n",
       "      <td>0.000</td>\n",
       "      <td>NaN</td>\n",
       "      <td>NaN</td>\n",
       "      <td>NaN</td>\n",
       "      <td>NaN</td>\n",
       "      <td>NaN</td>\n",
       "      <td>0.000</td>\n",
       "      <td>NaN</td>\n",
       "      <td>NaN</td>\n",
       "      <td>NaN</td>\n",
       "      <td>NaN</td>\n",
       "      <td>2021-01-31 19:00:00</td>\n",
       "      <td>NaN</td>\n",
       "      <td>NaN</td>\n",
       "      <td>0.000</td>\n",
       "      <td>NaN</td>\n",
       "      <td>0.053</td>\n",
       "      <td>0.000</td>\n",
       "      <td>NaN</td>\n",
       "      <td>NaN</td>\n",
       "      <td>NaN</td>\n",
       "      <td>NaN</td>\n",
       "      <td>NaN</td>\n",
       "      <td>0.000</td>\n",
       "      <td>NaN</td>\n",
       "      <td>NaN</td>\n",
       "      <td>NaN</td>\n",
       "      <td>NaN</td>\n",
       "    </tr>\n",
       "    <tr>\n",
       "      <th>38828</th>\n",
       "      <td>2021-01-31 20:00:00</td>\n",
       "      <td>NaN</td>\n",
       "      <td>NaN</td>\n",
       "      <td>0.000</td>\n",
       "      <td>NaN</td>\n",
       "      <td>0.000</td>\n",
       "      <td>0.000</td>\n",
       "      <td>NaN</td>\n",
       "      <td>NaN</td>\n",
       "      <td>NaN</td>\n",
       "      <td>NaN</td>\n",
       "      <td>NaN</td>\n",
       "      <td>0.000</td>\n",
       "      <td>NaN</td>\n",
       "      <td>NaN</td>\n",
       "      <td>NaN</td>\n",
       "      <td>NaN</td>\n",
       "      <td>2021-01-31 20:00:00</td>\n",
       "      <td>NaN</td>\n",
       "      <td>NaN</td>\n",
       "      <td>0.000</td>\n",
       "      <td>NaN</td>\n",
       "      <td>0.027</td>\n",
       "      <td>0.000</td>\n",
       "      <td>NaN</td>\n",
       "      <td>NaN</td>\n",
       "      <td>NaN</td>\n",
       "      <td>NaN</td>\n",
       "      <td>NaN</td>\n",
       "      <td>0.000</td>\n",
       "      <td>NaN</td>\n",
       "      <td>NaN</td>\n",
       "      <td>NaN</td>\n",
       "      <td>NaN</td>\n",
       "    </tr>\n",
       "    <tr>\n",
       "      <th>38829</th>\n",
       "      <td>2021-01-31 21:00:00</td>\n",
       "      <td>NaN</td>\n",
       "      <td>NaN</td>\n",
       "      <td>0.000</td>\n",
       "      <td>NaN</td>\n",
       "      <td>0.000</td>\n",
       "      <td>0.000</td>\n",
       "      <td>NaN</td>\n",
       "      <td>NaN</td>\n",
       "      <td>NaN</td>\n",
       "      <td>NaN</td>\n",
       "      <td>NaN</td>\n",
       "      <td>0.000</td>\n",
       "      <td>NaN</td>\n",
       "      <td>NaN</td>\n",
       "      <td>NaN</td>\n",
       "      <td>NaN</td>\n",
       "      <td>2021-01-31 21:00:00</td>\n",
       "      <td>NaN</td>\n",
       "      <td>NaN</td>\n",
       "      <td>0.000</td>\n",
       "      <td>NaN</td>\n",
       "      <td>0.000</td>\n",
       "      <td>0.000</td>\n",
       "      <td>NaN</td>\n",
       "      <td>NaN</td>\n",
       "      <td>NaN</td>\n",
       "      <td>NaN</td>\n",
       "      <td>NaN</td>\n",
       "      <td>0.000</td>\n",
       "      <td>NaN</td>\n",
       "      <td>NaN</td>\n",
       "      <td>NaN</td>\n",
       "      <td>NaN</td>\n",
       "    </tr>\n",
       "    <tr>\n",
       "      <th>38830</th>\n",
       "      <td>2021-01-31 22:00:00</td>\n",
       "      <td>NaN</td>\n",
       "      <td>NaN</td>\n",
       "      <td>0.000</td>\n",
       "      <td>NaN</td>\n",
       "      <td>0.000</td>\n",
       "      <td>0.000</td>\n",
       "      <td>NaN</td>\n",
       "      <td>NaN</td>\n",
       "      <td>NaN</td>\n",
       "      <td>NaN</td>\n",
       "      <td>NaN</td>\n",
       "      <td>0.000</td>\n",
       "      <td>NaN</td>\n",
       "      <td>NaN</td>\n",
       "      <td>NaN</td>\n",
       "      <td>NaN</td>\n",
       "      <td>2021-01-31 22:00:00</td>\n",
       "      <td>NaN</td>\n",
       "      <td>NaN</td>\n",
       "      <td>0.147</td>\n",
       "      <td>NaN</td>\n",
       "      <td>0.040</td>\n",
       "      <td>0.080</td>\n",
       "      <td>NaN</td>\n",
       "      <td>NaN</td>\n",
       "      <td>NaN</td>\n",
       "      <td>NaN</td>\n",
       "      <td>NaN</td>\n",
       "      <td>0.107</td>\n",
       "      <td>NaN</td>\n",
       "      <td>NaN</td>\n",
       "      <td>NaN</td>\n",
       "      <td>NaN</td>\n",
       "    </tr>\n",
       "    <tr>\n",
       "      <th>38831</th>\n",
       "      <td>2021-01-31 23:00:00</td>\n",
       "      <td>NaN</td>\n",
       "      <td>NaN</td>\n",
       "      <td>0.000</td>\n",
       "      <td>NaN</td>\n",
       "      <td>0.000</td>\n",
       "      <td>0.000</td>\n",
       "      <td>NaN</td>\n",
       "      <td>NaN</td>\n",
       "      <td>NaN</td>\n",
       "      <td>NaN</td>\n",
       "      <td>NaN</td>\n",
       "      <td>0.000</td>\n",
       "      <td>NaN</td>\n",
       "      <td>NaN</td>\n",
       "      <td>NaN</td>\n",
       "      <td>NaN</td>\n",
       "      <td>2021-01-31 23:00:00</td>\n",
       "      <td>NaN</td>\n",
       "      <td>NaN</td>\n",
       "      <td>0.293</td>\n",
       "      <td>NaN</td>\n",
       "      <td>0.080</td>\n",
       "      <td>0.160</td>\n",
       "      <td>NaN</td>\n",
       "      <td>NaN</td>\n",
       "      <td>NaN</td>\n",
       "      <td>NaN</td>\n",
       "      <td>NaN</td>\n",
       "      <td>0.213</td>\n",
       "      <td>NaN</td>\n",
       "      <td>NaN</td>\n",
       "      <td>NaN</td>\n",
       "      <td>NaN</td>\n",
       "    </tr>\n",
       "  </tbody>\n",
       "</table>\n",
       "<p>38832 rows × 34 columns</p>\n",
       "</div>"
      ],
      "text/plain": [
       "                     Tarih  İzmir  Aliağa  Çeşme  Bergama  Manisa  Akhisar  \\\n",
       "0      2021-02-01 00:00:00  0.000   0.000  0.000    0.000   0.000    0.000   \n",
       "1      2021-02-01 01:00:00  0.000   0.000  0.000    0.000   0.000    0.000   \n",
       "2      2021-02-01 02:00:00  0.000   0.000  0.000    0.000   0.000    0.000   \n",
       "3      2021-02-01 03:00:00  0.000   0.000  0.000    0.000   0.000    0.000   \n",
       "4      2021-02-01 04:00:00  0.000   0.000  0.000    0.000   0.000    0.000   \n",
       "...                    ...    ...     ...    ...      ...     ...      ...   \n",
       "38827  2021-01-31 19:00:00    NaN     NaN  0.000      NaN   0.000    0.000   \n",
       "38828  2021-01-31 20:00:00    NaN     NaN  0.000      NaN   0.000    0.000   \n",
       "38829  2021-01-31 21:00:00    NaN     NaN  0.000      NaN   0.000    0.000   \n",
       "38830  2021-01-31 22:00:00    NaN     NaN  0.000      NaN   0.000    0.000   \n",
       "38831  2021-01-31 23:00:00    NaN     NaN  0.000      NaN   0.000    0.000   \n",
       "\n",
       "       Salihli  Çiğli  Menderes  Alaşehir  Demirci  Güzelyalı  Kula  Ödemiş  \\\n",
       "0        0.000  0.000     0.000       NaN      NaN        NaN   NaN     NaN   \n",
       "1        0.000  0.000     0.000       NaN      NaN        NaN   NaN     NaN   \n",
       "2        0.000  0.000     0.000       NaN      NaN        NaN   NaN     NaN   \n",
       "3        0.000  0.000     0.000       NaN      NaN        NaN   NaN     NaN   \n",
       "4        0.000  0.000     0.000       NaN      NaN        NaN   NaN     NaN   \n",
       "...        ...    ...       ...       ...      ...        ...   ...     ...   \n",
       "38827      NaN    NaN       NaN       NaN      NaN      0.000   NaN     NaN   \n",
       "38828      NaN    NaN       NaN       NaN      NaN      0.000   NaN     NaN   \n",
       "38829      NaN    NaN       NaN       NaN      NaN      0.000   NaN     NaN   \n",
       "38830      NaN    NaN       NaN       NaN      NaN      0.000   NaN     NaN   \n",
       "38831      NaN    NaN       NaN       NaN      NaN      0.000   NaN     NaN   \n",
       "\n",
       "       Soma  Urla                Tarih  İzmir  Aliağa  Çeşme  Bergama  Manisa  \\\n",
       "0       NaN   NaN  2021-02-01 00:00:00  0.640   0.240  0.560    0.440   0.240   \n",
       "1       NaN   NaN  2021-02-01 01:00:00  0.680   0.320  0.533    0.320   0.307   \n",
       "2       NaN   NaN  2021-02-01 02:00:00  0.720   0.400  0.507    0.200   0.373   \n",
       "3       NaN   NaN  2021-02-01 03:00:00  0.560   0.640  0.320    0.240   0.480   \n",
       "4       NaN   NaN  2021-02-01 04:00:00  0.627   0.693  0.360    0.267   0.573   \n",
       "...     ...   ...                  ...    ...     ...    ...      ...     ...   \n",
       "38827   NaN   NaN  2021-01-31 19:00:00    NaN     NaN  0.000      NaN   0.053   \n",
       "38828   NaN   NaN  2021-01-31 20:00:00    NaN     NaN  0.000      NaN   0.027   \n",
       "38829   NaN   NaN  2021-01-31 21:00:00    NaN     NaN  0.000      NaN   0.000   \n",
       "38830   NaN   NaN  2021-01-31 22:00:00    NaN     NaN  0.147      NaN   0.040   \n",
       "38831   NaN   NaN  2021-01-31 23:00:00    NaN     NaN  0.293      NaN   0.080   \n",
       "\n",
       "       Akhisar  Salihli  Çiğli  Menderes  Alaşehir  Demirci  Güzelyalı  Kula  \\\n",
       "0        0.320    0.000  0.680     0.360       NaN      NaN        NaN   NaN   \n",
       "1        0.360    0.160  0.707     0.427       NaN      NaN        NaN   NaN   \n",
       "2        0.400    0.320  0.733     0.493       NaN      NaN        NaN   NaN   \n",
       "3        0.320    0.360  0.560     0.200       NaN      NaN        NaN   NaN   \n",
       "4        0.467    0.467  0.627     0.347       NaN      NaN        NaN   NaN   \n",
       "...        ...      ...    ...       ...       ...      ...        ...   ...   \n",
       "38827    0.000      NaN    NaN       NaN       NaN      NaN      0.000   NaN   \n",
       "38828    0.000      NaN    NaN       NaN       NaN      NaN      0.000   NaN   \n",
       "38829    0.000      NaN    NaN       NaN       NaN      NaN      0.000   NaN   \n",
       "38830    0.080      NaN    NaN       NaN       NaN      NaN      0.107   NaN   \n",
       "38831    0.160      NaN    NaN       NaN       NaN      NaN      0.213   NaN   \n",
       "\n",
       "       Ödemiş  Soma  Urla  \n",
       "0         NaN   NaN   NaN  \n",
       "1         NaN   NaN   NaN  \n",
       "2         NaN   NaN   NaN  \n",
       "3         NaN   NaN   NaN  \n",
       "4         NaN   NaN   NaN  \n",
       "...       ...   ...   ...  \n",
       "38827     NaN   NaN   NaN  \n",
       "38828     NaN   NaN   NaN  \n",
       "38829     NaN   NaN   NaN  \n",
       "38830     NaN   NaN   NaN  \n",
       "38831     NaN   NaN   NaN  \n",
       "\n",
       "[38832 rows x 34 columns]"
      ]
     },
     "execution_count": 123,
     "metadata": {},
     "output_type": "execute_result"
    }
   ],
   "source": [
    "pd.concat([df_hum, df_cloud], axis=1)"
   ]
  },
  {
   "cell_type": "markdown",
   "metadata": {},
   "source": [
    "### **<span style='color:turquoise'> Radiation </span>** "
   ]
  },
  {
   "cell_type": "markdown",
   "metadata": {},
   "source": [
    "unit = `w/m²`"
   ]
  },
  {
   "cell_type": "code",
   "execution_count": 124,
   "metadata": {},
   "outputs": [],
   "source": [
    "df5 = pd.read_csv(\"Weather_Radyasyon.csv\")\n",
    "df_rad = df5.copy()"
   ]
  },
  {
   "cell_type": "code",
   "execution_count": 125,
   "metadata": {},
   "outputs": [
    {
     "data": {
      "text/html": [
       "<div>\n",
       "<style scoped>\n",
       "    .dataframe tbody tr th:only-of-type {\n",
       "        vertical-align: middle;\n",
       "    }\n",
       "\n",
       "    .dataframe tbody tr th {\n",
       "        vertical-align: top;\n",
       "    }\n",
       "\n",
       "    .dataframe thead th {\n",
       "        text-align: right;\n",
       "    }\n",
       "</style>\n",
       "<table border=\"1\" class=\"dataframe\">\n",
       "  <thead>\n",
       "    <tr style=\"text-align: right;\">\n",
       "      <th></th>\n",
       "      <th>Tarih</th>\n",
       "      <th>İzmir</th>\n",
       "      <th>Aliağa</th>\n",
       "      <th>Çeşme</th>\n",
       "      <th>Bergama</th>\n",
       "      <th>Manisa</th>\n",
       "      <th>Akhisar</th>\n",
       "      <th>Salihli</th>\n",
       "      <th>Çiğli</th>\n",
       "      <th>Menderes</th>\n",
       "      <th>Alaşehir</th>\n",
       "      <th>Demirci</th>\n",
       "      <th>Güzelyalı</th>\n",
       "      <th>Kula</th>\n",
       "      <th>Ödemiş</th>\n",
       "      <th>Soma</th>\n",
       "      <th>Urla</th>\n",
       "      <th>Unnamed: 17</th>\n",
       "    </tr>\n",
       "  </thead>\n",
       "  <tbody>\n",
       "    <tr>\n",
       "      <th>0</th>\n",
       "      <td>2021-02-01 00:00:00</td>\n",
       "      <td>0.000</td>\n",
       "      <td>0.000</td>\n",
       "      <td>0.000</td>\n",
       "      <td>0.000</td>\n",
       "      <td>0.000</td>\n",
       "      <td>0.000</td>\n",
       "      <td>0.000</td>\n",
       "      <td>0.000</td>\n",
       "      <td>0.000</td>\n",
       "      <td>NaN</td>\n",
       "      <td>NaN</td>\n",
       "      <td>NaN</td>\n",
       "      <td>NaN</td>\n",
       "      <td>NaN</td>\n",
       "      <td>NaN</td>\n",
       "      <td>NaN</td>\n",
       "      <td>NaN</td>\n",
       "    </tr>\n",
       "    <tr>\n",
       "      <th>1</th>\n",
       "      <td>2021-02-01 01:00:00</td>\n",
       "      <td>0.000</td>\n",
       "      <td>0.000</td>\n",
       "      <td>0.000</td>\n",
       "      <td>0.000</td>\n",
       "      <td>0.000</td>\n",
       "      <td>0.000</td>\n",
       "      <td>0.000</td>\n",
       "      <td>0.000</td>\n",
       "      <td>0.000</td>\n",
       "      <td>NaN</td>\n",
       "      <td>NaN</td>\n",
       "      <td>NaN</td>\n",
       "      <td>NaN</td>\n",
       "      <td>NaN</td>\n",
       "      <td>NaN</td>\n",
       "      <td>NaN</td>\n",
       "      <td>NaN</td>\n",
       "    </tr>\n",
       "    <tr>\n",
       "      <th>2</th>\n",
       "      <td>2021-02-01 02:00:00</td>\n",
       "      <td>0.000</td>\n",
       "      <td>0.000</td>\n",
       "      <td>0.000</td>\n",
       "      <td>0.000</td>\n",
       "      <td>0.000</td>\n",
       "      <td>0.000</td>\n",
       "      <td>0.000</td>\n",
       "      <td>0.000</td>\n",
       "      <td>0.000</td>\n",
       "      <td>NaN</td>\n",
       "      <td>NaN</td>\n",
       "      <td>NaN</td>\n",
       "      <td>NaN</td>\n",
       "      <td>NaN</td>\n",
       "      <td>NaN</td>\n",
       "      <td>NaN</td>\n",
       "      <td>NaN</td>\n",
       "    </tr>\n",
       "    <tr>\n",
       "      <th>3</th>\n",
       "      <td>2021-02-01 03:00:00</td>\n",
       "      <td>0.000</td>\n",
       "      <td>0.000</td>\n",
       "      <td>0.000</td>\n",
       "      <td>0.000</td>\n",
       "      <td>0.000</td>\n",
       "      <td>0.000</td>\n",
       "      <td>0.000</td>\n",
       "      <td>0.000</td>\n",
       "      <td>0.000</td>\n",
       "      <td>NaN</td>\n",
       "      <td>NaN</td>\n",
       "      <td>NaN</td>\n",
       "      <td>NaN</td>\n",
       "      <td>NaN</td>\n",
       "      <td>NaN</td>\n",
       "      <td>NaN</td>\n",
       "      <td>NaN</td>\n",
       "    </tr>\n",
       "    <tr>\n",
       "      <th>4</th>\n",
       "      <td>2021-02-01 04:00:00</td>\n",
       "      <td>0.000</td>\n",
       "      <td>0.000</td>\n",
       "      <td>0.000</td>\n",
       "      <td>0.000</td>\n",
       "      <td>0.000</td>\n",
       "      <td>0.000</td>\n",
       "      <td>0.000</td>\n",
       "      <td>0.000</td>\n",
       "      <td>0.000</td>\n",
       "      <td>NaN</td>\n",
       "      <td>NaN</td>\n",
       "      <td>NaN</td>\n",
       "      <td>NaN</td>\n",
       "      <td>NaN</td>\n",
       "      <td>NaN</td>\n",
       "      <td>NaN</td>\n",
       "      <td>NaN</td>\n",
       "    </tr>\n",
       "  </tbody>\n",
       "</table>\n",
       "</div>"
      ],
      "text/plain": [
       "                 Tarih  İzmir  Aliağa  Çeşme  Bergama  Manisa  Akhisar  \\\n",
       "0  2021-02-01 00:00:00  0.000   0.000  0.000    0.000   0.000    0.000   \n",
       "1  2021-02-01 01:00:00  0.000   0.000  0.000    0.000   0.000    0.000   \n",
       "2  2021-02-01 02:00:00  0.000   0.000  0.000    0.000   0.000    0.000   \n",
       "3  2021-02-01 03:00:00  0.000   0.000  0.000    0.000   0.000    0.000   \n",
       "4  2021-02-01 04:00:00  0.000   0.000  0.000    0.000   0.000    0.000   \n",
       "\n",
       "   Salihli  Çiğli  Menderes  Alaşehir  Demirci  Güzelyalı  Kula  Ödemiş  Soma  \\\n",
       "0    0.000  0.000     0.000       NaN      NaN        NaN   NaN     NaN   NaN   \n",
       "1    0.000  0.000     0.000       NaN      NaN        NaN   NaN     NaN   NaN   \n",
       "2    0.000  0.000     0.000       NaN      NaN        NaN   NaN     NaN   NaN   \n",
       "3    0.000  0.000     0.000       NaN      NaN        NaN   NaN     NaN   NaN   \n",
       "4    0.000  0.000     0.000       NaN      NaN        NaN   NaN     NaN   NaN   \n",
       "\n",
       "   Urla  Unnamed: 17  \n",
       "0   NaN          NaN  \n",
       "1   NaN          NaN  \n",
       "2   NaN          NaN  \n",
       "3   NaN          NaN  \n",
       "4   NaN          NaN  "
      ]
     },
     "execution_count": 125,
     "metadata": {},
     "output_type": "execute_result"
    }
   ],
   "source": [
    "df_rad.head()"
   ]
  },
  {
   "cell_type": "code",
   "execution_count": 126,
   "metadata": {},
   "outputs": [
    {
     "data": {
      "text/plain": [
       "(38832, 18)"
      ]
     },
     "execution_count": 126,
     "metadata": {},
     "output_type": "execute_result"
    }
   ],
   "source": [
    "df_rad.shape"
   ]
  },
  {
   "cell_type": "code",
   "execution_count": 127,
   "metadata": {},
   "outputs": [
    {
     "name": "stdout",
     "output_type": "stream",
     "text": [
      "<class 'pandas.core.frame.DataFrame'>\n",
      "RangeIndex: 38832 entries, 0 to 38831\n",
      "Data columns (total 18 columns):\n",
      " #   Column       Non-Null Count  Dtype  \n",
      "---  ------       --------------  -----  \n",
      " 0   Tarih        38832 non-null  object \n",
      " 1   İzmir        11784 non-null  float64\n",
      " 2   Aliağa       11784 non-null  float64\n",
      " 3   Çeşme        38832 non-null  float64\n",
      " 4   Bergama      11784 non-null  float64\n",
      " 5   Manisa       38832 non-null  float64\n",
      " 6   Akhisar      38832 non-null  float64\n",
      " 7   Salihli      11784 non-null  float64\n",
      " 8   Çiğli        11784 non-null  float64\n",
      " 9   Menderes     11784 non-null  float64\n",
      " 10  Alaşehir     11472 non-null  float64\n",
      " 11  Demirci      11472 non-null  float64\n",
      " 12  Güzelyalı    38520 non-null  float64\n",
      " 13  Kula         11472 non-null  float64\n",
      " 14  Ödemiş       11472 non-null  float64\n",
      " 15  Soma         11472 non-null  float64\n",
      " 16  Urla         11472 non-null  float64\n",
      " 17  Unnamed: 17  24 non-null     float64\n",
      "dtypes: float64(17), object(1)\n",
      "memory usage: 5.3+ MB\n"
     ]
    }
   ],
   "source": [
    "df_rad.info()"
   ]
  },
  {
   "cell_type": "code",
   "execution_count": 128,
   "metadata": {},
   "outputs": [
    {
     "data": {
      "text/html": [
       "<pre style=\"white-space:pre;overflow-x:auto;line-height:normal;font-family:Menlo,'DejaVu Sans Mono',consolas,'Courier New',monospace\">╭──────────────────────────────────────────────── skimpy summary ─────────────────────────────────────────────────╮\n",
       "│ <span style=\"font-style: italic\">         Data Summary         </span> <span style=\"font-style: italic\">      Data Types       </span>                                                          │\n",
       "│ ┏━━━━━━━━━━━━━━━━━━━┳━━━━━━━━┓ ┏━━━━━━━━━━━━━┳━━━━━━━┓                                                          │\n",
       "│ ┃<span style=\"color: #008080; text-decoration-color: #008080; font-weight: bold\"> dataframe         </span>┃<span style=\"color: #008080; text-decoration-color: #008080; font-weight: bold\"> Values </span>┃ ┃<span style=\"color: #008080; text-decoration-color: #008080; font-weight: bold\"> Column Type </span>┃<span style=\"color: #008080; text-decoration-color: #008080; font-weight: bold\"> Count </span>┃                                                          │\n",
       "│ ┡━━━━━━━━━━━━━━━━━━━╇━━━━━━━━┩ ┡━━━━━━━━━━━━━╇━━━━━━━┩                                                          │\n",
       "│ │ Number of rows    │ 38832  │ │ float64     │ 17    │                                                          │\n",
       "│ │ Number of columns │ 18     │ │ string      │ 1     │                                                          │\n",
       "│ └───────────────────┴────────┘ └─────────────┴───────┘                                                          │\n",
       "│ <span style=\"font-style: italic\">                                                    number                                                    </span>  │\n",
       "│ ┏━━━━━━━━━━━━━━━━━━━━┳━━━━━━━━━━━┳━━━━━━━━━━┳━━━━━━━━━┳━━━━━━━━┳━━━━━━┳━━━━━━━━┳━━━━━━━━┳━━━━━━━━━┳━━━━━━━━━━┓  │\n",
       "│ ┃<span style=\"font-weight: bold\"> column_name        </span>┃<span style=\"font-weight: bold\"> NA        </span>┃<span style=\"font-weight: bold\"> NA %     </span>┃<span style=\"font-weight: bold\"> mean    </span>┃<span style=\"font-weight: bold\"> sd     </span>┃<span style=\"font-weight: bold\"> p0   </span>┃<span style=\"font-weight: bold\"> p25    </span>┃<span style=\"font-weight: bold\"> p75    </span>┃<span style=\"font-weight: bold\"> p100    </span>┃<span style=\"font-weight: bold\"> hist     </span>┃  │\n",
       "│ ┡━━━━━━━━━━━━━━━━━━━━╇━━━━━━━━━━━╇━━━━━━━━━━╇━━━━━━━━━╇━━━━━━━━╇━━━━━━╇━━━━━━━━╇━━━━━━━━╇━━━━━━━━━╇━━━━━━━━━━┩  │\n",
       "│ │ <span style=\"color: #af87ff; text-decoration-color: #af87ff\">İzmir             </span> │ <span style=\"color: #008080; text-decoration-color: #008080\">    27000</span> │ <span style=\"color: #008080; text-decoration-color: #008080\">      70</span> │ <span style=\"color: #008080; text-decoration-color: #008080\">    210</span> │ <span style=\"color: #008080; text-decoration-color: #008080\">   280</span> │ <span style=\"color: #008080; text-decoration-color: #008080\">   0</span> │ <span style=\"color: #008080; text-decoration-color: #008080\">     0</span> │ <span style=\"color: #008080; text-decoration-color: #008080\">   400</span> │ <span style=\"color: #008080; text-decoration-color: #008080\">    970</span> │ <span style=\"color: #008000; text-decoration-color: #008000\"> █▁▁▁▁▁ </span> │  │\n",
       "│ │ <span style=\"color: #af87ff; text-decoration-color: #af87ff\">Aliağa            </span> │ <span style=\"color: #008080; text-decoration-color: #008080\">    27000</span> │ <span style=\"color: #008080; text-decoration-color: #008080\">      70</span> │ <span style=\"color: #008080; text-decoration-color: #008080\">    210</span> │ <span style=\"color: #008080; text-decoration-color: #008080\">   280</span> │ <span style=\"color: #008080; text-decoration-color: #008080\">   0</span> │ <span style=\"color: #008080; text-decoration-color: #008080\">     0</span> │ <span style=\"color: #008080; text-decoration-color: #008080\">   400</span> │ <span style=\"color: #008080; text-decoration-color: #008080\">    970</span> │ <span style=\"color: #008000; text-decoration-color: #008000\"> █▁▁▁▁▁ </span> │  │\n",
       "│ │ <span style=\"color: #af87ff; text-decoration-color: #af87ff\">Çeşme             </span> │ <span style=\"color: #008080; text-decoration-color: #008080\">        0</span> │ <span style=\"color: #008080; text-decoration-color: #008080\">       0</span> │ <span style=\"color: #008080; text-decoration-color: #008080\">    210</span> │ <span style=\"color: #008080; text-decoration-color: #008080\">   290</span> │ <span style=\"color: #008080; text-decoration-color: #008080\">   0</span> │ <span style=\"color: #008080; text-decoration-color: #008080\">     0</span> │ <span style=\"color: #008080; text-decoration-color: #008080\">   390</span> │ <span style=\"color: #008080; text-decoration-color: #008080\">   1200</span> │ <span style=\"color: #008000; text-decoration-color: #008000\"> █▁▁▁▁  </span> │  │\n",
       "│ │ <span style=\"color: #af87ff; text-decoration-color: #af87ff\">Bergama           </span> │ <span style=\"color: #008080; text-decoration-color: #008080\">    27000</span> │ <span style=\"color: #008080; text-decoration-color: #008080\">      70</span> │ <span style=\"color: #008080; text-decoration-color: #008080\">    200</span> │ <span style=\"color: #008080; text-decoration-color: #008080\">   280</span> │ <span style=\"color: #008080; text-decoration-color: #008080\">   0</span> │ <span style=\"color: #008080; text-decoration-color: #008080\">     0</span> │ <span style=\"color: #008080; text-decoration-color: #008080\">   390</span> │ <span style=\"color: #008080; text-decoration-color: #008080\">    970</span> │ <span style=\"color: #008000; text-decoration-color: #008000\"> █▁▁▁▁▁ </span> │  │\n",
       "│ │ <span style=\"color: #af87ff; text-decoration-color: #af87ff\">Manisa            </span> │ <span style=\"color: #008080; text-decoration-color: #008080\">        0</span> │ <span style=\"color: #008080; text-decoration-color: #008080\">       0</span> │ <span style=\"color: #008080; text-decoration-color: #008080\">    200</span> │ <span style=\"color: #008080; text-decoration-color: #008080\">   280</span> │ <span style=\"color: #008080; text-decoration-color: #008080\">   0</span> │ <span style=\"color: #008080; text-decoration-color: #008080\">     0</span> │ <span style=\"color: #008080; text-decoration-color: #008080\">   370</span> │ <span style=\"color: #008080; text-decoration-color: #008080\">   1000</span> │ <span style=\"color: #008000; text-decoration-color: #008000\"> █▁▁▁▁▁ </span> │  │\n",
       "│ │ <span style=\"color: #af87ff; text-decoration-color: #af87ff\">Akhisar           </span> │ <span style=\"color: #008080; text-decoration-color: #008080\">        0</span> │ <span style=\"color: #008080; text-decoration-color: #008080\">       0</span> │ <span style=\"color: #008080; text-decoration-color: #008080\">    200</span> │ <span style=\"color: #008080; text-decoration-color: #008080\">   280</span> │ <span style=\"color: #008080; text-decoration-color: #008080\">   0</span> │ <span style=\"color: #008080; text-decoration-color: #008080\">     0</span> │ <span style=\"color: #008080; text-decoration-color: #008080\">   380</span> │ <span style=\"color: #008080; text-decoration-color: #008080\">   1000</span> │ <span style=\"color: #008000; text-decoration-color: #008000\"> █▁▁▁▁▁ </span> │  │\n",
       "│ │ <span style=\"color: #af87ff; text-decoration-color: #af87ff\">Salihli           </span> │ <span style=\"color: #008080; text-decoration-color: #008080\">    27000</span> │ <span style=\"color: #008080; text-decoration-color: #008080\">      70</span> │ <span style=\"color: #008080; text-decoration-color: #008080\">    200</span> │ <span style=\"color: #008080; text-decoration-color: #008080\">   280</span> │ <span style=\"color: #008080; text-decoration-color: #008080\">   0</span> │ <span style=\"color: #008080; text-decoration-color: #008080\">     0</span> │ <span style=\"color: #008080; text-decoration-color: #008080\">   380</span> │ <span style=\"color: #008080; text-decoration-color: #008080\">    980</span> │ <span style=\"color: #008000; text-decoration-color: #008000\"> █▁▁▁▁▁ </span> │  │\n",
       "│ │ <span style=\"color: #af87ff; text-decoration-color: #af87ff\">Çiğli             </span> │ <span style=\"color: #008080; text-decoration-color: #008080\">    27000</span> │ <span style=\"color: #008080; text-decoration-color: #008080\">      70</span> │ <span style=\"color: #008080; text-decoration-color: #008080\">    210</span> │ <span style=\"color: #008080; text-decoration-color: #008080\">   280</span> │ <span style=\"color: #008080; text-decoration-color: #008080\">   0</span> │ <span style=\"color: #008080; text-decoration-color: #008080\">     0</span> │ <span style=\"color: #008080; text-decoration-color: #008080\">   390</span> │ <span style=\"color: #008080; text-decoration-color: #008080\">    970</span> │ <span style=\"color: #008000; text-decoration-color: #008000\"> █▁▁▁▁▁ </span> │  │\n",
       "│ │ <span style=\"color: #af87ff; text-decoration-color: #af87ff\">Menderes          </span> │ <span style=\"color: #008080; text-decoration-color: #008080\">    27000</span> │ <span style=\"color: #008080; text-decoration-color: #008080\">      70</span> │ <span style=\"color: #008080; text-decoration-color: #008080\">    210</span> │ <span style=\"color: #008080; text-decoration-color: #008080\">   290</span> │ <span style=\"color: #008080; text-decoration-color: #008080\">   0</span> │ <span style=\"color: #008080; text-decoration-color: #008080\">     0</span> │ <span style=\"color: #008080; text-decoration-color: #008080\">   400</span> │ <span style=\"color: #008080; text-decoration-color: #008080\">    980</span> │ <span style=\"color: #008000; text-decoration-color: #008000\"> █▁▁▁▁▁ </span> │  │\n",
       "│ │ <span style=\"color: #af87ff; text-decoration-color: #af87ff\">Alaşehir          </span> │ <span style=\"color: #008080; text-decoration-color: #008080\">    27000</span> │ <span style=\"color: #008080; text-decoration-color: #008080\">      70</span> │ <span style=\"color: #008080; text-decoration-color: #008080\">    210</span> │ <span style=\"color: #008080; text-decoration-color: #008080\">   280</span> │ <span style=\"color: #008080; text-decoration-color: #008080\">   0</span> │ <span style=\"color: #008080; text-decoration-color: #008080\">     0</span> │ <span style=\"color: #008080; text-decoration-color: #008080\">   400</span> │ <span style=\"color: #008080; text-decoration-color: #008080\">    990</span> │ <span style=\"color: #008000; text-decoration-color: #008000\"> █▁▁▁▁▁ </span> │  │\n",
       "│ │ <span style=\"color: #af87ff; text-decoration-color: #af87ff\">Demirci           </span> │ <span style=\"color: #008080; text-decoration-color: #008080\">    27000</span> │ <span style=\"color: #008080; text-decoration-color: #008080\">      70</span> │ <span style=\"color: #008080; text-decoration-color: #008080\">    210</span> │ <span style=\"color: #008080; text-decoration-color: #008080\">   280</span> │ <span style=\"color: #008080; text-decoration-color: #008080\">   0</span> │ <span style=\"color: #008080; text-decoration-color: #008080\">     0</span> │ <span style=\"color: #008080; text-decoration-color: #008080\">   390</span> │ <span style=\"color: #008080; text-decoration-color: #008080\">    990</span> │ <span style=\"color: #008000; text-decoration-color: #008000\"> █▁▁▁▁▁ </span> │  │\n",
       "│ │ <span style=\"color: #af87ff; text-decoration-color: #af87ff\">Güzelyalı         </span> │ <span style=\"color: #008080; text-decoration-color: #008080\">      310</span> │ <span style=\"color: #008080; text-decoration-color: #008080\">     0.8</span> │ <span style=\"color: #008080; text-decoration-color: #008080\">    210</span> │ <span style=\"color: #008080; text-decoration-color: #008080\">   290</span> │ <span style=\"color: #008080; text-decoration-color: #008080\">   0</span> │ <span style=\"color: #008080; text-decoration-color: #008080\">     0</span> │ <span style=\"color: #008080; text-decoration-color: #008080\">   390</span> │ <span style=\"color: #008080; text-decoration-color: #008080\">   1000</span> │ <span style=\"color: #008000; text-decoration-color: #008000\"> █▁▁▁▁▁ </span> │  │\n",
       "│ │ <span style=\"color: #af87ff; text-decoration-color: #af87ff\">Kula              </span> │ <span style=\"color: #008080; text-decoration-color: #008080\">    27000</span> │ <span style=\"color: #008080; text-decoration-color: #008080\">      70</span> │ <span style=\"color: #008080; text-decoration-color: #008080\">    210</span> │ <span style=\"color: #008080; text-decoration-color: #008080\">   280</span> │ <span style=\"color: #008080; text-decoration-color: #008080\">   0</span> │ <span style=\"color: #008080; text-decoration-color: #008080\">     0</span> │ <span style=\"color: #008080; text-decoration-color: #008080\">   400</span> │ <span style=\"color: #008080; text-decoration-color: #008080\">    990</span> │ <span style=\"color: #008000; text-decoration-color: #008000\"> █▁▁▁▁▁ </span> │  │\n",
       "│ │ <span style=\"color: #af87ff; text-decoration-color: #af87ff\">Ödemiş            </span> │ <span style=\"color: #008080; text-decoration-color: #008080\">    27000</span> │ <span style=\"color: #008080; text-decoration-color: #008080\">      70</span> │ <span style=\"color: #008080; text-decoration-color: #008080\">    210</span> │ <span style=\"color: #008080; text-decoration-color: #008080\">   290</span> │ <span style=\"color: #008080; text-decoration-color: #008080\">   0</span> │ <span style=\"color: #008080; text-decoration-color: #008080\">     0</span> │ <span style=\"color: #008080; text-decoration-color: #008080\">   400</span> │ <span style=\"color: #008080; text-decoration-color: #008080\">   1000</span> │ <span style=\"color: #008000; text-decoration-color: #008000\"> █▁▁▁▁▁ </span> │  │\n",
       "│ │ <span style=\"color: #af87ff; text-decoration-color: #af87ff\">Soma              </span> │ <span style=\"color: #008080; text-decoration-color: #008080\">    27000</span> │ <span style=\"color: #008080; text-decoration-color: #008080\">      70</span> │ <span style=\"color: #008080; text-decoration-color: #008080\">    200</span> │ <span style=\"color: #008080; text-decoration-color: #008080\">   280</span> │ <span style=\"color: #008080; text-decoration-color: #008080\">   0</span> │ <span style=\"color: #008080; text-decoration-color: #008080\">     0</span> │ <span style=\"color: #008080; text-decoration-color: #008080\">   380</span> │ <span style=\"color: #008080; text-decoration-color: #008080\">    970</span> │ <span style=\"color: #008000; text-decoration-color: #008000\"> █▁▁▁▁▁ </span> │  │\n",
       "│ │ <span style=\"color: #af87ff; text-decoration-color: #af87ff\">Urla              </span> │ <span style=\"color: #008080; text-decoration-color: #008080\">    27000</span> │ <span style=\"color: #008080; text-decoration-color: #008080\">      70</span> │ <span style=\"color: #008080; text-decoration-color: #008080\">    210</span> │ <span style=\"color: #008080; text-decoration-color: #008080\">   290</span> │ <span style=\"color: #008080; text-decoration-color: #008080\">   0</span> │ <span style=\"color: #008080; text-decoration-color: #008080\">     0</span> │ <span style=\"color: #008080; text-decoration-color: #008080\">   400</span> │ <span style=\"color: #008080; text-decoration-color: #008080\">    970</span> │ <span style=\"color: #008000; text-decoration-color: #008000\"> █▁▁▁▁▁ </span> │  │\n",
       "│ │ <span style=\"color: #af87ff; text-decoration-color: #af87ff\">Unnamed: 17       </span> │ <span style=\"color: #008080; text-decoration-color: #008080\">    39000</span> │ <span style=\"color: #008080; text-decoration-color: #008080\">     100</span> │ <span style=\"color: #008080; text-decoration-color: #008080\">      0</span> │ <span style=\"color: #008080; text-decoration-color: #008080\">     0</span> │ <span style=\"color: #008080; text-decoration-color: #008080\">   0</span> │ <span style=\"color: #008080; text-decoration-color: #008080\">     0</span> │ <span style=\"color: #008080; text-decoration-color: #008080\">     0</span> │ <span style=\"color: #008080; text-decoration-color: #008080\">      0</span> │ <span style=\"color: #008000; text-decoration-color: #008000\">     █  </span> │  │\n",
       "│ └────────────────────┴───────────┴──────────┴─────────┴────────┴──────┴────────┴────────┴─────────┴──────────┘  │\n",
       "│ <span style=\"font-style: italic\">                                                    string                                                    </span>  │\n",
       "│ ┏━━━━━━━━━━━━━━━━━━━━━━━━━━━┳━━━━━━━━━┳━━━━━━━━━━━━┳━━━━━━━━━━━━━━━━━━━━━━━━━━━━━━┳━━━━━━━━━━━━━━━━━━━━━━━━━━┓  │\n",
       "│ ┃<span style=\"font-weight: bold\"> column_name               </span>┃<span style=\"font-weight: bold\"> NA      </span>┃<span style=\"font-weight: bold\"> NA %       </span>┃<span style=\"font-weight: bold\"> words per row                </span>┃<span style=\"font-weight: bold\"> total words              </span>┃  │\n",
       "│ ┡━━━━━━━━━━━━━━━━━━━━━━━━━━━╇━━━━━━━━━╇━━━━━━━━━━━━╇━━━━━━━━━━━━━━━━━━━━━━━━━━━━━━╇━━━━━━━━━━━━━━━━━━━━━━━━━━┩  │\n",
       "│ │ <span style=\"color: #af87ff; text-decoration-color: #af87ff\">Tarih                    </span> │ <span style=\"color: #008080; text-decoration-color: #008080\">      0</span> │ <span style=\"color: #008080; text-decoration-color: #008080\">         0</span> │ <span style=\"color: #008080; text-decoration-color: #008080\">                           2</span> │ <span style=\"color: #008080; text-decoration-color: #008080\">                   78000</span> │  │\n",
       "│ └───────────────────────────┴─────────┴────────────┴──────────────────────────────┴──────────────────────────┘  │\n",
       "╰────────────────────────────────────────────────────── End ──────────────────────────────────────────────────────╯\n",
       "</pre>\n"
      ],
      "text/plain": [
       "╭──────────────────────────────────────────────── skimpy summary ─────────────────────────────────────────────────╮\n",
       "│ \u001b[3m         Data Summary         \u001b[0m \u001b[3m      Data Types       \u001b[0m                                                          │\n",
       "│ ┏━━━━━━━━━━━━━━━━━━━┳━━━━━━━━┓ ┏━━━━━━━━━━━━━┳━━━━━━━┓                                                          │\n",
       "│ ┃\u001b[1;36m \u001b[0m\u001b[1;36mdataframe        \u001b[0m\u001b[1;36m \u001b[0m┃\u001b[1;36m \u001b[0m\u001b[1;36mValues\u001b[0m\u001b[1;36m \u001b[0m┃ ┃\u001b[1;36m \u001b[0m\u001b[1;36mColumn Type\u001b[0m\u001b[1;36m \u001b[0m┃\u001b[1;36m \u001b[0m\u001b[1;36mCount\u001b[0m\u001b[1;36m \u001b[0m┃                                                          │\n",
       "│ ┡━━━━━━━━━━━━━━━━━━━╇━━━━━━━━┩ ┡━━━━━━━━━━━━━╇━━━━━━━┩                                                          │\n",
       "│ │ Number of rows    │ 38832  │ │ float64     │ 17    │                                                          │\n",
       "│ │ Number of columns │ 18     │ │ string      │ 1     │                                                          │\n",
       "│ └───────────────────┴────────┘ └─────────────┴───────┘                                                          │\n",
       "│ \u001b[3m                                                    number                                                    \u001b[0m  │\n",
       "│ ┏━━━━━━━━━━━━━━━━━━━━┳━━━━━━━━━━━┳━━━━━━━━━━┳━━━━━━━━━┳━━━━━━━━┳━━━━━━┳━━━━━━━━┳━━━━━━━━┳━━━━━━━━━┳━━━━━━━━━━┓  │\n",
       "│ ┃\u001b[1m \u001b[0m\u001b[1mcolumn_name       \u001b[0m\u001b[1m \u001b[0m┃\u001b[1m \u001b[0m\u001b[1mNA       \u001b[0m\u001b[1m \u001b[0m┃\u001b[1m \u001b[0m\u001b[1mNA %    \u001b[0m\u001b[1m \u001b[0m┃\u001b[1m \u001b[0m\u001b[1mmean   \u001b[0m\u001b[1m \u001b[0m┃\u001b[1m \u001b[0m\u001b[1msd    \u001b[0m\u001b[1m \u001b[0m┃\u001b[1m \u001b[0m\u001b[1mp0  \u001b[0m\u001b[1m \u001b[0m┃\u001b[1m \u001b[0m\u001b[1mp25   \u001b[0m\u001b[1m \u001b[0m┃\u001b[1m \u001b[0m\u001b[1mp75   \u001b[0m\u001b[1m \u001b[0m┃\u001b[1m \u001b[0m\u001b[1mp100   \u001b[0m\u001b[1m \u001b[0m┃\u001b[1m \u001b[0m\u001b[1mhist    \u001b[0m\u001b[1m \u001b[0m┃  │\n",
       "│ ┡━━━━━━━━━━━━━━━━━━━━╇━━━━━━━━━━━╇━━━━━━━━━━╇━━━━━━━━━╇━━━━━━━━╇━━━━━━╇━━━━━━━━╇━━━━━━━━╇━━━━━━━━━╇━━━━━━━━━━┩  │\n",
       "│ │ \u001b[38;5;141mİzmir             \u001b[0m │ \u001b[36m    27000\u001b[0m │ \u001b[36m      70\u001b[0m │ \u001b[36m    210\u001b[0m │ \u001b[36m   280\u001b[0m │ \u001b[36m   0\u001b[0m │ \u001b[36m     0\u001b[0m │ \u001b[36m   400\u001b[0m │ \u001b[36m    970\u001b[0m │ \u001b[32m █▁▁▁▁▁ \u001b[0m │  │\n",
       "│ │ \u001b[38;5;141mAliağa            \u001b[0m │ \u001b[36m    27000\u001b[0m │ \u001b[36m      70\u001b[0m │ \u001b[36m    210\u001b[0m │ \u001b[36m   280\u001b[0m │ \u001b[36m   0\u001b[0m │ \u001b[36m     0\u001b[0m │ \u001b[36m   400\u001b[0m │ \u001b[36m    970\u001b[0m │ \u001b[32m █▁▁▁▁▁ \u001b[0m │  │\n",
       "│ │ \u001b[38;5;141mÇeşme             \u001b[0m │ \u001b[36m        0\u001b[0m │ \u001b[36m       0\u001b[0m │ \u001b[36m    210\u001b[0m │ \u001b[36m   290\u001b[0m │ \u001b[36m   0\u001b[0m │ \u001b[36m     0\u001b[0m │ \u001b[36m   390\u001b[0m │ \u001b[36m   1200\u001b[0m │ \u001b[32m █▁▁▁▁  \u001b[0m │  │\n",
       "│ │ \u001b[38;5;141mBergama           \u001b[0m │ \u001b[36m    27000\u001b[0m │ \u001b[36m      70\u001b[0m │ \u001b[36m    200\u001b[0m │ \u001b[36m   280\u001b[0m │ \u001b[36m   0\u001b[0m │ \u001b[36m     0\u001b[0m │ \u001b[36m   390\u001b[0m │ \u001b[36m    970\u001b[0m │ \u001b[32m █▁▁▁▁▁ \u001b[0m │  │\n",
       "│ │ \u001b[38;5;141mManisa            \u001b[0m │ \u001b[36m        0\u001b[0m │ \u001b[36m       0\u001b[0m │ \u001b[36m    200\u001b[0m │ \u001b[36m   280\u001b[0m │ \u001b[36m   0\u001b[0m │ \u001b[36m     0\u001b[0m │ \u001b[36m   370\u001b[0m │ \u001b[36m   1000\u001b[0m │ \u001b[32m █▁▁▁▁▁ \u001b[0m │  │\n",
       "│ │ \u001b[38;5;141mAkhisar           \u001b[0m │ \u001b[36m        0\u001b[0m │ \u001b[36m       0\u001b[0m │ \u001b[36m    200\u001b[0m │ \u001b[36m   280\u001b[0m │ \u001b[36m   0\u001b[0m │ \u001b[36m     0\u001b[0m │ \u001b[36m   380\u001b[0m │ \u001b[36m   1000\u001b[0m │ \u001b[32m █▁▁▁▁▁ \u001b[0m │  │\n",
       "│ │ \u001b[38;5;141mSalihli           \u001b[0m │ \u001b[36m    27000\u001b[0m │ \u001b[36m      70\u001b[0m │ \u001b[36m    200\u001b[0m │ \u001b[36m   280\u001b[0m │ \u001b[36m   0\u001b[0m │ \u001b[36m     0\u001b[0m │ \u001b[36m   380\u001b[0m │ \u001b[36m    980\u001b[0m │ \u001b[32m █▁▁▁▁▁ \u001b[0m │  │\n",
       "│ │ \u001b[38;5;141mÇiğli             \u001b[0m │ \u001b[36m    27000\u001b[0m │ \u001b[36m      70\u001b[0m │ \u001b[36m    210\u001b[0m │ \u001b[36m   280\u001b[0m │ \u001b[36m   0\u001b[0m │ \u001b[36m     0\u001b[0m │ \u001b[36m   390\u001b[0m │ \u001b[36m    970\u001b[0m │ \u001b[32m █▁▁▁▁▁ \u001b[0m │  │\n",
       "│ │ \u001b[38;5;141mMenderes          \u001b[0m │ \u001b[36m    27000\u001b[0m │ \u001b[36m      70\u001b[0m │ \u001b[36m    210\u001b[0m │ \u001b[36m   290\u001b[0m │ \u001b[36m   0\u001b[0m │ \u001b[36m     0\u001b[0m │ \u001b[36m   400\u001b[0m │ \u001b[36m    980\u001b[0m │ \u001b[32m █▁▁▁▁▁ \u001b[0m │  │\n",
       "│ │ \u001b[38;5;141mAlaşehir          \u001b[0m │ \u001b[36m    27000\u001b[0m │ \u001b[36m      70\u001b[0m │ \u001b[36m    210\u001b[0m │ \u001b[36m   280\u001b[0m │ \u001b[36m   0\u001b[0m │ \u001b[36m     0\u001b[0m │ \u001b[36m   400\u001b[0m │ \u001b[36m    990\u001b[0m │ \u001b[32m █▁▁▁▁▁ \u001b[0m │  │\n",
       "│ │ \u001b[38;5;141mDemirci           \u001b[0m │ \u001b[36m    27000\u001b[0m │ \u001b[36m      70\u001b[0m │ \u001b[36m    210\u001b[0m │ \u001b[36m   280\u001b[0m │ \u001b[36m   0\u001b[0m │ \u001b[36m     0\u001b[0m │ \u001b[36m   390\u001b[0m │ \u001b[36m    990\u001b[0m │ \u001b[32m █▁▁▁▁▁ \u001b[0m │  │\n",
       "│ │ \u001b[38;5;141mGüzelyalı         \u001b[0m │ \u001b[36m      310\u001b[0m │ \u001b[36m     0.8\u001b[0m │ \u001b[36m    210\u001b[0m │ \u001b[36m   290\u001b[0m │ \u001b[36m   0\u001b[0m │ \u001b[36m     0\u001b[0m │ \u001b[36m   390\u001b[0m │ \u001b[36m   1000\u001b[0m │ \u001b[32m █▁▁▁▁▁ \u001b[0m │  │\n",
       "│ │ \u001b[38;5;141mKula              \u001b[0m │ \u001b[36m    27000\u001b[0m │ \u001b[36m      70\u001b[0m │ \u001b[36m    210\u001b[0m │ \u001b[36m   280\u001b[0m │ \u001b[36m   0\u001b[0m │ \u001b[36m     0\u001b[0m │ \u001b[36m   400\u001b[0m │ \u001b[36m    990\u001b[0m │ \u001b[32m █▁▁▁▁▁ \u001b[0m │  │\n",
       "│ │ \u001b[38;5;141mÖdemiş            \u001b[0m │ \u001b[36m    27000\u001b[0m │ \u001b[36m      70\u001b[0m │ \u001b[36m    210\u001b[0m │ \u001b[36m   290\u001b[0m │ \u001b[36m   0\u001b[0m │ \u001b[36m     0\u001b[0m │ \u001b[36m   400\u001b[0m │ \u001b[36m   1000\u001b[0m │ \u001b[32m █▁▁▁▁▁ \u001b[0m │  │\n",
       "│ │ \u001b[38;5;141mSoma              \u001b[0m │ \u001b[36m    27000\u001b[0m │ \u001b[36m      70\u001b[0m │ \u001b[36m    200\u001b[0m │ \u001b[36m   280\u001b[0m │ \u001b[36m   0\u001b[0m │ \u001b[36m     0\u001b[0m │ \u001b[36m   380\u001b[0m │ \u001b[36m    970\u001b[0m │ \u001b[32m █▁▁▁▁▁ \u001b[0m │  │\n",
       "│ │ \u001b[38;5;141mUrla              \u001b[0m │ \u001b[36m    27000\u001b[0m │ \u001b[36m      70\u001b[0m │ \u001b[36m    210\u001b[0m │ \u001b[36m   290\u001b[0m │ \u001b[36m   0\u001b[0m │ \u001b[36m     0\u001b[0m │ \u001b[36m   400\u001b[0m │ \u001b[36m    970\u001b[0m │ \u001b[32m █▁▁▁▁▁ \u001b[0m │  │\n",
       "│ │ \u001b[38;5;141mUnnamed: 17       \u001b[0m │ \u001b[36m    39000\u001b[0m │ \u001b[36m     100\u001b[0m │ \u001b[36m      0\u001b[0m │ \u001b[36m     0\u001b[0m │ \u001b[36m   0\u001b[0m │ \u001b[36m     0\u001b[0m │ \u001b[36m     0\u001b[0m │ \u001b[36m      0\u001b[0m │ \u001b[32m     █  \u001b[0m │  │\n",
       "│ └────────────────────┴───────────┴──────────┴─────────┴────────┴──────┴────────┴────────┴─────────┴──────────┘  │\n",
       "│ \u001b[3m                                                    string                                                    \u001b[0m  │\n",
       "│ ┏━━━━━━━━━━━━━━━━━━━━━━━━━━━┳━━━━━━━━━┳━━━━━━━━━━━━┳━━━━━━━━━━━━━━━━━━━━━━━━━━━━━━┳━━━━━━━━━━━━━━━━━━━━━━━━━━┓  │\n",
       "│ ┃\u001b[1m \u001b[0m\u001b[1mcolumn_name              \u001b[0m\u001b[1m \u001b[0m┃\u001b[1m \u001b[0m\u001b[1mNA     \u001b[0m\u001b[1m \u001b[0m┃\u001b[1m \u001b[0m\u001b[1mNA %      \u001b[0m\u001b[1m \u001b[0m┃\u001b[1m \u001b[0m\u001b[1mwords per row               \u001b[0m\u001b[1m \u001b[0m┃\u001b[1m \u001b[0m\u001b[1mtotal words             \u001b[0m\u001b[1m \u001b[0m┃  │\n",
       "│ ┡━━━━━━━━━━━━━━━━━━━━━━━━━━━╇━━━━━━━━━╇━━━━━━━━━━━━╇━━━━━━━━━━━━━━━━━━━━━━━━━━━━━━╇━━━━━━━━━━━━━━━━━━━━━━━━━━┩  │\n",
       "│ │ \u001b[38;5;141mTarih                    \u001b[0m │ \u001b[36m      0\u001b[0m │ \u001b[36m         0\u001b[0m │ \u001b[36m                           2\u001b[0m │ \u001b[36m                   78000\u001b[0m │  │\n",
       "│ └───────────────────────────┴─────────┴────────────┴──────────────────────────────┴──────────────────────────┘  │\n",
       "╰────────────────────────────────────────────────────── End ──────────────────────────────────────────────────────╯\n"
      ]
     },
     "metadata": {},
     "output_type": "display_data"
    }
   ],
   "source": [
    "skim(df_rad)"
   ]
  },
  {
   "cell_type": "markdown",
   "metadata": {},
   "source": [
    "### **<span style='color:turquoise'> Wind Speed </span>** "
   ]
  },
  {
   "cell_type": "markdown",
   "metadata": {},
   "source": [
    "unit = `m/s`"
   ]
  },
  {
   "cell_type": "code",
   "execution_count": 129,
   "metadata": {},
   "outputs": [],
   "source": [
    "df6 = pd.read_csv(\"Weather_Ruzgar-Hizi.csv\")\n",
    "df_ws = df6.copy()"
   ]
  },
  {
   "cell_type": "code",
   "execution_count": 130,
   "metadata": {},
   "outputs": [
    {
     "data": {
      "text/html": [
       "<div>\n",
       "<style scoped>\n",
       "    .dataframe tbody tr th:only-of-type {\n",
       "        vertical-align: middle;\n",
       "    }\n",
       "\n",
       "    .dataframe tbody tr th {\n",
       "        vertical-align: top;\n",
       "    }\n",
       "\n",
       "    .dataframe thead th {\n",
       "        text-align: right;\n",
       "    }\n",
       "</style>\n",
       "<table border=\"1\" class=\"dataframe\">\n",
       "  <thead>\n",
       "    <tr style=\"text-align: right;\">\n",
       "      <th></th>\n",
       "      <th>Tarih</th>\n",
       "      <th>İzmir</th>\n",
       "      <th>Aliağa</th>\n",
       "      <th>Çeşme</th>\n",
       "      <th>Bergama</th>\n",
       "      <th>Manisa</th>\n",
       "      <th>Akhisar</th>\n",
       "      <th>Salihli</th>\n",
       "      <th>Çiğli</th>\n",
       "      <th>Menderes</th>\n",
       "      <th>Alaşehir</th>\n",
       "      <th>Demirci</th>\n",
       "      <th>Güzelyalı</th>\n",
       "      <th>Kula</th>\n",
       "      <th>Ödemiş</th>\n",
       "      <th>Soma</th>\n",
       "      <th>Urla</th>\n",
       "    </tr>\n",
       "  </thead>\n",
       "  <tbody>\n",
       "    <tr>\n",
       "      <th>0</th>\n",
       "      <td>2021-02-01 00:00:00</td>\n",
       "      <td>5.171</td>\n",
       "      <td>8.368</td>\n",
       "      <td>12.943</td>\n",
       "      <td>0.905</td>\n",
       "      <td>0.921</td>\n",
       "      <td>1.905</td>\n",
       "      <td>3.142</td>\n",
       "      <td>9.162</td>\n",
       "      <td>2.894</td>\n",
       "      <td>NaN</td>\n",
       "      <td>NaN</td>\n",
       "      <td>NaN</td>\n",
       "      <td>NaN</td>\n",
       "      <td>NaN</td>\n",
       "      <td>NaN</td>\n",
       "      <td>NaN</td>\n",
       "    </tr>\n",
       "    <tr>\n",
       "      <th>1</th>\n",
       "      <td>2021-02-01 01:00:00</td>\n",
       "      <td>5.357</td>\n",
       "      <td>8.827</td>\n",
       "      <td>13.499</td>\n",
       "      <td>1.078</td>\n",
       "      <td>1.025</td>\n",
       "      <td>1.980</td>\n",
       "      <td>3.294</td>\n",
       "      <td>9.380</td>\n",
       "      <td>3.014</td>\n",
       "      <td>NaN</td>\n",
       "      <td>NaN</td>\n",
       "      <td>NaN</td>\n",
       "      <td>NaN</td>\n",
       "      <td>NaN</td>\n",
       "      <td>NaN</td>\n",
       "      <td>NaN</td>\n",
       "    </tr>\n",
       "    <tr>\n",
       "      <th>2</th>\n",
       "      <td>2021-02-01 02:00:00</td>\n",
       "      <td>5.545</td>\n",
       "      <td>9.287</td>\n",
       "      <td>14.057</td>\n",
       "      <td>1.253</td>\n",
       "      <td>1.140</td>\n",
       "      <td>2.055</td>\n",
       "      <td>3.447</td>\n",
       "      <td>9.606</td>\n",
       "      <td>3.141</td>\n",
       "      <td>NaN</td>\n",
       "      <td>NaN</td>\n",
       "      <td>NaN</td>\n",
       "      <td>NaN</td>\n",
       "      <td>NaN</td>\n",
       "      <td>NaN</td>\n",
       "      <td>NaN</td>\n",
       "    </tr>\n",
       "    <tr>\n",
       "      <th>3</th>\n",
       "      <td>2021-02-01 03:00:00</td>\n",
       "      <td>5.597</td>\n",
       "      <td>8.979</td>\n",
       "      <td>13.960</td>\n",
       "      <td>0.837</td>\n",
       "      <td>1.325</td>\n",
       "      <td>1.701</td>\n",
       "      <td>3.911</td>\n",
       "      <td>9.755</td>\n",
       "      <td>2.880</td>\n",
       "      <td>NaN</td>\n",
       "      <td>NaN</td>\n",
       "      <td>NaN</td>\n",
       "      <td>NaN</td>\n",
       "      <td>NaN</td>\n",
       "      <td>NaN</td>\n",
       "      <td>NaN</td>\n",
       "    </tr>\n",
       "    <tr>\n",
       "      <th>4</th>\n",
       "      <td>2021-02-01 04:00:00</td>\n",
       "      <td>5.442</td>\n",
       "      <td>9.777</td>\n",
       "      <td>14.307</td>\n",
       "      <td>0.725</td>\n",
       "      <td>1.297</td>\n",
       "      <td>1.807</td>\n",
       "      <td>3.848</td>\n",
       "      <td>9.759</td>\n",
       "      <td>2.971</td>\n",
       "      <td>NaN</td>\n",
       "      <td>NaN</td>\n",
       "      <td>NaN</td>\n",
       "      <td>NaN</td>\n",
       "      <td>NaN</td>\n",
       "      <td>NaN</td>\n",
       "      <td>NaN</td>\n",
       "    </tr>\n",
       "  </tbody>\n",
       "</table>\n",
       "</div>"
      ],
      "text/plain": [
       "                 Tarih  İzmir  Aliağa  Çeşme  Bergama  Manisa  Akhisar  \\\n",
       "0  2021-02-01 00:00:00  5.171   8.368 12.943    0.905   0.921    1.905   \n",
       "1  2021-02-01 01:00:00  5.357   8.827 13.499    1.078   1.025    1.980   \n",
       "2  2021-02-01 02:00:00  5.545   9.287 14.057    1.253   1.140    2.055   \n",
       "3  2021-02-01 03:00:00  5.597   8.979 13.960    0.837   1.325    1.701   \n",
       "4  2021-02-01 04:00:00  5.442   9.777 14.307    0.725   1.297    1.807   \n",
       "\n",
       "   Salihli  Çiğli  Menderes  Alaşehir  Demirci  Güzelyalı  Kula  Ödemiş  Soma  \\\n",
       "0    3.142  9.162     2.894       NaN      NaN        NaN   NaN     NaN   NaN   \n",
       "1    3.294  9.380     3.014       NaN      NaN        NaN   NaN     NaN   NaN   \n",
       "2    3.447  9.606     3.141       NaN      NaN        NaN   NaN     NaN   NaN   \n",
       "3    3.911  9.755     2.880       NaN      NaN        NaN   NaN     NaN   NaN   \n",
       "4    3.848  9.759     2.971       NaN      NaN        NaN   NaN     NaN   NaN   \n",
       "\n",
       "   Urla  \n",
       "0   NaN  \n",
       "1   NaN  \n",
       "2   NaN  \n",
       "3   NaN  \n",
       "4   NaN  "
      ]
     },
     "execution_count": 130,
     "metadata": {},
     "output_type": "execute_result"
    }
   ],
   "source": [
    "df_ws.head()"
   ]
  },
  {
   "cell_type": "code",
   "execution_count": 131,
   "metadata": {},
   "outputs": [
    {
     "data": {
      "text/plain": [
       "(38832, 17)"
      ]
     },
     "execution_count": 131,
     "metadata": {},
     "output_type": "execute_result"
    }
   ],
   "source": [
    "df_ws.shape"
   ]
  },
  {
   "cell_type": "code",
   "execution_count": 132,
   "metadata": {},
   "outputs": [
    {
     "name": "stdout",
     "output_type": "stream",
     "text": [
      "<class 'pandas.core.frame.DataFrame'>\n",
      "RangeIndex: 38832 entries, 0 to 38831\n",
      "Data columns (total 17 columns):\n",
      " #   Column     Non-Null Count  Dtype  \n",
      "---  ------     --------------  -----  \n",
      " 0   Tarih      38832 non-null  object \n",
      " 1   İzmir      11784 non-null  float64\n",
      " 2   Aliağa     11784 non-null  float64\n",
      " 3   Çeşme      38832 non-null  float64\n",
      " 4   Bergama    11784 non-null  float64\n",
      " 5   Manisa     38832 non-null  float64\n",
      " 6   Akhisar    38832 non-null  float64\n",
      " 7   Salihli    11784 non-null  float64\n",
      " 8   Çiğli      11784 non-null  float64\n",
      " 9   Menderes   11784 non-null  float64\n",
      " 10  Alaşehir   11472 non-null  float64\n",
      " 11  Demirci    11472 non-null  float64\n",
      " 12  Güzelyalı  38520 non-null  float64\n",
      " 13  Kula       11472 non-null  float64\n",
      " 14  Ödemiş     11472 non-null  float64\n",
      " 15  Soma       11472 non-null  float64\n",
      " 16  Urla       11472 non-null  float64\n",
      "dtypes: float64(16), object(1)\n",
      "memory usage: 5.0+ MB\n"
     ]
    }
   ],
   "source": [
    "df_ws.info()"
   ]
  },
  {
   "cell_type": "code",
   "execution_count": 133,
   "metadata": {},
   "outputs": [
    {
     "data": {
      "text/html": [
       "<pre style=\"white-space:pre;overflow-x:auto;line-height:normal;font-family:Menlo,'DejaVu Sans Mono',consolas,'Courier New',monospace\">╭──────────────────────────────────────────────── skimpy summary ─────────────────────────────────────────────────╮\n",
       "│ <span style=\"font-style: italic\">         Data Summary         </span> <span style=\"font-style: italic\">      Data Types       </span>                                                          │\n",
       "│ ┏━━━━━━━━━━━━━━━━━━━┳━━━━━━━━┓ ┏━━━━━━━━━━━━━┳━━━━━━━┓                                                          │\n",
       "│ ┃<span style=\"color: #008080; text-decoration-color: #008080; font-weight: bold\"> dataframe         </span>┃<span style=\"color: #008080; text-decoration-color: #008080; font-weight: bold\"> Values </span>┃ ┃<span style=\"color: #008080; text-decoration-color: #008080; font-weight: bold\"> Column Type </span>┃<span style=\"color: #008080; text-decoration-color: #008080; font-weight: bold\"> Count </span>┃                                                          │\n",
       "│ ┡━━━━━━━━━━━━━━━━━━━╇━━━━━━━━┩ ┡━━━━━━━━━━━━━╇━━━━━━━┩                                                          │\n",
       "│ │ Number of rows    │ 38832  │ │ float64     │ 16    │                                                          │\n",
       "│ │ Number of columns │ 17     │ │ string      │ 1     │                                                          │\n",
       "│ └───────────────────┴────────┘ └─────────────┴───────┘                                                          │\n",
       "│ <span style=\"font-style: italic\">                                                    number                                                    </span>  │\n",
       "│ ┏━━━━━━━━━━━━━━━━━━━┳━━━━━━━━━━┳━━━━━━━━━┳━━━━━━━━━┳━━━━━━━━━┳━━━━━━━━━━┳━━━━━━━━┳━━━━━━━┳━━━━━━━━┳━━━━━━━━━━┓  │\n",
       "│ ┃<span style=\"font-weight: bold\"> column_name       </span>┃<span style=\"font-weight: bold\"> NA       </span>┃<span style=\"font-weight: bold\"> NA %    </span>┃<span style=\"font-weight: bold\"> mean    </span>┃<span style=\"font-weight: bold\"> sd      </span>┃<span style=\"font-weight: bold\"> p0       </span>┃<span style=\"font-weight: bold\"> p25    </span>┃<span style=\"font-weight: bold\"> p75   </span>┃<span style=\"font-weight: bold\"> p100   </span>┃<span style=\"font-weight: bold\"> hist     </span>┃  │\n",
       "│ ┡━━━━━━━━━━━━━━━━━━━╇━━━━━━━━━━╇━━━━━━━━━╇━━━━━━━━━╇━━━━━━━━━╇━━━━━━━━━━╇━━━━━━━━╇━━━━━━━╇━━━━━━━━╇━━━━━━━━━━┩  │\n",
       "│ │ <span style=\"color: #af87ff; text-decoration-color: #af87ff\">İzmir            </span> │ <span style=\"color: #008080; text-decoration-color: #008080\">   27000</span> │ <span style=\"color: #008080; text-decoration-color: #008080\">     70</span> │ <span style=\"color: #008080; text-decoration-color: #008080\">    2.6</span> │ <span style=\"color: #008080; text-decoration-color: #008080\">    1.4</span> │ <span style=\"color: #008080; text-decoration-color: #008080\">   0.054</span> │ <span style=\"color: #008080; text-decoration-color: #008080\">   1.5</span> │ <span style=\"color: #008080; text-decoration-color: #008080\">  3.5</span> │ <span style=\"color: #008080; text-decoration-color: #008080\">    10</span> │ <span style=\"color: #008000; text-decoration-color: #008000\">  ▇█▄▁  </span> │  │\n",
       "│ │ <span style=\"color: #af87ff; text-decoration-color: #af87ff\">Aliağa           </span> │ <span style=\"color: #008080; text-decoration-color: #008080\">   27000</span> │ <span style=\"color: #008080; text-decoration-color: #008080\">     70</span> │ <span style=\"color: #008080; text-decoration-color: #008080\">    4.5</span> │ <span style=\"color: #008080; text-decoration-color: #008080\">    2.5</span> │ <span style=\"color: #008080; text-decoration-color: #008080\">   0.048</span> │ <span style=\"color: #008080; text-decoration-color: #008080\">   2.7</span> │ <span style=\"color: #008080; text-decoration-color: #008080\">  6.2</span> │ <span style=\"color: #008080; text-decoration-color: #008080\">    14</span> │ <span style=\"color: #008000; text-decoration-color: #008000\"> ▄█▅▃▁  </span> │  │\n",
       "│ │ <span style=\"color: #af87ff; text-decoration-color: #af87ff\">Çeşme            </span> │ <span style=\"color: #008080; text-decoration-color: #008080\">       0</span> │ <span style=\"color: #008080; text-decoration-color: #008080\">      0</span> │ <span style=\"color: #008080; text-decoration-color: #008080\">      5</span> │ <span style=\"color: #008080; text-decoration-color: #008080\">      3</span> │ <span style=\"color: #008080; text-decoration-color: #008080\">       0</span> │ <span style=\"color: #008080; text-decoration-color: #008080\">   2.6</span> │ <span style=\"color: #008080; text-decoration-color: #008080\">  6.9</span> │ <span style=\"color: #008080; text-decoration-color: #008080\">    18</span> │ <span style=\"color: #008000; text-decoration-color: #008000\">  ▆█▅▂  </span> │  │\n",
       "│ │ <span style=\"color: #af87ff; text-decoration-color: #af87ff\">Bergama          </span> │ <span style=\"color: #008080; text-decoration-color: #008080\">   27000</span> │ <span style=\"color: #008080; text-decoration-color: #008080\">     70</span> │ <span style=\"color: #008080; text-decoration-color: #008080\">    2.8</span> │ <span style=\"color: #008080; text-decoration-color: #008080\">    1.8</span> │ <span style=\"color: #008080; text-decoration-color: #008080\">   0.044</span> │ <span style=\"color: #008080; text-decoration-color: #008080\">   1.3</span> │ <span style=\"color: #008080; text-decoration-color: #008080\">  4.1</span> │ <span style=\"color: #008080; text-decoration-color: #008080\">    10</span> │ <span style=\"color: #008000; text-decoration-color: #008000\">  █▆▄▂  </span> │  │\n",
       "│ │ <span style=\"color: #af87ff; text-decoration-color: #af87ff\">Manisa           </span> │ <span style=\"color: #008080; text-decoration-color: #008080\">       0</span> │ <span style=\"color: #008080; text-decoration-color: #008080\">      0</span> │ <span style=\"color: #008080; text-decoration-color: #008080\">    1.6</span> │ <span style=\"color: #008080; text-decoration-color: #008080\">    1.1</span> │ <span style=\"color: #008080; text-decoration-color: #008080\">       0</span> │ <span style=\"color: #008080; text-decoration-color: #008080\">  0.81</span> │ <span style=\"color: #008080; text-decoration-color: #008080\">  2.2</span> │ <span style=\"color: #008080; text-decoration-color: #008080\">     8</span> │ <span style=\"color: #008000; text-decoration-color: #008000\">  █▆▂   </span> │  │\n",
       "│ │ <span style=\"color: #af87ff; text-decoration-color: #af87ff\">Akhisar          </span> │ <span style=\"color: #008080; text-decoration-color: #008080\">       0</span> │ <span style=\"color: #008080; text-decoration-color: #008080\">      0</span> │ <span style=\"color: #008080; text-decoration-color: #008080\">    2.4</span> │ <span style=\"color: #008080; text-decoration-color: #008080\">    1.7</span> │ <span style=\"color: #008080; text-decoration-color: #008080\">       0</span> │ <span style=\"color: #008080; text-decoration-color: #008080\">   1.1</span> │ <span style=\"color: #008080; text-decoration-color: #008080\">  3.3</span> │ <span style=\"color: #008080; text-decoration-color: #008080\">    14</span> │ <span style=\"color: #008000; text-decoration-color: #008000\">  █▄▁   </span> │  │\n",
       "│ │ <span style=\"color: #af87ff; text-decoration-color: #af87ff\">Salihli          </span> │ <span style=\"color: #008080; text-decoration-color: #008080\">   27000</span> │ <span style=\"color: #008080; text-decoration-color: #008080\">     70</span> │ <span style=\"color: #008080; text-decoration-color: #008080\">    1.7</span> │ <span style=\"color: #008080; text-decoration-color: #008080\">   0.97</span> │ <span style=\"color: #008080; text-decoration-color: #008080\">   0.004</span> │ <span style=\"color: #008080; text-decoration-color: #008080\">  0.99</span> │ <span style=\"color: #008080; text-decoration-color: #008080\">  2.3</span> │ <span style=\"color: #008080; text-decoration-color: #008080\">   6.9</span> │ <span style=\"color: #008000; text-decoration-color: #008000\">  ▆█▃▁  </span> │  │\n",
       "│ │ <span style=\"color: #af87ff; text-decoration-color: #af87ff\">Çiğli            </span> │ <span style=\"color: #008080; text-decoration-color: #008080\">   27000</span> │ <span style=\"color: #008080; text-decoration-color: #008080\">     70</span> │ <span style=\"color: #008080; text-decoration-color: #008080\">    3.6</span> │ <span style=\"color: #008080; text-decoration-color: #008080\">      2</span> │ <span style=\"color: #008080; text-decoration-color: #008080\">   0.043</span> │ <span style=\"color: #008080; text-decoration-color: #008080\">   2.1</span> │ <span style=\"color: #008080; text-decoration-color: #008080\">  4.8</span> │ <span style=\"color: #008080; text-decoration-color: #008080\">    14</span> │ <span style=\"color: #008000; text-decoration-color: #008000\">  ▆█▄▁  </span> │  │\n",
       "│ │ <span style=\"color: #af87ff; text-decoration-color: #af87ff\">Menderes         </span> │ <span style=\"color: #008080; text-decoration-color: #008080\">   27000</span> │ <span style=\"color: #008080; text-decoration-color: #008080\">     70</span> │ <span style=\"color: #008080; text-decoration-color: #008080\">    2.8</span> │ <span style=\"color: #008080; text-decoration-color: #008080\">    1.6</span> │ <span style=\"color: #008080; text-decoration-color: #008080\">    0.04</span> │ <span style=\"color: #008080; text-decoration-color: #008080\">   1.4</span> │ <span style=\"color: #008080; text-decoration-color: #008080\">  3.8</span> │ <span style=\"color: #008080; text-decoration-color: #008080\">    11</span> │ <span style=\"color: #008000; text-decoration-color: #008000\">  ██▅▁  </span> │  │\n",
       "│ │ <span style=\"color: #af87ff; text-decoration-color: #af87ff\">Alaşehir         </span> │ <span style=\"color: #008080; text-decoration-color: #008080\">   27000</span> │ <span style=\"color: #008080; text-decoration-color: #008080\">     70</span> │ <span style=\"color: #008080; text-decoration-color: #008080\">    1.4</span> │ <span style=\"color: #008080; text-decoration-color: #008080\">   0.92</span> │ <span style=\"color: #008080; text-decoration-color: #008080\">   0.003</span> │ <span style=\"color: #008080; text-decoration-color: #008080\">  0.65</span> │ <span style=\"color: #008080; text-decoration-color: #008080\">  1.9</span> │ <span style=\"color: #008080; text-decoration-color: #008080\">   6.1</span> │ <span style=\"color: #008000; text-decoration-color: #008000\">  █▆▃▁  </span> │  │\n",
       "│ │ <span style=\"color: #af87ff; text-decoration-color: #af87ff\">Demirci          </span> │ <span style=\"color: #008080; text-decoration-color: #008080\">   27000</span> │ <span style=\"color: #008080; text-decoration-color: #008080\">     70</span> │ <span style=\"color: #008080; text-decoration-color: #008080\">    1.7</span> │ <span style=\"color: #008080; text-decoration-color: #008080\">   0.87</span> │ <span style=\"color: #008080; text-decoration-color: #008080\">   0.015</span> │ <span style=\"color: #008080; text-decoration-color: #008080\">   1.1</span> │ <span style=\"color: #008080; text-decoration-color: #008080\">  2.2</span> │ <span style=\"color: #008080; text-decoration-color: #008080\">   7.3</span> │ <span style=\"color: #008000; text-decoration-color: #008000\">  ▅█▂   </span> │  │\n",
       "│ │ <span style=\"color: #af87ff; text-decoration-color: #af87ff\">Güzelyalı        </span> │ <span style=\"color: #008080; text-decoration-color: #008080\">     310</span> │ <span style=\"color: #008080; text-decoration-color: #008080\">    0.8</span> │ <span style=\"color: #008080; text-decoration-color: #008080\">    2.7</span> │ <span style=\"color: #008080; text-decoration-color: #008080\">    1.4</span> │ <span style=\"color: #008080; text-decoration-color: #008080\">       0</span> │ <span style=\"color: #008080; text-decoration-color: #008080\">   1.6</span> │ <span style=\"color: #008080; text-decoration-color: #008080\">  3.6</span> │ <span style=\"color: #008080; text-decoration-color: #008080\">    12</span> │ <span style=\"color: #008000; text-decoration-color: #008000\">  ▆█▃   </span> │  │\n",
       "│ │ <span style=\"color: #af87ff; text-decoration-color: #af87ff\">Kula             </span> │ <span style=\"color: #008080; text-decoration-color: #008080\">   27000</span> │ <span style=\"color: #008080; text-decoration-color: #008080\">     70</span> │ <span style=\"color: #008080; text-decoration-color: #008080\">    1.9</span> │ <span style=\"color: #008080; text-decoration-color: #008080\">    1.1</span> │ <span style=\"color: #008080; text-decoration-color: #008080\">    0.02</span> │ <span style=\"color: #008080; text-decoration-color: #008080\">   1.1</span> │ <span style=\"color: #008080; text-decoration-color: #008080\">  2.4</span> │ <span style=\"color: #008080; text-decoration-color: #008080\">   8.7</span> │ <span style=\"color: #008000; text-decoration-color: #008000\">  ▇█▂   </span> │  │\n",
       "│ │ <span style=\"color: #af87ff; text-decoration-color: #af87ff\">Ödemiş           </span> │ <span style=\"color: #008080; text-decoration-color: #008080\">   27000</span> │ <span style=\"color: #008080; text-decoration-color: #008080\">     70</span> │ <span style=\"color: #008080; text-decoration-color: #008080\">    1.4</span> │ <span style=\"color: #008080; text-decoration-color: #008080\">   0.73</span> │ <span style=\"color: #008080; text-decoration-color: #008080\">   0.028</span> │ <span style=\"color: #008080; text-decoration-color: #008080\">  0.88</span> │ <span style=\"color: #008080; text-decoration-color: #008080\">  1.8</span> │ <span style=\"color: #008080; text-decoration-color: #008080\">   5.8</span> │ <span style=\"color: #008000; text-decoration-color: #008000\">  ▅█▃▁  </span> │  │\n",
       "│ │ <span style=\"color: #af87ff; text-decoration-color: #af87ff\">Soma             </span> │ <span style=\"color: #008080; text-decoration-color: #008080\">   27000</span> │ <span style=\"color: #008080; text-decoration-color: #008080\">     70</span> │ <span style=\"color: #008080; text-decoration-color: #008080\">      2</span> │ <span style=\"color: #008080; text-decoration-color: #008080\">    1.2</span> │ <span style=\"color: #008080; text-decoration-color: #008080\">    0.02</span> │ <span style=\"color: #008080; text-decoration-color: #008080\">     1</span> │ <span style=\"color: #008080; text-decoration-color: #008080\">  2.9</span> │ <span style=\"color: #008080; text-decoration-color: #008080\">   7.7</span> │ <span style=\"color: #008000; text-decoration-color: #008000\">  █▇▅▂  </span> │  │\n",
       "│ │ <span style=\"color: #af87ff; text-decoration-color: #af87ff\">Urla             </span> │ <span style=\"color: #008080; text-decoration-color: #008080\">   27000</span> │ <span style=\"color: #008080; text-decoration-color: #008080\">     70</span> │ <span style=\"color: #008080; text-decoration-color: #008080\">      4</span> │ <span style=\"color: #008080; text-decoration-color: #008080\">    2.4</span> │ <span style=\"color: #008080; text-decoration-color: #008080\">   0.018</span> │ <span style=\"color: #008080; text-decoration-color: #008080\">   2.1</span> │ <span style=\"color: #008080; text-decoration-color: #008080\">  5.7</span> │ <span style=\"color: #008080; text-decoration-color: #008080\">    14</span> │ <span style=\"color: #008000; text-decoration-color: #008000\">  ▇█▆▂  </span> │  │\n",
       "│ └───────────────────┴──────────┴─────────┴─────────┴─────────┴──────────┴────────┴───────┴────────┴──────────┘  │\n",
       "│ <span style=\"font-style: italic\">                                                    string                                                    </span>  │\n",
       "│ ┏━━━━━━━━━━━━━━━━━━━━━━━━━━━┳━━━━━━━━━┳━━━━━━━━━━━━┳━━━━━━━━━━━━━━━━━━━━━━━━━━━━━━┳━━━━━━━━━━━━━━━━━━━━━━━━━━┓  │\n",
       "│ ┃<span style=\"font-weight: bold\"> column_name               </span>┃<span style=\"font-weight: bold\"> NA      </span>┃<span style=\"font-weight: bold\"> NA %       </span>┃<span style=\"font-weight: bold\"> words per row                </span>┃<span style=\"font-weight: bold\"> total words              </span>┃  │\n",
       "│ ┡━━━━━━━━━━━━━━━━━━━━━━━━━━━╇━━━━━━━━━╇━━━━━━━━━━━━╇━━━━━━━━━━━━━━━━━━━━━━━━━━━━━━╇━━━━━━━━━━━━━━━━━━━━━━━━━━┩  │\n",
       "│ │ <span style=\"color: #af87ff; text-decoration-color: #af87ff\">Tarih                    </span> │ <span style=\"color: #008080; text-decoration-color: #008080\">      0</span> │ <span style=\"color: #008080; text-decoration-color: #008080\">         0</span> │ <span style=\"color: #008080; text-decoration-color: #008080\">                           2</span> │ <span style=\"color: #008080; text-decoration-color: #008080\">                   78000</span> │  │\n",
       "│ └───────────────────────────┴─────────┴────────────┴──────────────────────────────┴──────────────────────────┘  │\n",
       "╰────────────────────────────────────────────────────── End ──────────────────────────────────────────────────────╯\n",
       "</pre>\n"
      ],
      "text/plain": [
       "╭──────────────────────────────────────────────── skimpy summary ─────────────────────────────────────────────────╮\n",
       "│ \u001b[3m         Data Summary         \u001b[0m \u001b[3m      Data Types       \u001b[0m                                                          │\n",
       "│ ┏━━━━━━━━━━━━━━━━━━━┳━━━━━━━━┓ ┏━━━━━━━━━━━━━┳━━━━━━━┓                                                          │\n",
       "│ ┃\u001b[1;36m \u001b[0m\u001b[1;36mdataframe        \u001b[0m\u001b[1;36m \u001b[0m┃\u001b[1;36m \u001b[0m\u001b[1;36mValues\u001b[0m\u001b[1;36m \u001b[0m┃ ┃\u001b[1;36m \u001b[0m\u001b[1;36mColumn Type\u001b[0m\u001b[1;36m \u001b[0m┃\u001b[1;36m \u001b[0m\u001b[1;36mCount\u001b[0m\u001b[1;36m \u001b[0m┃                                                          │\n",
       "│ ┡━━━━━━━━━━━━━━━━━━━╇━━━━━━━━┩ ┡━━━━━━━━━━━━━╇━━━━━━━┩                                                          │\n",
       "│ │ Number of rows    │ 38832  │ │ float64     │ 16    │                                                          │\n",
       "│ │ Number of columns │ 17     │ │ string      │ 1     │                                                          │\n",
       "│ └───────────────────┴────────┘ └─────────────┴───────┘                                                          │\n",
       "│ \u001b[3m                                                    number                                                    \u001b[0m  │\n",
       "│ ┏━━━━━━━━━━━━━━━━━━━┳━━━━━━━━━━┳━━━━━━━━━┳━━━━━━━━━┳━━━━━━━━━┳━━━━━━━━━━┳━━━━━━━━┳━━━━━━━┳━━━━━━━━┳━━━━━━━━━━┓  │\n",
       "│ ┃\u001b[1m \u001b[0m\u001b[1mcolumn_name      \u001b[0m\u001b[1m \u001b[0m┃\u001b[1m \u001b[0m\u001b[1mNA      \u001b[0m\u001b[1m \u001b[0m┃\u001b[1m \u001b[0m\u001b[1mNA %   \u001b[0m\u001b[1m \u001b[0m┃\u001b[1m \u001b[0m\u001b[1mmean   \u001b[0m\u001b[1m \u001b[0m┃\u001b[1m \u001b[0m\u001b[1msd     \u001b[0m\u001b[1m \u001b[0m┃\u001b[1m \u001b[0m\u001b[1mp0      \u001b[0m\u001b[1m \u001b[0m┃\u001b[1m \u001b[0m\u001b[1mp25   \u001b[0m\u001b[1m \u001b[0m┃\u001b[1m \u001b[0m\u001b[1mp75  \u001b[0m\u001b[1m \u001b[0m┃\u001b[1m \u001b[0m\u001b[1mp100  \u001b[0m\u001b[1m \u001b[0m┃\u001b[1m \u001b[0m\u001b[1mhist    \u001b[0m\u001b[1m \u001b[0m┃  │\n",
       "│ ┡━━━━━━━━━━━━━━━━━━━╇━━━━━━━━━━╇━━━━━━━━━╇━━━━━━━━━╇━━━━━━━━━╇━━━━━━━━━━╇━━━━━━━━╇━━━━━━━╇━━━━━━━━╇━━━━━━━━━━┩  │\n",
       "│ │ \u001b[38;5;141mİzmir            \u001b[0m │ \u001b[36m   27000\u001b[0m │ \u001b[36m     70\u001b[0m │ \u001b[36m    2.6\u001b[0m │ \u001b[36m    1.4\u001b[0m │ \u001b[36m   0.054\u001b[0m │ \u001b[36m   1.5\u001b[0m │ \u001b[36m  3.5\u001b[0m │ \u001b[36m    10\u001b[0m │ \u001b[32m  ▇█▄▁  \u001b[0m │  │\n",
       "│ │ \u001b[38;5;141mAliağa           \u001b[0m │ \u001b[36m   27000\u001b[0m │ \u001b[36m     70\u001b[0m │ \u001b[36m    4.5\u001b[0m │ \u001b[36m    2.5\u001b[0m │ \u001b[36m   0.048\u001b[0m │ \u001b[36m   2.7\u001b[0m │ \u001b[36m  6.2\u001b[0m │ \u001b[36m    14\u001b[0m │ \u001b[32m ▄█▅▃▁  \u001b[0m │  │\n",
       "│ │ \u001b[38;5;141mÇeşme            \u001b[0m │ \u001b[36m       0\u001b[0m │ \u001b[36m      0\u001b[0m │ \u001b[36m      5\u001b[0m │ \u001b[36m      3\u001b[0m │ \u001b[36m       0\u001b[0m │ \u001b[36m   2.6\u001b[0m │ \u001b[36m  6.9\u001b[0m │ \u001b[36m    18\u001b[0m │ \u001b[32m  ▆█▅▂  \u001b[0m │  │\n",
       "│ │ \u001b[38;5;141mBergama          \u001b[0m │ \u001b[36m   27000\u001b[0m │ \u001b[36m     70\u001b[0m │ \u001b[36m    2.8\u001b[0m │ \u001b[36m    1.8\u001b[0m │ \u001b[36m   0.044\u001b[0m │ \u001b[36m   1.3\u001b[0m │ \u001b[36m  4.1\u001b[0m │ \u001b[36m    10\u001b[0m │ \u001b[32m  █▆▄▂  \u001b[0m │  │\n",
       "│ │ \u001b[38;5;141mManisa           \u001b[0m │ \u001b[36m       0\u001b[0m │ \u001b[36m      0\u001b[0m │ \u001b[36m    1.6\u001b[0m │ \u001b[36m    1.1\u001b[0m │ \u001b[36m       0\u001b[0m │ \u001b[36m  0.81\u001b[0m │ \u001b[36m  2.2\u001b[0m │ \u001b[36m     8\u001b[0m │ \u001b[32m  █▆▂   \u001b[0m │  │\n",
       "│ │ \u001b[38;5;141mAkhisar          \u001b[0m │ \u001b[36m       0\u001b[0m │ \u001b[36m      0\u001b[0m │ \u001b[36m    2.4\u001b[0m │ \u001b[36m    1.7\u001b[0m │ \u001b[36m       0\u001b[0m │ \u001b[36m   1.1\u001b[0m │ \u001b[36m  3.3\u001b[0m │ \u001b[36m    14\u001b[0m │ \u001b[32m  █▄▁   \u001b[0m │  │\n",
       "│ │ \u001b[38;5;141mSalihli          \u001b[0m │ \u001b[36m   27000\u001b[0m │ \u001b[36m     70\u001b[0m │ \u001b[36m    1.7\u001b[0m │ \u001b[36m   0.97\u001b[0m │ \u001b[36m   0.004\u001b[0m │ \u001b[36m  0.99\u001b[0m │ \u001b[36m  2.3\u001b[0m │ \u001b[36m   6.9\u001b[0m │ \u001b[32m  ▆█▃▁  \u001b[0m │  │\n",
       "│ │ \u001b[38;5;141mÇiğli            \u001b[0m │ \u001b[36m   27000\u001b[0m │ \u001b[36m     70\u001b[0m │ \u001b[36m    3.6\u001b[0m │ \u001b[36m      2\u001b[0m │ \u001b[36m   0.043\u001b[0m │ \u001b[36m   2.1\u001b[0m │ \u001b[36m  4.8\u001b[0m │ \u001b[36m    14\u001b[0m │ \u001b[32m  ▆█▄▁  \u001b[0m │  │\n",
       "│ │ \u001b[38;5;141mMenderes         \u001b[0m │ \u001b[36m   27000\u001b[0m │ \u001b[36m     70\u001b[0m │ \u001b[36m    2.8\u001b[0m │ \u001b[36m    1.6\u001b[0m │ \u001b[36m    0.04\u001b[0m │ \u001b[36m   1.4\u001b[0m │ \u001b[36m  3.8\u001b[0m │ \u001b[36m    11\u001b[0m │ \u001b[32m  ██▅▁  \u001b[0m │  │\n",
       "│ │ \u001b[38;5;141mAlaşehir         \u001b[0m │ \u001b[36m   27000\u001b[0m │ \u001b[36m     70\u001b[0m │ \u001b[36m    1.4\u001b[0m │ \u001b[36m   0.92\u001b[0m │ \u001b[36m   0.003\u001b[0m │ \u001b[36m  0.65\u001b[0m │ \u001b[36m  1.9\u001b[0m │ \u001b[36m   6.1\u001b[0m │ \u001b[32m  █▆▃▁  \u001b[0m │  │\n",
       "│ │ \u001b[38;5;141mDemirci          \u001b[0m │ \u001b[36m   27000\u001b[0m │ \u001b[36m     70\u001b[0m │ \u001b[36m    1.7\u001b[0m │ \u001b[36m   0.87\u001b[0m │ \u001b[36m   0.015\u001b[0m │ \u001b[36m   1.1\u001b[0m │ \u001b[36m  2.2\u001b[0m │ \u001b[36m   7.3\u001b[0m │ \u001b[32m  ▅█▂   \u001b[0m │  │\n",
       "│ │ \u001b[38;5;141mGüzelyalı        \u001b[0m │ \u001b[36m     310\u001b[0m │ \u001b[36m    0.8\u001b[0m │ \u001b[36m    2.7\u001b[0m │ \u001b[36m    1.4\u001b[0m │ \u001b[36m       0\u001b[0m │ \u001b[36m   1.6\u001b[0m │ \u001b[36m  3.6\u001b[0m │ \u001b[36m    12\u001b[0m │ \u001b[32m  ▆█▃   \u001b[0m │  │\n",
       "│ │ \u001b[38;5;141mKula             \u001b[0m │ \u001b[36m   27000\u001b[0m │ \u001b[36m     70\u001b[0m │ \u001b[36m    1.9\u001b[0m │ \u001b[36m    1.1\u001b[0m │ \u001b[36m    0.02\u001b[0m │ \u001b[36m   1.1\u001b[0m │ \u001b[36m  2.4\u001b[0m │ \u001b[36m   8.7\u001b[0m │ \u001b[32m  ▇█▂   \u001b[0m │  │\n",
       "│ │ \u001b[38;5;141mÖdemiş           \u001b[0m │ \u001b[36m   27000\u001b[0m │ \u001b[36m     70\u001b[0m │ \u001b[36m    1.4\u001b[0m │ \u001b[36m   0.73\u001b[0m │ \u001b[36m   0.028\u001b[0m │ \u001b[36m  0.88\u001b[0m │ \u001b[36m  1.8\u001b[0m │ \u001b[36m   5.8\u001b[0m │ \u001b[32m  ▅█▃▁  \u001b[0m │  │\n",
       "│ │ \u001b[38;5;141mSoma             \u001b[0m │ \u001b[36m   27000\u001b[0m │ \u001b[36m     70\u001b[0m │ \u001b[36m      2\u001b[0m │ \u001b[36m    1.2\u001b[0m │ \u001b[36m    0.02\u001b[0m │ \u001b[36m     1\u001b[0m │ \u001b[36m  2.9\u001b[0m │ \u001b[36m   7.7\u001b[0m │ \u001b[32m  █▇▅▂  \u001b[0m │  │\n",
       "│ │ \u001b[38;5;141mUrla             \u001b[0m │ \u001b[36m   27000\u001b[0m │ \u001b[36m     70\u001b[0m │ \u001b[36m      4\u001b[0m │ \u001b[36m    2.4\u001b[0m │ \u001b[36m   0.018\u001b[0m │ \u001b[36m   2.1\u001b[0m │ \u001b[36m  5.7\u001b[0m │ \u001b[36m    14\u001b[0m │ \u001b[32m  ▇█▆▂  \u001b[0m │  │\n",
       "│ └───────────────────┴──────────┴─────────┴─────────┴─────────┴──────────┴────────┴───────┴────────┴──────────┘  │\n",
       "│ \u001b[3m                                                    string                                                    \u001b[0m  │\n",
       "│ ┏━━━━━━━━━━━━━━━━━━━━━━━━━━━┳━━━━━━━━━┳━━━━━━━━━━━━┳━━━━━━━━━━━━━━━━━━━━━━━━━━━━━━┳━━━━━━━━━━━━━━━━━━━━━━━━━━┓  │\n",
       "│ ┃\u001b[1m \u001b[0m\u001b[1mcolumn_name              \u001b[0m\u001b[1m \u001b[0m┃\u001b[1m \u001b[0m\u001b[1mNA     \u001b[0m\u001b[1m \u001b[0m┃\u001b[1m \u001b[0m\u001b[1mNA %      \u001b[0m\u001b[1m \u001b[0m┃\u001b[1m \u001b[0m\u001b[1mwords per row               \u001b[0m\u001b[1m \u001b[0m┃\u001b[1m \u001b[0m\u001b[1mtotal words             \u001b[0m\u001b[1m \u001b[0m┃  │\n",
       "│ ┡━━━━━━━━━━━━━━━━━━━━━━━━━━━╇━━━━━━━━━╇━━━━━━━━━━━━╇━━━━━━━━━━━━━━━━━━━━━━━━━━━━━━╇━━━━━━━━━━━━━━━━━━━━━━━━━━┩  │\n",
       "│ │ \u001b[38;5;141mTarih                    \u001b[0m │ \u001b[36m      0\u001b[0m │ \u001b[36m         0\u001b[0m │ \u001b[36m                           2\u001b[0m │ \u001b[36m                   78000\u001b[0m │  │\n",
       "│ └───────────────────────────┴─────────┴────────────┴──────────────────────────────┴──────────────────────────┘  │\n",
       "╰────────────────────────────────────────────────────── End ──────────────────────────────────────────────────────╯\n"
      ]
     },
     "metadata": {},
     "output_type": "display_data"
    }
   ],
   "source": [
    "skim(df_ws)"
   ]
  },
  {
   "cell_type": "markdown",
   "metadata": {},
   "source": [
    "### **<span style='color:turquoise'> Wind Direction </span>** "
   ]
  },
  {
   "cell_type": "markdown",
   "metadata": {},
   "source": [
    "unit = `rad`, clock-wise starting from north"
   ]
  },
  {
   "cell_type": "code",
   "execution_count": 134,
   "metadata": {},
   "outputs": [],
   "source": [
    "df7 = pd.read_csv(\"Weather_Ruzgar-Yonu.csv\")\n",
    "df_wd = df7.copy()"
   ]
  },
  {
   "cell_type": "code",
   "execution_count": 135,
   "metadata": {},
   "outputs": [
    {
     "data": {
      "text/html": [
       "<div>\n",
       "<style scoped>\n",
       "    .dataframe tbody tr th:only-of-type {\n",
       "        vertical-align: middle;\n",
       "    }\n",
       "\n",
       "    .dataframe tbody tr th {\n",
       "        vertical-align: top;\n",
       "    }\n",
       "\n",
       "    .dataframe thead th {\n",
       "        text-align: right;\n",
       "    }\n",
       "</style>\n",
       "<table border=\"1\" class=\"dataframe\">\n",
       "  <thead>\n",
       "    <tr style=\"text-align: right;\">\n",
       "      <th></th>\n",
       "      <th>Tarih</th>\n",
       "      <th>İzmir</th>\n",
       "      <th>Aliağa</th>\n",
       "      <th>Çeşme</th>\n",
       "      <th>Bergama</th>\n",
       "      <th>Manisa</th>\n",
       "      <th>Akhisar</th>\n",
       "      <th>Salihli</th>\n",
       "      <th>Çiğli</th>\n",
       "      <th>Menderes</th>\n",
       "      <th>Alaşehir</th>\n",
       "      <th>Demirci</th>\n",
       "      <th>Güzelyalı</th>\n",
       "      <th>Kula</th>\n",
       "      <th>Ödemiş</th>\n",
       "      <th>Soma</th>\n",
       "      <th>Urla</th>\n",
       "    </tr>\n",
       "  </thead>\n",
       "  <tbody>\n",
       "    <tr>\n",
       "      <th>0</th>\n",
       "      <td>2021-02-01 00:00:00</td>\n",
       "      <td>2.590</td>\n",
       "      <td>2.764</td>\n",
       "      <td>2.852</td>\n",
       "      <td>1.023</td>\n",
       "      <td>2.399</td>\n",
       "      <td>1.963</td>\n",
       "      <td>3.051</td>\n",
       "      <td>2.815</td>\n",
       "      <td>2.312</td>\n",
       "      <td>NaN</td>\n",
       "      <td>NaN</td>\n",
       "      <td>NaN</td>\n",
       "      <td>NaN</td>\n",
       "      <td>NaN</td>\n",
       "      <td>NaN</td>\n",
       "      <td>NaN</td>\n",
       "    </tr>\n",
       "    <tr>\n",
       "      <th>1</th>\n",
       "      <td>2021-02-01 01:00:00</td>\n",
       "      <td>2.570</td>\n",
       "      <td>2.749</td>\n",
       "      <td>2.839</td>\n",
       "      <td>0.967</td>\n",
       "      <td>2.285</td>\n",
       "      <td>1.980</td>\n",
       "      <td>3.047</td>\n",
       "      <td>2.787</td>\n",
       "      <td>2.258</td>\n",
       "      <td>NaN</td>\n",
       "      <td>NaN</td>\n",
       "      <td>NaN</td>\n",
       "      <td>NaN</td>\n",
       "      <td>NaN</td>\n",
       "      <td>NaN</td>\n",
       "      <td>NaN</td>\n",
       "    </tr>\n",
       "    <tr>\n",
       "      <th>2</th>\n",
       "      <td>2021-02-01 02:00:00</td>\n",
       "      <td>2.551</td>\n",
       "      <td>2.735</td>\n",
       "      <td>2.828</td>\n",
       "      <td>0.926</td>\n",
       "      <td>2.192</td>\n",
       "      <td>1.995</td>\n",
       "      <td>3.043</td>\n",
       "      <td>2.760</td>\n",
       "      <td>2.209</td>\n",
       "      <td>NaN</td>\n",
       "      <td>NaN</td>\n",
       "      <td>NaN</td>\n",
       "      <td>NaN</td>\n",
       "      <td>NaN</td>\n",
       "      <td>NaN</td>\n",
       "      <td>NaN</td>\n",
       "    </tr>\n",
       "    <tr>\n",
       "      <th>3</th>\n",
       "      <td>2021-02-01 03:00:00</td>\n",
       "      <td>2.709</td>\n",
       "      <td>2.834</td>\n",
       "      <td>2.829</td>\n",
       "      <td>0.979</td>\n",
       "      <td>2.888</td>\n",
       "      <td>2.403</td>\n",
       "      <td>3.185</td>\n",
       "      <td>2.855</td>\n",
       "      <td>2.458</td>\n",
       "      <td>NaN</td>\n",
       "      <td>NaN</td>\n",
       "      <td>NaN</td>\n",
       "      <td>NaN</td>\n",
       "      <td>NaN</td>\n",
       "      <td>NaN</td>\n",
       "      <td>NaN</td>\n",
       "    </tr>\n",
       "    <tr>\n",
       "      <th>4</th>\n",
       "      <td>2021-02-01 04:00:00</td>\n",
       "      <td>2.674</td>\n",
       "      <td>2.853</td>\n",
       "      <td>2.849</td>\n",
       "      <td>1.216</td>\n",
       "      <td>2.749</td>\n",
       "      <td>2.265</td>\n",
       "      <td>3.134</td>\n",
       "      <td>2.836</td>\n",
       "      <td>2.442</td>\n",
       "      <td>NaN</td>\n",
       "      <td>NaN</td>\n",
       "      <td>NaN</td>\n",
       "      <td>NaN</td>\n",
       "      <td>NaN</td>\n",
       "      <td>NaN</td>\n",
       "      <td>NaN</td>\n",
       "    </tr>\n",
       "  </tbody>\n",
       "</table>\n",
       "</div>"
      ],
      "text/plain": [
       "                 Tarih  İzmir  Aliağa  Çeşme  Bergama  Manisa  Akhisar  \\\n",
       "0  2021-02-01 00:00:00  2.590   2.764  2.852    1.023   2.399    1.963   \n",
       "1  2021-02-01 01:00:00  2.570   2.749  2.839    0.967   2.285    1.980   \n",
       "2  2021-02-01 02:00:00  2.551   2.735  2.828    0.926   2.192    1.995   \n",
       "3  2021-02-01 03:00:00  2.709   2.834  2.829    0.979   2.888    2.403   \n",
       "4  2021-02-01 04:00:00  2.674   2.853  2.849    1.216   2.749    2.265   \n",
       "\n",
       "   Salihli  Çiğli  Menderes  Alaşehir  Demirci  Güzelyalı  Kula  Ödemiş  Soma  \\\n",
       "0    3.051  2.815     2.312       NaN      NaN        NaN   NaN     NaN   NaN   \n",
       "1    3.047  2.787     2.258       NaN      NaN        NaN   NaN     NaN   NaN   \n",
       "2    3.043  2.760     2.209       NaN      NaN        NaN   NaN     NaN   NaN   \n",
       "3    3.185  2.855     2.458       NaN      NaN        NaN   NaN     NaN   NaN   \n",
       "4    3.134  2.836     2.442       NaN      NaN        NaN   NaN     NaN   NaN   \n",
       "\n",
       "   Urla  \n",
       "0   NaN  \n",
       "1   NaN  \n",
       "2   NaN  \n",
       "3   NaN  \n",
       "4   NaN  "
      ]
     },
     "execution_count": 135,
     "metadata": {},
     "output_type": "execute_result"
    }
   ],
   "source": [
    "df_wd.head()"
   ]
  },
  {
   "cell_type": "code",
   "execution_count": 136,
   "metadata": {},
   "outputs": [
    {
     "data": {
      "text/plain": [
       "(38832, 17)"
      ]
     },
     "execution_count": 136,
     "metadata": {},
     "output_type": "execute_result"
    }
   ],
   "source": [
    "df_wd.shape"
   ]
  },
  {
   "cell_type": "code",
   "execution_count": 137,
   "metadata": {},
   "outputs": [
    {
     "name": "stdout",
     "output_type": "stream",
     "text": [
      "<class 'pandas.core.frame.DataFrame'>\n",
      "RangeIndex: 38832 entries, 0 to 38831\n",
      "Data columns (total 17 columns):\n",
      " #   Column     Non-Null Count  Dtype  \n",
      "---  ------     --------------  -----  \n",
      " 0   Tarih      38832 non-null  object \n",
      " 1   İzmir      11784 non-null  float64\n",
      " 2   Aliağa     11784 non-null  float64\n",
      " 3   Çeşme      38832 non-null  float64\n",
      " 4   Bergama    11784 non-null  float64\n",
      " 5   Manisa     38832 non-null  float64\n",
      " 6   Akhisar    38832 non-null  float64\n",
      " 7   Salihli    11784 non-null  float64\n",
      " 8   Çiğli      11784 non-null  float64\n",
      " 9   Menderes   11784 non-null  float64\n",
      " 10  Alaşehir   11472 non-null  float64\n",
      " 11  Demirci    11472 non-null  float64\n",
      " 12  Güzelyalı  38520 non-null  float64\n",
      " 13  Kula       11472 non-null  float64\n",
      " 14  Ödemiş     11472 non-null  float64\n",
      " 15  Soma       11472 non-null  float64\n",
      " 16  Urla       11472 non-null  float64\n",
      "dtypes: float64(16), object(1)\n",
      "memory usage: 5.0+ MB\n"
     ]
    }
   ],
   "source": [
    "df_wd.info()"
   ]
  },
  {
   "cell_type": "code",
   "execution_count": 138,
   "metadata": {},
   "outputs": [
    {
     "data": {
      "text/html": [
       "<pre style=\"white-space:pre;overflow-x:auto;line-height:normal;font-family:Menlo,'DejaVu Sans Mono',consolas,'Courier New',monospace\">╭──────────────────────────────────────────────── skimpy summary ─────────────────────────────────────────────────╮\n",
       "│ <span style=\"font-style: italic\">         Data Summary         </span> <span style=\"font-style: italic\">      Data Types       </span>                                                          │\n",
       "│ ┏━━━━━━━━━━━━━━━━━━━┳━━━━━━━━┓ ┏━━━━━━━━━━━━━┳━━━━━━━┓                                                          │\n",
       "│ ┃<span style=\"color: #008080; text-decoration-color: #008080; font-weight: bold\"> dataframe         </span>┃<span style=\"color: #008080; text-decoration-color: #008080; font-weight: bold\"> Values </span>┃ ┃<span style=\"color: #008080; text-decoration-color: #008080; font-weight: bold\"> Column Type </span>┃<span style=\"color: #008080; text-decoration-color: #008080; font-weight: bold\"> Count </span>┃                                                          │\n",
       "│ ┡━━━━━━━━━━━━━━━━━━━╇━━━━━━━━┩ ┡━━━━━━━━━━━━━╇━━━━━━━┩                                                          │\n",
       "│ │ Number of rows    │ 38832  │ │ float64     │ 16    │                                                          │\n",
       "│ │ Number of columns │ 17     │ │ string      │ 1     │                                                          │\n",
       "│ └───────────────────┴────────┘ └─────────────┴───────┘                                                          │\n",
       "│ <span style=\"font-style: italic\">                                                    number                                                    </span>  │\n",
       "│ ┏━━━━━━━━━━━━━━━━━━━┳━━━━━━━━━━┳━━━━━━━━━┳━━━━━━━━━┳━━━━━━━━┳━━━━━━━━━━┳━━━━━━━━━┳━━━━━━━┳━━━━━━━━┳━━━━━━━━━━┓  │\n",
       "│ ┃<span style=\"font-weight: bold\"> column_name       </span>┃<span style=\"font-weight: bold\"> NA       </span>┃<span style=\"font-weight: bold\"> NA %    </span>┃<span style=\"font-weight: bold\"> mean    </span>┃<span style=\"font-weight: bold\"> sd     </span>┃<span style=\"font-weight: bold\"> p0       </span>┃<span style=\"font-weight: bold\"> p25     </span>┃<span style=\"font-weight: bold\"> p75   </span>┃<span style=\"font-weight: bold\"> p100   </span>┃<span style=\"font-weight: bold\"> hist     </span>┃  │\n",
       "│ ┡━━━━━━━━━━━━━━━━━━━╇━━━━━━━━━━╇━━━━━━━━━╇━━━━━━━━━╇━━━━━━━━╇━━━━━━━━━━╇━━━━━━━━━╇━━━━━━━╇━━━━━━━━╇━━━━━━━━━━┩  │\n",
       "│ │ <span style=\"color: #af87ff; text-decoration-color: #af87ff\">İzmir            </span> │ <span style=\"color: #008080; text-decoration-color: #008080\">   27000</span> │ <span style=\"color: #008080; text-decoration-color: #008080\">     70</span> │ <span style=\"color: #008080; text-decoration-color: #008080\">    2.4</span> │ <span style=\"color: #008080; text-decoration-color: #008080\">     2</span> │ <span style=\"color: #008080; text-decoration-color: #008080\">   0.001</span> │ <span style=\"color: #008080; text-decoration-color: #008080\">   0.52</span> │ <span style=\"color: #008080; text-decoration-color: #008080\">  3.7</span> │ <span style=\"color: #008080; text-decoration-color: #008080\">   6.3</span> │ <span style=\"color: #008000; text-decoration-color: #008000\"> █▃▃▂▁▃ </span> │  │\n",
       "│ │ <span style=\"color: #af87ff; text-decoration-color: #af87ff\">Aliağa           </span> │ <span style=\"color: #008080; text-decoration-color: #008080\">   27000</span> │ <span style=\"color: #008080; text-decoration-color: #008080\">     70</span> │ <span style=\"color: #008080; text-decoration-color: #008080\">    2.2</span> │ <span style=\"color: #008080; text-decoration-color: #008080\">   1.7</span> │ <span style=\"color: #008080; text-decoration-color: #008080\">       0</span> │ <span style=\"color: #008080; text-decoration-color: #008080\">   0.72</span> │ <span style=\"color: #008080; text-decoration-color: #008080\">  3.4</span> │ <span style=\"color: #008080; text-decoration-color: #008080\">   6.3</span> │ <span style=\"color: #008000; text-decoration-color: #008000\"> █▄▂▂▂▁ </span> │  │\n",
       "│ │ <span style=\"color: #af87ff; text-decoration-color: #af87ff\">Çeşme            </span> │ <span style=\"color: #008080; text-decoration-color: #008080\">       0</span> │ <span style=\"color: #008080; text-decoration-color: #008080\">      0</span> │ <span style=\"color: #008080; text-decoration-color: #008080\">    2.6</span> │ <span style=\"color: #008080; text-decoration-color: #008080\">   2.2</span> │ <span style=\"color: #008080; text-decoration-color: #008080\">       0</span> │ <span style=\"color: #008080; text-decoration-color: #008080\">   0.38</span> │ <span style=\"color: #008080; text-decoration-color: #008080\">  4.1</span> │ <span style=\"color: #008080; text-decoration-color: #008080\">   6.3</span> │ <span style=\"color: #008000; text-decoration-color: #008000\"> █▁▃▃▁▄ </span> │  │\n",
       "│ │ <span style=\"color: #af87ff; text-decoration-color: #af87ff\">Bergama          </span> │ <span style=\"color: #008080; text-decoration-color: #008080\">   27000</span> │ <span style=\"color: #008080; text-decoration-color: #008080\">     70</span> │ <span style=\"color: #008080; text-decoration-color: #008080\">    1.8</span> │ <span style=\"color: #008080; text-decoration-color: #008080\">   1.7</span> │ <span style=\"color: #008080; text-decoration-color: #008080\">   0.001</span> │ <span style=\"color: #008080; text-decoration-color: #008080\">   0.73</span> │ <span style=\"color: #008080; text-decoration-color: #008080\">  3.5</span> │ <span style=\"color: #008080; text-decoration-color: #008080\">   6.3</span> │ <span style=\"color: #008000; text-decoration-color: #008000\"> █▁ ▂▁▁ </span> │  │\n",
       "│ │ <span style=\"color: #af87ff; text-decoration-color: #af87ff\">Manisa           </span> │ <span style=\"color: #008080; text-decoration-color: #008080\">       0</span> │ <span style=\"color: #008080; text-decoration-color: #008080\">      0</span> │ <span style=\"color: #008080; text-decoration-color: #008080\">    2.4</span> │ <span style=\"color: #008080; text-decoration-color: #008080\">   1.7</span> │ <span style=\"color: #008080; text-decoration-color: #008080\">       0</span> │ <span style=\"color: #008080; text-decoration-color: #008080\">   0.86</span> │ <span style=\"color: #008080; text-decoration-color: #008080\">  3.8</span> │ <span style=\"color: #008080; text-decoration-color: #008080\">   6.3</span> │ <span style=\"color: #008000; text-decoration-color: #008000\"> █▅▃▄▃▂ </span> │  │\n",
       "│ │ <span style=\"color: #af87ff; text-decoration-color: #af87ff\">Akhisar          </span> │ <span style=\"color: #008080; text-decoration-color: #008080\">       0</span> │ <span style=\"color: #008080; text-decoration-color: #008080\">      0</span> │ <span style=\"color: #008080; text-decoration-color: #008080\">    2.7</span> │ <span style=\"color: #008080; text-decoration-color: #008080\">   2.2</span> │ <span style=\"color: #008080; text-decoration-color: #008080\">       0</span> │ <span style=\"color: #008080; text-decoration-color: #008080\">   0.46</span> │ <span style=\"color: #008080; text-decoration-color: #008080\">  4.9</span> │ <span style=\"color: #008080; text-decoration-color: #008080\">   6.3</span> │ <span style=\"color: #008000; text-decoration-color: #008000\"> █▃▂▂▂▅ </span> │  │\n",
       "│ │ <span style=\"color: #af87ff; text-decoration-color: #af87ff\">Salihli          </span> │ <span style=\"color: #008080; text-decoration-color: #008080\">   27000</span> │ <span style=\"color: #008080; text-decoration-color: #008080\">     70</span> │ <span style=\"color: #008080; text-decoration-color: #008080\">    3.2</span> │ <span style=\"color: #008080; text-decoration-color: #008080\">   1.8</span> │ <span style=\"color: #008080; text-decoration-color: #008080\">   0.001</span> │ <span style=\"color: #008080; text-decoration-color: #008080\">    1.4</span> │ <span style=\"color: #008080; text-decoration-color: #008080\">  4.8</span> │ <span style=\"color: #008080; text-decoration-color: #008080\">   6.3</span> │ <span style=\"color: #008000; text-decoration-color: #008000\"> ▄█▂▄▇▅ </span> │  │\n",
       "│ │ <span style=\"color: #af87ff; text-decoration-color: #af87ff\">Çiğli            </span> │ <span style=\"color: #008080; text-decoration-color: #008080\">   27000</span> │ <span style=\"color: #008080; text-decoration-color: #008080\">     70</span> │ <span style=\"color: #008080; text-decoration-color: #008080\">    2.5</span> │ <span style=\"color: #008080; text-decoration-color: #008080\">   2.1</span> │ <span style=\"color: #008080; text-decoration-color: #008080\">       0</span> │ <span style=\"color: #008080; text-decoration-color: #008080\">    0.6</span> │ <span style=\"color: #008080; text-decoration-color: #008080\">  4.3</span> │ <span style=\"color: #008080; text-decoration-color: #008080\">   6.3</span> │ <span style=\"color: #008000; text-decoration-color: #008000\"> █▃▃▂▁▄ </span> │  │\n",
       "│ │ <span style=\"color: #af87ff; text-decoration-color: #af87ff\">Menderes         </span> │ <span style=\"color: #008080; text-decoration-color: #008080\">   27000</span> │ <span style=\"color: #008080; text-decoration-color: #008080\">     70</span> │ <span style=\"color: #008080; text-decoration-color: #008080\">    2.4</span> │ <span style=\"color: #008080; text-decoration-color: #008080\">   2.2</span> │ <span style=\"color: #008080; text-decoration-color: #008080\">       0</span> │ <span style=\"color: #008080; text-decoration-color: #008080\">   0.33</span> │ <span style=\"color: #008080; text-decoration-color: #008080\">  4.3</span> │ <span style=\"color: #008080; text-decoration-color: #008080\">   6.3</span> │ <span style=\"color: #008000; text-decoration-color: #008000\"> █▂▂▂▁▄ </span> │  │\n",
       "│ │ <span style=\"color: #af87ff; text-decoration-color: #af87ff\">Alaşehir         </span> │ <span style=\"color: #008080; text-decoration-color: #008080\">   27000</span> │ <span style=\"color: #008080; text-decoration-color: #008080\">     70</span> │ <span style=\"color: #008080; text-decoration-color: #008080\">    3.5</span> │ <span style=\"color: #008080; text-decoration-color: #008080\">   1.8</span> │ <span style=\"color: #008080; text-decoration-color: #008080\">   0.001</span> │ <span style=\"color: #008080; text-decoration-color: #008080\">    2.1</span> │ <span style=\"color: #008080; text-decoration-color: #008080\">  5.3</span> │ <span style=\"color: #008080; text-decoration-color: #008080\">   6.3</span> │ <span style=\"color: #008000; text-decoration-color: #008000\"> ▃▄▇▂▄█ </span> │  │\n",
       "│ │ <span style=\"color: #af87ff; text-decoration-color: #af87ff\">Demirci          </span> │ <span style=\"color: #008080; text-decoration-color: #008080\">   27000</span> │ <span style=\"color: #008080; text-decoration-color: #008080\">     70</span> │ <span style=\"color: #008080; text-decoration-color: #008080\">    2.3</span> │ <span style=\"color: #008080; text-decoration-color: #008080\">     2</span> │ <span style=\"color: #008080; text-decoration-color: #008080\">       0</span> │ <span style=\"color: #008080; text-decoration-color: #008080\">   0.58</span> │ <span style=\"color: #008080; text-decoration-color: #008080\">    4</span> │ <span style=\"color: #008080; text-decoration-color: #008080\">   6.3</span> │ <span style=\"color: #008000; text-decoration-color: #008000\"> █▂▂▂▁▃ </span> │  │\n",
       "│ │ <span style=\"color: #af87ff; text-decoration-color: #af87ff\">Güzelyalı        </span> │ <span style=\"color: #008080; text-decoration-color: #008080\">     310</span> │ <span style=\"color: #008080; text-decoration-color: #008080\">    0.8</span> │ <span style=\"color: #008080; text-decoration-color: #008080\">    2.9</span> │ <span style=\"color: #008080; text-decoration-color: #008080\">     2</span> │ <span style=\"color: #008080; text-decoration-color: #008080\">       0</span> │ <span style=\"color: #008080; text-decoration-color: #008080\">   0.83</span> │ <span style=\"color: #008080; text-decoration-color: #008080\">  4.9</span> │ <span style=\"color: #008080; text-decoration-color: #008080\">   6.3</span> │ <span style=\"color: #008000; text-decoration-color: #008000\"> █▃▆▂▄▆ </span> │  │\n",
       "│ │ <span style=\"color: #af87ff; text-decoration-color: #af87ff\">Kula             </span> │ <span style=\"color: #008080; text-decoration-color: #008080\">   27000</span> │ <span style=\"color: #008080; text-decoration-color: #008080\">     70</span> │ <span style=\"color: #008080; text-decoration-color: #008080\">    2.8</span> │ <span style=\"color: #008080; text-decoration-color: #008080\">   1.8</span> │ <span style=\"color: #008080; text-decoration-color: #008080\">       0</span> │ <span style=\"color: #008080; text-decoration-color: #008080\">    1.4</span> │ <span style=\"color: #008080; text-decoration-color: #008080\">  4.7</span> │ <span style=\"color: #008080; text-decoration-color: #008080\">   6.3</span> │ <span style=\"color: #008000; text-decoration-color: #008000\"> ▃█▂▁▅▂ </span> │  │\n",
       "│ │ <span style=\"color: #af87ff; text-decoration-color: #af87ff\">Ödemiş           </span> │ <span style=\"color: #008080; text-decoration-color: #008080\">   27000</span> │ <span style=\"color: #008080; text-decoration-color: #008080\">     70</span> │ <span style=\"color: #008080; text-decoration-color: #008080\">    2.5</span> │ <span style=\"color: #008080; text-decoration-color: #008080\">   2.1</span> │ <span style=\"color: #008080; text-decoration-color: #008080\">       0</span> │ <span style=\"color: #008080; text-decoration-color: #008080\">   0.57</span> │ <span style=\"color: #008080; text-decoration-color: #008080\">  4.5</span> │ <span style=\"color: #008080; text-decoration-color: #008080\">   6.3</span> │ <span style=\"color: #008000; text-decoration-color: #008000\"> █▅▂▂▃▃ </span> │  │\n",
       "│ │ <span style=\"color: #af87ff; text-decoration-color: #af87ff\">Soma             </span> │ <span style=\"color: #008080; text-decoration-color: #008080\">   27000</span> │ <span style=\"color: #008080; text-decoration-color: #008080\">     70</span> │ <span style=\"color: #008080; text-decoration-color: #008080\">    1.7</span> │ <span style=\"color: #008080; text-decoration-color: #008080\">   1.8</span> │ <span style=\"color: #008080; text-decoration-color: #008080\">       0</span> │ <span style=\"color: #008080; text-decoration-color: #008080\">   0.38</span> │ <span style=\"color: #008080; text-decoration-color: #008080\">  2.7</span> │ <span style=\"color: #008080; text-decoration-color: #008080\">   6.3</span> │ <span style=\"color: #008000; text-decoration-color: #008000\"> █▂▂▁▁▁ </span> │  │\n",
       "│ │ <span style=\"color: #af87ff; text-decoration-color: #af87ff\">Urla             </span> │ <span style=\"color: #008080; text-decoration-color: #008080\">   27000</span> │ <span style=\"color: #008080; text-decoration-color: #008080\">     70</span> │ <span style=\"color: #008080; text-decoration-color: #008080\">    2.6</span> │ <span style=\"color: #008080; text-decoration-color: #008080\">   2.2</span> │ <span style=\"color: #008080; text-decoration-color: #008080\">       0</span> │ <span style=\"color: #008080; text-decoration-color: #008080\">   0.32</span> │ <span style=\"color: #008080; text-decoration-color: #008080\">  4.7</span> │ <span style=\"color: #008080; text-decoration-color: #008080\">   6.3</span> │ <span style=\"color: #008000; text-decoration-color: #008000\"> █▁▃▂▁▄ </span> │  │\n",
       "│ └───────────────────┴──────────┴─────────┴─────────┴────────┴──────────┴─────────┴───────┴────────┴──────────┘  │\n",
       "│ <span style=\"font-style: italic\">                                                    string                                                    </span>  │\n",
       "│ ┏━━━━━━━━━━━━━━━━━━━━━━━━━━━┳━━━━━━━━━┳━━━━━━━━━━━━┳━━━━━━━━━━━━━━━━━━━━━━━━━━━━━━┳━━━━━━━━━━━━━━━━━━━━━━━━━━┓  │\n",
       "│ ┃<span style=\"font-weight: bold\"> column_name               </span>┃<span style=\"font-weight: bold\"> NA      </span>┃<span style=\"font-weight: bold\"> NA %       </span>┃<span style=\"font-weight: bold\"> words per row                </span>┃<span style=\"font-weight: bold\"> total words              </span>┃  │\n",
       "│ ┡━━━━━━━━━━━━━━━━━━━━━━━━━━━╇━━━━━━━━━╇━━━━━━━━━━━━╇━━━━━━━━━━━━━━━━━━━━━━━━━━━━━━╇━━━━━━━━━━━━━━━━━━━━━━━━━━┩  │\n",
       "│ │ <span style=\"color: #af87ff; text-decoration-color: #af87ff\">Tarih                    </span> │ <span style=\"color: #008080; text-decoration-color: #008080\">      0</span> │ <span style=\"color: #008080; text-decoration-color: #008080\">         0</span> │ <span style=\"color: #008080; text-decoration-color: #008080\">                           2</span> │ <span style=\"color: #008080; text-decoration-color: #008080\">                   78000</span> │  │\n",
       "│ └───────────────────────────┴─────────┴────────────┴──────────────────────────────┴──────────────────────────┘  │\n",
       "╰────────────────────────────────────────────────────── End ──────────────────────────────────────────────────────╯\n",
       "</pre>\n"
      ],
      "text/plain": [
       "╭──────────────────────────────────────────────── skimpy summary ─────────────────────────────────────────────────╮\n",
       "│ \u001b[3m         Data Summary         \u001b[0m \u001b[3m      Data Types       \u001b[0m                                                          │\n",
       "│ ┏━━━━━━━━━━━━━━━━━━━┳━━━━━━━━┓ ┏━━━━━━━━━━━━━┳━━━━━━━┓                                                          │\n",
       "│ ┃\u001b[1;36m \u001b[0m\u001b[1;36mdataframe        \u001b[0m\u001b[1;36m \u001b[0m┃\u001b[1;36m \u001b[0m\u001b[1;36mValues\u001b[0m\u001b[1;36m \u001b[0m┃ ┃\u001b[1;36m \u001b[0m\u001b[1;36mColumn Type\u001b[0m\u001b[1;36m \u001b[0m┃\u001b[1;36m \u001b[0m\u001b[1;36mCount\u001b[0m\u001b[1;36m \u001b[0m┃                                                          │\n",
       "│ ┡━━━━━━━━━━━━━━━━━━━╇━━━━━━━━┩ ┡━━━━━━━━━━━━━╇━━━━━━━┩                                                          │\n",
       "│ │ Number of rows    │ 38832  │ │ float64     │ 16    │                                                          │\n",
       "│ │ Number of columns │ 17     │ │ string      │ 1     │                                                          │\n",
       "│ └───────────────────┴────────┘ └─────────────┴───────┘                                                          │\n",
       "│ \u001b[3m                                                    number                                                    \u001b[0m  │\n",
       "│ ┏━━━━━━━━━━━━━━━━━━━┳━━━━━━━━━━┳━━━━━━━━━┳━━━━━━━━━┳━━━━━━━━┳━━━━━━━━━━┳━━━━━━━━━┳━━━━━━━┳━━━━━━━━┳━━━━━━━━━━┓  │\n",
       "│ ┃\u001b[1m \u001b[0m\u001b[1mcolumn_name      \u001b[0m\u001b[1m \u001b[0m┃\u001b[1m \u001b[0m\u001b[1mNA      \u001b[0m\u001b[1m \u001b[0m┃\u001b[1m \u001b[0m\u001b[1mNA %   \u001b[0m\u001b[1m \u001b[0m┃\u001b[1m \u001b[0m\u001b[1mmean   \u001b[0m\u001b[1m \u001b[0m┃\u001b[1m \u001b[0m\u001b[1msd    \u001b[0m\u001b[1m \u001b[0m┃\u001b[1m \u001b[0m\u001b[1mp0      \u001b[0m\u001b[1m \u001b[0m┃\u001b[1m \u001b[0m\u001b[1mp25    \u001b[0m\u001b[1m \u001b[0m┃\u001b[1m \u001b[0m\u001b[1mp75  \u001b[0m\u001b[1m \u001b[0m┃\u001b[1m \u001b[0m\u001b[1mp100  \u001b[0m\u001b[1m \u001b[0m┃\u001b[1m \u001b[0m\u001b[1mhist    \u001b[0m\u001b[1m \u001b[0m┃  │\n",
       "│ ┡━━━━━━━━━━━━━━━━━━━╇━━━━━━━━━━╇━━━━━━━━━╇━━━━━━━━━╇━━━━━━━━╇━━━━━━━━━━╇━━━━━━━━━╇━━━━━━━╇━━━━━━━━╇━━━━━━━━━━┩  │\n",
       "│ │ \u001b[38;5;141mİzmir            \u001b[0m │ \u001b[36m   27000\u001b[0m │ \u001b[36m     70\u001b[0m │ \u001b[36m    2.4\u001b[0m │ \u001b[36m     2\u001b[0m │ \u001b[36m   0.001\u001b[0m │ \u001b[36m   0.52\u001b[0m │ \u001b[36m  3.7\u001b[0m │ \u001b[36m   6.3\u001b[0m │ \u001b[32m █▃▃▂▁▃ \u001b[0m │  │\n",
       "│ │ \u001b[38;5;141mAliağa           \u001b[0m │ \u001b[36m   27000\u001b[0m │ \u001b[36m     70\u001b[0m │ \u001b[36m    2.2\u001b[0m │ \u001b[36m   1.7\u001b[0m │ \u001b[36m       0\u001b[0m │ \u001b[36m   0.72\u001b[0m │ \u001b[36m  3.4\u001b[0m │ \u001b[36m   6.3\u001b[0m │ \u001b[32m █▄▂▂▂▁ \u001b[0m │  │\n",
       "│ │ \u001b[38;5;141mÇeşme            \u001b[0m │ \u001b[36m       0\u001b[0m │ \u001b[36m      0\u001b[0m │ \u001b[36m    2.6\u001b[0m │ \u001b[36m   2.2\u001b[0m │ \u001b[36m       0\u001b[0m │ \u001b[36m   0.38\u001b[0m │ \u001b[36m  4.1\u001b[0m │ \u001b[36m   6.3\u001b[0m │ \u001b[32m █▁▃▃▁▄ \u001b[0m │  │\n",
       "│ │ \u001b[38;5;141mBergama          \u001b[0m │ \u001b[36m   27000\u001b[0m │ \u001b[36m     70\u001b[0m │ \u001b[36m    1.8\u001b[0m │ \u001b[36m   1.7\u001b[0m │ \u001b[36m   0.001\u001b[0m │ \u001b[36m   0.73\u001b[0m │ \u001b[36m  3.5\u001b[0m │ \u001b[36m   6.3\u001b[0m │ \u001b[32m █▁ ▂▁▁ \u001b[0m │  │\n",
       "│ │ \u001b[38;5;141mManisa           \u001b[0m │ \u001b[36m       0\u001b[0m │ \u001b[36m      0\u001b[0m │ \u001b[36m    2.4\u001b[0m │ \u001b[36m   1.7\u001b[0m │ \u001b[36m       0\u001b[0m │ \u001b[36m   0.86\u001b[0m │ \u001b[36m  3.8\u001b[0m │ \u001b[36m   6.3\u001b[0m │ \u001b[32m █▅▃▄▃▂ \u001b[0m │  │\n",
       "│ │ \u001b[38;5;141mAkhisar          \u001b[0m │ \u001b[36m       0\u001b[0m │ \u001b[36m      0\u001b[0m │ \u001b[36m    2.7\u001b[0m │ \u001b[36m   2.2\u001b[0m │ \u001b[36m       0\u001b[0m │ \u001b[36m   0.46\u001b[0m │ \u001b[36m  4.9\u001b[0m │ \u001b[36m   6.3\u001b[0m │ \u001b[32m █▃▂▂▂▅ \u001b[0m │  │\n",
       "│ │ \u001b[38;5;141mSalihli          \u001b[0m │ \u001b[36m   27000\u001b[0m │ \u001b[36m     70\u001b[0m │ \u001b[36m    3.2\u001b[0m │ \u001b[36m   1.8\u001b[0m │ \u001b[36m   0.001\u001b[0m │ \u001b[36m    1.4\u001b[0m │ \u001b[36m  4.8\u001b[0m │ \u001b[36m   6.3\u001b[0m │ \u001b[32m ▄█▂▄▇▅ \u001b[0m │  │\n",
       "│ │ \u001b[38;5;141mÇiğli            \u001b[0m │ \u001b[36m   27000\u001b[0m │ \u001b[36m     70\u001b[0m │ \u001b[36m    2.5\u001b[0m │ \u001b[36m   2.1\u001b[0m │ \u001b[36m       0\u001b[0m │ \u001b[36m    0.6\u001b[0m │ \u001b[36m  4.3\u001b[0m │ \u001b[36m   6.3\u001b[0m │ \u001b[32m █▃▃▂▁▄ \u001b[0m │  │\n",
       "│ │ \u001b[38;5;141mMenderes         \u001b[0m │ \u001b[36m   27000\u001b[0m │ \u001b[36m     70\u001b[0m │ \u001b[36m    2.4\u001b[0m │ \u001b[36m   2.2\u001b[0m │ \u001b[36m       0\u001b[0m │ \u001b[36m   0.33\u001b[0m │ \u001b[36m  4.3\u001b[0m │ \u001b[36m   6.3\u001b[0m │ \u001b[32m █▂▂▂▁▄ \u001b[0m │  │\n",
       "│ │ \u001b[38;5;141mAlaşehir         \u001b[0m │ \u001b[36m   27000\u001b[0m │ \u001b[36m     70\u001b[0m │ \u001b[36m    3.5\u001b[0m │ \u001b[36m   1.8\u001b[0m │ \u001b[36m   0.001\u001b[0m │ \u001b[36m    2.1\u001b[0m │ \u001b[36m  5.3\u001b[0m │ \u001b[36m   6.3\u001b[0m │ \u001b[32m ▃▄▇▂▄█ \u001b[0m │  │\n",
       "│ │ \u001b[38;5;141mDemirci          \u001b[0m │ \u001b[36m   27000\u001b[0m │ \u001b[36m     70\u001b[0m │ \u001b[36m    2.3\u001b[0m │ \u001b[36m     2\u001b[0m │ \u001b[36m       0\u001b[0m │ \u001b[36m   0.58\u001b[0m │ \u001b[36m    4\u001b[0m │ \u001b[36m   6.3\u001b[0m │ \u001b[32m █▂▂▂▁▃ \u001b[0m │  │\n",
       "│ │ \u001b[38;5;141mGüzelyalı        \u001b[0m │ \u001b[36m     310\u001b[0m │ \u001b[36m    0.8\u001b[0m │ \u001b[36m    2.9\u001b[0m │ \u001b[36m     2\u001b[0m │ \u001b[36m       0\u001b[0m │ \u001b[36m   0.83\u001b[0m │ \u001b[36m  4.9\u001b[0m │ \u001b[36m   6.3\u001b[0m │ \u001b[32m █▃▆▂▄▆ \u001b[0m │  │\n",
       "│ │ \u001b[38;5;141mKula             \u001b[0m │ \u001b[36m   27000\u001b[0m │ \u001b[36m     70\u001b[0m │ \u001b[36m    2.8\u001b[0m │ \u001b[36m   1.8\u001b[0m │ \u001b[36m       0\u001b[0m │ \u001b[36m    1.4\u001b[0m │ \u001b[36m  4.7\u001b[0m │ \u001b[36m   6.3\u001b[0m │ \u001b[32m ▃█▂▁▅▂ \u001b[0m │  │\n",
       "│ │ \u001b[38;5;141mÖdemiş           \u001b[0m │ \u001b[36m   27000\u001b[0m │ \u001b[36m     70\u001b[0m │ \u001b[36m    2.5\u001b[0m │ \u001b[36m   2.1\u001b[0m │ \u001b[36m       0\u001b[0m │ \u001b[36m   0.57\u001b[0m │ \u001b[36m  4.5\u001b[0m │ \u001b[36m   6.3\u001b[0m │ \u001b[32m █▅▂▂▃▃ \u001b[0m │  │\n",
       "│ │ \u001b[38;5;141mSoma             \u001b[0m │ \u001b[36m   27000\u001b[0m │ \u001b[36m     70\u001b[0m │ \u001b[36m    1.7\u001b[0m │ \u001b[36m   1.8\u001b[0m │ \u001b[36m       0\u001b[0m │ \u001b[36m   0.38\u001b[0m │ \u001b[36m  2.7\u001b[0m │ \u001b[36m   6.3\u001b[0m │ \u001b[32m █▂▂▁▁▁ \u001b[0m │  │\n",
       "│ │ \u001b[38;5;141mUrla             \u001b[0m │ \u001b[36m   27000\u001b[0m │ \u001b[36m     70\u001b[0m │ \u001b[36m    2.6\u001b[0m │ \u001b[36m   2.2\u001b[0m │ \u001b[36m       0\u001b[0m │ \u001b[36m   0.32\u001b[0m │ \u001b[36m  4.7\u001b[0m │ \u001b[36m   6.3\u001b[0m │ \u001b[32m █▁▃▂▁▄ \u001b[0m │  │\n",
       "│ └───────────────────┴──────────┴─────────┴─────────┴────────┴──────────┴─────────┴───────┴────────┴──────────┘  │\n",
       "│ \u001b[3m                                                    string                                                    \u001b[0m  │\n",
       "│ ┏━━━━━━━━━━━━━━━━━━━━━━━━━━━┳━━━━━━━━━┳━━━━━━━━━━━━┳━━━━━━━━━━━━━━━━━━━━━━━━━━━━━━┳━━━━━━━━━━━━━━━━━━━━━━━━━━┓  │\n",
       "│ ┃\u001b[1m \u001b[0m\u001b[1mcolumn_name              \u001b[0m\u001b[1m \u001b[0m┃\u001b[1m \u001b[0m\u001b[1mNA     \u001b[0m\u001b[1m \u001b[0m┃\u001b[1m \u001b[0m\u001b[1mNA %      \u001b[0m\u001b[1m \u001b[0m┃\u001b[1m \u001b[0m\u001b[1mwords per row               \u001b[0m\u001b[1m \u001b[0m┃\u001b[1m \u001b[0m\u001b[1mtotal words             \u001b[0m\u001b[1m \u001b[0m┃  │\n",
       "│ ┡━━━━━━━━━━━━━━━━━━━━━━━━━━━╇━━━━━━━━━╇━━━━━━━━━━━━╇━━━━━━━━━━━━━━━━━━━━━━━━━━━━━━╇━━━━━━━━━━━━━━━━━━━━━━━━━━┩  │\n",
       "│ │ \u001b[38;5;141mTarih                    \u001b[0m │ \u001b[36m      0\u001b[0m │ \u001b[36m         0\u001b[0m │ \u001b[36m                           2\u001b[0m │ \u001b[36m                   78000\u001b[0m │  │\n",
       "│ └───────────────────────────┴─────────┴────────────┴──────────────────────────────┴──────────────────────────┘  │\n",
       "╰────────────────────────────────────────────────────── End ──────────────────────────────────────────────────────╯\n"
      ]
     },
     "metadata": {},
     "output_type": "display_data"
    }
   ],
   "source": [
    "skim(df_wd)"
   ]
  },
  {
   "cell_type": "markdown",
   "metadata": {},
   "source": [
    "### **<span style='color:turquoise'> Temperature </span>** "
   ]
  },
  {
   "cell_type": "markdown",
   "metadata": {},
   "source": [
    "unit = `Celcius`"
   ]
  },
  {
   "cell_type": "code",
   "execution_count": 139,
   "metadata": {},
   "outputs": [],
   "source": [
    "df8 = pd.read_csv(\"Weather_Sicaklik.csv\")\n",
    "df_temp = df8.copy()"
   ]
  },
  {
   "cell_type": "code",
   "execution_count": 140,
   "metadata": {},
   "outputs": [
    {
     "data": {
      "text/html": [
       "<div>\n",
       "<style scoped>\n",
       "    .dataframe tbody tr th:only-of-type {\n",
       "        vertical-align: middle;\n",
       "    }\n",
       "\n",
       "    .dataframe tbody tr th {\n",
       "        vertical-align: top;\n",
       "    }\n",
       "\n",
       "    .dataframe thead th {\n",
       "        text-align: right;\n",
       "    }\n",
       "</style>\n",
       "<table border=\"1\" class=\"dataframe\">\n",
       "  <thead>\n",
       "    <tr style=\"text-align: right;\">\n",
       "      <th></th>\n",
       "      <th>Tarih</th>\n",
       "      <th>İzmir</th>\n",
       "      <th>Aliağa</th>\n",
       "      <th>Çeşme</th>\n",
       "      <th>Bergama</th>\n",
       "      <th>Manisa</th>\n",
       "      <th>Akhisar</th>\n",
       "      <th>Salihli</th>\n",
       "      <th>Çiğli</th>\n",
       "      <th>Menderes</th>\n",
       "      <th>Alaşehir</th>\n",
       "      <th>Demirci</th>\n",
       "      <th>Güzelyalı</th>\n",
       "      <th>Kula</th>\n",
       "      <th>Ödemiş</th>\n",
       "      <th>Soma</th>\n",
       "      <th>Urla</th>\n",
       "    </tr>\n",
       "  </thead>\n",
       "  <tbody>\n",
       "    <tr>\n",
       "      <th>0</th>\n",
       "      <td>2021-02-01 00:00:00</td>\n",
       "      <td>10.357</td>\n",
       "      <td>13.682</td>\n",
       "      <td>16.307</td>\n",
       "      <td>6.082</td>\n",
       "      <td>5.957</td>\n",
       "      <td>5.007</td>\n",
       "      <td>5.907</td>\n",
       "      <td>13.857</td>\n",
       "      <td>7.682</td>\n",
       "      <td>NaN</td>\n",
       "      <td>NaN</td>\n",
       "      <td>NaN</td>\n",
       "      <td>NaN</td>\n",
       "      <td>NaN</td>\n",
       "      <td>NaN</td>\n",
       "      <td>NaN</td>\n",
       "    </tr>\n",
       "    <tr>\n",
       "      <th>1</th>\n",
       "      <td>2021-02-01 01:00:00</td>\n",
       "      <td>10.142</td>\n",
       "      <td>13.692</td>\n",
       "      <td>16.317</td>\n",
       "      <td>5.859</td>\n",
       "      <td>6.059</td>\n",
       "      <td>4.942</td>\n",
       "      <td>6.409</td>\n",
       "      <td>13.709</td>\n",
       "      <td>7.309</td>\n",
       "      <td>NaN</td>\n",
       "      <td>NaN</td>\n",
       "      <td>NaN</td>\n",
       "      <td>NaN</td>\n",
       "      <td>NaN</td>\n",
       "      <td>NaN</td>\n",
       "      <td>NaN</td>\n",
       "    </tr>\n",
       "    <tr>\n",
       "      <th>2</th>\n",
       "      <td>2021-02-01 02:00:00</td>\n",
       "      <td>9.928</td>\n",
       "      <td>13.703</td>\n",
       "      <td>16.328</td>\n",
       "      <td>5.636</td>\n",
       "      <td>6.161</td>\n",
       "      <td>4.878</td>\n",
       "      <td>6.911</td>\n",
       "      <td>13.561</td>\n",
       "      <td>6.936</td>\n",
       "      <td>NaN</td>\n",
       "      <td>NaN</td>\n",
       "      <td>NaN</td>\n",
       "      <td>NaN</td>\n",
       "      <td>NaN</td>\n",
       "      <td>NaN</td>\n",
       "      <td>NaN</td>\n",
       "    </tr>\n",
       "    <tr>\n",
       "      <th>3</th>\n",
       "      <td>2021-02-01 03:00:00</td>\n",
       "      <td>11.461</td>\n",
       "      <td>14.811</td>\n",
       "      <td>17.236</td>\n",
       "      <td>6.561</td>\n",
       "      <td>8.611</td>\n",
       "      <td>7.061</td>\n",
       "      <td>9.286</td>\n",
       "      <td>14.811</td>\n",
       "      <td>7.811</td>\n",
       "      <td>NaN</td>\n",
       "      <td>NaN</td>\n",
       "      <td>NaN</td>\n",
       "      <td>NaN</td>\n",
       "      <td>NaN</td>\n",
       "      <td>NaN</td>\n",
       "      <td>NaN</td>\n",
       "    </tr>\n",
       "    <tr>\n",
       "      <th>4</th>\n",
       "      <td>2021-02-01 04:00:00</td>\n",
       "      <td>10.800</td>\n",
       "      <td>14.816</td>\n",
       "      <td>16.999</td>\n",
       "      <td>6.583</td>\n",
       "      <td>8.199</td>\n",
       "      <td>6.150</td>\n",
       "      <td>9.150</td>\n",
       "      <td>14.516</td>\n",
       "      <td>7.433</td>\n",
       "      <td>NaN</td>\n",
       "      <td>NaN</td>\n",
       "      <td>NaN</td>\n",
       "      <td>NaN</td>\n",
       "      <td>NaN</td>\n",
       "      <td>NaN</td>\n",
       "      <td>NaN</td>\n",
       "    </tr>\n",
       "  </tbody>\n",
       "</table>\n",
       "</div>"
      ],
      "text/plain": [
       "                 Tarih  İzmir  Aliağa  Çeşme  Bergama  Manisa  Akhisar  \\\n",
       "0  2021-02-01 00:00:00 10.357  13.682 16.307    6.082   5.957    5.007   \n",
       "1  2021-02-01 01:00:00 10.142  13.692 16.317    5.859   6.059    4.942   \n",
       "2  2021-02-01 02:00:00  9.928  13.703 16.328    5.636   6.161    4.878   \n",
       "3  2021-02-01 03:00:00 11.461  14.811 17.236    6.561   8.611    7.061   \n",
       "4  2021-02-01 04:00:00 10.800  14.816 16.999    6.583   8.199    6.150   \n",
       "\n",
       "   Salihli  Çiğli  Menderes  Alaşehir  Demirci  Güzelyalı  Kula  Ödemiş  Soma  \\\n",
       "0    5.907 13.857     7.682       NaN      NaN        NaN   NaN     NaN   NaN   \n",
       "1    6.409 13.709     7.309       NaN      NaN        NaN   NaN     NaN   NaN   \n",
       "2    6.911 13.561     6.936       NaN      NaN        NaN   NaN     NaN   NaN   \n",
       "3    9.286 14.811     7.811       NaN      NaN        NaN   NaN     NaN   NaN   \n",
       "4    9.150 14.516     7.433       NaN      NaN        NaN   NaN     NaN   NaN   \n",
       "\n",
       "   Urla  \n",
       "0   NaN  \n",
       "1   NaN  \n",
       "2   NaN  \n",
       "3   NaN  \n",
       "4   NaN  "
      ]
     },
     "execution_count": 140,
     "metadata": {},
     "output_type": "execute_result"
    }
   ],
   "source": [
    "df_temp.head()"
   ]
  },
  {
   "cell_type": "code",
   "execution_count": 141,
   "metadata": {},
   "outputs": [
    {
     "data": {
      "text/plain": [
       "(12528, 17)"
      ]
     },
     "execution_count": 141,
     "metadata": {},
     "output_type": "execute_result"
    }
   ],
   "source": [
    "df_temp.shape"
   ]
  },
  {
   "cell_type": "code",
   "execution_count": 142,
   "metadata": {},
   "outputs": [
    {
     "name": "stdout",
     "output_type": "stream",
     "text": [
      "<class 'pandas.core.frame.DataFrame'>\n",
      "RangeIndex: 12528 entries, 0 to 12527\n",
      "Data columns (total 17 columns):\n",
      " #   Column     Non-Null Count  Dtype  \n",
      "---  ------     --------------  -----  \n",
      " 0   Tarih      12528 non-null  object \n",
      " 1   İzmir      12528 non-null  float64\n",
      " 2   Aliağa     11784 non-null  float64\n",
      " 3   Çeşme      12528 non-null  float64\n",
      " 4   Bergama    11784 non-null  float64\n",
      " 5   Manisa     12528 non-null  float64\n",
      " 6   Akhisar    12528 non-null  float64\n",
      " 7   Salihli    11784 non-null  float64\n",
      " 8   Çiğli      11784 non-null  float64\n",
      " 9   Menderes   11784 non-null  float64\n",
      " 10  Alaşehir   11088 non-null  float64\n",
      " 11  Demirci    11088 non-null  float64\n",
      " 12  Güzelyalı  11088 non-null  float64\n",
      " 13  Kula       11088 non-null  float64\n",
      " 14  Ödemiş     11088 non-null  float64\n",
      " 15  Soma       11088 non-null  float64\n",
      " 16  Urla       11088 non-null  float64\n",
      "dtypes: float64(16), object(1)\n",
      "memory usage: 1.6+ MB\n"
     ]
    }
   ],
   "source": [
    "df_temp.info()"
   ]
  },
  {
   "cell_type": "code",
   "execution_count": 143,
   "metadata": {},
   "outputs": [
    {
     "data": {
      "text/html": [
       "<pre style=\"white-space:pre;overflow-x:auto;line-height:normal;font-family:Menlo,'DejaVu Sans Mono',consolas,'Courier New',monospace\">╭──────────────────────────────────────────────── skimpy summary ─────────────────────────────────────────────────╮\n",
       "│ <span style=\"font-style: italic\">         Data Summary         </span> <span style=\"font-style: italic\">      Data Types       </span>                                                          │\n",
       "│ ┏━━━━━━━━━━━━━━━━━━━┳━━━━━━━━┓ ┏━━━━━━━━━━━━━┳━━━━━━━┓                                                          │\n",
       "│ ┃<span style=\"color: #008080; text-decoration-color: #008080; font-weight: bold\"> dataframe         </span>┃<span style=\"color: #008080; text-decoration-color: #008080; font-weight: bold\"> Values </span>┃ ┃<span style=\"color: #008080; text-decoration-color: #008080; font-weight: bold\"> Column Type </span>┃<span style=\"color: #008080; text-decoration-color: #008080; font-weight: bold\"> Count </span>┃                                                          │\n",
       "│ ┡━━━━━━━━━━━━━━━━━━━╇━━━━━━━━┩ ┡━━━━━━━━━━━━━╇━━━━━━━┩                                                          │\n",
       "│ │ Number of rows    │ 12528  │ │ float64     │ 16    │                                                          │\n",
       "│ │ Number of columns │ 17     │ │ string      │ 1     │                                                          │\n",
       "│ └───────────────────┴────────┘ └─────────────┴───────┘                                                          │\n",
       "│ <span style=\"font-style: italic\">                                                    number                                                    </span>  │\n",
       "│ ┏━━━━━━━━━━━━━━━━━━━━┳━━━━━━━━━┳━━━━━━━━━┳━━━━━━━━━┳━━━━━━━━┳━━━━━━━━━┳━━━━━━━━┳━━━━━━━━┳━━━━━━━━━┳━━━━━━━━━━┓  │\n",
       "│ ┃<span style=\"font-weight: bold\"> column_name        </span>┃<span style=\"font-weight: bold\"> NA      </span>┃<span style=\"font-weight: bold\"> NA %    </span>┃<span style=\"font-weight: bold\"> mean    </span>┃<span style=\"font-weight: bold\"> sd     </span>┃<span style=\"font-weight: bold\"> p0      </span>┃<span style=\"font-weight: bold\"> p25    </span>┃<span style=\"font-weight: bold\"> p75    </span>┃<span style=\"font-weight: bold\"> p100    </span>┃<span style=\"font-weight: bold\"> hist     </span>┃  │\n",
       "│ ┡━━━━━━━━━━━━━━━━━━━━╇━━━━━━━━━╇━━━━━━━━━╇━━━━━━━━━╇━━━━━━━━╇━━━━━━━━━╇━━━━━━━━╇━━━━━━━━╇━━━━━━━━━╇━━━━━━━━━━┩  │\n",
       "│ │ <span style=\"color: #af87ff; text-decoration-color: #af87ff\">İzmir             </span> │ <span style=\"color: #008080; text-decoration-color: #008080\">      0</span> │ <span style=\"color: #008080; text-decoration-color: #008080\">      0</span> │ <span style=\"color: #008080; text-decoration-color: #008080\">     15</span> │ <span style=\"color: #008080; text-decoration-color: #008080\">   8.8</span> │ <span style=\"color: #008080; text-decoration-color: #008080\">   -5.8</span> │ <span style=\"color: #008080; text-decoration-color: #008080\">     9</span> │ <span style=\"color: #008080; text-decoration-color: #008080\">    22</span> │ <span style=\"color: #008080; text-decoration-color: #008080\">     38</span> │ <span style=\"color: #008000; text-decoration-color: #008000\"> ▁▅█▆▄▁ </span> │  │\n",
       "│ │ <span style=\"color: #af87ff; text-decoration-color: #af87ff\">Aliağa            </span> │ <span style=\"color: #008080; text-decoration-color: #008080\">    740</span> │ <span style=\"color: #008080; text-decoration-color: #008080\">    5.9</span> │ <span style=\"color: #008080; text-decoration-color: #008080\">     16</span> │ <span style=\"color: #008080; text-decoration-color: #008080\">   7.6</span> │ <span style=\"color: #008080; text-decoration-color: #008080\">   -2.9</span> │ <span style=\"color: #008080; text-decoration-color: #008080\">    11</span> │ <span style=\"color: #008080; text-decoration-color: #008080\">    22</span> │ <span style=\"color: #008080; text-decoration-color: #008080\">     35</span> │ <span style=\"color: #008000; text-decoration-color: #008000\"> ▁▅█▇▅▁ </span> │  │\n",
       "│ │ <span style=\"color: #af87ff; text-decoration-color: #af87ff\">Çeşme             </span> │ <span style=\"color: #008080; text-decoration-color: #008080\">      0</span> │ <span style=\"color: #008080; text-decoration-color: #008080\">      0</span> │ <span style=\"color: #008080; text-decoration-color: #008080\">     17</span> │ <span style=\"color: #008080; text-decoration-color: #008080\">   6.2</span> │ <span style=\"color: #008080; text-decoration-color: #008080\">    1.9</span> │ <span style=\"color: #008080; text-decoration-color: #008080\">    13</span> │ <span style=\"color: #008080; text-decoration-color: #008080\">    22</span> │ <span style=\"color: #008080; text-decoration-color: #008080\">     34</span> │ <span style=\"color: #008000; text-decoration-color: #008000\"> ▁▅█▅▄▁ </span> │  │\n",
       "│ │ <span style=\"color: #af87ff; text-decoration-color: #af87ff\">Bergama           </span> │ <span style=\"color: #008080; text-decoration-color: #008080\">    740</span> │ <span style=\"color: #008080; text-decoration-color: #008080\">    5.9</span> │ <span style=\"color: #008080; text-decoration-color: #008080\">     15</span> │ <span style=\"color: #008080; text-decoration-color: #008080\">   9.5</span> │ <span style=\"color: #008080; text-decoration-color: #008080\">   -9.4</span> │ <span style=\"color: #008080; text-decoration-color: #008080\">   8.2</span> │ <span style=\"color: #008080; text-decoration-color: #008080\">    22</span> │ <span style=\"color: #008080; text-decoration-color: #008080\">     40</span> │ <span style=\"color: #008000; text-decoration-color: #008000\"> ▁▅█▆▄▁ </span> │  │\n",
       "│ │ <span style=\"color: #af87ff; text-decoration-color: #af87ff\">Manisa            </span> │ <span style=\"color: #008080; text-decoration-color: #008080\">      0</span> │ <span style=\"color: #008080; text-decoration-color: #008080\">      0</span> │ <span style=\"color: #008080; text-decoration-color: #008080\">     14</span> │ <span style=\"color: #008080; text-decoration-color: #008080\">   9.7</span> │ <span style=\"color: #008080; text-decoration-color: #008080\">    -11</span> │ <span style=\"color: #008080; text-decoration-color: #008080\">   6.9</span> │ <span style=\"color: #008080; text-decoration-color: #008080\">    21</span> │ <span style=\"color: #008080; text-decoration-color: #008080\">     41</span> │ <span style=\"color: #008000; text-decoration-color: #008000\"> ▁▅█▆▄▁ </span> │  │\n",
       "│ │ <span style=\"color: #af87ff; text-decoration-color: #af87ff\">Akhisar           </span> │ <span style=\"color: #008080; text-decoration-color: #008080\">      0</span> │ <span style=\"color: #008080; text-decoration-color: #008080\">      0</span> │ <span style=\"color: #008080; text-decoration-color: #008080\">     14</span> │ <span style=\"color: #008080; text-decoration-color: #008080\">   9.9</span> │ <span style=\"color: #008080; text-decoration-color: #008080\">    -12</span> │ <span style=\"color: #008080; text-decoration-color: #008080\">   6.6</span> │ <span style=\"color: #008080; text-decoration-color: #008080\">    21</span> │ <span style=\"color: #008080; text-decoration-color: #008080\">     41</span> │ <span style=\"color: #008000; text-decoration-color: #008000\"> ▁▅█▆▄▁ </span> │  │\n",
       "│ │ <span style=\"color: #af87ff; text-decoration-color: #af87ff\">Salihli           </span> │ <span style=\"color: #008080; text-decoration-color: #008080\">    740</span> │ <span style=\"color: #008080; text-decoration-color: #008080\">    5.9</span> │ <span style=\"color: #008080; text-decoration-color: #008080\">     14</span> │ <span style=\"color: #008080; text-decoration-color: #008080\">   9.2</span> │ <span style=\"color: #008080; text-decoration-color: #008080\">   -9.8</span> │ <span style=\"color: #008080; text-decoration-color: #008080\">   6.8</span> │ <span style=\"color: #008080; text-decoration-color: #008080\">    20</span> │ <span style=\"color: #008080; text-decoration-color: #008080\">     37</span> │ <span style=\"color: #008000; text-decoration-color: #008000\"> ▁▅██▅▁ </span> │  │\n",
       "│ │ <span style=\"color: #af87ff; text-decoration-color: #af87ff\">Çiğli             </span> │ <span style=\"color: #008080; text-decoration-color: #008080\">    740</span> │ <span style=\"color: #008080; text-decoration-color: #008080\">    5.9</span> │ <span style=\"color: #008080; text-decoration-color: #008080\">     16</span> │ <span style=\"color: #008080; text-decoration-color: #008080\">   8.3</span> │ <span style=\"color: #008080; text-decoration-color: #008080\">   -6.3</span> │ <span style=\"color: #008080; text-decoration-color: #008080\">    11</span> │ <span style=\"color: #008080; text-decoration-color: #008080\">    23</span> │ <span style=\"color: #008080; text-decoration-color: #008080\">     37</span> │ <span style=\"color: #008000; text-decoration-color: #008000\"> ▁▄█▇▅▂ </span> │  │\n",
       "│ │ <span style=\"color: #af87ff; text-decoration-color: #af87ff\">Menderes          </span> │ <span style=\"color: #008080; text-decoration-color: #008080\">    740</span> │ <span style=\"color: #008080; text-decoration-color: #008080\">    5.9</span> │ <span style=\"color: #008080; text-decoration-color: #008080\">     15</span> │ <span style=\"color: #008080; text-decoration-color: #008080\">   9.6</span> │ <span style=\"color: #008080; text-decoration-color: #008080\">   -8.4</span> │ <span style=\"color: #008080; text-decoration-color: #008080\">   8.6</span> │ <span style=\"color: #008080; text-decoration-color: #008080\">    22</span> │ <span style=\"color: #008080; text-decoration-color: #008080\">     41</span> │ <span style=\"color: #008000; text-decoration-color: #008000\"> ▁▅█▆▄▁ </span> │  │\n",
       "│ │ <span style=\"color: #af87ff; text-decoration-color: #af87ff\">Alaşehir          </span> │ <span style=\"color: #008080; text-decoration-color: #008080\">   1400</span> │ <span style=\"color: #008080; text-decoration-color: #008080\">     11</span> │ <span style=\"color: #008080; text-decoration-color: #008080\">     14</span> │ <span style=\"color: #008080; text-decoration-color: #008080\">   9.9</span> │ <span style=\"color: #008080; text-decoration-color: #008080\">    -12</span> │ <span style=\"color: #008080; text-decoration-color: #008080\">   6.6</span> │ <span style=\"color: #008080; text-decoration-color: #008080\">    21</span> │ <span style=\"color: #008080; text-decoration-color: #008080\">     40</span> │ <span style=\"color: #008000; text-decoration-color: #008000\"> ▁▅██▄▁ </span> │  │\n",
       "│ │ <span style=\"color: #af87ff; text-decoration-color: #af87ff\">Demirci           </span> │ <span style=\"color: #008080; text-decoration-color: #008080\">   1400</span> │ <span style=\"color: #008080; text-decoration-color: #008080\">     11</span> │ <span style=\"color: #008080; text-decoration-color: #008080\">     11</span> │ <span style=\"color: #008080; text-decoration-color: #008080\">   9.8</span> │ <span style=\"color: #008080; text-decoration-color: #008080\">    -15</span> │ <span style=\"color: #008080; text-decoration-color: #008080\">   4.3</span> │ <span style=\"color: #008080; text-decoration-color: #008080\">    18</span> │ <span style=\"color: #008080; text-decoration-color: #008080\">     37</span> │ <span style=\"color: #008000; text-decoration-color: #008000\"> ▁▄█▇▄▁ </span> │  │\n",
       "│ │ <span style=\"color: #af87ff; text-decoration-color: #af87ff\">Güzelyalı         </span> │ <span style=\"color: #008080; text-decoration-color: #008080\">   1400</span> │ <span style=\"color: #008080; text-decoration-color: #008080\">     11</span> │ <span style=\"color: #008080; text-decoration-color: #008080\">     16</span> │ <span style=\"color: #008080; text-decoration-color: #008080\">   8.8</span> │ <span style=\"color: #008080; text-decoration-color: #008080\">   -5.8</span> │ <span style=\"color: #008080; text-decoration-color: #008080\">   9.6</span> │ <span style=\"color: #008080; text-decoration-color: #008080\">    23</span> │ <span style=\"color: #008080; text-decoration-color: #008080\">     38</span> │ <span style=\"color: #008000; text-decoration-color: #008000\"> ▁▅█▆▄▁ </span> │  │\n",
       "│ │ <span style=\"color: #af87ff; text-decoration-color: #af87ff\">Kula              </span> │ <span style=\"color: #008080; text-decoration-color: #008080\">   1400</span> │ <span style=\"color: #008080; text-decoration-color: #008080\">     11</span> │ <span style=\"color: #008080; text-decoration-color: #008080\">     13</span> │ <span style=\"color: #008080; text-decoration-color: #008080\">    10</span> │ <span style=\"color: #008080; text-decoration-color: #008080\">    -14</span> │ <span style=\"color: #008080; text-decoration-color: #008080\">   5.8</span> │ <span style=\"color: #008080; text-decoration-color: #008080\">    20</span> │ <span style=\"color: #008080; text-decoration-color: #008080\">     39</span> │ <span style=\"color: #008000; text-decoration-color: #008000\"> ▁▄█▇▄▁ </span> │  │\n",
       "│ │ <span style=\"color: #af87ff; text-decoration-color: #af87ff\">Ödemiş            </span> │ <span style=\"color: #008080; text-decoration-color: #008080\">   1400</span> │ <span style=\"color: #008080; text-decoration-color: #008080\">     11</span> │ <span style=\"color: #008080; text-decoration-color: #008080\">     15</span> │ <span style=\"color: #008080; text-decoration-color: #008080\">   9.3</span> │ <span style=\"color: #008080; text-decoration-color: #008080\">     -8</span> │ <span style=\"color: #008080; text-decoration-color: #008080\">   7.9</span> │ <span style=\"color: #008080; text-decoration-color: #008080\">    21</span> │ <span style=\"color: #008080; text-decoration-color: #008080\">     40</span> │ <span style=\"color: #008000; text-decoration-color: #008000\"> ▁▅█▇▄▁ </span> │  │\n",
       "│ │ <span style=\"color: #af87ff; text-decoration-color: #af87ff\">Soma              </span> │ <span style=\"color: #008080; text-decoration-color: #008080\">   1400</span> │ <span style=\"color: #008080; text-decoration-color: #008080\">     11</span> │ <span style=\"color: #008080; text-decoration-color: #008080\">     14</span> │ <span style=\"color: #008080; text-decoration-color: #008080\">   9.5</span> │ <span style=\"color: #008080; text-decoration-color: #008080\">     -9</span> │ <span style=\"color: #008080; text-decoration-color: #008080\">   7.2</span> │ <span style=\"color: #008080; text-decoration-color: #008080\">    21</span> │ <span style=\"color: #008080; text-decoration-color: #008080\">     40</span> │ <span style=\"color: #008000; text-decoration-color: #008000\"> ▁▅█▇▄▁ </span> │  │\n",
       "│ │ <span style=\"color: #af87ff; text-decoration-color: #af87ff\">Urla              </span> │ <span style=\"color: #008080; text-decoration-color: #008080\">   1400</span> │ <span style=\"color: #008080; text-decoration-color: #008080\">     11</span> │ <span style=\"color: #008080; text-decoration-color: #008080\">     17</span> │ <span style=\"color: #008080; text-decoration-color: #008080\">   7.7</span> │ <span style=\"color: #008080; text-decoration-color: #008080\">   -2.4</span> │ <span style=\"color: #008080; text-decoration-color: #008080\">    11</span> │ <span style=\"color: #008080; text-decoration-color: #008080\">    23</span> │ <span style=\"color: #008080; text-decoration-color: #008080\">     37</span> │ <span style=\"color: #008000; text-decoration-color: #008000\"> ▁▅█▇▄▁ </span> │  │\n",
       "│ └────────────────────┴─────────┴─────────┴─────────┴────────┴─────────┴────────┴────────┴─────────┴──────────┘  │\n",
       "│ <span style=\"font-style: italic\">                                                    string                                                    </span>  │\n",
       "│ ┏━━━━━━━━━━━━━━━━━━━━━━━━━━━┳━━━━━━━━━┳━━━━━━━━━━━━┳━━━━━━━━━━━━━━━━━━━━━━━━━━━━━━┳━━━━━━━━━━━━━━━━━━━━━━━━━━┓  │\n",
       "│ ┃<span style=\"font-weight: bold\"> column_name               </span>┃<span style=\"font-weight: bold\"> NA      </span>┃<span style=\"font-weight: bold\"> NA %       </span>┃<span style=\"font-weight: bold\"> words per row                </span>┃<span style=\"font-weight: bold\"> total words              </span>┃  │\n",
       "│ ┡━━━━━━━━━━━━━━━━━━━━━━━━━━━╇━━━━━━━━━╇━━━━━━━━━━━━╇━━━━━━━━━━━━━━━━━━━━━━━━━━━━━━╇━━━━━━━━━━━━━━━━━━━━━━━━━━┩  │\n",
       "│ │ <span style=\"color: #af87ff; text-decoration-color: #af87ff\">Tarih                    </span> │ <span style=\"color: #008080; text-decoration-color: #008080\">      0</span> │ <span style=\"color: #008080; text-decoration-color: #008080\">         0</span> │ <span style=\"color: #008080; text-decoration-color: #008080\">                           2</span> │ <span style=\"color: #008080; text-decoration-color: #008080\">                   25000</span> │  │\n",
       "│ └───────────────────────────┴─────────┴────────────┴──────────────────────────────┴──────────────────────────┘  │\n",
       "╰────────────────────────────────────────────────────── End ──────────────────────────────────────────────────────╯\n",
       "</pre>\n"
      ],
      "text/plain": [
       "╭──────────────────────────────────────────────── skimpy summary ─────────────────────────────────────────────────╮\n",
       "│ \u001b[3m         Data Summary         \u001b[0m \u001b[3m      Data Types       \u001b[0m                                                          │\n",
       "│ ┏━━━━━━━━━━━━━━━━━━━┳━━━━━━━━┓ ┏━━━━━━━━━━━━━┳━━━━━━━┓                                                          │\n",
       "│ ┃\u001b[1;36m \u001b[0m\u001b[1;36mdataframe        \u001b[0m\u001b[1;36m \u001b[0m┃\u001b[1;36m \u001b[0m\u001b[1;36mValues\u001b[0m\u001b[1;36m \u001b[0m┃ ┃\u001b[1;36m \u001b[0m\u001b[1;36mColumn Type\u001b[0m\u001b[1;36m \u001b[0m┃\u001b[1;36m \u001b[0m\u001b[1;36mCount\u001b[0m\u001b[1;36m \u001b[0m┃                                                          │\n",
       "│ ┡━━━━━━━━━━━━━━━━━━━╇━━━━━━━━┩ ┡━━━━━━━━━━━━━╇━━━━━━━┩                                                          │\n",
       "│ │ Number of rows    │ 12528  │ │ float64     │ 16    │                                                          │\n",
       "│ │ Number of columns │ 17     │ │ string      │ 1     │                                                          │\n",
       "│ └───────────────────┴────────┘ └─────────────┴───────┘                                                          │\n",
       "│ \u001b[3m                                                    number                                                    \u001b[0m  │\n",
       "│ ┏━━━━━━━━━━━━━━━━━━━━┳━━━━━━━━━┳━━━━━━━━━┳━━━━━━━━━┳━━━━━━━━┳━━━━━━━━━┳━━━━━━━━┳━━━━━━━━┳━━━━━━━━━┳━━━━━━━━━━┓  │\n",
       "│ ┃\u001b[1m \u001b[0m\u001b[1mcolumn_name       \u001b[0m\u001b[1m \u001b[0m┃\u001b[1m \u001b[0m\u001b[1mNA     \u001b[0m\u001b[1m \u001b[0m┃\u001b[1m \u001b[0m\u001b[1mNA %   \u001b[0m\u001b[1m \u001b[0m┃\u001b[1m \u001b[0m\u001b[1mmean   \u001b[0m\u001b[1m \u001b[0m┃\u001b[1m \u001b[0m\u001b[1msd    \u001b[0m\u001b[1m \u001b[0m┃\u001b[1m \u001b[0m\u001b[1mp0     \u001b[0m\u001b[1m \u001b[0m┃\u001b[1m \u001b[0m\u001b[1mp25   \u001b[0m\u001b[1m \u001b[0m┃\u001b[1m \u001b[0m\u001b[1mp75   \u001b[0m\u001b[1m \u001b[0m┃\u001b[1m \u001b[0m\u001b[1mp100   \u001b[0m\u001b[1m \u001b[0m┃\u001b[1m \u001b[0m\u001b[1mhist    \u001b[0m\u001b[1m \u001b[0m┃  │\n",
       "│ ┡━━━━━━━━━━━━━━━━━━━━╇━━━━━━━━━╇━━━━━━━━━╇━━━━━━━━━╇━━━━━━━━╇━━━━━━━━━╇━━━━━━━━╇━━━━━━━━╇━━━━━━━━━╇━━━━━━━━━━┩  │\n",
       "│ │ \u001b[38;5;141mİzmir             \u001b[0m │ \u001b[36m      0\u001b[0m │ \u001b[36m      0\u001b[0m │ \u001b[36m     15\u001b[0m │ \u001b[36m   8.8\u001b[0m │ \u001b[36m   -5.8\u001b[0m │ \u001b[36m     9\u001b[0m │ \u001b[36m    22\u001b[0m │ \u001b[36m     38\u001b[0m │ \u001b[32m ▁▅█▆▄▁ \u001b[0m │  │\n",
       "│ │ \u001b[38;5;141mAliağa            \u001b[0m │ \u001b[36m    740\u001b[0m │ \u001b[36m    5.9\u001b[0m │ \u001b[36m     16\u001b[0m │ \u001b[36m   7.6\u001b[0m │ \u001b[36m   -2.9\u001b[0m │ \u001b[36m    11\u001b[0m │ \u001b[36m    22\u001b[0m │ \u001b[36m     35\u001b[0m │ \u001b[32m ▁▅█▇▅▁ \u001b[0m │  │\n",
       "│ │ \u001b[38;5;141mÇeşme             \u001b[0m │ \u001b[36m      0\u001b[0m │ \u001b[36m      0\u001b[0m │ \u001b[36m     17\u001b[0m │ \u001b[36m   6.2\u001b[0m │ \u001b[36m    1.9\u001b[0m │ \u001b[36m    13\u001b[0m │ \u001b[36m    22\u001b[0m │ \u001b[36m     34\u001b[0m │ \u001b[32m ▁▅█▅▄▁ \u001b[0m │  │\n",
       "│ │ \u001b[38;5;141mBergama           \u001b[0m │ \u001b[36m    740\u001b[0m │ \u001b[36m    5.9\u001b[0m │ \u001b[36m     15\u001b[0m │ \u001b[36m   9.5\u001b[0m │ \u001b[36m   -9.4\u001b[0m │ \u001b[36m   8.2\u001b[0m │ \u001b[36m    22\u001b[0m │ \u001b[36m     40\u001b[0m │ \u001b[32m ▁▅█▆▄▁ \u001b[0m │  │\n",
       "│ │ \u001b[38;5;141mManisa            \u001b[0m │ \u001b[36m      0\u001b[0m │ \u001b[36m      0\u001b[0m │ \u001b[36m     14\u001b[0m │ \u001b[36m   9.7\u001b[0m │ \u001b[36m    -11\u001b[0m │ \u001b[36m   6.9\u001b[0m │ \u001b[36m    21\u001b[0m │ \u001b[36m     41\u001b[0m │ \u001b[32m ▁▅█▆▄▁ \u001b[0m │  │\n",
       "│ │ \u001b[38;5;141mAkhisar           \u001b[0m │ \u001b[36m      0\u001b[0m │ \u001b[36m      0\u001b[0m │ \u001b[36m     14\u001b[0m │ \u001b[36m   9.9\u001b[0m │ \u001b[36m    -12\u001b[0m │ \u001b[36m   6.6\u001b[0m │ \u001b[36m    21\u001b[0m │ \u001b[36m     41\u001b[0m │ \u001b[32m ▁▅█▆▄▁ \u001b[0m │  │\n",
       "│ │ \u001b[38;5;141mSalihli           \u001b[0m │ \u001b[36m    740\u001b[0m │ \u001b[36m    5.9\u001b[0m │ \u001b[36m     14\u001b[0m │ \u001b[36m   9.2\u001b[0m │ \u001b[36m   -9.8\u001b[0m │ \u001b[36m   6.8\u001b[0m │ \u001b[36m    20\u001b[0m │ \u001b[36m     37\u001b[0m │ \u001b[32m ▁▅██▅▁ \u001b[0m │  │\n",
       "│ │ \u001b[38;5;141mÇiğli             \u001b[0m │ \u001b[36m    740\u001b[0m │ \u001b[36m    5.9\u001b[0m │ \u001b[36m     16\u001b[0m │ \u001b[36m   8.3\u001b[0m │ \u001b[36m   -6.3\u001b[0m │ \u001b[36m    11\u001b[0m │ \u001b[36m    23\u001b[0m │ \u001b[36m     37\u001b[0m │ \u001b[32m ▁▄█▇▅▂ \u001b[0m │  │\n",
       "│ │ \u001b[38;5;141mMenderes          \u001b[0m │ \u001b[36m    740\u001b[0m │ \u001b[36m    5.9\u001b[0m │ \u001b[36m     15\u001b[0m │ \u001b[36m   9.6\u001b[0m │ \u001b[36m   -8.4\u001b[0m │ \u001b[36m   8.6\u001b[0m │ \u001b[36m    22\u001b[0m │ \u001b[36m     41\u001b[0m │ \u001b[32m ▁▅█▆▄▁ \u001b[0m │  │\n",
       "│ │ \u001b[38;5;141mAlaşehir          \u001b[0m │ \u001b[36m   1400\u001b[0m │ \u001b[36m     11\u001b[0m │ \u001b[36m     14\u001b[0m │ \u001b[36m   9.9\u001b[0m │ \u001b[36m    -12\u001b[0m │ \u001b[36m   6.6\u001b[0m │ \u001b[36m    21\u001b[0m │ \u001b[36m     40\u001b[0m │ \u001b[32m ▁▅██▄▁ \u001b[0m │  │\n",
       "│ │ \u001b[38;5;141mDemirci           \u001b[0m │ \u001b[36m   1400\u001b[0m │ \u001b[36m     11\u001b[0m │ \u001b[36m     11\u001b[0m │ \u001b[36m   9.8\u001b[0m │ \u001b[36m    -15\u001b[0m │ \u001b[36m   4.3\u001b[0m │ \u001b[36m    18\u001b[0m │ \u001b[36m     37\u001b[0m │ \u001b[32m ▁▄█▇▄▁ \u001b[0m │  │\n",
       "│ │ \u001b[38;5;141mGüzelyalı         \u001b[0m │ \u001b[36m   1400\u001b[0m │ \u001b[36m     11\u001b[0m │ \u001b[36m     16\u001b[0m │ \u001b[36m   8.8\u001b[0m │ \u001b[36m   -5.8\u001b[0m │ \u001b[36m   9.6\u001b[0m │ \u001b[36m    23\u001b[0m │ \u001b[36m     38\u001b[0m │ \u001b[32m ▁▅█▆▄▁ \u001b[0m │  │\n",
       "│ │ \u001b[38;5;141mKula              \u001b[0m │ \u001b[36m   1400\u001b[0m │ \u001b[36m     11\u001b[0m │ \u001b[36m     13\u001b[0m │ \u001b[36m    10\u001b[0m │ \u001b[36m    -14\u001b[0m │ \u001b[36m   5.8\u001b[0m │ \u001b[36m    20\u001b[0m │ \u001b[36m     39\u001b[0m │ \u001b[32m ▁▄█▇▄▁ \u001b[0m │  │\n",
       "│ │ \u001b[38;5;141mÖdemiş            \u001b[0m │ \u001b[36m   1400\u001b[0m │ \u001b[36m     11\u001b[0m │ \u001b[36m     15\u001b[0m │ \u001b[36m   9.3\u001b[0m │ \u001b[36m     -8\u001b[0m │ \u001b[36m   7.9\u001b[0m │ \u001b[36m    21\u001b[0m │ \u001b[36m     40\u001b[0m │ \u001b[32m ▁▅█▇▄▁ \u001b[0m │  │\n",
       "│ │ \u001b[38;5;141mSoma              \u001b[0m │ \u001b[36m   1400\u001b[0m │ \u001b[36m     11\u001b[0m │ \u001b[36m     14\u001b[0m │ \u001b[36m   9.5\u001b[0m │ \u001b[36m     -9\u001b[0m │ \u001b[36m   7.2\u001b[0m │ \u001b[36m    21\u001b[0m │ \u001b[36m     40\u001b[0m │ \u001b[32m ▁▅█▇▄▁ \u001b[0m │  │\n",
       "│ │ \u001b[38;5;141mUrla              \u001b[0m │ \u001b[36m   1400\u001b[0m │ \u001b[36m     11\u001b[0m │ \u001b[36m     17\u001b[0m │ \u001b[36m   7.7\u001b[0m │ \u001b[36m   -2.4\u001b[0m │ \u001b[36m    11\u001b[0m │ \u001b[36m    23\u001b[0m │ \u001b[36m     37\u001b[0m │ \u001b[32m ▁▅█▇▄▁ \u001b[0m │  │\n",
       "│ └────────────────────┴─────────┴─────────┴─────────┴────────┴─────────┴────────┴────────┴─────────┴──────────┘  │\n",
       "│ \u001b[3m                                                    string                                                    \u001b[0m  │\n",
       "│ ┏━━━━━━━━━━━━━━━━━━━━━━━━━━━┳━━━━━━━━━┳━━━━━━━━━━━━┳━━━━━━━━━━━━━━━━━━━━━━━━━━━━━━┳━━━━━━━━━━━━━━━━━━━━━━━━━━┓  │\n",
       "│ ┃\u001b[1m \u001b[0m\u001b[1mcolumn_name              \u001b[0m\u001b[1m \u001b[0m┃\u001b[1m \u001b[0m\u001b[1mNA     \u001b[0m\u001b[1m \u001b[0m┃\u001b[1m \u001b[0m\u001b[1mNA %      \u001b[0m\u001b[1m \u001b[0m┃\u001b[1m \u001b[0m\u001b[1mwords per row               \u001b[0m\u001b[1m \u001b[0m┃\u001b[1m \u001b[0m\u001b[1mtotal words             \u001b[0m\u001b[1m \u001b[0m┃  │\n",
       "│ ┡━━━━━━━━━━━━━━━━━━━━━━━━━━━╇━━━━━━━━━╇━━━━━━━━━━━━╇━━━━━━━━━━━━━━━━━━━━━━━━━━━━━━╇━━━━━━━━━━━━━━━━━━━━━━━━━━┩  │\n",
       "│ │ \u001b[38;5;141mTarih                    \u001b[0m │ \u001b[36m      0\u001b[0m │ \u001b[36m         0\u001b[0m │ \u001b[36m                           2\u001b[0m │ \u001b[36m                   25000\u001b[0m │  │\n",
       "│ └───────────────────────────┴─────────┴────────────┴──────────────────────────────┴──────────────────────────┘  │\n",
       "╰────────────────────────────────────────────────────── End ──────────────────────────────────────────────────────╯\n"
      ]
     },
     "metadata": {},
     "output_type": "display_data"
    }
   ],
   "source": [
    "skim(df_temp)"
   ]
  },
  {
   "cell_type": "markdown",
   "metadata": {},
   "source": [
    "### **<span style='color:turquoise'> Precipitation </span>** "
   ]
  },
  {
   "cell_type": "markdown",
   "metadata": {},
   "source": [
    "unit = `kg/m²`"
   ]
  },
  {
   "cell_type": "code",
   "execution_count": 144,
   "metadata": {},
   "outputs": [],
   "source": [
    "df9 = pd.read_csv(\"Weather_Yagis.csv\")\n",
    "df_rain = df9.copy()"
   ]
  },
  {
   "cell_type": "code",
   "execution_count": 145,
   "metadata": {},
   "outputs": [
    {
     "data": {
      "text/html": [
       "<div>\n",
       "<style scoped>\n",
       "    .dataframe tbody tr th:only-of-type {\n",
       "        vertical-align: middle;\n",
       "    }\n",
       "\n",
       "    .dataframe tbody tr th {\n",
       "        vertical-align: top;\n",
       "    }\n",
       "\n",
       "    .dataframe thead th {\n",
       "        text-align: right;\n",
       "    }\n",
       "</style>\n",
       "<table border=\"1\" class=\"dataframe\">\n",
       "  <thead>\n",
       "    <tr style=\"text-align: right;\">\n",
       "      <th></th>\n",
       "      <th>Tarih</th>\n",
       "      <th>İzmir</th>\n",
       "      <th>Aliağa</th>\n",
       "      <th>Çeşme</th>\n",
       "      <th>Bergama</th>\n",
       "      <th>Manisa</th>\n",
       "      <th>Akhisar</th>\n",
       "      <th>Salihli</th>\n",
       "      <th>Çiğli</th>\n",
       "      <th>Menderes</th>\n",
       "      <th>Alaşehir</th>\n",
       "      <th>Demirci</th>\n",
       "      <th>Güzelyalı</th>\n",
       "      <th>Kula</th>\n",
       "      <th>Ödemiş</th>\n",
       "      <th>Soma</th>\n",
       "      <th>Urla</th>\n",
       "    </tr>\n",
       "  </thead>\n",
       "  <tbody>\n",
       "    <tr>\n",
       "      <th>0</th>\n",
       "      <td>2021-02-01 00:00:00</td>\n",
       "      <td>0.000</td>\n",
       "      <td>0.000</td>\n",
       "      <td>0.000</td>\n",
       "      <td>0.000</td>\n",
       "      <td>0.000</td>\n",
       "      <td>0.000</td>\n",
       "      <td>0.000</td>\n",
       "      <td>0.000</td>\n",
       "      <td>0.000</td>\n",
       "      <td>NaN</td>\n",
       "      <td>NaN</td>\n",
       "      <td>NaN</td>\n",
       "      <td>NaN</td>\n",
       "      <td>NaN</td>\n",
       "      <td>NaN</td>\n",
       "      <td>NaN</td>\n",
       "    </tr>\n",
       "    <tr>\n",
       "      <th>1</th>\n",
       "      <td>2021-02-01 01:00:00</td>\n",
       "      <td>0.000</td>\n",
       "      <td>0.000</td>\n",
       "      <td>0.000</td>\n",
       "      <td>0.000</td>\n",
       "      <td>0.000</td>\n",
       "      <td>0.000</td>\n",
       "      <td>0.000</td>\n",
       "      <td>0.000</td>\n",
       "      <td>0.000</td>\n",
       "      <td>NaN</td>\n",
       "      <td>NaN</td>\n",
       "      <td>NaN</td>\n",
       "      <td>NaN</td>\n",
       "      <td>NaN</td>\n",
       "      <td>NaN</td>\n",
       "      <td>NaN</td>\n",
       "    </tr>\n",
       "    <tr>\n",
       "      <th>2</th>\n",
       "      <td>2021-02-01 02:00:00</td>\n",
       "      <td>0.000</td>\n",
       "      <td>0.000</td>\n",
       "      <td>0.000</td>\n",
       "      <td>0.000</td>\n",
       "      <td>0.000</td>\n",
       "      <td>0.000</td>\n",
       "      <td>0.000</td>\n",
       "      <td>0.000</td>\n",
       "      <td>0.000</td>\n",
       "      <td>NaN</td>\n",
       "      <td>NaN</td>\n",
       "      <td>NaN</td>\n",
       "      <td>NaN</td>\n",
       "      <td>NaN</td>\n",
       "      <td>NaN</td>\n",
       "      <td>NaN</td>\n",
       "    </tr>\n",
       "    <tr>\n",
       "      <th>3</th>\n",
       "      <td>2021-02-01 03:00:00</td>\n",
       "      <td>0.000</td>\n",
       "      <td>0.000</td>\n",
       "      <td>0.000</td>\n",
       "      <td>0.000</td>\n",
       "      <td>0.000</td>\n",
       "      <td>0.000</td>\n",
       "      <td>0.000</td>\n",
       "      <td>0.000</td>\n",
       "      <td>0.000</td>\n",
       "      <td>NaN</td>\n",
       "      <td>NaN</td>\n",
       "      <td>NaN</td>\n",
       "      <td>NaN</td>\n",
       "      <td>NaN</td>\n",
       "      <td>NaN</td>\n",
       "      <td>NaN</td>\n",
       "    </tr>\n",
       "    <tr>\n",
       "      <th>4</th>\n",
       "      <td>2021-02-01 04:00:00</td>\n",
       "      <td>0.000</td>\n",
       "      <td>0.000</td>\n",
       "      <td>0.021</td>\n",
       "      <td>0.000</td>\n",
       "      <td>0.000</td>\n",
       "      <td>0.000</td>\n",
       "      <td>0.000</td>\n",
       "      <td>0.000</td>\n",
       "      <td>0.021</td>\n",
       "      <td>NaN</td>\n",
       "      <td>NaN</td>\n",
       "      <td>NaN</td>\n",
       "      <td>NaN</td>\n",
       "      <td>NaN</td>\n",
       "      <td>NaN</td>\n",
       "      <td>NaN</td>\n",
       "    </tr>\n",
       "  </tbody>\n",
       "</table>\n",
       "</div>"
      ],
      "text/plain": [
       "                 Tarih  İzmir  Aliağa  Çeşme  Bergama  Manisa  Akhisar  \\\n",
       "0  2021-02-01 00:00:00  0.000   0.000  0.000    0.000   0.000    0.000   \n",
       "1  2021-02-01 01:00:00  0.000   0.000  0.000    0.000   0.000    0.000   \n",
       "2  2021-02-01 02:00:00  0.000   0.000  0.000    0.000   0.000    0.000   \n",
       "3  2021-02-01 03:00:00  0.000   0.000  0.000    0.000   0.000    0.000   \n",
       "4  2021-02-01 04:00:00  0.000   0.000  0.021    0.000   0.000    0.000   \n",
       "\n",
       "   Salihli  Çiğli  Menderes  Alaşehir  Demirci  Güzelyalı  Kula  Ödemiş  Soma  \\\n",
       "0    0.000  0.000     0.000       NaN      NaN        NaN   NaN     NaN   NaN   \n",
       "1    0.000  0.000     0.000       NaN      NaN        NaN   NaN     NaN   NaN   \n",
       "2    0.000  0.000     0.000       NaN      NaN        NaN   NaN     NaN   NaN   \n",
       "3    0.000  0.000     0.000       NaN      NaN        NaN   NaN     NaN   NaN   \n",
       "4    0.000  0.000     0.021       NaN      NaN        NaN   NaN     NaN   NaN   \n",
       "\n",
       "   Urla  \n",
       "0   NaN  \n",
       "1   NaN  \n",
       "2   NaN  \n",
       "3   NaN  \n",
       "4   NaN  "
      ]
     },
     "execution_count": 145,
     "metadata": {},
     "output_type": "execute_result"
    }
   ],
   "source": [
    "df_rain.head()"
   ]
  },
  {
   "cell_type": "code",
   "execution_count": 146,
   "metadata": {},
   "outputs": [
    {
     "data": {
      "text/plain": [
       "(38832, 17)"
      ]
     },
     "execution_count": 146,
     "metadata": {},
     "output_type": "execute_result"
    }
   ],
   "source": [
    "df_rain.shape"
   ]
  },
  {
   "cell_type": "code",
   "execution_count": 147,
   "metadata": {},
   "outputs": [
    {
     "name": "stdout",
     "output_type": "stream",
     "text": [
      "<class 'pandas.core.frame.DataFrame'>\n",
      "RangeIndex: 38832 entries, 0 to 38831\n",
      "Data columns (total 17 columns):\n",
      " #   Column     Non-Null Count  Dtype  \n",
      "---  ------     --------------  -----  \n",
      " 0   Tarih      38832 non-null  object \n",
      " 1   İzmir      11784 non-null  float64\n",
      " 2   Aliağa     11784 non-null  float64\n",
      " 3   Çeşme      38832 non-null  float64\n",
      " 4   Bergama    11784 non-null  float64\n",
      " 5   Manisa     38832 non-null  float64\n",
      " 6   Akhisar    38832 non-null  float64\n",
      " 7   Salihli    11784 non-null  float64\n",
      " 8   Çiğli      11784 non-null  float64\n",
      " 9   Menderes   11784 non-null  float64\n",
      " 10  Alaşehir   11472 non-null  float64\n",
      " 11  Demirci    11472 non-null  float64\n",
      " 12  Güzelyalı  38520 non-null  float64\n",
      " 13  Kula       11472 non-null  float64\n",
      " 14  Ödemiş     11472 non-null  float64\n",
      " 15  Soma       11472 non-null  float64\n",
      " 16  Urla       11472 non-null  float64\n",
      "dtypes: float64(16), object(1)\n",
      "memory usage: 5.0+ MB\n"
     ]
    }
   ],
   "source": [
    "df_rain.info()"
   ]
  },
  {
   "cell_type": "code",
   "execution_count": 148,
   "metadata": {},
   "outputs": [
    {
     "data": {
      "text/html": [
       "<pre style=\"white-space:pre;overflow-x:auto;line-height:normal;font-family:Menlo,'DejaVu Sans Mono',consolas,'Courier New',monospace\">╭──────────────────────────────────────────────── skimpy summary ─────────────────────────────────────────────────╮\n",
       "│ <span style=\"font-style: italic\">         Data Summary         </span> <span style=\"font-style: italic\">      Data Types       </span>                                                          │\n",
       "│ ┏━━━━━━━━━━━━━━━━━━━┳━━━━━━━━┓ ┏━━━━━━━━━━━━━┳━━━━━━━┓                                                          │\n",
       "│ ┃<span style=\"color: #008080; text-decoration-color: #008080; font-weight: bold\"> dataframe         </span>┃<span style=\"color: #008080; text-decoration-color: #008080; font-weight: bold\"> Values </span>┃ ┃<span style=\"color: #008080; text-decoration-color: #008080; font-weight: bold\"> Column Type </span>┃<span style=\"color: #008080; text-decoration-color: #008080; font-weight: bold\"> Count </span>┃                                                          │\n",
       "│ ┡━━━━━━━━━━━━━━━━━━━╇━━━━━━━━┩ ┡━━━━━━━━━━━━━╇━━━━━━━┩                                                          │\n",
       "│ │ Number of rows    │ 38832  │ │ float64     │ 16    │                                                          │\n",
       "│ │ Number of columns │ 17     │ │ string      │ 1     │                                                          │\n",
       "│ └───────────────────┴────────┘ └─────────────┴───────┘                                                          │\n",
       "│ <span style=\"font-style: italic\">                                                    number                                                    </span>  │\n",
       "│ ┏━━━━━━━━━━━━━━━━━━━┳━━━━━━━━━━━┳━━━━━━━━━┳━━━━━━━━━┳━━━━━━━━━┳━━━━━━┳━━━━━━━┳━━━━━━━━━━┳━━━━━━━━━┳━━━━━━━━━━┓  │\n",
       "│ ┃<span style=\"font-weight: bold\"> column_name       </span>┃<span style=\"font-weight: bold\"> NA        </span>┃<span style=\"font-weight: bold\"> NA %    </span>┃<span style=\"font-weight: bold\"> mean    </span>┃<span style=\"font-weight: bold\"> sd      </span>┃<span style=\"font-weight: bold\"> p0   </span>┃<span style=\"font-weight: bold\"> p25   </span>┃<span style=\"font-weight: bold\"> p75      </span>┃<span style=\"font-weight: bold\"> p100    </span>┃<span style=\"font-weight: bold\"> hist     </span>┃  │\n",
       "│ ┡━━━━━━━━━━━━━━━━━━━╇━━━━━━━━━━━╇━━━━━━━━━╇━━━━━━━━━╇━━━━━━━━━╇━━━━━━╇━━━━━━━╇━━━━━━━━━━╇━━━━━━━━━╇━━━━━━━━━━┩  │\n",
       "│ │ <span style=\"color: #af87ff; text-decoration-color: #af87ff\">İzmir            </span> │ <span style=\"color: #008080; text-decoration-color: #008080\">    27000</span> │ <span style=\"color: #008080; text-decoration-color: #008080\">     70</span> │ <span style=\"color: #008080; text-decoration-color: #008080\">   0.31</span> │ <span style=\"color: #008080; text-decoration-color: #008080\">    1.4</span> │ <span style=\"color: #008080; text-decoration-color: #008080\">   0</span> │ <span style=\"color: #008080; text-decoration-color: #008080\">    0</span> │ <span style=\"color: #008080; text-decoration-color: #008080\">       0</span> │ <span style=\"color: #008080; text-decoration-color: #008080\">     31</span> │ <span style=\"color: #008000; text-decoration-color: #008000\">   █    </span> │  │\n",
       "│ │ <span style=\"color: #af87ff; text-decoration-color: #af87ff\">Aliağa           </span> │ <span style=\"color: #008080; text-decoration-color: #008080\">    27000</span> │ <span style=\"color: #008080; text-decoration-color: #008080\">     70</span> │ <span style=\"color: #008080; text-decoration-color: #008080\">   0.31</span> │ <span style=\"color: #008080; text-decoration-color: #008080\">    1.2</span> │ <span style=\"color: #008080; text-decoration-color: #008080\">   0</span> │ <span style=\"color: #008080; text-decoration-color: #008080\">    0</span> │ <span style=\"color: #008080; text-decoration-color: #008080\">       0</span> │ <span style=\"color: #008080; text-decoration-color: #008080\">     27</span> │ <span style=\"color: #008000; text-decoration-color: #008000\">   █    </span> │  │\n",
       "│ │ <span style=\"color: #af87ff; text-decoration-color: #af87ff\">Çeşme            </span> │ <span style=\"color: #008080; text-decoration-color: #008080\">        0</span> │ <span style=\"color: #008080; text-decoration-color: #008080\">      0</span> │ <span style=\"color: #008080; text-decoration-color: #008080\">   0.15</span> │ <span style=\"color: #008080; text-decoration-color: #008080\">   0.78</span> │ <span style=\"color: #008080; text-decoration-color: #008080\">   0</span> │ <span style=\"color: #008080; text-decoration-color: #008080\">    0</span> │ <span style=\"color: #008080; text-decoration-color: #008080\">       0</span> │ <span style=\"color: #008080; text-decoration-color: #008080\">     27</span> │ <span style=\"color: #008000; text-decoration-color: #008000\">   █    </span> │  │\n",
       "│ │ <span style=\"color: #af87ff; text-decoration-color: #af87ff\">Bergama          </span> │ <span style=\"color: #008080; text-decoration-color: #008080\">    27000</span> │ <span style=\"color: #008080; text-decoration-color: #008080\">     70</span> │ <span style=\"color: #008080; text-decoration-color: #008080\">   0.31</span> │ <span style=\"color: #008080; text-decoration-color: #008080\">    1.2</span> │ <span style=\"color: #008080; text-decoration-color: #008080\">   0</span> │ <span style=\"color: #008080; text-decoration-color: #008080\">    0</span> │ <span style=\"color: #008080; text-decoration-color: #008080\">       0</span> │ <span style=\"color: #008080; text-decoration-color: #008080\">     27</span> │ <span style=\"color: #008000; text-decoration-color: #008000\">   █    </span> │  │\n",
       "│ │ <span style=\"color: #af87ff; text-decoration-color: #af87ff\">Manisa           </span> │ <span style=\"color: #008080; text-decoration-color: #008080\">        0</span> │ <span style=\"color: #008080; text-decoration-color: #008080\">      0</span> │ <span style=\"color: #008080; text-decoration-color: #008080\">   0.16</span> │ <span style=\"color: #008080; text-decoration-color: #008080\">      1</span> │ <span style=\"color: #008080; text-decoration-color: #008080\">   0</span> │ <span style=\"color: #008080; text-decoration-color: #008080\">    0</span> │ <span style=\"color: #008080; text-decoration-color: #008080\">   0.001</span> │ <span style=\"color: #008080; text-decoration-color: #008080\">     41</span> │ <span style=\"color: #008000; text-decoration-color: #008000\">   █    </span> │  │\n",
       "│ │ <span style=\"color: #af87ff; text-decoration-color: #af87ff\">Akhisar          </span> │ <span style=\"color: #008080; text-decoration-color: #008080\">        0</span> │ <span style=\"color: #008080; text-decoration-color: #008080\">      0</span> │ <span style=\"color: #008080; text-decoration-color: #008080\">   0.13</span> │ <span style=\"color: #008080; text-decoration-color: #008080\">   0.82</span> │ <span style=\"color: #008080; text-decoration-color: #008080\">   0</span> │ <span style=\"color: #008080; text-decoration-color: #008080\">    0</span> │ <span style=\"color: #008080; text-decoration-color: #008080\">       0</span> │ <span style=\"color: #008080; text-decoration-color: #008080\">     50</span> │ <span style=\"color: #008000; text-decoration-color: #008000\">   █    </span> │  │\n",
       "│ │ <span style=\"color: #af87ff; text-decoration-color: #af87ff\">Salihli          </span> │ <span style=\"color: #008080; text-decoration-color: #008080\">    27000</span> │ <span style=\"color: #008080; text-decoration-color: #008080\">     70</span> │ <span style=\"color: #008080; text-decoration-color: #008080\">   0.28</span> │ <span style=\"color: #008080; text-decoration-color: #008080\">    1.1</span> │ <span style=\"color: #008080; text-decoration-color: #008080\">   0</span> │ <span style=\"color: #008080; text-decoration-color: #008080\">    0</span> │ <span style=\"color: #008080; text-decoration-color: #008080\">   0.021</span> │ <span style=\"color: #008080; text-decoration-color: #008080\">     21</span> │ <span style=\"color: #008000; text-decoration-color: #008000\">   █    </span> │  │\n",
       "│ │ <span style=\"color: #af87ff; text-decoration-color: #af87ff\">Çiğli            </span> │ <span style=\"color: #008080; text-decoration-color: #008080\">    27000</span> │ <span style=\"color: #008080; text-decoration-color: #008080\">     70</span> │ <span style=\"color: #008080; text-decoration-color: #008080\">   0.31</span> │ <span style=\"color: #008080; text-decoration-color: #008080\">    1.4</span> │ <span style=\"color: #008080; text-decoration-color: #008080\">   0</span> │ <span style=\"color: #008080; text-decoration-color: #008080\">    0</span> │ <span style=\"color: #008080; text-decoration-color: #008080\">       0</span> │ <span style=\"color: #008080; text-decoration-color: #008080\">     31</span> │ <span style=\"color: #008000; text-decoration-color: #008000\">   █    </span> │  │\n",
       "│ │ <span style=\"color: #af87ff; text-decoration-color: #af87ff\">Menderes         </span> │ <span style=\"color: #008080; text-decoration-color: #008080\">    27000</span> │ <span style=\"color: #008080; text-decoration-color: #008080\">     70</span> │ <span style=\"color: #008080; text-decoration-color: #008080\">   0.35</span> │ <span style=\"color: #008080; text-decoration-color: #008080\">    1.6</span> │ <span style=\"color: #008080; text-decoration-color: #008080\">   0</span> │ <span style=\"color: #008080; text-decoration-color: #008080\">    0</span> │ <span style=\"color: #008080; text-decoration-color: #008080\">       0</span> │ <span style=\"color: #008080; text-decoration-color: #008080\">     36</span> │ <span style=\"color: #008000; text-decoration-color: #008000\">   █    </span> │  │\n",
       "│ │ <span style=\"color: #af87ff; text-decoration-color: #af87ff\">Alaşehir         </span> │ <span style=\"color: #008080; text-decoration-color: #008080\">    27000</span> │ <span style=\"color: #008080; text-decoration-color: #008080\">     70</span> │ <span style=\"color: #008080; text-decoration-color: #008080\">   0.27</span> │ <span style=\"color: #008080; text-decoration-color: #008080\">    1.1</span> │ <span style=\"color: #008080; text-decoration-color: #008080\">   0</span> │ <span style=\"color: #008080; text-decoration-color: #008080\">    0</span> │ <span style=\"color: #008080; text-decoration-color: #008080\">       0</span> │ <span style=\"color: #008080; text-decoration-color: #008080\">     21</span> │ <span style=\"color: #008000; text-decoration-color: #008000\">   █    </span> │  │\n",
       "│ │ <span style=\"color: #af87ff; text-decoration-color: #af87ff\">Demirci          </span> │ <span style=\"color: #008080; text-decoration-color: #008080\">    27000</span> │ <span style=\"color: #008080; text-decoration-color: #008080\">     70</span> │ <span style=\"color: #008080; text-decoration-color: #008080\">   0.27</span> │ <span style=\"color: #008080; text-decoration-color: #008080\">    1.1</span> │ <span style=\"color: #008080; text-decoration-color: #008080\">   0</span> │ <span style=\"color: #008080; text-decoration-color: #008080\">    0</span> │ <span style=\"color: #008080; text-decoration-color: #008080\">   0.042</span> │ <span style=\"color: #008080; text-decoration-color: #008080\">     15</span> │ <span style=\"color: #008000; text-decoration-color: #008000\">   █    </span> │  │\n",
       "│ │ <span style=\"color: #af87ff; text-decoration-color: #af87ff\">Güzelyalı        </span> │ <span style=\"color: #008080; text-decoration-color: #008080\">      310</span> │ <span style=\"color: #008080; text-decoration-color: #008080\">    0.8</span> │ <span style=\"color: #008080; text-decoration-color: #008080\">   0.15</span> │ <span style=\"color: #008080; text-decoration-color: #008080\">    0.9</span> │ <span style=\"color: #008080; text-decoration-color: #008080\">   0</span> │ <span style=\"color: #008080; text-decoration-color: #008080\">    0</span> │ <span style=\"color: #008080; text-decoration-color: #008080\">       0</span> │ <span style=\"color: #008080; text-decoration-color: #008080\">     33</span> │ <span style=\"color: #008000; text-decoration-color: #008000\">   █    </span> │  │\n",
       "│ │ <span style=\"color: #af87ff; text-decoration-color: #af87ff\">Kula             </span> │ <span style=\"color: #008080; text-decoration-color: #008080\">    27000</span> │ <span style=\"color: #008080; text-decoration-color: #008080\">     70</span> │ <span style=\"color: #008080; text-decoration-color: #008080\">   0.27</span> │ <span style=\"color: #008080; text-decoration-color: #008080\">    1.1</span> │ <span style=\"color: #008080; text-decoration-color: #008080\">   0</span> │ <span style=\"color: #008080; text-decoration-color: #008080\">    0</span> │ <span style=\"color: #008080; text-decoration-color: #008080\">       0</span> │ <span style=\"color: #008080; text-decoration-color: #008080\">     21</span> │ <span style=\"color: #008000; text-decoration-color: #008000\">   █    </span> │  │\n",
       "│ │ <span style=\"color: #af87ff; text-decoration-color: #af87ff\">Ödemiş           </span> │ <span style=\"color: #008080; text-decoration-color: #008080\">    27000</span> │ <span style=\"color: #008080; text-decoration-color: #008080\">     70</span> │ <span style=\"color: #008080; text-decoration-color: #008080\">   0.33</span> │ <span style=\"color: #008080; text-decoration-color: #008080\">    1.3</span> │ <span style=\"color: #008080; text-decoration-color: #008080\">   0</span> │ <span style=\"color: #008080; text-decoration-color: #008080\">    0</span> │ <span style=\"color: #008080; text-decoration-color: #008080\">       0</span> │ <span style=\"color: #008080; text-decoration-color: #008080\">     24</span> │ <span style=\"color: #008000; text-decoration-color: #008000\">   █    </span> │  │\n",
       "│ │ <span style=\"color: #af87ff; text-decoration-color: #af87ff\">Soma             </span> │ <span style=\"color: #008080; text-decoration-color: #008080\">    27000</span> │ <span style=\"color: #008080; text-decoration-color: #008080\">     70</span> │ <span style=\"color: #008080; text-decoration-color: #008080\">   0.28</span> │ <span style=\"color: #008080; text-decoration-color: #008080\">    1.3</span> │ <span style=\"color: #008080; text-decoration-color: #008080\">   0</span> │ <span style=\"color: #008080; text-decoration-color: #008080\">    0</span> │ <span style=\"color: #008080; text-decoration-color: #008080\">       0</span> │ <span style=\"color: #008080; text-decoration-color: #008080\">     25</span> │ <span style=\"color: #008000; text-decoration-color: #008000\">   █    </span> │  │\n",
       "│ │ <span style=\"color: #af87ff; text-decoration-color: #af87ff\">Urla             </span> │ <span style=\"color: #008080; text-decoration-color: #008080\">    27000</span> │ <span style=\"color: #008080; text-decoration-color: #008080\">     70</span> │ <span style=\"color: #008080; text-decoration-color: #008080\">    0.3</span> │ <span style=\"color: #008080; text-decoration-color: #008080\">    1.4</span> │ <span style=\"color: #008080; text-decoration-color: #008080\">   0</span> │ <span style=\"color: #008080; text-decoration-color: #008080\">    0</span> │ <span style=\"color: #008080; text-decoration-color: #008080\">       0</span> │ <span style=\"color: #008080; text-decoration-color: #008080\">     31</span> │ <span style=\"color: #008000; text-decoration-color: #008000\">   █    </span> │  │\n",
       "│ └───────────────────┴───────────┴─────────┴─────────┴─────────┴──────┴───────┴──────────┴─────────┴──────────┘  │\n",
       "│ <span style=\"font-style: italic\">                                                    string                                                    </span>  │\n",
       "│ ┏━━━━━━━━━━━━━━━━━━━━━━━━━━━┳━━━━━━━━━┳━━━━━━━━━━━━┳━━━━━━━━━━━━━━━━━━━━━━━━━━━━━━┳━━━━━━━━━━━━━━━━━━━━━━━━━━┓  │\n",
       "│ ┃<span style=\"font-weight: bold\"> column_name               </span>┃<span style=\"font-weight: bold\"> NA      </span>┃<span style=\"font-weight: bold\"> NA %       </span>┃<span style=\"font-weight: bold\"> words per row                </span>┃<span style=\"font-weight: bold\"> total words              </span>┃  │\n",
       "│ ┡━━━━━━━━━━━━━━━━━━━━━━━━━━━╇━━━━━━━━━╇━━━━━━━━━━━━╇━━━━━━━━━━━━━━━━━━━━━━━━━━━━━━╇━━━━━━━━━━━━━━━━━━━━━━━━━━┩  │\n",
       "│ │ <span style=\"color: #af87ff; text-decoration-color: #af87ff\">Tarih                    </span> │ <span style=\"color: #008080; text-decoration-color: #008080\">      0</span> │ <span style=\"color: #008080; text-decoration-color: #008080\">         0</span> │ <span style=\"color: #008080; text-decoration-color: #008080\">                           2</span> │ <span style=\"color: #008080; text-decoration-color: #008080\">                   78000</span> │  │\n",
       "│ └───────────────────────────┴─────────┴────────────┴──────────────────────────────┴──────────────────────────┘  │\n",
       "╰────────────────────────────────────────────────────── End ──────────────────────────────────────────────────────╯\n",
       "</pre>\n"
      ],
      "text/plain": [
       "╭──────────────────────────────────────────────── skimpy summary ─────────────────────────────────────────────────╮\n",
       "│ \u001b[3m         Data Summary         \u001b[0m \u001b[3m      Data Types       \u001b[0m                                                          │\n",
       "│ ┏━━━━━━━━━━━━━━━━━━━┳━━━━━━━━┓ ┏━━━━━━━━━━━━━┳━━━━━━━┓                                                          │\n",
       "│ ┃\u001b[1;36m \u001b[0m\u001b[1;36mdataframe        \u001b[0m\u001b[1;36m \u001b[0m┃\u001b[1;36m \u001b[0m\u001b[1;36mValues\u001b[0m\u001b[1;36m \u001b[0m┃ ┃\u001b[1;36m \u001b[0m\u001b[1;36mColumn Type\u001b[0m\u001b[1;36m \u001b[0m┃\u001b[1;36m \u001b[0m\u001b[1;36mCount\u001b[0m\u001b[1;36m \u001b[0m┃                                                          │\n",
       "│ ┡━━━━━━━━━━━━━━━━━━━╇━━━━━━━━┩ ┡━━━━━━━━━━━━━╇━━━━━━━┩                                                          │\n",
       "│ │ Number of rows    │ 38832  │ │ float64     │ 16    │                                                          │\n",
       "│ │ Number of columns │ 17     │ │ string      │ 1     │                                                          │\n",
       "│ └───────────────────┴────────┘ └─────────────┴───────┘                                                          │\n",
       "│ \u001b[3m                                                    number                                                    \u001b[0m  │\n",
       "│ ┏━━━━━━━━━━━━━━━━━━━┳━━━━━━━━━━━┳━━━━━━━━━┳━━━━━━━━━┳━━━━━━━━━┳━━━━━━┳━━━━━━━┳━━━━━━━━━━┳━━━━━━━━━┳━━━━━━━━━━┓  │\n",
       "│ ┃\u001b[1m \u001b[0m\u001b[1mcolumn_name      \u001b[0m\u001b[1m \u001b[0m┃\u001b[1m \u001b[0m\u001b[1mNA       \u001b[0m\u001b[1m \u001b[0m┃\u001b[1m \u001b[0m\u001b[1mNA %   \u001b[0m\u001b[1m \u001b[0m┃\u001b[1m \u001b[0m\u001b[1mmean   \u001b[0m\u001b[1m \u001b[0m┃\u001b[1m \u001b[0m\u001b[1msd     \u001b[0m\u001b[1m \u001b[0m┃\u001b[1m \u001b[0m\u001b[1mp0  \u001b[0m\u001b[1m \u001b[0m┃\u001b[1m \u001b[0m\u001b[1mp25  \u001b[0m\u001b[1m \u001b[0m┃\u001b[1m \u001b[0m\u001b[1mp75     \u001b[0m\u001b[1m \u001b[0m┃\u001b[1m \u001b[0m\u001b[1mp100   \u001b[0m\u001b[1m \u001b[0m┃\u001b[1m \u001b[0m\u001b[1mhist    \u001b[0m\u001b[1m \u001b[0m┃  │\n",
       "│ ┡━━━━━━━━━━━━━━━━━━━╇━━━━━━━━━━━╇━━━━━━━━━╇━━━━━━━━━╇━━━━━━━━━╇━━━━━━╇━━━━━━━╇━━━━━━━━━━╇━━━━━━━━━╇━━━━━━━━━━┩  │\n",
       "│ │ \u001b[38;5;141mİzmir            \u001b[0m │ \u001b[36m    27000\u001b[0m │ \u001b[36m     70\u001b[0m │ \u001b[36m   0.31\u001b[0m │ \u001b[36m    1.4\u001b[0m │ \u001b[36m   0\u001b[0m │ \u001b[36m    0\u001b[0m │ \u001b[36m       0\u001b[0m │ \u001b[36m     31\u001b[0m │ \u001b[32m   █    \u001b[0m │  │\n",
       "│ │ \u001b[38;5;141mAliağa           \u001b[0m │ \u001b[36m    27000\u001b[0m │ \u001b[36m     70\u001b[0m │ \u001b[36m   0.31\u001b[0m │ \u001b[36m    1.2\u001b[0m │ \u001b[36m   0\u001b[0m │ \u001b[36m    0\u001b[0m │ \u001b[36m       0\u001b[0m │ \u001b[36m     27\u001b[0m │ \u001b[32m   █    \u001b[0m │  │\n",
       "│ │ \u001b[38;5;141mÇeşme            \u001b[0m │ \u001b[36m        0\u001b[0m │ \u001b[36m      0\u001b[0m │ \u001b[36m   0.15\u001b[0m │ \u001b[36m   0.78\u001b[0m │ \u001b[36m   0\u001b[0m │ \u001b[36m    0\u001b[0m │ \u001b[36m       0\u001b[0m │ \u001b[36m     27\u001b[0m │ \u001b[32m   █    \u001b[0m │  │\n",
       "│ │ \u001b[38;5;141mBergama          \u001b[0m │ \u001b[36m    27000\u001b[0m │ \u001b[36m     70\u001b[0m │ \u001b[36m   0.31\u001b[0m │ \u001b[36m    1.2\u001b[0m │ \u001b[36m   0\u001b[0m │ \u001b[36m    0\u001b[0m │ \u001b[36m       0\u001b[0m │ \u001b[36m     27\u001b[0m │ \u001b[32m   █    \u001b[0m │  │\n",
       "│ │ \u001b[38;5;141mManisa           \u001b[0m │ \u001b[36m        0\u001b[0m │ \u001b[36m      0\u001b[0m │ \u001b[36m   0.16\u001b[0m │ \u001b[36m      1\u001b[0m │ \u001b[36m   0\u001b[0m │ \u001b[36m    0\u001b[0m │ \u001b[36m   0.001\u001b[0m │ \u001b[36m     41\u001b[0m │ \u001b[32m   █    \u001b[0m │  │\n",
       "│ │ \u001b[38;5;141mAkhisar          \u001b[0m │ \u001b[36m        0\u001b[0m │ \u001b[36m      0\u001b[0m │ \u001b[36m   0.13\u001b[0m │ \u001b[36m   0.82\u001b[0m │ \u001b[36m   0\u001b[0m │ \u001b[36m    0\u001b[0m │ \u001b[36m       0\u001b[0m │ \u001b[36m     50\u001b[0m │ \u001b[32m   █    \u001b[0m │  │\n",
       "│ │ \u001b[38;5;141mSalihli          \u001b[0m │ \u001b[36m    27000\u001b[0m │ \u001b[36m     70\u001b[0m │ \u001b[36m   0.28\u001b[0m │ \u001b[36m    1.1\u001b[0m │ \u001b[36m   0\u001b[0m │ \u001b[36m    0\u001b[0m │ \u001b[36m   0.021\u001b[0m │ \u001b[36m     21\u001b[0m │ \u001b[32m   █    \u001b[0m │  │\n",
       "│ │ \u001b[38;5;141mÇiğli            \u001b[0m │ \u001b[36m    27000\u001b[0m │ \u001b[36m     70\u001b[0m │ \u001b[36m   0.31\u001b[0m │ \u001b[36m    1.4\u001b[0m │ \u001b[36m   0\u001b[0m │ \u001b[36m    0\u001b[0m │ \u001b[36m       0\u001b[0m │ \u001b[36m     31\u001b[0m │ \u001b[32m   █    \u001b[0m │  │\n",
       "│ │ \u001b[38;5;141mMenderes         \u001b[0m │ \u001b[36m    27000\u001b[0m │ \u001b[36m     70\u001b[0m │ \u001b[36m   0.35\u001b[0m │ \u001b[36m    1.6\u001b[0m │ \u001b[36m   0\u001b[0m │ \u001b[36m    0\u001b[0m │ \u001b[36m       0\u001b[0m │ \u001b[36m     36\u001b[0m │ \u001b[32m   █    \u001b[0m │  │\n",
       "│ │ \u001b[38;5;141mAlaşehir         \u001b[0m │ \u001b[36m    27000\u001b[0m │ \u001b[36m     70\u001b[0m │ \u001b[36m   0.27\u001b[0m │ \u001b[36m    1.1\u001b[0m │ \u001b[36m   0\u001b[0m │ \u001b[36m    0\u001b[0m │ \u001b[36m       0\u001b[0m │ \u001b[36m     21\u001b[0m │ \u001b[32m   █    \u001b[0m │  │\n",
       "│ │ \u001b[38;5;141mDemirci          \u001b[0m │ \u001b[36m    27000\u001b[0m │ \u001b[36m     70\u001b[0m │ \u001b[36m   0.27\u001b[0m │ \u001b[36m    1.1\u001b[0m │ \u001b[36m   0\u001b[0m │ \u001b[36m    0\u001b[0m │ \u001b[36m   0.042\u001b[0m │ \u001b[36m     15\u001b[0m │ \u001b[32m   █    \u001b[0m │  │\n",
       "│ │ \u001b[38;5;141mGüzelyalı        \u001b[0m │ \u001b[36m      310\u001b[0m │ \u001b[36m    0.8\u001b[0m │ \u001b[36m   0.15\u001b[0m │ \u001b[36m    0.9\u001b[0m │ \u001b[36m   0\u001b[0m │ \u001b[36m    0\u001b[0m │ \u001b[36m       0\u001b[0m │ \u001b[36m     33\u001b[0m │ \u001b[32m   █    \u001b[0m │  │\n",
       "│ │ \u001b[38;5;141mKula             \u001b[0m │ \u001b[36m    27000\u001b[0m │ \u001b[36m     70\u001b[0m │ \u001b[36m   0.27\u001b[0m │ \u001b[36m    1.1\u001b[0m │ \u001b[36m   0\u001b[0m │ \u001b[36m    0\u001b[0m │ \u001b[36m       0\u001b[0m │ \u001b[36m     21\u001b[0m │ \u001b[32m   █    \u001b[0m │  │\n",
       "│ │ \u001b[38;5;141mÖdemiş           \u001b[0m │ \u001b[36m    27000\u001b[0m │ \u001b[36m     70\u001b[0m │ \u001b[36m   0.33\u001b[0m │ \u001b[36m    1.3\u001b[0m │ \u001b[36m   0\u001b[0m │ \u001b[36m    0\u001b[0m │ \u001b[36m       0\u001b[0m │ \u001b[36m     24\u001b[0m │ \u001b[32m   █    \u001b[0m │  │\n",
       "│ │ \u001b[38;5;141mSoma             \u001b[0m │ \u001b[36m    27000\u001b[0m │ \u001b[36m     70\u001b[0m │ \u001b[36m   0.28\u001b[0m │ \u001b[36m    1.3\u001b[0m │ \u001b[36m   0\u001b[0m │ \u001b[36m    0\u001b[0m │ \u001b[36m       0\u001b[0m │ \u001b[36m     25\u001b[0m │ \u001b[32m   █    \u001b[0m │  │\n",
       "│ │ \u001b[38;5;141mUrla             \u001b[0m │ \u001b[36m    27000\u001b[0m │ \u001b[36m     70\u001b[0m │ \u001b[36m    0.3\u001b[0m │ \u001b[36m    1.4\u001b[0m │ \u001b[36m   0\u001b[0m │ \u001b[36m    0\u001b[0m │ \u001b[36m       0\u001b[0m │ \u001b[36m     31\u001b[0m │ \u001b[32m   █    \u001b[0m │  │\n",
       "│ └───────────────────┴───────────┴─────────┴─────────┴─────────┴──────┴───────┴──────────┴─────────┴──────────┘  │\n",
       "│ \u001b[3m                                                    string                                                    \u001b[0m  │\n",
       "│ ┏━━━━━━━━━━━━━━━━━━━━━━━━━━━┳━━━━━━━━━┳━━━━━━━━━━━━┳━━━━━━━━━━━━━━━━━━━━━━━━━━━━━━┳━━━━━━━━━━━━━━━━━━━━━━━━━━┓  │\n",
       "│ ┃\u001b[1m \u001b[0m\u001b[1mcolumn_name              \u001b[0m\u001b[1m \u001b[0m┃\u001b[1m \u001b[0m\u001b[1mNA     \u001b[0m\u001b[1m \u001b[0m┃\u001b[1m \u001b[0m\u001b[1mNA %      \u001b[0m\u001b[1m \u001b[0m┃\u001b[1m \u001b[0m\u001b[1mwords per row               \u001b[0m\u001b[1m \u001b[0m┃\u001b[1m \u001b[0m\u001b[1mtotal words             \u001b[0m\u001b[1m \u001b[0m┃  │\n",
       "│ ┡━━━━━━━━━━━━━━━━━━━━━━━━━━━╇━━━━━━━━━╇━━━━━━━━━━━━╇━━━━━━━━━━━━━━━━━━━━━━━━━━━━━━╇━━━━━━━━━━━━━━━━━━━━━━━━━━┩  │\n",
       "│ │ \u001b[38;5;141mTarih                    \u001b[0m │ \u001b[36m      0\u001b[0m │ \u001b[36m         0\u001b[0m │ \u001b[36m                           2\u001b[0m │ \u001b[36m                   78000\u001b[0m │  │\n",
       "│ └───────────────────────────┴─────────┴────────────┴──────────────────────────────┴──────────────────────────┘  │\n",
       "╰────────────────────────────────────────────────────── End ──────────────────────────────────────────────────────╯\n"
      ]
     },
     "metadata": {},
     "output_type": "display_data"
    }
   ],
   "source": [
    "skim(df_rain)"
   ]
  },
  {
   "cell_type": "code",
   "execution_count": null,
   "metadata": {},
   "outputs": [],
   "source": []
  }
 ],
 "metadata": {
  "kernelspec": {
   "display_name": "Python 3.9.7 ('base')",
   "language": "python",
   "name": "python3"
  },
  "language_info": {
   "codemirror_mode": {
    "name": "ipython",
    "version": 3
   },
   "file_extension": ".py",
   "mimetype": "text/x-python",
   "name": "python",
   "nbconvert_exporter": "python",
   "pygments_lexer": "ipython3",
   "version": "3.9.7"
  },
  "orig_nbformat": 4,
  "vscode": {
   "interpreter": {
    "hash": "c0213b4e991faad0eaee93c2092d45d01284204b86fafe651bbf22ab4807397a"
   }
  }
 },
 "nbformat": 4,
 "nbformat_minor": 2
}
